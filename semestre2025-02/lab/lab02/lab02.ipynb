{
 "cells": [
  {
   "cell_type": "code",
   "execution_count": null,
   "id": "1f3faea3",
   "metadata": {
    "deletable": false,
    "editable": false
   },
   "outputs": [],
   "source": [
    "# Initialize Otter\n",
    "import otter\n",
    "grader = otter.Notebook(\"lab02.ipynb\")"
   ]
  },
  {
   "cell_type": "markdown",
   "id": "b94c7e67",
   "metadata": {},
   "source": [
    "<!-- <a href=\"https://colab.research.google.com/github/develop_otter/material_20242/blob/main/lab/lab01/lab01_.ipynb\" target=\"_parent\"><img src=\"https://colab.research.google.com/assets/colab-badge.svg\" alt=\"Open In Colab\"/></a> -->"
   ]
  },
  {
   "cell_type": "code",
   "execution_count": null,
   "id": "33b93643",
   "metadata": {},
   "outputs": [],
   "source": [
    "import otter\n",
    "import pandas as pd\n",
    "import numpy as np\n",
    "import matplotlib.pylab as plt\n",
    "from datascience import *\n",
    "%matplotlib inline"
   ]
  },
  {
   "cell_type": "markdown",
   "id": "qMi-y4rRUIBx",
   "metadata": {
    "id": "qMi-y4rRUIBx"
   },
   "source": [
    "<p><img alt=\"Colaborat\" style=\"height: 220px;\" src=\"Fig_01_Escudo-UdeA.png\" align=\"left\" hspace=\"10px\" vspace=\"0px\"></p>\n",
    "\n",
    "\n",
    "# Fundamentos en ciencias de datos\n",
    "\n",
    "\n",
    "## Laboratorio 2: Operaciones con tablas\n",
    "\n",
    "¡Bienvenidos al Laboratorio 2! Esta semana, aprenderemos cómo importar un módulo y prácticaremos operaciones con tablas. Algunas referencias estan dadas en el siguiente  [enlace](https://www.data8.org/fa23/reference/), el cual tiene información útil para este práctica de laboratorio.\n",
    "\n",
    "**Lectura recomendada**:\n",
    "  * [Introducción a las Tablas](https://www.inferentialthinking.com/chapters/03/4/Introduction_to_Tables)\n",
    "\n",
    "Como recordatorio, estas son las políticas para obtener una nota completa:\n",
    "\n",
    "1. Recuerden que  recibiran el 80% del laboratorio solo con **asistir** a la sección de los viernes laboratorio y lograr un progreso significativo en ```notebook de jupyter```.\n",
    "\n",
    "\n",
    "\n",
    "**Envío**: Una vez que haya terminado, ejecute todas las celdas además de la última, seleccione Archivo > Guardar cuaderno y luego ejecute la celda final. El resultado contendrá un archivo zip que podrá utilizar para enviarlo.\n",
    "\n",
    "Comencemos configurando las pruebas e importaciones ejecutando la siguiente celda."
   ]
  },
  {
   "cell_type": "markdown",
   "id": "a76a2919-e91f-4e84-b6ac-e6d18e5f47b8",
   "metadata": {
    "deletable": false,
    "editable": false
   },
   "source": [
    "<!-- BEGIN QUESTION -->\n",
    "\n",
    "Ingresa tu nombre  con apellido y número de carnet en las variables dadas en la celda siguiente:\n",
    "Ejemplo:\n",
    "```python\n",
    "NombreApellidos=\"Ada Lovelace\"\n",
    "NumeroCarnet=\"27182818\"\n",
    "Email=\"Ada.Lovelace@udea.edu.co\"\n",
    "```"
   ]
  },
  {
   "cell_type": "code",
   "execution_count": null,
   "id": "bbd22f45-a3fd-4e20-bca7-7d9a7ea32b2a",
   "metadata": {
    "tags": []
   },
   "outputs": [],
   "source": [
    "NombreApellidos=\"...\"\n",
    "NumeroCarnet=\"..\"\n",
    "Email=\"...\""
   ]
  },
  {
   "cell_type": "code",
   "execution_count": null,
   "id": "3577d06b",
   "metadata": {
    "deletable": false,
    "editable": false
   },
   "outputs": [],
   "source": [
    "grader.check(\"qt\")"
   ]
  },
  {
   "cell_type": "markdown",
   "id": "b-j67N-IUIB1",
   "metadata": {
    "deletable": false,
    "editable": false,
    "id": "b-j67N-IUIB1"
   },
   "source": [
    "<!-- END QUESTION -->\n",
    "\n",
    "# 1. Revisión: Los componentes básicos del código Python\n",
    "\n",
    "Los dos bloques de construcción del código Python son *expresiones* y *declaraciones*. Una **expresión** es un fragmento de código que:\n",
    "\n",
    "-  Es autónomo, lo que significa que tendría sentido escribirlo en una línea por sí solo, y\n",
    "-  generalmente se evalúa como un valor.\n",
    "\n",
    "\n",
    "Aquí hay dos expresiones que se evalúan como 3:\n",
    "\n",
    "     3\n",
    "     5 - 2\n",
    "    \n",
    "Un tipo importante de expresión es : ```call expression``` en inglés o  **expresión de ejecución**. Una expresión de ejecución  se utilizan para describir la acción de llamar o invocar una función o método en programación,  comienza con el nombre de una función y va seguida de los argumentos de esa función entre paréntesis. La función devuelve algún valor, según sus argumentos. Algunas funciones matemáticas importantes se enumeran a continuación.\n",
    "\n",
    "| Función | Descripción |\n",
    "|----------|------------|\n",
    "| `abs` | Devuelve el valor absoluto de su argumento |\n",
    "| `max` | Devuelve el máximo de todos sus argumentos |\n",
    "| `min` | Devuelve el mínimo de todos sus argumentos |\n",
    "| `pow` | Eleva su primer argumento a la potencia de su segundo argumento |\n",
    "| `round` | Redondea su argumento al entero más cercano |\n",
    "\n",
    "Aquí hay dos expresiones de ejecución que se evalúan como 3:\n",
    "\n",
    "     abs(2 - 5)\n",
    "     max(round(2.8), min(pow(2, 10), -1 * pow(2, 10)))\n",
    "\n",
    "La expresión `2 - 5` y las dos llamadas de ejecuciones  anteriores,  son ejemplos de **expresiones compuestas**, lo que significa que en realidad son combinaciones de varias expresiones más pequeñas. `2 - 5` combina las expresiones `2` y `5` mediante resta. En este caso, `2` y `5` se denominan **subexpresiones** porque son expresiones que forman parte de una expresión más grande.\n",
    "\n",
    "Una **declaración** es una línea completa de código. Algunas declaraciones son sólo expresiones. Las expresiones enumeradas anteriormente son ejemplos.\n",
    "\n",
    "Otras declaraciones *hacen que algo suceda* en lugar de *tener un valor*. Por ejemplo, una **declaración de asignación** asigna un valor a un nombre.\n",
    "\n",
    "Una buena forma de pensar en esto es que estamos **evaluando el lado derecho** del signo igual y **asignándolo al lado izquierdo**. Aquí hay algunas declaraciones de asignación:\n",
    "    \n",
    "     altura = 1.3\n",
    "     num_cinco = abs(-5)\n",
    "     dif_altura_abs = abs(altura - 1.688)\n",
    "\n",
    "Una idea importante en programación es que se pueden construir cosas grandes e interesantes combinando muchas cosas simples y poco interesantes. La clave para comprender un código complicado es **dividirlo en sus componentes simples**\n",
    "\n",
    "Por ejemplo, suceden muchas operaciones en la última declaración como combinación operaciones más básicas. La siguiente  imagen describe mejor lo que está pasando (Notese que algunos nombres están en inglés,  para ir familiarizandose con algunos nombres que son de interés en python) \n",
    "\n",
    "<img src=\"Fig_02_Expresiones.png\">"
   ]
  },
  {
   "cell_type": "markdown",
   "id": "9a6e4db9",
   "metadata": {
    "deletable": false,
    "editable": false
   },
   "source": [
    "**Pregunta 1.1.** En la siguiente celda, asigne el nombre `nuevo_anio` al **número mayor** entre los dos números siguientes:\n",
    "\n",
    "-  el **valor absoluto** de $2^{6}-2^{11}-2^{5} - 8$, y\n",
    "-  $5 \\times 13 \\times 31 + 7$.\n",
    "\n",
    "Intente utilizar solo una declaración (una línea de código). Asegúrese de verificar su trabajo ejecutando la celda de prueba después."
   ]
  },
  {
   "cell_type": "code",
   "execution_count": null,
   "id": "dd509e70",
   "metadata": {
    "tags": []
   },
   "outputs": [],
   "source": [
    "\n",
    "nuevo_anio=..."
   ]
  },
  {
   "cell_type": "code",
   "execution_count": null,
   "id": "da895628",
   "metadata": {
    "deletable": false,
    "editable": false
   },
   "outputs": [],
   "source": [
    "grader.check(\"q11\")"
   ]
  },
  {
   "cell_type": "markdown",
   "id": "AtF2G0DdUIB4",
   "metadata": {
    "id": "AtF2G0DdUIB4"
   },
   "source": [
    "En el ejemplo anterior, creamos una sola línea de código porque solo involucra operaciones matemáticas. Sin embargo, las preguntas de programación más complicadas requerirán más pasos. No siempre es una buena idea agrupar estos pasos en una sola línea porque puede hacer que el código sea más difícil de leer y de depurar.\n",
    "\n",
    "Una buena práctica de programación implica dividir el código en pasos más pequeños y utilizar nombres apropiados. ¡Tendrás mucha práctica en el resto de este curso!"
   ]
  },
  {
   "cell_type": "markdown",
   "id": "Wpet8FHOUIB5",
   "metadata": {
    "id": "Wpet8FHOUIB5"
   },
   "source": [
    "# 2. Importación de código\n",
    "\n",
    "La mayor parte de la programación implica un trabajo muy similar al trabajo que se ha realizado antes. Dado que escribir código lleva mucho tiempo, es bueno confiar en el código publicado por otros cuando sea posible. En lugar de copiar y pegar, Python nos permite **importar módulos**. Un módulo es un archivo con código Python que tiene variables y funciones definidas. Al importar un módulo, podemos usar su código en nuestro propio cuaderno.\n",
    "\n",
    "Python incluye muchos módulos útiles que están a sólo una \"importación\" de distancia. Veremos el módulo \"math\" como primer ejemplo. El módulo \"math\" es extremadamente útil para calcular expresiones matemáticas en Python.\n",
    "\n",
    "Supongamos que queremos calcular con mucha precisión el área de un círculo A con un radio R de 5 metros. Para eso, necesitamos la constante $\\pi$, que es aproximadamente 3.14. Convenientemente, el módulo \"math\" tiene \"pi\" definido para nosotros. Ejecute la siguiente celda para importar el módulo matemático:\n",
    "\n",
    "\\begin{equation}\n",
    "A = \\pi R^2 = \\pi 5^2\\  \\text{m}^2\n",
    "\\end{equation}"
   ]
  },
  {
   "cell_type": "code",
   "execution_count": null,
   "id": "0a7258a9",
   "metadata": {},
   "outputs": [],
   "source": [
    "import math\n",
    "radio = 5\n",
    "area_del_circulo = radio**2 * math.pi\n",
    "area_del_circulo"
   ]
  },
  {
   "cell_type": "markdown",
   "id": "VR0qyxkKUIB6",
   "metadata": {
    "id": "VR0qyxkKUIB6"
   },
   "source": [
    "En el código anterior, la línea \"import math\" importa el módulo matemático. Esta declaración crea un módulo y luego asigna el nombre \"math\" a ese módulo. Ahora podemos acceder a cualquier variable o función definida en `math` escribiendo el nombre del módulo seguido de un punto, luego seguido del nombre de la variable o función que queremos.\n",
    "\n",
    "     <nombre del módulo>.<nombre>"
   ]
  },
  {
   "cell_type": "markdown",
   "id": "c51c8ba9",
   "metadata": {
    "deletable": false,
    "editable": false
   },
   "source": [
    "**Pregunta 2.1.** El módulo `math` también proporciona el nombre `e` para la base del logaritmo natural, que es aproximadamente 2.71. Calcule $e^{\\pi}-\\pi$, dándole el nombre `cerca_veinte`.\n",
    "\n",
    "*Recuerda: ¡También puedes acceder a `pi` desde el módulo `math`!*"
   ]
  },
  {
   "cell_type": "code",
   "execution_count": null,
   "id": "8a8e942b",
   "metadata": {
    "tags": []
   },
   "outputs": [],
   "source": [
    "from math import *\n",
    "cerca_veinte=...\n",
    "cerca_veinte"
   ]
  },
  {
   "cell_type": "code",
   "execution_count": null,
   "id": "771e4ea8",
   "metadata": {
    "deletable": false,
    "editable": false
   },
   "outputs": [],
   "source": [
    "grader.check(\"q21\")"
   ]
  },
  {
   "cell_type": "markdown",
   "id": "WP6fv6QSUIB9",
   "metadata": {
    "id": "WP6fv6QSUIB9"
   },
   "source": [
    "## 2.1. Accediendo a funciones\n",
    "\n",
    "En la pregunta anterior, accedió a variables dentro del módulo \"math\".\n",
    "\n",
    "**Los módulos** también definen **funciones**. Por ejemplo, \"math\" proporciona la función \"floor\" que se utiliza en programación para redondear un número hacia abajo al entero más cercano. Habiendo importado ya \"math\", podemos escribir \"math.floor(7.5)\" para calcular el `floor` de 7.5 que es 7.\n",
    "\n",
    "**Pregunta 2.1.1.** Calcule el `floor` del número  $\\pi$ usando el módulo `math`. Asigne al resultado el nombre `floor_de_pi`."
   ]
  },
  {
   "cell_type": "code",
   "execution_count": null,
   "id": "0d320b3a",
   "metadata": {
    "tags": []
   },
   "outputs": [],
   "source": [
    "\n",
    "floor_de_pi=...\n",
    "floor_de_pi"
   ]
  },
  {
   "cell_type": "code",
   "execution_count": null,
   "id": "9e9c4c23",
   "metadata": {
    "deletable": false,
    "editable": false
   },
   "outputs": [],
   "source": [
    "grader.check(\"q211\")"
   ]
  },
  {
   "cell_type": "markdown",
   "id": "hZwiymnrUIB-",
   "metadata": {
    "id": "hZwiymnrUIB-"
   },
   "source": [
    "Para que tengas como referencia, a continuación se muestran algunos ejemplos más de funciones del módulo \"math\".\n",
    "\n",
    "Observe cómo diferentes funciones toman diferentes números de argumentos. A menudo, la [documentación](https://docs.python.org/3/library/math.html) del módulo proporcionará información sobre cuántos argumentos se requieren para cada función.\n",
    "\n",
    "*Sugerencia: si presiona `shift+tab` mientras está al lado de la llamada de función, aparecerá la documentación para esa función.*"
   ]
  },
  {
   "cell_type": "code",
   "execution_count": null,
   "id": "4f71348b",
   "metadata": {},
   "outputs": [],
   "source": [
    "# Calcular logaritmos (el logaritmo de 8 en base 2).\n",
    "# El resultado es 3 porque 2 elevado a 3 es 8.\n",
    "math.log(8, 2)"
   ]
  },
  {
   "cell_type": "code",
   "execution_count": null,
   "id": "ff7d103c",
   "metadata": {},
   "outputs": [],
   "source": [
    "# Calcular raíces cuadradas.\n",
    "math.sqrt(5)"
   ]
  },
  {
   "cell_type": "markdown",
   "id": "GFhHP38NUICA",
   "metadata": {
    "id": "GFhHP38NUICA"
   },
   "source": [
    "Hay varias formas de importar y acceder a código desde fuentes externas. El método que usamos anteriormente, `<importar>.<nombre_módulo>`, importa el módulo completo,  requiere que usemos `<nombre_módulo>.<nombre>` para acceder a su código.\n",
    "\n",
    "También podemos importar una constante o función específica en lugar del módulo completo. Tenga en cuenta que no es necesario utilizar el nombre del módulo de antemano para hacer referencia a ese valor en particular. Sin embargo, debe tener cuidado al reasignar los nombres de las constantes o funciones a otros valores."
   ]
  },
  {
   "cell_type": "code",
   "execution_count": null,
   "id": "f632e790",
   "metadata": {},
   "outputs": [],
   "source": [
    "# Importando solo cos y pi desde matemáticas.\n",
    "# No tenemos que usar \"matemáticas\" delante de cos o pi\n",
    "from math import cos, pi\n",
    "print(cos(pi))\n",
    "\n",
    "# Sin embargo, tenemos que usarlo delante de otras funciones matemáticas.\n",
    "math.log(pi)"
   ]
  },
  {
   "cell_type": "markdown",
   "id": "2oNPgEeoUICB",
   "metadata": {
    "id": "2oNPgEeoUICB"
   },
   "source": [
    "O podemos importar cada función y valor de todo el módulo."
   ]
  },
  {
   "cell_type": "code",
   "execution_count": null,
   "id": "a7d5bc8b",
   "metadata": {},
   "outputs": [],
   "source": [
    "# Por último, podemos importar todo desde matemáticas usando el *\n",
    "# Una vez más, no tenemos que usar \"matemáticas\". antemano\n",
    "from math import *\n",
    "log(pi)"
   ]
  },
  {
   "cell_type": "markdown",
   "id": "e5ks-kyNUICC",
   "metadata": {
    "id": "e5ks-kyNUICC"
   },
   "source": [
    "No se preocupe demasiado por qué tipo de importación utilizar. A menudo es una elección de estilo de codificación que queda en manos de cada programador. En este curso, siempre importará los módulos necesarios cuando ejecute la celda de configuración (como la primera celda de código en esta práctica de laboratorio).\n",
    "\n",
    "¡Pasemos a practicar algunas de las operaciones en tablas que aprendiste en las clases!"
   ]
  },
  {
   "cell_type": "markdown",
   "id": "1kOBuv_2UICC",
   "metadata": {
    "id": "1kOBuv_2UICC"
   },
   "source": [
    "# 3. Operaciones con tablas.\n",
    "\n",
    "\n",
    "\n",
    "La tabla `Lab02_poblacion_proyeccion_201.csv` contiene datos sobre el estimado de la  población de las ciudades de Bogotá y Medellín  desde 2018-2035 a nivel de comunas y corregimientos, estimados a junio 30 de cada año, con ultima actualizacion al 2024-07-25 (según los [datos abiertos de medellin](https://www.medellin.gov.co/geomedellin/datosAbiertos/263) y [dane](https://www.dane.gov.co/index.php/estadisticas-por-tema/demografia-y-poblacion/proyecciones-de-poblacion/proyecciones-de-poblacion-bogota))\n",
    "\n",
    "\n",
    "Ejecute la siguiente celda para cargar la tabla `poblacion`. No habrá resultados; no se espera ningún resultado ya que la celda contiene una declaración de asignación. Una declaración de asignación no produce ningún resultado (no produce ningún valor).\n"
   ]
  },
  {
   "cell_type": "code",
   "execution_count": null,
   "id": "27d89222",
   "metadata": {},
   "outputs": [],
   "source": [
    "# Simplemente ejecuta esta celda\n",
    "poblacion = Table.read_table('Lab02_poblacion_proyeccion_201.csv')"
   ]
  },
  {
   "cell_type": "markdown",
   "id": "dffa8302",
   "metadata": {},
   "source": [
    "Examinemos nuestra tabla para ver qué datos contiene.\n",
    "\n",
    "**Pregunta 3.1.** Utilice el método `show` para mostrar las primeras 5 filas de `poblacion`.\n",
    "\n",
    "*Nota:* Los términos \"método\" y \"función\" técnicamente no son lo mismo, pero para los propósitos de este curso, los usaremos indistintamente.\n",
    "\n",
    "**Pista:** `tbl.show(3)` mostrará las primeras 3 filas de la tabla denominada `tbl`. Además, asegúrese de no llamar a `.show()` sin un argumento, ya que esto bloqueará su kernel.\n"
   ]
  },
  {
   "cell_type": "markdown",
   "id": "wwr6JkbPUICD",
   "metadata": {
    "id": "wwr6JkbPUICD"
   },
   "source": [
    "Observe que faltan algunos de los valores en esta tabla, como se indica con \"nan\". Esto significa que el valor no está disponible o no es aplicable (como es el caso de las últimas columnas de la tabla), eso no significa que todas la columnas tengan valores \"nan\". ¡Note también la cantidad de filas y columna en el `dataset`!\n",
    "\n",
    "### Número de columnas:  `num_columns `\n",
    "\n",
    "La propiedad de la tabla `num_columns` devuelve el número de columnas de una tabla. (Una \"propiedad\" es solo un método al que no es necesario llamar agregando paréntesis).\n",
    "\n",
    "Llamada de ejemplo: `tbl.num_columns` devolverá el número de columnas en una tabla llamada `tbl`\n",
    "\n",
    "**Pregunta 3.2.** Utilice `num_columns` para encontrar el número de columnas en nuestro conjunto de datos de mercados de agricultores.\n",
    "\n",
    "Asigne el número de columnas a `poblacion_columns`.\n"
   ]
  },
  {
   "cell_type": "code",
   "execution_count": null,
   "id": "f4b2f80b",
   "metadata": {
    "scrolled": true,
    "tags": []
   },
   "outputs": [],
   "source": [
    "\n",
    "poblacion_columns= ...\n",
    "print(\"La tabla tiene \", poblacion_columns, \"columnas!\")"
   ]
  },
  {
   "cell_type": "code",
   "execution_count": null,
   "id": "f792d961",
   "metadata": {
    "deletable": false,
    "editable": false
   },
   "outputs": [],
   "source": [
    "grader.check(\"q32\")"
   ]
  },
  {
   "cell_type": "markdown",
   "id": "RR3FoqiEUICF",
   "metadata": {
    "id": "RR3FoqiEUICF"
   },
   "source": [
    "### Número de filas:  `num_rows`\n",
    "\n",
    "De manera similar, la propiedad `num_rows` te indica cuántas filas hay en una tabla."
   ]
  },
  {
   "cell_type": "code",
   "execution_count": null,
   "id": "737df7e0",
   "metadata": {},
   "outputs": [],
   "source": [
    "# Ejecuta la siguiente celda\n",
    "poblacion_rows = poblacion.num_rows\n",
    "print(\"la tabla tiene\", poblacion_rows, \"filas!\")"
   ]
  },
  {
   "cell_type": "markdown",
   "id": "afb36a31",
   "metadata": {},
   "source": [
    "La tabla anterior solo tiene 41 filas o registros, sin embargo,  el potencial de trabajar desde python es que podemos procesar muchos más datos como lo veremos más adelante en el curso. la cantidad de datos que podemos procesar, depende de nuestra capacidad de memoria y disco duro, tu servidor actual cuenta con: 2Gb Ram y 10 Gb de disco duro.\n",
    "\n",
    "\n",
    "`Nota`: Es importante que poco a poco, se vaya  familarizando con las palabras del inglés, por ejemplo, rows y columns traducen como filas y columnas. Toda la sintaxis de python y sus librerias debe ser escrito en el lenguaje estricto de python, a diferencia de las variables o expresiones que tu puedes crear con el nombre que desees."
   ]
  },
  {
   "cell_type": "code",
   "execution_count": null,
   "id": "30365ce4",
   "metadata": {},
   "outputs": [],
   "source": [
    "poblacion"
   ]
  },
  {
   "cell_type": "markdown",
   "id": "ODNN8Q1GUICF",
   "metadata": {
    "id": "ODNN8Q1GUICF"
   },
   "source": [
    "### `select`\n",
    "\n",
    "La mayoría de las columnas tratan sobre las poblaciones de la ciudad de Medellín y Bogotá en un año especifico, con información sobre las coordenadas y nombre de la comuna o localidad. Si no estamos interesados en todos los detalles, la tabla puede volverse difícil de leer. \n",
    "\n",
    "En tales situaciones, podemos usar el método de tabla `select` para elegir solo las columnas que queremos en una tabla en particular. Este método toma varios argumentos, y cada uno debe ser el nombre de una columna, el cual devuelve una nueva tabla con solo esas columnas que se presentan en el ordén en el que fueron enumeradas.\n",
    "\n",
    "Por ejemplo, si queremos seleccionar solo el nombre de la comuna o localidad, las coordenadas de latitud, longitud y la población en el año 2018  de nuestra tabla `poblacion`, usaríamos el siguiente código:\n",
    "\n",
    "```python\n",
    "poblacion_2018 = data[['LOCALIDAD', 'LATITUD', 'LONGITUD', '2018']]\n",
    "```\n",
    "\n",
    "**Pregunta 3.3.** Utilice `select` para crear una tabla con solo el LOCALIDAD, CIUDAD, LATITUD, LONGITUD y 2018. Llame a esa nueva tabla \"poblacion_pos_2018\". (La latitud y la longitud hacen referencia a las [coordendas geográficas]( https://es.wikipedia.org/wiki/Coordenadas_geogr%C3%A1ficas#/media/Archivo:Latitud_y_Longitud_en_la_Tierra.svg) de las comunas)\n",
    "\n",
    "*Sugerencia:* Asegúrese de ser exacto al usar nombres de columnas con `select`; ¡Compruebe  la escritura de las mayúsculas hasta dos o tres veces!"
   ]
  },
  {
   "cell_type": "code",
   "execution_count": null,
   "id": "bdeb778c",
   "metadata": {
    "tags": []
   },
   "outputs": [],
   "source": [
    "poblacion = Table.read_table('Lab02_poblacion_proyeccion_201.csv')\n",
    "\n",
    "\n",
    "poblacion_2018= ...\n",
    "poblacion_2018"
   ]
  },
  {
   "cell_type": "code",
   "execution_count": null,
   "id": "1f2af3d8",
   "metadata": {
    "deletable": false,
    "editable": false
   },
   "outputs": [],
   "source": [
    "grader.check(\"q33\")"
   ]
  },
  {
   "cell_type": "markdown",
   "id": "loRWY1RVUICG",
   "metadata": {
    "id": "loRWY1RVUICG"
   },
   "source": [
    "### `drop`\n",
    "\n",
    "`drop` tiene el mismo propósito que `select`, pero elimina las columnas que usted proporciona en lugar de las que no proporciona. Al igual que \"seleccionar\", \"soltar\" devuelve una nueva tabla.\n",
    "\n",
    "**Pregunta 3.4.** Supongamos que simplemente no desea las columnas `Unnamed: 0` y `2031` en `poblacion`. Cree una tabla que sea una copia de `poblacion` pero que no incluya esas columnas. Llame a esa tabla `poblacion_ sin_2031`.\n"
   ]
  },
  {
   "cell_type": "code",
   "execution_count": null,
   "id": "72bedf99",
   "metadata": {
    "tags": []
   },
   "outputs": [],
   "source": [
    "poblacion = Table.read_table(\"Lab02_poblacion_proyeccion_201.csv\")\n",
    "\n",
    "\n",
    "poblacion_sin_2031 = ...\n",
    "poblacion_sin_2031"
   ]
  },
  {
   "cell_type": "code",
   "execution_count": null,
   "id": "9232633b",
   "metadata": {
    "deletable": false,
    "editable": false
   },
   "outputs": [],
   "source": [
    "grader.check(\"q34\")"
   ]
  },
  {
   "cell_type": "markdown",
   "id": "WqW_RNv4UICr",
   "metadata": {
    "id": "WqW_RNv4UICr"
   },
   "source": [
    "Ahora supongamos que queremos responder algunas preguntas sobre la poblacion. Por ejemplo, ¿qué comuna o localidad entre Medellín y Bogotá tuvo la mayor población en el 2018?\n",
    "\n",
    "Para responder a esto, ordenaremos `poblacion_2018` en el año 2018."
   ]
  },
  {
   "cell_type": "code",
   "execution_count": null,
   "id": "97009c23",
   "metadata": {},
   "outputs": [],
   "source": [
    "poblacion_2018.sort('2018')"
   ]
  },
  {
   "cell_type": "markdown",
   "id": "-0HoDdZPUICr",
   "metadata": {
    "id": "-0HoDdZPUICr"
   },
   "source": [
    "Lo anterior no respondió a nuestra pregunta porque ordenamos de menor a mayor la columna 2018. Para ver las longitudes más grandes,  tendremos que ordenar en orden inverso."
   ]
  },
  {
   "cell_type": "code",
   "execution_count": null,
   "id": "8cdd7a98",
   "metadata": {},
   "outputs": [],
   "source": [
    "poblacion_2018.sort('2018', descending=True)"
   ]
  },
  {
   "cell_type": "markdown",
   "id": "tbeUeH6dUICs",
   "metadata": {
    "id": "tbeUeH6dUICs"
   },
   "source": [
    "(El valor de  `descending=True` se llama *argumento opcional*. Tiene un valor predeterminado( `default`) de `False`, cuando se hace explicito en la función `descending=True`, la función ordenará en orden descendente).\n",
    "\n",
    "### `sort` (ordenamiento)\n",
    "\n",
    "Algunos detalles sobre el método `sort`:\n",
    "\n",
    "1. El primer argumento para realizar el ordenamiento \"sort\" es el nombre de una columna por la que ordenar.\n",
    "2. Si la columna tiene texto, \"sort\" ordenará alfabéticamente; si la columna tiene números, se ordenará numéricamente, ambos en orden ascendente de forma predeterminada.\n",
    "3. El valor de `poblacion_2018.sort(\"2018\")` es una *copia* de `poblacion_2018`; la tabla `poblacion_2018` no se modifica. Por ejemplo, si llamamos a `poblacion_2018.sort(\"x\")`, ejecutar `poblacion_2018` por sí solo aún devolvería la tabla sin clasificar.\n",
    "4. Las filas siempre permanecen juntas cuando se ordena una tabla. No tendría sentido ordenar solo una columna y dejar las otras columnas como están. Por ejemplo, en este caso, si ordenáramos solo la columna \"2018\", todos las poblaciones terminarían con las nombres del barrio incorrectas.\n",
    "\n",
    "\n",
    "**Pregunta 3.5.** Cree una versión de `poblacion_2018` que esté ordenada por la coordenada **(latitud)**, con las latitudes más grandes primero. Llámelo `poblacion_2018_por_latitud`."
   ]
  },
  {
   "cell_type": "code",
   "execution_count": null,
   "id": "bd2b8849",
   "metadata": {
    "tags": []
   },
   "outputs": [],
   "source": [
    "\n",
    "poblacion = Table.read_table(\"Lab02_poblacion_proyeccion_201.csv\")\n",
    "\n",
    "\n",
    "poblacion_2018_por_latitud= ...\n",
    "\n",
    "poblacion_2018_por_latitud"
   ]
  },
  {
   "cell_type": "code",
   "execution_count": null,
   "id": "4baabe34",
   "metadata": {
    "deletable": false,
    "editable": false
   },
   "outputs": [],
   "source": [
    "grader.check(\"q35\")"
   ]
  },
  {
   "cell_type": "markdown",
   "id": "oVFv9PilUICt",
   "metadata": {
    "deletable": false,
    "editable": false,
    "id": "oVFv9PilUICt"
   },
   "source": [
    "Ahora queremos una tabla de todos las poblaciones solo de Medellín. ¿Cómo lo podemos hacer?, vamos a usar el método `where`."
   ]
  },
  {
   "cell_type": "code",
   "execution_count": null,
   "id": "d7ec6722",
   "metadata": {
    "deletable": false,
    "editable": false
   },
   "outputs": [],
   "source": [
    "poblacion_bogota = poblacion_2018_por_latitud.where('Ciudad', are.equal_to('Bogotá'))\n",
    "poblacion_bogota"
   ]
  },
  {
   "cell_type": "markdown",
   "id": "AwU0rq1gUICt",
   "metadata": {
    "deletable": false,
    "editable": false,
    "id": "AwU0rq1gUICt"
   },
   "source": [
    "Ignora la sintaxis por el momento. En su lugar, intenta leer esa línea así:\n",
    "\n",
    "> Asigne el nombre **`poblacion_medellin`** a una tabla cuyas filas son las filas de la tabla **`poblacion_2018_por_latitud`** **`donde`**  la **`\"Ciudad\"`** es igual a Medellín (**` are equal to` `\"Bogotá\"`**)"
   ]
  },
  {
   "cell_type": "markdown",
   "id": "NPMV2Tl6UICu",
   "metadata": {
    "deletable": false,
    "editable": false,
    "id": "NPMV2Tl6UICu"
   },
   "source": [
    "### `where`\n",
    "\n",
    "Ahora profundicemos un poco más en los detalles. `where` toma 2 argumentos:\n",
    "\n",
    "1. El nombre de una columna. `where` busca filas donde los valores de esa columna cumplen algún criterio.\n",
    "2. Un predicado que describe el criterio que debe cumplir la columna.\n",
    "\n",
    "El predicado en el ejemplo anterior llamó a la función `are.equal_to` con el valor que queríamos, 'Bogotá'. Pronto veremos otros predicados.\n",
    "\n",
    "`where` devuelve una tabla que es una copia de la tabla original, pero **con solo las filas que cumplen el predicado dado**."
   ]
  },
  {
   "cell_type": "markdown",
   "id": "c66d18fd",
   "metadata": {
    "deletable": false,
    "editable": false
   },
   "source": [
    "**Pregunta 3.6.** Utilice la tabla `poblacion` para crear una tabla llamada `poblacion_medellin` que contenga  la población de Medellín, ordenada de menor a mayor en año `2018`"
   ]
  },
  {
   "cell_type": "code",
   "execution_count": null,
   "id": "cba80e6d",
   "metadata": {
    "tags": []
   },
   "outputs": [],
   "source": [
    "\n",
    "poblacion_medellin= ...\n",
    "\n",
    "poblacion_medellin"
   ]
  },
  {
   "cell_type": "code",
   "execution_count": null,
   "id": "2b3621e6",
   "metadata": {
    "deletable": false,
    "editable": false
   },
   "outputs": [],
   "source": [
    "grader.check(\"q36\")"
   ]
  },
  {
   "cell_type": "markdown",
   "id": "FwK7pV3oUICv",
   "metadata": {
    "id": "FwK7pV3oUICv"
   },
   "source": [
    "Hasta ahora solo hemos estado usando `where` con el criterio o condición que requiere encontrar que los valores en una columna sean *exactamente* iguales a un cierto valor. Sin embargo, hay muchos otros criterios. Hemos enumerado algunos de los más comunes a continuación, pero si desea una lista más completa, consulte la sección de predicados en la [hoja de referencia de Python](https://www.data8.org/fa23/reference/#tablewhere-predicates).\n",
    "\n",
    "\n",
    "|Predicado|Ejemplo|Resultado|\n",
    "|-|-|-|\n",
    "|`are.equal_to`|`are.equal_to(50)`|Encuentra las filas con valores iguales a 50|\n",
    "|`are.not_equal_to`|`are.not_equal_to(50)`|Encuentra las filas con valores diferentes a 50|\n",
    "|`are.above`|`are.above(50)`|Encuentra las filas con valores mayores (y no iguales) a 50|\n",
    "|`are.above_or_equal_to`|`are.above_or_equal_to(50)`|Encuentra las filas con valores mayores o iguales a 50|\n",
    "|`are.below`|`are.below(50)`|Encuentra las filas con valores menores a 50|\n",
    "|`are.between`|`are.between(2, 10)`|Encuentra las filas con valores mayores o iguales a 2 y menores a 10|\n",
    "|`are.between_or_equal_to`|`are.between_or_equal_to(2, 10)`|Encuentra las filas con valores mayores o iguales a 2 y menores o iguales a 10|\n"
   ]
  },
  {
   "cell_type": "markdown",
   "id": "r4gvIJDUUICv",
   "metadata": {
    "id": "r4gvIJDUUICv"
   },
   "source": [
    "## 4. Analizando un conjunto de datos\n",
    "\n",
    "Ahora que está familiarizado con las operaciones de tablas, ¡respondamos una pregunta interesante sobre un conjunto de datos!\n",
    "\n",
    "Ejecute la siguiente celda para cargar la tabla `imdb`. Contiene información sobre las 250 películas mejor calificadas en IMDb."
   ]
  },
  {
   "cell_type": "code",
   "execution_count": null,
   "id": "41b855d2",
   "metadata": {},
   "outputs": [],
   "source": [
    "# Simplemente ejecuta esta celda\n",
    "imdb = Table.read_table(f'{path}/imdb.csv')\n",
    "imdb"
   ]
  },
  {
   "cell_type": "markdown",
   "id": "CXywp8mFUICv",
   "metadata": {
    "id": "CXywp8mFUICv"
   },
   "source": [
    "A menudo, queremos realizar múltiples operaciones (clasificar, filtrar u otras) para convertir una tabla que tenemos en algo más útil. Puede realizar estas operaciones una por una, por ejemplo.\n",
    "\n",
    "```\n",
    "first_step = original_tbl.where(“col1”, are.equal_to(12))\n",
    "second_step = first_step.sort(‘col2’, descending=True)\n",
    "```\n",
    "Sin embargo, dado que el valor de la expresión `original_tbl.where(“col1”, are.equal_to(12))` es en sí mismo una tabla, puedes simplemente llamar a un método de tabla en él:\n",
    "```\n",
    "original_tbl.where(“col1”, are.equal_to(12)).sort(‘col2’, descending=True)\n",
    "```\n",
    "Debe organizar su trabajo de la manera que tenga más sentido para usted, utilizando nombres informativos para las tablas intermedias que cree."
   ]
  },
  {
   "cell_type": "markdown",
   "id": "2de490af",
   "metadata": {
    "deletable": false,
    "editable": false
   },
   "source": [
    "**Pregunta 4.1.** Cree una tabla de películas estrenadas entre 2010 y 2015 (inclusive) con calificaciones superiores a 8. La tabla solo debe contener las columnas `Title` and `Rating`, **en ese orden**.\n",
    "\n",
    "Asigne la tabla al nombre `above_eight`.\n",
    "\n",
    "*Pista:* Piensa en los pasos que debes seguir e intenta ordenarlos en un orden que tenga sentido. ¡Siéntete libre de crear tablas intermedias para cada paso, pero asegúrate de asignar a tu tabla final el nombre \"above_eight\"!\n"
   ]
  },
  {
   "cell_type": "code",
   "execution_count": null,
   "id": "22853c0b",
   "metadata": {
    "tags": []
   },
   "outputs": [],
   "source": [
    "imdb = Table.read_table('imdb.csv')\n",
    "\n",
    "\n",
    "...\n",
    "...\n",
    "above_eight =  ...\n",
    "above_eight"
   ]
  },
  {
   "cell_type": "code",
   "execution_count": null,
   "id": "2a920121",
   "metadata": {
    "deletable": false,
    "editable": false
   },
   "outputs": [],
   "source": [
    "grader.check(\"q41\")"
   ]
  },
  {
   "cell_type": "markdown",
   "id": "0f1920fb",
   "metadata": {
    "deletable": false,
    "editable": false
   },
   "source": [
    "**Pregunta 4.2.** Utilice el método `num_rows` (y aritmética) para encontrar la *proporción* de películas en el `dataset` que se estrenaron entre 1900 y 1999, y la *proporción* de películas en el `dataset` que se estrenaron en el año 2000 ó después.\n",
    "\n",
    "Asigne una tabla \"proporcion_en_siglo_20\" a el número de películas en el `dataset` que se estrenaron entre 1900 y 1999, y \"proporcion_en_siglo_21\" a el número de películas en el `dataset` que se estrenaron en el año 2000 o después.\n",
    "\n",
    "*Pista:* La *proporción* de películas estrenadas en el siglo XX es la *proporción* de películas estrenadas en el siglo XX, dividida por el *número total* de películas."
   ]
  },
  {
   "cell_type": "code",
   "execution_count": null,
   "id": "edb671d0",
   "metadata": {
    "tags": []
   },
   "outputs": [],
   "source": [
    "imdb = Table.read_table('imdb.csv')\n",
    "\n",
    "\n",
    "num_peliculas_en_dataset = ...\n",
    "num_en_siglo_20 = ...\n",
    "num_en_siglo_21 = ...\n",
    "proporcion_siglo_20 = ...\n",
    "proporcion_siglo_21 = ...\n",
    "\n",
    "\n",
    "print(\"Proporcion en el siglo  20 :\", proporcion_siglo_20)\n",
    "print(\"Proporcion en el siglo  21 :\", proporcion_siglo_21)"
   ]
  },
  {
   "cell_type": "code",
   "execution_count": null,
   "id": "4d4ad14b",
   "metadata": {
    "deletable": false,
    "editable": false
   },
   "outputs": [],
   "source": [
    "grader.check(\"q42\")"
   ]
  },
  {
   "cell_type": "markdown",
   "id": "m7HgCZxeUICx",
   "metadata": {
    "id": "m7HgCZxeUICx"
   },
   "source": [
    "## 5. Resumen\n",
    "\n",
    "Para su referencia, aquí hay una tabla de todas las funciones y métodos que vimos en esta práctica de laboratorio. ¡Aprenderemos más métodos para agregar a esta tabla la próxima semana!\n",
    "\n",
    "|Nombre|Ejemplo|Propósito|\n",
    "|-|-|-|\n",
    "|`sort`|`tbl.sort(\"N\")`|Crear una copia de una tabla ordenada por los valores de una columna|\n",
    "|`where`|`tbl.where(\"N\", are.above(2))`|Crea una copia de una tabla con solo las filas que coinciden con algún *predicado*|\n",
    "|`num_rows`|`tbl.num_rows`|Calcular el número de filas en una tabla|\n",
    "|`num_columns`|`tbl.num_columns`|Calcular el número de columnas en una tabla|\n",
    "|`select`|`tbl.select(\"N\")`|Crear una copia de una tabla con solo algunas de las columnas|\n",
    "|`drop`|`tbl.drop(\"N\")`|Crear una copia de una tabla sin algunas de las columnas|"
   ]
  },
  {
   "cell_type": "markdown",
   "id": "uWXNbgoiUICx",
   "metadata": {
    "id": "uWXNbgoiUICx"
   },
   "source": [
    "**¡Lego** quiere felicitarte por terminar el Laboratorio 2!\n",
    "\n",
    "<img src=\"Fig_03_lego.png\" alt=\"Picture of brown cavalier poodle dog\" width=\"300\"/>"
   ]
  },
  {
   "cell_type": "markdown",
   "id": "wBHG9VEeUICy",
   "metadata": {
    "id": "wBHG9VEeUICy"
   },
   "source": [
    "\n",
    "---\n",
    "\n",
    "¡Terminaste con el laboratorio!\n",
    "\n",
    "**Información importante sobre el envío:**\n",
    "- **Ejecuta todas las pruebas** y verifica que todas pasan\n",
    "- **Guardar** desde el menú **Archivo**\n",
    "- **Ejecute la celda final **\n",
    "- Luego, ve a este [enlace](https://cienciadatosudea.github.io/001_SitioWebFundCienciaDatos/04entregas.html) y envía el archivo ipynb a la tarea correspondiente. El nombre de esta tarea es \"Lab XX Autograder\", donde XX es el número de laboratorio: 01, 02, 03, etc.\n",
    "\n",
    "- Si terminas temprano en el laboratorio regular, **registra tu asistencia con el instructor**.\n",
    "\n",
    "**Es su responsabilidad asegurarse de que su trabajo esté guardado antes de ejecutar la última celda.**\n",
    "\n",
    "`Referencia`: Este material esta basado en [Data 8: The Foundations of Data Science](https://www.data8.org/) - University of California, Berkeley.\n"
   ]
  },
  {
   "cell_type": "markdown",
   "id": "NdRaZVDhUICy",
   "metadata": {
    "deletable": false,
    "editable": false,
    "id": "NdRaZVDhUICy"
   },
   "source": [
    "## Envío\n",
    "\n",
    "Asegúrese de haber ejecutado todas las celdas de su cuaderno en orden antes de ejecutar la siguiente celda, para que todas las imágenes/gráficos aparezcan en el resultado. La siguiente celda generará un archivo zip para que lo envíe. **¡Guarde antes de exportar!**"
   ]
  },
  {
   "cell_type": "markdown",
   "id": "8e306071",
   "metadata": {
    "deletable": false,
    "editable": false
   },
   "source": [
    "## Submission\n",
    "\n",
    "Make sure you have run all cells in your notebook in order before running the cell below, so that all images/graphs appear in the output. The cell below will generate a zip file for you to submit. **Please save before exporting!**\n",
    "\n",
    "These are some submission instructions."
   ]
  },
  {
   "cell_type": "code",
   "execution_count": null,
   "id": "2b4350e6",
   "metadata": {
    "deletable": false,
    "editable": false
   },
   "outputs": [],
   "source": [
    "# Save your notebook first, then run this cell to export your submission.\n",
    "grader.export(run_tests=True)"
   ]
  },
  {
   "cell_type": "markdown",
   "id": "e084c7ee",
   "metadata": {},
   "source": [
    " "
   ]
  }
 ],
 "metadata": {
  "kernelspec": {
   "display_name": "Python 3 (ipykernel)",
   "language": "python",
   "name": "python3"
  },
  "language_info": {
   "codemirror_mode": {
    "name": "ipython",
    "version": 3
   },
   "file_extension": ".py",
   "mimetype": "text/x-python",
   "name": "python",
   "nbconvert_exporter": "python",
   "pygments_lexer": "ipython3",
   "version": "3.10.14"
  },
  "otter": {
   "OK_FORMAT": true,
   "assignment_name": "lab02",
   "tests": {
    "q11": {
     "name": "q11",
     "points": 1,
     "suites": [
      {
       "cases": [
        {
         "code": ">>> assert isinstance(nuevo_anio, int)\n>>> assert np.isclose(nuevo_anio, 2025, rtol=1e-08)\n",
         "hidden": false,
         "locked": false
        }
       ],
       "scored": true,
       "setup": "",
       "teardown": "",
       "type": "doctest"
      }
     ]
    },
    "q21": {
     "name": "q21",
     "points": 1,
     "suites": [
      {
       "cases": [
        {
         "code": ">>> assert isinstance(cerca_veinte, float)\n>>> assert np.isclose(cerca_veinte * math.pi, 19.999 * math.pi, rtol=0.01)\n",
         "hidden": false,
         "locked": false
        }
       ],
       "scored": true,
       "setup": "",
       "teardown": "",
       "type": "doctest"
      }
     ]
    },
    "q211": {
     "name": "q211",
     "points": 1,
     "suites": [
      {
       "cases": [
        {
         "code": ">>> assert isinstance(floor_de_pi, int)\n>>> assert np.isclose(floor_de_pi * np.pi, 3 * np.pi, rtol=1e-08)\n",
         "hidden": false,
         "locked": false
        }
       ],
       "scored": true,
       "setup": "",
       "teardown": "",
       "type": "doctest"
      }
     ]
    },
    "q32": {
     "name": "q32",
     "points": 1,
     "suites": [
      {
       "cases": [
        {
         "code": ">>> assert isinstance(poblacion_columns, int)\n>>> assert np.isclose(poblacion_columns, 23)\n",
         "hidden": false,
         "locked": false
        }
       ],
       "scored": true,
       "setup": "",
       "teardown": "",
       "type": "doctest"
      }
     ]
    },
    "q33": {
     "name": "q33",
     "points": 1,
     "suites": [
      {
       "cases": [
        {
         "code": ">>> assert isinstance(poblacion_2018, tables.Table) == True\n>>> assert (poblacion is poblacion_2018) == False\n>>> assert np.isclose(poblacion_2018.column('2018').mean(), 420786.8, 0.1)\n",
         "hidden": false,
         "locked": false
        }
       ],
       "scored": true,
       "setup": "",
       "teardown": "",
       "type": "doctest"
      }
     ]
    },
    "q34": {
     "name": "q34",
     "points": 1,
     "suites": [
      {
       "cases": [
        {
         "code": ">>> assert isinstance(poblacion_sin_2031, tables.Table) == True\n>>> assert (poblacion_sin_2031 is poblacion) == False\n>>> assert poblacion_sin_2031.labels == ('LOCALIDAD', 'Ciudad', 'LATITUD', 'LONGITUD', '2018', '2019', '2020', '2021', '2022', '2023', '2024', '2025', '2026', '2027', '2028', '2029', '2030', '2032', '2033', '2034', '2035')\n",
         "hidden": false,
         "locked": false
        }
       ],
       "scored": true,
       "setup": "",
       "teardown": "",
       "type": "doctest"
      }
     ]
    },
    "q35": {
     "name": "q35",
     "points": 1,
     "suites": [
      {
       "cases": [
        {
         "code": ">>> assert isinstance(poblacion_2018_por_latitud, tables.Table) == True\n>>> assert poblacion_2018_por_latitud['LOCALIDAD'][0] == 'Doce de Octubre'\n>>> assert poblacion_2018_por_latitud['LOCALIDAD'][1] == 'Santa Cruz'\n>>> assert poblacion_2018_por_latitud['LOCALIDAD'][-1] == 'SUMAPAZ'\n",
         "hidden": false,
         "locked": false
        }
       ],
       "scored": true,
       "setup": "",
       "teardown": "",
       "type": "doctest"
      }
     ]
    },
    "q36": {
     "name": "q36",
     "points": 1,
     "suites": [
      {
       "cases": [
        {
         "code": ">>> assert isinstance(poblacion_medellin, tables.Table) == True\n>>> assert (poblacion_medellin is poblacion_2018_por_latitud) == False\n>>> assert np.isclose(poblacion_medellin.column('LONGITUD').mean(), -75.579, 0.01)\n",
         "hidden": false,
         "locked": false
        }
       ],
       "scored": true,
       "setup": "",
       "teardown": "",
       "type": "doctest"
      }
     ]
    },
    "q41": {
     "name": "q41",
     "points": null,
     "suites": [
      {
       "cases": [
        {
         "code": ">>> assert (above_eight is imdb) == False\n>>> assert np.isclose(above_eight.num_columns, 2, rtol=0.001) == True\n>>> assert np.isclose(above_eight.num_rows, 20, rtol=0.001) == True\n>>> assert np.isclose(above_eight.column('Rating').mean(), 8.29, rtol=0.001) == True\n",
         "hidden": false,
         "locked": false
        }
       ],
       "scored": true,
       "setup": "",
       "teardown": "",
       "type": "doctest"
      }
     ]
    },
    "q42": {
     "name": "q42",
     "points": 1,
     "suites": [
      {
       "cases": [
        {
         "code": ">>> assert isinstance(proporcion_siglo_20, float) == True\n>>> assert isinstance(proporcion_siglo_21, float) == True\n>>> assert np.isclose(proporcion_siglo_20 * 4, 0.684 * 4, rtol=0.1) == True\n>>> assert np.isclose(proporcion_siglo_21 * 2.5, 0.316 * 2.5, rtol=0.1) == True\n",
         "hidden": false,
         "locked": false
        }
       ],
       "scored": true,
       "setup": "",
       "teardown": "",
       "type": "doctest"
      }
     ]
    },
    "qt": {
     "name": "qt",
     "points": 0,
     "suites": [
      {
       "cases": [
        {
         "code": ">>> assert isinstance(NombreApellidos, str)\n>>> assert isinstance(NumeroCarnet, str)\n>>> assert isinstance(Email, str)\n>>> assert len(NombreApellidos) > 3\n>>> assert len(NumeroCarnet) > 3\n>>> assert len(Email) > 3\n",
         "hidden": false,
         "locked": false
        }
       ],
       "scored": true,
       "setup": "",
       "teardown": "",
       "type": "doctest"
      }
     ]
    }
   }
  }
 },
 "nbformat": 4,
 "nbformat_minor": 5
}
