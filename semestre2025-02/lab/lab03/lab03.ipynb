{
 "cells": [
  {
   "cell_type": "code",
   "execution_count": null,
   "id": "7f6d1223",
   "metadata": {
    "deletable": false,
    "editable": false
   },
   "outputs": [],
   "source": [
    "# Initialize Otter\n",
    "import otter\n",
    "grader = otter.Notebook(\"lab03.ipynb\")"
   ]
  },
  {
   "cell_type": "markdown",
   "id": "b94c7e67",
   "metadata": {},
   "source": [
    "<a href=\"https://colab.research.google.com/github/develop_otter/material_20242/blob/main/lab/lab01/lab01_.ipynb\" target=\"_parent\"><img src=\"https://colab.research.google.com/assets/colab-badge.svg\" alt=\"Open In Colab\"/></a>"
   ]
  },
  {
   "cell_type": "code",
   "execution_count": null,
   "id": "33b93643",
   "metadata": {},
   "outputs": [],
   "source": [
    "import otter\n",
    "import pandas as pd\n",
    "import numpy as np\n",
    "import math \n",
    "import matplotlib.pylab as plt\n",
    "from datascience import *\n",
    "%matplotlib inline"
   ]
  },
  {
   "cell_type": "markdown",
   "id": "b218e8b2",
   "metadata": {},
   "source": [
    "<p><img alt=\"Colaborat\" style=\"height: 220px;\" src=\"Fig_01_Escudo-UdeA.png\" align=\"left\" hspace=\"10px\" vspace=\"0px\"></p>\n",
    "\n",
    "\n",
    "\n",
    "# Fundamentos en ciencias de datos\n",
    "\n",
    "\n",
    "## Laboratorio 3: Operaciones con tablas\n",
    "\n",
    "¡Bienvenidos al Laboratorio 2! Esta semana, aprenderemos cómo importar un módulo y prácticaremos operaciones con tablas. Algunas referencias estan dadas en el siguiente  [enlace](https://www.data8.org/fa23/reference/), el cual tiene información útil para este práctica de laboratorio.\n",
    "\n",
    "**Lectura recomendada**:\n",
    "  * [Introducción a las Tablas](https://www.inferentialthinking.com/chapters/03/4/Introduction_to_Tables)\n",
    "\n",
    "Como recordatorio, estas son las políticas para obtener una nota completa:\n",
    "\n",
    "1. Recuerden que  recibiran el 80% del laboratorio solo con **asistir** a la sección de los viernes laboratorio y lograr un progreso significativo en ```notebook de jupyter```.\n",
    "\n",
    "\n",
    "\n",
    "**Envío**: Una vez que haya terminado, ejecute todas las celdas además de la última, seleccione Archivo > Guardar cuaderno y luego ejecute la celda final. El resultado contendrá un archivo zip que podrá utilizar para enviarlo.\n",
    "\n",
    "Comencemos configurando las pruebas e importaciones ejecutando la siguiente celda."
   ]
  },
  {
   "cell_type": "markdown",
   "id": "9aebcca5-3e42-42ca-aaf1-c5c407cb485f",
   "metadata": {
    "deletable": false,
    "editable": false
   },
   "source": [
    "<!-- BEGIN QUESTION -->\n",
    "\n",
    "Ingrese su nombre en la siguiente celda:\n",
    "```python\n",
    "Nombre = \"Ada Lovelace\"\n",
    "Carnet =  \"3,141592....\"\n",
    "```"
   ]
  },
  {
   "cell_type": "code",
   "execution_count": null,
   "id": "5f405961-b76b-4f8a-ae7b-04b1153bcf80",
   "metadata": {
    "tags": []
   },
   "outputs": [],
   "source": [
    "NombreApellidos=\"...\"\n",
    "NumeroCarnet=\"...\"\n",
    "Email=\"...\""
   ]
  },
  {
   "cell_type": "markdown",
   "id": "cf2da4d1",
   "metadata": {
    "deletable": false,
    "editable": false
   },
   "source": [
    "<!-- END QUESTION -->\n",
    "\n",
    "# 1. Texto\n",
    "La programación no se trata sólo de números. El texto es uno de los tipos de datos más comunes utilizados en los programas.\n",
    "\n",
    "El texto está representado por un valor tipo **`string`** en Python. La palabra valor `string` es un término de programación para una secuencia de caracteres. Una cadena puede contener un solo carácter, una palabra, una oración o un libro completo.\n",
    "\n",
    "Para distinguir los datos de texto del código real, delimitamos las cadenas poniéndolas entre comillas. Las comillas simples (`'`) y las comillas dobles (`\"`) son válidas, pero los tipos de comillas de apertura y cierre deben coincidir. El contenido puede ser cualquier secuencia de caracteres, incluidos números y símbolos.\n",
    "\n",
    "Hemos visto cadenas antes en declaraciones `print` A continuación, se pasan dos cadenas diferentes como argumentos a la función`print` function."
   ]
  },
  {
   "cell_type": "code",
   "execution_count": null,
   "id": "865e2a7a",
   "metadata": {},
   "outputs": [],
   "source": [
    "print(\"I <3\", 'Data Science')"
   ]
  },
  {
   "cell_type": "markdown",
   "id": "e3352832",
   "metadata": {},
   "source": [
    "Así como se pueden dar nombres a los números, se pueden dar nombres a los valores de cadena. No es necesario que los nombres y las cadenas sean similares de ningún modo. Se puede asignar cualquier nombre a cualquier cadena."
   ]
  },
  {
   "cell_type": "code",
   "execution_count": null,
   "id": "0d0d069c",
   "metadata": {},
   "outputs": [],
   "source": [
    "one = 'two'\n",
    "plus = '*'\n",
    "print(one, plus, one)"
   ]
  },
  {
   "cell_type": "markdown",
   "id": "0385b724",
   "metadata": {},
   "source": [
    "**Pregunta 1.1.** Yuri Gagarin fue la primera persona en viajar por el espacio exterior. Cuando salió de su cápsula al aterrizar en la Tierra, [según se informa](https://en.wikiquote.org/wiki/Yuri_Gagarin), tuvo la siguiente conversación con una mujer y una niña que vieron el aterrizaje:\n",
    "\n",
    "```text\n",
    "\n",
    "     La mujer preguntó: \"¿Será que has venido del espacio exterior?\"\n",
    "     Gagarin respondió: \"¡De hecho, sí!\"\n",
    "```\n",
    "La siguiente celda contiene código sin terminar. Complete los `...`s para que imprima esta conversación **exactamente** como aparece arriba, incluida las expresiones :     `La mujer preguntó`,      `Gagarin respondió.`  \n",
    "\n",
    "Sugerencia: Investiga cómo se define las comillas en python, la solución debera estar almacenada en las variables que aparecen más abajo, los print automáticamente la mostrarán  \n",
    "\n",
    "\n"
   ]
  },
  {
   "cell_type": "code",
   "execution_count": null,
   "id": "99463009",
   "metadata": {
    "tags": []
   },
   "outputs": [],
   "source": [
    "\n",
    "\n",
    "mujer_preguntando = ...\n",
    "cita_mujer = ...\n",
    "respuesta_de_gagarin = ...\n",
    "cita_de_gagarin = ...\n",
    "\n",
    "print(mujer_preguntando, cita_mujer)\n",
    "print(respuesta_de_gagarin, cita_de_gagarin)"
   ]
  },
  {
   "cell_type": "code",
   "execution_count": null,
   "id": "28c023cb",
   "metadata": {
    "deletable": false,
    "editable": false
   },
   "outputs": [],
   "source": [
    "grader.check(\"q01\")"
   ]
  },
  {
   "cell_type": "markdown",
   "id": "6cd953c0",
   "metadata": {},
   "source": [
    "## 1.1. Métodos de string"
   ]
  },
  {
   "cell_type": "markdown",
   "id": "163f0839",
   "metadata": {},
   "source": [
    "Las cadenas se pueden transformar usando **métodos**. Recuerde que métodos y funciones no son lo mismo. Aquí está la sección del libro de texto sobre métodos de cadena: [4.2.1 Métodos de cadena](https://inferentialthinking.com/chapters/04/2/1/String_Methods.html).\n",
    "\n",
    "Aquí hay un bosquejo de cómo llamar a métodos en una cadena:\n",
    "\n",
    "     <expresión que se evalúa como una cadena>.<nombre del método>(<argumento>, <argumento>, ...)\n",
    "    \n",
    "Un ejemplo de un método de cadena es \"replace\", que reemplaza todas las instancias de alguna parte de la cadena original (o una *subcadena*) con una nueva cadena.\n",
    "\n",
    "     <cadena original>.replace(<subcadena antigua>, <subcadena nueva>)\n",
    "    \n",
    "`replace` devuelve (evalúa) una nueva cadena, dejando la cadena original sin cambios.\n",
    "    \n",
    "Intente predecir el resultado de este ejemplo y luego ejecute la celda."
   ]
  },
  {
   "cell_type": "code",
   "execution_count": null,
   "id": "3e8ea87c",
   "metadata": {},
   "outputs": [],
   "source": [
    "# Reemplazar una letra\n",
    "bag = 'bag'\n",
    "print(bag.replace('g', 't'), bag)"
   ]
  },
  {
   "cell_type": "markdown",
   "id": "6b9ff5a4",
   "metadata": {},
   "source": [
    "Puede llamar funciones sobre los resultados de otras funciones. Por ejemplo, `max(abs(-5), abs(3))` se evalúa como 5. De manera similar, puede llamar a métodos según los resultados de otras llamadas a métodos o funciones.\n",
    "\n",
    "Es posible que ya hayas notado una diferencia entre funciones y métodos: una función como `max` no requiere un `.` antes de ser llamada, pero un método de cadena como `replace` sí. La referencia de Python a la que se hace referencia en el párrafo inicial puede resultar útil en los casos en los que no esté seguro de cómo llamar a una función o método."
   ]
  },
  {
   "cell_type": "code",
   "execution_count": null,
   "id": "4ab2e74a",
   "metadata": {
    "scrolled": true
   },
   "outputs": [],
   "source": [
    "# Calling replace on the output of another call to replace\n",
    "'carro'.replace('c', 'b').replace('rr', 'cala')"
   ]
  },
  {
   "cell_type": "markdown",
   "id": "c1a3016b",
   "metadata": {},
   "source": [
    "Aquí tienes una imagen de cómo Python evalúa una llamada de método \"encadenada\" como esa.\n",
    "<img src=\"chaining_method_calls.png\"/>"
   ]
  },
  {
   "cell_type": "markdown",
   "id": "1a1004c8",
   "metadata": {},
   "source": [
    "**Pregunta 1.1.1.** Usa `replace`  para transformar la cadena 'perro' en 'gorro'. Asigna tu resultado a nueva_palabra\n"
   ]
  },
  {
   "cell_type": "code",
   "execution_count": null,
   "id": "b7e54d49-0980-447b-bd32-97f6ea1f0e24",
   "metadata": {
    "tags": []
   },
   "outputs": [],
   "source": [
    "\n",
    "\n",
    "nueva_palabra = ...\n",
    "nueva_palabra"
   ]
  },
  {
   "cell_type": "code",
   "execution_count": null,
   "id": "8f801e41",
   "metadata": {
    "deletable": false,
    "editable": false
   },
   "outputs": [],
   "source": [
    "grader.check(\"q111\")"
   ]
  },
  {
   "cell_type": "markdown",
   "id": "2aab714c",
   "metadata": {},
   "source": [
    "Hay muchos más métodos de cadenas en Python, pero la mayoría de los programadores no memorizan sus nombres ni cómo usarlos. En el \"mundo real\", la gente normalmente simplemente busca documentación y ejemplos en Internet. Una [lista completa de métodos de cadena](https://docs.python.org/3/library/stdtypes.html#string-methods) aparece en la documentación del lenguaje Python. [Stack Overflow](http://stackoverflow.com) tiene una enorme base de datos de preguntas respondidas que a menudo demuestran cómo utilizar estos métodos para lograr diversos fines. El material cubierto en estos recursos que aún no se haya presentado en esta clase estará fuera de alcance."
   ]
  },
  {
   "cell_type": "markdown",
   "id": "604d71c8",
   "metadata": {},
   "source": [
    "## 1.2. Conversión hacia y desde cadenas"
   ]
  },
  {
   "cell_type": "markdown",
   "id": "b65cca92",
   "metadata": {},
   "source": [
    "Las cadenas y los números son *tipos* diferentes de valores, incluso cuando una cadena contiene los dígitos de un número. Por ejemplo, evaluar la siguiente celda provoca un error porque no se puede agregar un número entero a una cadena."
   ]
  },
  {
   "cell_type": "code",
   "execution_count": null,
   "id": "ae3a46bd",
   "metadata": {
    "tags": [
     "raises-exception"
    ]
   },
   "outputs": [],
   "source": [
    "8 + \"8\""
   ]
  },
  {
   "cell_type": "markdown",
   "id": "ab1fa105",
   "metadata": {},
   "source": [
    "\n",
    "|Función |Descripción|\n",
    "|-|-|\n",
    "|`int`|Convierte una cadena de dígitos o un valor flotante en un valor entero (\"int\")|\n",
    "|`float`|Convierte una cadena de dígitos (quizás con un punto decimal) o un int en un valor decimal (\"flotante\")|\n",
    "|`str`|Convierte cualquier valor en una cadena|"
   ]
  },
  {
   "cell_type": "markdown",
   "id": "01281005",
   "metadata": {},
   "source": [
    "Intente predecir qué tipo de datos y valor se evalúa \"ejemplo\", luego ejecute la celda."
   ]
  },
  {
   "cell_type": "code",
   "execution_count": null,
   "id": "aa6e0c67",
   "metadata": {},
   "outputs": [],
   "source": [
    "example = 8 + int(\"10\") + float(\"8\")\n",
    "\n",
    "print(example)\n",
    "print(\"Este ejemplo devolvió un\" + str(type(example)) + \"!\")"
   ]
  },
  {
   "cell_type": "markdown",
   "id": "c650b0ff",
   "metadata": {
    "deletable": false,
    "editable": false
   },
   "source": [
    "Supongamos que está escribiendo un programa que busca fechas en un texto y desea que su programa encuentre la cantidad de tiempo que transcurrió entre dos años que identificó. No tiene sentido restar dos textos, pero primero puedes convertir el texto que contiene los años en números.\n",
    "\n",
    "**Pregunta 1.2.1.** Complete el siguiente código para calcular el número de años que transcurrieron entre \"un_anio\" y \"otro_anio\". No escriba simplemente los números \"1618\" y \"1648\"; **Utilice una función de conversión para convertir los datos de texto dados en números**\n"
   ]
  },
  {
   "cell_type": "code",
   "execution_count": null,
   "id": "f9f160c0-98e0-445b-b87b-ff3a4074bbc8",
   "metadata": {
    "tags": []
   },
   "outputs": [],
   "source": [
    "\n",
    "# Notese que estan definidos como string, intente usar la función de conversión de string a float\n",
    "un_anio = \"1618\"\n",
    "otro_anio = \"1648\"\n",
    "diferencia = ..."
   ]
  },
  {
   "cell_type": "code",
   "execution_count": null,
   "id": "01ee3bfb",
   "metadata": {
    "deletable": false,
    "editable": false
   },
   "outputs": [],
   "source": [
    "grader.check(\"q2\")"
   ]
  },
  {
   "cell_type": "markdown",
   "id": "b37ac002",
   "metadata": {},
   "source": [
    "## 1.3. Pasar cadenas a funciones\n",
    "\n",
    "Los valores de cadena, como los números, pueden ser argumentos de funciones y pueden ser devueltos por funciones.\n",
    "\n",
    "La función `len` (derivada de la palabra \"longitud\") toma una sola cadena como argumento y devuelve el número de caracteres (incluidos espacios) en la cadena.\n",
    "\n",
    "Tenga en cuenta que no cuenta *palabras*. `len(\"un pequeño paso para el hombre\")` se evalúa como 22 caracteres, no 5 palabras.\n",
    "\n",
    "**Pregunta 1.3.1.** Utilice `len` para encontrar la cantidad de caracteres en la cadena larga en la siguiente celda. Los caracteres incluyen cosas como espacios y puntuación. Asigne `sentence_length` a ese número.\n",
    "\n",
    "La cadena es la primera oración de la traducción al español de la [Declaración de los Derechos del Hombre](http://avalon.law.yale.edu/18th_century/rightsof.asp) en francés."
   ]
  },
  {
   "cell_type": "code",
   "execution_count": null,
   "id": "e3a025f9-ac6b-400a-9446-f0f9380616a9",
   "metadata": {
    "tags": []
   },
   "outputs": [],
   "source": [
    "\n",
    "# Note que estan definidos como string, intente usar la función de conversión de string a float\n",
    "una_frase_larga = \"Los Representantes del Pueblo Francés, constituidos en Asamblea Nacional, considerando que la ignorancia, el olvido o el menosprecio de los derechos del Hombre son las únicas causas de las calamidades públicas y de la corrupción de los Gobiernos, han resuelto exponer, en una Declaración solemne, los derechos naturales, inalienables y sagrados del Hombre, para que esta declaración, constantemente presente para todos los Miembros del cuerpo social, les recuerde sin cesar sus derechos y sus deberes; para que los actos del poder legislativo y del poder ejecutivo, al poder cotejarse en todo momento con la finalidad de cualquier institución política, sean más respetados y para que las reclamaciones de los ciudadanos, fundadas desde ahora en principios simples e indiscutibles, redunden siempre en beneficio del mantenimiento de la Constitución y de la felicidad de todos.\"\n",
    "longitud_oracion = ...\n",
    "longitud_oracion"
   ]
  },
  {
   "cell_type": "code",
   "execution_count": null,
   "id": "58369773",
   "metadata": {
    "deletable": false,
    "editable": false
   },
   "outputs": [],
   "source": [
    "grader.check(\"q3\")"
   ]
  },
  {
   "cell_type": "markdown",
   "id": "93d5927d",
   "metadata": {},
   "source": [
    "# 2. Arreglos\n",
    "\n",
    "Las computadoras son más útiles cuando puedes usar una pequeña cantidad de código para *realizar la misma acción* en *muchas cosas diferentes*.\n",
    "\n",
    "Por ejemplo, en el tiempo que le lleva calcular el 18% en la factura de un restaurante, una computadora portátil puede calcular el 18% de cada factura del restaurante pagada por un ser humano en la Tierra ese día. (¡Eso es si eres bastante rápido haciendo aritmética mentalmente!)\n",
    "\n",
    "**Las matrices** son la forma en que colocamos muchos valores en un solo lugar para poder operar con ellos como un grupo. Por ejemplo, si `billions_of_numbers` es una matriz de números, la expresión\n",
    "\n",
    "     .18 *billions_of_numbers,\n",
    "\n",
    "proporciona una nueva matriz de números que contiene el resultado de multiplicar **cada número** en `billions_of_numbers` por 0,18. Las matrices no se limitan a números; También podemos poner todas las palabras de un libro en una serie de cadenas.\n",
    "\n",
    "Concretamente, una matriz es una **colección de valores del mismo tipo**."
   ]
  },
  {
   "cell_type": "markdown",
   "id": "4c0a2b63",
   "metadata": {},
   "source": [
    "## 2.1. Construir *array*\n",
    "\n",
    "Primero, aprendamos cómo ingresar valores manualmente en un arreglo. Por lo general, cuando se hace ciencia de datos, creamos los arreglos cargándolas desde una fuente externa, como un archivo de datos, otras veces, cuando se hace computación científica, debemos construir los arreglos desde cero. \n",
    "\n",
    "Para crear una arreglo en python, llame a la función `make_array`. Cada argumento que pase a `make_array` estará en la matriz que devuelve. Ejecute la siguiente celda para ver un ejemplo:"
   ]
  },
  {
   "cell_type": "code",
   "execution_count": null,
   "id": "a5dafb5a",
   "metadata": {
    "scrolled": true
   },
   "outputs": [],
   "source": [
    "make_array(0.125, 4.75, -1.3)"
   ]
  },
  {
   "cell_type": "markdown",
   "id": "88fc4597",
   "metadata": {},
   "source": [
    "Cada valor de un arreglo (en el caso anterior, los números 0,125, 4,75 y -1,3) se denomina *elemento* de esa arreglo.\n",
    "\n",
    "\n",
    "\n",
    "Los arreglos en sí mismo no solo contienen datos, sino que son considerados como un tipo de dato, así como los números y las cadenas (`string`). Eso significa que puedes asignarlos a nombres o usarlos como argumentos para funciones. Por ejemplo, `len(<some_array>)` devuelve el número de elementos en `some_array`."
   ]
  },
  {
   "cell_type": "markdown",
   "id": "b41c464b",
   "metadata": {
    "deletable": false,
    "editable": false
   },
   "source": [
    "**Pregunta 2.1.1.** Haz una matriz que contenga los números 0, 1, -1 y $\\pi$, en ese orden. Nómbrelo \"numeros_interesantes\".\n",
    "\n",
    "*Pista:* ¿Cómo obtuviste el valor $\\pi$ en el laboratorio 2? Puedes consultarlo de la misma manera aquí. El módulo \"math\" se importó en la parte superior de este cuaderno."
   ]
  },
  {
   "cell_type": "code",
   "execution_count": null,
   "id": "2363ae91-872c-4811-be1f-3aceacd7da8f",
   "metadata": {
    "tags": []
   },
   "outputs": [],
   "source": [
    "\n",
    "numeros_interesantes = ...\n",
    "\n",
    "numeros_interesantes"
   ]
  },
  {
   "cell_type": "code",
   "execution_count": null,
   "id": "5f156b60",
   "metadata": {
    "deletable": false,
    "editable": false
   },
   "outputs": [],
   "source": [
    "grader.check(\"q4\")"
   ]
  },
  {
   "cell_type": "markdown",
   "id": "77ae6bee",
   "metadata": {
    "deletable": false,
    "editable": false
   },
   "source": [
    "**Pregunta 2.1.2.** Cree una arreglo que contenga las cinco cadenas `\"Hola\"`, `\",\"`, `\" \"`, `\"mundo\"` y `\"!\"`. (El tercero es un espacio único entre comillas). Nómbralo `hola_mundo_components`.\n",
    "\n",
    "*Nota:* Si evalúa `hola_mundo_components`, notará información adicional además de su contenido: `dtype='<U5'`. Esa es simplemente la forma extremadamente críptica que tiene NumPy de decir que los tipos de datos en la matriz son cadenas.\n"
   ]
  },
  {
   "cell_type": "code",
   "execution_count": null,
   "id": "52d7865a-ff1d-47a0-bab3-de741719b40b",
   "metadata": {
    "tags": []
   },
   "outputs": [],
   "source": [
    "\n",
    "hola_mundo_components = ...\n",
    "hola_mundo_components"
   ]
  },
  {
   "cell_type": "code",
   "execution_count": null,
   "id": "8ebfb0c6",
   "metadata": {
    "deletable": false,
    "editable": false
   },
   "outputs": [],
   "source": [
    "grader.check(\"q5\")"
   ]
  },
  {
   "cell_type": "markdown",
   "id": "97af372f",
   "metadata": {},
   "source": [
    "### `np.arange`\n",
    "Los arreglos los proporciona un paquete llamado [NumPy](http://www.numpy.org/) (pronunciado \"NUM-pie\"). El paquete se llama \"numpy\", pero es estándar cambiarle el nombre a \"np\" por brevedad. Puedes hacerlo con:\n",
    "\n",
    "```python\n",
    " import numpy como np\n",
    "```\n",
    "\n",
    "Muy a menudo, en la ciencia de datos, queremos trabajar con muchos números que estén espaciados uniformemente dentro de algún rango. NumPy proporciona una función especial  llamada `arange`. La línea de código `np.arange(start, stop, step)` se evalúa como un arreglo con todos los números comenzando en `start` y contando `step`, deteniéndose **antes** de llegar a `stop`.\n",
    "\n",
    "Ejecute las siguientes celdas para ver algunos ejemplos."
   ]
  },
  {
   "cell_type": "code",
   "execution_count": null,
   "id": "da3f5e6d",
   "metadata": {},
   "outputs": [],
   "source": [
    "# Esta matriz comienza en 1 y cuenta hasta 2\n",
    "# y luego se detiene antes de las 6\n",
    "np.arange(1, 6, 2)"
   ]
  },
  {
   "cell_type": "code",
   "execution_count": null,
   "id": "d800ecf6",
   "metadata": {},
   "outputs": [],
   "source": [
    "# Esta matriz no contiene 9\n",
    "# porque np.arange se detiene *antes* de alcanzar el valor de parada\n",
    "np.arange(4, 9, 1)"
   ]
  },
  {
   "cell_type": "markdown",
   "id": "cb3a3a75",
   "metadata": {
    "deletable": false,
    "editable": false
   },
   "source": [
    "**Pregunta 2.1.3.** Importe `numpy` como `np` y luego use `np.arange` para crear un arreglo con múltiplos de 99 desde 0 hasta (**e incluyendo**) 9999. (Entonces sus elementos son 0, 99, 198, 297, etc.)"
   ]
  },
  {
   "cell_type": "code",
   "execution_count": null,
   "id": "08adab32-48bf-4ae7-a576-e189a8eb5cac",
   "metadata": {
    "tags": []
   },
   "outputs": [],
   "source": [
    "\n",
    "multiplos_de_99 = ...\n",
    "multiplos_de_99"
   ]
  },
  {
   "cell_type": "code",
   "execution_count": null,
   "id": "dbca89a8",
   "metadata": {
    "deletable": false,
    "editable": false
   },
   "outputs": [],
   "source": [
    "grader.check(\"q6\")"
   ]
  },
  {
   "cell_type": "markdown",
   "id": "9a660a09",
   "metadata": {
    "deletable": true
   },
   "source": [
    "## 2.2. Trabajar con elementos individuales de arreglos (\"indexación\")\n",
    "\n",
    "Trabajemos con un conjunto de datos más interesante. La siguiente celda crea un arreglo llamado \"poblacion\" que incluye las poblaciones mundiales estimadas de cada año desde **1950** hasta aproximadamente el **presente**. (Las estimaciones provienen del sitio web de la Oficina del Censo de EE. UU.).\n",
    "\n",
    "En lugar de escribir los datos manualmente, los hemos cargado desde un archivo en su computadora llamado `poblacion_mundial.csv`. ¡Aprenderá cómo hacerlo más adelante en esta práctica de laboratorio!"
   ]
  },
  {
   "cell_type": "code",
   "execution_count": null,
   "id": "b1e0d396",
   "metadata": {
    "deletable": true
   },
   "outputs": [],
   "source": [
    "poblacion = Table.read_table(\"poblacion_mundial.csv\").column(\"Poblacion\")\n",
    "poblacion"
   ]
  },
  {
   "cell_type": "markdown",
   "id": "9c3362f6",
   "metadata": {},
   "source": [
    "Así es como obtenemos el primer elemento de \"poblacion\", que es la población mundial en el primer año del conjunto de datos, 1950."
   ]
  },
  {
   "cell_type": "code",
   "execution_count": null,
   "id": "8e301b23",
   "metadata": {},
   "outputs": [],
   "source": [
    "poblacion.item(0)"
   ]
  },
  {
   "cell_type": "markdown",
   "id": "acc69af9-c6f3-48a3-89c7-df964f3a8c87",
   "metadata": {},
   "source": [
    "El numero anterior lo podemos mostrar en notacion científica o separado por comas, como se muestra en la siguiente celda:"
   ]
  },
  {
   "cell_type": "code",
   "execution_count": null,
   "id": "10bdfcac-5d02-4d23-878c-fc23180fbeec",
   "metadata": {},
   "outputs": [],
   "source": [
    "print(f\"Numero en notación científica {poblacion.item(0):.6e}\")\n",
    "print(f\"Numero mostrado separado por comas {poblacion.item(0):,}\")"
   ]
  },
  {
   "cell_type": "markdown",
   "id": "087dd032",
   "metadata": {},
   "source": [
    "El valor de esa expresión es el número **2.557.628.654** (alrededor de 2.500 millones), porque eso es lo primero en el arreglo `poblacion`.\n",
    "\n",
    "Observe que escribimos `.item(0)`, no `.item(1)`, para obtener el primer elemento. Esta es una convención extraña en informática. **0 se llama *índice* del primer elemento.** Es el número de elementos que aparecen *antes* de ese elemento. Entonces 3 es el índice del cuarto elemento.\n",
    "\n",
    "Aquí hay algunos ejemplos más. En los ejemplos, hemos dado nombres a las cosas que obtenemos de `poblacion`. Lea y ejecute cada celda."
   ]
  },
  {
   "cell_type": "code",
   "execution_count": null,
   "id": "3747f9bd",
   "metadata": {},
   "outputs": [],
   "source": [
    "# El decimotercer elemento de la matriz es la población.\n",
    "# en 1962 (que es 1950 + 12).\n",
    "poblacion_1962 = poblacion.item(12)\n",
    "poblacion_1962"
   ]
  },
  {
   "cell_type": "code",
   "execution_count": null,
   "id": "940f5bbe",
   "metadata": {},
   "outputs": [],
   "source": [
    "# El elemento 66 es la población en 2015.\n",
    "poblacion_2015 = poblacion.item(65)\n",
    "poblacion_2015"
   ]
  },
  {
   "cell_type": "code",
   "execution_count": null,
   "id": "22de96b5",
   "metadata": {
    "tags": [
     "raises-exception"
    ]
   },
   "outputs": [],
   "source": [
    "# La matriz tiene sólo 66 elementos, por lo que esto no funciona.\n",
    "# (No hay ningún elemento con otros 66 elementos antes).\n",
    "poblacion_2016 = poblacion.item(66)\n",
    "poblacion_2016"
   ]
  },
  {
   "cell_type": "markdown",
   "id": "197fb16a",
   "metadata": {},
   "source": [
    "Dado que `make_array` devuelve una matriz, podemos llamar a `.item(3)` en su salida para obtener su cuarto elemento, esta operación de encadenación, es análoga a la que utilizamos con método `replace` al inicio de este notebook. "
   ]
  },
  {
   "cell_type": "code",
   "execution_count": null,
   "id": "4e496f27",
   "metadata": {},
   "outputs": [],
   "source": [
    "make_array(-1, -3, 4, -2).item(3)"
   ]
  },
  {
   "cell_type": "markdown",
   "id": "e6d5ff57",
   "metadata": {
    "deletable": false,
    "editable": false
   },
   "source": [
    "**Pregunta 2.2.1.**  Asigne a la variable `poblacion_1973` el valor de la población mundial correspondiente al año **1973**, extrayendo el elemento adecuado de tabla `poblacion_mundial` mediante el método `item`."
   ]
  },
  {
   "cell_type": "code",
   "execution_count": null,
   "id": "666f62b9-f8d8-4927-b845-73769c07e17e",
   "metadata": {
    "tags": []
   },
   "outputs": [],
   "source": [
    "\n",
    "poblacion_1973 = ...\n",
    "poblacion_1973"
   ]
  },
  {
   "cell_type": "code",
   "execution_count": null,
   "id": "d8898348",
   "metadata": {
    "deletable": false,
    "editable": false
   },
   "outputs": [],
   "source": [
    "grader.check(\"q7\")"
   ]
  },
  {
   "cell_type": "markdown",
   "id": "ccf0dc6d",
   "metadata": {},
   "source": [
    "## 2.3. Realicemos operaciones con los elementos de un arreglo. \n",
    "\n",
    "Los arreglos son principalmente útiles para realizar la misma operación muchas veces, por lo que no tenemos que usar `.item` y trabajar con elementos individuales con frecuencia.\n",
    "\n",
    "### Redondeo\n",
    "Aquí hay una pregunta simple que podríamos hacer sobre la población mundial:\n",
    "\n",
    "> ¿Qué tamaño tenía la población cada año, redondeado al millón más cercano?\n",
    "\n",
    "El redondeo se utiliza a menudo con **números grandes** cuando no necesitamos tanta **precisión** en nuestros números. Un ejemplo de esto es cuando presentamos datos en tablas y visualizaciones.\n",
    "\n",
    "Podríamos intentar responder nuestra pregunta usando la función `round` que está integrada en Python y el método `item` que acabas de ver.\n",
    "\n",
    "**Nota:** la función `round` toma dos argumentos: el número que se va a redondear y el número de decimales a los que se va a redondear. \n",
    "\n",
    "El segundo argumento se puede considerar como cuántos pasos hacia la derecha o hacia la izquierda se mueve desde el punto decimal. Los números negativos nos dicen que nos movamos hacia la izquierda y los números positivos nos dicen que nos movamos hacia la derecha. Entonces, si tenemos `round (1234.5, -2)`, significa que debemos movernos dos lugares hacia la izquierda y luego convertir todos los números a la derecha de este lugar en ceros. Esto generaría el número 1200.0. Por otro lado, si tenemos `round(6.789, 1)`, debemos movernos un lugar a la derecha y luego convertir todos los números a la derecha de este lugar en ceros. Esto generaría el número 6,8."
   ]
  },
  {
   "cell_type": "code",
   "execution_count": null,
   "id": "d37fc41b",
   "metadata": {
    "scrolled": true
   },
   "outputs": [],
   "source": [
    "poblacion_1950_magnitude = round(poblacion.item(0), -6)\n",
    "poblacion_1951_magnitude = round(poblacion.item(1), -6)\n",
    "poblacion_1952_magnitude = round(poblacion.item(2), -6)\n",
    "poblacion_1953_magnitude = round(poblacion.item(3), -6)"
   ]
  },
  {
   "cell_type": "markdown",
   "id": "c4f8474e",
   "metadata": {
    "deletable": false,
    "editable": false
   },
   "source": [
    "**Pero esto es tedioso y realmente no aprovecha el hecho de que estamos usando una computadora**\n",
    "\n",
    "En cambio, NumPy proporciona su propia versión de \"round\" que redondea cada elemento de un arreglo. Esta función, toma dos argumentos: una único arreglo de números y el número de decimales a redondear, y  devuelve una matriz de la misma longitud, donde el primer elemento del resultado es el primer elemento del argumento redondeado, y así sucesivamente, (es decir, todos los elementos estan redondeados).\n",
    "\n",
    "**Pregunta 2.3.1.** Utilice `np.round` para calcular la población mundial de cada año, redondeada al millón más cercano (8 ceros). Asigne al resultado (una matriz de 66 números) el nombre \"poblacion_redondeada\". **Tu código debe ser muy corto**.  \n",
    "\n",
    "Prueba por ejemplo, poniendo el segundo argumento de np.round en el valor que se necesita, puede ser valores negativos o positivos, ejemplo: \n",
    "\n",
    "```python\n",
    "    np.round(100245700, -4), \n",
    "    np.round(3.16, 1)\n",
    "\n",
    "```"
   ]
  },
  {
   "cell_type": "code",
   "execution_count": null,
   "id": "f3106682-1b93-45c4-9522-97f626c06cf7",
   "metadata": {
    "tags": []
   },
   "outputs": [],
   "source": [
    "\n",
    "poblacion_redondeada = ...\n",
    "poblacion_redondeada"
   ]
  },
  {
   "cell_type": "code",
   "execution_count": null,
   "id": "6c441507",
   "metadata": {
    "deletable": false,
    "editable": false
   },
   "outputs": [],
   "source": [
    "grader.check(\"q8\")"
   ]
  },
  {
   "cell_type": "markdown",
   "id": "c7eb239c",
   "metadata": {},
   "source": [
    "Lo que acabas de hacer se llama aplicación **elemental** de `np.round`, ya que `np.round` opera por separado en cada elemento del arreglo. Aquí hay una imagen de lo que está pasando:"
   ]
  },
  {
   "cell_type": "markdown",
   "id": "0d821374",
   "metadata": {},
   "source": [
    "<img src=\"array_round.jpg\">\n",
    "\n",
    " \n",
    "\n",
    "\n",
    "La [sección](https://www.inferentialthinking.com/chapters/05/1/Arrays)  del libro de texto sobre arreglos tiene una lista útil de funciones de NumPy que están diseñadas para trabajar elemento por elemento, como `np.round`."
   ]
  },
  {
   "cell_type": "markdown",
   "id": "9da5f8f4",
   "metadata": {},
   "source": [
    "### Aritmética\n",
    "La aritmética también funciona por elementos en matrices, lo que significa que si realiza una operación aritmética (como resta, división, etc.) en una matriz, Python realizará la operación en cada elemento de la matriz individualmente y devolverá una matriz con todos los resultados. Por ejemplo, puedes dividir todas las cifras de población por mil millones para obtener cifras en miles de millones:"
   ]
  },
  {
   "cell_type": "code",
   "execution_count": null,
   "id": "f4adfd4c",
   "metadata": {},
   "outputs": [],
   "source": [
    "poblacion_en_billones = poblacion / 1000000000\n",
    "poblacion_en_billones"
   ]
  },
  {
   "cell_type": "markdown",
   "id": "d734d4c5",
   "metadata": {},
   "source": [
    "Puedes hacer lo mismo con la suma, resta, multiplicación y exponenciación (`**`)."
   ]
  },
  {
   "cell_type": "markdown",
   "id": "7a018792",
   "metadata": {
    "deletable": true
   },
   "source": [
    "## 3. Creando tablas\n",
    "\n",
    "Una arreglo es útil para describir un único atributo de cada elemento de una colección. Por ejemplo, digamos que nuestra colección son todos los departametos de Colombia. Entonces una matriz podría describir la superficie terrestre de cada departamento.\n",
    "\n",
    "Las tablas amplían esta idea al contener múltiples columnas almacenadas y representadas como arreglos, cada una de las cuales describe un atributo diferente para cada elemento de una colección. De esta manera, las tablas nos permiten no sólo almacenar datos sobre muchas entidades sino también contener varios tipos de datos sobre cada entidad.\n",
    "\n",
    "Por ejemplo, en la celda siguiente tenemos dos matrices. El primero, `cantidades_poblacion`, se definió anteriormente en la sección 2.2 y contiene la población mundial de cada año (estimada por la Oficina del Censo de EE. UU.). El segundo arreglo, `anios`, contiene los años. Estos elementos están en orden, por lo que el año y la población mundial de ese año tienen el mismo índice en sus matrices correspondientes."
   ]
  },
  {
   "cell_type": "code",
   "execution_count": null,
   "id": "a31f969f",
   "metadata": {
    "deletable": true,
    "scrolled": true
   },
   "outputs": [],
   "source": [
    "# Simplemente ejecuta esta celda\n",
    "poblacion_=poblacion.copy()\n",
    "anios = np.arange(1950, 2015+1)\n",
    "print(\"Columna de población:\", poblacion_)\n",
    "print(\"Columna de años:\", anios)\n"
   ]
  },
  {
   "cell_type": "markdown",
   "id": "c566d1a0",
   "metadata": {
    "deletable": true
   },
   "source": [
    "Supongamos que queremos responder a esta pregunta:\n",
    "\n",
    "    ¿En qué año la población mundial superó los 6 mil millones?\n",
    "\n",
    "Técnicamente, podrías responder a esta pregunta simplemente mirando los arreglos, pero es un poco complicado, ya que tendrías que contar la posición donde la población cruzó por primera vez los 6 mil millones y luego encontrar el elemento correspondiente en la *matriz de años*. En casos como estos, podría ser más fácil colocar los datos en una *`Tabla`*, un tipo de conjunto de datos bidimensional.\n",
    "\n",
    "La siguiente expresión:\n",
    "\n",
    "- Crea una tabla vacía usando la expresión `Table()`,\n",
    "- Agrega dos columnas llamando a `with_columns` con cuatro argumentos (correspondientes al nombre de la columna, los valores de esa columna, el nombre de la segunda columna y los valores de esa columna),\n",
    "- Asigna el resultado al nombre `poblacion`.\n",
    "- Finalmente, evalúa la `poblacion` para que podamos ver la tabla.\n",
    "\n",
    "Las cadenas `\"Anios\"` y `\"Poblacion\"` son etiquetas de columnas que hemos elegido. Los nombres `poblacion_` y `anios` se asignaron arriba a dos matrices de la **misma longitud**. La función `with_columns` (puede encontrar la documentación [aquí](http://data8.org/fa21/python-reference.html)) acepta cadenas alternas (para representar etiquetas de columnas) y matrices (que representan los datos en esas columnas). Las cadenas y arreglos están separadas por comas.\n",
    "\n",
    "Notese que en la siguiente celda, tenemos una variable `anios` que un arreglo, a la cual le asignaremos el nombre `Anios`, este último puede ser el nombre que tu quieras."
   ]
  },
  {
   "cell_type": "code",
   "execution_count": null,
   "id": "b2366869",
   "metadata": {
    "deletable": true
   },
   "outputs": [],
   "source": [
    "poblacion = Table().with_columns(\n",
    "     \"Población\", poblacion_,\n",
    "     \"Anio\", anios\n",
    ")\n",
    "poblacion"
   ]
  },
  {
   "cell_type": "markdown",
   "id": "c2bde1fe",
   "metadata": {
    "deletable": true
   },
   "source": [
    "¡Ahora los datos se combinan en una sola tabla! Es mucho más fácil analizar estos datos. Si necesita saber cuál era la población en 1959, por ejemplo, podrá saberlo con un solo vistazo."
   ]
  },
  {
   "cell_type": "markdown",
   "id": "953ada90",
   "metadata": {
    "deletable": false,
    "editable": false
   },
   "source": [
    "**Pregunta 3.1**. En la celda siguiente encontrarás dos arreglos ya definidos: `top_10_nombres_peliculas` y `top_10_rating_peliculas`. Tu tarea consiste en crear una **tabla** y guardarla en la variable `top_10_peliculas`. Esta tabla debe tener **dos columnas**:\n",
    "\n",
    "- `\"Nombre\"`: que contenga los nombres de las películas.\n",
    "- `\"Clasificación\"`: que contenga la calificación correspondiente a cada película.\n"
   ]
  },
  {
   "cell_type": "code",
   "execution_count": null,
   "id": "fcde766a-3b40-4018-a840-83b88a1cac0e",
   "metadata": {
    "tags": []
   },
   "outputs": [],
   "source": [
    "\n",
    "top_10_nombres_peliculas = make_array(\n",
    "        'The Shawshank Redemption (1994)',\n",
    "        'The Godfather (1972)',\n",
    "        'The Godfather: Part II (1974)',\n",
    "        'Pulp Fiction (1994)',\n",
    "        \"Schindler's List (1993)\",\n",
    "        'The Lord of the Rings: The Return of the King (2003)',\n",
    "        '12 Angry Men (1957)',\n",
    "        'The Dark Knight (2008)',\n",
    "        'Il buono, il brutto, il cattivo (1966)',\n",
    "        'The Lord of the Rings: The Fellowship of the Ring (2001)')\n",
    "top_10_ratings_peliculas = make_array(9.2, 9.2, 9., 8.9, 8.9, 8.9, 8.9, 8.9, 8.9, 8.8)\n",
    "\n",
    "top_10_peliculas = ...\n",
    "top_10_peliculas"
   ]
  },
  {
   "cell_type": "code",
   "execution_count": null,
   "id": "9f3ec8d3",
   "metadata": {
    "deletable": false,
    "editable": false
   },
   "outputs": [],
   "source": [
    "grader.check(\"q9\")"
   ]
  },
  {
   "cell_type": "markdown",
   "id": "33da5fbc",
   "metadata": {
    "deletable": false,
    "editable": false
   },
   "source": [
    "#### Cargando una tabla desde un archivo\n",
    "\n",
    "En la mayoría de los casos, no nos tomaremos la molestia de escribir todos los datos manualmente. En lugar de ello, los cargamos desde una fuente externa, como un archivo de datos. Existen muchos formatos para archivos de datos, pero CSV (\"valores separados por comas\") es el más común.\n",
    "\n",
    "`Table.read_table(...)` toma un argumento (una ruta a un archivo de datos en formato **cadena**) y devuelve una tabla.\n",
    "\n",
    "**Pregunta 3.2.** `imdb.csv` contiene una tabla de información sobre las 250 películas mejor calificadas en IMDb. Cárguelo como una tabla llamada `imdb`.\n",
    "\n",
    "(¡Quizás recuerde haber trabajado con esta tabla en el Laboratorio 2!)"
   ]
  },
  {
   "cell_type": "code",
   "execution_count": null,
   "id": "aa631bdd-3b42-4a71-a7e3-aca6c2643e86",
   "metadata": {
    "tags": []
   },
   "outputs": [],
   "source": [
    "\n",
    "imdb = ...\n",
    "imdb"
   ]
  },
  {
   "cell_type": "code",
   "execution_count": null,
   "id": "e1aca328",
   "metadata": {
    "deletable": false,
    "editable": false
   },
   "outputs": [],
   "source": [
    "grader.check(\"q10\")"
   ]
  },
  {
   "cell_type": "markdown",
   "id": "4957fb5d",
   "metadata": {},
   "source": [
    "¿De dónde vino \"imdb.csv\"? Eche un vistazo a [la carpeta de este laboratorio](./). Debería ver un archivo llamado `imdb.csv`.\n",
    "\n",
    "Abra el archivo `imdb.csv` en esa carpeta y observe el formato. ¿Que notaste? La terminación del nombre de archivo `.csv` dice que este archivo está en el [formato CSV (valores separados por comas)](http://edoceo.com/utilitas/csv-file-format)."
   ]
  },
  {
   "cell_type": "markdown",
   "id": "0b01d811",
   "metadata": {},
   "source": [
    "## 4. ¡Más operaciones con tablas!\n",
    "\n",
    "Ahora que ha trabajado con matrices, agreguemos algunos métodos más a la lista de operaciones de tablas que vio en el laboratorio  2.\n",
    "\n",
    "### `column`\n",
    "\n",
    "`column` toma el nombre de la columna de una tabla (en formato de cadena) como argumento y devuelve los valores de esa columna como una **matriz**."
   ]
  },
  {
   "cell_type": "code",
   "execution_count": null,
   "id": "99750054",
   "metadata": {
    "scrolled": true
   },
   "outputs": [],
   "source": [
    "# Returns an array of movie names\n",
    "top_10_peliculas.column('Nombre')"
   ]
  },
  {
   "cell_type": "markdown",
   "id": "db4cd0e5",
   "metadata": {},
   "source": [
    "### `take`\n",
    "El método de tabla `take` toma como argumento una matriz de números. Cada número debe ser el índice de una fila de la tabla. Devuelve una **nueva tabla** con solo esas filas.\n",
    "\n",
    "Por lo general, querrás usar `take` junto con `np.arange` para tomar las primeras filas de una tabla."
   ]
  },
  {
   "cell_type": "code",
   "execution_count": null,
   "id": "43cf7973",
   "metadata": {
    "scrolled": true
   },
   "outputs": [],
   "source": [
    "# Toma las primeras 5 películas de top_10_movies\n",
    "top_10_peliculas.take(np.arange(0, 5, 1))"
   ]
  },
  {
   "cell_type": "markdown",
   "id": "509e9ebb",
   "metadata": {},
   "source": [
    "Las siguientes tres preguntas le brindarán práctica para combinar las operaciones que aprendió en el laboratorio 2 y lo que llevamos de este, para responder preguntas sobre las tablas `poblacion` e `imdb`. Primero, consulte la tabla de `poblacion` de la sección 2."
   ]
  },
  {
   "cell_type": "code",
   "execution_count": null,
   "id": "c5f4a1e4",
   "metadata": {},
   "outputs": [],
   "source": [
    "# Ejecute esta celda para mostrar la tabla de población.\n",
    "poblacion"
   ]
  },
  {
   "cell_type": "markdown",
   "id": "157f27b2",
   "metadata": {
    "deletable": false,
    "editable": false
   },
   "source": [
    "**Pregunta 4.1.** Consulte la tabla de \"poblacion\" de la sección 2 de esta práctica de laboratorio. Calcule el año en que la población mundial superó por primera vez los 6 mil millones. Asigne el año a `poblacion_cruzo_6B`.\n",
    "\n",
    "_Sugerencia:_ ¿Cómo podemos filtrar la tabla solo para filas con valores de población superiores a 6 mil millones? ¿Cómo podemos encontrar el primer año de esta tabla filtrada?"
   ]
  },
  {
   "cell_type": "code",
   "execution_count": null,
   "id": "fcc33304-1179-4a05-9501-25bcface24c9",
   "metadata": {
    "tags": []
   },
   "outputs": [],
   "source": [
    "\n",
    "poblacion_cruzo_6B = ...\n",
    "poblacion_cruzo_6B"
   ]
  },
  {
   "cell_type": "code",
   "execution_count": null,
   "id": "74e5a860",
   "metadata": {
    "deletable": false,
    "editable": false
   },
   "outputs": [],
   "source": [
    "grader.check(\"q11\")"
   ]
  },
  {
   "cell_type": "markdown",
   "id": "8068181c",
   "metadata": {
    "deletable": false,
    "editable": false
   },
   "source": [
    "**Pregunta 4.2.** Encuentre la calificación promedio de las películas estrenadas **antes del año 2000** y la calificación promedio de las películas estrenadas en el **año 2000 o después** de las películas en `imdb`(debe calcular ambas).\n",
    "\n",
    "**Pista**: Piensa en los pasos que debes seguir (tomar el promedio, encontrar las calificaciones, buscar películas estrenadas en los siglos XX y XXI) e intenta ponerlas en un orden que tenga sentido.\n"
   ]
  },
  {
   "cell_type": "code",
   "execution_count": null,
   "id": "b8b368c2-cbce-4aa1-a4dd-b59c9a9a7231",
   "metadata": {
    "tags": []
   },
   "outputs": [],
   "source": [
    "\n",
    "...\n",
    "...\n",
    "...\n",
    "antes_2000_promedio = ...\n",
    "despues_o_e_2000_promedio = ...\n",
    "print(\"Calificación promedio antes de 2000:\", antes_2000_promedio)\n",
    "print(\"Calificación promedio después o en 2000:\", despues_o_e_2000_promedio)"
   ]
  },
  {
   "cell_type": "code",
   "execution_count": null,
   "id": "51b72dd8",
   "metadata": {
    "deletable": false,
    "editable": false
   },
   "outputs": [],
   "source": [
    "grader.check(\"q12\")"
   ]
  },
  {
   "cell_type": "markdown",
   "id": "0b4fad7f",
   "metadata": {
    "deletable": false,
    "editable": false
   },
   "source": [
    "**Pregunta 4.3.** Aquí tienes un desafío: encuentra la cantidad de películas que se estrenaron en años *pares*, llama esta variable `num_peliculas_anios_pares`\n",
    "\n",
    "\n",
    "*Pista:* El operador `%` calcula el residuo al dividir por un número. Entonces \"5% 2\" es 1 y \"6% 2\" es 0. Un número es par si el residuo es 0 cuando se divide por 2.\n",
    "\n",
    "*Pista 2:* `%` se puede usar en arreglos, operando por elementos como `+` o `*`. Entonces `make_array(5, 6, 7) % 2` es `array([1, 0, 1])`.\n",
    "\n",
    "*Pista 3:* Agregue una nueva columna llamada \"Anio_restante\" que es el residuo cuando el año de estreno de cada película se divide por 2. Para hacer esto, puede usar `table.with_column(col_name, col_values)`: un método de tabla que toma en el nombre de la nueva columna y un arreglo de valores y devuelve una copia del `table` original con la nueva columna. Luego, use `where` para encontrar filas donde esa nueva columna sea igual a 0. Finalmente, use `num_rows` para contar el número de dichas filas.\n",
    "\n",
    "*Nota:* Estos pasos pueden encadenarse en una sola declaración o dividirse en varias líneas con nombres intermedios asignados. ¡Siempre puedes resolver los problemas como quieras!"
   ]
  },
  {
   "cell_type": "code",
   "execution_count": null,
   "id": "601d1e30-8eb5-47be-bfbc-39105572c3e8",
   "metadata": {
    "tags": []
   },
   "outputs": [],
   "source": [
    "\n",
    "...\n",
    "....\n",
    "num_peliculas_anios_pares = ...."
   ]
  },
  {
   "cell_type": "code",
   "execution_count": null,
   "id": "09e85998",
   "metadata": {
    "deletable": false,
    "editable": false
   },
   "outputs": [],
   "source": [
    "grader.check(\"q13\")"
   ]
  },
  {
   "cell_type": "markdown",
   "id": "6902cf86",
   "metadata": {},
   "source": [
    "## 5. Más práctica con arreglos\n",
    "\n",
    "¡Las siguientes preguntas serán una excelente práctica para aprender a generar arreglos de diferentes maneras, así como para ejecutar diferentes métodos de aritmética de arreglos!"
   ]
  },
  {
   "cell_type": "markdown",
   "id": "659f6786",
   "metadata": {},
   "source": [
    "###  5.1 `np.arange` (cont.)"
   ]
  },
  {
   "cell_type": "markdown",
   "id": "02934e39",
   "metadata": {
    "deletable": false,
    "editable": false
   },
   "source": [
    "La tabla `costo_vida_resumido.csv` contiene información sobre el índice de costo de vida de diferentes ciudades a nivel  mundial de la primera mitad del 2024, en particular, el indice de renta y el indice de precio es de un restaurante, tomado y adaptado del siguiente [enlace](https://www.numbeo.com/cost-of-living/rankings_by_country.jsp). El índice de renta, refleja el costo promedio de alquilar una vivienda; mientras que el índice del precio de un restaurante, indica el costo relativo de una comida, todos los anterior comparados respecto a la ciudad de Nueva York.\n",
    "\n",
    "Por ejemplo, si en Nueva York un plato de comida en un restaurante cuesta, en promedio, 20 USD, en Hong Kong ese mismo plato cuesta el 46.2% del precio en Nueva York, es decir, el precio sería: `20 * 0.462 = 9.24 USD` (Revisa la tabla para que entiendas de donde sale el número `0.462` ). \n",
    "\n",
    "**Pregunta 5.1** Basándote en el ejemplo anterior, construye una nueva columna llamada `PrecioRestaurante[USD]` dentro de la tabla `costo_vida`, para obtener el precio  de un plato de comida en diferentes países asumiento que en Nueva York el costo promedio es de 20 usd.\n",
    "\n",
    "**Nota:** Algunos indices puede estar desfasados respecto a su valor real, dado que es una base de datos en la que hay contribuciones de usuarios en diferentes paises, y algunos paises, pueden tener bajas contribuciones de usuarios lo que genan un desbalance estadístico en algunas comparaciones (9,102,405 prices in 11,809 cities entered by 814,542 contributors)"
   ]
  },
  {
   "cell_type": "code",
   "execution_count": null,
   "id": "d90a4666-5a1e-4a26-bf37-f03f9f536e1e",
   "metadata": {
    "tags": []
   },
   "outputs": [],
   "source": [
    "\n",
    "costo_vida = Table().read_table(\"cost_vida_resumido.csv\")\n",
    "...\n",
    "...\n",
    "...\n",
    "precio_restaurante = ...\n",
    "precio_restaurante"
   ]
  },
  {
   "cell_type": "code",
   "execution_count": null,
   "id": "7a3235f8",
   "metadata": {
    "deletable": false,
    "editable": false
   },
   "outputs": [],
   "source": [
    "grader.check(\"q14\")"
   ]
  },
  {
   "cell_type": "markdown",
   "id": "ce5b8e7e",
   "metadata": {
    "deletable": false,
    "editable": false
   },
   "source": [
    "**Pregunta 5.2** Las potencias de 2 ($2^0 = 1$, $2^1 = 2$, $2^2 = 4$, etc.) surgen con frecuencia en informática. (Por ejemplo, es posible que hayas notado que el almacenamiento en teléfonos inteligentes o dispositivos USB viene en potencias de 2, como 16 GB, 32 GB o 64 GB). Utilice `np.arange` y el operador de exponenciación `**` para calcular la primera 30 potencias de 2, comenzando desde `2^0`.\n",
    "\n",
    "*Pista 1:* `np.arange(1, 2**30, 1)` crea un arreglo con $2^{30}$ elementos y **bloqueará su kernel**.\n",
    "\n",
    "*Pista 2:* Parte de tu solución involucrará `np.arange`, pero tu matriz no debe tener más de 30 elementos.\n"
   ]
  },
  {
   "cell_type": "code",
   "execution_count": null,
   "id": "183f92be-5e67-4bde-9554-919c4be79c36",
   "metadata": {
    "tags": []
   },
   "outputs": [],
   "source": [
    "\n",
    "potencias_de_2 = ...\n",
    "potencias_de_2"
   ]
  },
  {
   "cell_type": "code",
   "execution_count": null,
   "id": "e0872dd8",
   "metadata": {
    "deletable": false,
    "editable": false
   },
   "outputs": [],
   "source": [
    "grader.check(\"q15\")"
   ]
  },
  {
   "cell_type": "markdown",
   "id": "3dd70d8a",
   "metadata": {},
   "source": [
    "---\n",
    "\n",
    "<img src=\"Koffee.jpg\" alt=\"Picture of a dog smile\" width=\"300\"/>\n",
    "\n",
    "¡¡**Koffee** está emocionado de que hayas terminado el Laboratorio 3!!\n",
    "\n",
    "Para volver a verificar su trabajo, la celda a continuación volverá a ejecutar todas las pruebas del autocalificador."
   ]
  },
  {
   "cell_type": "markdown",
   "id": "76c2e05e",
   "metadata": {},
   "source": [
    "\n",
    "---\n",
    "\n",
    "¡Terminaste con el laboratorio!\n",
    "\n",
    "**Información importante sobre el envío:**\n",
    "- **Ejecuta todas las pruebas** y verifica que todas pasan\n",
    "- **Guardar** desde el menú **Archivo**\n",
    "- **Ejecute la celda final **\n",
    "- Luego, ve a este [enlace](https://cienciadatosudea.github.io/001_SitioWebFundCienciaDatos/04entregas.html) y envía el archivo ipynb a la tarea correspondiente. El nombre de esta tarea es \"Lab XX Autograder\", donde XX es el número de laboratorio: 01, 02, 03, etc.\n",
    "\n",
    "- Si terminas temprano en el laboratorio regular, **registra tu asistencia con el instructor**.\n",
    "\n",
    "**Es su responsabilidad asegurarse de que su trabajo esté guardado antes de ejecutar la última celda.**\n",
    "\n",
    "`Referencia`: Este material esta basado en [Data 8: The Foundations of Data Science](https://www.data8.org/) - University of California, Berkeley.\n"
   ]
  },
  {
   "cell_type": "markdown",
   "id": "7b701c90",
   "metadata": {},
   "source": [
    "## Envío\n",
    "\n",
    "Asegúrese de haber ejecutado todas las celdas de su cuaderno en orden antes de ejecutar la siguiente celda, para que todas las imágenes/gráficos aparezcan en el resultado. La siguiente celda generará un archivo zip para que lo envíe. **¡Guarde antes de exportar!**"
   ]
  },
  {
   "cell_type": "markdown",
   "id": "21474e4d",
   "metadata": {
    "deletable": false,
    "editable": false
   },
   "source": [
    "## Submission\n",
    "\n",
    "Make sure you have run all cells in your notebook in order before running the cell below, so that all images/graphs appear in the output. The cell below will generate a zip file for you to submit. **Please save before exporting!**\n",
    "\n",
    "These are some submission instructions."
   ]
  },
  {
   "cell_type": "code",
   "execution_count": null,
   "id": "4d285a51",
   "metadata": {
    "deletable": false,
    "editable": false
   },
   "outputs": [],
   "source": [
    "# Save your notebook first, then run this cell to export your submission.\n",
    "grader.export(run_tests=True)"
   ]
  },
  {
   "cell_type": "markdown",
   "id": "73489d53",
   "metadata": {},
   "source": [
    " "
   ]
  }
 ],
 "metadata": {
  "kernelspec": {
   "display_name": "Python 3 (ipykernel)",
   "language": "python",
   "name": "python3"
  },
  "language_info": {
   "codemirror_mode": {
    "name": "ipython",
    "version": 3
   },
   "file_extension": ".py",
   "mimetype": "text/x-python",
   "name": "python",
   "nbconvert_exporter": "python",
   "pygments_lexer": "ipython3",
   "version": "3.11.10"
  },
  "otter": {
   "OK_FORMAT": true,
   "assignment_name": "lab03",
   "tests": {
    "q01": {
     "name": "q01",
     "points": 1,
     "suites": [
      {
       "cases": [
        {
         "code": ">>> def test_variables():\n...     assert mujer_preguntando == 'La mujer preguntó:', 'Error en la variable mujer_preguntando'\n...     assert cita_mujer == '\"¿Será que has venido del espacio exterior?\"', 'Error en la variable cita_mujer'\n...     assert respuesta_de_gagarin == 'Gagarin respondió:', 'Error en la variable respuesta_de_gagarin'\n...     assert cita_de_gagarin == '\"¡De hecho, sí!\"', 'Error en la variable cita_de_gagarin'\n>>> test_variables()\n",
         "hidden": false,
         "locked": false
        }
       ],
       "scored": true,
       "setup": "",
       "teardown": "",
       "type": "doctest"
      }
     ]
    },
    "q10": {
     "name": "q10",
     "points": 1,
     "suites": [
      {
       "cases": [
        {
         "code": ">>> def test_imdb_table():\n...     expected_columns = ['Votes', 'Rating', 'Title', 'Year', 'Decade']\n...     assert imdb.num_columns == 5, 'La tabla no tiene el número correcto de columnas'\n...     assert imdb.labels == tuple(expected_columns), 'Los nombres de las columnas no son correctos'\n...     assert imdb.num_rows >= 250, 'La tabla no tiene el número mínimo de filas esperadas'\n...     assert imdb.column('Title').item(0) == 'M', 'El título de la primera película no es correcto'\n...     assert imdb.column('Year').item(0) == 1931, 'El año de la primera película no es correcto'\n...     assert imdb.column('Rating').item(0) == 8.4, 'La calificación de la primera película no es correcta'\n...     assert imdb.column('Title').item(9) == 'Relatos salvajes', 'El título de la décima película no es correcto'\n...     assert imdb.column('Year').item(9) == 2014, 'El año de la décima película no es correcto'\n...     assert imdb.column('Rating').item(9) == 8.0, 'La calificación de la décima película no es correcta'\n>>> test_imdb_table()\n",
         "hidden": false,
         "locked": false
        }
       ],
       "scored": true,
       "setup": "",
       "teardown": "",
       "type": "doctest"
      }
     ]
    },
    "q11": {
     "name": "q11",
     "points": 1,
     "suites": [
      {
       "cases": [
        {
         "code": ">>> assert np.isclose(poblacion_cruzo_6B, 1999, 0.01)\n",
         "hidden": false,
         "locked": false
        }
       ],
       "scored": true,
       "setup": "",
       "teardown": "",
       "type": "doctest"
      }
     ]
    },
    "q111": {
     "name": "q111",
     "points": 1,
     "suites": [
      {
       "cases": [
        {
         "code": ">>> def test_q111():\n...     resp1 = 'perro'.replace('e', 'o').replace('p', 'g')\n...     assert nueva_palabra == resp1, 'Error en la palabra'\n>>> test_q111()\n",
         "hidden": false,
         "locked": false
        }
       ],
       "scored": true,
       "setup": "",
       "teardown": "",
       "type": "doctest"
      }
     ]
    },
    "q12": {
     "name": "q12",
     "points": 1,
     "suites": [
      {
       "cases": [
        {
         "code": ">>> def test_promedios_antes_despues_2000():\n...     assert abs(antes_2000_promedio - 8.278362573099415) < 0.001, 'El promedio de calificación antes de 2000 no es correcto'\n...     assert abs(despues_o_e_2000_promedio - 8.237974683544303) < 0.001, 'El promedio de calificación después o en 2000 no es correcto'\n>>> test_promedios_antes_despues_2000()\n",
         "hidden": false,
         "locked": false
        }
       ],
       "scored": true,
       "setup": "",
       "teardown": "",
       "type": "doctest"
      }
     ]
    },
    "q13": {
     "name": "q13",
     "points": 1,
     "suites": [
      {
       "cases": [
        {
         "code": ">>> def test_num_peliculas_anios_pares():\n...     valor_esperado = 60 + 127 + 240\n...     assert num_peliculas_anios_pares + 240 + 60 == 60 + 127 + 240, 'El número de películas lanzadas en años pares no es correcto'\n>>> test_num_peliculas_anios_pares()\n",
         "hidden": false,
         "locked": false
        }
       ],
       "scored": true,
       "setup": "",
       "teardown": "",
       "type": "doctest"
      }
     ]
    },
    "q14": {
     "name": "q14",
     "points": 1,
     "suites": [
      {
       "cases": [
        {
         "code": ">>> def test_precio_restaurante():\n...     costo_vida1 = Table().read_table('cost_vida_resumido.csv')\n...     precio_restaurante1 = costo_vida1.with_column('PrecioRestaurante[USD]', costo_vida1.column('IndicePrecioRestaurante') * 20 / 100)\n...     assert 'PrecioRestaurante[USD]' in precio_restaurante.labels, \"La columna 'PrecioRestaurante[USD]' no fue agregada correctamente\"\n...     valor_esperado = precio_restaurante.column('IndicePrecioRestaurante').item(0) * 20 / 100\n...     assert precio_restaurante1.column('PrecioRestaurante[USD]').item(0) == valor_esperado, 'El cálculo del precio del restaurante no es correcto'\n...     assert precio_restaurante.num_rows == costo_vida.num_rows, 'El número de filas no coincide con la tabla original'\n>>> test_precio_restaurante()\n",
         "hidden": false,
         "locked": false
        }
       ],
       "scored": true,
       "setup": "",
       "teardown": "",
       "type": "doctest"
      }
     ]
    },
    "q15": {
     "name": "q15",
     "points": 1,
     "suites": [
      {
       "cases": [
        {
         "code": ">>> def test_potencias_de_2():\n...     assert potencias_de_2[0] == 1, '2^0 debe ser 1'\n...     assert potencias_de_2[1] == 2, '2^1 debe ser 2'\n...     assert potencias_de_2[29] == 2 ** 29, '2^29 debe ser correcto'\n>>> test_potencias_de_2()\n",
         "hidden": false,
         "locked": false
        }
       ],
       "scored": true,
       "setup": "",
       "teardown": "",
       "type": "doctest"
      }
     ]
    },
    "q2": {
     "name": "q2",
     "points": 1,
     "suites": [
      {
       "cases": [
        {
         "code": ">>> assert np.isclose(diferencia, 30, 0.001)\n",
         "hidden": false,
         "locked": false
        }
       ],
       "scored": true,
       "setup": "",
       "teardown": "",
       "type": "doctest"
      }
     ]
    },
    "q3": {
     "name": "q3",
     "points": 1,
     "suites": [
      {
       "cases": [
        {
         "code": ">>> assert np.isclose(longitud_oracion, 875, 0.1)\n",
         "hidden": false,
         "locked": false
        }
       ],
       "scored": true,
       "setup": "",
       "teardown": "",
       "type": "doctest"
      }
     ]
    },
    "q4": {
     "name": "q4",
     "points": 1,
     "suites": [
      {
       "cases": [
        {
         "code": ">>> assert np.isclose(numeros_interesantes[0], 0, 0.01)\n>>> assert np.isclose(numeros_interesantes[1], 1, 0.01)\n>>> assert np.isclose(numeros_interesantes[2], -1, 0.01)\n>>> assert np.isclose(numeros_interesantes[3], math.pi, 0.01)\n",
         "hidden": false,
         "locked": false
        }
       ],
       "scored": true,
       "setup": "",
       "teardown": "",
       "type": "doctest"
      }
     ]
    },
    "q5": {
     "name": "q5",
     "points": 1,
     "suites": [
      {
       "cases": [
        {
         "code": ">>> def test_hola_mundo_components():\n...     assert hola_mundo_components[0] == 'Hola', 'El primer elemento no es correcto'\n...     assert hola_mundo_components[1] == ',', 'El segundo elemento no es correcto'\n...     assert hola_mundo_components[2] == ' ', 'El tercer elemento no es correcto'\n...     assert hola_mundo_components[3] == 'mundo', 'El cuarto elemento no es correcto'\n...     assert hola_mundo_components[4] == '!', 'El quinto elemento no es correcto'\n>>> test_hola_mundo_components()\n",
         "hidden": false,
         "locked": false
        }
       ],
       "scored": true,
       "setup": "",
       "teardown": "",
       "type": "doctest"
      }
     ]
    },
    "q6": {
     "name": "q6",
     "points": 1,
     "suites": [
      {
       "cases": [
        {
         "code": ">>> def test_multiplos_de_99():\n...     assert len(multiplos_de_99) == 102, 'La longitud del arreglo no es correcta'\n...     assert multiplos_de_99[0] == 0, 'El primer elemento no es correcto'\n...     assert multiplos_de_99[1] == 99, 'El segundo elemento no es correcto'\n...     assert multiplos_de_99[-1] == 9999, 'El último elemento no es correcto'\n>>> test_multiplos_de_99()\n",
         "hidden": false,
         "locked": false
        }
       ],
       "scored": true,
       "setup": "",
       "teardown": "",
       "type": "doctest"
      }
     ]
    },
    "q7": {
     "name": "q7",
     "points": 1,
     "suites": [
      {
       "cases": [
        {
         "code": ">>> assert np.isclose(poblacion_1973, 3942096442, 0.01)\n",
         "hidden": false,
         "locked": false
        }
       ],
       "scored": true,
       "setup": "",
       "teardown": "",
       "type": "doctest"
      }
     ]
    },
    "q8": {
     "name": "q8",
     "points": 1,
     "suites": [
      {
       "cases": [
        {
         "code": ">>> def test_poblacion_redondeada():\n...     assert len(poblacion_redondeada) == 66, 'La longitud del arreglo no es correcta'\n...     assert poblacion_redondeada[0] == 2600000000, 'El primer valor redondeado no es correcto'\n...     assert poblacion_redondeada[-1] == 7300000000, 'El último valor redondeado no es correcto'\n>>> test_poblacion_redondeada()\n",
         "hidden": false,
         "locked": false
        }
       ],
       "scored": true,
       "setup": "",
       "teardown": "",
       "type": "doctest"
      }
     ]
    },
    "q9": {
     "name": "q9",
     "points": 1,
     "suites": [
      {
       "cases": [
        {
         "code": ">>> def test_top_10_peliculas():\n...     assert top_10_peliculas.num_columns == 2, 'La tabla no tiene dos columnas'\n...     assert top_10_peliculas.num_rows == 10, 'La tabla no tiene diez filas'\n...     assert top_10_peliculas.column('Nombre').item(0) == 'The Shawshank Redemption (1994)', 'El primer nombre no es correcto'\n...     assert top_10_peliculas.column('Clasificacion').item(0) == 9.2, 'La primera clasificación no es correcta'\n>>> test_top_10_peliculas()\n",
         "hidden": false,
         "locked": false
        }
       ],
       "scored": true,
       "setup": "",
       "teardown": "",
       "type": "doctest"
      }
     ]
    }
   }
  }
 },
 "nbformat": 4,
 "nbformat_minor": 5
}
