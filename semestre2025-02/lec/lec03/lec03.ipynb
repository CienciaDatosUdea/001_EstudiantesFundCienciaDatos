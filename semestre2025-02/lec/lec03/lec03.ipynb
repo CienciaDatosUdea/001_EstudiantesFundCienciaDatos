{
 "cells": [
  {
   "cell_type": "markdown",
   "id": "9038fcca-9747-41be-9f79-6fee1e265abb",
   "metadata": {},
   "source": [
    "# Expresiones"
   ]
  },
  {
   "cell_type": "markdown",
   "id": "fb42cf8a",
   "metadata": {},
   "source": [
    "| **Tipo de Expresión** | **Operador** | **Ejemplo**       |\n",
    "|-----------------------|--------------|-------------------|\n",
    "| Addition              | `+`          | `2 + 3 = 5`       |\n",
    "| Subtraction           | `-`          | `2 - 3 = -1`      |\n",
    "| Multiplication        | `*`          | `2 * 3 = 6`       |\n",
    "| Division              | `/`          | `7 / 3 = 2.66667` |\n",
    "| Remainder (Modulo)    | `%`          | `7 % 3 = 1`       |\n",
    "| Exponentiation        | `**`         | `2 ** 0.5 = 1.41421` |\n"
   ]
  },
  {
   "cell_type": "code",
   "execution_count": 106,
   "id": "8f41c05d",
   "metadata": {},
   "outputs": [
    {
     "data": {
      "text/plain": [
       "5"
      ]
     },
     "execution_count": 106,
     "metadata": {},
     "output_type": "execute_result"
    }
   ],
   "source": [
    "2 + 3"
   ]
  },
  {
   "cell_type": "code",
   "execution_count": 107,
   "id": "b70ad06a",
   "metadata": {},
   "outputs": [
    {
     "data": {
      "text/plain": [
       "-1"
      ]
     },
     "execution_count": 107,
     "metadata": {},
     "output_type": "execute_result"
    }
   ],
   "source": [
    "2 - 3"
   ]
  },
  {
   "cell_type": "code",
   "execution_count": 108,
   "id": "164bdb11",
   "metadata": {},
   "outputs": [
    {
     "data": {
      "text/plain": [
       "6"
      ]
     },
     "execution_count": 108,
     "metadata": {},
     "output_type": "execute_result"
    }
   ],
   "source": [
    "2*3"
   ]
  },
  {
   "cell_type": "code",
   "execution_count": 109,
   "id": "144db67c",
   "metadata": {},
   "outputs": [
    {
     "data": {
      "text/plain": [
       "2.3333333333333335"
      ]
     },
     "execution_count": 109,
     "metadata": {},
     "output_type": "execute_result"
    }
   ],
   "source": [
    "7/3"
   ]
  },
  {
   "cell_type": "code",
   "execution_count": 110,
   "id": "bd14cfac",
   "metadata": {},
   "outputs": [
    {
     "data": {
      "text/plain": [
       "1"
      ]
     },
     "execution_count": 110,
     "metadata": {},
     "output_type": "execute_result"
    }
   ],
   "source": [
    "7%3"
   ]
  },
  {
   "cell_type": "code",
   "execution_count": 111,
   "id": "d5adc5ba",
   "metadata": {},
   "outputs": [
    {
     "data": {
      "text/plain": [
       "1024"
      ]
     },
     "execution_count": 111,
     "metadata": {},
     "output_type": "execute_result"
    }
   ],
   "source": [
    "2**10"
   ]
  },
  {
   "cell_type": "code",
   "execution_count": 112,
   "id": "6f140e93",
   "metadata": {},
   "outputs": [],
   "source": [
    "# Esto es un comentario"
   ]
  },
  {
   "cell_type": "code",
   "execution_count": 113,
   "id": "620fa496",
   "metadata": {},
   "outputs": [
    {
     "data": {
      "text/plain": [
       "'hola mundo'"
      ]
     },
     "execution_count": 113,
     "metadata": {},
     "output_type": "execute_result"
    }
   ],
   "source": [
    "\"hola mundo\""
   ]
  },
  {
   "cell_type": "markdown",
   "id": "82fca82c",
   "metadata": {},
   "source": [
    "El orden de las operaciones importa en python\n",
    "- Primero se raliza la multiplicación y división, despues las sumas y restas\n"
   ]
  },
  {
   "cell_type": "code",
   "execution_count": 114,
   "id": "4e292785",
   "metadata": {},
   "outputs": [
    {
     "data": {
      "text/plain": [
       "7.0"
      ]
     },
     "execution_count": 114,
     "metadata": {},
     "output_type": "execute_result"
    }
   ],
   "source": [
    "2 + 3 * 4 / 2 - 1"
   ]
  },
  {
   "cell_type": "code",
   "execution_count": 115,
   "id": "588d012b",
   "metadata": {},
   "outputs": [
    {
     "data": {
      "text/plain": [
       "7.0"
      ]
     },
     "execution_count": 115,
     "metadata": {},
     "output_type": "execute_result"
    }
   ],
   "source": [
    "5 + 3 * 2 / 2 - 1"
   ]
  },
  {
   "cell_type": "code",
   "execution_count": 116,
   "id": "96e1ad17",
   "metadata": {},
   "outputs": [
    {
     "data": {
      "text/plain": [
       "16.0"
      ]
     },
     "execution_count": 116,
     "metadata": {},
     "output_type": "execute_result"
    }
   ],
   "source": [
    "(5 + 3) * (2 / (2 - 1))"
   ]
  },
  {
   "cell_type": "markdown",
   "id": "4b3646e2",
   "metadata": {},
   "source": [
    "# Nombres de variables"
   ]
  },
  {
   "cell_type": "code",
   "execution_count": 117,
   "id": "6634c322",
   "metadata": {},
   "outputs": [],
   "source": [
    "x = 4"
   ]
  },
  {
   "cell_type": "code",
   "execution_count": 118,
   "id": "6a1bb867",
   "metadata": {},
   "outputs": [
    {
     "data": {
      "text/plain": [
       "4"
      ]
     },
     "execution_count": 118,
     "metadata": {},
     "output_type": "execute_result"
    }
   ],
   "source": [
    "x"
   ]
  },
  {
   "cell_type": "code",
   "execution_count": 119,
   "id": "d2b0387b",
   "metadata": {},
   "outputs": [
    {
     "name": "stdout",
     "output_type": "stream",
     "text": [
      "4\n"
     ]
    }
   ],
   "source": [
    "print(x)"
   ]
  },
  {
   "cell_type": "code",
   "execution_count": 120,
   "id": "2b257bdb",
   "metadata": {},
   "outputs": [
    {
     "data": {
      "text/plain": [
       "10"
      ]
     },
     "execution_count": 120,
     "metadata": {},
     "output_type": "execute_result"
    }
   ],
   "source": [
    "z"
   ]
  },
  {
   "cell_type": "code",
   "execution_count": 121,
   "id": "0c880cd6",
   "metadata": {},
   "outputs": [],
   "source": [
    "z = 10"
   ]
  },
  {
   "cell_type": "code",
   "execution_count": 122,
   "id": "528f377a",
   "metadata": {},
   "outputs": [
    {
     "ename": "NameError",
     "evalue": "name 'Z' is not defined",
     "output_type": "error",
     "traceback": [
      "\u001b[0;31m---------------------------------------------------------------------------\u001b[0m",
      "\u001b[0;31mNameError\u001b[0m                                 Traceback (most recent call last)",
      "Cell \u001b[0;32mIn[122], line 1\u001b[0m\n\u001b[0;32m----> 1\u001b[0m x\u001b[38;5;241m*\u001b[39m\u001b[43mZ\u001b[49m\n",
      "\u001b[0;31mNameError\u001b[0m: name 'Z' is not defined"
     ]
    }
   ],
   "source": [
    "x*Z"
   ]
  },
  {
   "cell_type": "code",
   "execution_count": 123,
   "id": "8e9f3b51",
   "metadata": {},
   "outputs": [
    {
     "data": {
      "text/plain": [
       "40"
      ]
     },
     "execution_count": 123,
     "metadata": {},
     "output_type": "execute_result"
    }
   ],
   "source": [
    "x*z"
   ]
  },
  {
   "cell_type": "code",
   "execution_count": 124,
   "id": "cee6449f",
   "metadata": {},
   "outputs": [
    {
     "data": {
      "text/plain": [
       "14"
      ]
     },
     "execution_count": 124,
     "metadata": {},
     "output_type": "execute_result"
    }
   ],
   "source": [
    "total = x + z\n",
    "total"
   ]
  },
  {
   "cell_type": "code",
   "execution_count": 125,
   "id": "8b02d515",
   "metadata": {},
   "outputs": [
    {
     "data": {
      "text/plain": [
       "3.21"
      ]
     },
     "execution_count": 125,
     "metadata": {},
     "output_type": "execute_result"
    }
   ],
   "source": [
    "precio_metro = 3.210\n",
    "precio_metro"
   ]
  },
  {
   "cell_type": "code",
   "execution_count": 126,
   "id": "5a39ea72",
   "metadata": {},
   "outputs": [
    {
     "data": {
      "text/plain": [
       "(3, 210)"
      ]
     },
     "execution_count": 126,
     "metadata": {},
     "output_type": "execute_result"
    }
   ],
   "source": [
    "precio_metro = 3,210\n",
    "precio_metro"
   ]
  },
  {
   "cell_type": "code",
   "execution_count": 127,
   "id": "62751691",
   "metadata": {},
   "outputs": [
    {
     "data": {
      "text/plain": [
       "3210"
      ]
     },
     "execution_count": 127,
     "metadata": {},
     "output_type": "execute_result"
    }
   ],
   "source": [
    "precio_metro = 3210\n",
    "precio_metro "
   ]
  },
  {
   "cell_type": "code",
   "execution_count": 128,
   "id": "d9f26ca9",
   "metadata": {},
   "outputs": [
    {
     "data": {
      "text/plain": [
       "128400"
      ]
     },
     "execution_count": 128,
     "metadata": {},
     "output_type": "execute_result"
    }
   ],
   "source": [
    "precio_metro = 3210\n",
    "precio_metro_semana_dos_viajes = 2 * 5 * precio_metro \n",
    "precio_metro_mes = precio_metro_semana_dos_viajes*4\n",
    "precio_metro_mes"
   ]
  },
  {
   "cell_type": "markdown",
   "id": "c3faf3f6",
   "metadata": {},
   "source": [
    "# Funciones y llamado de expresiones"
   ]
  },
  {
   "cell_type": "code",
   "execution_count": 24,
   "id": "20b7a0db",
   "metadata": {},
   "outputs": [
    {
     "data": {
      "text/plain": [
       "10"
      ]
     },
     "execution_count": 24,
     "metadata": {},
     "output_type": "execute_result"
    }
   ],
   "source": [
    "abs(-10)"
   ]
  },
  {
   "cell_type": "code",
   "execution_count": 25,
   "id": "bbf4edea",
   "metadata": {},
   "outputs": [
    {
     "data": {
      "text/plain": [
       "9.8"
      ]
     },
     "execution_count": 25,
     "metadata": {},
     "output_type": "execute_result"
    }
   ],
   "source": [
    "g = -9.8\n",
    "abs(g)"
   ]
  },
  {
   "cell_type": "code",
   "execution_count": 26,
   "id": "3c48f998",
   "metadata": {},
   "outputs": [],
   "source": [
    "Temperature6am = 23\n",
    "Temperature12m = 28\n"
   ]
  },
  {
   "cell_type": "code",
   "execution_count": 27,
   "id": "23cd550c",
   "metadata": {},
   "outputs": [
    {
     "data": {
      "text/plain": [
       "-5"
      ]
     },
     "execution_count": 27,
     "metadata": {},
     "output_type": "execute_result"
    }
   ],
   "source": [
    "Temperature6am-Temperature12m"
   ]
  },
  {
   "cell_type": "code",
   "execution_count": 28,
   "id": "92a6b28a",
   "metadata": {},
   "outputs": [
    {
     "data": {
      "text/plain": [
       "5"
      ]
     },
     "execution_count": 28,
     "metadata": {},
     "output_type": "execute_result"
    }
   ],
   "source": [
    "abs(Temperature6am-Temperature12m)"
   ]
  },
  {
   "cell_type": "code",
   "execution_count": 29,
   "id": "5af4636f",
   "metadata": {},
   "outputs": [
    {
     "data": {
      "text/plain": [
       "10"
      ]
     },
     "execution_count": 29,
     "metadata": {},
     "output_type": "execute_result"
    }
   ],
   "source": [
    "min(10, 100)"
   ]
  },
  {
   "cell_type": "code",
   "execution_count": 30,
   "id": "6dc5b2a8",
   "metadata": {},
   "outputs": [
    {
     "data": {
      "text/plain": [
       "100"
      ]
     },
     "execution_count": 30,
     "metadata": {},
     "output_type": "execute_result"
    }
   ],
   "source": [
    "max(10, 100)"
   ]
  },
  {
   "cell_type": "code",
   "execution_count": 31,
   "id": "e30a5b6d",
   "metadata": {},
   "outputs": [
    {
     "data": {
      "text/plain": [
       "3"
      ]
     },
     "execution_count": 31,
     "metadata": {},
     "output_type": "execute_result"
    }
   ],
   "source": [
    "round(3.14)"
   ]
  },
  {
   "cell_type": "code",
   "execution_count": 32,
   "id": "d05ed0a2",
   "metadata": {},
   "outputs": [
    {
     "data": {
      "text/plain": [
       "4"
      ]
     },
     "execution_count": 32,
     "metadata": {},
     "output_type": "execute_result"
    }
   ],
   "source": [
    "round(3.5)"
   ]
  },
  {
   "cell_type": "code",
   "execution_count": 33,
   "id": "b48f6420",
   "metadata": {},
   "outputs": [],
   "source": [
    "import math "
   ]
  },
  {
   "cell_type": "code",
   "execution_count": 34,
   "id": "dea71015",
   "metadata": {},
   "outputs": [
    {
     "data": {
      "text/plain": [
       "3.1622776601683795"
      ]
     },
     "execution_count": 34,
     "metadata": {},
     "output_type": "execute_result"
    }
   ],
   "source": [
    "math.sqrt(10)"
   ]
  },
  {
   "cell_type": "code",
   "execution_count": 35,
   "id": "0e2b21ee",
   "metadata": {},
   "outputs": [
    {
     "data": {
      "text/plain": [
       "3"
      ]
     },
     "execution_count": 35,
     "metadata": {},
     "output_type": "execute_result"
    }
   ],
   "source": [
    "round(math.sqrt(10))"
   ]
  },
  {
   "cell_type": "code",
   "execution_count": 36,
   "id": "26651f02",
   "metadata": {},
   "outputs": [],
   "source": [
    "y = math.sqrt(10)"
   ]
  },
  {
   "cell_type": "code",
   "execution_count": 37,
   "id": "59eff13e-796a-4905-bace-55391860b51d",
   "metadata": {},
   "outputs": [
    {
     "data": {
      "text/plain": [
       "1.7782794100389228"
      ]
     },
     "execution_count": 37,
     "metadata": {},
     "output_type": "execute_result"
    }
   ],
   "source": [
    "math.sqrt(y)"
   ]
  },
  {
   "cell_type": "code",
   "execution_count": 38,
   "id": "baefe594-5d62-4f1d-babe-0ff650542fc3",
   "metadata": {},
   "outputs": [
    {
     "data": {
      "text/plain": [
       "2017.0"
      ]
     },
     "execution_count": 38,
     "metadata": {},
     "output_type": "execute_result"
    }
   ],
   "source": [
    "1 + 2 * (3 * 4 * 5 / 6) ** 3 + 7 + 8 - 9 + 10\n",
    "\n"
   ]
  },
  {
   "cell_type": "markdown",
   "id": "5b5cbde5-c616-4629-9abf-f303b748bbb7",
   "metadata": {},
   "source": [
    "# Exponentes"
   ]
  },
  {
   "cell_type": "code",
   "execution_count": 45,
   "id": "a77d5c61-e98e-4089-ba73-c1973698b3a9",
   "metadata": {},
   "outputs": [
    {
     "data": {
      "text/plain": [
       "1.4142135623730951"
      ]
     },
     "execution_count": 45,
     "metadata": {},
     "output_type": "execute_result"
    }
   ],
   "source": [
    "2**(1/2)"
   ]
  },
  {
   "cell_type": "code",
   "execution_count": 46,
   "id": "ad2bfe12-a235-4eca-8df1-78102fc67c1f",
   "metadata": {},
   "outputs": [
    {
     "data": {
      "text/plain": [
       "200000.0"
      ]
     },
     "execution_count": 46,
     "metadata": {},
     "output_type": "execute_result"
    }
   ],
   "source": [
    "2E5"
   ]
  },
  {
   "cell_type": "code",
   "execution_count": 47,
   "id": "b0190200-2609-4518-9d8d-51fc667378fc",
   "metadata": {},
   "outputs": [
    {
     "data": {
      "text/plain": [
       "32"
      ]
     },
     "execution_count": 47,
     "metadata": {},
     "output_type": "execute_result"
    }
   ],
   "source": [
    "2**5"
   ]
  },
  {
   "cell_type": "markdown",
   "id": "42460174-a615-4edb-9e92-4c69f2ca99d9",
   "metadata": {},
   "source": [
    "# Código escrito correctamenta"
   ]
  },
  {
   "cell_type": "code",
   "execution_count": 1,
   "id": "76739c81-3dc5-4471-a32f-337bae5a1b41",
   "metadata": {},
   "outputs": [
    {
     "name": "stdout",
     "output_type": "stream",
     "text": [
      "La probabilidad de que el codigo este mal escrito es de: 0.496\n"
     ]
    }
   ],
   "source": [
    "N = 1000   # El número de lineas en un programa.\n",
    "p = 0.9993 # Probabilidad de que cada linea este correcta \n",
    "P = p ** N # Probabilidad total, p1*p2*p3*p4*p5...pN, estadísticamente independientes.\n",
    "\n",
    "print(\"La probabilidad de que el codigo este mal escrito es de: {0:.3f}\".format(P))"
   ]
  },
  {
   "cell_type": "markdown",
   "id": "f62ec596-8aba-46ce-abf3-9c06df1235f5",
   "metadata": {},
   "source": [
    "# Problema de repaso\n",
    "Pamela desea calcular cuánto dinero gasta en un año considerando tres tipos de gastos \n",
    "diarios: **café**, **pasajes de transporte** (ida y vuelta) y **almuerzo**.\n",
    "\n",
    "\n",
    "\n",
    "1. Asigna a las  variable `cafe_diario`, `pasajes_diario` y `comida_diaria` el costo diario de cada uno de los tres gastos.\n",
    "2. Usa una variable para representar cuántos días por semana Pamela incurre en estos gastos.\n",
    "3. Usa otra variable para indicar cuántas semanas al año mantiene esta rutina.\n",
    "4. Calcula el gasto **semanal** y luego el gasto **anual** por cada tipo de gasto.\n",
    "5. Finalmente, calcula el gasto **total anual** sumando todos los conceptos.\n",
    "\n",
    "\n",
    "\n",
    "\n",
    "\n",
    "``` python\n",
    "# Costos diarios (en pesos colombianos)\n",
    "cafe_diario = 1000\n",
    "pasajes_diario = 6000\n",
    "comida_diaria = 10000\n",
    "\n",
    "# Días a la semana que incurre en los gastos\n",
    "dias_por_semana = 5\n",
    "# Semanas al año que mantiene la rutina\n",
    "semanas_por_ano = 52\n",
    "```"
   ]
  },
  {
   "cell_type": "code",
   "execution_count": 99,
   "id": "aec9323e-a54d-4570-ae1a-de260bfe095d",
   "metadata": {},
   "outputs": [
    {
     "data": {
      "text/plain": [
       "'Escriba su solucion en esta celda....'"
      ]
     },
     "execution_count": 99,
     "metadata": {},
     "output_type": "execute_result"
    }
   ],
   "source": [
    "\"Escriba su solucion en esta celda....\""
   ]
  },
  {
   "cell_type": "markdown",
   "id": "fb43b642-c84b-4126-8e10-2d4f24b7fd57",
   "metadata": {},
   "source": [
    "# Introducción a las tablas\n",
    "\n",
    "En esta sección comenzaremos con una introducción a las tablas de datos, luego definiremos los diferentes tipos de variables y exploraremos algunas operaciones básicas que se pueden realizar sobre ellas. Finalmente, abordaremos los operadores de comparación entre variables, los cuales pueden extenderse y aplicarse directamente sobre tablas."
   ]
  },
  {
   "cell_type": "markdown",
   "id": "154def1a-e447-41c3-97fe-a972cb512e39",
   "metadata": {},
   "source": [
    "\n",
    "Funciones básicas\n",
    "\n",
    "| **Método**                                  | **Descripción**                                                                 |\n",
    "|---------------------------------------------|---------------------------------------------------------------------------------|\n",
    "| `Table.read_table(file_path)`               | Lee un archivo CSV y devuelve una tabla.                                        |\n",
    "| `table.show(n)`                             | Muestra las primeras `n` filas de la tabla.                                     |\n",
    "| `table.with_columns(column1, values1, ...)` | Agrega una o más columnas nuevas a la tabla.                                    |\n",
    "| `table.column(column_name)`                 | Devuelve los valores de una columna como un array de Numpy.                     |\n",
    "| `table.num_columns()`                       | Devuelve el número de columnas en la tabla.                                     |\n",
    "| `table.num_rows()`                          | Devuelve el número de filas en la tabla.                                        |\n",
    "| `table.select(column_name1, column_name2)`  | Selecciona y devuelve una tabla con solo las columnas indicadas.                |\n",
    "| `table.drop(column_name1, column_name2)`    | Elimina las columnas especificadas y devuelve una tabla nueva.                  |\n",
    "| `table.where(column_name, predicate)`       | Filtra las filas según una condición en una columna específica.                 |\n",
    "| `table.sort(column_name, descending=False)` | Ordena la tabla por una columna en orden ascendente o descendente.              |\n",
    "\n",
    "\n",
    "<!-- \n",
    "| **Método**                                  | **Descripción**                                                                 |\n",
    "|---------------------------------------------|---------------------------------------------------------------------------------|\n",
    "| `table.group(column_name, func=sum)`        | Agrupa las filas por una columna, aplicando una función (por defecto, suma).    |\n",
    "| `table.join(column_name_in_self, ...)`      | Une dos tablas en base a una columna común.                                     |\n",
    "| `table.apply(function, column_name)`        | Aplica una función a todos los valores de una columna.                          |\n",
    "| `table.pivot(column_name_for_values, ...)`  | Crea una tabla pivote en base a dos columnas.                                   |\n",
    "| `table.scatter(column_for_x, column_for_y)` | Crea un gráfico de dispersión entre dos columnas.                               |\n",
    "| `table.barh(column_for_categories, ...)`    | Crea un gráfico de barras horizontal.                                           |\n",
    "| `table.hist(column_name)`                   | Crea un histograma de una columna.                                              |\n",
    "| `table.plot(column_for_x, column_for_y)`    | Crea un gráfico de líneas entre dos columnas.                                   |\n",
    " -->"
   ]
  },
  {
   "cell_type": "code",
   "execution_count": 100,
   "id": "58f22ec0-00bf-4c56-9647-226ce34a107a",
   "metadata": {},
   "outputs": [
    {
     "data": {
      "text/html": [
       "<table border=\"1\" class=\"dataframe\">\n",
       "    <thead>\n",
       "        <tr>\n",
       "            <th>Fruta</th> <th>Color</th>\n",
       "        </tr>\n",
       "    </thead>\n",
       "    <tbody>\n",
       "        <tr>\n",
       "            <td>Manzana</td> <td>Rojo </td>\n",
       "        </tr>\n",
       "    </tbody>\n",
       "</table>"
      ],
      "text/plain": [
       "Fruta   | Color\n",
       "Manzana | Rojo"
      ]
     },
     "execution_count": 100,
     "metadata": {},
     "output_type": "execute_result"
    }
   ],
   "source": [
    "Table().with_columns(\"Fruta\", [\"Manzana\"], \"Color\", [\"Rojo\"]  )"
   ]
  },
  {
   "cell_type": "code",
   "execution_count": 101,
   "id": "c3a7f471-8ef0-4bb3-b3a3-26e464e61362",
   "metadata": {},
   "outputs": [
    {
     "data": {
      "text/html": [
       "<table border=\"1\" class=\"dataframe\">\n",
       "    <thead>\n",
       "        <tr>\n",
       "            <th>Fruta</th> <th>Color</th>\n",
       "        </tr>\n",
       "    </thead>\n",
       "    <tbody>\n",
       "        <tr>\n",
       "            <td>Manzana</td> <td>Rojo </td>\n",
       "        </tr>\n",
       "    </tbody>\n",
       "</table>"
      ],
      "text/plain": [
       "Fruta   | Color\n",
       "Manzana | Rojo"
      ]
     },
     "execution_count": 101,
     "metadata": {},
     "output_type": "execute_result"
    }
   ],
   "source": [
    "from datascience import *\n",
    "Table().with_columns(\"Fruta\", [\"Manzana\"], \"Color\", [\"Rojo\"]  )"
   ]
  },
  {
   "cell_type": "markdown",
   "id": "9149a1d3-114a-4457-96a7-671b6a9d0fcf",
   "metadata": {},
   "source": [
    "Crear una tabla mas complejas con mas caracterististicas e incluir su valor..."
   ]
  },
  {
   "cell_type": "code",
   "execution_count": 102,
   "id": "b7778edf-c3f5-4eab-bd9c-6483fbd3dbb3",
   "metadata": {},
   "outputs": [],
   "source": [
    "\n",
    "tabla_frutas = Table().with_columns(\n",
    "    'Fruta', ['Manzana', 'Banana', 'Naranja', 'Fresa', 'Uva', 'Piña', 'Mango', 'Kiwi', 'Melón', 'Cereza'],\n",
    "    'Color', ['Rojo', 'Amarillo', 'Naranja', 'Rojo', 'Morado', 'Amarillo', 'Naranja', 'Verde', 'Verde', 'Rojo'],\n",
    "    'Sabor', ['Dulce y ligeramente ácido', 'Dulce', 'Ácido y jugoso', 'Dulce y ligeramente ácido', 'Dulce', 'Ácido y tropical', 'Dulce y tropical', 'Ácido y fresco', 'Dulce y suave', 'Dulce'],\n",
    "    \"Precio\",[2000, 400, 1000, 600 , 400, 6000, 3000, 3000, 7000, 3000]\n",
    ")"
   ]
  },
  {
   "cell_type": "code",
   "execution_count": 103,
   "id": "5cf941e5-692a-4b38-88f6-cacc7b8667c8",
   "metadata": {},
   "outputs": [
    {
     "data": {
      "text/html": [
       "<table border=\"1\" class=\"dataframe\">\n",
       "    <thead>\n",
       "        <tr>\n",
       "            <th>Fruta</th> <th>Color</th> <th>Sabor</th> <th>Precio</th>\n",
       "        </tr>\n",
       "    </thead>\n",
       "    <tbody>\n",
       "        <tr>\n",
       "            <td>Manzana</td> <td>Rojo    </td> <td>Dulce y ligeramente ácido</td> <td>2000  </td>\n",
       "        </tr>\n",
       "        <tr>\n",
       "            <td>Banana </td> <td>Amarillo</td> <td>Dulce                    </td> <td>400   </td>\n",
       "        </tr>\n",
       "        <tr>\n",
       "            <td>Naranja</td> <td>Naranja </td> <td>Ácido y jugoso           </td> <td>1000  </td>\n",
       "        </tr>\n",
       "        <tr>\n",
       "            <td>Fresa  </td> <td>Rojo    </td> <td>Dulce y ligeramente ácido</td> <td>600   </td>\n",
       "        </tr>\n",
       "        <tr>\n",
       "            <td>Uva    </td> <td>Morado  </td> <td>Dulce                    </td> <td>400   </td>\n",
       "        </tr>\n",
       "        <tr>\n",
       "            <td>Piña   </td> <td>Amarillo</td> <td>Ácido y tropical         </td> <td>6000  </td>\n",
       "        </tr>\n",
       "        <tr>\n",
       "            <td>Mango  </td> <td>Naranja </td> <td>Dulce y tropical         </td> <td>3000  </td>\n",
       "        </tr>\n",
       "        <tr>\n",
       "            <td>Kiwi   </td> <td>Verde   </td> <td>Ácido y fresco           </td> <td>3000  </td>\n",
       "        </tr>\n",
       "        <tr>\n",
       "            <td>Melón  </td> <td>Verde   </td> <td>Dulce y suave            </td> <td>7000  </td>\n",
       "        </tr>\n",
       "        <tr>\n",
       "            <td>Cereza </td> <td>Rojo    </td> <td>Dulce                    </td> <td>3000  </td>\n",
       "        </tr>\n",
       "    </tbody>\n",
       "</table>"
      ],
      "text/plain": [
       "Fruta   | Color    | Sabor                     | Precio\n",
       "Manzana | Rojo     | Dulce y ligeramente ácido | 2000\n",
       "Banana  | Amarillo | Dulce                     | 400\n",
       "Naranja | Naranja  | Ácido y jugoso            | 1000\n",
       "Fresa   | Rojo     | Dulce y ligeramente ácido | 600\n",
       "Uva     | Morado   | Dulce                     | 400\n",
       "Piña    | Amarillo | Ácido y tropical          | 6000\n",
       "Mango   | Naranja  | Dulce y tropical          | 3000\n",
       "Kiwi    | Verde    | Ácido y fresco            | 3000\n",
       "Melón   | Verde    | Dulce y suave             | 7000\n",
       "Cereza  | Rojo     | Dulce                     | 3000"
      ]
     },
     "execution_count": 103,
     "metadata": {},
     "output_type": "execute_result"
    }
   ],
   "source": [
    "tabla_frutas"
   ]
  },
  {
   "cell_type": "code",
   "execution_count": 104,
   "id": "199fb609-3213-4dda-8e57-645d08152b5e",
   "metadata": {},
   "outputs": [
    {
     "data": {
      "text/html": [
       "<table border=\"1\" class=\"dataframe\">\n",
       "    <thead>\n",
       "        <tr>\n",
       "            <th>Fruta</th> <th>Color</th> <th>Sabor</th> <th>Precio</th>\n",
       "        </tr>\n",
       "    </thead>\n",
       "    <tbody>\n",
       "        <tr>\n",
       "            <td>Manzana</td> <td>Rojo    </td> <td>Dulce y ligeramente ácido</td> <td>2000  </td>\n",
       "        </tr>\n",
       "        <tr>\n",
       "            <td>Banana </td> <td>Amarillo</td> <td>Dulce                    </td> <td>400   </td>\n",
       "        </tr>\n",
       "        <tr>\n",
       "            <td>Naranja</td> <td>Naranja </td> <td>Ácido y jugoso           </td> <td>1000  </td>\n",
       "        </tr>\n",
       "    </tbody>\n",
       "</table>\n",
       "<p>... (7 rows omitted)</p>"
      ],
      "text/plain": [
       "<IPython.core.display.HTML object>"
      ]
     },
     "metadata": {},
     "output_type": "display_data"
    }
   ],
   "source": [
    "tabla_frutas.show(3)"
   ]
  },
  {
   "cell_type": "code",
   "execution_count": 105,
   "id": "4f803f0d-cd20-48f9-b2fc-9e11b85b4d0b",
   "metadata": {},
   "outputs": [
    {
     "data": {
      "text/html": [
       "<table border=\"1\" class=\"dataframe\">\n",
       "    <thead>\n",
       "        <tr>\n",
       "            <th>Fruta</th>\n",
       "        </tr>\n",
       "    </thead>\n",
       "    <tbody>\n",
       "        <tr>\n",
       "            <td>Manzana</td>\n",
       "        </tr>\n",
       "        <tr>\n",
       "            <td>Banana </td>\n",
       "        </tr>\n",
       "        <tr>\n",
       "            <td>Naranja</td>\n",
       "        </tr>\n",
       "        <tr>\n",
       "            <td>Fresa  </td>\n",
       "        </tr>\n",
       "        <tr>\n",
       "            <td>Uva    </td>\n",
       "        </tr>\n",
       "        <tr>\n",
       "            <td>Piña   </td>\n",
       "        </tr>\n",
       "        <tr>\n",
       "            <td>Mango  </td>\n",
       "        </tr>\n",
       "        <tr>\n",
       "            <td>Kiwi   </td>\n",
       "        </tr>\n",
       "        <tr>\n",
       "            <td>Melón  </td>\n",
       "        </tr>\n",
       "        <tr>\n",
       "            <td>Cereza </td>\n",
       "        </tr>\n",
       "    </tbody>\n",
       "</table>"
      ],
      "text/plain": [
       "Fruta\n",
       "Manzana\n",
       "Banana\n",
       "Naranja\n",
       "Fresa\n",
       "Uva\n",
       "Piña\n",
       "Mango\n",
       "Kiwi\n",
       "Melón\n",
       "Cereza"
      ]
     },
     "execution_count": 105,
     "metadata": {},
     "output_type": "execute_result"
    }
   ],
   "source": [
    "tabla_frutas.select(\"Fruta\")"
   ]
  },
  {
   "cell_type": "code",
   "execution_count": 106,
   "id": "9dcff149-dbb9-4a63-9708-f372e559ad3f",
   "metadata": {},
   "outputs": [
    {
     "data": {
      "text/html": [
       "<table border=\"1\" class=\"dataframe\">\n",
       "    <thead>\n",
       "        <tr>\n",
       "            <th>Fruta</th> <th>Color</th> <th>Precio</th>\n",
       "        </tr>\n",
       "    </thead>\n",
       "    <tbody>\n",
       "        <tr>\n",
       "            <td>Manzana</td> <td>Rojo    </td> <td>2000  </td>\n",
       "        </tr>\n",
       "        <tr>\n",
       "            <td>Banana </td> <td>Amarillo</td> <td>400   </td>\n",
       "        </tr>\n",
       "        <tr>\n",
       "            <td>Naranja</td> <td>Naranja </td> <td>1000  </td>\n",
       "        </tr>\n",
       "        <tr>\n",
       "            <td>Fresa  </td> <td>Rojo    </td> <td>600   </td>\n",
       "        </tr>\n",
       "        <tr>\n",
       "            <td>Uva    </td> <td>Morado  </td> <td>400   </td>\n",
       "        </tr>\n",
       "        <tr>\n",
       "            <td>Piña   </td> <td>Amarillo</td> <td>6000  </td>\n",
       "        </tr>\n",
       "        <tr>\n",
       "            <td>Mango  </td> <td>Naranja </td> <td>3000  </td>\n",
       "        </tr>\n",
       "        <tr>\n",
       "            <td>Kiwi   </td> <td>Verde   </td> <td>3000  </td>\n",
       "        </tr>\n",
       "        <tr>\n",
       "            <td>Melón  </td> <td>Verde   </td> <td>7000  </td>\n",
       "        </tr>\n",
       "        <tr>\n",
       "            <td>Cereza </td> <td>Rojo    </td> <td>3000  </td>\n",
       "        </tr>\n",
       "    </tbody>\n",
       "</table>"
      ],
      "text/plain": [
       "Fruta   | Color    | Precio\n",
       "Manzana | Rojo     | 2000\n",
       "Banana  | Amarillo | 400\n",
       "Naranja | Naranja  | 1000\n",
       "Fresa   | Rojo     | 600\n",
       "Uva     | Morado   | 400\n",
       "Piña    | Amarillo | 6000\n",
       "Mango   | Naranja  | 3000\n",
       "Kiwi    | Verde    | 3000\n",
       "Melón   | Verde    | 7000\n",
       "Cereza  | Rojo     | 3000"
      ]
     },
     "execution_count": 106,
     "metadata": {},
     "output_type": "execute_result"
    }
   ],
   "source": [
    "tabla_frutas.drop(\"Sabor\")"
   ]
  },
  {
   "cell_type": "code",
   "execution_count": 107,
   "id": "591d8f57-9fd0-43cd-a2b6-4d9ee7089232",
   "metadata": {},
   "outputs": [],
   "source": [
    "frutas_nosabor = tabla_frutas.drop(\"Sabor\")"
   ]
  },
  {
   "cell_type": "code",
   "execution_count": 108,
   "id": "db067c8a-6b31-4a15-94ac-03b2a5243e4f",
   "metadata": {},
   "outputs": [
    {
     "data": {
      "text/html": [
       "<table border=\"1\" class=\"dataframe\">\n",
       "    <thead>\n",
       "        <tr>\n",
       "            <th>Fruta</th> <th>Color</th> <th>Precio</th>\n",
       "        </tr>\n",
       "    </thead>\n",
       "    <tbody>\n",
       "        <tr>\n",
       "            <td>Manzana</td> <td>Rojo    </td> <td>2000  </td>\n",
       "        </tr>\n",
       "        <tr>\n",
       "            <td>Banana </td> <td>Amarillo</td> <td>400   </td>\n",
       "        </tr>\n",
       "        <tr>\n",
       "            <td>Naranja</td> <td>Naranja </td> <td>1000  </td>\n",
       "        </tr>\n",
       "        <tr>\n",
       "            <td>Fresa  </td> <td>Rojo    </td> <td>600   </td>\n",
       "        </tr>\n",
       "        <tr>\n",
       "            <td>Uva    </td> <td>Morado  </td> <td>400   </td>\n",
       "        </tr>\n",
       "        <tr>\n",
       "            <td>Piña   </td> <td>Amarillo</td> <td>6000  </td>\n",
       "        </tr>\n",
       "        <tr>\n",
       "            <td>Mango  </td> <td>Naranja </td> <td>3000  </td>\n",
       "        </tr>\n",
       "        <tr>\n",
       "            <td>Kiwi   </td> <td>Verde   </td> <td>3000  </td>\n",
       "        </tr>\n",
       "        <tr>\n",
       "            <td>Melón  </td> <td>Verde   </td> <td>7000  </td>\n",
       "        </tr>\n",
       "        <tr>\n",
       "            <td>Cereza </td> <td>Rojo    </td> <td>3000  </td>\n",
       "        </tr>\n",
       "    </tbody>\n",
       "</table>"
      ],
      "text/plain": [
       "Fruta   | Color    | Precio\n",
       "Manzana | Rojo     | 2000\n",
       "Banana  | Amarillo | 400\n",
       "Naranja | Naranja  | 1000\n",
       "Fresa   | Rojo     | 600\n",
       "Uva     | Morado   | 400\n",
       "Piña    | Amarillo | 6000\n",
       "Mango   | Naranja  | 3000\n",
       "Kiwi    | Verde    | 3000\n",
       "Melón   | Verde    | 7000\n",
       "Cereza  | Rojo     | 3000"
      ]
     },
     "execution_count": 108,
     "metadata": {},
     "output_type": "execute_result"
    }
   ],
   "source": [
    "frutas_nosabor"
   ]
  },
  {
   "cell_type": "code",
   "execution_count": 109,
   "id": "442f7886-506b-4544-b2b3-8dbc89e5ecf3",
   "metadata": {},
   "outputs": [
    {
     "data": {
      "text/html": [
       "<table border=\"1\" class=\"dataframe\">\n",
       "    <thead>\n",
       "        <tr>\n",
       "            <th>Fruta</th> <th>Color</th> <th>Sabor</th> <th>Precio</th>\n",
       "        </tr>\n",
       "    </thead>\n",
       "    <tbody>\n",
       "        <tr>\n",
       "            <td>Banana </td> <td>Amarillo</td> <td>Dulce                    </td> <td>400   </td>\n",
       "        </tr>\n",
       "        <tr>\n",
       "            <td>Uva    </td> <td>Morado  </td> <td>Dulce                    </td> <td>400   </td>\n",
       "        </tr>\n",
       "        <tr>\n",
       "            <td>Fresa  </td> <td>Rojo    </td> <td>Dulce y ligeramente ácido</td> <td>600   </td>\n",
       "        </tr>\n",
       "        <tr>\n",
       "            <td>Naranja</td> <td>Naranja </td> <td>Ácido y jugoso           </td> <td>1000  </td>\n",
       "        </tr>\n",
       "        <tr>\n",
       "            <td>Manzana</td> <td>Rojo    </td> <td>Dulce y ligeramente ácido</td> <td>2000  </td>\n",
       "        </tr>\n",
       "        <tr>\n",
       "            <td>Mango  </td> <td>Naranja </td> <td>Dulce y tropical         </td> <td>3000  </td>\n",
       "        </tr>\n",
       "        <tr>\n",
       "            <td>Kiwi   </td> <td>Verde   </td> <td>Ácido y fresco           </td> <td>3000  </td>\n",
       "        </tr>\n",
       "        <tr>\n",
       "            <td>Cereza </td> <td>Rojo    </td> <td>Dulce                    </td> <td>3000  </td>\n",
       "        </tr>\n",
       "        <tr>\n",
       "            <td>Piña   </td> <td>Amarillo</td> <td>Ácido y tropical         </td> <td>6000  </td>\n",
       "        </tr>\n",
       "        <tr>\n",
       "            <td>Melón  </td> <td>Verde   </td> <td>Dulce y suave            </td> <td>7000  </td>\n",
       "        </tr>\n",
       "    </tbody>\n",
       "</table>"
      ],
      "text/plain": [
       "Fruta   | Color    | Sabor                     | Precio\n",
       "Banana  | Amarillo | Dulce                     | 400\n",
       "Uva     | Morado   | Dulce                     | 400\n",
       "Fresa   | Rojo     | Dulce y ligeramente ácido | 600\n",
       "Naranja | Naranja  | Ácido y jugoso            | 1000\n",
       "Manzana | Rojo     | Dulce y ligeramente ácido | 2000\n",
       "Mango   | Naranja  | Dulce y tropical          | 3000\n",
       "Kiwi    | Verde    | Ácido y fresco            | 3000\n",
       "Cereza  | Rojo     | Dulce                     | 3000\n",
       "Piña    | Amarillo | Ácido y tropical          | 6000\n",
       "Melón   | Verde    | Dulce y suave             | 7000"
      ]
     },
     "execution_count": 109,
     "metadata": {},
     "output_type": "execute_result"
    }
   ],
   "source": [
    "tabla_frutas.sort(\"Precio\")"
   ]
  },
  {
   "cell_type": "code",
   "execution_count": 110,
   "id": "3139a0ed-1390-46f9-85bb-6c770255537f",
   "metadata": {},
   "outputs": [
    {
     "data": {
      "text/html": [
       "<table border=\"1\" class=\"dataframe\">\n",
       "    <thead>\n",
       "        <tr>\n",
       "            <th>Fruta</th> <th>Color</th> <th>Sabor</th> <th>Precio</th>\n",
       "        </tr>\n",
       "    </thead>\n",
       "    <tbody>\n",
       "        <tr>\n",
       "            <td>Melón  </td> <td>Verde   </td> <td>Dulce y suave            </td> <td>7000  </td>\n",
       "        </tr>\n",
       "        <tr>\n",
       "            <td>Piña   </td> <td>Amarillo</td> <td>Ácido y tropical         </td> <td>6000  </td>\n",
       "        </tr>\n",
       "        <tr>\n",
       "            <td>Mango  </td> <td>Naranja </td> <td>Dulce y tropical         </td> <td>3000  </td>\n",
       "        </tr>\n",
       "        <tr>\n",
       "            <td>Kiwi   </td> <td>Verde   </td> <td>Ácido y fresco           </td> <td>3000  </td>\n",
       "        </tr>\n",
       "        <tr>\n",
       "            <td>Cereza </td> <td>Rojo    </td> <td>Dulce                    </td> <td>3000  </td>\n",
       "        </tr>\n",
       "        <tr>\n",
       "            <td>Manzana</td> <td>Rojo    </td> <td>Dulce y ligeramente ácido</td> <td>2000  </td>\n",
       "        </tr>\n",
       "        <tr>\n",
       "            <td>Naranja</td> <td>Naranja </td> <td>Ácido y jugoso           </td> <td>1000  </td>\n",
       "        </tr>\n",
       "        <tr>\n",
       "            <td>Fresa  </td> <td>Rojo    </td> <td>Dulce y ligeramente ácido</td> <td>600   </td>\n",
       "        </tr>\n",
       "        <tr>\n",
       "            <td>Banana </td> <td>Amarillo</td> <td>Dulce                    </td> <td>400   </td>\n",
       "        </tr>\n",
       "        <tr>\n",
       "            <td>Uva    </td> <td>Morado  </td> <td>Dulce                    </td> <td>400   </td>\n",
       "        </tr>\n",
       "    </tbody>\n",
       "</table>"
      ],
      "text/plain": [
       "Fruta   | Color    | Sabor                     | Precio\n",
       "Melón   | Verde    | Dulce y suave             | 7000\n",
       "Piña    | Amarillo | Ácido y tropical          | 6000\n",
       "Mango   | Naranja  | Dulce y tropical          | 3000\n",
       "Kiwi    | Verde    | Ácido y fresco            | 3000\n",
       "Cereza  | Rojo     | Dulce                     | 3000\n",
       "Manzana | Rojo     | Dulce y ligeramente ácido | 2000\n",
       "Naranja | Naranja  | Ácido y jugoso            | 1000\n",
       "Fresa   | Rojo     | Dulce y ligeramente ácido | 600\n",
       "Banana  | Amarillo | Dulce                     | 400\n",
       "Uva     | Morado   | Dulce                     | 400"
      ]
     },
     "execution_count": 110,
     "metadata": {},
     "output_type": "execute_result"
    }
   ],
   "source": [
    "tabla_frutas.sort(\"Precio\", descending=True)"
   ]
  },
  {
   "cell_type": "code",
   "execution_count": 111,
   "id": "12048fba-e8bd-4875-90d1-7b78cfbb059f",
   "metadata": {},
   "outputs": [
    {
     "data": {
      "text/html": [
       "<table border=\"1\" class=\"dataframe\">\n",
       "    <thead>\n",
       "        <tr>\n",
       "            <th>Fruta</th> <th>Color</th> <th>Sabor</th> <th>Precio</th>\n",
       "        </tr>\n",
       "    </thead>\n",
       "    <tbody>\n",
       "        <tr>\n",
       "            <td>Banana</td> <td>Amarillo</td> <td>Dulce           </td> <td>400   </td>\n",
       "        </tr>\n",
       "        <tr>\n",
       "            <td>Piña  </td> <td>Amarillo</td> <td>Ácido y tropical</td> <td>6000  </td>\n",
       "        </tr>\n",
       "    </tbody>\n",
       "</table>"
      ],
      "text/plain": [
       "Fruta  | Color    | Sabor            | Precio\n",
       "Banana | Amarillo | Dulce            | 400\n",
       "Piña   | Amarillo | Ácido y tropical | 6000"
      ]
     },
     "execution_count": 111,
     "metadata": {},
     "output_type": "execute_result"
    }
   ],
   "source": [
    "tabla_frutas.where(\"Color\", \"Amarillo\")"
   ]
  },
  {
   "cell_type": "code",
   "execution_count": 112,
   "id": "75789257-cd92-47a2-8390-73593bb2391f",
   "metadata": {},
   "outputs": [
    {
     "data": {
      "text/html": [
       "<table border=\"1\" class=\"dataframe\">\n",
       "    <thead>\n",
       "        <tr>\n",
       "            <th>Fruta</th> <th>Color</th> <th>Sabor</th> <th>Precio</th>\n",
       "        </tr>\n",
       "    </thead>\n",
       "    <tbody>\n",
       "        <tr>\n",
       "            <td>Piña </td> <td>Amarillo</td> <td>Ácido y tropical</td> <td>6000  </td>\n",
       "        </tr>\n",
       "    </tbody>\n",
       "</table>"
      ],
      "text/plain": [
       "Fruta | Color    | Sabor            | Precio\n",
       "Piña  | Amarillo | Ácido y tropical | 6000"
      ]
     },
     "execution_count": 112,
     "metadata": {},
     "output_type": "execute_result"
    }
   ],
   "source": [
    "tabla_frutas.take(5)"
   ]
  },
  {
   "cell_type": "code",
   "execution_count": 113,
   "id": "8df5e6f4-d1de-4dab-9d84-c86eeaf9e62c",
   "metadata": {},
   "outputs": [
    {
     "data": {
      "text/html": [
       "<table border=\"1\" class=\"dataframe\">\n",
       "    <thead>\n",
       "        <tr>\n",
       "            <th>Fruta</th> <th>Color</th> <th>Sabor</th> <th>Precio</th>\n",
       "        </tr>\n",
       "    </thead>\n",
       "    <tbody>\n",
       "        <tr>\n",
       "            <td>Kiwi  </td> <td>Verde</td> <td>Ácido y fresco</td> <td>3000  </td>\n",
       "        </tr>\n",
       "        <tr>\n",
       "            <td>Melón </td> <td>Verde</td> <td>Dulce y suave </td> <td>7000  </td>\n",
       "        </tr>\n",
       "        <tr>\n",
       "            <td>Cereza</td> <td>Rojo </td> <td>Dulce         </td> <td>3000  </td>\n",
       "        </tr>\n",
       "    </tbody>\n",
       "</table>"
      ],
      "text/plain": [
       "Fruta  | Color | Sabor          | Precio\n",
       "Kiwi   | Verde | Ácido y fresco | 3000\n",
       "Melón  | Verde | Dulce y suave  | 7000\n",
       "Cereza | Rojo  | Dulce          | 3000"
      ]
     },
     "execution_count": 113,
     "metadata": {},
     "output_type": "execute_result"
    }
   ],
   "source": [
    "tabla_frutas.take(range(-3, 0))"
   ]
  },
  {
   "cell_type": "markdown",
   "id": "65a7b80a-db33-485e-a4b4-30b8ae25b4cf",
   "metadata": {},
   "source": [
    "# Más manejo de tablas\n",
    "La siguiente tabla muestra los tamaños de animales de diferentes especies  tomadas y adaptada de [kaggle](https://www.kaggle.com/datasets/iamsouravbanerjee/animal-information-dataset/data)"
   ]
  },
  {
   "cell_type": "code",
   "execution_count": 114,
   "id": "5dd6be79-d5c9-451b-b486-e67a006bd788",
   "metadata": {},
   "outputs": [],
   "source": [
    "tabla_animales = Table.read_table('Animales.csv')\n",
    "tabla_animales = tabla_animales.drop(\"Unnamed: 0\")"
   ]
  },
  {
   "cell_type": "markdown",
   "id": "9ea07cd5-dc15-4a3f-b521-c4ebaa31924e",
   "metadata": {},
   "source": [
    "1. Muestra los 10 primeros valores de la tabla\n",
    "\n",
    "2. Selecciona las columnas \"Animal\" y \"Velocidad Promedio (km/h)\"\n",
    "\n",
    "3. Determina el animal que tiene mayor peso\n"
   ]
  },
  {
   "cell_type": "code",
   "execution_count": 115,
   "id": "f1db1783-6798-458f-bc2a-ec01039814f1",
   "metadata": {},
   "outputs": [
    {
     "data": {
      "text/html": [
       "<table border=\"1\" class=\"dataframe\">\n",
       "    <thead>\n",
       "        <tr>\n",
       "            <th>Animal</th> <th>Altura (cm)</th> <th>Peso (kg)</th> <th>Velocidad Promedio (km/h)</th>\n",
       "        </tr>\n",
       "    </thead>\n",
       "    <tbody>\n",
       "        <tr>\n",
       "            <td>Cerdo Hormiguero          </td> <td>117.5      </td> <td>52.5     </td> <td>40                       </td>\n",
       "        </tr>\n",
       "        <tr>\n",
       "            <td>Lobo Terrícola            </td> <td>45         </td> <td>11       </td> <td>27                       </td>\n",
       "        </tr>\n",
       "        <tr>\n",
       "            <td>Elefante Africano         </td> <td>290        </td> <td>4350     </td> <td>25                       </td>\n",
       "        </tr>\n",
       "        <tr>\n",
       "            <td>León Africano             </td> <td>95         </td> <td>185      </td> <td>58                       </td>\n",
       "        </tr>\n",
       "        <tr>\n",
       "            <td>Perro Salvaje Africano    </td> <td>77.5       </td> <td>27       </td> <td>56                       </td>\n",
       "        </tr>\n",
       "        <tr>\n",
       "            <td>Íbice Alpino              </td> <td>84         </td> <td>69.5     </td> <td>60                       </td>\n",
       "        </tr>\n",
       "        <tr>\n",
       "            <td>Rana de la Selva Amazónica</td> <td>7.5        </td> <td>0        </td> <td>0.55                     </td>\n",
       "        </tr>\n",
       "        <tr>\n",
       "            <td>Bisonte Americano         </td> <td>169        </td> <td>nan      </td> <td>48                       </td>\n",
       "        </tr>\n",
       "        <tr>\n",
       "            <td>Oso Hormiguero            </td> <td>71.5       </td> <td>31.5     </td> <td>24                       </td>\n",
       "        </tr>\n",
       "        <tr>\n",
       "            <td>Caballo Árabe             </td> <td>150        </td> <td>690      </td> <td>65                       </td>\n",
       "        </tr>\n",
       "    </tbody>\n",
       "</table>\n",
       "<p>... (168 rows omitted)</p>"
      ],
      "text/plain": [
       "<IPython.core.display.HTML object>"
      ]
     },
     "metadata": {},
     "output_type": "display_data"
    }
   ],
   "source": [
    "tabla_animales.show(10)"
   ]
  },
  {
   "cell_type": "code",
   "execution_count": 116,
   "id": "60229675-5274-4df8-acdc-8ac5554c487a",
   "metadata": {},
   "outputs": [
    {
     "data": {
      "text/html": [
       "<table border=\"1\" class=\"dataframe\">\n",
       "    <thead>\n",
       "        <tr>\n",
       "            <th>Animal</th> <th>Altura (cm)</th>\n",
       "        </tr>\n",
       "    </thead>\n",
       "    <tbody>\n",
       "        <tr>\n",
       "            <td>Cerdo Hormiguero          </td> <td>117.5      </td>\n",
       "        </tr>\n",
       "        <tr>\n",
       "            <td>Lobo Terrícola            </td> <td>45         </td>\n",
       "        </tr>\n",
       "        <tr>\n",
       "            <td>Elefante Africano         </td> <td>290        </td>\n",
       "        </tr>\n",
       "        <tr>\n",
       "            <td>León Africano             </td> <td>95         </td>\n",
       "        </tr>\n",
       "        <tr>\n",
       "            <td>Perro Salvaje Africano    </td> <td>77.5       </td>\n",
       "        </tr>\n",
       "        <tr>\n",
       "            <td>Íbice Alpino              </td> <td>84         </td>\n",
       "        </tr>\n",
       "        <tr>\n",
       "            <td>Rana de la Selva Amazónica</td> <td>7.5        </td>\n",
       "        </tr>\n",
       "        <tr>\n",
       "            <td>Bisonte Americano         </td> <td>169        </td>\n",
       "        </tr>\n",
       "        <tr>\n",
       "            <td>Oso Hormiguero            </td> <td>71.5       </td>\n",
       "        </tr>\n",
       "        <tr>\n",
       "            <td>Caballo Árabe             </td> <td>150        </td>\n",
       "        </tr>\n",
       "    </tbody>\n",
       "</table>\n",
       "<p>... (168 rows omitted)</p>"
      ],
      "text/plain": [
       "Animal                     | Altura (cm)\n",
       "Cerdo Hormiguero           | 117.5\n",
       "Lobo Terrícola             | 45\n",
       "Elefante Africano          | 290\n",
       "León Africano              | 95\n",
       "Perro Salvaje Africano     | 77.5\n",
       "Íbice Alpino               | 84\n",
       "Rana de la Selva Amazónica | 7.5\n",
       "Bisonte Americano          | 169\n",
       "Oso Hormiguero             | 71.5\n",
       "Caballo Árabe              | 150\n",
       "... (168 rows omitted)"
      ]
     },
     "execution_count": 116,
     "metadata": {},
     "output_type": "execute_result"
    }
   ],
   "source": [
    "tabla_animales.select(\"Animal\",\"Altura (cm)\")"
   ]
  },
  {
   "cell_type": "code",
   "execution_count": 117,
   "id": "9449c690-aad9-4db7-830a-19dd5c105e74",
   "metadata": {},
   "outputs": [
    {
     "data": {
      "text/html": [
       "<table border=\"1\" class=\"dataframe\">\n",
       "    <thead>\n",
       "        <tr>\n",
       "            <th>Animal</th> <th>Altura (cm)</th> <th>Peso (kg)</th> <th>Velocidad Promedio (km/h)</th>\n",
       "        </tr>\n",
       "    </thead>\n",
       "    <tbody>\n",
       "        <tr>\n",
       "            <td>Rana Venenosa Dorada      </td> <td>4.5        </td> <td>2        </td> <td>0.3                      </td>\n",
       "        </tr>\n",
       "        <tr>\n",
       "            <td>Rana de Cristal           </td> <td>4.95       </td> <td>0        </td> <td>0.8                      </td>\n",
       "        </tr>\n",
       "        <tr>\n",
       "            <td>Pulpo Gigante del Pacífico</td> <td>5          </td> <td>25       </td> <td>24                       </td>\n",
       "        </tr>\n",
       "        <tr>\n",
       "            <td>Rana de la Selva Amazónica</td> <td>7.5        </td> <td>0        </td> <td>0.55                     </td>\n",
       "        </tr>\n",
       "        <tr>\n",
       "            <td>Pez Payaso                </td> <td>8.5        </td> <td>175      </td> <td>8                        </td>\n",
       "        </tr>\n",
       "        <tr>\n",
       "            <td>Rata Topo Desnuda         </td> <td>9          </td> <td>80       </td> <td>0.055                    </td>\n",
       "        </tr>\n",
       "        <tr>\n",
       "            <td>Murciélago Vampiro        </td> <td>9          </td> <td>0        </td> <td>32                       </td>\n",
       "        </tr>\n",
       "        <tr>\n",
       "            <td>Colibrí                   </td> <td>10.25      </td> <td>11       </td> <td>60                       </td>\n",
       "        </tr>\n",
       "        <tr>\n",
       "            <td>Rata Canguro              </td> <td>11         </td> <td>0.0925   </td> <td>16                       </td>\n",
       "        </tr>\n",
       "        <tr>\n",
       "            <td>Ornitorrinco              </td> <td>12.5       </td> <td>1.55     </td> <td>5                        </td>\n",
       "        </tr>\n",
       "    </tbody>\n",
       "</table>\n",
       "<p>... (168 rows omitted)</p>"
      ],
      "text/plain": [
       "Animal                     | Altura (cm) | Peso (kg) | Velocidad Promedio (km/h)\n",
       "Rana Venenosa Dorada       | 4.5         | 2         | 0.3\n",
       "Rana de Cristal            | 4.95        | 0         | 0.8\n",
       "Pulpo Gigante del Pacífico | 5           | 25        | 24\n",
       "Rana de la Selva Amazónica | 7.5         | 0         | 0.55\n",
       "Pez Payaso                 | 8.5         | 175       | 8\n",
       "Rata Topo Desnuda          | 9           | 80        | 0.055\n",
       "Murciélago Vampiro         | 9           | 0         | 32\n",
       "Colibrí                    | 10.25       | 11        | 60\n",
       "Rata Canguro               | 11          | 0.0925    | 16\n",
       "Ornitorrinco               | 12.5        | 1.55      | 5\n",
       "... (168 rows omitted)"
      ]
     },
     "execution_count": 117,
     "metadata": {},
     "output_type": "execute_result"
    }
   ],
   "source": [
    "tabla_animales.sort(\"Altura (cm)\")"
   ]
  },
  {
   "cell_type": "code",
   "execution_count": 118,
   "id": "1c2bd99b-23ad-4309-a731-d28592e8d9f3",
   "metadata": {},
   "outputs": [
    {
     "data": {
      "text/html": [
       "<table border=\"1\" class=\"dataframe\">\n",
       "    <thead>\n",
       "        <tr>\n",
       "            <th>Animal</th> <th>Altura (cm)</th> <th>Peso (kg)</th> <th>Velocidad Promedio (km/h)</th>\n",
       "        </tr>\n",
       "    </thead>\n",
       "    <tbody>\n",
       "        <tr>\n",
       "            <td>Morsa             </td> <td>3200       </td> <td>1200     </td> <td>40                       </td>\n",
       "        </tr>\n",
       "        <tr>\n",
       "            <td>Cachalote         </td> <td>2056       </td> <td>57000    </td> <td>60                       </td>\n",
       "        </tr>\n",
       "        <tr>\n",
       "            <td>Rinoceronte Blanco</td> <td>1850       </td> <td>2150     </td> <td>45                       </td>\n",
       "        </tr>\n",
       "        <tr>\n",
       "            <td>Tiburón Ballena   </td> <td>1800       </td> <td>1500     </td> <td>70                       </td>\n",
       "        </tr>\n",
       "        <tr>\n",
       "            <td>Ballena Jorobada  </td> <td>1700       </td> <td>30000    </td> <td>25.5                     </td>\n",
       "        </tr>\n",
       "        <tr>\n",
       "            <td>Titanoboa         </td> <td>1440       </td> <td>24950    </td> <td>27                       </td>\n",
       "        </tr>\n",
       "        <tr>\n",
       "            <td>Tiburón Peregrino </td> <td>1100       </td> <td>550      </td> <td>21                       </td>\n",
       "        </tr>\n",
       "        <tr>\n",
       "            <td>Tiburón Blanco    </td> <td>670        </td> <td>2268     </td> <td>56                       </td>\n",
       "        </tr>\n",
       "        <tr>\n",
       "            <td>Tiburón Blanco    </td> <td>610        </td> <td>2268     </td> <td>56                       </td>\n",
       "        </tr>\n",
       "        <tr>\n",
       "            <td>Gavial            </td> <td>600        </td> <td>1500     </td> <td>32                       </td>\n",
       "        </tr>\n",
       "    </tbody>\n",
       "</table>\n",
       "<p>... (168 rows omitted)</p>"
      ],
      "text/plain": [
       "Animal             | Altura (cm) | Peso (kg) | Velocidad Promedio (km/h)\n",
       "Morsa              | 3200        | 1200      | 40\n",
       "Cachalote          | 2056        | 57000     | 60\n",
       "Rinoceronte Blanco | 1850        | 2150      | 45\n",
       "Tiburón Ballena    | 1800        | 1500      | 70\n",
       "Ballena Jorobada   | 1700        | 30000     | 25.5\n",
       "Titanoboa          | 1440        | 24950     | 27\n",
       "Tiburón Peregrino  | 1100        | 550       | 21\n",
       "Tiburón Blanco     | 670         | 2268      | 56\n",
       "Tiburón Blanco     | 610         | 2268      | 56\n",
       "Gavial             | 600         | 1500      | 32\n",
       "... (168 rows omitted)"
      ]
     },
     "execution_count": 118,
     "metadata": {},
     "output_type": "execute_result"
    }
   ],
   "source": [
    "tabla_animales.sort(\"Altura (cm)\", descending=True)"
   ]
  },
  {
   "cell_type": "code",
   "execution_count": 119,
   "id": "128b1528-7bc4-4b14-8178-b7daeb6c4a3d",
   "metadata": {},
   "outputs": [
    {
     "data": {
      "text/html": [
       "<table border=\"1\" class=\"dataframe\">\n",
       "    <thead>\n",
       "        <tr>\n",
       "            <th>Animal</th> <th>Altura (cm)</th> <th>Peso (kg)</th> <th>Velocidad Promedio (km/h)</th>\n",
       "        </tr>\n",
       "    </thead>\n",
       "    <tbody>\n",
       "        <tr>\n",
       "            <td>Cerdo Hormiguero            </td> <td>117.5      </td> <td>52.5     </td> <td>40                       </td>\n",
       "        </tr>\n",
       "        <tr>\n",
       "            <td>Lobo Terrícola              </td> <td>45         </td> <td>11       </td> <td>27                       </td>\n",
       "        </tr>\n",
       "        <tr>\n",
       "            <td>Elefante Africano           </td> <td>290        </td> <td>4350     </td> <td>25                       </td>\n",
       "        </tr>\n",
       "        <tr>\n",
       "            <td>León Africano               </td> <td>95         </td> <td>185      </td> <td>58                       </td>\n",
       "        </tr>\n",
       "        <tr>\n",
       "            <td>Perro Salvaje Africano      </td> <td>77.5       </td> <td>27       </td> <td>56                       </td>\n",
       "        </tr>\n",
       "        <tr>\n",
       "            <td>Íbice Alpino                </td> <td>84         </td> <td>69.5     </td> <td>60                       </td>\n",
       "        </tr>\n",
       "        <tr>\n",
       "            <td>Rana de la Selva Amazónica  </td> <td>7.5        </td> <td>0        </td> <td>0.55                     </td>\n",
       "        </tr>\n",
       "        <tr>\n",
       "            <td>Bisonte Americano           </td> <td>169        </td> <td>nan      </td> <td>48                       </td>\n",
       "        </tr>\n",
       "        <tr>\n",
       "            <td>Oso Hormiguero              </td> <td>71.5       </td> <td>31.5     </td> <td>24                       </td>\n",
       "        </tr>\n",
       "        <tr>\n",
       "            <td>Caballo Árabe               </td> <td>150        </td> <td>690      </td> <td>65                       </td>\n",
       "        </tr>\n",
       "        <tr>\n",
       "            <td>Órix Árabe                  </td> <td>80         </td> <td>77.5     </td> <td>55                       </td>\n",
       "        </tr>\n",
       "        <tr>\n",
       "            <td>Zorro Ártico                </td> <td>27.5       </td> <td>5.75     </td> <td>60                       </td>\n",
       "        </tr>\n",
       "        <tr>\n",
       "            <td>Arowana                     </td> <td>120        </td> <td>6        </td> <td>24                       </td>\n",
       "        </tr>\n",
       "        <tr>\n",
       "            <td>Elefante Asiático           </td> <td>250        </td> <td>3500     </td> <td>40                       </td>\n",
       "        </tr>\n",
       "        <tr>\n",
       "            <td>Frailecillo Atlántico       </td> <td>27.5       </td> <td>560      </td> <td>40                       </td>\n",
       "        </tr>\n",
       "        <tr>\n",
       "            <td>Delfín Moteado del Atlántico</td> <td>225        </td> <td>130      </td> <td>52                       </td>\n",
       "        </tr>\n",
       "        <tr>\n",
       "            <td>Foca de Pelo Australiana    </td> <td>136        </td> <td>29       </td> <td>32                       </td>\n",
       "        </tr>\n",
       "        <tr>\n",
       "            <td>Ajolote                     </td> <td>30         </td> <td>300      </td> <td>0.8                      </td>\n",
       "        </tr>\n",
       "        <tr>\n",
       "            <td>Aye-Aye                     </td> <td>36         </td> <td>2.45     </td> <td>32                       </td>\n",
       "        </tr>\n",
       "        <tr>\n",
       "            <td>Tapir de Baird              </td> <td>91.5       </td> <td>275      </td> <td>48                       </td>\n",
       "        </tr>\n",
       "    </tbody>\n",
       "</table>\n",
       "<p>... (158 rows omitted)</p>"
      ],
      "text/plain": [
       "<IPython.core.display.HTML object>"
      ]
     },
     "metadata": {},
     "output_type": "display_data"
    }
   ],
   "source": [
    "tabla_animales.show(20)"
   ]
  },
  {
   "cell_type": "code",
   "execution_count": 120,
   "id": "68e258a6-15cf-4826-8363-4eda7c705790",
   "metadata": {},
   "outputs": [
    {
     "data": {
      "text/html": [
       "<table border=\"1\" class=\"dataframe\">\n",
       "    <thead>\n",
       "        <tr>\n",
       "            <th>Animal</th> <th>Velocidad Promedio (km/h)</th>\n",
       "        </tr>\n",
       "    </thead>\n",
       "    <tbody>\n",
       "        <tr>\n",
       "            <td>Águila Calva            </td> <td>120                      </td>\n",
       "        </tr>\n",
       "        <tr>\n",
       "            <td>Guepardo                </td> <td>112                      </td>\n",
       "        </tr>\n",
       "        <tr>\n",
       "            <td>Berrendo                </td> <td>88.5                     </td>\n",
       "        </tr>\n",
       "        <tr>\n",
       "            <td>Búho Nival              </td> <td>80                       </td>\n",
       "        </tr>\n",
       "        <tr>\n",
       "            <td>Lince Ibérico           </td> <td>75                       </td>\n",
       "        </tr>\n",
       "        <tr>\n",
       "            <td>Camarón Mantis Pavo Real</td> <td>72                       </td>\n",
       "        </tr>\n",
       "        <tr>\n",
       "            <td>Tiburón Ballena         </td> <td>70                       </td>\n",
       "        </tr>\n",
       "        <tr>\n",
       "            <td>Caballo Árabe           </td> <td>65                       </td>\n",
       "        </tr>\n",
       "        <tr>\n",
       "            <td>Tigre de Bengala        </td> <td>65                       </td>\n",
       "        </tr>\n",
       "        <tr>\n",
       "            <td>Perro Bóxer             </td> <td>64                       </td>\n",
       "        </tr>\n",
       "    </tbody>\n",
       "</table>\n",
       "<p>... (168 rows omitted)</p>"
      ],
      "text/plain": [
       "Animal                   | Velocidad Promedio (km/h)\n",
       "Águila Calva             | 120\n",
       "Guepardo                 | 112\n",
       "Berrendo                 | 88.5\n",
       "Búho Nival               | 80\n",
       "Lince Ibérico            | 75\n",
       "Camarón Mantis Pavo Real | 72\n",
       "Tiburón Ballena          | 70\n",
       "Caballo Árabe            | 65\n",
       "Tigre de Bengala         | 65\n",
       "Perro Bóxer              | 64\n",
       "... (168 rows omitted)"
      ]
     },
     "execution_count": 120,
     "metadata": {},
     "output_type": "execute_result"
    }
   ],
   "source": [
    "tabla_animales.select(\"Animal\", \"Velocidad Promedio (km/h)\").sort(\"Velocidad Promedio (km/h)\", descending=True)"
   ]
  },
  {
   "cell_type": "markdown",
   "id": "083d64d2-876c-47a6-a0e4-fa3500e49416",
   "metadata": {},
   "source": [
    "# Actividad de clase:\n",
    "\n",
    "\n",
    "Usaremos el dataset `arboles_udea.csv` para practicar operaciones básicas de exploración y filtrado.\n",
    "\n",
    "\n",
    "\n",
    "1. Lectura y limpieza inicial\n",
    "\n",
    "- ¿Cómo puedo cargar el archivo `arboles_udea.csv` en una tabla?  \n",
    "- ¿Qué hago con columnas innecesarias como `\"Unnamed: 0\"` para limpiar mi dataset?  \n",
    "\n",
    "\n",
    "\n",
    "2. Ordenamiento y exploración\n",
    "\n",
    "- ¿Cómo identifico los árboles más altos ordenando por la columna `\"ALTURA TOTAL\"` en orden descendente?  \n",
    "- ¿Qué árboles aparecen en las primeras filas después de ordenar?  \n",
    "\n",
    "\n",
    "\n",
    "3. Filtrado específico\n",
    "\n",
    "- ¿Cómo selecciono solo las filas en las que el `\"Nombre común\"` es exactamente `\"Mango\"`?  \n",
    "- ¿Cómo selecciono todas las filas en las que el `\"Nombre común\"` **contiene** la palabra `\"Mango\"` ?  \n",
    "\n",
    "\n",
    "\n",
    "4. Exploración de columnas\n",
    "\n",
    "- ¿Cómo puedo ver únicamente la columna `\"Nombre común\"` de la tabla?  \n",
    "- ¿Cómo extraigo la columna `\"Nombre común\"` como un array de valores para manipularla directamente?  \n",
    "\n",
    "\n",
    "\n",
    "5. Valores únicos\n",
    "\n",
    "- ¿Cómo obtengo el conjunto de nombres comunes únicos presentes en el dataset (sin repeticiones)?  \n",
    "- ¿Cuántos tipos de árboles distintos aparecen en la columna `\"Nombre común\"`? : set(table.column(`\"Nombre común\"))"
   ]
  },
  {
   "cell_type": "markdown",
   "id": "03725966-de4d-424c-97cb-ecdde005abe3",
   "metadata": {},
   "source": [
    "# Tipos de variables:\n",
    "\n",
    "`int`, `float`, `string`\n",
    "\n",
    "## Enteros (int)"
   ]
  },
  {
   "cell_type": "code",
   "execution_count": 121,
   "id": "fa00afb8-bfa6-4a9b-a96c-aa988d5a9a65",
   "metadata": {},
   "outputs": [
    {
     "data": {
      "text/plain": [
       "2"
      ]
     },
     "execution_count": 121,
     "metadata": {},
     "output_type": "execute_result"
    }
   ],
   "source": [
    "2"
   ]
  },
  {
   "cell_type": "code",
   "execution_count": 122,
   "id": "255ca5a4-5236-4a74-8a87-570a8e61f1b1",
   "metadata": {},
   "outputs": [
    {
     "data": {
      "text/plain": [
       "1"
      ]
     },
     "execution_count": 122,
     "metadata": {},
     "output_type": "execute_result"
    }
   ],
   "source": [
    "1"
   ]
  },
  {
   "cell_type": "code",
   "execution_count": 123,
   "id": "293ec97d-55b0-414f-8faf-bc9b943dd958",
   "metadata": {},
   "outputs": [
    {
     "data": {
      "text/plain": [
       "-1234567890000000000"
      ]
     },
     "execution_count": 123,
     "metadata": {},
     "output_type": "execute_result"
    }
   ],
   "source": [
    "-1234567890000000000"
   ]
  },
  {
   "cell_type": "markdown",
   "id": "f756a95e-1279-42d2-8674-cf2828514b2e",
   "metadata": {},
   "source": [
    "# Flotantes (float)"
   ]
  },
  {
   "cell_type": "code",
   "execution_count": 124,
   "id": "9627a133-4b31-4152-8fac-02ecfc465c90",
   "metadata": {},
   "outputs": [
    {
     "data": {
      "text/plain": [
       "1.2"
      ]
     },
     "execution_count": 124,
     "metadata": {},
     "output_type": "execute_result"
    }
   ],
   "source": [
    "1.2"
   ]
  },
  {
   "cell_type": "code",
   "execution_count": 125,
   "id": "b9e7e272-04b2-4af9-ae2d-625b49321bfc",
   "metadata": {},
   "outputs": [
    {
     "data": {
      "text/plain": [
       "5.6"
      ]
     },
     "execution_count": 125,
     "metadata": {},
     "output_type": "execute_result"
    }
   ],
   "source": [
    "5.6"
   ]
  },
  {
   "cell_type": "code",
   "execution_count": 126,
   "id": "b5317baf-6b61-4ff0-bb7c-5564ddd61fe3",
   "metadata": {},
   "outputs": [
    {
     "name": "stdout",
     "output_type": "stream",
     "text": [
      "<class 'int'>\n",
      "<class 'float'>\n"
     ]
    }
   ],
   "source": [
    "print(type(3))\n",
    "print(type(1/2))"
   ]
  },
  {
   "cell_type": "code",
   "execution_count": 127,
   "id": "f5a4c920-390a-4ba5-8663-e75ff4bba753",
   "metadata": {},
   "outputs": [
    {
     "ename": "SyntaxError",
     "evalue": "expected ':' (1618011798.py, line 2)",
     "output_type": "error",
     "traceback": [
      "\u001b[0;36m  Cell \u001b[0;32mIn[127], line 2\u001b[0;36m\u001b[0m\n\u001b[0;31m    for i in range(0, )\u001b[0m\n\u001b[0m                       ^\u001b[0m\n\u001b[0;31mSyntaxError\u001b[0m\u001b[0;31m:\u001b[0m expected ':'\n"
     ]
    }
   ],
   "source": [
    "x=2\n",
    "for i in range(0, )"
   ]
  },
  {
   "cell_type": "markdown",
   "id": "1e7c8e83-5d16-4f0d-9a7a-7399c20ffaca",
   "metadata": {},
   "source": [
    "# Presición de la máquina"
   ]
  },
  {
   "cell_type": "code",
   "execution_count": 128,
   "id": "d0da07fb-ec8e-455e-abc9-33d3af6fcfed",
   "metadata": {},
   "outputs": [
    {
     "name": "stdout",
     "output_type": "stream",
     "text": [
      "51 1.0000000000000002 2.220446049250313e-16\n",
      "52 1.0 1.1102230246251565e-16\n",
      "53 1.0 5.551115123125783e-17\n"
     ]
    }
   ],
   "source": [
    "eps = 1\n",
    "Nv =  54\n",
    "for n in range(Nv):\n",
    "    eps = eps / 2.0\n",
    "    one = 1. + eps\n",
    "    if(n>50):\n",
    "        print(n, one, eps)"
   ]
  },
  {
   "cell_type": "markdown",
   "id": "940ab505-a02a-4b0b-b4ff-fae83db1ad07",
   "metadata": {},
   "source": [
    "# Valor máximo "
   ]
  },
  {
   "cell_type": "code",
   "execution_count": 129,
   "id": "6d27103f-b2d1-4432-9325-dfceade07332",
   "metadata": {},
   "outputs": [
    {
     "data": {
      "text/plain": [
       "2e+307"
      ]
     },
     "execution_count": 129,
     "metadata": {},
     "output_type": "execute_result"
    }
   ],
   "source": [
    "2e306 * 10"
   ]
  },
  {
   "cell_type": "code",
   "execution_count": 130,
   "id": "b5c07947-a761-404e-8d92-0daaf3a0af32",
   "metadata": {},
   "outputs": [
    {
     "data": {
      "text/plain": [
       "inf"
      ]
     },
     "execution_count": 130,
     "metadata": {},
     "output_type": "execute_result"
    }
   ],
   "source": [
    "2e306 * 100"
   ]
  },
  {
   "cell_type": "markdown",
   "id": "758e524d-978b-4e00-8c58-04b7ed327ccd",
   "metadata": {},
   "source": [
    "# Valor mínimo"
   ]
  },
  {
   "cell_type": "code",
   "execution_count": 131,
   "id": "5533a516-641b-46d4-a33d-b0f2dd0de7de",
   "metadata": {},
   "outputs": [
    {
     "data": {
      "text/plain": [
       "2e-323"
      ]
     },
     "execution_count": 131,
     "metadata": {},
     "output_type": "execute_result"
    }
   ],
   "source": [
    "2e-322 / 10"
   ]
  },
  {
   "cell_type": "code",
   "execution_count": 132,
   "id": "66a1b6d4-3d10-47c8-8628-e51fe5270f71",
   "metadata": {},
   "outputs": [
    {
     "data": {
      "text/plain": [
       "0.0"
      ]
     },
     "execution_count": 132,
     "metadata": {},
     "output_type": "execute_result"
    }
   ],
   "source": [
    "2e-322 / 100"
   ]
  },
  {
   "cell_type": "markdown",
   "id": "3d018f45-9546-48c9-95c6-3dfc7aef8d58",
   "metadata": {},
   "source": [
    "# String"
   ]
  },
  {
   "cell_type": "code",
   "execution_count": 133,
   "id": "5b5bb006-fd74-4972-9d0a-477a3905177c",
   "metadata": {},
   "outputs": [
    {
     "data": {
      "text/plain": [
       "'holamundo'"
      ]
     },
     "execution_count": 133,
     "metadata": {},
     "output_type": "execute_result"
    }
   ],
   "source": [
    "\"hola\" + \"mundo\""
   ]
  },
  {
   "cell_type": "code",
   "execution_count": 134,
   "id": "faf68629-dc15-4a56-b3bb-fcdfb2ccba95",
   "metadata": {},
   "outputs": [
    {
     "data": {
      "text/plain": [
       "'Cienciadedatos'"
      ]
     },
     "execution_count": 134,
     "metadata": {},
     "output_type": "execute_result"
    }
   ],
   "source": [
    "\"Ciencia\" + \"de\" + \"datos\" "
   ]
  },
  {
   "cell_type": "code",
   "execution_count": 135,
   "id": "99af5bde-2130-4290-8a3b-2a591e93afdf",
   "metadata": {},
   "outputs": [
    {
     "data": {
      "text/plain": [
       "'Ciencia de datos'"
      ]
     },
     "execution_count": 135,
     "metadata": {},
     "output_type": "execute_result"
    }
   ],
   "source": [
    "\"Ciencia\" + \" \" + \"de\" + \" \" + \"datos\" "
   ]
  },
  {
   "cell_type": "code",
   "execution_count": 136,
   "id": "5e032fd9-0a66-4fec-8d50-afbdcda0f482",
   "metadata": {},
   "outputs": [
    {
     "data": {
      "text/plain": [
       "' \" y cuando desperto, el dinosaurio todavia estaba alli\" '"
      ]
     },
     "execution_count": 136,
     "metadata": {},
     "output_type": "execute_result"
    }
   ],
   "source": [
    "\" \\\" y cuando desperto, el dinosaurio todavia estaba alli\\\" \""
   ]
  },
  {
   "cell_type": "code",
   "execution_count": 137,
   "id": "34fd65d0-db30-4668-9752-adc5921c3da4",
   "metadata": {},
   "outputs": [
    {
     "data": {
      "text/plain": [
       "' En la clase de fisica obtuve  un nota de 4.5 '"
      ]
     },
     "execution_count": 137,
     "metadata": {},
     "output_type": "execute_result"
    }
   ],
   "source": [
    "\" En la clase de fisica obtuve  un nota de \"+str( (5+4)/2 )+\" \" "
   ]
  },
  {
   "cell_type": "code",
   "execution_count": 138,
   "id": "daedc2bb-442f-4dd6-bddb-84450083de71",
   "metadata": {},
   "outputs": [
    {
     "data": {
      "text/plain": [
       "'Camila Rua'"
      ]
     },
     "execution_count": 138,
     "metadata": {},
     "output_type": "execute_result"
    }
   ],
   "source": [
    "nombre = \"Camila\"\n",
    "apellido = \" Rua\"\n",
    "nombre+apellido\n"
   ]
  },
  {
   "cell_type": "code",
   "execution_count": 139,
   "id": "89e40b2c-6ce4-406f-91dc-cd29a5c0f9d3",
   "metadata": {},
   "outputs": [
    {
     "data": {
      "text/plain": [
       "'C'"
      ]
     },
     "execution_count": 139,
     "metadata": {},
     "output_type": "execute_result"
    }
   ],
   "source": [
    "nombre[0]"
   ]
  },
  {
   "cell_type": "markdown",
   "id": "980c7ad2-4a6a-4890-9d2c-4191a16feb88",
   "metadata": {},
   "source": [
    "# Métodos asociados a string"
   ]
  },
  {
   "cell_type": "code",
   "execution_count": 140,
   "id": "3be785d6-bfe7-44c0-9ea1-b81572e0f8ef",
   "metadata": {},
   "outputs": [],
   "source": [
    "palabra= \"y cuando desperto, el dinosaurio todavia estaba alli\""
   ]
  },
  {
   "cell_type": "code",
   "execution_count": 141,
   "id": "3c34e721-fada-442b-91ab-fbde317440b4",
   "metadata": {},
   "outputs": [
    {
     "data": {
      "text/plain": [
       "'Y CUANDO DESPERTO, EL DINOSAURIO TODAVIA ESTABA ALLI'"
      ]
     },
     "execution_count": 141,
     "metadata": {},
     "output_type": "execute_result"
    }
   ],
   "source": [
    "palabra.upper()"
   ]
  },
  {
   "cell_type": "code",
   "execution_count": 142,
   "id": "9cb89147-fccb-4bb9-b883-a12da1eb5bd2",
   "metadata": {},
   "outputs": [
    {
     "data": {
      "text/plain": [
       "'Y cuando desperto, el dinosaurio todavia estaba alli'"
      ]
     },
     "execution_count": 142,
     "metadata": {},
     "output_type": "execute_result"
    }
   ],
   "source": [
    "palabra.capitalize()"
   ]
  },
  {
   "cell_type": "code",
   "execution_count": 143,
   "id": "52528106-ea53-4580-90e2-a192b3dab564",
   "metadata": {},
   "outputs": [
    {
     "data": {
      "text/plain": [
       "'y cuando desperto, el dinosaurio todavia estaba alli'"
      ]
     },
     "execution_count": 143,
     "metadata": {},
     "output_type": "execute_result"
    }
   ],
   "source": [
    "palabra.lower()"
   ]
  },
  {
   "cell_type": "markdown",
   "id": "5d53a1d8-0588-4bfe-acc2-bcc3135e16a3",
   "metadata": {},
   "source": [
    "# Comparaciones\n",
    "\n",
    "\n",
    "# Operadores en Python\n",
    "\n",
    "| Operador      | Descripción                                             | Ejemplo                       |\n",
    "| ------------- | ------------------------------------------------------- | ----------------------------- |\n",
    "| `==`          | Igual a: Compara si dos valores son iguales             | `5 == 5` (True)               |\n",
    "| `!=`          | No igual a: Compara si dos valores no son iguales       | `5 != 3` (True)               |\n",
    "| `>`           | Mayor que: Compara si el valor de la izquierda es mayor | `5 > 3` (True)                |\n",
    "| `<`           | Menor que: Compara si el valor de la izquierda es menor | `5 < 3` (False)               |\n",
    "| `>=`          | Mayor o igual que                                        | `5 >= 3` (True)               |\n",
    "| `<=`          | Menor o igual que                                        | `5 <= 5` (True)               |\n",
    "| `and`         | Operador lógico AND: Devuelve True si ambos son True     | `True and False` (False)      |\n",
    "| `or`          | Operador lógico OR: Devuelve True si al menos uno es True| `True or False` (True)        |\n",
    "| `not`         | Operador lógico NOT: Invierte el valor lógico            | `not True` (False)            |\n",
    "| `is`          | Operador de identidad: Compara si dos objetos son el mismo| `x is y`                      |\n",
    "| `in`          | Operador de pertenencia: Comprueba si un valor está en una secuencia | `'a' in 'abc'` (True)  |\n"
   ]
  },
  {
   "cell_type": "code",
   "execution_count": 144,
   "id": "41bf45ef-0fdc-43b9-82e9-e39cfeeefb33",
   "metadata": {},
   "outputs": [
    {
     "data": {
      "text/plain": [
       "False"
      ]
     },
     "execution_count": 144,
     "metadata": {},
     "output_type": "execute_result"
    }
   ],
   "source": [
    "x = 12\n",
    "y = 8\n",
    "x is y"
   ]
  },
  {
   "cell_type": "code",
   "execution_count": 145,
   "id": "d0b6b0d0-1da9-4013-98d9-a801f007b3df",
   "metadata": {},
   "outputs": [
    {
     "data": {
      "text/plain": [
       "False"
      ]
     },
     "execution_count": 145,
     "metadata": {},
     "output_type": "execute_result"
    }
   ],
   "source": [
    "# Ejemplos de python\n",
    "0.3 == 0.1+0.1+0.1"
   ]
  },
  {
   "cell_type": "code",
   "execution_count": 146,
   "id": "412dc8a7-21df-4686-91af-bf234cbf911e",
   "metadata": {},
   "outputs": [
    {
     "ename": "TypeError",
     "evalue": "'>' not supported between instances of 'NoneType' and 'int'",
     "output_type": "error",
     "traceback": [
      "\u001b[0;31m---------------------------------------------------------------------------\u001b[0m",
      "\u001b[0;31mTypeError\u001b[0m                                 Traceback (most recent call last)",
      "Cell \u001b[0;32mIn[146], line 1\u001b[0m\n\u001b[0;32m----> 1\u001b[0m \u001b[38;5;28;43;01mNone\u001b[39;49;00m\u001b[43m \u001b[49m\u001b[38;5;241;43m>\u001b[39;49m\u001b[43m \u001b[49m\u001b[38;5;241;43m0\u001b[39;49m\n",
      "\u001b[0;31mTypeError\u001b[0m: '>' not supported between instances of 'NoneType' and 'int'"
     ]
    }
   ],
   "source": [
    "None > 0"
   ]
  },
  {
   "cell_type": "code",
   "execution_count": 147,
   "id": "3ddbe092-730f-4543-8c60-146d51bbf76f",
   "metadata": {},
   "outputs": [
    {
     "data": {
      "text/plain": [
       "False"
      ]
     },
     "execution_count": 147,
     "metadata": {},
     "output_type": "execute_result"
    }
   ],
   "source": [
    "import math \n",
    "\n",
    "math.nan == math.nan"
   ]
  },
  {
   "cell_type": "code",
   "execution_count": 148,
   "id": "931fcb23-e69c-4a3e-bab4-9936b7a04862",
   "metadata": {},
   "outputs": [
    {
     "data": {
      "text/plain": [
       "True"
      ]
     },
     "execution_count": 148,
     "metadata": {},
     "output_type": "execute_result"
    }
   ],
   "source": [
    "-0.0 == 0.0"
   ]
  },
  {
   "cell_type": "code",
   "execution_count": 149,
   "id": "1d3202bd-5874-4feb-8871-f53d2f2d5771",
   "metadata": {},
   "outputs": [
    {
     "data": {
      "text/plain": [
       "False"
      ]
     },
     "execution_count": 149,
     "metadata": {},
     "output_type": "execute_result"
    }
   ],
   "source": [
    "\"10\"==10"
   ]
  },
  {
   "cell_type": "code",
   "execution_count": 150,
   "id": "e7798d69-f55e-4183-bc1f-c5bc49221ddf",
   "metadata": {},
   "outputs": [
    {
     "data": {
      "text/plain": [
       "False"
      ]
     },
     "execution_count": 150,
     "metadata": {},
     "output_type": "execute_result"
    }
   ],
   "source": [
    "[] == None"
   ]
  },
  {
   "cell_type": "code",
   "execution_count": 151,
   "id": "9044c709-9f40-4cdf-a69d-d17595592a7c",
   "metadata": {},
   "outputs": [
    {
     "data": {
      "text/plain": [
       "False"
      ]
     },
     "execution_count": 151,
     "metadata": {},
     "output_type": "execute_result"
    }
   ],
   "source": [
    "[] is None"
   ]
  },
  {
   "cell_type": "code",
   "execution_count": 152,
   "id": "fb648085-1222-4695-9741-c7fdfe275462",
   "metadata": {},
   "outputs": [
    {
     "data": {
      "text/plain": [
       "list"
      ]
     },
     "execution_count": 152,
     "metadata": {},
     "output_type": "execute_result"
    }
   ],
   "source": [
    "type([])"
   ]
  },
  {
   "cell_type": "markdown",
   "id": "7d2efe9d-ae67-4027-bd65-42eda2ab7e4c",
   "metadata": {},
   "source": [
    "## Tabla de verdad de `and` y `or` en Python\n",
    "\n",
    "| A     | B     | A and B | A or B  |\n",
    "| ----- | ----- | ------- | ------- |\n",
    "| True  | True  | True    | True    |\n",
    "| True  | False | False   | True    |\n",
    "| False | True  | False   | True    |\n",
    "| False | False | False   | False   |\n"
   ]
  },
  {
   "cell_type": "code",
   "execution_count": 153,
   "id": "da8ffd10-2ed7-421c-a6b1-3b9ba7501b9c",
   "metadata": {},
   "outputs": [],
   "source": [
    "x = True \n",
    "y = not True"
   ]
  },
  {
   "cell_type": "code",
   "execution_count": 154,
   "id": "fdb9c3e4-70ff-4228-8d48-7885c84c487d",
   "metadata": {},
   "outputs": [
    {
     "data": {
      "text/plain": [
       "False"
      ]
     },
     "execution_count": 154,
     "metadata": {},
     "output_type": "execute_result"
    }
   ],
   "source": [
    "x and y"
   ]
  },
  {
   "cell_type": "code",
   "execution_count": 155,
   "id": "00068649-aeba-441c-a4b0-596d4f4055d8",
   "metadata": {},
   "outputs": [
    {
     "data": {
      "text/plain": [
       "0"
      ]
     },
     "execution_count": 155,
     "metadata": {},
     "output_type": "execute_result"
    }
   ],
   "source": [
    "0 and 0"
   ]
  },
  {
   "cell_type": "markdown",
   "id": "0c999c5f-4fdb-4b7e-a839-77c9d1c942c2",
   "metadata": {},
   "source": [
    "Tipos de Variables en Python\n",
    "\n",
    "## 1. Tipos básicos\n",
    "1. ¿Qué tipo de dato corresponde a cada uno de los siguientes valores?\n",
    "   - `25`\n",
    "   - `3.14`\n",
    "   - `\"Hola\"`\n",
    "\n",
    "2. Explica la diferencia entre un `int` y un `float`.\n",
    "\n",
    "---\n",
    "\n",
    "## 2. Enteros (`int`)\n",
    "1. Declara una variable llamada `edad` con valor `20`.  \n",
    "   - ¿Qué tipo de dato es?  \n",
    "   - ¿Qué pasa si intentas sumarle `5`?\n",
    "\n",
    "2. Si defines `x = 7 // 2`, ¿qué resultado obtienes y de qué tipo es?\n",
    "\n",
    "---\n",
    "\n",
    "## 3. Flotantes (`float`)\n",
    "1. Declara una variable `pi` con valor `3.1416`.  \n",
    "   - ¿Qué pasa si multiplicas `pi * 2`?  \n",
    "\n",
    "2. ¿Qué diferencia hay entre la división `/` y la división entera `//`?\n",
    "\n",
    "---\n",
    "\n",
    "## 4. Cadenas de texto (`string`)\n",
    "1. Crea una variable `nombre = \"Ana\"`.  \n",
    "   - ¿Qué sucede si haces `nombre * 3`?  \n",
    "   - ¿Qué sucede si intentas `nombre + 5`?\n",
    "\n",
    "2. ¿Cómo obtienes la primera letra de la cadena `\"Mango\"`?\n",
    "\n",
    "---\n"
   ]
  },
  {
   "cell_type": "markdown",
   "id": "8179066d-6bf2-4ea5-9f9c-ca270c251a62",
   "metadata": {},
   "source": [
    "Transformaciones y comparaciones de variables\n",
    "\n",
    "## 1. Transformaciones de tipos\n",
    "1. Convierte la variable `altura_str = \"1.75\"` (string) a un número decimal (`float`).  \n",
    "   - ¿Qué pasa si intentas sumarle `0.25`?  \n",
    "\n",
    "2. Tienes `numero = 10`.  \n",
    "   - Transfórmalo a `string`.  \n",
    "   - ¿Qué sucede si intentas hacer `\"5\" + str(numero)`?  \n",
    "   - ¿Qué pasa si intentas `\"5\" + numero` sin transformar?  \n",
    "\n",
    "---\n",
    "\n",
    "## 2. Comparaciones básicas\n",
    "1. Define `a = 7` y `b = 12`.  \n",
    "   - Evalúa:  \n",
    "     - `a < b`  \n",
    "     - `a == b`  \n",
    "     - `a != b`  \n",
    "   - Explica con tus palabras qué significa cada comparación.  \n",
    "\n",
    "2. Si `x = 3.5`, evalúa si `x > 2` y si `x == 3.5`.  \n",
    "\n",
    "---\n",
    "\n",
    "## 3. Problema sencillo: Comparando alturas\n",
    "Un archivo guarda la altura de dos personas en **metros**, pero como cadenas de texto:\n",
    "\n",
    "```python\n",
    "h1 = \"1.80\"\n",
    "h2 = \"1.65\"\n",
    "\n",
    "- Convierte ambas alturas a float.\n",
    "\n",
    "- Calcula cuál de las dos personas es más alta.\n",
    "\n",
    "\n",
    "- Muestra un mensaje con el resultado, por ejemplo:\n",
    "\n",
    "\"La persona 1 es más alta\" o\n",
    "\"La persona 2 es más alta\"."
   ]
  }
 ],
 "metadata": {
  "kernelspec": {
   "display_name": "Python 3 (ipykernel)",
   "language": "python",
   "name": "python3"
  },
  "language_info": {
   "codemirror_mode": {
    "name": "ipython",
    "version": 3
   },
   "file_extension": ".py",
   "mimetype": "text/x-python",
   "name": "python",
   "nbconvert_exporter": "python",
   "pygments_lexer": "ipython3",
   "version": "3.10.14"
  }
 },
 "nbformat": 4,
 "nbformat_minor": 5
}
