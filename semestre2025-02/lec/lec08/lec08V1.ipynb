{
 "cells": [
  {
   "cell_type": "code",
   "execution_count": 2,
   "id": "8f7af917-2a32-47d1-bb77-071159fcd10c",
   "metadata": {},
   "outputs": [],
   "source": [
    "from datascience import *\n",
    "import matplotlib.pylab as plt\n",
    "import numpy as np\n",
    "import plotly.express as px\n",
    "import pandas as pd\n"
   ]
  },
  {
   "cell_type": "markdown",
   "id": "a2406040-b027-44e9-99a1-9bc898971fad",
   "metadata": {},
   "source": [
    "# Operaciones group y pivot"
   ]
  },
  {
   "cell_type": "code",
   "execution_count": 3,
   "id": "70a1d171-2040-4e0c-9635-083b70b61a39",
   "metadata": {},
   "outputs": [],
   "source": [
    "\n",
    "# Crear la tabla con más filas\n",
    "tabla_frutas = Table().with_columns(\n",
    "    'Fruta', np.array(['manzana', 'pera', 'manzana', 'fresa', 'pera', 'fresa', \n",
    "                       'banano', 'mango', 'kiwi', 'banano', 'mango', 'fresa', \n",
    "                       'kiwi', 'pera', 'banano', 'manzana', 'pera', 'fresa', \n",
    "                       'mango', 'manzana']),\n",
    "    'Color', np.array(['rojo', 'verde', 'verde', 'rojo', 'verde', 'rojo', \n",
    "                       'verde', 'naranja', 'verde', 'amarillo', 'naranja', 'rojo', \n",
    "                       'verde', 'verde', 'amarillo', 'rojo', 'verde', 'rojo', \n",
    "                       'naranja', 'rojo']),\n",
    "    'Precio', np.array([2500, 3500, 2500, 4000, 3500, 4000, \n",
    "                              1500, 3000, 4500, 1500, 3000, 4000, \n",
    "                              4500, 3500, 1500, 2500, 3500, 4000, \n",
    "                              3000, 2500])\n",
    ")"
   ]
  },
  {
   "cell_type": "code",
   "execution_count": 4,
   "id": "3516da6a-0532-43e6-978e-6b81ea612594",
   "metadata": {},
   "outputs": [
    {
     "data": {
      "text/html": [
       "<table border=\"1\" class=\"dataframe\">\n",
       "    <thead>\n",
       "        <tr>\n",
       "            <th>Fruta</th> <th>Color</th> <th>Precio</th>\n",
       "        </tr>\n",
       "    </thead>\n",
       "    <tbody>\n",
       "        <tr>\n",
       "            <td>manzana</td> <td>rojo    </td> <td>2500  </td>\n",
       "        </tr>\n",
       "        <tr>\n",
       "            <td>pera   </td> <td>verde   </td> <td>3500  </td>\n",
       "        </tr>\n",
       "        <tr>\n",
       "            <td>manzana</td> <td>verde   </td> <td>2500  </td>\n",
       "        </tr>\n",
       "        <tr>\n",
       "            <td>fresa  </td> <td>rojo    </td> <td>4000  </td>\n",
       "        </tr>\n",
       "        <tr>\n",
       "            <td>pera   </td> <td>verde   </td> <td>3500  </td>\n",
       "        </tr>\n",
       "        <tr>\n",
       "            <td>fresa  </td> <td>rojo    </td> <td>4000  </td>\n",
       "        </tr>\n",
       "        <tr>\n",
       "            <td>banano </td> <td>verde   </td> <td>1500  </td>\n",
       "        </tr>\n",
       "        <tr>\n",
       "            <td>mango  </td> <td>naranja </td> <td>3000  </td>\n",
       "        </tr>\n",
       "        <tr>\n",
       "            <td>kiwi   </td> <td>verde   </td> <td>4500  </td>\n",
       "        </tr>\n",
       "        <tr>\n",
       "            <td>banano </td> <td>amarillo</td> <td>1500  </td>\n",
       "        </tr>\n",
       "    </tbody>\n",
       "</table>\n",
       "<p>... (10 rows omitted)</p>"
      ],
      "text/plain": [
       "Fruta   | Color    | Precio\n",
       "manzana | rojo     | 2500\n",
       "pera    | verde    | 3500\n",
       "manzana | verde    | 2500\n",
       "fresa   | rojo     | 4000\n",
       "pera    | verde    | 3500\n",
       "fresa   | rojo     | 4000\n",
       "banano  | verde    | 1500\n",
       "mango   | naranja  | 3000\n",
       "kiwi    | verde    | 4500\n",
       "banano  | amarillo | 1500\n",
       "... (10 rows omitted)"
      ]
     },
     "execution_count": 4,
     "metadata": {},
     "output_type": "execute_result"
    }
   ],
   "source": [
    "tabla_frutas"
   ]
  },
  {
   "cell_type": "code",
   "execution_count": 5,
   "id": "f0a68536-4641-4916-bbfb-88819e7dcc08",
   "metadata": {},
   "outputs": [
    {
     "data": {
      "text/html": [
       "<table border=\"1\" class=\"dataframe\">\n",
       "    <thead>\n",
       "        <tr>\n",
       "            <th>Fruta</th> <th>Color</th> <th>Precio mean</th>\n",
       "        </tr>\n",
       "    </thead>\n",
       "    <tbody>\n",
       "        <tr>\n",
       "            <td>banano </td> <td>amarillo</td> <td>1500       </td>\n",
       "        </tr>\n",
       "        <tr>\n",
       "            <td>banano </td> <td>verde   </td> <td>1500       </td>\n",
       "        </tr>\n",
       "        <tr>\n",
       "            <td>fresa  </td> <td>rojo    </td> <td>4000       </td>\n",
       "        </tr>\n",
       "        <tr>\n",
       "            <td>kiwi   </td> <td>verde   </td> <td>4500       </td>\n",
       "        </tr>\n",
       "        <tr>\n",
       "            <td>mango  </td> <td>naranja </td> <td>3000       </td>\n",
       "        </tr>\n",
       "        <tr>\n",
       "            <td>manzana</td> <td>rojo    </td> <td>2500       </td>\n",
       "        </tr>\n",
       "        <tr>\n",
       "            <td>manzana</td> <td>verde   </td> <td>2500       </td>\n",
       "        </tr>\n",
       "        <tr>\n",
       "            <td>pera   </td> <td>verde   </td> <td>3500       </td>\n",
       "        </tr>\n",
       "    </tbody>\n",
       "</table>"
      ],
      "text/plain": [
       "Fruta   | Color    | Precio mean\n",
       "banano  | amarillo | 1500\n",
       "banano  | verde    | 1500\n",
       "fresa   | rojo     | 4000\n",
       "kiwi    | verde    | 4500\n",
       "mango   | naranja  | 3000\n",
       "manzana | rojo     | 2500\n",
       "manzana | verde    | 2500\n",
       "pera    | verde    | 3500"
      ]
     },
     "execution_count": 5,
     "metadata": {},
     "output_type": "execute_result"
    }
   ],
   "source": [
    "tabla_frutas.group([\"Fruta\", \"Color\"], np.mean)"
   ]
  },
  {
   "cell_type": "code",
   "execution_count": 188,
   "id": "89658229-a3b2-4623-bb4b-8d90acd74795",
   "metadata": {},
   "outputs": [
    {
     "data": {
      "text/html": [
       "<table border=\"1\" class=\"dataframe\">\n",
       "    <thead>\n",
       "        <tr>\n",
       "            <th>Color</th> <th>banano</th> <th>fresa</th> <th>kiwi</th> <th>mango</th> <th>manzana</th> <th>pera</th>\n",
       "        </tr>\n",
       "    </thead>\n",
       "    <tbody>\n",
       "        <tr>\n",
       "            <td>amarillo</td> <td>2     </td> <td>0    </td> <td>0   </td> <td>0    </td> <td>0      </td> <td>0   </td>\n",
       "        </tr>\n",
       "        <tr>\n",
       "            <td>naranja </td> <td>0     </td> <td>0    </td> <td>0   </td> <td>3    </td> <td>0      </td> <td>0   </td>\n",
       "        </tr>\n",
       "        <tr>\n",
       "            <td>rojo    </td> <td>0     </td> <td>4    </td> <td>0   </td> <td>0    </td> <td>3      </td> <td>0   </td>\n",
       "        </tr>\n",
       "        <tr>\n",
       "            <td>verde   </td> <td>1     </td> <td>0    </td> <td>2   </td> <td>0    </td> <td>1      </td> <td>4   </td>\n",
       "        </tr>\n",
       "    </tbody>\n",
       "</table>"
      ],
      "text/plain": [
       "Color    | banano | fresa | kiwi | mango | manzana | pera\n",
       "amarillo | 2      | 0     | 0    | 0     | 0       | 0\n",
       "naranja  | 0      | 0     | 0    | 3     | 0       | 0\n",
       "rojo     | 0      | 4     | 0    | 0     | 3       | 0\n",
       "verde    | 1      | 0     | 2    | 0     | 1       | 4"
      ]
     },
     "execution_count": 188,
     "metadata": {},
     "output_type": "execute_result"
    }
   ],
   "source": [
    "tabla_frutas.pivot(\"Fruta\", \"Color\")"
   ]
  },
  {
   "cell_type": "code",
   "execution_count": 189,
   "id": "50438c4a-ddff-4ddb-b7a7-1b6c95014005",
   "metadata": {},
   "outputs": [
    {
     "data": {
      "text/html": [
       "<table border=\"1\" class=\"dataframe\">\n",
       "    <thead>\n",
       "        <tr>\n",
       "            <th>Color</th> <th>banano</th> <th>fresa</th> <th>kiwi</th> <th>mango</th> <th>manzana</th> <th>pera</th>\n",
       "        </tr>\n",
       "    </thead>\n",
       "    <tbody>\n",
       "        <tr>\n",
       "            <td>amarillo</td> <td>1500  </td> <td>0    </td> <td>0   </td> <td>0    </td> <td>0      </td> <td>0   </td>\n",
       "        </tr>\n",
       "        <tr>\n",
       "            <td>naranja </td> <td>0     </td> <td>0    </td> <td>0   </td> <td>3000 </td> <td>0      </td> <td>0   </td>\n",
       "        </tr>\n",
       "        <tr>\n",
       "            <td>rojo    </td> <td>0     </td> <td>4000 </td> <td>0   </td> <td>0    </td> <td>2500   </td> <td>0   </td>\n",
       "        </tr>\n",
       "        <tr>\n",
       "            <td>verde   </td> <td>1500  </td> <td>0    </td> <td>4500</td> <td>0    </td> <td>2500   </td> <td>3500</td>\n",
       "        </tr>\n",
       "    </tbody>\n",
       "</table>"
      ],
      "text/plain": [
       "Color    | banano | fresa | kiwi | mango | manzana | pera\n",
       "amarillo | 1500   | 0     | 0    | 0     | 0       | 0\n",
       "naranja  | 0      | 0     | 0    | 3000  | 0       | 0\n",
       "rojo     | 0      | 4000  | 0    | 0     | 2500    | 0\n",
       "verde    | 1500   | 0     | 4500 | 0     | 2500    | 3500"
      ]
     },
     "execution_count": 189,
     "metadata": {},
     "output_type": "execute_result"
    }
   ],
   "source": [
    "tabla_frutas.pivot(\"Fruta\", \"Color\", values=\"Precio\", collect=np.mean)"
   ]
  },
  {
   "cell_type": "markdown",
   "id": "d5101f2a-5e2c-4269-a12c-e3f125091056",
   "metadata": {},
   "source": [
    "# Libros"
   ]
  },
  {
   "cell_type": "code",
   "execution_count": 191,
   "id": "d0c7665d-5ac8-4107-beb9-bf7a92b67a18",
   "metadata": {},
   "outputs": [],
   "source": [
    "from datascience import *\n",
    "\n",
    "# Crear la tabla con 20 libros\n",
    "libros = Table().with_columns(\n",
    "    'Titulo', make_array(\n",
    "        'Cien Años de Soledad', 'El Quijote', '1984', 'Orgullo y Prejuicio', 'Crimen y Castigo', \n",
    "        'El Principito', 'Don Juan Tenorio', 'Matar a un Ruiseñor', 'La Odisea', 'El Gran Gatsby',\n",
    "        'Fahrenheit 451', 'La Metamorfosis', 'El Retrato de Dorian Gray', 'Hamlet', 'Macbeth',\n",
    "        'La Ilíada', 'El Señor de los Anillos', 'Drácula', 'Los Miserables', 'La Divina Comedia'),\n",
    "    \n",
    "    'Autor', make_array(\n",
    "        'Gabriel García Márquez', 'Miguel de Cervantes', 'George Orwell', 'Jane Austen', 'Fiódor Dostoyevski', \n",
    "        'Antoine de Saint-Exupéry', 'José Zorrilla', 'Harper Lee', 'Homero', 'F. Scott Fitzgerald', \n",
    "        'Ray Bradbury', 'Franz Kafka', 'Oscar Wilde', 'William Shakespeare', 'William Shakespeare',\n",
    "        'Homero', 'J. R. R. Tolkien', 'Bram Stoker', 'Victor Hugo', 'Dante Alighieri'),\n",
    "    \n",
    "    'Genero', make_array(\n",
    "        'Ficción', 'Clásico', 'Ciencia Ficción', 'Romance', 'Clásico', \n",
    "        'Ficción', 'Clásico', 'Ficción', 'Clásico', 'Ficción',\n",
    "        'Ciencia Ficción', 'Ficción', 'Clásico', 'Clásico', 'Clásico',\n",
    "        'Clásico', 'Fantasía', 'Terror', 'Clásico', 'Clásico'),\n",
    "    \n",
    "    'Precio (COP)', make_array(\n",
    "        45000, 60000, 40000, 38000, 52000, \n",
    "        35000, 30000, 45000, 32000, 42000,\n",
    "        37000, 25000, 48000, 51000, 50000,\n",
    "        30000, 70000, 35000, 68000, 63000),\n",
    "    \n",
    "    'Anio de Publicacion', make_array(\n",
    "        1967, 1605, 1949, 1813, 1866,\n",
    "        1943, 1844, 1960, 'Siglo VIII a.C.', 1925,\n",
    "        1953, 1915, 1890, 1603, 1606,\n",
    "        'Siglo VIII a.C.', 1954, 1897, 1862, 1320),\n",
    "    \n",
    "    'Calificacion (1-5)', make_array(\n",
    "        4.8, 4.9, 4.7, 4.6, 4.8, \n",
    "        4.7, 4.4, 4.9, 4.6, 4.8,\n",
    "        4.6, 4.5, 4.7, 4.9, 4.8,\n",
    "        4.6, 4.9, 4.7, 4.9, 4.9)\n",
    ")"
   ]
  },
  {
   "cell_type": "code",
   "execution_count": 192,
   "id": "c5df934c-f692-4ab7-a9b4-ef3b83407b41",
   "metadata": {},
   "outputs": [
    {
     "data": {
      "text/html": [
       "<table border=\"1\" class=\"dataframe\">\n",
       "    <thead>\n",
       "        <tr>\n",
       "            <th>Genero</th> <th>Titulo mean</th> <th>Autor mean</th> <th>Precio (COP) mean</th> <th>Anio de Publicacion mean</th> <th>Calificacion (1-5) mean</th>\n",
       "        </tr>\n",
       "    </thead>\n",
       "    <tbody>\n",
       "        <tr>\n",
       "            <td>Ciencia Ficción</td> <td>           </td> <td>          </td> <td>38500            </td> <td>                        </td> <td>4.65                   </td>\n",
       "        </tr>\n",
       "        <tr>\n",
       "            <td>Clásico        </td> <td>           </td> <td>          </td> <td>48400            </td> <td>                        </td> <td>4.75                   </td>\n",
       "        </tr>\n",
       "        <tr>\n",
       "            <td>Fantasía       </td> <td>           </td> <td>          </td> <td>70000            </td> <td>                        </td> <td>4.9                    </td>\n",
       "        </tr>\n",
       "        <tr>\n",
       "            <td>Ficción        </td> <td>           </td> <td>          </td> <td>38400            </td> <td>                        </td> <td>4.74                   </td>\n",
       "        </tr>\n",
       "        <tr>\n",
       "            <td>Romance        </td> <td>           </td> <td>          </td> <td>38000            </td> <td>                        </td> <td>4.6                    </td>\n",
       "        </tr>\n",
       "        <tr>\n",
       "            <td>Terror         </td> <td>           </td> <td>          </td> <td>35000            </td> <td>                        </td> <td>4.7                    </td>\n",
       "        </tr>\n",
       "    </tbody>\n",
       "</table>"
      ],
      "text/plain": [
       "Genero          | Titulo mean | Autor mean | Precio (COP) mean | Anio de Publicacion mean | Calificacion (1-5) mean\n",
       "Ciencia Ficción |             |            | 38500             |                          | 4.65\n",
       "Clásico         |             |            | 48400             |                          | 4.75\n",
       "Fantasía        |             |            | 70000             |                          | 4.9\n",
       "Ficción         |             |            | 38400             |                          | 4.74\n",
       "Romance         |             |            | 38000             |                          | 4.6\n",
       "Terror          |             |            | 35000             |                          | 4.7"
      ]
     },
     "execution_count": 192,
     "metadata": {},
     "output_type": "execute_result"
    }
   ],
   "source": [
    "libros.group(\"Genero\", np.mean)"
   ]
  },
  {
   "cell_type": "code",
   "execution_count": 193,
   "id": "9ef1a3e1-1992-4811-81e3-2be8146aaee8",
   "metadata": {},
   "outputs": [
    {
     "data": {
      "text/plain": [
       "484000"
      ]
     },
     "execution_count": 193,
     "metadata": {},
     "output_type": "execute_result"
    }
   ],
   "source": [
    "libros.where(\"Genero\", are.equal_to(\"Clásico\")).column(\"Precio (COP)\").sum()"
   ]
  },
  {
   "cell_type": "markdown",
   "id": "3746a4d3-4da1-4643-9953-c88f593982f2",
   "metadata": {},
   "source": [
    "# Joins"
   ]
  },
  {
   "cell_type": "code",
   "execution_count": 7,
   "id": "5e7abac8-d311-4c69-88e6-82b67f41f03a",
   "metadata": {},
   "outputs": [
    {
     "data": {
      "text/html": [
       "<table border=\"1\" class=\"dataframe\">\n",
       "    <thead>\n",
       "        <tr>\n",
       "            <th>ID</th> <th>Name</th>\n",
       "        </tr>\n",
       "    </thead>\n",
       "    <tbody>\n",
       "        <tr>\n",
       "            <td>1   </td> <td>Alice  </td>\n",
       "        </tr>\n",
       "        <tr>\n",
       "            <td>2   </td> <td>Bob    </td>\n",
       "        </tr>\n",
       "        <tr>\n",
       "            <td>3   </td> <td>Charlie</td>\n",
       "        </tr>\n",
       "        <tr>\n",
       "            <td>4   </td> <td>David  </td>\n",
       "        </tr>\n",
       "    </tbody>\n",
       "</table>"
      ],
      "text/plain": [
       "ID   | Name\n",
       "1    | Alice\n",
       "2    | Bob\n",
       "3    | Charlie\n",
       "4    | David"
      ]
     },
     "execution_count": 7,
     "metadata": {},
     "output_type": "execute_result"
    }
   ],
   "source": [
    "# Tabla de estudiantes con IDs y nombres\n",
    "students = Table().with_columns(\n",
    "    'ID', [1, 2, 3, 4],\n",
    "    'Name', ['Alice', 'Bob', 'Charlie', 'David']\n",
    ")\n",
    "\n",
    "students"
   ]
  },
  {
   "cell_type": "code",
   "execution_count": 9,
   "id": "78d279bb-faa8-43f0-aac8-20ea967d672a",
   "metadata": {},
   "outputs": [
    {
     "data": {
      "text/html": [
       "<table border=\"1\" class=\"dataframe\">\n",
       "    <thead>\n",
       "        <tr>\n",
       "            <th>ID</th> <th>Grade</th>\n",
       "        </tr>\n",
       "    </thead>\n",
       "    <tbody>\n",
       "        <tr>\n",
       "            <td>1   </td> <td>A    </td>\n",
       "        </tr>\n",
       "        <tr>\n",
       "            <td>2   </td> <td>B    </td>\n",
       "        </tr>\n",
       "        <tr>\n",
       "            <td>3   </td> <td>C    </td>\n",
       "        </tr>\n",
       "        <tr>\n",
       "            <td>5   </td> <td>D    </td>\n",
       "        </tr>\n",
       "    </tbody>\n",
       "</table>"
      ],
      "text/plain": [
       "ID   | Grade\n",
       "1    | A\n",
       "2    | B\n",
       "3    | C\n",
       "5    | D"
      ]
     },
     "execution_count": 9,
     "metadata": {},
     "output_type": "execute_result"
    }
   ],
   "source": [
    "# Tabla de calificaciones con IDs y calificaciones\n",
    "grades = Table().with_columns(\n",
    "    'ID', [1, 2, 3, 5],\n",
    "    'Grade', ['A', 'B', 'C', 'D']\n",
    ")\n",
    "\n",
    "grades"
   ]
  },
  {
   "cell_type": "code",
   "execution_count": 10,
   "id": "f142d826-aa3d-421e-ad72-ebc20b9b1cae",
   "metadata": {},
   "outputs": [
    {
     "data": {
      "text/html": [
       "<table border=\"1\" class=\"dataframe\">\n",
       "    <thead>\n",
       "        <tr>\n",
       "            <th>ID</th> <th>Name</th> <th>Grade</th>\n",
       "        </tr>\n",
       "    </thead>\n",
       "    <tbody>\n",
       "        <tr>\n",
       "            <td>1   </td> <td>Alice  </td> <td>A    </td>\n",
       "        </tr>\n",
       "        <tr>\n",
       "            <td>2   </td> <td>Bob    </td> <td>B    </td>\n",
       "        </tr>\n",
       "        <tr>\n",
       "            <td>3   </td> <td>Charlie</td> <td>C    </td>\n",
       "        </tr>\n",
       "    </tbody>\n",
       "</table>"
      ],
      "text/plain": [
       "<IPython.core.display.HTML object>"
      ]
     },
     "metadata": {},
     "output_type": "display_data"
    }
   ],
   "source": [
    "# Realizar un join en la columna 'ID'\n",
    "merged_table = students.join('ID', grades)\n",
    "\n",
    "# Mostrar la tabla resultante\n",
    "merged_table.show()\n"
   ]
  },
  {
   "cell_type": "markdown",
   "id": "fc9b5285-af1f-4acf-b504-44034a2651d2",
   "metadata": {},
   "source": [
    "# Ejercicios de clase árboles udea"
   ]
  },
  {
   "cell_type": "markdown",
   "id": "f4a7ba42-c058-4d51-a9be-591f0b7a8990",
   "metadata": {},
   "source": [
    "## Árboles de la Universidad de Antioquia\n",
    "\n",
    "En este ejercicio exploraremos un conjunto de datos con información sobre árboles localizados en el campus de la Universidad de Antioquia.  \n",
    "Aplicaremos operaciones de filtrado, agrupamiento, exploración de especies y visualización geográfica.\n",
    "\n",
    "1. Lee el archivo `arboles_udea_localizacion.csv` en una tabla llamada `arboles` y selecciona las columnas:\n",
    "`\"FAMILIA\"`, `\"Nombre común\"`, `\"Nombre científico\"`, `\"X\"`, `\"Y\"`, `\"ALTURA TOTAL\"`, `\"ALTURA DE COPA\"`, `\"DIAMETRO_MAYOR \"`, `\"DIAMETRO_MENOR\"`.\n",
    "\n",
    "\n",
    "\n",
    "2. Muestra los nombres de las columnas de la tabla.  \n",
    "¿Qué función utilizas para hacerlo?\n",
    "\n",
    "\n",
    "\n",
    "3. Filtra los árboles cuya **altura total** sea mayor a 20 metros.  \n",
    "¿Cuántos árboles cumplen con esta condición?\n",
    "\n",
    "4. Crea una función empleando `apply` para dar la medida de m en cm.\n",
    "\n",
    "\n",
    "4. Agrupa la tabla por la columna `\"FAMILIA\"` y calcula el **promedio de altura total** para cada familia.  \n",
    "Muestra el resultado ordenado de mayor a menor.\n",
    "\n",
    "\n",
    "\n",
    "5. ¿Qué familia tiene la **mayor altura promedio**?  \n",
    "¿Y cuál tiene la **menor altura promedio**?\n",
    "\n",
    "\n",
    "6. Muestra los nombres comunes de todas las especies presentes en el conjunto de datos.  \n",
    "¿Qué función utilizas para obtener una lista sin repeticiones?\n",
    "\n",
    "\n",
    "\n",
    "7. Filtra únicamente los árboles de la familia `\"MORACEAE\"` y realiza una tabla pivote (`pivot`) con la familia en las filas y el nombre común en las columnas.  \n",
    "¿Qué observas en el resultado?\n",
    "\n",
    "\n",
    "8. Convierte la tabla `arboles_udea` en un `DataFrame` de pandas con las columnas `\"Y\"`, `\"X\"` y `\"Nombre común\"`.  \n",
    "Guárdalo en una variable llamada `data_arboles`.\n",
    "\n",
    "```\n",
    "import pandas as pd\n",
    "data_arboles = arboles_udea.select('Y', 'X', 'Nombre común').to_df()\n",
    "```\n",
    "\n",
    "9. Utiliza `plotly.express` para crear un **mapa interactivo** con los puntos que representan la ubicación de los árboles.  \n",
    "Cada punto debe mostrar el nombre común al pasar el cursor.  \n",
    "\n",
    "- ¿Qué parámetro define el color de los puntos?  \n",
    "- ¿Qué parámetro controla el nivel de zoom?  \n",
    "- ¿Qué representa cada punto verde en el mapa?\n",
    "\n",
    "Ayuda:\n",
    "```python\n",
    "fig = px.scatter_mapbox(\n",
    "    data_arboles,\n",
    "    lat='X',\n",
    "    lon='Y',\n",
    "    hover_name='Nombre común',\n",
    "    color_discrete_sequence=['green'],\n",
    "    zoom=16,\n",
    "    height=600,\n",
    "    title='Mapa interactivo de árboles sobre OpenStreetMap'\n",
    ")\n",
    "fig.update_layout(mapbox_style='open-street-map')\n",
    "fig.show()\n",
    "```  \n",
    "\n",
    "\n",
    "\n",
    "\n",
    "10. Modifica el mapa cambiando el estilo de fondo (`mapbox_style`).  \n",
    "¿Qué otros estilos gratuitos puedes usar además de `'open-street-map'`?\n",
    "\n",
    "\n",
    "\n",
    "\n",
    "\n",
    "\n"
   ]
  },
  {
   "cell_type": "code",
   "execution_count": null,
   "id": "391d51a8-b6c1-456d-9782-1b7610ef5a4b",
   "metadata": {},
   "outputs": [],
   "source": []
  }
 ],
 "metadata": {
  "kernelspec": {
   "display_name": "Python 3 (ipykernel)",
   "language": "python",
   "name": "python3"
  },
  "language_info": {
   "codemirror_mode": {
    "name": "ipython",
    "version": 3
   },
   "file_extension": ".py",
   "mimetype": "text/x-python",
   "name": "python",
   "nbconvert_exporter": "python",
   "pygments_lexer": "ipython3",
   "version": "3.10.14"
  }
 },
 "nbformat": 4,
 "nbformat_minor": 5
}
