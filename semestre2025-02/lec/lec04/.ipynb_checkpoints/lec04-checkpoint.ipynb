{
 "cells": [
  {
   "cell_type": "code",
   "execution_count": 1,
   "id": "fc93a6ec-6140-4a18-9f56-6e31a4f3a7d4",
   "metadata": {},
   "outputs": [],
   "source": [
    "# Operación suma\n",
    "\n",
    "# Operación flotante\n",
    "\n",
    "# Operaciones con string"
   ]
  },
  {
   "cell_type": "markdown",
   "id": "28dbbf63-87be-4fdd-b9b8-f66f9ecd1351",
   "metadata": {},
   "source": [
    "# Enteros"
   ]
  },
  {
   "cell_type": "code",
   "execution_count": 7,
   "id": "b2288427-f771-47eb-9658-ca74b1746154",
   "metadata": {},
   "outputs": [
    {
     "name": "stdout",
     "output_type": "stream",
     "text": [
      "<class 'int'>\n"
     ]
    }
   ],
   "source": [
    "edad = 25        # un entero\n",
    "cantidad = -100  # también pueden ser negativos\n",
    "print(type(edad))  # <class 'int'>"
   ]
  },
  {
   "cell_type": "code",
   "execution_count": 8,
   "id": "53d59a50-19ab-4793-b7b7-70be5d7106da",
   "metadata": {},
   "outputs": [
    {
     "name": "stdout",
     "output_type": "stream",
     "text": [
      "13\n",
      "7\n",
      "30\n",
      "3\n",
      "1\n"
     ]
    }
   ],
   "source": [
    "x = 10\n",
    "y = 3\n",
    "print(x + y)   # suma → 13\n",
    "print(x - y)   # resta → 7\n",
    "print(x * y)   # multiplicación → 30\n",
    "print(x // y)  # división entera → 3\n",
    "print(x % y)   # módulo → 1"
   ]
  },
  {
   "cell_type": "markdown",
   "id": "d2271968-6ed0-4d4d-a3ee-d6362f3c99d8",
   "metadata": {},
   "source": [
    "# Decimales"
   ]
  },
  {
   "cell_type": "code",
   "execution_count": 9,
   "id": "389d9cee-6217-4353-84e4-3a484667ec60",
   "metadata": {},
   "outputs": [
    {
     "name": "stdout",
     "output_type": "stream",
     "text": [
      "<class 'float'>\n"
     ]
    }
   ],
   "source": [
    "pi = 3.1416\n",
    "altura = 1.75\n",
    "print(type(pi))  # <class 'float'>"
   ]
  },
  {
   "cell_type": "code",
   "execution_count": 10,
   "id": "da032c34-8153-4732-9e24-672bbbd04fd9",
   "metadata": {},
   "outputs": [
    {
     "name": "stdout",
     "output_type": "stream",
     "text": [
      "2.5\n",
      "25.0\n"
     ]
    }
   ],
   "source": [
    "a = 5.0\n",
    "b = 2\n",
    "print(a / b)   # división normal → 2.5\n",
    "print(a ** b)  # potencia → 25.0"
   ]
  },
  {
   "cell_type": "markdown",
   "id": "7f355c0b-c94d-472e-9e98-dec4157778d7",
   "metadata": {},
   "source": [
    "# Cadenas de texto (string)"
   ]
  },
  {
   "cell_type": "code",
   "execution_count": 11,
   "id": "3ae5015d-366e-48b5-8a68-36fcdcac77b1",
   "metadata": {},
   "outputs": [
    {
     "name": "stdout",
     "output_type": "stream",
     "text": [
      "<class 'str'>\n"
     ]
    }
   ],
   "source": [
    "nombre = \"Ana\"\n",
    "saludo = 'Hola'\n",
    "print(type(nombre))  # <class 'str'>\n"
   ]
  },
  {
   "cell_type": "code",
   "execution_count": 12,
   "id": "e52ee497-1d4b-4a48-9a83-d80d80100e7e",
   "metadata": {},
   "outputs": [
    {
     "name": "stdout",
     "output_type": "stream",
     "text": [
      "P\n",
      "n\n",
      "PYTHON\n",
      "python\n",
      "Python 3.10\n"
     ]
    }
   ],
   "source": [
    "texto = \"Python\"\n",
    "print(texto[0])       # acceso → 'P'\n",
    "print(texto[-1])      # último carácter → 'n'\n",
    "print(texto.upper())  # mayúsculas → 'PYTHON'\n",
    "print(texto.lower())  # minúsculas → 'python'\n",
    "print(texto + \" 3.10\") # concatenación → 'Python 3.10'\n"
   ]
  },
  {
   "cell_type": "markdown",
   "id": "a32be214-4f13-423a-b993-61b38ffc8bd4",
   "metadata": {},
   "source": [
    "# Comparacion entre tipos"
   ]
  },
  {
   "cell_type": "code",
   "execution_count": 29,
   "id": "b938a66a-613f-4b18-b38e-e7ef6e4dcc75",
   "metadata": {},
   "outputs": [
    {
     "name": "stdout",
     "output_type": "stream",
     "text": [
      "5.0\n"
     ]
    }
   ],
   "source": [
    "# int → float\n",
    "x = 5\n",
    "print(float(x))   # 5.0"
   ]
  },
  {
   "cell_type": "code",
   "execution_count": 30,
   "id": "ae131b0c-8e57-4e4e-869d-9d3274e6b16a",
   "metadata": {},
   "outputs": [
    {
     "name": "stdout",
     "output_type": "stream",
     "text": [
      "3\n"
     ]
    }
   ],
   "source": [
    "# float → int\n",
    "y = 3.9\n",
    "print(int(y))     # 3 (trunca, no redondea)"
   ]
  },
  {
   "cell_type": "code",
   "execution_count": 31,
   "id": "3ceee135-5406-48d3-8b18-22c2dc9a65b0",
   "metadata": {},
   "outputs": [
    {
     "name": "stdout",
     "output_type": "stream",
     "text": [
      "42\n"
     ]
    }
   ],
   "source": [
    "# string → int/float\n",
    "numero = \"42\"\n",
    "print(int(numero))    # 42"
   ]
  },
  {
   "cell_type": "code",
   "execution_count": 32,
   "id": "c7375df8-4988-411e-8833-7d8274fd657a",
   "metadata": {},
   "outputs": [
    {
     "name": "stdout",
     "output_type": "stream",
     "text": [
      "3.14\n"
     ]
    }
   ],
   "source": [
    "decimal = \"3.14\"\n",
    "print(float(decimal)) # 3.14"
   ]
  },
  {
   "cell_type": "code",
   "execution_count": 33,
   "id": "b17ce3ee-4667-4a57-bd03-77cf8d313296",
   "metadata": {},
   "outputs": [
    {
     "name": "stdout",
     "output_type": "stream",
     "text": [
      "100\n"
     ]
    }
   ],
   "source": [
    "# int/float → string\n",
    "z = 100\n",
    "print(str(z))   # \"100\""
   ]
  },
  {
   "cell_type": "markdown",
   "id": "031432da-810f-41fa-b115-c64c3e6f8316",
   "metadata": {},
   "source": [
    "# 📝 Ejercicio: Crear y usar variables en Python  \n",
    "\n",
    "## Enunciado  \n",
    "Crea tres variables en Python:  \n",
    "\n",
    "- `nombre` (cadena de texto, ejemplo: `\"Ana\"`)  \n",
    "- `edad` (número entero, ejemplo: `15`)  \n",
    "- `altura` (número decimal, ejemplo: `1.60`)  \n",
    "\n",
    "Con esas variables:  \n",
    "\n",
    "1. Muestra el mensaje en pantalla:\n",
    "   \n",
    "   Ana tiene 15 años y mide 1.60 metros.\n",
    "\n",
    "\n",
    "2. Calcula y muestra:  \n",
    "- La edad dentro de **2 años**.  \n",
    "- La altura en **centímetros**.  \n"
   ]
  },
  {
   "cell_type": "markdown",
   "id": "7bc565ae-f3db-44c7-8bd1-2b7c2031e2f2",
   "metadata": {},
   "source": [
    "# Comparaciones\n",
    "\n",
    "\n",
    "# Operadores en Python\n",
    "\n",
    "| Operador      | Descripción                                             | Ejemplo                       |\n",
    "| ------------- | ------------------------------------------------------- | ----------------------------- |\n",
    "| `==`          | Igual a: Compara si dos valores son iguales             | `5 == 5` (True)               |\n",
    "| `!=`          | No igual a: Compara si dos valores no son iguales       | `5 != 3` (True)               |\n",
    "| `>`           | Mayor que: Compara si el valor de la izquierda es mayor | `5 > 3` (True)                |\n",
    "| `<`           | Menor que: Compara si el valor de la izquierda es menor | `5 < 3` (False)               |\n",
    "| `>=`          | Mayor o igual que                                        | `5 >= 3` (True)               |\n",
    "| `<=`          | Menor o igual que                                        | `5 <= 5` (True)               |\n",
    "| `and`         | Operador lógico AND: Devuelve True si ambos son True     | `True and False` (False)      |\n",
    "| `or`          | Operador lógico OR: Devuelve True si al menos uno es True| `True or False` (True)        |\n",
    "| `not`         | Operador lógico NOT: Invierte el valor lógico            | `not True` (False)            |\n",
    "| `is`          | Operador de identidad: Compara si dos objetos son el mismo| `x is y`                      |\n",
    "| `in`          | Operador de pertenencia: Comprueba si un valor está en una secuencia | `'a' in 'abc'` (True)  |\n"
   ]
  },
  {
   "cell_type": "code",
   "execution_count": 34,
   "id": "43836649-ecfa-4e54-9a4c-6295bf62cd4e",
   "metadata": {},
   "outputs": [
    {
     "data": {
      "text/plain": [
       "False"
      ]
     },
     "execution_count": 34,
     "metadata": {},
     "output_type": "execute_result"
    }
   ],
   "source": [
    "x = 12\n",
    "y = 8\n",
    "x is y"
   ]
  },
  {
   "cell_type": "code",
   "execution_count": 35,
   "id": "10720e25-6400-4793-8a07-0de52d305243",
   "metadata": {},
   "outputs": [
    {
     "data": {
      "text/plain": [
       "False"
      ]
     },
     "execution_count": 35,
     "metadata": {},
     "output_type": "execute_result"
    }
   ],
   "source": [
    "# Ejemplos de python\n",
    "0.3 == 0.1+0.1+0.1"
   ]
  },
  {
   "cell_type": "code",
   "execution_count": 36,
   "id": "98b6cd98-ffbe-4d6d-a9a3-fe30ea25952d",
   "metadata": {},
   "outputs": [
    {
     "ename": "TypeError",
     "evalue": "'>' not supported between instances of 'NoneType' and 'int'",
     "output_type": "error",
     "traceback": [
      "\u001b[0;31m---------------------------------------------------------------------------\u001b[0m",
      "\u001b[0;31mTypeError\u001b[0m                                 Traceback (most recent call last)",
      "Cell \u001b[0;32mIn[36], line 1\u001b[0m\n\u001b[0;32m----> 1\u001b[0m \u001b[38;5;28;43;01mNone\u001b[39;49;00m\u001b[43m \u001b[49m\u001b[38;5;241;43m>\u001b[39;49m\u001b[43m \u001b[49m\u001b[38;5;241;43m0\u001b[39;49m\n",
      "\u001b[0;31mTypeError\u001b[0m: '>' not supported between instances of 'NoneType' and 'int'"
     ]
    }
   ],
   "source": [
    "None > 0"
   ]
  },
  {
   "cell_type": "code",
   "execution_count": 37,
   "id": "317b9f7a-068e-47c6-8c3c-931ea2daeb12",
   "metadata": {},
   "outputs": [
    {
     "data": {
      "text/plain": [
       "False"
      ]
     },
     "execution_count": 37,
     "metadata": {},
     "output_type": "execute_result"
    }
   ],
   "source": [
    "import math \n",
    "\n",
    "math.nan == math.nan"
   ]
  },
  {
   "cell_type": "code",
   "execution_count": 38,
   "id": "ed687afa-69d1-4ef0-bba1-09ab498b93ea",
   "metadata": {},
   "outputs": [
    {
     "data": {
      "text/plain": [
       "True"
      ]
     },
     "execution_count": 38,
     "metadata": {},
     "output_type": "execute_result"
    }
   ],
   "source": [
    "-0.0 == 0.0"
   ]
  },
  {
   "cell_type": "code",
   "execution_count": 39,
   "id": "5512ae33-c21d-4fe3-bdc3-a64815ece795",
   "metadata": {},
   "outputs": [
    {
     "data": {
      "text/plain": [
       "False"
      ]
     },
     "execution_count": 39,
     "metadata": {},
     "output_type": "execute_result"
    }
   ],
   "source": [
    "\"10\"==10"
   ]
  },
  {
   "cell_type": "code",
   "execution_count": 40,
   "id": "d4f05f0c-9d5f-49ee-aedb-d6dc396c5de6",
   "metadata": {},
   "outputs": [
    {
     "data": {
      "text/plain": [
       "False"
      ]
     },
     "execution_count": 40,
     "metadata": {},
     "output_type": "execute_result"
    }
   ],
   "source": [
    "[] == None"
   ]
  },
  {
   "cell_type": "code",
   "execution_count": 41,
   "id": "d84d96b6-29c9-4452-9a84-7d609da34903",
   "metadata": {},
   "outputs": [
    {
     "data": {
      "text/plain": [
       "False"
      ]
     },
     "execution_count": 41,
     "metadata": {},
     "output_type": "execute_result"
    }
   ],
   "source": [
    "[] is None"
   ]
  },
  {
   "cell_type": "markdown",
   "id": "64c7bdea-babb-4d35-b166-7da8626f2364",
   "metadata": {},
   "source": [
    "\n",
    "\n",
    "\n",
    "| A     | B     | A and B | A or B  |\n",
    "| ----- | ----- | ------- | ------- |\n",
    "| True  | True  | True    | True    |\n",
    "| True  | False | False   | True    |\n",
    "| False | True  | False   | True    |\n",
    "| False | False | False   | False   |\n"
   ]
  },
  {
   "cell_type": "code",
   "execution_count": 42,
   "id": "3d2b18d5-6f74-4679-9c7a-5a82efc2e1ab",
   "metadata": {},
   "outputs": [],
   "source": [
    "x = True \n",
    "y = not True"
   ]
  },
  {
   "cell_type": "code",
   "execution_count": 43,
   "id": "74062710-cc95-4e78-aff5-69f3c4424c13",
   "metadata": {},
   "outputs": [
    {
     "data": {
      "text/plain": [
       "0"
      ]
     },
     "execution_count": 43,
     "metadata": {},
     "output_type": "execute_result"
    }
   ],
   "source": [
    "0 and 0"
   ]
  },
  {
   "cell_type": "markdown",
   "id": "97f09009-6d45-47ee-912f-66e3ec7ea0d2",
   "metadata": {},
   "source": [
    "# Secuencias\n",
    "\n",
    "##  Arreglos"
   ]
  },
  {
   "cell_type": "code",
   "execution_count": 46,
   "id": "9f259b33-f97b-452e-95c3-390fcf4d16f9",
   "metadata": {},
   "outputs": [
    {
     "data": {
      "text/plain": [
       "array([1, 2, 2, 3])"
      ]
     },
     "execution_count": 46,
     "metadata": {},
     "output_type": "execute_result"
    }
   ],
   "source": [
    "from datascience import *\n",
    "make_array(1, 2,2, 3, )"
   ]
  },
  {
   "cell_type": "code",
   "execution_count": 47,
   "id": "24974242-299a-4a15-bbff-10103e7e61a6",
   "metadata": {},
   "outputs": [],
   "source": [
    "# Multiplicación, división "
   ]
  },
  {
   "cell_type": "code",
   "execution_count": 48,
   "id": "33aa837f-ac47-420a-a7b3-e5629b403454",
   "metadata": {},
   "outputs": [
    {
     "data": {
      "text/plain": [
       "numpy.ndarray"
      ]
     },
     "execution_count": 48,
     "metadata": {},
     "output_type": "execute_result"
    }
   ],
   "source": [
    "type(make_array(1, 2,2, 3, ))"
   ]
  },
  {
   "cell_type": "code",
   "execution_count": 49,
   "id": "37dc395d-75f6-42eb-945e-3032067f17c5",
   "metadata": {},
   "outputs": [],
   "source": [
    "temperatura = make_array(23, 25, 26, 28, )"
   ]
  },
  {
   "cell_type": "markdown",
   "id": "4181f348-a54c-4dba-9160-cd7ce2e0bd21",
   "metadata": {},
   "source": [
    "Pasemos los valores de temperatura a kelvin"
   ]
  },
  {
   "cell_type": "code",
   "execution_count": 50,
   "id": "e0be10e7-826a-4251-8a70-db39f7ef2140",
   "metadata": {},
   "outputs": [
    {
     "data": {
      "text/plain": [
       "array([296, 298, 299, 301])"
      ]
     },
     "execution_count": 50,
     "metadata": {},
     "output_type": "execute_result"
    }
   ],
   "source": [
    "temperatura + 273 "
   ]
  },
  {
   "cell_type": "code",
   "execution_count": 51,
   "id": "e1bc3a81-9503-41ab-ae29-485e7412bec9",
   "metadata": {},
   "outputs": [
    {
     "data": {
      "text/plain": [
       "array(['hola', 'mundo'],\n",
       "      dtype='<U5')"
      ]
     },
     "execution_count": 51,
     "metadata": {},
     "output_type": "execute_result"
    }
   ],
   "source": [
    "q = make_array(\"hola\", \"mundo\")\n",
    "q"
   ]
  },
  {
   "cell_type": "markdown",
   "id": "f00b5fe8-00fc-45be-86a1-6b3b5a8541b1",
   "metadata": {},
   "source": [
    "## Funciones sobre arreglos\n",
    "\n",
    "Tomado de [data 8 book](https://inferentialthinking.com/chapters/05/1/Arrays.html)\n",
    "\n",
    "## Tabla 1: Funciones de agregación\n",
    "\n",
    "| Función           | Descripción                                                     |\n",
    "|-------------------|-----------------------------------------------------------------|\n",
    "| `np.prod`         | Multiplica todos los elementos                                  |\n",
    "| `np.sum`          | Suma todos los elementos                                        |\n",
    "| `np.all`          | Verifica si todos los elementos son verdaderos (números diferentes de 0 son verdaderos) |\n",
    "| `np.any`          | Verifica si alguno de los elementos es verdadero (números diferentes de 0 son verdaderos) |\n",
    "| `np.count_nonzero`| Cuenta el número de elementos diferentes de cero                |\n",
    "\n",
    "\n",
    "\n",
    "## Tabla 2: Funciones de transformación numérica\n",
    "\n",
    "| Función           | Descripción                                                     |\n",
    "|-------------------|-----------------------------------------------------------------|\n",
    "| `np.diff`         | Diferencia entre elementos adyacentes                            |\n",
    "| `np.round`        | Redondea cada número al entero más cercano                       |\n",
    "| `np.cumprod`      | Producto acumulado: para cada elemento, multiplica todos los elementos hasta ese punto |\n",
    "| `np.cumsum`       | Suma acumulada: para cada elemento, suma todos los elementos hasta ese punto |\n",
    "| `np.exp`          | Eleva cada elemento a la exponencial                             |\n",
    "| `np.log`          | Aplica el logaritmo natural a cada elemento                      |\n",
    "| `np.sqrt`         | Calcula la raíz cuadrada de cada elemento                        |\n",
    "| `np.sort`         | Ordena los elementos                                             |\n",
    "\n",
    "\n",
    "## Tabla 3: Funciones para manipulación de strings\n",
    "\n",
    "| Función            | Descripción                                                    |\n",
    "|--------------------|----------------------------------------------------------------|\n",
    "| `np.char.lower`     | Convierte cada elemento a minúsculas                           |\n",
    "| `np.char.upper`     | Convierte cada elemento a mayúsculas                           |\n",
    "| `np.char.strip`     | Elimina espacios al principio o al final de cada elemento      |\n",
    "| `np.char.isalpha`   | Verifica si cada elemento contiene solo letras (sin números ni símbolos) |\n",
    "| `np.char.isnumeric` | Verifica si cada elemento contiene solo números (sin letras)   |\n",
    "\n",
    "\n",
    "\n",
    "## Tabla 4: Funciones de búsqueda en strings\n",
    "\n",
    "| Función             | Descripción                                                  |\n",
    "|---------------------|--------------------------------------------------------------|\n",
    "| `np.char.count`      | Cuenta cuántas veces aparece una cadena de búsqueda en los elementos del arreglo |\n",
    "| `np.char.find`       | Devuelve la posición en la que se encuentra la cadena de búsqueda por primera vez en cada elemento |\n",
    "| `np.char.rfind`      | Devuelve la posición en la que se encuentra la cadena de búsqueda por última vez en cada elemento |\n",
    "| `np.char.startswith` | Verifica si cada elemento comienza con la cadena de búsqueda |\n"
   ]
  },
  {
   "cell_type": "code",
   "execution_count": 53,
   "id": "8b1c018b-73d0-4675-8ad1-5683da519a7b",
   "metadata": {},
   "outputs": [],
   "source": [
    "import numpy as np"
   ]
  },
  {
   "cell_type": "code",
   "execution_count": 54,
   "id": "14b4aacf-1031-4d31-a5f1-d62a00a8312d",
   "metadata": {},
   "outputs": [
    {
     "data": {
      "text/plain": [
       "array([Ellipsis], dtype=object)"
      ]
     },
     "execution_count": 54,
     "metadata": {},
     "output_type": "execute_result"
    }
   ],
   "source": [
    "make_array(...)"
   ]
  },
  {
   "cell_type": "code",
   "execution_count": 56,
   "id": "9f175912-d113-4988-9fc9-1ea33c888afd",
   "metadata": {},
   "outputs": [
    {
     "data": {
      "text/plain": [
       "array(['POR LA', 'LIBERTAD'],\n",
       "      dtype='<U8')"
      ]
     },
     "execution_count": 56,
     "metadata": {},
     "output_type": "execute_result"
    }
   ],
   "source": [
    "q=make_array(\"por la\", \"libertad\")\n",
    "np.char.upper(q)"
   ]
  },
  {
   "cell_type": "markdown",
   "id": "4046b575-4087-4c1d-907d-f8ceb2ca7852",
   "metadata": {},
   "source": [
    "# Aumento de la presión con la profundidad\n",
    "\n",
    "Al bucear, la presión experimentada aumenta a medida que se incrementa la profundidad. Este aumento de presión puede modelarse con la siguiente ecuación:\n",
    "\n",
    "\\begin{equation}\n",
    "P = P_0 + \\rho g h\n",
    "\\end{equation}\n",
    "\n",
    "Donde:\n",
    "- $P$ es la presión total a una determinada profundidad.\n",
    "- $P_0$ es la presión atmosférica a nivel del mar: 1atm es 101.325 pascales (Pa)\n",
    "- $\\rho$ es la densidad del agua (aproximadamente 1000 kg/m³ para agua dulce).\n",
    "- $g$ es la aceleración gravitacional (aproximadamente 9.81 m/s²).\n",
    "- $h$ es la profundidad en metros.\n",
    "\n",
    "Calcular la presión en atmósferas para las siguientes profundidades:\n",
    "\n",
    "```\n",
    "h = 0, 10, 20, 30, 40, 50 m\n",
    "```\n",
    "\n",
    "Determinar el aumento diferencial de presión, es decir hacer el cálculo de la diferencia entre el primer y segundo valor, entre el tercero y segundo y asi sucesivamente: emplea `np.diff`\n"
   ]
  },
  {
   "cell_type": "code",
   "execution_count": 62,
   "id": "f49a9e92-f749-496d-b35f-0b2c905048f7",
   "metadata": {},
   "outputs": [
    {
     "data": {
      "text/plain": [
       "array([10, 10, 10, 10, 10])"
      ]
     },
     "execution_count": 62,
     "metadata": {},
     "output_type": "execute_result"
    }
   ],
   "source": [
    "np.diff(h)"
   ]
  },
  {
   "cell_type": "code",
   "execution_count": 63,
   "id": "f06128bb-9bda-40ba-aee5-3858050eabd1",
   "metadata": {},
   "outputs": [
    {
     "data": {
      "text/plain": [
       "4.0"
      ]
     },
     "execution_count": 63,
     "metadata": {},
     "output_type": "execute_result"
    }
   ],
   "source": [
    "notas = make_array(2.5, 4.5, 5.0)\n",
    "promedio = np.sum(notas)/len(notas)\n",
    "promedio"
   ]
  },
  {
   "cell_type": "code",
   "execution_count": 64,
   "id": "c33a12fb-a85e-40c0-bfec-965689139e28",
   "metadata": {},
   "outputs": [
    {
     "data": {
      "text/plain": [
       "4.0"
      ]
     },
     "execution_count": 64,
     "metadata": {},
     "output_type": "execute_result"
    }
   ],
   "source": [
    "promedio = np.mean(notas)\n",
    "promedio"
   ]
  },
  {
   "cell_type": "markdown",
   "id": "4e1b1591-3a92-4778-a11d-bca12060ed2b",
   "metadata": {},
   "source": [
    "# Rangos"
   ]
  },
  {
   "cell_type": "markdown",
   "id": "1056c801-d2e6-4c3b-abe2-07a1bc20e7f6",
   "metadata": {},
   "source": [
    "Enfatizar en la diferencia entre diferentes tipos de datos y los rangos"
   ]
  },
  {
   "cell_type": "code",
   "execution_count": 65,
   "id": "e8c56b60-381f-4bc3-8612-8b7be9dadf1b",
   "metadata": {},
   "outputs": [
    {
     "data": {
      "text/plain": [
       "array([0, 1, 2, 3, 4])"
      ]
     },
     "execution_count": 65,
     "metadata": {},
     "output_type": "execute_result"
    }
   ],
   "source": [
    "u = np.arange(5)\n",
    "u"
   ]
  },
  {
   "cell_type": "code",
   "execution_count": 66,
   "id": "f0d8efc2-7a9c-4f99-8205-5dc1a8b2523f",
   "metadata": {},
   "outputs": [
    {
     "data": {
      "text/plain": [
       "2"
      ]
     },
     "execution_count": 66,
     "metadata": {},
     "output_type": "execute_result"
    }
   ],
   "source": [
    "u.take(2)"
   ]
  },
  {
   "cell_type": "markdown",
   "id": "35f057cd-157e-4179-a569-e5fa0f0dcc2e",
   "metadata": {},
   "source": [
    "## Leibniz's Formula for Pi\n",
    "\n",
    "La fórmula de Leibniz para calcular $\\pi$ es una serie infinita alternada que converge hacia $\\pi$ cuando se multiplica por 4. Se puede expresar de la siguiente manera:\n",
    "\n",
    "\\begin{equation}\n",
    "\\frac{\\pi}{4} = 1 - \\frac{1}{3} + \\frac{1}{5} - \\frac{1}{7} + \\frac{1}{9} - \\frac{1}{11} + \\cdots\n",
    "\\end{equation}\n",
    "\n",
    "También se puede reorganizar la fórmula separando los términos positivos y negativos en dos series distintas:\n",
    "\n",
    "\\begin{equation}\n",
    "\\frac{\\pi}{4} = \\left( 1 + \\frac{1}{5} + \\frac{1}{9} + \\cdots \\right) - \\left( \\frac{1}{3} + \\frac{1}{7} + \\frac{1}{11} + \\cdots \\right)\n",
    "\\end{equation}\n",
    "\n",
    "Esta fórmula es una representación elegante de $\\pi$,  aunque su convergencia es relativamente lenta.\n",
    "\n",
    "¿Calcular el valor de pi?"
   ]
  },
  {
   "cell_type": "code",
   "execution_count": null,
   "id": "bd0b64e2-113d-4fe2-877c-3b302016058b",
   "metadata": {},
   "outputs": [],
   "source": []
  },
  {
   "cell_type": "code",
   "execution_count": 52,
   "id": "1a7baa2b-751f-4fc1-bc2c-28e02def9f1d",
   "metadata": {},
   "outputs": [
    {
     "data": {
      "text/html": [
       "<table border=\"1\" class=\"dataframe\">\n",
       "    <thead>\n",
       "        <tr>\n",
       "            <th>temperatura</th> <th>NumeroAtomico</th>\n",
       "        </tr>\n",
       "    </thead>\n",
       "    <tbody>\n",
       "        <tr>\n",
       "            <td>K          </td> <td>19           </td>\n",
       "        </tr>\n",
       "    </tbody>\n",
       "</table>"
      ],
      "text/plain": [
       "temperatura | NumeroAtomico\n",
       "K           | 19"
      ]
     },
     "execution_count": 52,
     "metadata": {},
     "output_type": "execute_result"
    }
   ],
   "source": [
    "tabla_periodica = Table().with_columns( [\"temperatura\", [\"Si\", \"K\", \"Fe\", \"Co\"], \"NumeroAtomico\", [14,19,26,27] ])\n",
    "tabla_periodica.take(range(1, 2))"
   ]
  },
  {
   "cell_type": "code",
   "execution_count": 54,
   "id": "53c0362d-c378-47af-88f7-a8e6d38db370",
   "metadata": {},
   "outputs": [
    {
     "data": {
      "text/html": [
       "<table border=\"1\" class=\"dataframe\">\n",
       "    <thead>\n",
       "        <tr>\n",
       "            <th>NumeroAtomico</th>\n",
       "        </tr>\n",
       "    </thead>\n",
       "    <tbody>\n",
       "        <tr>\n",
       "            <td>14           </td>\n",
       "        </tr>\n",
       "        <tr>\n",
       "            <td>19           </td>\n",
       "        </tr>\n",
       "        <tr>\n",
       "            <td>26           </td>\n",
       "        </tr>\n",
       "        <tr>\n",
       "            <td>27           </td>\n",
       "        </tr>\n",
       "    </tbody>\n",
       "</table>"
      ],
      "text/plain": [
       "NumeroAtomico\n",
       "14\n",
       "19\n",
       "26\n",
       "27"
      ]
     },
     "execution_count": 54,
     "metadata": {},
     "output_type": "execute_result"
    }
   ],
   "source": [
    "tabla_periodica.select(\"NumeroAtomico\")"
   ]
  },
  {
   "cell_type": "code",
   "execution_count": 55,
   "id": "4770d3e1-25b9-48ad-b6b6-1b62fceeb2f2",
   "metadata": {},
   "outputs": [
    {
     "data": {
      "text/plain": [
       "array([14, 19, 26, 27])"
      ]
     },
     "execution_count": 55,
     "metadata": {},
     "output_type": "execute_result"
    }
   ],
   "source": [
    "tabla_periodica.column(\"NumeroAtomico\")"
   ]
  },
  {
   "cell_type": "code",
   "execution_count": null,
   "id": "b06f25d0-f4f4-4aba-a1d4-f93295f905ab",
   "metadata": {},
   "outputs": [],
   "source": []
  },
  {
   "cell_type": "markdown",
   "id": "04699bc7-388f-4e8a-b7b4-d0f3ce07b28f",
   "metadata": {},
   "source": [
    "#  Repaso de tablas"
   ]
  },
  {
   "cell_type": "markdown",
   "id": "eb614168-ceb1-44f4-848a-122b2bee9e87",
   "metadata": {},
   "source": [
    "| **Método**                                  | **Descripción**                                                                 |\n",
    "|---------------------------------------------|---------------------------------------------------------------------------------|\n",
    "| `Table.read_table(file_path)`               | Lee un archivo CSV y devuelve una tabla.                                        |\n",
    "| `table.show(n)`                             | Muestra las primeras `n` filas de la tabla.                                     |\n",
    "| `table.with_columns(column1, values1, ...)` | Agrega una o más columnas nuevas a la tabla.                                    |\n",
    "| `table.column(column_name)`                 | Devuelve los valores de una columna como un array de Numpy.                     |\n",
    "| `table.num_columns()`                       | Devuelve el número de columnas en la tabla.                                     |\n",
    "| `table.num_rows()`                          | Devuelve el número de filas en la tabla.                                        |\n",
    "| `table.select(column_name1, column_name2)`  | Selecciona y devuelve una tabla con solo las columnas indicadas.                |\n",
    "| `table.drop(column_name1, column_name2)`    | Elimina las columnas especificadas y devuelve una tabla nueva.                  |\n",
    "| `table.where(column_name, predicate)`       | Filtra las filas según una condición en una columna específica.                 |\n",
    "| `table.sort(column_name, descending=False)` | Ordena la tabla por una columna en orden ascendente o descendente.              |\n"
   ]
  },
  {
   "cell_type": "markdown",
   "id": "7e54540a-6697-4ee1-9514-dae7d21955ba",
   "metadata": {},
   "source": [
    "## Creacion de una tabla \n",
    "Supongamos que queremos construir una tabla con las distancia al sol,  y la masa de cada planeta.\n",
    "\n",
    "| Planeta    | Distancia al Sol (UA) | Masa (Unidades de masas terrestres) |\n",
    "|------------|-----------------------|-------------------------------------|\n",
    "| Mercurio   | 0.39                  | 0.055                              |\n",
    "| Venus      | 0.72                  | 0.815                              |\n",
    "| Tierra     | 1.00                  | 1.000                              |\n",
    "| Marte      | 1.52                  | 0.107                              |\n",
    "| Júpiter    | 5.20                  | 317.8                              |\n",
    "| Saturno    | 9.58                  | 95.2                               |\n",
    "| Urano      | 19.22                 | 14.5                               |\n",
    "| Neptuno    | 30.05                 | 17.1                               |\n",
    "\n",
    "Nota:  \n",
    "- 1 UA ≈ 149.6 millones de kilómetros\n",
    "- 5.97 × 10²⁴ kilogramos.\n",
    "\n",
    "Las siguientes celdas contiene la informaciòn par no copiar todos los datos: \n",
    "\n",
    "```python \n",
    "distancias_ua = [0.39, 0.72, 1.00, 1.52, 5.20, 9.58, 19.22, 30.05]\n",
    "```\n",
    "\n",
    "```python \n",
    "masas_terrestres = [0.055, 0.815, 1.000, 0.107, 317.8, 95.2, 14.5, 17.1]\n",
    "```"
   ]
  },
  {
   "cell_type": "code",
   "execution_count": 56,
   "id": "cd35d8c1-8675-4e09-9046-06e16c2aa653",
   "metadata": {},
   "outputs": [],
   "source": [
    "from  datascience import * "
   ]
  },
  {
   "cell_type": "code",
   "execution_count": 57,
   "id": "65dd865b-3741-4bbe-9a38-0b9580b99e32",
   "metadata": {},
   "outputs": [
    {
     "data": {
      "text/html": [
       "<table border=\"1\" class=\"dataframe\">\n",
       "    <thead>\n",
       "        <tr>\n",
       "            <th>Planeta</th> <th>DistanciaSol</th> <th>Masa</th>\n",
       "        </tr>\n",
       "    </thead>\n",
       "    <tbody>\n",
       "        <tr>\n",
       "            <td>Mercurio</td> <td>0.39        </td> <td>0.055</td>\n",
       "        </tr>\n",
       "        <tr>\n",
       "            <td>Venus   </td> <td>0.72        </td> <td>0.815</td>\n",
       "        </tr>\n",
       "        <tr>\n",
       "            <td>Tierra  </td> <td>1           </td> <td>1    </td>\n",
       "        </tr>\n",
       "        <tr>\n",
       "            <td>Marte   </td> <td>1.52        </td> <td>0.107</td>\n",
       "        </tr>\n",
       "        <tr>\n",
       "            <td>Júpiter </td> <td>5.2         </td> <td>317.8</td>\n",
       "        </tr>\n",
       "        <tr>\n",
       "            <td>Saturno </td> <td>9.58        </td> <td>95.2 </td>\n",
       "        </tr>\n",
       "        <tr>\n",
       "            <td>Urano   </td> <td>19.22       </td> <td>14.5 </td>\n",
       "        </tr>\n",
       "        <tr>\n",
       "            <td>Neptuno </td> <td>30.05       </td> <td>17.1 </td>\n",
       "        </tr>\n",
       "    </tbody>\n",
       "</table>"
      ],
      "text/plain": [
       "Planeta  | DistanciaSol | Masa\n",
       "Mercurio | 0.39         | 0.055\n",
       "Venus    | 0.72         | 0.815\n",
       "Tierra   | 1            | 1\n",
       "Marte    | 1.52         | 0.107\n",
       "Júpiter  | 5.2          | 317.8\n",
       "Saturno  | 9.58         | 95.2\n",
       "Urano    | 19.22        | 14.5\n",
       "Neptuno  | 30.05        | 17.1"
      ]
     },
     "execution_count": 57,
     "metadata": {},
     "output_type": "execute_result"
    }
   ],
   "source": [
    "# Construyendo la tabla\n",
    "Table().with_columns([\"Planeta\", [\"Mercurio\", \"Venus\", \"Tierra\", \"Marte\", \"Júpiter\", \"Saturno\", \"Urano\", \"Neptuno\"],\n",
    "                      \"DistanciaSol\", [0.39, 0.72, 1.00, 1.52, 5.20, 9.58, 19.22, 30.05],\n",
    "                      \"Masa\", [0.055, 0.815, 1.000, 0.107, 317.8, 95.2, 14.5, 17.1],                     \n",
    "                     ])\n"
   ]
  },
  {
   "cell_type": "code",
   "execution_count": 62,
   "id": "5c549653-6696-4f2f-982b-c95fd0f853a1",
   "metadata": {},
   "outputs": [
    {
     "data": {
      "text/html": [
       "<table border=\"1\" class=\"dataframe\">\n",
       "    <thead>\n",
       "        <tr>\n",
       "            <th>Nombre</th> <th>DistanciaSol</th> <th>Masa</th>\n",
       "        </tr>\n",
       "    </thead>\n",
       "    <tbody>\n",
       "        <tr>\n",
       "            <td>Mercurio</td> <td>0.39        </td> <td>0.39 </td>\n",
       "        </tr>\n",
       "        <tr>\n",
       "            <td>Venus   </td> <td>0.72        </td> <td>0.72 </td>\n",
       "        </tr>\n",
       "        <tr>\n",
       "            <td>Tierra  </td> <td>1           </td> <td>1    </td>\n",
       "        </tr>\n",
       "        <tr>\n",
       "            <td>Marte   </td> <td>1.52        </td> <td>1.52 </td>\n",
       "        </tr>\n",
       "        <tr>\n",
       "            <td>Júpiter </td> <td>5.2         </td> <td>5.2  </td>\n",
       "        </tr>\n",
       "        <tr>\n",
       "            <td>Saturno </td> <td>9.58        </td> <td>9.58 </td>\n",
       "        </tr>\n",
       "        <tr>\n",
       "            <td>Urano   </td> <td>19.22       </td> <td>19.22</td>\n",
       "        </tr>\n",
       "        <tr>\n",
       "            <td>Neptuno </td> <td>30.05       </td> <td>30.05</td>\n",
       "        </tr>\n",
       "    </tbody>\n",
       "</table>"
      ],
      "text/plain": [
       "Nombre   | DistanciaSol | Masa\n",
       "Mercurio | 0.39         | 0.39\n",
       "Venus    | 0.72         | 0.72\n",
       "Tierra   | 1            | 1\n",
       "Marte    | 1.52         | 1.52\n",
       "Júpiter  | 5.2          | 5.2\n",
       "Saturno  | 9.58         | 9.58\n",
       "Urano    | 19.22        | 19.22\n",
       "Neptuno  | 30.05        | 30.05"
      ]
     },
     "execution_count": 62,
     "metadata": {},
     "output_type": "execute_result"
    }
   ],
   "source": [
    "# Almacenado la tabla en una variable\n",
    "planetas=Table().with_columns([\"Nombre\", [\"Mercurio\", \"Venus\", \"Tierra\", \"Marte\", \"Júpiter\", \"Saturno\", \"Urano\", \"Neptuno\"],\n",
    "                      \"DistanciaSol\", [0.39, 0.72, 1.00, 1.52, 5.20, 9.58, 19.22, 30.05],\n",
    "                      \"Masa\", [0.39, 0.72, 1.00, 1.52, 5.20, 9.58, 19.22, 30.05],                     \n",
    "                     ])\n",
    "planetas"
   ]
  },
  {
   "cell_type": "markdown",
   "id": "d93bd4d9-dbb2-4049-aafc-8bb4d8c82643",
   "metadata": {},
   "source": [
    "## table.take\n",
    "## table.show"
   ]
  },
  {
   "cell_type": "code",
   "execution_count": 63,
   "id": "ae072647-cfbe-4cdc-943e-f877058e7922",
   "metadata": {},
   "outputs": [
    {
     "data": {
      "text/html": [
       "<table border=\"1\" class=\"dataframe\">\n",
       "    <thead>\n",
       "        <tr>\n",
       "            <th>Nombre</th> <th>DistanciaSol</th> <th>Masa</th>\n",
       "        </tr>\n",
       "    </thead>\n",
       "    <tbody>\n",
       "        <tr>\n",
       "            <td>Mercurio</td> <td>0.39        </td> <td>0.39</td>\n",
       "        </tr>\n",
       "    </tbody>\n",
       "</table>"
      ],
      "text/plain": [
       "Nombre   | DistanciaSol | Masa\n",
       "Mercurio | 0.39         | 0.39"
      ]
     },
     "execution_count": 63,
     "metadata": {},
     "output_type": "execute_result"
    }
   ],
   "source": [
    "planetas.take(0)"
   ]
  },
  {
   "cell_type": "code",
   "execution_count": 64,
   "id": "55487349-a5dd-42af-a516-c086ee3798d7",
   "metadata": {},
   "outputs": [
    {
     "data": {
      "text/html": [
       "<table border=\"1\" class=\"dataframe\">\n",
       "    <thead>\n",
       "        <tr>\n",
       "            <th>Nombre</th>\n",
       "        </tr>\n",
       "    </thead>\n",
       "    <tbody>\n",
       "        <tr>\n",
       "            <td>Mercurio</td>\n",
       "        </tr>\n",
       "        <tr>\n",
       "            <td>Venus   </td>\n",
       "        </tr>\n",
       "        <tr>\n",
       "            <td>Tierra  </td>\n",
       "        </tr>\n",
       "        <tr>\n",
       "            <td>Marte   </td>\n",
       "        </tr>\n",
       "        <tr>\n",
       "            <td>Júpiter </td>\n",
       "        </tr>\n",
       "        <tr>\n",
       "            <td>Saturno </td>\n",
       "        </tr>\n",
       "        <tr>\n",
       "            <td>Urano   </td>\n",
       "        </tr>\n",
       "        <tr>\n",
       "            <td>Neptuno </td>\n",
       "        </tr>\n",
       "    </tbody>\n",
       "</table>"
      ],
      "text/plain": [
       "Nombre\n",
       "Mercurio\n",
       "Venus\n",
       "Tierra\n",
       "Marte\n",
       "Júpiter\n",
       "Saturno\n",
       "Urano\n",
       "Neptuno"
      ]
     },
     "execution_count": 64,
     "metadata": {},
     "output_type": "execute_result"
    }
   ],
   "source": [
    "planetas.select(\"Nombre\")"
   ]
  },
  {
   "cell_type": "code",
   "execution_count": 65,
   "id": "bad5e8a9-0ac4-4609-838f-8419d2f1f866",
   "metadata": {},
   "outputs": [
    {
     "data": {
      "text/plain": [
       "('Nombre', 'DistanciaSol', 'Masa')"
      ]
     },
     "execution_count": 65,
     "metadata": {},
     "output_type": "execute_result"
    }
   ],
   "source": [
    "planetas.labels"
   ]
  },
  {
   "cell_type": "code",
   "execution_count": 66,
   "id": "7bda29d9-9f4f-410a-8f85-bf8fdf0a87f7",
   "metadata": {},
   "outputs": [
    {
     "data": {
      "text/plain": [
       "Rows(Nombre   | DistanciaSol | Masa\n",
       "Mercurio | 0.39         | 0.39\n",
       "Venus    | 0.72         | 0.72\n",
       "Tierra   | 1            | 1\n",
       "Marte    | 1.52         | 1.52\n",
       "Júpiter  | 5.2          | 5.2\n",
       "Saturno  | 9.58         | 9.58\n",
       "Urano    | 19.22        | 19.22\n",
       "Neptuno  | 30.05        | 30.05)"
      ]
     },
     "execution_count": 66,
     "metadata": {},
     "output_type": "execute_result"
    }
   ],
   "source": [
    "planetas.rows"
   ]
  },
  {
   "cell_type": "code",
   "execution_count": 67,
   "id": "897e402a-71e6-4796-8090-e82037cbe7d1",
   "metadata": {},
   "outputs": [
    {
     "data": {
      "text/plain": [
       "3"
      ]
     },
     "execution_count": 67,
     "metadata": {},
     "output_type": "execute_result"
    }
   ],
   "source": [
    "len(planetas)"
   ]
  },
  {
   "cell_type": "code",
   "execution_count": 68,
   "id": "9837444d-e8f0-4716-9ca5-e7c3a22b9645",
   "metadata": {},
   "outputs": [
    {
     "data": {
      "text/html": [
       "<table border=\"1\" class=\"dataframe\">\n",
       "    <thead>\n",
       "        <tr>\n",
       "            <th>Nombre</th> <th>DistanciaSol</th> <th>Masa</th>\n",
       "        </tr>\n",
       "    </thead>\n",
       "    <tbody>\n",
       "        <tr>\n",
       "            <td>Mercurio</td> <td>0.39        </td> <td>0.39 </td>\n",
       "        </tr>\n",
       "        <tr>\n",
       "            <td>Venus   </td> <td>0.72        </td> <td>0.72 </td>\n",
       "        </tr>\n",
       "        <tr>\n",
       "            <td>Tierra  </td> <td>1           </td> <td>1    </td>\n",
       "        </tr>\n",
       "        <tr>\n",
       "            <td>Marte   </td> <td>1.52        </td> <td>1.52 </td>\n",
       "        </tr>\n",
       "        <tr>\n",
       "            <td>Júpiter </td> <td>5.2         </td> <td>5.2  </td>\n",
       "        </tr>\n",
       "        <tr>\n",
       "            <td>Saturno </td> <td>9.58        </td> <td>9.58 </td>\n",
       "        </tr>\n",
       "        <tr>\n",
       "            <td>Urano   </td> <td>19.22       </td> <td>19.22</td>\n",
       "        </tr>\n",
       "        <tr>\n",
       "            <td>Neptuno </td> <td>30.05       </td> <td>30.05</td>\n",
       "        </tr>\n",
       "    </tbody>\n",
       "</table>"
      ],
      "text/plain": [
       "Nombre   | DistanciaSol | Masa\n",
       "Mercurio | 0.39         | 0.39\n",
       "Venus    | 0.72         | 0.72\n",
       "Tierra   | 1            | 1\n",
       "Marte    | 1.52         | 1.52\n",
       "Júpiter  | 5.2          | 5.2\n",
       "Saturno  | 9.58         | 9.58\n",
       "Urano    | 19.22        | 19.22\n",
       "Neptuno  | 30.05        | 30.05"
      ]
     },
     "execution_count": 68,
     "metadata": {},
     "output_type": "execute_result"
    }
   ],
   "source": [
    "planetas.sort(\"Masa\", descending=False)"
   ]
  },
  {
   "cell_type": "code",
   "execution_count": 69,
   "id": "2a043490-adf5-41fa-962a-333ca4e6eacb",
   "metadata": {},
   "outputs": [
    {
     "data": {
      "text/html": [
       "<table border=\"1\" class=\"dataframe\">\n",
       "    <thead>\n",
       "        <tr>\n",
       "            <th>Nombre</th> <th>DistanciaSol</th>\n",
       "        </tr>\n",
       "    </thead>\n",
       "    <tbody>\n",
       "        <tr>\n",
       "            <td>Mercurio</td> <td>0.39        </td>\n",
       "        </tr>\n",
       "        <tr>\n",
       "            <td>Venus   </td> <td>0.72        </td>\n",
       "        </tr>\n",
       "        <tr>\n",
       "            <td>Tierra  </td> <td>1           </td>\n",
       "        </tr>\n",
       "        <tr>\n",
       "            <td>Marte   </td> <td>1.52        </td>\n",
       "        </tr>\n",
       "        <tr>\n",
       "            <td>Júpiter </td> <td>5.2         </td>\n",
       "        </tr>\n",
       "        <tr>\n",
       "            <td>Saturno </td> <td>9.58        </td>\n",
       "        </tr>\n",
       "        <tr>\n",
       "            <td>Urano   </td> <td>19.22       </td>\n",
       "        </tr>\n",
       "        <tr>\n",
       "            <td>Neptuno </td> <td>30.05       </td>\n",
       "        </tr>\n",
       "    </tbody>\n",
       "</table>"
      ],
      "text/plain": [
       "Nombre   | DistanciaSol\n",
       "Mercurio | 0.39\n",
       "Venus    | 0.72\n",
       "Tierra   | 1\n",
       "Marte    | 1.52\n",
       "Júpiter  | 5.2\n",
       "Saturno  | 9.58\n",
       "Urano    | 19.22\n",
       "Neptuno  | 30.05"
      ]
     },
     "execution_count": 69,
     "metadata": {},
     "output_type": "execute_result"
    }
   ],
   "source": [
    "planetas.drop(\"Masa\")"
   ]
  },
  {
   "cell_type": "markdown",
   "id": "cd692b31-63c4-4fec-ae7c-fdfa1e705d79",
   "metadata": {},
   "source": [
    "# Lectura de tablas\n",
    "\n",
    "1. Muestra los 10 primeros valores de la tabla\n",
    "\n",
    "2. Selecciona las columnas \"Animal\" y \"Velocidad Promedio (km/h)\"\n",
    "\n",
    "3. Determina el animal que tiene mayor peso\n"
   ]
  },
  {
   "cell_type": "code",
   "execution_count": 74,
   "id": "82e9e666-b71c-49f9-817e-350ac3832fb4",
   "metadata": {},
   "outputs": [
    {
     "data": {
      "text/html": [
       "<table border=\"1\" class=\"dataframe\">\n",
       "    <thead>\n",
       "        <tr>\n",
       "            <th>Unnamed: 0</th> <th>Animal</th> <th>Altura (cm)</th> <th>Peso (kg)</th> <th>Velocidad Promedio (km/h)</th>\n",
       "        </tr>\n",
       "    </thead>\n",
       "    <tbody>\n",
       "        <tr>\n",
       "            <td>0         </td> <td>Cerdo Hormiguero          </td> <td>117.5      </td> <td>52.5     </td> <td>40                       </td>\n",
       "        </tr>\n",
       "        <tr>\n",
       "            <td>1         </td> <td>Lobo Terrícola            </td> <td>45         </td> <td>11       </td> <td>27                       </td>\n",
       "        </tr>\n",
       "        <tr>\n",
       "            <td>2         </td> <td>Elefante Africano         </td> <td>290        </td> <td>4350     </td> <td>25                       </td>\n",
       "        </tr>\n",
       "        <tr>\n",
       "            <td>3         </td> <td>León Africano             </td> <td>95         </td> <td>185      </td> <td>58                       </td>\n",
       "        </tr>\n",
       "        <tr>\n",
       "            <td>4         </td> <td>Perro Salvaje Africano    </td> <td>77.5       </td> <td>27       </td> <td>56                       </td>\n",
       "        </tr>\n",
       "        <tr>\n",
       "            <td>5         </td> <td>Íbice Alpino              </td> <td>84         </td> <td>69.5     </td> <td>60                       </td>\n",
       "        </tr>\n",
       "        <tr>\n",
       "            <td>6         </td> <td>Rana de la Selva Amazónica</td> <td>7.5        </td> <td>0        </td> <td>0.55                     </td>\n",
       "        </tr>\n",
       "        <tr>\n",
       "            <td>7         </td> <td>Bisonte Americano         </td> <td>169        </td> <td>nan      </td> <td>48                       </td>\n",
       "        </tr>\n",
       "        <tr>\n",
       "            <td>8         </td> <td>Oso Hormiguero            </td> <td>71.5       </td> <td>31.5     </td> <td>24                       </td>\n",
       "        </tr>\n",
       "        <tr>\n",
       "            <td>9         </td> <td>Caballo Árabe             </td> <td>150        </td> <td>690      </td> <td>65                       </td>\n",
       "        </tr>\n",
       "    </tbody>\n",
       "</table>\n",
       "<p>... (168 rows omitted)</p>"
      ],
      "text/plain": [
       "Unnamed: 0 | Animal                     | Altura (cm) | Peso (kg) | Velocidad Promedio (km/h)\n",
       "0          | Cerdo Hormiguero           | 117.5       | 52.5      | 40\n",
       "1          | Lobo Terrícola             | 45          | 11        | 27\n",
       "2          | Elefante Africano          | 290         | 4350      | 25\n",
       "3          | León Africano              | 95          | 185       | 58\n",
       "4          | Perro Salvaje Africano     | 77.5        | 27        | 56\n",
       "5          | Íbice Alpino               | 84          | 69.5      | 60\n",
       "6          | Rana de la Selva Amazónica | 7.5         | 0         | 0.55\n",
       "7          | Bisonte Americano          | 169         | nan       | 48\n",
       "8          | Oso Hormiguero             | 71.5        | 31.5      | 24\n",
       "9          | Caballo Árabe              | 150         | 690       | 65\n",
       "... (168 rows omitted)"
      ]
     },
     "execution_count": 74,
     "metadata": {},
     "output_type": "execute_result"
    }
   ],
   "source": [
    "animals = Table().read_table(\"Animales_.csv\")\n",
    "animals"
   ]
  },
  {
   "cell_type": "code",
   "execution_count": 75,
   "id": "6fc0e523-ea71-4ce6-872d-05a17db381d9",
   "metadata": {},
   "outputs": [
    {
     "data": {
      "text/html": [
       "<table border=\"1\" class=\"dataframe\">\n",
       "    <thead>\n",
       "        <tr>\n",
       "            <th>Animal</th> <th>Altura (cm)</th> <th>Peso (kg)</th> <th>Velocidad Promedio (km/h)</th>\n",
       "        </tr>\n",
       "    </thead>\n",
       "    <tbody>\n",
       "        <tr>\n",
       "            <td>Cerdo Hormiguero          </td> <td>117.5      </td> <td>52.5     </td> <td>40                       </td>\n",
       "        </tr>\n",
       "        <tr>\n",
       "            <td>Lobo Terrícola            </td> <td>45         </td> <td>11       </td> <td>27                       </td>\n",
       "        </tr>\n",
       "        <tr>\n",
       "            <td>Elefante Africano         </td> <td>290        </td> <td>4350     </td> <td>25                       </td>\n",
       "        </tr>\n",
       "        <tr>\n",
       "            <td>León Africano             </td> <td>95         </td> <td>185      </td> <td>58                       </td>\n",
       "        </tr>\n",
       "        <tr>\n",
       "            <td>Perro Salvaje Africano    </td> <td>77.5       </td> <td>27       </td> <td>56                       </td>\n",
       "        </tr>\n",
       "        <tr>\n",
       "            <td>Íbice Alpino              </td> <td>84         </td> <td>69.5     </td> <td>60                       </td>\n",
       "        </tr>\n",
       "        <tr>\n",
       "            <td>Rana de la Selva Amazónica</td> <td>7.5        </td> <td>0        </td> <td>0.55                     </td>\n",
       "        </tr>\n",
       "        <tr>\n",
       "            <td>Bisonte Americano         </td> <td>169        </td> <td>nan      </td> <td>48                       </td>\n",
       "        </tr>\n",
       "        <tr>\n",
       "            <td>Oso Hormiguero            </td> <td>71.5       </td> <td>31.5     </td> <td>24                       </td>\n",
       "        </tr>\n",
       "        <tr>\n",
       "            <td>Caballo Árabe             </td> <td>150        </td> <td>690      </td> <td>65                       </td>\n",
       "        </tr>\n",
       "    </tbody>\n",
       "</table>\n",
       "<p>... (168 rows omitted)</p>"
      ],
      "text/plain": [
       "Animal                     | Altura (cm) | Peso (kg) | Velocidad Promedio (km/h)\n",
       "Cerdo Hormiguero           | 117.5       | 52.5      | 40\n",
       "Lobo Terrícola             | 45          | 11        | 27\n",
       "Elefante Africano          | 290         | 4350      | 25\n",
       "León Africano              | 95          | 185       | 58\n",
       "Perro Salvaje Africano     | 77.5        | 27        | 56\n",
       "Íbice Alpino               | 84          | 69.5      | 60\n",
       "Rana de la Selva Amazónica | 7.5         | 0         | 0.55\n",
       "Bisonte Americano          | 169         | nan       | 48\n",
       "Oso Hormiguero             | 71.5        | 31.5      | 24\n",
       "Caballo Árabe              | 150         | 690       | 65\n",
       "... (168 rows omitted)"
      ]
     },
     "execution_count": 75,
     "metadata": {},
     "output_type": "execute_result"
    }
   ],
   "source": [
    "animales = animals.drop(\"Unnamed: 0\")\n",
    "animales"
   ]
  },
  {
   "cell_type": "markdown",
   "id": "0fb23816-cf9a-4c7a-bd93-cd2b13816f32",
   "metadata": {},
   "source": [
    "# Operacion sobre tablas\n",
    "\n",
    "\n",
    "## Predicados\n",
    "\n",
    "| Predicado                     | Descripción                                                  |\n",
    "| ------------------------------| ------------------------------------------------------------ |\n",
    "| `are.equal_to(Z)`              | Igual a Z                                                    |\n",
    "| `are.above(x)`                 | Mayor que x                                                  |\n",
    "| `are.above_or_equal_to(x)`     | Mayor o igual a x                                            |\n",
    "| `are.below(x)`                 | Menor que x                                                  |\n",
    "| `are.below_or_equal_to(x)`     | Menor o igual a x                                            |\n",
    "| `are.between(x, y)`            | Mayor o igual a x y menor que y                              |\n",
    "| `are.strictly_between(x, y)`   | Mayor que x y menor que y                                    |\n",
    "| `are.between_or_equal_to(x, y)`| Mayor o igual a x y menor o igual a y                        |\n",
    "| `are.containing(S)`            | Contiene la cadena de texto S                                |\n",
    "\n",
    "## Predicados Negados\n",
    "\n",
    "Puedes especificar la negación de cualquiera de estas condiciones utilizando `.not_` antes del predicado:\n",
    "\n",
    "| Predicado Negado               | Descripción                                                  |\n",
    "| ------------------------------| ------------------------------------------------------------ |\n",
    "| `are.not_equal_to(Z)`          | No igual a Z                                                 |\n",
    "| `are.not_above(x)`             | No mayor que x                                               |\n"
   ]
  },
  {
   "cell_type": "code",
   "execution_count": 76,
   "id": "4b598d56-bdaa-48d7-9de8-0e5fe65d9581",
   "metadata": {},
   "outputs": [
    {
     "data": {
      "text/html": [
       "<table border=\"1\" class=\"dataframe\">\n",
       "    <thead>\n",
       "        <tr>\n",
       "            <th>Animal</th> <th>Altura (cm)</th> <th>Peso (kg)</th> <th>Velocidad Promedio (km/h)</th>\n",
       "        </tr>\n",
       "    </thead>\n",
       "    <tbody>\n",
       "        <tr>\n",
       "            <td>Cerdo Hormiguero            </td> <td>117.5      </td> <td>52.5     </td> <td>40                       </td>\n",
       "        </tr>\n",
       "        <tr>\n",
       "            <td>Elefante Africano           </td> <td>290        </td> <td>4350     </td> <td>25                       </td>\n",
       "        </tr>\n",
       "        <tr>\n",
       "            <td>Bisonte Americano           </td> <td>169        </td> <td>nan      </td> <td>48                       </td>\n",
       "        </tr>\n",
       "        <tr>\n",
       "            <td>Caballo Árabe               </td> <td>150        </td> <td>690      </td> <td>65                       </td>\n",
       "        </tr>\n",
       "        <tr>\n",
       "            <td>Arowana                     </td> <td>120        </td> <td>6        </td> <td>24                       </td>\n",
       "        </tr>\n",
       "        <tr>\n",
       "            <td>Elefante Asiático           </td> <td>250        </td> <td>3500     </td> <td>40                       </td>\n",
       "        </tr>\n",
       "        <tr>\n",
       "            <td>Delfín Moteado del Atlántico</td> <td>225        </td> <td>130      </td> <td>52                       </td>\n",
       "        </tr>\n",
       "        <tr>\n",
       "            <td>Foca de Pelo Australiana    </td> <td>136        </td> <td>29       </td> <td>32                       </td>\n",
       "        </tr>\n",
       "        <tr>\n",
       "            <td>Tiburón Peregrino           </td> <td>1100       </td> <td>550      </td> <td>21                       </td>\n",
       "        </tr>\n",
       "        <tr>\n",
       "            <td>Rinoceronte Negro           </td> <td>156        </td> <td>nan      </td> <td>56                       </td>\n",
       "        </tr>\n",
       "    </tbody>\n",
       "</table>\n",
       "<p>... (56 rows omitted)</p>"
      ],
      "text/plain": [
       "Animal                       | Altura (cm) | Peso (kg) | Velocidad Promedio (km/h)\n",
       "Cerdo Hormiguero             | 117.5       | 52.5      | 40\n",
       "Elefante Africano            | 290         | 4350      | 25\n",
       "Bisonte Americano            | 169         | nan       | 48\n",
       "Caballo Árabe                | 150         | 690       | 65\n",
       "Arowana                      | 120         | 6         | 24\n",
       "Elefante Asiático            | 250         | 3500      | 40\n",
       "Delfín Moteado del Atlántico | 225         | 130       | 52\n",
       "Foca de Pelo Australiana     | 136         | 29        | 32\n",
       "Tiburón Peregrino            | 1100        | 550       | 21\n",
       "Rinoceronte Negro            | 156         | nan       | 56\n",
       "... (56 rows omitted)"
      ]
     },
     "execution_count": 76,
     "metadata": {},
     "output_type": "execute_result"
    }
   ],
   "source": [
    "animales.where(\"Altura (cm)\", are.above(100))"
   ]
  },
  {
   "cell_type": "code",
   "execution_count": 78,
   "id": "6375de27-4a95-420d-95ee-1ea18ab9f5b5",
   "metadata": {},
   "outputs": [
    {
     "data": {
      "text/html": [
       "<table border=\"1\" class=\"dataframe\">\n",
       "    <thead>\n",
       "        <tr>\n",
       "            <th>Animal</th> <th>Altura (cm)</th> <th>Peso (kg)</th> <th>Velocidad Promedio (km/h)</th>\n",
       "        </tr>\n",
       "    </thead>\n",
       "    <tbody>\n",
       "        <tr>\n",
       "            <td>Bisonte Americano</td> <td>169        </td> <td>nan      </td> <td>48                       </td>\n",
       "        </tr>\n",
       "        <tr>\n",
       "            <td>Tapir de Baird   </td> <td>91.5       </td> <td>275      </td> <td>48                       </td>\n",
       "        </tr>\n",
       "        <tr>\n",
       "            <td>Oso Pardo        </td> <td>95         </td> <td>425      </td> <td>48                       </td>\n",
       "        </tr>\n",
       "        <tr>\n",
       "            <td>Zorro Rojo       </td> <td>42.5       </td> <td>5        </td> <td>48                       </td>\n",
       "        </tr>\n",
       "        <tr>\n",
       "            <td>Tapir            </td> <td>95         </td> <td>275      </td> <td>48                       </td>\n",
       "        </tr>\n",
       "    </tbody>\n",
       "</table>"
      ],
      "text/plain": [
       "Animal            | Altura (cm) | Peso (kg) | Velocidad Promedio (km/h)\n",
       "Bisonte Americano | 169         | nan       | 48\n",
       "Tapir de Baird    | 91.5        | 275       | 48\n",
       "Oso Pardo         | 95          | 425       | 48\n",
       "Zorro Rojo        | 42.5        | 5         | 48\n",
       "Tapir             | 95          | 275       | 48"
      ]
     },
     "execution_count": 78,
     "metadata": {},
     "output_type": "execute_result"
    }
   ],
   "source": [
    "animales.where('Velocidad Promedio (km/h)', are.equal_to(48))"
   ]
  },
  {
   "cell_type": "code",
   "execution_count": 79,
   "id": "90deb53d-35ee-4611-8cb2-3687679305b4",
   "metadata": {},
   "outputs": [
    {
     "data": {
      "text/html": [
       "<table border=\"1\" class=\"dataframe\">\n",
       "    <thead>\n",
       "        <tr>\n",
       "            <th>Animal</th> <th>Altura (cm)</th> <th>Peso (kg)</th> <th>Velocidad Promedio (km/h)</th>\n",
       "        </tr>\n",
       "    </thead>\n",
       "    <tbody>\n",
       "        <tr>\n",
       "            <td>Cerdo Hormiguero     </td> <td>117.5      </td> <td>52.5     </td> <td>40                       </td>\n",
       "        </tr>\n",
       "        <tr>\n",
       "            <td>Elefante Asiático    </td> <td>250        </td> <td>3500     </td> <td>40                       </td>\n",
       "        </tr>\n",
       "        <tr>\n",
       "            <td>Frailecillo Atlántico</td> <td>27.5       </td> <td>560      </td> <td>40                       </td>\n",
       "        </tr>\n",
       "        <tr>\n",
       "            <td>Zorro de Bengala     </td> <td>37.5       </td> <td>3.25     </td> <td>40                       </td>\n",
       "        </tr>\n",
       "        <tr>\n",
       "            <td>Ballena Azul         </td> <td>33         </td> <td>200      </td> <td>40                       </td>\n",
       "        </tr>\n",
       "        <tr>\n",
       "            <td>Chimpancé            </td> <td>160        </td> <td>48       </td> <td>40                       </td>\n",
       "        </tr>\n",
       "        <tr>\n",
       "            <td>Gorila del Este      </td> <td>164        </td> <td>138.5    </td> <td>40                       </td>\n",
       "        </tr>\n",
       "        <tr>\n",
       "            <td>Camarón Mantis       </td> <td>30         </td> <td>2        </td> <td>40                       </td>\n",
       "        </tr>\n",
       "        <tr>\n",
       "            <td>Gorila de Montaña    </td> <td>160        </td> <td>135      </td> <td>40                       </td>\n",
       "        </tr>\n",
       "        <tr>\n",
       "            <td>Oso Polar            </td> <td>160        </td> <td>700      </td> <td>40                       </td>\n",
       "        </tr>\n",
       "    </tbody>\n",
       "</table>\n",
       "<p>... (5 rows omitted)</p>"
      ],
      "text/plain": [
       "Animal                | Altura (cm) | Peso (kg) | Velocidad Promedio (km/h)\n",
       "Cerdo Hormiguero      | 117.5       | 52.5      | 40\n",
       "Elefante Asiático     | 250         | 3500      | 40\n",
       "Frailecillo Atlántico | 27.5        | 560       | 40\n",
       "Zorro de Bengala      | 37.5        | 3.25      | 40\n",
       "Ballena Azul          | 33          | 200       | 40\n",
       "Chimpancé             | 160         | 48        | 40\n",
       "Gorila del Este       | 164         | 138.5     | 40\n",
       "Camarón Mantis        | 30          | 2         | 40\n",
       "Gorila de Montaña     | 160         | 135       | 40\n",
       "Oso Polar             | 160         | 700       | 40\n",
       "... (5 rows omitted)"
      ]
     },
     "execution_count": 79,
     "metadata": {},
     "output_type": "execute_result"
    }
   ],
   "source": [
    "animales.where('Velocidad Promedio (km/h)', are.between(40,40))"
   ]
  },
  {
   "cell_type": "code",
   "execution_count": 80,
   "id": "6320b07b-37b2-41e5-a816-1d7effc90598",
   "metadata": {},
   "outputs": [
    {
     "data": {
      "text/html": [
       "<table border=\"1\" class=\"dataframe\">\n",
       "    <thead>\n",
       "        <tr>\n",
       "            <th>Animal</th> <th>Altura (cm)</th> <th>Peso (kg)</th> <th>Velocidad Promedio (km/h)</th>\n",
       "        </tr>\n",
       "    </thead>\n",
       "    <tbody>\n",
       "        <tr>\n",
       "            <td>Tiburón Peregrino          </td> <td>1100       </td> <td>550      </td> <td>21                       </td>\n",
       "        </tr>\n",
       "        <tr>\n",
       "            <td>Tiburón Duende             </td> <td>320        </td> <td>210      </td> <td>2.3                      </td>\n",
       "        </tr>\n",
       "        <tr>\n",
       "            <td>Tiburón Blanco             </td> <td>610        </td> <td>2268     </td> <td>56                       </td>\n",
       "        </tr>\n",
       "        <tr>\n",
       "            <td>Tiburón Blanco             </td> <td>670        </td> <td>2268     </td> <td>56                       </td>\n",
       "        </tr>\n",
       "        <tr>\n",
       "            <td>Tiburón Mako de Aleta Corta</td> <td>394        </td> <td>800      </td> <td>45                       </td>\n",
       "        </tr>\n",
       "        <tr>\n",
       "            <td>Tiburón Ballena            </td> <td>1800       </td> <td>1500     </td> <td>70                       </td>\n",
       "        </tr>\n",
       "        <tr>\n",
       "            <td>Tiburón Cebra              </td> <td>330        </td> <td>32       </td> <td>20                       </td>\n",
       "        </tr>\n",
       "    </tbody>\n",
       "</table>"
      ],
      "text/plain": [
       "Animal                      | Altura (cm) | Peso (kg) | Velocidad Promedio (km/h)\n",
       "Tiburón Peregrino           | 1100        | 550       | 21\n",
       "Tiburón Duende              | 320         | 210       | 2.3\n",
       "Tiburón Blanco              | 610         | 2268      | 56\n",
       "Tiburón Blanco              | 670         | 2268      | 56\n",
       "Tiburón Mako de Aleta Corta | 394         | 800       | 45\n",
       "Tiburón Ballena             | 1800        | 1500      | 70\n",
       "Tiburón Cebra               | 330         | 32        | 20"
      ]
     },
     "execution_count": 80,
     "metadata": {},
     "output_type": "execute_result"
    }
   ],
   "source": [
    "animales.where('Animal', are.containing('Tiburón'))"
   ]
  },
  {
   "cell_type": "code",
   "execution_count": 81,
   "id": "a6bf8100-9beb-4c5c-ae38-93ae23387b8d",
   "metadata": {},
   "outputs": [
    {
     "data": {
      "text/html": [
       "<table border=\"1\" class=\"dataframe\">\n",
       "    <thead>\n",
       "        <tr>\n",
       "            <th>Animal</th> <th>Altura (cm)</th> <th>Peso (kg)</th> <th>Velocidad Promedio (km/h)</th>\n",
       "        </tr>\n",
       "    </thead>\n",
       "    <tbody>\n",
       "        <tr>\n",
       "            <td>Águila Calva            </td> <td>86         </td> <td>4.5      </td> <td>120                      </td>\n",
       "        </tr>\n",
       "        <tr>\n",
       "            <td>Guepardo                </td> <td>80         </td> <td>46       </td> <td>112                      </td>\n",
       "        </tr>\n",
       "        <tr>\n",
       "            <td>Berrendo                </td> <td>92.5       </td> <td>55       </td> <td>88.5                     </td>\n",
       "        </tr>\n",
       "        <tr>\n",
       "            <td>Búho Nival              </td> <td>61.5       </td> <td>2.45     </td> <td>80                       </td>\n",
       "        </tr>\n",
       "        <tr>\n",
       "            <td>Lince Ibérico           </td> <td>65         </td> <td>11.5     </td> <td>75                       </td>\n",
       "        </tr>\n",
       "        <tr>\n",
       "            <td>Camarón Mantis Pavo Real</td> <td>18         </td> <td>0        </td> <td>72                       </td>\n",
       "        </tr>\n",
       "        <tr>\n",
       "            <td>Tiburón Ballena         </td> <td>1800       </td> <td>1500     </td> <td>70                       </td>\n",
       "        </tr>\n",
       "        <tr>\n",
       "            <td>Caballo Árabe           </td> <td>150        </td> <td>690      </td> <td>65                       </td>\n",
       "        </tr>\n",
       "        <tr>\n",
       "            <td>Tigre de Bengala        </td> <td>100        </td> <td>240      </td> <td>65                       </td>\n",
       "        </tr>\n",
       "        <tr>\n",
       "            <td>Perro Bóxer             </td> <td>58         </td> <td>28.5     </td> <td>64                       </td>\n",
       "        </tr>\n",
       "    </tbody>\n",
       "</table>\n",
       "<p>... (168 rows omitted)</p>"
      ],
      "text/plain": [
       "Animal                   | Altura (cm) | Peso (kg) | Velocidad Promedio (km/h)\n",
       "Águila Calva             | 86          | 4.5       | 120\n",
       "Guepardo                 | 80          | 46        | 112\n",
       "Berrendo                 | 92.5        | 55        | 88.5\n",
       "Búho Nival               | 61.5        | 2.45      | 80\n",
       "Lince Ibérico            | 65          | 11.5      | 75\n",
       "Camarón Mantis Pavo Real | 18          | 0         | 72\n",
       "Tiburón Ballena          | 1800        | 1500      | 70\n",
       "Caballo Árabe            | 150         | 690       | 65\n",
       "Tigre de Bengala         | 100         | 240       | 65\n",
       "Perro Bóxer              | 58          | 28.5      | 64\n",
       "... (168 rows omitted)"
      ]
     },
     "execution_count": 81,
     "metadata": {},
     "output_type": "execute_result"
    }
   ],
   "source": [
    "animales.sort(\"Velocidad Promedio (km/h)\", descending = True)"
   ]
  },
  {
   "cell_type": "code",
   "execution_count": 88,
   "id": "69fa7209-91d0-4f55-b880-957b9e5c70e7",
   "metadata": {},
   "outputs": [
    {
     "data": {
      "text/html": [
       "<table border=\"1\" class=\"dataframe\">\n",
       "    <thead>\n",
       "        <tr>\n",
       "            <th>Animal</th>\n",
       "        </tr>\n",
       "    </thead>\n",
       "    <tbody>\n",
       "        <tr>\n",
       "            <td>Cerdo Hormiguero          </td>\n",
       "        </tr>\n",
       "        <tr>\n",
       "            <td>Lobo Terrícola            </td>\n",
       "        </tr>\n",
       "        <tr>\n",
       "            <td>Elefante Africano         </td>\n",
       "        </tr>\n",
       "        <tr>\n",
       "            <td>León Africano             </td>\n",
       "        </tr>\n",
       "        <tr>\n",
       "            <td>Perro Salvaje Africano    </td>\n",
       "        </tr>\n",
       "        <tr>\n",
       "            <td>Íbice Alpino              </td>\n",
       "        </tr>\n",
       "        <tr>\n",
       "            <td>Rana de la Selva Amazónica</td>\n",
       "        </tr>\n",
       "        <tr>\n",
       "            <td>Bisonte Americano         </td>\n",
       "        </tr>\n",
       "        <tr>\n",
       "            <td>Oso Hormiguero            </td>\n",
       "        </tr>\n",
       "        <tr>\n",
       "            <td>Caballo Árabe             </td>\n",
       "        </tr>\n",
       "    </tbody>\n",
       "</table>\n",
       "<p>... (168 rows omitted)</p>"
      ],
      "text/plain": [
       "Animal\n",
       "Cerdo Hormiguero\n",
       "Lobo Terrícola\n",
       "Elefante Africano\n",
       "León Africano\n",
       "Perro Salvaje Africano\n",
       "Íbice Alpino\n",
       "Rana de la Selva Amazónica\n",
       "Bisonte Americano\n",
       "Oso Hormiguero\n",
       "Caballo Árabe\n",
       "... (168 rows omitted)"
      ]
     },
     "execution_count": 88,
     "metadata": {},
     "output_type": "execute_result"
    }
   ],
   "source": [
    "animales.select(\"Animal\")"
   ]
  },
  {
   "cell_type": "code",
   "execution_count": 89,
   "id": "fbb97e85-11fa-4d4a-8a86-9dab60117e9e",
   "metadata": {},
   "outputs": [
    {
     "data": {
      "text/plain": [
       "array(['Cerdo Hormiguero', 'Lobo Terrícola', 'Elefante Africano',\n",
       "       'León Africano', 'Perro Salvaje Africano', 'Íbice Alpino',\n",
       "       'Rana de la Selva Amazónica', 'Bisonte Americano', 'Oso Hormiguero',\n",
       "       'Caballo Árabe', 'Órix Árabe', 'Zorro Ártico', 'Arowana',\n",
       "       'Elefante Asiático', 'Frailecillo Atlántico',\n",
       "       'Delfín Moteado del Atlántico', 'Foca de Pelo Australiana',\n",
       "       'Ajolote', 'Aye-Aye', 'Tapir de Baird', 'Águila Calva',\n",
       "       'Civeta de Palma Banded', 'Macaco de Berbería', 'Tiburón Peregrino',\n",
       "       'Dragón Barbudo', 'Zorro de Bengala', 'Tigre de Bengala',\n",
       "       'Rinoceronte Negro', 'Arrendajo Azul', 'Ballena Azul',\n",
       "       'Piquero de Patas Azules', 'Bonobo', 'Orangután de Borneo',\n",
       "       'Delfín Nariz de Botella', 'Perro Bóxer', 'Oso Pardo',\n",
       "       'Pitón Birmana', 'Capibara', 'Guepardo', 'Chimpancé', 'Pez Payaso',\n",
       "       'Celacanto', 'Delfín Común', 'Sifaca de Coquerel', 'Perro Dálmata',\n",
       "       'Cuón', 'Dingo', 'Dugongo', 'Gorila del Este', 'Equidna',\n",
       "       'Pingüino Emperador', 'Tití Emperador', 'Erizo Europeo',\n",
       "       'Zorro Fennec', 'Salamandra Común', 'Zorro Volador', 'Fosa',\n",
       "       'Lagarto con Volante', 'GalÃ¡pagos Penguin',\n",
       "       'Pingüino de Galápagos', 'Tortuga de Galápagos', 'Gaur', 'Gerenuc',\n",
       "       'Gavial', 'Pulpo Gigante del Pacífico', 'Panda Gigante',\n",
       "       'Monstruo de Gila', 'Rana de Cristal', 'Tiburón Duende',\n",
       "       'Tití León Dorado', 'Rana Venenosa Dorada', 'Tiburón Blanco',\n",
       "       'Tiburón Blanco', 'Tortuga Marina Verde', 'Tortuga Marina Verde',\n",
       "       'Cebra de Grevy', 'Pez Bruja', 'Foca Arpa', 'Águila Arpía',\n",
       "       'Hipopótamo', 'Cangrejo Herradura', 'Colibrí', 'Ballena Jorobada',\n",
       "       'Lince Ibérico', 'Indri', 'Avispón Gigante Japonés',\n",
       "       'Macaco Japonés', 'Kakapo', 'Rata Canguro', 'Cobra Real', 'Kiwi',\n",
       "       'Dragón de Komodo', 'Geco de Cola de Hoja', 'Lémur', 'Lémur',\n",
       "       'Macaco Cola de León', 'Ave Lira', 'Manatí', 'Mandril',\n",
       "       'Lobo de Crin', 'Camarón Mantis', 'Markhor', 'Suricata',\n",
       "       'Gorila de Montaña', 'Rata Topo Desnuda', 'Narval', 'Numbat',\n",
       "       'Okapi', 'Okapi', 'Orangután', 'Pangolín', 'Mara Patagónica',\n",
       "       'Camarón Mantis Pavo Real', 'Armadillo Hada Rosa', 'Ornitorrinco',\n",
       "       'Oso Polar', 'Potoo', 'Mantis Religiosa', 'Mono Narigudo',\n",
       "       'Berrendo', 'Pez Globo', 'Quokka', 'Zorro Rojo', 'Canguro Rojo',\n",
       "       'Panda Rojo', 'Rottweiler', 'Saola', 'Ave Secretaria', 'Serval',\n",
       "       'Picozapato', 'Tiburón Mako de Aleta Corta', 'Husky Siberiano',\n",
       "       'Perezoso', 'Leopardo de las Nieves', 'Búho Nival',\n",
       "       'Oso de Anteojos', 'Cachalote', 'Mono Araña', 'Hiena Manchada',\n",
       "       'Mono Ardilla', 'Topo de Nariz Estrellada', 'Orangután de Sumatra',\n",
       "       'Rinoceronte de Sumatra', 'Sumatran Rhinoceros', 'Sumatran Tiger',\n",
       "       'Oso Malayo', 'Tapir', 'Tarsero', 'Diablo de Tasmania',\n",
       "       'Tasmanian Tiger', 'Diablo Espinoso', 'Perezoso de Tres Dedos',\n",
       "       'Mastín Tibetano', 'Tigre', 'Titanoboa', 'Tucán Toco',\n",
       "       'Canguro Arborícola', 'Tuatara', 'Tufted Puffin', 'Uakari',\n",
       "       'Murciélago Vampiro', 'Morsa', 'Jabalí Verrugoso', 'Búfalo de Agua',\n",
       "       'Gorila Occidental', 'Western Lowland Gorilla', 'Tiburón Ballena',\n",
       "       'Rinoceronte Blanco', 'Tigre Blanco', 'Jabalí', 'Ñu', 'Lobo',\n",
       "       'Glotón', 'Wombat', 'Yak', 'Pingüino de Ojos Amarillos', 'Cebra',\n",
       "       'Tiburón Cebra'],\n",
       "      dtype='<U28')"
      ]
     },
     "execution_count": 89,
     "metadata": {},
     "output_type": "execute_result"
    }
   ],
   "source": [
    "animales.column(\"Animal\")"
   ]
  },
  {
   "cell_type": "markdown",
   "id": "4ca95ca3-268d-40a2-a8c9-d6861556c5e0",
   "metadata": {},
   "source": [
    "Tarea de calse : Encontrar los osos cuya peso sea mayor a 100Kg"
   ]
  },
  {
   "cell_type": "markdown",
   "id": "358bceda-5b14-455a-b2fa-fa916ba221ef",
   "metadata": {},
   "source": [
    "# Más de tablas\n",
    "\n",
    "¿Cuál es la diferencia entre `select` y `column`, como nos podemos dar cuenta del tipo dato con lo que debemos trabajar?\n",
    "\n",
    "Miremos la siguiente tabla analizando el número de atómico de algunos elementos químicos \n",
    "\n",
    "`El número atómico` es la cantidad de protones que se encuentran en el núcleo de un átomo de un elemento químico. \n",
    "\n",
    "\n",
    "```python\n",
    "elementos = [\"Hidrógeno\", \"Helio\", \"Litio\", \"Berilio\", \"Boro\", \"Carbono\", \"Nitrógeno\", \"Oxígeno\", \"Flúor\", \"Neón\"]\n",
    "numeros_atomicos = [1, 2, 3, 4, 5, 6, 7, 8, 9, 10]\n",
    "\n",
    "\n",
    "tabla_elementos = pd.DataFrame({\n",
    "    \"Elemento\": elementos,\n",
    "    \"Número Atómico\": numeros_atomicos\n",
    "})\n",
    "```\n"
   ]
  },
  {
   "cell_type": "code",
   "execution_count": null,
   "id": "977a4563-2ac4-41af-b646-c42dc55341db",
   "metadata": {},
   "outputs": [],
   "source": []
  }
 ],
 "metadata": {
  "kernelspec": {
   "display_name": "Python 3 (ipykernel)",
   "language": "python",
   "name": "python3"
  },
  "language_info": {
   "codemirror_mode": {
    "name": "ipython",
    "version": 3
   },
   "file_extension": ".py",
   "mimetype": "text/x-python",
   "name": "python",
   "nbconvert_exporter": "python",
   "pygments_lexer": "ipython3",
   "version": "3.10.14"
  }
 },
 "nbformat": 4,
 "nbformat_minor": 5
}
