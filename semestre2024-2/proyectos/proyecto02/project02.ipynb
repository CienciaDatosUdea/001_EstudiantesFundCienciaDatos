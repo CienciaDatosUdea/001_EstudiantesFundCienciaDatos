{
 "cells": [
  {
   "cell_type": "code",
   "execution_count": null,
   "id": "8eb5253a",
   "metadata": {
    "deletable": false,
    "editable": false
   },
   "outputs": [],
   "source": [
    "# Initialize Otter\n",
    "import otter\n",
    "grader = otter.Notebook(\"project02.ipynb\")"
   ]
  },
  {
   "cell_type": "markdown",
   "id": "22f70336",
   "metadata": {
    "deletable": true,
    "editable": true
   },
   "source": [
    "<p><img alt=\"Colaborat\" style=\"height: 220px;\" src=\"https://github.com/CienciaDatosUdea/001_DataSetFundCienciaDatos/blob/main/semestre2024-2/lab/lab02/Escudo-UdeA.svg.png?raw=true\" align=\"left\" hspace=\"10px\" vspace=\"0px\"></p>\n",
    "\n",
    "\n",
    "# Fundamentos en ciencias de datos\n",
    "\n",
    "\n",
    "# Proyecto 2: Cambio Climático - Temperaturas y Precipitación\n",
    "\n",
    "¡En este proyecto, investigarás datos sobre el cambio climático, o los cambios a largo plazo en las temperaturas y los patrones climáticos!\n",
    "\n",
    "### Logística\n",
    "\n",
    "**Fecha límite.** Este proyecto se debe entregar  el miércoles 26 antes de las **11:00pm**. \n",
    "\n",
    "Puedes trabajar con otro compañero"
   ]
  },
  {
   "cell_type": "markdown",
   "id": "0bbe6e8b",
   "metadata": {
    "deletable": true,
    "editable": true
   },
   "source": [
    "Para comenzar, carga las bibliotecas `datascience`, `numpy` y `matplotlib`. Asegúrate también de ejecutar la primera celda de este cuaderno para cargar `otter`. Estaremos trabajando con varios conjuntos de datos: `city_info.csv`, que contiene información sobre diferentes ciudades; `phoenix.csv`, que presenta datos climáticos como temperatura máxima y mínima, así como precipitación; y `southwest.csv`, que incluye la precipitación total por año en varias ciudades. "
   ]
  },
  {
   "cell_type": "code",
   "execution_count": null,
   "id": "11e13478",
   "metadata": {
    "deletable": true,
    "editable": true
   },
   "outputs": [],
   "source": [
    "# Run this cell to set up the notebook, but please don't change it.\n",
    "from datascience import *\n",
    "import numpy as np\n",
    "import datetime\n",
    "%matplotlib inline\n",
    "import matplotlib.pyplot as plt\n",
    "plt.style.use('fivethirtyeight')\n",
    "np.set_printoptions(legacy='1.13')\n",
    "\n",
    "import warnings\n",
    "warnings.simplefilter('ignore')"
   ]
  },
  {
   "cell_type": "markdown",
   "id": "0f298133",
   "metadata": {
    "deletable": true,
    "editable": true
   },
   "source": [
    "## Parte 1: Temperaturas\n"
   ]
  },
  {
   "cell_type": "markdown",
   "id": "dfcbd8e8",
   "metadata": {
    "deletable": true,
    "editable": true
   },
   "source": [
    "En el siguiente análisis, investigaremos uno de los problemas más destacados del siglo XXI: **el cambio climático**. Aunque los detalles científicos del clima están fuera del alcance de este curso, podemos comenzar a aprender sobre el cambio climático analizando los registros públicos de temperatura y precipitación en diferentes ciudades a lo largo del tiempo.\n",
    "\n",
    "Analizaremos una colección de mediciones históricas diarias de temperatura y precipitación de estaciones meteorológicas en 210 ciudades de los EE.UU. El conjunto de datos fue compilado por Yuchuan Lai y David Dzombak [1]. Una descripción de los datos de los autores originales y los datos en sí están disponibles [aquí](https://kilthub.cmu.edu/articles/dataset/Compiled_daily_temperature_and_precipitation_data_for_the_U_S_cities/7890488).\n",
    "\n",
    "[1] Lai, Yuchuan; Dzombak, David (2019): Conjunto de datos históricos diarios de temperatura y precipitación para 210 ciudades de EE.UU. Universidad Carnegie Mellon. Conjunto de Datos."
   ]
  },
  {
   "cell_type": "markdown",
   "id": "83adc7fd",
   "metadata": {
    "deletable": true,
    "editable": true,
    "tags": []
   },
   "source": [
    "### Parte 1, Sección 1: Ciudades\n"
   ]
  },
  {
   "cell_type": "markdown",
   "id": "0ba9b2b7",
   "metadata": {
    "deletable": true,
    "editable": true
   },
   "source": [
    "Ejecuta la siguiente celda para cargar la información sobre las `cities` y mostrar una vista previa de las primeras filas."
   ]
  },
  {
   "cell_type": "code",
   "execution_count": null,
   "id": "749f3832",
   "metadata": {
    "deletable": true,
    "editable": true
   },
   "outputs": [],
   "source": [
    "cities = Table.read_table('city_info.csv', index_col=0)\n",
    "cities.show(3)"
   ]
  },
  {
   "cell_type": "markdown",
   "id": "f7ce0ade",
   "metadata": {
    "deletable": true,
    "editable": true
   },
   "source": [
    "La tabla `cities` tiene una fila por estación meteorológica y las siguientes columnas:\n",
    "\n",
    "1. `\"Name\"`: El nombre de la ciudad de EE.UU.\n",
    "2. `\"ID\"`: El identificador único para la ciudad de EE.UU.\n",
    "3. `\"Lat\"`: La latitud de la ciudad de EE.UU. (medida en grados de latitud)\n",
    "4. `\"Lon\"`: La longitud de la ciudad de EE.UU. (medida en grados de longitud)\n",
    "5. `\"Stn.Name\"`: El nombre de la estación meteorológica donde se recopilaron los datos\n",
    "6. `\"Stn.stDate\"`: Una cadena que representa la fecha de la primera grabación en esa estación particular\n",
    "7. `\"Stn.edDate\"`: Una cadena que representa la fecha de la última grabación en esa estación particular\n",
    "\n",
    "Los datos enumeran las estaciones meteorológicas en las cuales se recopilaron datos de temperatura y precipitación. Es importante notar que, aunque algunas ciudades tienen múltiples estaciones meteorológicas, solo una está recopilando datos para esa ciudad en un momento dado. Por lo tanto, podemos centrarnos solo en las ciudades en sí mismas."
   ]
  },
  {
   "cell_type": "markdown",
   "id": "0bd333c9",
   "metadata": {
    "deletable": true,
    "editable": true
   },
   "source": [
    "<!-- BEGIN QUESTION -->\n",
    "\n",
    "**Pregunta 1.1.1:** En la celda a continuación, realiza un diagrama de dispersión que represente la latitud y longitud de cada ciudad en la tabla `cities`, de manera que las ciudades del norte se ubiquen en la parte superior y las ciudades del oeste a la izquierda.\n",
    "\n",
    "*Nota*: ¡Está bien representar el mismo punto varias veces!\n",
    "\n",
    "*Sugerencia*: La latitud es el conjunto de líneas horizontales que mide distancias *al norte o sur* del ecuador. La longitud es el conjunto de líneas verticales que mide distancias *al este o al oeste* del meridiano de Greenwich."
   ]
  },
  {
   "cell_type": "code",
   "execution_count": null,
   "id": "ddf2d1c2",
   "metadata": {
    "deletable": true,
    "editable": true,
    "tags": []
   },
   "outputs": [],
   "source": [
    "# x = cities.select('Lat', 'Lon').column(0)\n",
    "# y = cities.select('Lat', 'Lon').column(1)\n",
    "# plt.scatter(y,x)"
   ]
  },
  {
   "cell_type": "markdown",
   "id": "3b13b0b3",
   "metadata": {
    "deletable": true,
    "editable": true
   },
   "source": [
    "Estas ciudades se encuentran dentro del continente de los Estados Unidos, por lo que la forma general del país debería ser visible en tu gráfico. La forma aparecerá distorsionada en comparación con la mayoría de los mapas por dos razones: el diagrama de dispersión es cuadrado, aunque Estados Unidos es más ancho que alto, y este diagrama de dispersión es una [proyección equirectangular](https://es.wikipedia.org/wiki/Proyecci%C3%B3n_equirectangular) de la Tierra esférica. Un mapa geográfico de los mismos datos utiliza la común [proyección Pseudo-Mercator](https://es.wikipedia.org/wiki/Proyecci%C3%B3n_Web_Mercator).\n",
    "\n",
    "> *Nota:* Si esta visualización no se carga en tu dispositivo, por favor, visualiza una versión en línea [aquí](https://github.jonathanferrari.com/static/city_map.html). \n",
    "\n"
   ]
  },
  {
   "cell_type": "code",
   "execution_count": null,
   "id": "eed684fd",
   "metadata": {
    "deletable": true,
    "editable": true
   },
   "outputs": [],
   "source": [
    "# Just run this cell\n",
    "Marker.map_table(cities.select('Lat', 'Lon', 'Name').relabeled('Name', 'labels'))"
   ]
  },
  {
   "cell_type": "markdown",
   "id": "2dd40151",
   "metadata": {
    "deletable": false,
    "editable": false
   },
   "source": [
    "**Pregunta 1.1.3:** Asigna el valor de `num_unique_cities` al número de ciudades únicas que aparecen en la tabla `cities`."
   ]
  },
  {
   "cell_type": "code",
   "execution_count": null,
   "id": "a663e9ca",
   "metadata": {
    "tags": []
   },
   "outputs": [],
   "source": [
    "num_unique_cites = ...\n",
    "\n",
    "# Do not change this line\n",
    "print(f\"There are {num_unique_cites} unique cities that appear within our dataset.\")\n"
   ]
  },
  {
   "cell_type": "code",
   "execution_count": null,
   "id": "265f06ec",
   "metadata": {
    "deletable": false,
    "editable": false
   },
   "outputs": [],
   "source": [
    "grader.check(\"q2\")"
   ]
  },
  {
   "cell_type": "markdown",
   "id": "1b122c8f",
   "metadata": {
    "deletable": true,
    "editable": true
   },
   "source": [
    "Para investigar más a fondo, será útil determinar en qué región de los Estados Unidos se encuentra cada ciudad: Noreste, Noroeste, Sureste o Suroeste. Para nuestros propósitos, utilizaremos los siguientes límites geográficos:\n",
    "\n",
    "<img src= \"usa_coordinates.png\" alt=\"Mapa de Coordenadas de EE.UU.\" width=\"600\"/>\n",
    "\n",
    "1. Una estación se encuentra en la región `\"Northeast\"` si su latitud es mayor o igual a 40 grados y su longitud es mayor o igual a -100 grados.\n",
    "2. Una estación se encuentra en la región `\"Northwest\"` si su latitud es mayor o igual a 40 grados y su longitud es menor de -100 grados.\n",
    "3. Una estación se encuentra en la región `\"Southeast\"` si su latitud es menor de 40 grados y su longitud es mayor o igual a -100 grados.\n",
    "4. Una estación se encuentra en la región `\"Southwest\"` si su latitud es menor de 40 grados y su longitud es menor de -100 grados."
   ]
  },
  {
   "cell_type": "markdown",
   "id": "7f2567c6",
   "metadata": {
    "deletable": false,
    "editable": false
   },
   "source": [
    "**Pregunta 1.1.4**: Define la función `coordinates_to_region` a continuación. Debe tomar dos argumentos, la latitud (`lat`) y la longitud (`lon`) de una ciudad, y devolver una cadena que represente la región en la que se encuentra."
   ]
  },
  {
   "cell_type": "code",
   "execution_count": null,
   "id": "9cb14f70",
   "metadata": {
    "tags": []
   },
   "outputs": [],
   "source": [
    "def coordinates_to_region(...):\n",
    "    ..."
   ]
  },
  {
   "cell_type": "code",
   "execution_count": null,
   "id": "6af38d10",
   "metadata": {
    "deletable": false,
    "editable": false
   },
   "outputs": [],
   "source": [
    "grader.check(\"q3\")"
   ]
  },
  {
   "cell_type": "markdown",
   "id": "0a1c325c",
   "metadata": {
    "deletable": false,
    "editable": false
   },
   "source": [
    "**Pregunta 1.1.5**: Agrega una nueva columna en `cities` llamada `Region` que contenga la región en la cual está ubicada la ciudad. Para obtener la máxima puntuación, debes utilizar la función `coordinates_to_region` que definiste anteriormente en lugar de volver a implementar su lógica. \n",
    "\n"
   ]
  },
  {
   "cell_type": "code",
   "execution_count": null,
   "id": "e2776f2d",
   "metadata": {
    "tags": []
   },
   "outputs": [],
   "source": [
    "regions_array = ...\n",
    "cities = ...\n",
    "cities.show(5)"
   ]
  },
  {
   "cell_type": "code",
   "execution_count": null,
   "id": "f7cdd327",
   "metadata": {
    "deletable": false,
    "editable": false
   },
   "outputs": [],
   "source": [
    "grader.check(\"q4\")"
   ]
  },
  {
   "cell_type": "markdown",
   "id": "2a3eac23",
   "metadata": {
    "deletable": true,
    "editable": true
   },
   "source": [
    "Para confirmar que has definido correctamente tu función `coordinates_to_region` y añadido exitosamente la columna `Region` a la tabla `cities`, ejecuta la siguiente celda. Cada región debería tener un color diferente en el resultado."
   ]
  },
  {
   "cell_type": "code",
   "execution_count": null,
   "id": "931059d6",
   "metadata": {
    "deletable": true,
    "editable": true
   },
   "outputs": [],
   "source": [
    "# Just run this cell\n",
    "cities.scatter(\"Lon\", \"Lat\", group=\"Region\")"
   ]
  },
  {
   "cell_type": "markdown",
   "id": "26d02cac",
   "metadata": {
    "deletable": false,
    "editable": false
   },
   "source": [
    "**Pregunta Desafío 1.1.6 <span style=\"color:#BC412B\">(OPCIONAL, no calificada)</span>**: Crea una nueva tabla llamada `cities_nearest`. Esta tabla debe contener las mismas columnas que la tabla `cities` y una columna adicional llamada `\"Nearest\"` que contenga el **nombre de la ciudad más cercana** que se encuentra en una región diferente a la ciudad descrita por la fila.\n",
    "\n",
    "Para aproximar la distancia entre dos ciudades, calcula la raíz cuadrada de la suma del cuadrado de la diferencia entre sus latitudes y el cuadrado de la diferencia entre sus longitudes. **No uses una declaración `for`; en su lugar, utiliza el método `apply` y la aritmética de arreglos.**\n",
    "\n",
    "*Consejo*: Hemos definido una función `distancia` para ti, que puede ser llamada con los números `lat0` y `lon0` y los arreglos `lat1` y `lon1`."
   ]
  },
  {
   "cell_type": "code",
   "execution_count": null,
   "id": "3aeb2c0a",
   "metadata": {
    "tags": []
   },
   "outputs": [],
   "source": [
    "\n",
    "...\n",
    "cities_nearest = ...\n",
    "#cities_nearest.show(5)"
   ]
  },
  {
   "cell_type": "code",
   "execution_count": null,
   "id": "ef59ae0c-e2f2-44a3-a466-0ea6328a3ddc",
   "metadata": {
    "tags": []
   },
   "outputs": [],
   "source": [
    "cities_nearest"
   ]
  },
  {
   "cell_type": "code",
   "execution_count": null,
   "id": "dd39ae2b",
   "metadata": {
    "deletable": false,
    "editable": false
   },
   "outputs": [],
   "source": [
    "grader.check(\"q5\")"
   ]
  },
  {
   "cell_type": "markdown",
   "id": "b96d64bd",
   "metadata": {
    "deletable": true,
    "editable": true
   },
   "source": [
    "### Parte 1, Sección 2: Bienvenidos a Phoenix, Arizona\n",
    "\n",
    "Phoenix es la capital del estado de Arizona y es conocida por su clima cálido y soleado. En esta sección, analizaremos el clima de Phoenix utilizando los datos de los archivos suministrados. Nos enfocaremos en las temperaturas máximas, mínimas y las precipitaciones diarias para comprender mejor las características climáticas de la ciudad a lo largo del tiempo. "
   ]
  },
  {
   "cell_type": "markdown",
   "id": "cf907824",
   "metadata": {
    "deletable": true,
    "editable": true
   },
   "source": [
    "Cada ciudad tiene un archivo CSV diferente lleno de mediciones diarias de temperatura y precipitación. El archivo para Phoenix, Arizona, se incluye en este proyecto como `phoenix.csv`. Los archivos para otras ciudades se pueden descargar [aquí](https://kilthub.cmu.edu/articles/dataset/Compiled_daily_temperature_and_precipitation_data_for_the_U_S_cities/7890488) emparejándolos con el ID de la ciudad en la tabla `ciudades`.\n",
    "\n",
    "Dado que Phoenix se encuentra en el borde superior del Desierto de Sonora, tiene temperaturas bastante impresionantes.\n",
    "\n",
    "Ejecuta la siguiente celda para cargar la tabla `phoenix`. Esta tabla tiene una fila por día y las siguientes columnas:\n",
    "\n",
    "1. `\"Date\"`: La fecha (una cadena de texto) que representa la fecha del registro en formato **YYYY-MM-DD**\n",
    "2. `\"tmax\"`: La temperatura máxima del día (°C)\n",
    "3. `\"tmin\"`: La temperatura mínima del día (°C)\n",
    "4. `\"prcp\"`: La precipitación registrada para el día (pulgadas)"
   ]
  },
  {
   "cell_type": "code",
   "execution_count": null,
   "id": "e1ff0556",
   "metadata": {
    "deletable": true,
    "editable": true
   },
   "outputs": [],
   "source": [
    "phoenix = Table.read_table(\"phoenix.csv\", index_col=0)\n",
    "phoenix = phoenix.with_columns(\n",
    "    \"tmax\", (phoenix.column('tmax') - 32) * (5/9),\n",
    "    \"tmin\", (phoenix.column('tmin') - 32) * (5/9)\n",
    ")\n",
    "# (Opcional) verificar los primeros registros transformados\n",
    "phoenix.show(5)"
   ]
  },
  {
   "cell_type": "markdown",
   "id": "21d9f255",
   "metadata": {
    "deletable": false,
    "editable": false
   },
   "source": [
    "### **Pregunta 1.2.1:**  \n",
    "Asigna a la variable `largest_2010_range_date` la fecha correspondiente al **mayor rango de temperatura** registrado en Phoenix, Arizona, en cualquier día comprendido entre el **1 de enero de 2010 y el 31 de diciembre de 2010**.  \n",
    "\n",
    "Para ello, construye una tabla llamada `phoenix_with_ranges_2010`, filtrando la tabla original de Phoenix para incluir únicamente los registros correspondientes a los días del año 2010. Además, agrega una columna adicional que indique el **rango de temperatura** de cada día, calculado como la diferencia entre la temperatura máxima y la mínima.  \n",
    "\n",
    "**Tu respuesta debe ser una cadena en formato `\"AAAA-MM-DD\"`** para la variable largest_2010_range_date . Puedes utilizar tantas líneas de código como sea necesario.  \n",
    "\n",
    "Sugerencia: \n",
    "- Para filtrar los valores de una columna que contengan cierto texto, utiliza el predicado `are.` correspondiente de la [Hoja de referencia de Python](https://www.data8.org/fa23/reference/#tablewhere-predicates).  \n",
    "\n",
    "- No es necesario reasignar la variable `phoenix`; todas las operaciones deben realizarse sobre la tabla `phoenix_with_ranges_2010`.  \n"
   ]
  },
  {
   "cell_type": "code",
   "execution_count": null,
   "id": "30b13b62",
   "metadata": {
    "tags": []
   },
   "outputs": [],
   "source": [
    "...\n",
    "phoenix_with_ranges_2010 = ...\n",
    "largest_2010_range_date = ...\n",
    "largest_2010_range_date\n"
   ]
  },
  {
   "cell_type": "code",
   "execution_count": null,
   "id": "36bd8c5a",
   "metadata": {
    "deletable": false,
    "editable": false
   },
   "outputs": [],
   "source": [
    "grader.check(\"q6\")"
   ]
  },
  {
   "cell_type": "markdown",
   "id": "d3ade7f4",
   "metadata": {
    "deletable": true,
    "editable": true
   },
   "source": [
    "Podemos verificar nuestra tabla `phoenix` para revisar las lecturas de temperatura en nuestra fecha de mayor rango en 2010, llamada `largest_2010_range_date`, y así determinar si ocurrió algo inusual. Ejecuta la celda a continuación para encontrar la fila de la tabla `phoenix` que corresponde a la fecha que identificamos anteriormente."
   ]
  },
  {
   "cell_type": "code",
   "execution_count": null,
   "id": "5cd44300",
   "metadata": {
    "deletable": true,
    "editable": true
   },
   "outputs": [],
   "source": [
    "# Just run this cell\n",
    "phoenix.where(\"Date\", largest_2010_range_date)"
   ]
  },
  {
   "cell_type": "markdown",
   "id": "81aa8c38",
   "metadata": {
    "deletable": true,
    "editable": true
   },
   "source": [
    "¡VAYA! ¡MIRA la temperatura máxima de ese día! Hace calor."
   ]
  },
  {
   "cell_type": "markdown",
   "id": "57e9adb1",
   "metadata": {
    "deletable": true,
    "editable": true
   },
   "source": [
    "La función `extract_year_from_date` toma una cadena de texto de fecha en el formato **AAAA-MM-DD** y devuelve un entero que representa el **año**. La función `extract_month_from_date` toma una cadena de texto de fecha y devuelve una cadena que describe el mes. Ejecuta esta celda, no necesitas entender cómo funciona este código ni editarlo."
   ]
  },
  {
   "cell_type": "code",
   "execution_count": null,
   "id": "a5dde21c",
   "metadata": {
    "deletable": true,
    "editable": true
   },
   "outputs": [],
   "source": [
    "# Just run this cell\n",
    "import calendar\n",
    "\n",
    "def extract_year_from_date(date):\n",
    "    \"\"\"Returns an integer corresponding to the year of the input string's date.\"\"\"\n",
    "    return int(date[:4])\n",
    "\n",
    "def extract_month_from_date(date):\n",
    "    \"Return an abbreviation of the name of the month for a string's date.\"\n",
    "    month = date[5:7]\n",
    "    return f'{month} ({calendar.month_abbr[int(date[5:7])]})'\n",
    "\n",
    "\n",
    "# Example\n",
    "print('2022-04-01 tiene el año', extract_year_from_date('2022-04-01'),\n",
    "      'y el mes', extract_month_from_date('2022-04-01'))"
   ]
  },
  {
   "cell_type": "markdown",
   "id": "4910a18c",
   "metadata": {
    "deletable": false,
    "editable": false
   },
   "source": [
    "**Pregunta 1.2.2:** Añade dos nuevas columnas llamadas `Year` y `Month` a la tabla `phoenix`. Estas columnas deben contener el año como un **número entero** y el mes como una **cadena de texto** (por ejemplo, `\"04 (Abr)\"`) para cada día, respectivamente.\n",
    "\n",
    "*Nota*: ¡Las funciones anteriores pueden ser de ayuda!"
   ]
  },
  {
   "cell_type": "code",
   "execution_count": null,
   "id": "dcf2d739",
   "metadata": {
    "tags": []
   },
   "outputs": [],
   "source": [
    "years_array = ...\n",
    "months_array = ...\n",
    "...\n",
    "phoenix.show(5)"
   ]
  },
  {
   "cell_type": "code",
   "execution_count": null,
   "id": "8878394d",
   "metadata": {
    "deletable": false,
    "editable": false
   },
   "outputs": [],
   "source": [
    "grader.check(\"q7\")"
   ]
  },
  {
   "cell_type": "markdown",
   "id": "6cfb8c5a",
   "metadata": {
    "deletable": false,
    "editable": false
   },
   "source": [
    "<!-- BEGIN QUESTION -->\n",
    "\n",
    "**Pregunta 1.2.3:** Usando la tabla `phoenix`, crea un gráfico de líneas superpuesto de la **temperatura máxima promedio** y la **temperatura mínima promedio** para cada año entre 1900 y 2020 (inclusive).\n",
    "\n"
   ]
  },
  {
   "cell_type": "code",
   "execution_count": null,
   "id": "cafb07f4",
   "metadata": {
    "tags": []
   },
   "outputs": [],
   "source": [
    "...\n",
    "...\n",
    "...\n",
    "...\n",
    "...\n",
    "plt.xlabel(\"Year\")\n",
    "plt.ylabel(\"T(C)\")\n"
   ]
  },
  {
   "cell_type": "markdown",
   "id": "1e4135ae",
   "metadata": {
    "deletable": false,
    "editable": false
   },
   "source": [
    "<!-- BEGIN QUESTION -->\n",
    "\n",
    "**Pregunta 1.2.4:** Aunque todavía es un tema de intenso debate, muchos científicos del clima coinciden en que los efectos del cambio climático comenzaron a hacerse evidentes a principios de la década de 1960, como resultado de los niveles elevados de emisiones de gases de efecto invernadero. ¿Cómo respalda el gráfico que generaste en la Pregunta 1.2.3 la afirmación de que el calentamiento global moderno comenzó a principios de la década de 1960?"
   ]
  },
  {
   "cell_type": "code",
   "execution_count": null,
   "id": "6f63aef1",
   "metadata": {
    "tags": []
   },
   "outputs": [],
   "source": []
  },
  {
   "cell_type": "markdown",
   "id": "e85f9a50-de61-40ac-b26e-96565bca75e1",
   "metadata": {},
   "source": [
    "Escribe tu respuesta en esta celda por favor...."
   ]
  },
  {
   "cell_type": "markdown",
   "id": "c593d46f-52a2-4bf3-9877-643161690228",
   "metadata": {},
   "source": [
    "Calcular un promedio de temperaturas a lo largo de un año completo puede ocultar algunos efectos del cambio climático. Por ejemplo, si los veranos se vuelven más calurosos pero los inviernos más fríos, el promedio anual podría no variar mucho. Vamos a investigar cómo han cambiado con el tiempo las temperaturas máximas promedio **mensuales** en Phoenix."
   ]
  },
  {
   "cell_type": "markdown",
   "id": "c884be15",
   "metadata": {
    "deletable": false,
    "editable": false
   },
   "source": [
    "**Pregunta 1.2.5:** Crea una tabla llamada `monthly_increases` con una fila por cada mes, y las siguientes cuatro columnas en orden: \n",
    "1. `\"Month\"`: El mes (como `\"02 (Feb)\"`)\n",
    "2. `\"Past\"`: La temperatura máxima promedio en ese mes desde 1900 hasta 1960 (incluidos)\n",
    "3. `\"Present\"`: La temperatura máxima promedio en ese mes desde 2019 hasta 2021 (incluidos)\n",
    "4. `\"Increase\"`: La diferencia entre las temperaturas máximas promedio del presente y el pasado en ese mes\n",
    "\n",
    "Primero, haz una copia de la tabla `phoenix` y añade una nueva columna que contenga el **período** correspondiente para cada fila. El período se refiere a si el año está en la categoría de `\"Past\"`, `\"Present\"` o `\"Other\"`. Puede ser útil utilizar la función de período para ver a qué años corresponde cada período. Luego, utiliza esta nueva tabla para construir `monthly_increases`. Siéntete libre de usar tantas líneas como necesites.\n",
    "\n",
    "*Pista*: ¿Qué método de la tabla podemos usar para obtener cada **valor único** como su propia columna?\n",
    "\n",
    "*Nota*: Por favor, **no** reasignes la variable `phoenix`."
   ]
  },
  {
   "cell_type": "code",
   "execution_count": null,
   "id": "8470fb81",
   "metadata": {
    "tags": []
   },
   "outputs": [],
   "source": [
    "def period(year):\n",
    "    \"Output if a year is in the Past, Present, or Other.\"\n",
    "    if 1900 <= year <= 1960:\n",
    "        return \"Past\"\n",
    "    elif 2019 <= year <= 2021:\n",
    "        return \"Present\"\n",
    "    else:\n",
    "        return \"Other\"\n",
    "...\n",
    "monthly_increases = ...\n",
    "monthly_increases.show()\n"
   ]
  },
  {
   "cell_type": "code",
   "execution_count": null,
   "id": "a04eaf74",
   "metadata": {
    "deletable": false,
    "editable": false
   },
   "outputs": [],
   "source": [
    "grader.check(\"q10\")"
   ]
  },
  {
   "cell_type": "markdown",
   "id": "e5e9cfb6",
   "metadata": {
    "deletable": true,
    "editable": true
   },
   "source": [
    "### Febrero en Phoenix\n",
    "\n"
   ]
  },
  {
   "cell_type": "markdown",
   "id": "bb9b3899",
   "metadata": {
    "deletable": true,
    "editable": true
   },
   "source": [
    "Los valores de la columna `\"Past\"` se promedian a lo largo de muchas décadas, por lo que son estimaciones fiables de las temperaturas máximas promedio en esos meses antes de los efectos del cambio climático moderno. Sin embargo, la columna `\"Present\"` se basa únicamente en observaciones de tres años. Febrero, el mes más corto, tiene la menor cantidad de observaciones totales: solo 85 días. Ejecuta la celda a continuación para ver esto."
   ]
  },
  {
   "cell_type": "code",
   "execution_count": null,
   "id": "ae52fa63",
   "metadata": {
    "deletable": true,
    "editable": true
   },
   "outputs": [],
   "source": [
    "# Just run this cell\n",
    "feb_present = phoenix.where('Year', are.between_or_equal_to(2019, 2021)).where('Month', '02 (Feb)')\n",
    "feb_present.num_rows"
   ]
  },
  {
   "cell_type": "markdown",
   "id": "bdf336ab",
   "metadata": {
    "deletable": true,
    "editable": true
   },
   "source": [
    "Mira nuevamente tu tabla `monthly_increases`. En comparación con los otros meses, el incremento para el mes de febrero es bastante pequeño; la diferencia de febrero es muy cercana a cero. Ejecuta la siguiente celda para imprimir la diferencia observada."
   ]
  },
  {
   "cell_type": "code",
   "execution_count": null,
   "id": "ccf4cbd8",
   "metadata": {
    "deletable": true,
    "editable": true
   },
   "outputs": [],
   "source": [
    "# Just run this cell\n",
    "print(f\"February Difference: {monthly_increases.row(1).item('Increase')}\")"
   ]
  },
  {
   "cell_type": "markdown",
   "id": "448a942a",
   "metadata": {
    "deletable": true,
    "editable": true
   },
   "source": [
    "Quizás esa pequeña diferencia se deba al azar. Para investigar esta idea, requiere un experimento mental.\n",
    "\n",
    "Podemos observar todas las temperaturas máximas de febrero desde 2019 hasta 2021 (el período actual), por lo que tenemos acceso a todo el censo; no hay muestreo aleatorio involucrado. Sin embargo, podemos imaginar que si pasan más años con el mismo clima actual, habría temperaturas máximas diferentes pero similares en futuros días de febrero. A partir de los datos que observamos, podemos intentar estimar la **temperatura máxima promedio de febrero** en esta colección imaginaria de todos los días futuros de febrero que ocurrirían en nuestro clima moderno, suponiendo que el clima no cambie más y pasen muchos años.\n",
    "\n",
    "También podemos imaginar que la temperatura máxima de cada día es como una **selección aleatoria de una distribución de temperaturas para ese mes**. Tratar las observaciones reales de eventos naturales como si cada una fuera *aleatoriamente* muestreada de alguna distribución desconocida es una suposición simplificada. Estas temperaturas no fueron realmente muestreadas al azar; en cambio, ocurrieron debido a las complejas interacciones del clima de la Tierra, pero tratarlas como si fueran aleatorias abstrae los detalles de este proceso natural y nos permite realizar inferencias estadísticas. Las conclusiones son solo tan válidas como las suposiciones en las que se basan, pero en este caso, pensar en las temperaturas diarias como muestras aleatorias de alguna distribución climática desconocida parece al menos plausible.\n",
    "\n",
    "Si asumimos que las **temperaturas reales fueron sacadas al azar de una gran población de posibles días de febrero** en nuestro clima moderno, entonces no solo podemos estimar el promedio poblacional de esta distribución, sino también cuantificar nuestra incertidumbre sobre esa estimación utilizando un intervalo de confianza.\n",
    "\n",
    "**Solo calcularemos el límite inferior de este intervalo de confianza.** Tenemos la intención de comparar nuestro intervalo de confianza con el promedio histórico (es decir, el valor `\"Past\"` en nuestra tabla `monthly_increases`). En todos los meses, el promedio de la muestra que consideraremos (es decir, el valor `\"Present\"` en nuestra tabla `monthly_increases`) es _mayor_ que el promedio histórico. Dado que estamos esencialmente interesados en ver si las temperaturas promedio de febrero han ***aumentado*** desde el pasado, solo nos preocupa que el límite inferior del intervalo de confianza sea mayor"
   ]
  },
  {
   "cell_type": "markdown",
   "id": "54091e2a",
   "metadata": {
    "deletable": false,
    "editable": false
   },
   "source": [
    "**Pregunta 1.2.6.** Completa la implementación de la función `ci_lower`, que toma una tabla de una sola columna `t` que contiene observaciones de muestra y un porcentaje de nivel de confianza `level`, como 95 o 99. Devuelve el límite inferior de un intervalo de confianza para la media poblacional construido utilizando 5.000 remuestreos de bootstrap.\n",
    "\n",
    "Después de definir `ci_lower`, hemos proporcionado una línea de código que llama a `ci_lower` en las temperaturas máximas de febrero actuales para obtener el límite inferior de un intervalo de confianza del 99% para el promedio de las temperaturas máximas diarias en febrero. El resultado debería estar alrededor de los 19.4 grados."
   ]
  },
  {
   "cell_type": "code",
   "execution_count": null,
   "id": "696e564c",
   "metadata": {
    "tags": []
   },
   "outputs": [],
   "source": [
    "def ci_lower(t, level):\n",
    "    '''Calcula un límite inferior de un intervalo de confianza del level%  \n",
    "    para el promedio de la población, donde la columna 0 de la Tabla t contiene una muestra.  \n",
    "    '''\n",
    "    stats = make_array()\n",
    "    for k in np.arange(5000):\n",
    "        stat = ...\n",
    "        stats = ...\n",
    "    ...\n",
    "\n",
    "# Llama a ci_lower sobre las temperaturas máximas de febrero en la actualidad \n",
    "# para encontrar el límite inferior de un intervalo de confianza del 99%.\n",
    "feb_present_ci = ci_lower(feb_present.select('tmax'), 99)\n",
    "feb_present_ci"
   ]
  },
  {
   "cell_type": "code",
   "execution_count": null,
   "id": "4e0f9cf5",
   "metadata": {
    "deletable": false,
    "editable": false
   },
   "outputs": [],
   "source": [
    "grader.check(\"q11\")"
   ]
  },
  {
   "cell_type": "markdown",
   "id": "c1dc88e3",
   "metadata": {
    "deletable": false,
    "editable": false
   },
   "source": [
    "<!-- BEGIN QUESTION -->\n",
    "\n",
    "**Pregunta 1.2.7** El límite inferior del intervalo de confianza del 99% para `feb_present_ci` está por debajo del promedio observado de la temperatura máxima de febrero en el pasado, que es 20.4713 (según la tabla `monthly_increases`). ¿Qué conclusión puedes sacar sobre el efecto del cambio climático en las temperaturas máximas de febrero en Phoenix a partir de esta información? Utiliza un nivel de significancia del 1% para el valor p.\n",
    "\n",
    "*Nota*: Si tienes dificultades con esta pregunta, puede ser útil releer los párrafos bajo el encabezado *Febrero* (particularmente los primeros)."
   ]
  },
  {
   "cell_type": "code",
   "execution_count": null,
   "id": "5cfb6278",
   "metadata": {
    "tags": []
   },
   "outputs": [],
   "source": []
  },
  {
   "cell_type": "markdown",
   "id": "cda69f7f",
   "metadata": {
    "deletable": true,
    "editable": true
   },
   "source": [
    "Escribe aqui su respuesta..."
   ]
  },
  {
   "cell_type": "markdown",
   "id": "cb7427f0",
   "metadata": {
    "deletable": true,
    "editable": true
   },
   "source": [
    "### Todos los Meses\n"
   ]
  },
  {
   "cell_type": "markdown",
   "id": "482ab793",
   "metadata": {
    "deletable": false,
    "editable": false
   },
   "source": [
    "**Pregunta 1.2.8.** Repite el proceso de comparación entre el **límite inferior de un intervalo de confianza del 99%** y el **promedio pasado** para cada mes. Para cada mes, imprime el nombre del mes (por ejemplo, `02 (Feb)`), el promedio observado en el pasado y el límite inferior de un intervalo de confianza para el promedio actual.\n",
    "\n",
    "Usa la función `print` proporcionada para formatear el resultado como una línea por mes.\n",
    "\n",
    "*Consejo*: Tu código debe seguir el mismo formato que nuestro código anterior (es decir, la sección de *febrero*)."
   ]
  },
  {
   "cell_type": "code",
   "execution_count": null,
   "id": "6ae4847c",
   "metadata": {
    "tags": []
   },
   "outputs": [],
   "source": [
    "comparisons = make_array()\n",
    "\n",
    "# Tomamos los meses únicos desde los datos ya filtrados:\n",
    "months = np.unique(phoenix_periods.column(\"Month\"))\n",
    "\n",
    "for month in months:\n",
    "    # Promedio observado en el período 'Past' para el mes actual:\n",
    "    past_average = ....\n",
    "\n",
    "    # Todas las observaciones actuales ('Present') para este mes:\n",
    "    present_observations = ...\n",
    "\n",
    "    # Límite inferior del intervalo de confianza del 99% sobre las observaciones actuales:\n",
    "    present_lower_bound = ci_lower(present_observations, 99)\n",
    "\n",
    "    # NO modificar desde aquí en adelante (código dado por el ejercicio):\n",
    "    below = past_average < present_lower_bound\n",
    "    if below:\n",
    "        comparison = '**abajo**'\n",
    "    else:\n",
    "        comparison = '*arriba*'\n",
    "    comparisons = np.append(comparisons, comparison)\n",
    "\n",
    "    print('Para', month, 'el promedio pasado', round(past_average, 1), \n",
    "      'está', comparison, \n",
    "      'del límite inferior', round(present_lower_bound, 1),\n",
    "      'del intervalo de confianza al 99% del promedio presente. \\n')\n"
   ]
  },
  {
   "cell_type": "code",
   "execution_count": null,
   "id": "478352b4-826a-474d-af17-32e84ab303db",
   "metadata": {
    "tags": []
   },
   "outputs": [],
   "source": [
    "print('Para', month, 'el promedio pasado', round(past_average, 1), \n",
    "      'está', comparison, \n",
    "      'del límite inferior', round(present_lower_bound, 1),\n",
    "      'del intervalo de confianza al 99% del promedio presente. \\n')"
   ]
  },
  {
   "cell_type": "code",
   "execution_count": null,
   "id": "579b1897",
   "metadata": {
    "deletable": false,
    "editable": false
   },
   "outputs": [],
   "source": [
    "grader.check(\"q13\")"
   ]
  },
  {
   "cell_type": "markdown",
   "id": "29b2c9d0",
   "metadata": {
    "deletable": false,
    "editable": false
   },
   "source": [
    "<!-- BEGIN QUESTION -->\n",
    "\n",
    "**Pregunta 1.2.9.** Resuma sus hallazgos: Después de comparar el promedio histórico con el límite inferior del intervalo de confianza del 99% para cada mes, ¿qué conclusiones podemos hacer sobre la temperatura máxima promedio mensual en los tiempos históricos (1900-1960) frente a los tiempos modernos (2019-2021) en los doce meses? En otras palabras, ¿qué hipótesis nula deberías considerar, y para qué meses rechazarías o no rechazarías la hipótesis nula? Utiliza un punto de corte del valor p del 1%.\n",
    "\n",
    "*Pista*: ¿Notas algún patrón estacional?"
   ]
  },
  {
   "cell_type": "code",
   "execution_count": null,
   "id": "41d77637",
   "metadata": {
    "tags": []
   },
   "outputs": [],
   "source": []
  },
  {
   "cell_type": "markdown",
   "id": "9ec36c42-ac59-4a94-a418-249952f0e290",
   "metadata": {},
   "source": [
    "Escribe aqui su respuesta..."
   ]
  },
  {
   "cell_type": "markdown",
   "id": "6922d952-f437-4e20-bcf1-562224816161",
   "metadata": {},
   "source": [
    "--------------------------------------------------"
   ]
  },
  {
   "cell_type": "markdown",
   "id": "b337edfa",
   "metadata": {
    "deletable": true,
    "editable": true,
    "tags": []
   },
   "source": [
    "# Parte 2: Sequía\n"
   ]
  },
  {
   "cell_type": "markdown",
   "id": "e1aa7a17",
   "metadata": {
    "deletable": true,
    "editable": true
   },
   "source": [
    "De acuerdo con la [Agencia de Protección Ambiental de los Estados Unidos](https://www.epa.gov/climate-indicators/southwest), \"Grandes porciones del Suroeste han experimentado condiciones de sequía desde que comenzaron los registros semanales del Monitor de Sequía en el año 2000. Durante períodos prolongados de 2002 a 2005 y de 2012 a 2020, casi toda la región estuvo anormalmente seca o incluso más seca.\"\n",
    "\n",
    "Evaluar el impacto de la sequía es un desafío utilizando solo datos a nivel de ciudad, porque gran parte del agua que utilizan las personas es transportada desde otros lugares. Sin embargo, exploraremos los datos disponibles para ver qué podemos aprender.\n",
    "\n",
    "Primero, echemos un vistazo a los datos de precipitación en la región del Suroeste. El archivo `southwest.csv` contiene la precipitación total anual para 13 ciudades en el suroeste de los Estados Unidos, registrada para cada año desde 1960 hasta 2021. Este conjunto de datos se ha consolidado a partir de datos diarios e incluye solo las ciudades del Suroeste del conjunto de datos original que tienen registros de precipitación consistentes desde 1960."
   ]
  },
  {
   "cell_type": "code",
   "execution_count": null,
   "id": "e9789cf4",
   "metadata": {
    "deletable": true,
    "editable": true
   },
   "outputs": [],
   "source": [
    "southwest = Table.read_table('southwest.csv')\n",
    "southwest.show(5)"
   ]
  },
  {
   "cell_type": "markdown",
   "id": "9c0ecad3",
   "metadata": {
    "deletable": false,
    "editable": false
   },
   "source": [
    "**Pregunta 2.1.** Crea una tabla llamada `totals` que contenga una fila para cada año en orden cronológico. La tabla debe contener las siguientes columnas:\n",
    "\n",
    "1. `\"Year\"`: El año (un número)\n",
    "2. `\"Precipitation\"`: La precipitación total en las 13 ciudades del suroeste para ese año"
   ]
  },
  {
   "cell_type": "code",
   "execution_count": null,
   "id": "0392cf76",
   "metadata": {
    "tags": []
   },
   "outputs": [],
   "source": [
    "...\n",
    "totals = ...\n",
    "\n",
    "totals.show(5)\n"
   ]
  },
  {
   "cell_type": "code",
   "execution_count": null,
   "id": "fe3a282d",
   "metadata": {
    "deletable": false,
    "editable": false
   },
   "outputs": [],
   "source": [
    "grader.check(\"q15\")"
   ]
  },
  {
   "cell_type": "markdown",
   "id": "2c16287e",
   "metadata": {
    "deletable": true,
    "editable": true
   },
   "source": [
    "Ejecuta la celda a continuación para graficar la precipitación total en estas ciudades a lo largo del tiempo, de manera que podamos intentar identificar la sequía visualmente. Como recordatorio, los años de sequía proporcionados por la EPA fueron (2002-2005) y (2012-2020)."
   ]
  },
  {
   "cell_type": "code",
   "execution_count": null,
   "id": "cb4092bf",
   "metadata": {
    "deletable": true,
    "editable": true
   },
   "outputs": [],
   "source": [
    "# Just run this cell\n",
    "totals.plot(\"Year\", \"Precipitation\")"
   ]
  },
  {
   "cell_type": "markdown",
   "id": "e5897d29",
   "metadata": {
    "deletable": true,
    "editable": true
   },
   "source": [
    "Este gráfico no es muy revelador. Cada año presenta una cantidad diferente de precipitación y hay bastante variabilidad entre los años, como si la precipitación de cada año fuera un resultado aleatorio de una distribución de posibles resultados.\n",
    "\n",
    "¿Podría ser que estas llamadas \"condiciones de sequía\" de 2002-2005 y 2012-2020 puedan explicarse por azar? En otras palabras, ¿podría ser que las cantidades anuales de precipitación en el Suroeste durante estos años de sequía son como **resultados aleatorios de la misma distribución subyacente** que en otros años? Tal vez no ha cambiado nada en los patrones de precipitación de la Tierra, y el suroeste de EE.UU. simplemente experimentó algunos años secos muy seguidos.\n",
    "\n",
    "Para evaluar esta idea, realicemos una prueba A/B en la que **la precipitación total de cada año** es un resultado, y la condición es **si el año está o no en el período de sequía según la EPA**."
   ]
  },
  {
   "cell_type": "markdown",
   "id": "8b6fc643",
   "metadata": {
    "deletable": true,
    "editable": true
   },
   "source": [
    "Esta función `drought_label` diferencia entre los años de sequía (drought), tal como se describe en la declaración de la EPA de EE. UU. mencionada anteriormente (2002-2005 y 2012-2020), y otros años. Cabe destacar que la etiqueta \"Other\" puede ser algo engañosa, ya que hubo otras sequías antes del año 2000, como la masiva [sequía de 1988](https://en.wikipedia.org/wiki/1988%E2%80%9390_North_American_drought) que afectó gran parte de EE. UU. Sin embargo, si nos interesa determinar si estos períodos de sequía más recientes (2002-2005 y 2012-2020) son *normales* o *anormales*, tiene sentido diferenciar los años de esta manera."
   ]
  },
  {
   "cell_type": "code",
   "execution_count": null,
   "id": "d98762ae",
   "metadata": {
    "deletable": true,
    "editable": true
   },
   "outputs": [],
   "source": [
    "def drought_label(n):\n",
    "    \"\"\"Return the label for an input year n.\"\"\"\n",
    "    if 2002 <= n <= 2005 or 2012 <= n <= 2020:\n",
    "        return 'drought'\n",
    "    else:\n",
    "        return 'other'"
   ]
  },
  {
   "cell_type": "markdown",
   "id": "b0bfe108",
   "metadata": {
    "deletable": false,
    "editable": false
   },
   "source": [
    "<!-- BEGIN QUESTION -->\n",
    "\n",
    "**Pregunta 2.2.** Define las hipótesis nula y alternativa para un test A/B que investiga si los años de sequía son **más secos** (tienen menos precipitación) que otros años.\n",
    "\n",
    "*Nota:* Por favor, formatea tu respuesta utilizando la siguiente estructura.\n",
    "\n",
    "- *Hipótesis nula:* ...\n",
    "- *Hipótesis alternativa:* ...\n",
    "\n"
   ]
  },
  {
   "cell_type": "code",
   "execution_count": null,
   "id": "a279e6ed",
   "metadata": {
    "tags": []
   },
   "outputs": [],
   "source": [
    "hipotesis nula=\" ... \"\n",
    "\n",
    "hipotesis_alternativa=\"... \"\n"
   ]
  },
  {
   "cell_type": "code",
   "execution_count": null,
   "id": "73878e30-ed0c-4ccd-b6ce-5258557aadb9",
   "metadata": {},
   "outputs": [],
   "source": [
    "print('Hipótesis nula: Los años de sequía no son más secos que otros años; es decir, la precipitación media en años de sequía es igual a la precipitación media en otros años.')\n",
    "print('Hipótesis alternativa: Los años de sequía son más secos que otros años; es decir, la precipitación media en años de sequía es menor que la precipitación media en otros años.')"
   ]
  },
  {
   "cell_type": "markdown",
   "id": "c261548d",
   "metadata": {
    "deletable": false,
    "editable": false
   },
   "source": [
    "**Pregunta 2.3.** Primero, define la tabla `drought`. Debe contener una fila por año y las siguientes dos columnas:\n",
    "\n",
    "- `\"Label\"`: Indica si un año es parte de un año de `\"drought\"` o de un año `\"other\"`\n",
    "- `\"Precipitation\"`: La suma de la precipitación total en 13 ciudades del suroeste en ese año\n",
    "\n",
    "Luego, construye un histograma superpuesto de dos distribuciones observadas: la precipitación total en años de sequía y la precipitación total en otros años.\n",
    "\n",
    "*Nota*: Usa los `bins` proporcionados al crear tu histograma, y no reasignes la tabla `southwest`. ¡Siéntete libre de usar tantas líneas como necesites!\n",
    "\n",
    "*Sugerencia*: ¡El argumento opcional `group` en cierta función podría ser útil!"
   ]
  },
  {
   "cell_type": "code",
   "execution_count": null,
   "id": "ee9c2ad8",
   "metadata": {
    "tags": []
   },
   "outputs": [],
   "source": [
    "\n",
    "drought = ...\n",
    "bins = np.arange(85, 215+1, 13)\n",
    "drought.hist('Precipitation', group='Label', bins=bins)\n"
   ]
  },
  {
   "cell_type": "code",
   "execution_count": null,
   "id": "2d1e667b",
   "metadata": {
    "deletable": false,
    "editable": false
   },
   "outputs": [],
   "source": [
    "grader.check(\"q17\")"
   ]
  },
  {
   "cell_type": "markdown",
   "id": "a9b54c17",
   "metadata": {
    "deletable": true,
    "editable": true
   },
   "source": [
    "Antes de continuar, examina el histograma que acabas de crear e intenta adivinar la conclusión de la prueba A/B. Desarrollar la intuición sobre el resultado de las pruebas de hipótesis a partir de visualizaciones es muy útil para aplicaciones en ciencia de datos."
   ]
  },
  {
   "cell_type": "markdown",
   "id": "8d8e609a",
   "metadata": {
    "deletable": false,
    "editable": false
   },
   "source": [
    "**Pregunta 2.4.** Nuestro próximo paso es elegir una estadística de prueba basada en nuestra hipótesis alternativa de la Pregunta 2.2. ¿Cuál de las siguientes opciones son elecciones válidas para la estadística de prueba? Asigna `ab_test_stat` a **un arreglo de enteros** que corresponda a las opciones válidas. Supón que se consideran promedios y totales a partir de las sumas de precipitación total para cada año.\n",
    "\n",
    "1. La diferencia entre la precipitación **total** en los años de **sequía** y la precipitación **total** en los **otros** años.\n",
    "2. La diferencia entre la precipitación **total** en los **otros** años y la precipitación **total** en los años de **sequía**.\n",
    "3. La diferencia **absoluta** entre la precipitación **total** en los otros años y la precipitación **total** en los años de sequía.\n",
    "4. La diferencia entre la precipitación **promedio** en los años de **sequía** y la precipitación **promedio** en los **otros** años.\n",
    "5. La diferencia entre la precipitación **promedio** en los **otros** años y la precipitación **promedio** en los años de **sequía**.\n",
    "6. La diferencia **absoluta** entre la precipitación **promedio** en los otros años y la precipitación **promedio** en los años de sequía."
   ]
  },
  {
   "cell_type": "code",
   "execution_count": null,
   "id": "cac24afe",
   "metadata": {
    "tags": []
   },
   "outputs": [],
   "source": [
    "ab_test_stat = make_array(...)\n"
   ]
  },
  {
   "cell_type": "code",
   "execution_count": null,
   "id": "997e2d70",
   "metadata": {
    "deletable": false,
    "editable": false
   },
   "outputs": [],
   "source": [
    "grader.check(\"q18\")"
   ]
  },
  {
   "cell_type": "markdown",
   "id": "c3d14b39",
   "metadata": {
    "deletable": false,
    "editable": false
   },
   "source": [
    "<!-- BEGIN QUESTION -->\n",
    "\n",
    "**Pregunta 2.5.** Los científicos del clima, Noah y Sarah, señalan que hay más años **normales** que años de **sequía**, por lo que medir la diferencia en la precipitación total siempre favorecerá a los años **normales**. Ellos concluyen que todas las opciones anteriores que implican la precipitación **total** son elecciones inválidas para una estadística de prueba. ¿Estás de acuerdo con ellos? ¿Por qué sí o por qué no?\n",
    "\n",
    "> *Pista:* ¡Piensa en cómo funcionan las pruebas de permutación con clases desequilibradas!"
   ]
  },
  {
   "cell_type": "code",
   "execution_count": null,
   "id": "ec0c3607",
   "metadata": {
    "tags": []
   },
   "outputs": [],
   "source": []
  },
  {
   "cell_type": "markdown",
   "id": "2bfedfa0-d50a-4d88-9ad4-cfcc64fcab41",
   "metadata": {},
   "source": [
    "Escribe tu respuesta aqui..."
   ]
  },
  {
   "cell_type": "markdown",
   "id": "c767cf72",
   "metadata": {
    "deletable": true,
    "editable": true
   },
   "source": [
    "Antes de continuar, revisa tu tabla `drought`. Debe tener dos columnas, `labels` y `Precipitation`, con 61 filas, de las cuales 13 corresponden a años de \"sequía\"(drought)."
   ]
  },
  {
   "cell_type": "code",
   "execution_count": null,
   "id": "efb5067a",
   "metadata": {
    "deletable": true,
    "editable": true
   },
   "outputs": [],
   "source": [
    "drought.show(3)"
   ]
  },
  {
   "cell_type": "code",
   "execution_count": null,
   "id": "c3e0e028",
   "metadata": {
    "deletable": true,
    "editable": true
   },
   "outputs": [],
   "source": [
    "drought.group('Label')"
   ]
  },
  {
   "cell_type": "markdown",
   "id": "f6ed8c42",
   "metadata": {
    "deletable": false,
    "editable": false
   },
   "source": [
    "**Pregunta 2.6.** Para nuestra prueba A/B, usaremos la diferencia entre la precipitación promedio en los años de sequía y la precipitación promedio en otros años como nuestra estadística de prueba:\n",
    "\n",
    "$$\\text{precipitación promedio en años de ``sequía''} - \\text{precipitación promedio en ``otros'' años}$$\n",
    "\n",
    "Primero, completa la función `test_statistic`. Debe recibir una tabla de dos columnas `t` con una fila por año y dos columnas:\n",
    "- `Label`: la etiqueta para ese año (puede ser `'drought'` o `'other'`)\n",
    "- `Precipitation`: la precipitación total en las 13 ciudades del Suroeste ese año. \n",
    "\n",
    "Luego, usa la función que defines para asignar `observed_statistic` a la estadística de prueba observada.\n",
    "\n",
    "El archivo que se utiliza para la regresión es faithful.csv, que tiene las columnas `duration` y `wait`."
   ]
  },
  {
   "cell_type": "code",
   "execution_count": null,
   "id": "c4e159bd",
   "metadata": {
    "tags": []
   },
   "outputs": [],
   "source": [
    "def test_statistic(t):\n",
    "    ...\n",
    "\n",
    "observed_statistic = ...\n",
    "observed_statistic\n"
   ]
  },
  {
   "cell_type": "code",
   "execution_count": null,
   "id": "2a39fdd4",
   "metadata": {
    "deletable": false,
    "editable": false
   },
   "outputs": [],
   "source": [
    "grader.check(\"q20\")"
   ]
  },
  {
   "cell_type": "markdown",
   "id": "99bbafdc",
   "metadata": {
    "deletable": true,
    "editable": true
   },
   "source": [
    "Ahora que hemos definido nuestras hipótesis y el estadístico de prueba, estamos listos para llevar a cabo nuestra prueba de hipótesis. Comenzaremos definiendo una función para simular el estadístico de prueba bajo la hipótesis nula y luego llamaremos a esa función 5000 veces para construir una distribución empírica bajo la hipótesis nula."
   ]
  },
  {
   "cell_type": "markdown",
   "id": "e6136541",
   "metadata": {
    "deletable": false,
    "editable": false
   },
   "source": [
    "**Pregunta 2.7.** Escribe una función para simular el estadístico de prueba bajo la hipótesis nula. La función `simulate_precipitation_null` debe simular la hipótesis nula una vez (no 5,000 veces) y devolver el valor del estadístico de prueba para esa muestra simulada.\n",
    "\n",
    "*Sugerencia*: Usar `t.with_column(...)` con un nombre de columna que ya existe en una tabla `t` reemplazará esa columna con los valores especificados recientemente."
   ]
  },
  {
   "cell_type": "code",
   "execution_count": null,
   "id": "c4a4d17a",
   "metadata": {
    "tags": []
   },
   "outputs": [],
   "source": [
    "def simulate_precipitation_null():\n",
    "    ...\n",
    "\n",
    "# Run your function a couple times to make sure that it works\n",
    "simulate_precipitation_null()\n"
   ]
  },
  {
   "cell_type": "code",
   "execution_count": null,
   "id": "e7c3be8b-4d5e-47c9-97f0-d7884631ee54",
   "metadata": {
    "tags": []
   },
   "outputs": [],
   "source": [
    "plt.hist(np.array([simulate_precipitation_null()  for i in range (0, 10000)]))"
   ]
  },
  {
   "cell_type": "code",
   "execution_count": null,
   "id": "f1f584a1",
   "metadata": {
    "deletable": false,
    "editable": false
   },
   "outputs": [],
   "source": [
    "grader.check(\"q21\")"
   ]
  },
  {
   "cell_type": "markdown",
   "id": "3bbc1d6b",
   "metadata": {
    "deletable": false,
    "editable": false
   },
   "source": [
    "**Pregunta 2.8.** Completa los espacios en blanco a continuación para finalizar la simulación de la prueba de hipótesis. Tu simulación debe calcular 5,000 valores del estadístico de prueba bajo la hipótesis nula y almacenar el resultado en el arreglo `sampled_stats`.\n",
    "\n",
    "*Consejo:* Deberías usar la función `simulate_precipitation_null` que escribiste en la pregunta anterior.\n",
    "\n",
    "*Nota:* Ejecutar esta celda puede tomar unos segundos. Si tarda más de un minuto, intenta encontrar una manera diferente (más rápida) de implementar tu función `simulate_precipitation_null`."
   ]
  },
  {
   "cell_type": "code",
   "execution_count": null,
   "id": "b1aa3988",
   "metadata": {
    "tags": []
   },
   "outputs": [],
   "source": [
    "repetitions = 5000\n",
    "sampled_stats = make_array()\n",
    "\n",
    "for i in np.arange(repetitions):\n",
    "    sampled_stats = np.append(... simulate_precipitation_null())\n",
    "\n",
    "# Do not change these lines\n",
    "Table().with_column('Difference Between Means', sampled_stats).hist()\n",
    "plt.scatter(observed_statistic, 0, c=\"r\", s=50);\n",
    "plt.ylim(-0.01);\n"
   ]
  },
  {
   "cell_type": "code",
   "execution_count": null,
   "id": "f8cf4553",
   "metadata": {
    "deletable": false,
    "editable": false
   },
   "outputs": [],
   "source": [
    "grader.check(\"q22\")"
   ]
  },
  {
   "cell_type": "markdown",
   "id": "684ddbaf",
   "metadata": {
    "deletable": false,
    "editable": false
   },
   "source": [
    "**Pregunta 2.9.** Calcula el valor p para esta prueba de hipótesis y asígnalo a la variable `precipitation_p_val`."
   ]
  },
  {
   "cell_type": "code",
   "execution_count": null,
   "id": "865eebd5",
   "metadata": {
    "tags": []
   },
   "outputs": [],
   "source": [
    "precipitation_p_val =...\n",
    "precipitation_p_val"
   ]
  },
  {
   "cell_type": "code",
   "execution_count": null,
   "id": "2c3a635f",
   "metadata": {
    "deletable": false,
    "editable": false
   },
   "outputs": [],
   "source": [
    "grader.check(\"q23\")"
   ]
  },
  {
   "cell_type": "markdown",
   "id": "9ef4d94c",
   "metadata": {
    "deletable": false,
    "editable": false
   },
   "source": [
    "<!-- BEGIN QUESTION -->\n",
    "\n",
    "**Pregunta 2.10.** Establece una conclusión a partir de esta prueba utilizando un valor p de referencia del 5%. ¿Qué has aprendido sobre la declaración de la EPA con respecto a la sequía?"
   ]
  },
  {
   "cell_type": "code",
   "execution_count": null,
   "id": "62b2e441",
   "metadata": {
    "tags": []
   },
   "outputs": [],
   "source": [
    "\n"
   ]
  },
  {
   "cell_type": "markdown",
   "id": "9af9e82b-ca11-4a44-9a63-2438eb972180",
   "metadata": {},
   "source": [
    "Escriba su respuesta aqui..."
   ]
  },
  {
   "cell_type": "markdown",
   "id": "e7ee74f7",
   "metadata": {
    "deletable": false,
    "editable": false
   },
   "source": [
    "**Pregunta 2.11.** ¿Se aplica tu conclusión de la Pregunta 2.10 a toda la región del suroeste de los EE. UU.? ¿Por qué o por qué no?\n",
    "\n",
    "> *Nota:* ¡Siéntete libre de investigar sobre las características geográficas de esta región de los EE. UU.!"
   ]
  },
  {
   "cell_type": "code",
   "execution_count": null,
   "id": "7d59ec42",
   "metadata": {
    "tags": []
   },
   "outputs": [],
   "source": [
    "\n"
   ]
  },
  {
   "cell_type": "markdown",
   "id": "ba74057d-5f0e-48d5-8646-ae5ac6641e76",
   "metadata": {},
   "source": [
    "Escriba su respuesta aqui..."
   ]
  },
  {
   "cell_type": "markdown",
   "id": "2aa7521d",
   "metadata": {
    "deletable": true,
    "editable": true
   },
   "source": [
    "<!-- FIN DE LA PREGUNTA -->\n",
    "\n",
    "# Conclusión\n"
   ]
  },
  {
   "cell_type": "markdown",
   "id": "a431e114",
   "metadata": {
    "deletable": true,
    "editable": true
   },
   "source": [
    "La ciencia de datos juega un papel central en la investigación sobre el cambio climático, ya que es necesario realizar simulaciones masivas del clima terrestre para evaluar las implicaciones de los datos climáticos registrados por estaciones meteorológicas, satélites y otros sensores. [Berkeley Earth](http://berkeleyearth.org/data/) es una fuente común de datos para este tipo de proyectos.\n",
    "\n",
    "En este proyecto, encontramos formas de aplicar nuestras técnicas de inferencia estadística que se basan en el muestreo aleatorio, incluso en situaciones en las que los datos no fueron generados aleatoriamente, sino por algún proceso natural complicado que parecía aleatorio. Hicimos suposiciones sobre la aleatoriedad y luego llegamos a conclusiones basadas en esas suposiciones. Se debe tener mucho cuidado al elegir supuestos que sean realistas, para que las conclusiones resultantes no sean engañosas. No obstante, hacer suposiciones sobre los datos puede ser útil cuando hacerlo permite aplicar técnicas de inferencia a situaciones novedosas."
   ]
  },
  {
   "cell_type": "markdown",
   "id": "9183b8ae",
   "metadata": {
    "deletable": true,
    "editable": true
   },
   "source": [
    "<img src=\"Paco.jpeg\" alt=\"Foto de un gato tuxedo descansando en la cama\" width=\"350\"/>\n",
    "Nuestro buen amigo Paco estuvo atento a todo tu desarrollo y quiere Felicitarte  por finalizar este proyecto.\n",
    "¡Felicitaciones!"
   ]
  },
  {
   "cell_type": "markdown",
   "id": "3e65c9c9",
   "metadata": {
    "deletable": true,
    "editable": true
   },
   "source": [
    "***Recordatorios Importantes:***\n",
    "- Si trabajaste con un conmpanero, cada uno debe subir el archivo ipynb a los enlaces del curso"
   ]
  },
  {
   "cell_type": "markdown",
   "id": "91e4138e",
   "metadata": {
    "deletable": true,
    "editable": true
   },
   "source": [
    "## Envío\n",
    "\n",
    "Asegúrate de haber ejecutado todas las celdas de tu cuaderno en orden antes de correr la celda de abajo, para que todas las imágenes/gráficas aparezcan en el resultado. La celda a continuación generará un archivo zip para que lo puedas enviar. **¡Por favor guarda antes de exportar!**"
   ]
  },
  {
   "cell_type": "markdown",
   "id": "2bcbdaec",
   "metadata": {
    "deletable": false,
    "editable": false
   },
   "source": [
    "## Submission\n",
    "\n",
    "Make sure you have run all cells in your notebook in order before running the cell below, so that all images/graphs appear in the output. The cell below will generate a zip file for you to submit. **Please save before exporting!**\n",
    "\n",
    "These are some submission instructions."
   ]
  },
  {
   "cell_type": "code",
   "execution_count": null,
   "id": "bb8d65ba",
   "metadata": {
    "deletable": false,
    "editable": false
   },
   "outputs": [],
   "source": [
    "# Save your notebook first, then run this cell to export your submission.\n",
    "grader.export(run_tests=True)"
   ]
  },
  {
   "cell_type": "markdown",
   "id": "73eefe72",
   "metadata": {},
   "source": [
    " "
   ]
  }
 ],
 "metadata": {
  "kernelspec": {
   "display_name": "Python 3 (ipykernel)",
   "language": "python",
   "name": "python3"
  },
  "language_info": {
   "codemirror_mode": {
    "name": "ipython",
    "version": 3
   },
   "file_extension": ".py",
   "mimetype": "text/x-python",
   "name": "python",
   "nbconvert_exporter": "python",
   "pygments_lexer": "ipython3",
   "version": "3.10.14"
  },
  "otter": {
   "OK_FORMAT": true,
   "assignment_name": "proyecto02",
   "tests": {
    "q10": {
     "name": "q10",
     "points": 1,
     "suites": [
      {
       "cases": [
        {
         "code": ">>> assert monthly_increases.labels == ('Month', 'Past', 'Present', 'Increase')\n>>> assert len(monthly_increases.rows) == 12\n",
         "hidden": false,
         "locked": false
        }
       ],
       "scored": true,
       "setup": "",
       "teardown": "",
       "type": "doctest"
      }
     ]
    },
    "q11": {
     "name": "q11",
     "points": 1,
     "suites": [
      {
       "cases": [
        {
         "code": ">>> assert np.isclose(feb_present_ci, 19.38, 0.1)\n",
         "hidden": false,
         "locked": false
        }
       ],
       "scored": true,
       "setup": "",
       "teardown": "",
       "type": "doctest"
      }
     ]
    },
    "q13": {
     "name": "q13",
     "points": 1,
     "suites": [
      {
       "cases": [
        {
         "code": ">>> assert month == '12 (Dec)'\n>>> assert np.isclose(round(past_average, 1), 18.8, 0.1)\n>>> assert np.isclose(round(present_lower_bound, 1), 18.7, 0.1)\n",
         "hidden": false,
         "locked": false
        }
       ],
       "scored": true,
       "setup": "",
       "teardown": "",
       "type": "doctest"
      }
     ]
    },
    "q15": {
     "name": "q15",
     "points": 1,
     "suites": [
      {
       "cases": [
        {
         "code": ">>> assert totals.labels == ('Year', 'Precipitation')\n>>> assert len(totals.rows) == 61\n",
         "hidden": false,
         "locked": false
        }
       ],
       "scored": true,
       "setup": "",
       "teardown": "",
       "type": "doctest"
      }
     ]
    },
    "q17": {
     "name": "q17",
     "points": 0,
     "suites": [
      {
       "cases": [
        {
         "code": ">>> assert drought.labels == ('Year', 'Precipitation', 'Label')\n>>> assert np.isclose(drought.column('Precipitation').mean(), 151.61, 0.01)\n",
         "hidden": false,
         "locked": false
        }
       ],
       "scored": true,
       "setup": "",
       "teardown": "",
       "type": "doctest"
      }
     ]
    },
    "q18": {
     "name": "q18",
     "points": 1,
     "suites": [
      {
       "cases": [
        {
         "code": ">>> assert np.isclose(ab_test_stat[0] * 4, 4, 0.1)\n>>> assert np.isclose(ab_test_stat[1] * 4, 16, 0.1)\n",
         "hidden": false,
         "locked": false
        }
       ],
       "scored": true,
       "setup": "",
       "teardown": "",
       "type": "doctest"
      }
     ]
    },
    "q2": {
     "name": "q2",
     "points": 1,
     "suites": [
      {
       "cases": [
        {
         "code": ">>> assert np.isclose(num_unique_cities, 210, 0.1)\n",
         "hidden": false,
         "locked": false
        }
       ],
       "scored": true,
       "setup": "",
       "teardown": "",
       "type": "doctest"
      }
     ]
    },
    "q20": {
     "name": "q20",
     "points": 1,
     "suites": [
      {
       "cases": [
        {
         "code": ">>> assert np.isclose(observed_statistic, -15.85, 0.1)\n",
         "hidden": false,
         "locked": false
        }
       ],
       "scored": true,
       "setup": "",
       "teardown": "",
       "type": "doctest"
      }
     ]
    },
    "q21": {
     "name": "q21",
     "points": 1,
     "suites": [
      {
       "cases": [
        {
         "code": ">>> assert abs(simulate_precipitation_null()) <= 50\n",
         "hidden": false,
         "locked": false
        }
       ],
       "scored": true,
       "setup": "",
       "teardown": "",
       "type": "doctest"
      }
     ]
    },
    "q22": {
     "name": "q22",
     "points": 1,
     "suites": [
      {
       "cases": [
        {
         "code": ">>> assert np.isclose(observed_statistic, -15.85, 10.0)\n>>> assert abs(sampled_stats.mean() <= 20)\n",
         "hidden": false,
         "locked": false
        }
       ],
       "scored": true,
       "setup": "",
       "teardown": "",
       "type": "doctest"
      }
     ]
    },
    "q23": {
     "name": "q23",
     "points": 1,
     "suites": [
      {
       "cases": [
        {
         "code": ">>> assert np.isclose(precipitation_p_val, 0.0224, 1)\n",
         "hidden": false,
         "locked": false
        }
       ],
       "scored": true,
       "setup": "",
       "teardown": "",
       "type": "doctest"
      }
     ]
    },
    "q3": {
     "name": "q3",
     "points": 1,
     "suites": [
      {
       "cases": [
        {
         "code": ">>> def test_coordinates_to_region():\n...     u0 = coordinates_to_region(41, -99) == 'Northeast'\n...     u1 = coordinates_to_region(45, -120) == 'Northwest'\n...     u2 = coordinates_to_region(35, -85) == 'Southeast'\n...     u3 = coordinates_to_region(20, -110) == 'Southwest'\n...     u4 = coordinates_to_region(40, -99.9) == 'Northeast'\n...     u5 = coordinates_to_region(40, -100.1) == 'Northwest'\n...     u6 = coordinates_to_region(39.9, -100.1) == 'Southwest'\n...     u7 = coordinates_to_region(39.9, -99.9) == 'Southeast'\n...     q = np.array([u0, u1, u2, u3, u4, u5, u6, u7])\n...     oo = q.sum()\n...     if oo == 8:\n...         return True\n...     else:\n...         return False\n>>> assert test_coordinates_to_region()\n",
         "hidden": false,
         "locked": false
        }
       ],
       "scored": true,
       "setup": "",
       "teardown": "",
       "type": "doctest"
      }
     ]
    },
    "q4": {
     "name": "q4",
     "points": 1,
     "suites": [
      {
       "cases": [
        {
         "code": ">>> regions = cities.group('Region').column(0)\n>>> allowed_regions = ['Northeast', 'Northwest', 'Southeast', 'Southwest']\n>>> is_valid = all((region in allowed_regions for region in regions))\n>>> assert is_valid\n",
         "hidden": false,
         "locked": false
        }
       ],
       "scored": true,
       "setup": "",
       "teardown": "",
       "type": "doctest"
      }
     ]
    },
    "q5": {
     "name": "q5",
     "points": 0,
     "suites": [
      {
       "cases": [
        {
         "code": ">>> a = cities_nearest.labels == ('Name', 'ID', 'Lat', 'Lon', 'Stn.Name', 'Stn.stDate', 'Stn.edDate', 'Region', 'Nearest')\n>>> b = (cities_nearest.where('Name', are.equal_to('Lander')).column('Nearest') == 'GrandJunction')[0] == True\n>>> assert a\n>>> assert b\n",
         "hidden": false,
         "locked": false
        }
       ],
       "scored": true,
       "setup": "",
       "teardown": "",
       "type": "doctest"
      }
     ]
    },
    "q6": {
     "name": "q6",
     "points": 1,
     "suites": [
      {
       "cases": [
        {
         "code": ">>> assert largest_2010_range_date == '2010-06-24'\n",
         "hidden": false,
         "locked": false
        }
       ],
       "scored": true,
       "setup": "",
       "teardown": "",
       "type": "doctest"
      }
     ]
    },
    "q7": {
     "name": "q7",
     "points": 1,
     "suites": [
      {
       "cases": [
        {
         "code": ">>> assert phoenix.column('Month')[0] == '01 (Jan)'\n>>> assert len(phoenix.rows) == 46021\n",
         "hidden": false,
         "locked": false
        }
       ],
       "scored": true,
       "setup": "",
       "teardown": "",
       "type": "doctest"
      }
     ]
    }
   }
  }
 },
 "nbformat": 4,
 "nbformat_minor": 5
}
