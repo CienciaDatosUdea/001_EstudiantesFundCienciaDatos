{
 "cells": [
  {
   "cell_type": "code",
   "execution_count": null,
   "id": "f233d772",
   "metadata": {
    "deletable": false,
    "editable": false
   },
   "outputs": [],
   "source": [
    "# Initialize Otter\n",
    "import otter\n",
    "grader = otter.Notebook(\"proyecto_parte01.ipynb\")"
   ]
  },
  {
   "cell_type": "markdown",
   "id": "8b5c3cc3",
   "metadata": {
    "deletable": true,
    "editable": true
   },
   "source": [
    "<p><img alt=\"Colaborat\" style=\"height: 220px;\" src=\"https://github.com/CienciaDatosUdea/001_DataSetFundCienciaDatos/blob/main/semestre2024-2/lab/lab02/Escudo-UdeA.svg.png?raw=true\" align=\"left\" hspace=\"10px\" vspace=\"0px\"></p>\n",
    "\n",
    "\n",
    "# Fundamentos en ciencias de datos\n",
    "\n",
    "\n",
    "## Proyecto 01: Población Mundial y Pobreza\n",
    "\n",
    "\n",
    "En este proyecto, explorarás datos de [Gapminder.org](http://gapminder.org), un sitio web dedicado a ofrecer una visión del mundo basada en hechos y cómo ha cambiado. Ese sitio incluye varias visualizaciones y presentaciones de datos, pero también publica los datos en bruto que utilizaremos en este proyecto para recrear y ampliar algunas de sus visualizaciones más famosas. El sitio web de Gapminder recopila datos de muchas fuentes y los compila en tablas que describen muchos países alrededor del mundo. Todos los datos que agregan se publican en el [Systema Globalis](https://github.com/open-numbers/ddf--gapminder--systema_globalis/blob/master/README.md). Su objetivo es compilar todas las estadísticas públicas; sociales, económicas y ambientales; en un conjunto de datos . Todos los conjuntos de datos de este proyecto se copian directamente del Systema Globalis sin ningún cambio. Este proyecto está dedicado a [Hans Rosling](https://en.wikipedia.org/wiki/Hans_Rosling) (1948-2017), quien promovió el uso de datos para entender y priorizar los desafíos del desarrollo global."
   ]
  },
  {
   "cell_type": "markdown",
   "id": "c086db35",
   "metadata": {
    "deletable": true,
    "editable": true
   },
   "source": [
    "### Logística **Fecha límite.** \n",
    "\n",
    "Este proyecto esta dividido en dos partes, la primera parte `proyecto_parte01.ipynb` se publicará el 18 de Octubre; la segunda parte proyecto_parte01_02, se publicará el Lunes 21 de Octubre. Se recomienda entrega el archivo  project_parte01.ipynb el viernes 25 de octubre, y todo el proyecto completo  `project_parte0102.ipynb` el 1 de noviembre.  \n",
    "\n",
    "Este proyecto se debe entregar a más tardar a las **11:00pm el Lunes 1 de noviembre**. Se aceptarán proyectos con hasta 2 días (48 horas) de retraso. Los proyectos presentados menos de 24 horas después de la fecha límite recibirán 2/3 de la nota, y los proyectos presentados entre 24 y 48 horas después de la fecha límite recibirán 1/3 de la nota. Los proyectos presentados con 48 horas o más de retraso no recibirán nota. \n",
    "\n",
    "**Punto de control.** Para obtener la nota  completa en el punto de control, debes completar las preguntas hasta el punto de control, **aprobar todas las pruebas de autocalificación** <span style=\"color: #BC412B\">**El punto de control vale el 5% de la calificación total de tu proyecto `proyecto_parte01.ipynb`**</span>. \n",
    "\n",
    "Después de haber enviado el punto de control, aún puedes cambiar tus respuestas del proyecto antes de la fecha límite final del proyecto; solo tu envío final, a la asignación \"Proyecto 1\", se calificará completo `project_parte01_02.ipynb`. \n",
    "\n",
    "**Compañeros.** Puedes trabajar con un compañero; tu compañero debe ser de tu sección de laboratorio asignada.  \n",
    "\n",
    "**Reglas.** No compartas tu código con nadie más que tu compañero. Puedes discutir las preguntas con otros estudiantes, pero no compartas las respuestas. La experiencia de resolver los problemas en este proyecto te preparará para los exámenes (y la vida). Si alguien te pide la respuesta, ¡resiste! En su lugar, puedes demostrar cómo resolverías un problema similar.\n",
    "\n",
    "**Pruebas.** <span style=\"color: #BC412B\">Las pruebas que se proporcionan **no son exhaustivas** y pasar las pruebas de una pregunta **no** significa que respondiste la pregunta correctamente.</span> Las pruebas generalmente solo verifican que tu tabla tenga las etiquetas de columnas correctas. Sin embargo, se aplicarán más pruebas para verificar la exactitud de tu envío con el fin de asignar tu puntuación final, así que ten cuidado y verifica tu trabajo. Podrías querer crear tus propias verificaciones a lo largo del camino para ver si tus respuestas tienen sentido. Además, antes de enviar, asegúrate de que ninguna de tus celdas tome mucho tiempo en ejecutarse (varios minutos).\n",
    "\n",
    "**Preguntas de respuesta libre:** Asegúrate de poner las respuestas a las preguntas escritas en la celda indicada que proporcionamos. **Cada pregunta de respuesta libre debe incluir una explicación** que responda adecuadamente a la pregunta.\n",
    "\n",
    "**Consejo.** Desarrolla tus respuestas de manera incremental. Para realizar una manipulación de tabla complicada, divídela en pasos, realiza cada paso en una línea diferente, da un nuevo nombre a cada resultado y verifica que cada resultado intermedio sea lo que esperas. Puedes agregar los nombres o funciones adicionales que desees en las celdas proporcionadas. Asegúrate de estar usando nombres de variables distintos y significativos en todo el cuaderno. En esa línea, **NO** reutilices los nombres de variables que usamos cuando calificamos tus respuestas. Por ejemplo, en la Pregunta 1 de la sección de Pobreza Global te pedimos que asignes una respuesta a `b_pop`. No reasignes el nombre de variable `b_pop` a nada más en tu cuaderno, de lo contrario existen posibilidades de que nuestras pruebas califiquen contra lo que `b_pop` fue reasignado. **Nunca** estás restringido a utilizar solo una línea de código para resolver una pregunta en este proyecto o en cualquier otro. ¡Siéntete libre de usar variables intermedias y múltiples líneas tanto como desees!\n",
    "\n",
    "Para comenzar, carga `datascience`, `numpy`, `plots` y `otter`."
   ]
  },
  {
   "cell_type": "code",
   "execution_count": null,
   "id": "4f2b904c",
   "metadata": {
    "deletable": true,
    "editable": true
   },
   "outputs": [],
   "source": [
    "# Run this cell to set up the notebook, but please don't change it.\n",
    "\n",
    "# These lines import the NumPy and Datascience modules.\n",
    "from datascience import *\n",
    "import numpy as np\n",
    "import pandas as pd\n",
    "# These lines do some fancy plotting magic.\n",
    "%matplotlib inline\n",
    "import matplotlib.pyplot as plots\n",
    "plots.style.use('fivethirtyeight')\n",
    "\n",
    "from ipywidgets import interact, interactive, fixed, interact_manual\n",
    "import ipywidgets as widgets"
   ]
  },
  {
   "cell_type": "markdown",
   "id": "6ba4ee21",
   "metadata": {},
   "source": [
    "_Type your answer here, replacing this text._"
   ]
  },
  {
   "cell_type": "code",
   "execution_count": null,
   "id": "88d9d358-0296-4521-a300-9e63873b5540",
   "metadata": {
    "tags": []
   },
   "outputs": [],
   "source": [
    "Nombre = \"...\"\n",
    "Carnet = \"...\""
   ]
  },
  {
   "cell_type": "markdown",
   "id": "abd30f60",
   "metadata": {
    "deletable": false,
    "editable": false
   },
   "source": [
    "<!-- END QUESTION -->\n",
    "\n",
    "## 1. Crecimiento de la Población Mundial"
   ]
  },
  {
   "cell_type": "markdown",
   "id": "f3fc3d5d",
   "metadata": {
    "deletable": true,
    "editable": true
   },
   "source": [
    "La población mundial de seres humanos alcanzó los 1000 millones alrededor del año 1800; 3000 millones alrededor de 1960, y 7000 millones alrededor de 2011. El impacto potencial del crecimiento exponencial de la población ha preocupado a científicos, economistas y políticos por igual. La División de Población de las Naciones Unidas, estima que es probable que la población mundial continúe creciendo a lo largo del siglo XXI, pero a un ritmo más lento, quizás alcanzando los 11000 millones para el año 2100. Sin embargo, la ONU no descarta escenarios de un crecimiento más extremo.<a href=\"http://www.pewresearch.org/fact-tank/2015/06/08/scientists-more-worried-than-public-about-worlds-growing-population/ft_15-06-04_popcount/\">  <img src=\"pew_population_projection.png\"/> </a>\n",
    "\n",
    "En esta parte del proyecto, examinaremos algunos de los factores que influyen en el crecimiento de la población y cómo han ido cambiando a lo largo de los años y en todo el mundo. Hay dos subpartes principales en este análisis.\n",
    "\n",
    "- Primero, examinaremos los datos de un país, Bangladesh. Veremos cómo han cambiado factores como la esperanza de vida, la tasa de fertilidad y la mortalidad infantil a lo largo del tiempo en Bangladesh, y cómo se relacionan con la tasa de crecimiento de la población.\n",
    "\n",
    "- A continuación, examinaremos si los cambios que hemos observado para Bangladesh son particulares de ese país o si reflejan patrones generales observables en otros países también. Estudiaremos aspectos del crecimiento de la población mundial y veremos cómo han estado cambiando.La primera tabla que consideraremos contiene la población total de cada país a lo largo del tiempo. Ejecuta la celda a continuación."
   ]
  },
  {
   "cell_type": "code",
   "execution_count": null,
   "id": "66c8e16a",
   "metadata": {
    "deletable": true,
    "editable": true,
    "scrolled": true
   },
   "outputs": [],
   "source": [
    "population = Table.read_table('population.csv').where(\"time\", are.below(2021))\n",
    "population.show(3)"
   ]
  },
  {
   "cell_type": "markdown",
   "id": "54f6d3af",
   "metadata": {
    "deletable": true,
    "editable": true
   },
   "source": [
    "**Nota:** El archivo csv de población también se puede encontrar [aquí](https://github.com/open-numbers/ddf--gapminder--gapminder_world/blob/master/ddf--datapoints--population_total--by--geo--time.csv). Los datos para este proyecto fueron descargados en febrero de 2017."
   ]
  },
  {
   "cell_type": "markdown",
   "id": "3cefe35d",
   "metadata": {
    "deletable": true,
    "editable": true
   },
   "source": [
    "### Bangladesh \n",
    "\n",
    "La nación de [Bangladesh](https://es.wikipedia.org/wiki/Bangladesh) se estableció como una democracia parlamentaria después de que terminara la Guerra de Liberación de Bangladesh en 1971. La nación naciente, devastada por la guerra, se enfrentó casi de inmediato a inundaciones y hambrunas.  En esta sección del proyecto, examinaremos aspectos del desarrollo de Bangladesh desde ese momento. En la tabla `población`, la columna `geo` contiene códigos de tres letras establecidos por la [Organización Internacional de Normalización](https://es.wikipedia.org/wiki/Organizaci%C3%B3n_Internacional_de_Normalizaci%C3%B3n) (ISO) en el estándar [Alpha-3](https://en.wikipedia.org/wiki/ISO_3166-1_alpha-3). Comenzaremos examinando de cerca a Bangladesh. Utiliza el enlace Alpha-3 para encontrar el código de tres letras para Bangladesh."
   ]
  },
  {
   "cell_type": "markdown",
   "id": "8dbbb818",
   "metadata": {
    "deletable": false,
    "editable": false
   },
   "source": [
    "**Pregunta 1.** Crea una tabla llamada `b_pop` que tenga dos columnas etiquetadas como `time` y `population_total` desde la información dada en la tabla `population.csv`. La primera columna debe contener los años desde 1970 hasta 2020 (incluyendo tanto 1970 como 2020) y la segunda debe contener la población de Bangladesh en cada uno de esos años."
   ]
  },
  {
   "cell_type": "code",
   "execution_count": null,
   "id": "03a6d95e",
   "metadata": {
    "tags": []
   },
   "outputs": [],
   "source": [
    "b_pop = ...\n",
    "b_pop"
   ]
  },
  {
   "cell_type": "code",
   "execution_count": null,
   "id": "5bdfe34a",
   "metadata": {
    "deletable": false,
    "editable": false
   },
   "outputs": [],
   "source": [
    "grader.check(\"q1\")"
   ]
  },
  {
   "cell_type": "markdown",
   "id": "36cbb298",
   "metadata": {
    "deletable": true,
    "editable": true
   },
   "source": [
    "Ejecuta la siguiente celda para crear una tabla llamada `b_five` que contenga la población de Bangladesh cada cinco años. A simple vista, ¡parece que la población de Bangladesh ha estado creciendo rápidamente!"
   ]
  },
  {
   "cell_type": "code",
   "execution_count": null,
   "id": "aac10900",
   "metadata": {
    "deletable": true,
    "editable": true
   },
   "outputs": [],
   "source": [
    "b_pop.set_format('population_total', NumberFormatter)\n",
    "fives = np.arange(1970, 2021, 5) # 1970, 1975, 1980, ...\n",
    "b_five = b_pop.sort('time').where('time', are.contained_in(fives))\n",
    "b_five.show()"
   ]
  },
  {
   "cell_type": "markdown",
   "id": "41283762",
   "metadata": {
    "deletable": false,
    "editable": false
   },
   "source": [
    "\n",
    "**Pregunta 2.** Asigna `initial` a un arreglo que contenga la población para cada intervalo de cinco años desde 1970 hasta 2015 (inclusive). Luego, asigna `changed` a un arreglo que contenga la población para cada intervalo de cinco años desde 1975 hasta 2020 (inclusive). El primer arreglo debe incluir tanto 1970 como 2015, y el segundo arreglo debe incluir tanto 1975 como 2020. Debes usar la tabla `b_five` para crear ambos arreglos, filtrando primero la tabla para que solo contenga los años relevantes. La tasa de crecimiento anual para un período de tiempo es igual a:$$\\left(\\left(\\frac{\\text{Población al final del período}}{\\text{Población al inicio del período}}\\right)^{\\displaystyle\\frac{1}{\\text{número de años}}}\\right) -1$$ \n",
    "\n",
    "Hemos proporcionado el siguiente código, que utiliza los arreglos `initial` y `changed` para construir la tabla `b_five_growth`. Esta tabla incluye una nueva columna llamada `annual_growth`, junto con las columnas originales de la tabla `b_five`.\n",
    "\n",
    "No te preocupes por el cálculo de las tasas de crecimiento; ejecuta la prueba a continuación para probar tu solución. Si estás interesado en cómo llegamos a la fórmula para las tasas de crecimiento, consulta la sección [tasas de crecimiento](https://inferentialthinking.com/chapters/03/2/1/Growth.html) del libro de texto."
   ]
  },
  {
   "cell_type": "code",
   "execution_count": null,
   "id": "d9eb5367",
   "metadata": {
    "tags": []
   },
   "outputs": [],
   "source": [
    "initial = ...\n",
    "changed = ...\n",
    "\n",
    "b_1970_through_2015 = b_five.where('time', are.below_or_equal_to(2015)) \n",
    "b_five_growth = b_1970_through_2015.with_column('annual_growth', (changed/initial)**0.2-1)\n",
    "b_five_growth.set_format('annual_growth', PercentFormatter)\n"
   ]
  },
  {
   "cell_type": "code",
   "execution_count": null,
   "id": "a98743d1",
   "metadata": {
    "deletable": false,
    "editable": false
   },
   "outputs": [],
   "source": [
    "grader.check(\"q2\")"
   ]
  },
  {
   "cell_type": "markdown",
   "id": "b30588e2",
   "metadata": {
    "deletable": true,
    "editable": true
   },
   "source": [
    "Mientras que la población ha crecido cada cinco años desde 1970, la tasa de crecimiento anual disminuyó drásticamente de 1985 a 2015. Veamos alguna otra información para desarrollar una posible explicación. Ejecuta la siguiente celda para cargar tres tablas adicionales de mediciones sobre países a lo largo del tiempo."
   ]
  },
  {
   "cell_type": "code",
   "execution_count": null,
   "id": "7d98bba0",
   "metadata": {
    "deletable": true,
    "editable": true
   },
   "outputs": [],
   "source": [
    "life_expectancy = Table.read_table('life_expectancy.csv').where('time', are.below(2021))\n",
    "child_mortality = Table.read_table('child_mortality.csv').relabel(2, 'child_mortality_under_5_per_1000_born').where('time', are.below(2021))\n",
    "fertility = Table.read_table('fertility.csv').where('time', are.below(2021))\n"
   ]
  },
  {
   "cell_type": "markdown",
   "id": "d684efe4",
   "metadata": {
    "deletable": true,
    "editable": true
   },
   "source": [
    "La tabla `life_expectancy` contiene una estadística que a menudo se utiliza para medir cuánto tiempo viven las personas, llamada *esperanza de vida al nacer*. Este número, para un país en un año dado, [no mide cuánto tiempo se espera que vivan los bebés nacidos ese año](http://blogs.worldbank.org/opendata/what-does-life-expectancy-birth-really-mean). En cambio, mide cuánto tiempo viviría alguien, en promedio, si las *condiciones de mortalidad* de ese año persistieran durante toda su vida. Estas \"condiciones de mortalidad\" describen qué fracción de personas de cada edad sobrevivió al año. Por lo tanto, es una forma de medir la proporción de personas que permanecen vivas, agregada en diferentes grupos de edad de la población."
   ]
  },
  {
   "cell_type": "markdown",
   "id": "801cace9",
   "metadata": {
    "deletable": true,
    "editable": true
   },
   "source": [
    "Ejecuta las siguientes celdas a continuación para ver `esperanza_de_vida`, `mortalidad_infantil` y `fertilidad`. Refiérete a estas tablas ya que serán útiles para responder preguntas adicionales."
   ]
  },
  {
   "cell_type": "code",
   "execution_count": null,
   "id": "2e38481d",
   "metadata": {
    "deletable": true,
    "editable": true
   },
   "outputs": [],
   "source": [
    "life_expectancy.show(3)"
   ]
  },
  {
   "cell_type": "code",
   "execution_count": null,
   "id": "f6a9bcf2",
   "metadata": {
    "deletable": true,
    "editable": true
   },
   "outputs": [],
   "source": [
    "child_mortality.show(3)"
   ]
  },
  {
   "cell_type": "code",
   "execution_count": null,
   "id": "d50df8f8",
   "metadata": {
    "deletable": true,
    "editable": true
   },
   "outputs": [],
   "source": [
    "fertility.show(3)"
   ]
  },
  {
   "cell_type": "markdown",
   "id": "a1d296f7",
   "metadata": {
    "deletable": false,
    "editable": false
   },
   "source": [
    "**Pregunta 3.** Tal vez la población está creciendo más lentamente porque las personas no viven tanto tiempo. Utiliza la tabla `life_expectancy` para dibujar un gráfico de líneas con los años 1970 y posteriores en el eje horizontal que muestre cómo ha cambiado la *esperanza de vida al nacer* en Bangladesh."
   ]
  },
  {
   "cell_type": "code",
   "execution_count": null,
   "id": "7cc3ed70",
   "metadata": {
    "tags": []
   },
   "outputs": [],
   "source": [
    "#Escribir el codigo \n",
    "..."
   ]
  },
  {
   "cell_type": "code",
   "execution_count": null,
   "id": "bcc9b6c0",
   "metadata": {
    "deletable": false,
    "editable": false
   },
   "outputs": [],
   "source": [
    "grader.check(\"q3\")"
   ]
  },
  {
   "attachments": {},
   "cell_type": "markdown",
   "id": "5e6c17d7",
   "metadata": {
    "deletable": false,
    "editable": false
   },
   "source": [
    "<!-- BEGIN QUESTION -->\n",
    "\n",
    "¿los cambios en la esperanza de vida como función del tiempo, (`life_expectancy_yer vs time`) mostrados en el gráfico anterior, explican directamente la disminución en la tasa de crecimiento poblacional en Bangladesh entre 1985 y 2015? Justifique su respuesta. \n",
    "\n",
    "Pista: Reflexiona sobre cómo los cambios en la esperanza de vida podrían o no estar relacionados con la tasa de crecimiento de la población. ¿Qué otros factores importantes podrían haber influido en esta disminución? Además, incorpora un análisis de los eventos significativos ocurridos en Bangladesh en 1991 y cómo pudieron haber impactado en la dinámica poblacional. Si utilizas información de fuentes externas, asegúrate de citarlas adecuadamente"
   ]
  },
  {
   "cell_type": "code",
   "execution_count": null,
   "id": "1cdd02bc",
   "metadata": {
    "tags": []
   },
   "outputs": [],
   "source": [
    "explicacion = \"Escribe tu respuesta aqui\""
   ]
  },
  {
   "cell_type": "markdown",
   "id": "dc6ddd56",
   "metadata": {
    "deletable": false,
    "editable": false
   },
   "source": [
    "<!-- END QUESTION -->\n",
    "\n",
    "La tabla `fertility.csv` contiene una estadística que a menudo se utiliza para medir cuántos bebés están naciendo, la *tasa de fecundidad total*. Este número describe el [número de hijos que tendría una mujer a lo largo de su vida](https://www.measureevaluation.org/prh/rh_indicators/specific/fertility/total-fertility-rate), en promedio, si las tasas actuales de nacimiento por edad de la madre se mantuvieran durante todos sus años fértiles, asumiendo que sobrevive hasta los 49 años."
   ]
  },
  {
   "cell_type": "markdown",
   "id": "e9d0c894",
   "metadata": {
    "deletable": false,
    "editable": false
   },
   "source": [
    "**Pregunta 5.** Completa la función `fertility_over_time`. Esta función debe recibir dos parámetros: el código [alfa-3](https://es.wikipedia.org/wiki/ISO_3166-1_alfa-3) de un país (`country_code`) y un año de `inicio`. La función debe devolver una tabla con dos columnas llamadas `Anio` y `Ninos_por_mujer`, que se pueda utilizar para crear una gráfica de líneas que muestre cómo ha cambiado la tasa de fecundidad en ese país desde el año de `inicio`.\n",
    "\n",
    "La tabla debe incluir el año de `inicio` y todos los años posteriores disponibles en la tabla `fertility`. Luego, determina el código alfa-3 para Bangladesh. Usando ese código y el año 1970, llama a tu función `fertility_over_time` para mostrar cómo ha cambiado la tasa de fecundidad en Bangladesh desde 1970. **No es necesario que la función `fertility_over_time` genere la gráfica, ya que el código para dibujarla se te proporciona; por favor, no lo modifiques.**"
   ]
  },
  {
   "cell_type": "code",
   "execution_count": null,
   "id": "0ddadceb",
   "metadata": {
    "tags": []
   },
   "outputs": [],
   "source": [
    "countries = Table.read_table('countries.csv')\n",
    "fertility = Table.read_table(\"fertility.csv\")\n",
    "\n",
    "def fertility_over_time(country_code, start):\n",
    "    country_fertility = ...\n",
    "    country_fertility_after_start = ...\n",
    "    cleaned_table = ...\n",
    "    ...\n",
    "    \n",
    "bangladesh_code = ...\n",
    "\n",
    "# No borre estas lineas de codigo \n",
    "fertility_1970_ = fertility_over_time(bangladesh_code, 1970)\n",
    "fertility_over_time(bangladesh_code, 1970).plot(0, 1)"
   ]
  },
  {
   "cell_type": "code",
   "execution_count": null,
   "id": "fa0e8539",
   "metadata": {
    "deletable": false,
    "editable": false
   },
   "outputs": [],
   "source": [
    "grader.check(\"q5\")"
   ]
  },
  {
   "attachments": {},
   "cell_type": "markdown",
   "id": "ab63a765",
   "metadata": {
    "deletable": false,
    "editable": false
   },
   "source": [
    "**Pregunta 6.** Asumiendo que todos los demás factores permanecen constantes, ¿las tendencias en fertilidad en el gráfico anterior ayudan a explicar directamente por qué la tasa de crecimiento de la población disminuyó de 1980 a 2020 en Bangladesh? ¿Por qué sí o por qué no?"
   ]
  },
  {
   "cell_type": "code",
   "execution_count": null,
   "id": "502fecf7",
   "metadata": {
    "tags": []
   },
   "outputs": [],
   "source": [
    "explicacion=\"Escribe tu respuesta aqui\""
   ]
  },
  {
   "cell_type": "markdown",
   "id": "d440941d",
   "metadata": {
    "deletable": true,
    "editable": true
   },
   "source": [
    "Se ha [observado](https://www.ageing.ox.ac.uk/download/143) que las tasas de fertilidad más bajas a menudo están asociadas con tasas de mortalidad infantil más bajas. Esta conexión se ha atribuido a la planificación familiar: si los padres pueden esperar que todos sus hijos sobrevivan hasta la adultez, entonces elegirán tener menos hijos. En la dirección inversa, tener menos hijos, puede permitir a las familias dedicar más recursos a cada niño, reduciendo así la mortalidad infantil. Podemos ver si esta asociación es evidente en Bangladesh, al graficar la relación entre la tasa de fertilidad total y la [tasa de mortalidad infantil por cada 1000 niños](https://es.wikipedia.org/wiki/Mortalidad_infantil)."
   ]
  },
  {
   "cell_type": "markdown",
   "id": "82fd1d87",
   "metadata": {
    "deletable": false,
    "editable": false
   },
   "source": [
    "**Pregunta 7.** Usando tanto las tablas `fertility` como `child_mortality`, dibuja un diagrama de dispersión que tenga la fertilidad total de Bangladesh en el eje horizontal y su mortalidad infantil en el eje vertical, con un punto para cada año, comenzando en 1970.\n",
    "\n",
    "**Se proporciona el código que dibuja el diagrama de dispersión; por favor, no lo cambies.** En su lugar, crea una tabla llamada `post_1969_fertility_and_child_mortality` con las etiquetas de columna y los datos apropiados para generar el gráfico correctamente. Utiliza la etiqueta `Ninos_por_mujer` para describir la fertilidad total y la etiqueta `Muertes_infantiles_por_1000_nacidos` para describir la mortalidad infantil.\n",
    "\n",
    "*Consejo*: No elimines la columna `time` o recibirás un error en el diagrama de dispersión en la siguiente celda."
   ]
  },
  {
   "cell_type": "code",
   "execution_count": null,
   "id": "0e42e436",
   "metadata": {
    "tags": []
   },
   "outputs": [],
   "source": [
    "fertility=Table().read_table(\"fertility.csv\")\n",
    "\n",
    "bgd_fertility = ...\n",
    "bgd_child_mortality = ...\n",
    "fertility_and_child_mortality = ...\n",
    "post_1969_fertility_and_child_mortality = ...\n",
    "\n",
    "# No cambiar las siguiente lineas de codigo por favor\n",
    "x_births = post_1969_fertility_and_child_mortality.column(\"Children per woman\")\n",
    "y_deaths = post_1969_fertility_and_child_mortality.column(\"Child deaths per 1000 born\")\n",
    "time_colors = post_1969_fertility_and_child_mortality.column(\"time\")\n",
    "\n",
    "plots.figure(figsize=(6,6))\n",
    "plots.scatter(x_births, y_deaths, c=time_colors, cmap=\"Blues_r\")\n",
    "plots.colorbar()                  \n",
    "plots.xlabel(\"Children per woman\")\n",
    "plots.ylabel(\"Child deaths per 1000 born\");"
   ]
  },
  {
   "cell_type": "code",
   "execution_count": null,
   "id": "13e1d9da",
   "metadata": {
    "deletable": false,
    "editable": false
   },
   "outputs": [],
   "source": [
    "grader.check(\"q7\")"
   ]
  },
  {
   "cell_type": "markdown",
   "id": "11e2020e",
   "metadata": {
    "deletable": true,
    "editable": true
   },
   "source": [
    "El gráfico anterior utiliza **color** para codificar datos sobre la columna `time` de la tabla `post_1969_fertility_and_child_mortality`. Los colores, que van desde azul oscuro hasta blanco, representan el paso del tiempo desde los años 1970 hasta los años 2020. Por ejemplo, un punto en el diagrama de dispersión que representa datos de los años 1970 aparecería como **azul oscuro**, y un punto de los años 2010 aparecería como **azul claro**."
   ]
  },
  {
   "cell_type": "markdown",
   "id": "9d91fb3d",
   "metadata": {
    "deletable": false,
    "editable": false
   },
   "source": [
    "<!-- BEGIN QUESTION -->\n",
    "\n",
    "**Pregunta 8.** En una o dos oraciones, describe la asociación (si la hay) que ilustra este diagrama de dispersión. ¿Muestra el diagrama que la reducción de la mortalidad infantil *causa* que los padres elijan tener menos hijos?"
   ]
  },
  {
   "cell_type": "code",
   "execution_count": null,
   "id": "69871742",
   "metadata": {
    "tags": []
   },
   "outputs": [],
   "source": [
    "descripcion=\"Escribe tu respuesta aqui\""
   ]
  },
  {
   "attachments": {},
   "cell_type": "markdown",
   "id": "bd742c15",
   "metadata": {
    "deletable": false,
    "editable": false
   },
   "source": [
    "<!-- END QUESTION -->\n",
    "\n",
    "### Punto de control \n",
    "\n",
    "(fecha límite: miércoles 23 a las 11:00 PM PT)\n",
    "\n",
    "<img src=\"harvey.png\" alt=\"Foto en primer plano de un golden retriever mirando a la cámara\" width=\"300\"/>\n",
    "\n",
    "\n",
    "**¡¡¡WOOOHOO!!!** \n",
    "\n",
    "¡Otto quiere felicitarte por alcanzar el punto de control! \n",
    "\n",
    "**Ejecuta las siguientes celdas y envía la tarea a la asignación en el correspondiente al punto de control: <u>Punto de control del Proyecto 1</u>****<span style=\"color: #BC412B\">"
   ]
  },
  {
   "cell_type": "markdown",
   "id": "a3f55ea8",
   "metadata": {
    "deletable": true,
    "editable": true
   },
   "source": [
    "Para verificar tu trabajo, la celda a continuación volverá a ejecutar todas las pruebas del autograder para la Sección 1."
   ]
  },
  {
   "cell_type": "code",
   "execution_count": null,
   "id": "5999fdfd",
   "metadata": {
    "deletable": true,
    "editable": true
   },
   "outputs": [],
   "source": [
    "checkpoint_tests = [\"q1\", \"q2\", \"q5\", \"q7\"]\n",
    "for test in checkpoint_tests:\n",
    "    display(grader.check(test))"
   ]
  },
  {
   "cell_type": "markdown",
   "id": "a87689e0",
   "metadata": {
    "deletable": true,
    "editable": true
   },
   "source": [
    "\n",
    "---\n",
    "\n",
    "¡Terminaste La primera parte del proyecto!\n",
    "\n",
    "**Información importante sobre el envío:**\n",
    "- **Ejecuta todas las pruebas** y verifica que todas pasan\n",
    "- **Guardar** desde el menú **Archivo**\n",
    "- **Ejecute la celda final **\n",
    "- Luego, ve a este [enlace](https://cienciadatosudea.github.io/001_SitioWebFundCienciaDatos/04entregas.html) y envía el archivo ipynb . El nombre de esta parte es \"Proyecto01_parte01 Autograder\",\n",
    "\n",
    "**Es su responsabilidad asegurarse de que su trabajo esté guardado antes de ejecutar la última celda.**\n",
    "\n",
    "`Referencia`: Este material esta basado en [Data 8: The Foundations of Data Science](https://www.data8.org/) - University of California, Berkeley.\n"
   ]
  },
  {
   "cell_type": "code",
   "execution_count": null,
   "id": "9dee1b26",
   "metadata": {
    "deletable": true,
    "editable": true
   },
   "outputs": [],
   "source": [
    "# Save your notebook first, then run this cell to export your submission.\n",
    "#grader.export(pdf=False)"
   ]
  },
  {
   "cell_type": "code",
   "execution_count": null,
   "id": "5200a518-c7a7-4738-8788-d13c6291e8be",
   "metadata": {},
   "outputs": [],
   "source": [
    "####======================================================"
   ]
  },
  {
   "cell_type": "markdown",
   "id": "d9f7e612",
   "metadata": {
    "deletable": true,
    "editable": true
   },
   "source": [
    "# Segunda parte del proyecto. \n",
    "El proximo Lunes, en el notebook `proyecto_parte01_parte02.ipynb` estarán todos los grader de las preguntas dadas más abajo.\n",
    "\n",
    "### El Mundo\n",
    "\n",
    "Los cambios observados en Polonia también se pueden observar en muchos otros países: excepto durante períodos de guerra prolongada, hambruna y caos social, los servicios de salud generalmente mejoran, la esperanza de vida aumenta y la mortalidad infantil disminuye. Al mismo tiempo, la tasa de fertilidad a menudo se desploma y, donde lo hace, la tasa de crecimiento de la población disminuye a pesar del aumento en la longevidad."
   ]
  },
  {
   "cell_type": "markdown",
   "id": "a8c0f477",
   "metadata": {
    "deletable": true,
    "editable": true
   },
   "source": [
    "Ejecuta la celda a continuación para generar dos histogramas superpuestos, uno para 1962 y otro para 2010, que muestran las distribuciones de las tasas de fertilidad total para estos dos años entre los 201 países en la tabla `fertility`."
   ]
  },
  {
   "cell_type": "code",
   "execution_count": null,
   "id": "ba4da3e0",
   "metadata": {
    "deletable": true,
    "editable": true
   },
   "outputs": [],
   "source": [
    "Table().with_columns(\n",
    "    '1962', fertility.where('time', 1962).column(2),\n",
    "    '2010', fertility.where('time', 2010).column(2)\n",
    ").hist(bins=np.arange(0, 10, 0.5), unit='child per woman')\n",
    "_ = plots.xlabel('Children per woman')\n",
    "_ = plots.ylabel('Percent per children per woman')\n",
    "_ = plots.xticks(np.arange(10))"
   ]
  },
  {
   "cell_type": "markdown",
   "id": "cc6b48fc-6bf1-41f5-91c8-4088a3e8f26f",
   "metadata": {},
   "source": [
    "\n",
    "- Eje X : El eje X está etiquetado como \"Children per woman\", es decir, el número de hijos por mujer. Indica el número promedio de hijos que una mujer tendría en su vida en cada país, que esta relacionado con la tasa de fertilidad, que se refiere generalmente a la cantidad promedio de hijos por mujer en un país.\n",
    "\n",
    "\n",
    "- Eje Y : El eje Y está etiquetado como \"Percent per children per woman\", Indica el porcentaje de países que tienen ese número específico de hijos por mujer, para los años 1962 y 2010.\n"
   ]
  },
  {
   "cell_type": "markdown",
   "id": "f71211d2",
   "metadata": {
    "deletable": true,
    "editable": true
   },
   "source": [
    "**Pregunta 9.** Observa los dos histogramas que comparan las tasas de fertilidad de los países en 1962 y 2010. A continuación, se proporcionan varias afirmaciones que podrían inferirse de estos gráficos.\n",
    "Tu tarea es asignar a `fertility_statements` un arreglo que contenga los números de las afirmaciones que se pueden inferir correctamente a partir de los histogramas.\n",
    "Ejemplo: Si las afirmaciones correctas son la 1, la 3 y la 5, entonces el arreglo se puede definir así:\n",
    "\n",
    "`fertility_statements = [1, 3, 5]`\n",
    "\n",
    "Estas son las afirmaciones:\n",
    "\n",
    "1. Aproximadamente el mismo número de países tuvo una tasa de fertilidad entre 3.5 y 4.5, tanto en 1962 como en 2010.\n",
    "\n",
    "2. En 1962, menos del 20% de los países tenían una tasa de fertilidad inferior a 3.\n",
    "\n",
    "3.  Al menos la mitad de los países tuvieron una tasa de fertilidad entre 5 y 8 en 1962.\n",
    "\n",
    "4. En 2010, alrededor del 40% de los países tenían una tasa de fertilidad entre 1.5 y 2.\n",
    "\n",
    "5.  Al menos la mitad de los países tuvieron una tasa de fertilidad inferior a 3 en 2010.\n",
    "\n",
    "6. Más países tenían una tasa de fertilidad superior a 3 en 1962 que en 2010."
   ]
  },
  {
   "cell_type": "markdown",
   "id": "25f3fb11",
   "metadata": {
    "deletable": true,
    "editable": true
   },
   "source": [
    "**Pregunta 10.** Dibuja un gráfico de líneas de la **población mundial** desde 1800 hasta 2020 (inclusive de ambos extremos). La población mundial es la suma de las poblaciones de todos los países. Debes usar la tabla `population` definida anteriormente en el proyecto."
   ]
  },
  {
   "attachments": {},
   "cell_type": "markdown",
   "id": "395aae59",
   "metadata": {
    "deletable": true,
    "editable": true
   },
   "source": [
    "**Pregunta 11.** Crea una función `stats_for_year` que tome un `year` (año) como argumento y devuelva una tabla de estadísticas. La tabla que devuelva debe tener cuatro columnas: `geo` (geografía), `population_total` (población total), `children_per_woman_total_fertility` (número de hijos por mujer - tasa de fecundidad total), y `child_mortality_under_5_per_1000_born` (mortalidad infantil bajo los 5 años por cada 1000 nacidos). Cada fila debe contener un código de país único en formato Alpha-3 y tres estadísticas: población, tasa de fecundidad y mortalidad infantil para ese `year` (año) de las tablas `population` (población), `fertility` (fecundidad) y `child_mortality` (mortalidad infantil). Solo incluye filas para las cuales las tres estadísticas estén disponibles para el país y año.Además, restringe el resultado a los códigos de país que aparecen en `big_50`, un arreglo de los 50 países más poblados en 2020. Esta restricción acelerará los cálculos más adelante en el proyecto.Después de escribir `stats_for_year`, intenta llamar a `stats_for_year` en cualquier año entre 1960 y 2020. Trata de entender el resultado de `stats_for_year`.\n",
    "\n",
    "\n",
    "*Pista*: Las pruebas para esta pregunta son bastante completas, así que si pasas las pruebas, tu función probablemente sea correcta. Sin embargo, sin llamar a tu función tú mismo y observar el resultado, será muy difícil entender cualquier problema que tengas, así que haz tu mejor esfuerzo para escribir la función correctamente y verifica que funcione antes de confiar en las pruebas del `grader` para confirmar tu trabajo.*Pista*: ¿Qué tienen en común las tres tablas (presta atención a los nombres de las columnas)?*Pista*: Crea celdas adicionales antes de escribir directamente la función."
   ]
  },
  {
   "cell_type": "markdown",
   "id": "1badb939",
   "metadata": {
    "deletable": true,
    "editable": true
   },
   "source": [
    "**Pregunta 12.** Crea una tabla llamada `pop_por_decada` con dos columnas: `decada` y `poblacion`, en ese orden. La tabla debe tener una fila para cada año que inicia una década, en orden ascendente desde 1960 hasta 2020. Por ejemplo, 1960 marca el comienzo de la década de los 60. La columna `poblacion` debe contener la población total de todos los países incluidos en el resultado de `stats_for_year(year)` para el primer año de cada década. Deberías notar que estos países representan la mayor parte de la población mundial.\n",
    "\n",
    "**Consejo:** Un enfoque útil sería definir una función llamada `poblacion_para_ano` que calcule la población total, y luego aplicar esa función a la columna `decada`. **Piensa en cómo podrías usar la función `stats_for_year`** de la pregunta anterior si decides implementar `poblacion_para_ano`. Esta primera prueba es simplemente una verificación de coherencia para tu función auxiliar si decides utilizarla. **No perderás puntos por no implementar la función `poblacion_para_ano`.**\n",
    "\n",
    "**Nota:** La celda en la que generarás la tabla `pop_por_decada` está justo debajo de la celda donde puedes optar por definir la función auxiliar `poblacion_para_ano`. Debes definir tu tabla `pop_por_decada` en la celda que comienza con la tabla `decadas` ya definida.\n"
   ]
  },
  {
   "cell_type": "markdown",
   "id": "83df18b2",
   "metadata": {
    "deletable": true,
    "editable": true
   },
   "source": [
    "Ahora que has definido tu función auxiliar (si has decidido hacerlo), define la tabla `pop_by_decade`."
   ]
  },
  {
   "cell_type": "markdown",
   "id": "63425bb1",
   "metadata": {
    "deletable": true,
    "editable": true
   },
   "source": [
    "La tabla `countries` describe diversas características de los países. La columna `country` contiene los mismos códigos que la columna `geo` en cada una de las otras tablas de datos (`population`, `fertility` y `child_mortality`). La columna `world_6region` clasifica a cada país en una región del mundo. Ejecuta la celda de abajo para inspeccionar los datos."
   ]
  },
  {
   "cell_type": "code",
   "execution_count": null,
   "id": "c131a9c2",
   "metadata": {
    "deletable": true,
    "editable": true
   },
   "outputs": [],
   "source": [
    "countries = Table.read_table('countries.csv').where('country', are.contained_in(population.group('geo').column('geo')))\n",
    "countries.select('country', 'name', 'world_6region')"
   ]
  },
  {
   "cell_type": "markdown",
   "id": "ff481800",
   "metadata": {
    "deletable": true,
    "editable": true
   },
   "source": [
    "**Pregunta 13.** Crea una tabla llamada `region_counts`. Debe contener dos columnas llamadas `region` y `count`. La columna `region` debe contener las regiones del mundo, y la columna `count` debe contener el número de países en cada región que aparece en el resultado de `stats_for_year(2020)`.Por ejemplo, una fila tendría `south_asia` como su valor de `region` y un número entero como su valor de `count`: la cantidad de países grandes de Asia del Sur para los cuales tenemos cifras de población, fertilidad y mortalidad infantil del año 2020.*Sugerencia*: Es posible que tengas que renombrar una columna para llamarla `region`."
   ]
  },
  {
   "cell_type": "markdown",
   "id": "89aec438",
   "metadata": {
    "deletable": true,
    "editable": true
   },
   "source": [
    "El siguiente diagrama de dispersión compara la tasa de fecundidad total y la tasa de mortalidad infantil para cada país en 1960. El área de cada punto representa la población del país, y el color representa su región del mundo. Ejecuta la celda. ¿Crees que puedes identificar alguno de los puntos?"
   ]
  },
  {
   "cell_type": "code",
   "execution_count": null,
   "id": "71e66323",
   "metadata": {
    "deletable": true,
    "editable": true
   },
   "outputs": [],
   "source": [
    "from functools import lru_cache as cache\n",
    "\n",
    "# This cache annotation makes sure that if the same year\n",
    "# is passed as an argument twice, the work of computing\n",
    "# the result is only carried out once.\n",
    "@cache(None)\n",
    "def stats_relabeled(year):\n",
    "    \"\"\"Relabeled and cached version of stats_for_year.\"\"\"\n",
    "    return stats_for_year(year).relabel(2, 'Children per woman').relabel(3, 'Child deaths per 1000 born')\n",
    "\n",
    "def fertility_vs_child_mortality(year):\n",
    "    \"\"\"Draw a color scatter diagram comparing child mortality and fertility.\"\"\"\n",
    "    with_region = stats_relabeled(year).join('geo', countries.select('country', 'world_6region'), 'country')\n",
    "    with_region.scatter(2, 3, sizes=1, group=4, s=500)\n",
    "    plots.xlim(0,10)\n",
    "    plots.ylim(-50, 500)\n",
    "    plots.title(year)\n",
    "    plots.show()\n",
    "\n",
    "fertility_vs_child_mortality(1960)"
   ]
  },
  {
   "cell_type": "markdown",
   "id": "7768e5ca",
   "metadata": {
    "deletable": true,
    "editable": true
   },
   "source": [
    "**Pregunta 14.** Asigna `scatter_statements` a un arreglo con los números de cada una de las afirmaciones que se pueden inferir de este diagrama de dispersión para 1960.1. Todos los países en `europa_central_asia` tenían tasas de fertilidad uniformemente bajas.1. La tasa de mortalidad infantil más baja de cualquier país era de un país de `asia_oriental_pacífico`.1. La mayoría de los países tenía una tasa de fertilidad superior a 5.1. Había una asociación entre la mortalidad infantil y la fertilidad.1. Los dos países más grandes por población también tenían las dos tasas de mortalidad infantil más altas."
   ]
  },
  {
   "cell_type": "markdown",
   "id": "f055e7fb",
   "metadata": {
    "deletable": true,
    "editable": true
   },
   "source": [
    "El resultado de la celda a continuación es interactivo. Arrastra el deslizador hacia la derecha para ver cómo han cambiado los países a lo largo del tiempo. Descubrirás que, en términos de crecimiento poblacional, la división entre los países del Norte global y el Sur global que existía en los años 1960 se ha reducido significativamente.Este cambio en las tasas de fertilidad es la razón por la cual se espera que la población global crezca más lentamente en el siglo XXI de lo que lo hizo en los siglos XIX y XX. Las tasas de fertilidad cambian por razones que incluyen patrones culturales, mejores perspectivas de supervivencia infantil hasta la adultez y la planificación familiar (como el uso de anticonceptivos y el mayor control de las mujeres sobre su reproducción).**Nota:** No te preocupes si aparece una advertencia roja al ejecutar la celda a continuación. ¡Aún podrás ejecutarla!"
   ]
  },
  {
   "cell_type": "markdown",
   "id": "aa1e25eb",
   "metadata": {
    "deletable": true,
    "editable": true
   },
   "source": [
    "Ahora es un buen momento para tomar un descanso y ver los mismos datos presentados por [Hans Rosling en una charla TEDx de 2010](https://www.gapminder.org/videos/reducing-child-mortality-a-moral-and-environmental-imperative) con una animación más suave y un comentario ingenioso."
   ]
  },
  {
   "cell_type": "markdown",
   "id": "b85ee9e0",
   "metadata": {
    "deletable": true,
    "editable": true
   },
   "source": [
    "Cuando analizamos la población y la fertilidad como científicos de datos, necesitamos aprender sobre las experiencias de las personas en la vida real, no solo de forma abstracta como datos. También debemos reconocer que los estudios de población a veces han tenido trasfondos políticos. Estos trasfondos han incluido el control de la población, el control de la reproducción de las mujeres o temores de cambios entre grupos raciales. Para mejorar como científicos de datos, debemos revisar nuestras suposiciones para evitar reproducir sin pensar patrones del pasado."
   ]
  },
  {
   "cell_type": "markdown",
   "id": "25c07c0d",
   "metadata": {
    "deletable": true,
    "editable": true
   },
   "source": [
    "## 2. Pobreza Global"
   ]
  },
  {
   "cell_type": "markdown",
   "id": "08f5254d",
   "metadata": {
    "deletable": true,
    "editable": true
   },
   "source": [
    "En 1800, el 85% de los 1,000 millones de personas en el mundo vivían en [pobreza extrema](https://en.wikipedia.org/wiki/Extreme_poverty), definida por las Naciones Unidas como \"una condición caracterizada por una grave privación de las necesidades humanas básicas, incluyendo alimentos, agua potable segura, instalaciones sanitarias, salud, refugio, educación e información\". En el momento en que se recopilaron los datos para este proyecto, una definición común de pobreza extrema era una persona viviendo con menos de \\$1.25 al día.En 2018, se estimó que la proporción de personas viviendo en pobreza extrema era de [aproximadamente el 9%](https://unstats.un.org/sdgs/report/2019/goal-01/). Aunque la tasa mundial de pobreza extrema ha disminuido consistentemente durante cientos de años, el número de personas que viven en pobreza extrema todavía supera los 600 millones. Las Naciones Unidas adoptaron un [objetivo ambicioso](http://www.un.org/sustainabledevelopment/poverty/): \"Para 2030, erradicar la pobreza extrema para todas las personas en todas partes\".En esta parte del proyecto, examinaremos algunos aspectos de la pobreza global que podrían afectar si el objetivo es alcanzable. Las causas de la pobreza son complejas. Incluyen historias globales, como el colonialismo, así como factores tales como la atención sanitaria, la economía y la desigualdad social en cada país."
   ]
  },
  {
   "cell_type": "markdown",
   "id": "6b6b69a2",
   "metadata": {
    "deletable": true,
    "editable": true
   },
   "source": [
    "Primero, carga la población y la tasa de pobreza por país y año, así como las descripciones de los países. Mientras que la tabla de `población` tiene valores para cada año reciente para muchos países, la tabla de `pobreza` solo incluye ciertos años para cada país en los cuales se disponía de una medición de la tasa de pobreza extrema."
   ]
  },
  {
   "cell_type": "markdown",
   "id": "626c5f02",
   "metadata": {
    "deletable": true,
    "editable": true
   },
   "source": [
    "**Pregunta 1.** Asigna `latest_poverty` a una tabla de tres columnas con una fila para cada país que aparece en la tabla `poverty`. La primera columna debe contener el código de 3 letras del país. La segunda columna debe contener el año más reciente para el cual está disponible una tasa de pobreza extrema para el país. La tercera columna debe contener la tasa de pobreza en ese año. **No cambies la última línea, para que las etiquetas de tu tabla se establezcan correctamente.***Pista*: piensa en cómo funciona `group`: realiza una búsqueda secuencial de la tabla (de arriba hacia abajo) y recopila valores en el arreglo en el orden en que aparecen, y luego aplica una función a ese arreglo. La función `first` puede ser útil, pero no estás obligado a usarla."
   ]
  },
  {
   "cell_type": "markdown",
   "id": "ea5d57db",
   "metadata": {
    "deletable": true,
    "editable": true
   },
   "source": [
    "**Pregunta 2.** Usando tanto `latest_poverty` como `population`, crea una tabla de cuatro columnas llamada `recent_poverty_total` con una fila para cada país en `latest_poverty`. Las cuatro columnas deben tener las siguientes etiquetas y contenidos:1. `geo` contiene el código de país de 3 letras,2. `poverty_percent` contiene el porcentaje de pobreza más reciente,3. `population_total` contiene la población del país en 2010,4. `poverty_total` contiene el número de personas en situación de pobreza **redondeado al número entero más cercano**, basado en la población de 2010 y el porcentaje de pobreza más reciente.*Pista*: No estás obligado a usar `poverty_and_pop`, y siempre eres bienvenido a agregar cualquier nombre adicional."
   ]
  },
  {
   "cell_type": "markdown",
   "id": "5195a63b",
   "metadata": {
    "deletable": true,
    "editable": true
   },
   "source": [
    "**Pregunta 3.** Asigna el nombre `poverty_percent` al porcentaje conocido de la población mundial en 2010 que vivía en extrema pobreza. Supón que los números de `poverty_total` en la tabla `recent_poverty_total` describen a **todas** las personas en 2010 que vivían en extrema pobreza. Deberías obtener un número que esté por encima de la estimación global de 2018 del 9%, ya que muchas de las tasas de pobreza específicas de los países son anteriores a 2018.*Pista*: La suma de la columna `population_total` en la tabla `recent_poverty_total` no es la población mundial, porque solo un subconjunto de los países del mundo están incluidos en la tabla `recent_poverty_total` (solo algunos países tienen tasas de pobreza conocidas). Utiliza la tabla `population` para calcular la población total mundial de 2010.*Pista*: Estamos calculando un porcentaje (valor entre 0 y 100), no una proporción (valor entre 0 y 1)."
   ]
  },
  {
   "cell_type": "markdown",
   "id": "80961019",
   "metadata": {
    "deletable": true,
    "editable": true
   },
   "source": [
    "La tabla `countries` incluye no solo el nombre y la región de los países, sino también sus posiciones en el globo terráqueo."
   ]
  },
  {
   "cell_type": "code",
   "execution_count": null,
   "id": "c2181fb4",
   "metadata": {
    "deletable": true,
    "editable": true
   },
   "outputs": [],
   "source": [
    "countries.select('country', 'name', 'world_4region', 'latitude', 'longitude')"
   ]
  },
  {
   "cell_type": "markdown",
   "id": "89e04faa",
   "metadata": {
    "deletable": true,
    "editable": true
   },
   "source": [
    "**Pregunta 4.** Usando tanto `countries` como `recent_poverty_total`, crea una tabla llamada `poverty_map` con cinco columnas y una fila para cada país en `recent_poverty_total`. Las cinco columnas deben tener las siguientes etiquetas y contenidos, en este orden:1. `latitude` contiene la latitud del país,2. `longitude` contiene la longitud del país,3. `name` contiene el nombre del país,4. `region` contiene la región del país desde la columna `world_4region` de `countries`,5. `poverty_total` contiene el total de pobreza del país."
   ]
  },
  {
   "cell_type": "markdown",
   "id": "9beacdb7",
   "metadata": {
    "deletable": true,
    "editable": true
   },
   "source": [
    "Ejecuta la celda a continuación para dibujar un mapa del mundo en el que las áreas de los círculos representan el número de personas que viven en la pobreza extrema. Haz doble clic en el mapa para acercarte.> **Nota:** Si la celda a continuación no se está cargando, puedes ver el resultado [aquí](https://github.jonathanferrari.com/static/poverty_map.html)"
   ]
  },
  {
   "cell_type": "code",
   "execution_count": null,
   "id": "89aca81a",
   "metadata": {
    "deletable": true,
    "editable": true,
    "scrolled": true
   },
   "outputs": [],
   "source": [
    "# It may take a few seconds to generate this map.\n",
    "colors = {'africa': 'blue', 'europe': 'black', 'asia': 'red', 'americas': 'green'}\n",
    "scaled = poverty_map.with_columns(\n",
    "    'labels', poverty_map.column('name'),\n",
    "    'colors', poverty_map.apply(colors.get, 'region'),\n",
    "    'areas', 1e-4 * poverty_map.column('poverty_total')\n",
    ").drop('name', 'region', 'poverty_total')\n",
    "\n",
    "Circle.map_table(scaled)"
   ]
  },
  {
   "cell_type": "markdown",
   "id": "989194e7",
   "metadata": {
    "deletable": true,
    "editable": true
   },
   "source": [
    "Aunque en 2010 las personas vivían en la pobreza extrema en todo el mundo (con más de 5 millones en los Estados Unidos), la mayor cantidad se encontraba en Asia y África."
   ]
  },
  {
   "cell_type": "markdown",
   "id": "b01f1390",
   "metadata": {
    "deletable": true,
    "editable": true
   },
   "source": [
    "**Pregunta 5.** Asigna `largest` a una tabla de dos columnas con el `nombre` (no el código de 3 letras) y `pobreza_total` de los 10 países con el mayor número de personas viviendo en extrema pobreza.*Pista*: ¿Cómo podemos usar `take` y `np.arange` en conjunto?"
   ]
  },
  {
   "cell_type": "markdown",
   "id": "e4ff612c",
   "metadata": {
    "deletable": true,
    "editable": true
   },
   "source": [
    "**Pregunta 6.** Es importante estudiar el número absoluto de personas que viven en pobreza, no solo el porcentaje. El número absoluto es un factor importante para determinar la cantidad de recursos necesarios para apoyar a las personas que viven en pobreza. En las próximas dos preguntas explorarás esto.En la Pregunta 7, se te pedirá que escribas una función llamada `poverty_timeline` que tome **el nombre de un país** como argumento (no el código de país Alpha-3). Deberá dibujar un gráfico de líneas del número de personas viviendo en pobreza en ese país, con el tiempo en el eje horizontal. El gráfico de líneas debe tener un punto por cada fila en la tabla `poverty` para ese país. Para calcular la población viviendo en pobreza a partir de un porcentaje de pobreza, multiplica por la población del país **en ese año**.Para esta pregunta, escribe un proceso generalizado para la Pregunta 7. ¿Qué debería producir esta función y qué pasos tomarás dentro de la función?"
   ]
  },
  {
   "cell_type": "markdown",
   "id": "2d4ee482",
   "metadata": {
    "deletable": true,
    "editable": true
   },
   "source": [
    "**Pregunta 7.** Ahora, escribiremos la función llamada `poverty_timeline`. Recuerda que `poverty_timeline` toma **el nombre de un país** como su argumento (no el código de país Alpha-3). Debería dibujar un gráfico de líneas del número de personas que viven en pobreza en ese país con el tiempo en el eje horizontal. El gráfico de líneas debe tener un punto por cada fila en la tabla `poverty` para ese país. Para calcular la población que vive en pobreza a partir de un porcentaje de pobreza, multiplica por la población del país **en ese año**.**Nota:** **No deberías** devolver nada de tu función. Simplemente llama a `plots.show()` al final del cuerpo de tu función.*Pista 1:* Esta pregunta es larga. Siéntete libre de crear celdas y experimentar. Puedes crear celdas yendo a la barra de herramientas y presionando el botón `+`.*Pista 2:* Considera usar `join` en tu código.Siéntete libre de usar la celda de markdown a continuación para planear tu respuesta, pero no es necesario completarla."
   ]
  },
  {
   "cell_type": "markdown",
   "id": "78a44d72",
   "metadata": {
    "deletable": true,
    "editable": true
   },
   "source": [
    "Aunque el número de personas que viven en extrema pobreza ha aumentado en algunos países, incluidos Nigeria y Estados Unidos, las disminuciones en otros países, especialmente las disminuciones masivas en China e India, han configurado la tendencia general de que la pobreza extrema está disminuyendo en todo el mundo, tanto en porcentaje como en número absoluto.Para aprender más, mira [Hans Rosling en una película de 2015](https://www.gapminder.org/videos/dont-panic-end-poverty/) sobre el objetivo de la ONU de erradicar la pobreza extrema del mundo.A continuación, hemos añadido un menú desplegable interactivo para que puedas visualizar gráficos de la `línea de tiempo de pobreza` para otros países. Ten en cuenta que cada selección del menú desplegable puede tardar unos segundos en ejecutarse."
   ]
  },
  {
   "cell_type": "markdown",
   "id": "1901a84b",
   "metadata": {
    "deletable": true,
    "editable": true
   },
   "source": [
    "**Panda quiere decirte, ¡has terminado!** Felicitaciones por descubrir muchos hechos importantes sobre la pobreza global y demostrar tu dominio en la manipulación de tablas y visualización de datos. Es momento de enviar tu trabajo.**<span style=\"color: #BC412B\">"
   ]
  },
  {
   "cell_type": "markdown",
   "id": "99801c42",
   "metadata": {
    "deletable": false,
    "editable": false
   },
   "source": [
    "## Submission\n",
    "\n",
    "Make sure you have run all cells in your notebook in order before running the cell below, so that all images/graphs appear in the output. The cell below will generate a zip file for you to submit. **Please save before exporting!**\n",
    "\n",
    "These are some submission instructions."
   ]
  },
  {
   "cell_type": "code",
   "execution_count": null,
   "id": "93aebc25",
   "metadata": {
    "deletable": false,
    "editable": false
   },
   "outputs": [],
   "source": [
    "# Save your notebook first, then run this cell to export your submission.\n",
    "grader.export(run_tests=True)"
   ]
  },
  {
   "cell_type": "markdown",
   "id": "46b723ce",
   "metadata": {},
   "source": [
    " "
   ]
  }
 ],
 "metadata": {
  "kernelspec": {
   "display_name": "Python 3 (ipykernel)",
   "language": "python",
   "name": "python3"
  },
  "language_info": {
   "codemirror_mode": {
    "name": "ipython",
    "version": 3
   },
   "file_extension": ".py",
   "mimetype": "text/x-python",
   "name": "python",
   "nbconvert_exporter": "python",
   "pygments_lexer": "ipython3",
   "version": "3.10.14"
  },
  "otter": {
   "OK_FORMAT": true,
   "assignment_name": "proyecto01",
   "tests": {
    "q1": {
     "name": "q1",
     "points": 1,
     "suites": [
      {
       "cases": [
        {
         "code": ">>> import pandas as pd\n>>> assert b_pop.to_df().time.mean() == 1995\n>>> assert np.isclose(b_pop.to_df().population_total.mean(), 114373388.50980392, 0.001)\n>>> assert 'time' in b_pop.labels, \"La columna 'time' no está presente en b_pop.\"\n>>> assert 'population_total' in b_pop.labels, \"La columna 'population_total' no está presente en b_pop.\"\n",
         "hidden": false,
         "locked": false
        }
       ],
       "scored": true,
       "setup": "",
       "teardown": "",
       "type": "doctest"
      }
     ]
    },
    "q2": {
     "name": "q2",
     "points": 1,
     "suites": [
      {
       "cases": [
        {
         "code": ">>> import pandas as pd\n>>> assert np.isclose(b_five_growth.to_df().time.mean(), 1992.5, 0.001)\n>>> assert np.isclose(b_five_growth.to_df().population_total.mean(), 109356945.1, 0.001)\n>>> assert np.isclose(b_five_growth.to_df().annual_growth[0], 0.01753862351142521, 0.001)\n>>> assert 'time' in b_five_growth.labels, \"La columna 'time' no está presente en b_pop.\"\n>>> assert 'population_total' in b_five_growth.labels, \"La columna 'population_total' no está presente en b_pop.\"\n",
         "hidden": false,
         "locked": false
        }
       ],
       "scored": true,
       "setup": "",
       "teardown": "",
       "type": "doctest"
      }
     ]
    },
    "q3": {
     "name": "q3",
     "points": 1,
     "suites": [
      {
       "cases": [
        {
         "code": ">>> assert np.isclose(bangladesh_life_expectancy.to_df().time.mean(), 2035.0, 1e-06)\n>>> assert np.isclose(bangladesh_life_expectancy.to_df().life_expectancy_years.mean(), 74.0656822, 1e-06)\n>>> assert 'geo' in bangladesh_life_expectancy.labels, \"La columna 'geo' no esta presente\"\n>>> assert 'time' in bangladesh_life_expectancy.labels, 'La columna time no esta presente'\n",
         "hidden": false,
         "locked": false
        }
       ],
       "scored": true,
       "setup": "",
       "teardown": "",
       "type": "doctest"
      }
     ]
    },
    "q5": {
     "name": "q5",
     "points": 1,
     "suites": [
      {
       "cases": [
        {
         "code": ">>> assert 'Anio' in fertility_1970_.labels, \"La columna 'Anio' no esta presente\"\n>>> assert 'Ninos_por_mujer' in fertility_1970_.labels, 'La columna Ninos_por_mujer no esta presente'\n>>> assert bangladesh_code == 'bgd'\n>>> assert np.isclose(fertility_1970_.to_df().Anio.mean(), 2035.0, 0.1)\n>>> assert np.isclose(fertility_1970_.to_df().Ninos_por_mujer.mean(), 2.6768708, 0.001)\n",
         "hidden": false,
         "locked": false
        }
       ],
       "scored": true,
       "setup": "",
       "teardown": "",
       "type": "doctest"
      }
     ]
    },
    "q7": {
     "name": "q7",
     "points": 1,
     "suites": [
      {
       "cases": [
        {
         "code": ">>> assert 'Ninos_por_mujer' in post_1969_fertility_and_child_mortality.labels, \"La columna 'Ninos_por_mujer' no esta presente\"\n>>> assert 'Muertes_infantiles_por_1000_nacidos' in post_1969_fertility_and_child_mortality.labels, \"La columna 'Muertes_infantiles_por_1000_nacidos' no esta presente\"\n>>> assert 'Anios' in post_1969_fertility_and_child_mortality, \"La columna 'Anio' no esta presente\"\n>>> assert np.isclose(time_colors.mean(), 1995.0, 1e-06)\n>>> assert np.isclose(y_deaths.mean(), 121.15352941176468, 0.01)\n>>> assert np.isclose(x_births.mean(), 4.166274509803921, 1e-06)\n",
         "hidden": false,
         "locked": false
        }
       ],
       "scored": true,
       "setup": "",
       "teardown": "",
       "type": "doctest"
      }
     ]
    }
   }
  }
 },
 "nbformat": 4,
 "nbformat_minor": 5
}
