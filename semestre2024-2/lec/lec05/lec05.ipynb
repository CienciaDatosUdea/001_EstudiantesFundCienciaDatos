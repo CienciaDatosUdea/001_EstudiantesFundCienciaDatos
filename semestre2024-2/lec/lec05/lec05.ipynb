{
 "cells": [
  {
   "cell_type": "markdown",
   "id": "6b9f3291-984a-4a3f-b4df-202bf0992f91",
   "metadata": {},
   "source": [
    "# Repaso\n",
    "\n",
    "\n",
    "\n",
    "## Arreglos"
   ]
  },
  {
   "cell_type": "code",
   "execution_count": 10,
   "id": "3b1fa7a6-2fd4-42ab-ae2a-abb887afb6d9",
   "metadata": {},
   "outputs": [],
   "source": [
    "from datascience import *\n",
    "import numpy as np"
   ]
  },
  {
   "cell_type": "code",
   "execution_count": 11,
   "id": "9f259b33-f97b-452e-95c3-390fcf4d16f9",
   "metadata": {},
   "outputs": [
    {
     "data": {
      "text/plain": [
       "array([1, 2, 2, 3])"
      ]
     },
     "execution_count": 11,
     "metadata": {},
     "output_type": "execute_result"
    }
   ],
   "source": [
    "make_array(1, 2,2, 3 )"
   ]
  },
  {
   "cell_type": "code",
   "execution_count": 12,
   "id": "e1bc3a81-9503-41ab-ae29-485e7412bec9",
   "metadata": {},
   "outputs": [],
   "source": [
    "q = make_array(\"hola\", \"mundo\")"
   ]
  },
  {
   "cell_type": "markdown",
   "id": "4e1b1591-3a92-4778-a11d-bca12060ed2b",
   "metadata": {},
   "source": [
    "# Rangos"
   ]
  },
  {
   "cell_type": "markdown",
   "id": "1056c801-d2e6-4c3b-abe2-07a1bc20e7f6",
   "metadata": {},
   "source": [
    "Enfatizar en la diferencia entre diferentes tipos de datos y los rangos"
   ]
  },
  {
   "cell_type": "code",
   "execution_count": 13,
   "id": "e8c56b60-381f-4bc3-8612-8b7be9dadf1b",
   "metadata": {},
   "outputs": [
    {
     "data": {
      "text/plain": [
       "array([0, 1, 2, 3, 4])"
      ]
     },
     "execution_count": 13,
     "metadata": {},
     "output_type": "execute_result"
    }
   ],
   "source": [
    "u = np.arange(5)\n",
    "u"
   ]
  },
  {
   "cell_type": "code",
   "execution_count": 17,
   "id": "f0d8efc2-7a9c-4f99-8205-5dc1a8b2523f",
   "metadata": {},
   "outputs": [
    {
     "data": {
      "text/plain": [
       "2"
      ]
     },
     "execution_count": 17,
     "metadata": {},
     "output_type": "execute_result"
    }
   ],
   "source": [
    "u.take(2)"
   ]
  },
  {
   "cell_type": "markdown",
   "id": "35f057cd-157e-4179-a569-e5fa0f0dcc2e",
   "metadata": {},
   "source": [
    "## Leibniz's Formula for Pi\n",
    "\n",
    "La fórmula de Leibniz para calcular $\\pi$ es una serie infinita alternada que converge hacia $\\pi$ cuando se multiplica por 4. Se puede expresar de la siguiente manera:\n",
    "\n",
    "\\begin{equation}\n",
    "\\frac{\\pi}{4} = 1 - \\frac{1}{3} + \\frac{1}{5} - \\frac{1}{7} + \\frac{1}{9} - \\frac{1}{11} + \\cdots\n",
    "\\end{equation}\n",
    "\n",
    "También se puede reorganizar la fórmula separando los términos positivos y negativos en dos series distintas:\n",
    "\n",
    "\\begin{equation}\n",
    "\\frac{\\pi}{4} = \\left( 1 + \\frac{1}{5} + \\frac{1}{9} + \\cdots \\right) - \\left( \\frac{1}{3} + \\frac{1}{7} + \\frac{1}{11} + \\cdots \\right)\n",
    "\\end{equation}\n",
    "\n",
    "Esta fórmula es una representación elegante de $\\pi$,  aunque su convergencia es relativamente lenta.\n",
    "\n",
    "¿Calcular el valor de pi?"
   ]
  },
  {
   "cell_type": "code",
   "execution_count": 52,
   "id": "6bcf60b9-3e25-4f97-b07e-2886285cdb29",
   "metadata": {},
   "outputs": [
    {
     "name": "stdout",
     "output_type": "stream",
     "text": [
      "---------------------------------------------------------------------------------\n",
      "El valor de pi es 3.140, cálculado con 1000 términos y el error es de 0.002\n",
      "El error absoluto es :0.064\n",
      "---------------------------------------------------------------------------------\n"
     ]
    }
   ],
   "source": [
    "N = 1000\n",
    "T1 = 1/np.arange(1, N, 4)\n",
    "T2 = 1/np.arange(3, N, 4)\n",
    "pi = 4*(np.sum(T1)-np.sum(T2))\n",
    "\n",
    "valor_esperado = np.pi\n",
    "\n",
    "error_absoluto = abs(np.pi-pi)\n",
    "error_relativo = error_absoluto*100/np.pi\n",
    "\n",
    "print(\"---------------------------------------------------------------------------------\")\n",
    "print(f\"El valor de pi es {pi:.3f}, cálculado con {N} términos y el error es de {error_absoluto:.3f}\")\n",
    "print(f\"El error absoluto es :{error_relativo:.3f}\")\n",
    "print(\"---------------------------------------------------------------------------------\")\n"
   ]
  },
  {
   "cell_type": "markdown",
   "id": "e5cd7a6e-45a8-47ca-9e8c-eaec722dafc2",
   "metadata": {},
   "source": [
    "# Tablas\n",
    "\n",
    "| **Método**                                  | **Descripción**                                                                 |\n",
    "|---------------------------------------------|---------------------------------------------------------------------------------|\n",
    "| `Table.read_table(file_path)`               | Lee un archivo CSV y devuelve una tabla.                                        |\n",
    "| `table.show(n)`                             | Muestra las primeras `n` filas de la tabla.                                     |\n",
    "| `table.with_columns(column1, values1, ...)` | Agrega una o más columnas nuevas a la tabla.                                    |\n",
    "| `table.column(column_name)`                 | Devuelve los valores de una columna como un array de Numpy.                     |\n",
    "| `table.num_columns()`                       | Devuelve el número de columnas en la tabla.                                     |\n",
    "| `table.num_rows()`                          | Devuelve el número de filas en la tabla.                                        |\n",
    "| `table.select(column_name1, column_name2)`  | Selecciona y devuelve una tabla con solo las columnas indicadas.                |\n",
    "| `table.drop(column_name1, column_name2)`    | Elimina las columnas especificadas y devuelve una tabla nueva.                  |\n",
    "| `table.where(column_name, predicate)`       | Filtra las filas según una condición en una columna específica.                 |\n",
    "| `table.sort(column_name, descending=False)` | Ordena la tabla por una columna en orden ascendente o descendente.              |\n"
   ]
  },
  {
   "cell_type": "markdown",
   "id": "d8e08bce-a373-4027-9995-357bf3163f12",
   "metadata": {},
   "source": [
    "## Construcción de tablas desde cero"
   ]
  },
  {
   "cell_type": "code",
   "execution_count": 64,
   "id": "1a7baa2b-751f-4fc1-bc2c-28e02def9f1d",
   "metadata": {},
   "outputs": [
    {
     "data": {
      "text/html": [
       "<table border=\"1\" class=\"dataframe\">\n",
       "    <thead>\n",
       "        <tr>\n",
       "            <th>temperatura</th> <th>NumeroAtomico</th>\n",
       "        </tr>\n",
       "    </thead>\n",
       "    <tbody>\n",
       "        <tr>\n",
       "            <td>K          </td> <td>19           </td>\n",
       "        </tr>\n",
       "    </tbody>\n",
       "</table>"
      ],
      "text/plain": [
       "temperatura | NumeroAtomico\n",
       "K           | 19"
      ]
     },
     "execution_count": 64,
     "metadata": {},
     "output_type": "execute_result"
    }
   ],
   "source": [
    "tabla_periodica = Table().with_columns( [\"temperatura\", [\"Si\", \"K\", \"Fe\", \"Co\"], \"NumeroAtomico\", [14,19,26,27] ])\n",
    "tabla_periodica.take(range(1, 2))"
   ]
  },
  {
   "cell_type": "code",
   "execution_count": 65,
   "id": "6780545b-000c-418b-bd3b-2d60818d9775",
   "metadata": {},
   "outputs": [
    {
     "data": {
      "text/html": [
       "<table border=\"1\" class=\"dataframe\">\n",
       "    <thead>\n",
       "        <tr>\n",
       "            <th>temperatura</th> <th>NumeroAtomico</th>\n",
       "        </tr>\n",
       "    </thead>\n",
       "    <tbody>\n",
       "        <tr>\n",
       "            <td>Si         </td> <td>14           </td>\n",
       "        </tr>\n",
       "        <tr>\n",
       "            <td>K          </td> <td>19           </td>\n",
       "        </tr>\n",
       "        <tr>\n",
       "            <td>Fe         </td> <td>26           </td>\n",
       "        </tr>\n",
       "        <tr>\n",
       "            <td>Co         </td> <td>27           </td>\n",
       "        </tr>\n",
       "    </tbody>\n",
       "</table>"
      ],
      "text/plain": [
       "temperatura | NumeroAtomico\n",
       "Si          | 14\n",
       "K           | 19\n",
       "Fe          | 26\n",
       "Co          | 27"
      ]
     },
     "execution_count": 65,
     "metadata": {},
     "output_type": "execute_result"
    }
   ],
   "source": [
    "tabla_periodica"
   ]
  },
  {
   "cell_type": "code",
   "execution_count": 68,
   "id": "53c0362d-c378-47af-88f7-a8e6d38db370",
   "metadata": {},
   "outputs": [
    {
     "data": {
      "text/html": [
       "<table border=\"1\" class=\"dataframe\">\n",
       "    <thead>\n",
       "        <tr>\n",
       "            <th>NumeroAtomico</th>\n",
       "        </tr>\n",
       "    </thead>\n",
       "    <tbody>\n",
       "        <tr>\n",
       "            <td>14           </td>\n",
       "        </tr>\n",
       "        <tr>\n",
       "            <td>19           </td>\n",
       "        </tr>\n",
       "        <tr>\n",
       "            <td>26           </td>\n",
       "        </tr>\n",
       "        <tr>\n",
       "            <td>27           </td>\n",
       "        </tr>\n",
       "    </tbody>\n",
       "</table>"
      ],
      "text/plain": [
       "NumeroAtomico\n",
       "14\n",
       "19\n",
       "26\n",
       "27"
      ]
     },
     "execution_count": 68,
     "metadata": {},
     "output_type": "execute_result"
    }
   ],
   "source": [
    "tabla_periodica.select(\"NumeroAtomico\")\n",
    "# tipo tabla "
   ]
  },
  {
   "cell_type": "code",
   "execution_count": 69,
   "id": "4770d3e1-25b9-48ad-b6b6-1b62fceeb2f2",
   "metadata": {},
   "outputs": [
    {
     "data": {
      "text/plain": [
       "array([14, 19, 26, 27])"
      ]
     },
     "execution_count": 69,
     "metadata": {},
     "output_type": "execute_result"
    }
   ],
   "source": [
    "tabla_periodica.column(\"NumeroAtomico\")\n",
    "# Tipo array "
   ]
  },
  {
   "cell_type": "markdown",
   "id": "7e54540a-6697-4ee1-9514-dae7d21955ba",
   "metadata": {},
   "source": [
    "## Creacion de una tabla \n",
    "Supongamos que queremos construir una tabla con las distancia al sol,  y la masa de cada planeta.\n",
    "\n",
    "| Planeta    | Distancia al Sol (UA) | Masa (Unidades de masas terrestres) |\n",
    "|------------|-----------------------|-------------------------------------|\n",
    "| Mercurio   | 0.39                  | 0.055                              |\n",
    "| Venus      | 0.72                  | 0.815                              |\n",
    "| Tierra     | 1.00                  | 1.000                              |\n",
    "| Marte      | 1.52                  | 0.107                              |\n",
    "| Júpiter    | 5.20                  | 317.8                              |\n",
    "| Saturno    | 9.58                  | 95.2                               |\n",
    "| Urano      | 19.22                 | 14.5                               |\n",
    "| Neptuno    | 30.05                 | 17.1                               |\n",
    "\n",
    "Nota:  \n",
    "- 1 UA ≈ 149.6 millones de kilómetros\n",
    "- 5.97 × 10²⁴ kilogramos.\n",
    "\n",
    "Las siguientes celdas contiene la informaciòn par no copiar todos los datos: \n",
    "\n",
    "```python \n",
    "distancias_ua = [0.39, 0.72, 1.00, 1.52, 5.20, 9.58, 19.22, 30.05]\n",
    "```\n",
    "\n",
    "```python \n",
    "masas_terrestres = [0.055, 0.815, 1.000, 0.107, 317.8, 95.2, 14.5, 17.1]\n",
    "```"
   ]
  },
  {
   "cell_type": "code",
   "execution_count": 70,
   "id": "65dd865b-3741-4bbe-9a38-0b9580b99e32",
   "metadata": {},
   "outputs": [
    {
     "data": {
      "text/html": [
       "<table border=\"1\" class=\"dataframe\">\n",
       "    <thead>\n",
       "        <tr>\n",
       "            <th>Planeta</th> <th>DistanciaSol</th> <th>Masa</th>\n",
       "        </tr>\n",
       "    </thead>\n",
       "    <tbody>\n",
       "        <tr>\n",
       "            <td>Mercurio</td> <td>0.39        </td> <td>0.055</td>\n",
       "        </tr>\n",
       "        <tr>\n",
       "            <td>Venus   </td> <td>0.72        </td> <td>0.815</td>\n",
       "        </tr>\n",
       "        <tr>\n",
       "            <td>Tierra  </td> <td>1           </td> <td>1    </td>\n",
       "        </tr>\n",
       "        <tr>\n",
       "            <td>Marte   </td> <td>1.52        </td> <td>0.107</td>\n",
       "        </tr>\n",
       "        <tr>\n",
       "            <td>Júpiter </td> <td>5.2         </td> <td>317.8</td>\n",
       "        </tr>\n",
       "        <tr>\n",
       "            <td>Saturno </td> <td>9.58        </td> <td>95.2 </td>\n",
       "        </tr>\n",
       "        <tr>\n",
       "            <td>Urano   </td> <td>19.22       </td> <td>14.5 </td>\n",
       "        </tr>\n",
       "        <tr>\n",
       "            <td>Neptuno </td> <td>30.05       </td> <td>17.1 </td>\n",
       "        </tr>\n",
       "    </tbody>\n",
       "</table>"
      ],
      "text/plain": [
       "Planeta  | DistanciaSol | Masa\n",
       "Mercurio | 0.39         | 0.055\n",
       "Venus    | 0.72         | 0.815\n",
       "Tierra   | 1            | 1\n",
       "Marte    | 1.52         | 0.107\n",
       "Júpiter  | 5.2          | 317.8\n",
       "Saturno  | 9.58         | 95.2\n",
       "Urano    | 19.22        | 14.5\n",
       "Neptuno  | 30.05        | 17.1"
      ]
     },
     "execution_count": 70,
     "metadata": {},
     "output_type": "execute_result"
    }
   ],
   "source": [
    "# Construyendo la tabla\n",
    "Table().with_columns([\"Planeta\", [\"Mercurio\", \"Venus\", \"Tierra\", \"Marte\", \"Júpiter\", \"Saturno\", \"Urano\", \"Neptuno\"],\n",
    "                      \"DistanciaSol\", [0.39, 0.72, 1.00, 1.52, 5.20, 9.58, 19.22, 30.05],\n",
    "                      \"Masa\", [0.055, 0.815, 1.000, 0.107, 317.8, 95.2, 14.5, 17.1],                     \n",
    "                     ])\n"
   ]
  },
  {
   "cell_type": "code",
   "execution_count": 71,
   "id": "5c549653-6696-4f2f-982b-c95fd0f853a1",
   "metadata": {},
   "outputs": [],
   "source": [
    "# Almacenado la tabla en una variable\n",
    "planetas=Table().with_columns([\"Nombre\", [\"Mercurio\", \"Venus\", \"Tierra\", \"Marte\", \"Júpiter\", \"Saturno\", \"Urano\", \"Neptuno\"],\n",
    "                      \"DistanciaSol\", [0.39, 0.72, 1.00, 1.52, 5.20, 9.58, 19.22, 30.05],\n",
    "                      \"Masa\", [0.39, 0.72, 1.00, 1.52, 5.20, 9.58, 19.22, 30.05],                     \n",
    "                     ])"
   ]
  },
  {
   "cell_type": "markdown",
   "id": "d93bd4d9-dbb2-4049-aafc-8bb4d8c82643",
   "metadata": {},
   "source": [
    "## table.take\n",
    "## table.show"
   ]
  },
  {
   "cell_type": "code",
   "execution_count": 72,
   "id": "ae072647-cfbe-4cdc-943e-f877058e7922",
   "metadata": {},
   "outputs": [
    {
     "data": {
      "text/html": [
       "<table border=\"1\" class=\"dataframe\">\n",
       "    <thead>\n",
       "        <tr>\n",
       "            <th>Nombre</th> <th>DistanciaSol</th> <th>Masa</th>\n",
       "        </tr>\n",
       "    </thead>\n",
       "    <tbody>\n",
       "        <tr>\n",
       "            <td>Venus </td> <td>0.72        </td> <td>0.72</td>\n",
       "        </tr>\n",
       "    </tbody>\n",
       "</table>"
      ],
      "text/plain": [
       "Nombre | DistanciaSol | Masa\n",
       "Venus  | 0.72         | 0.72"
      ]
     },
     "execution_count": 72,
     "metadata": {},
     "output_type": "execute_result"
    }
   ],
   "source": [
    "planetas.take(1)"
   ]
  },
  {
   "cell_type": "code",
   "execution_count": 73,
   "id": "55487349-a5dd-42af-a516-c086ee3798d7",
   "metadata": {},
   "outputs": [
    {
     "data": {
      "text/html": [
       "<table border=\"1\" class=\"dataframe\">\n",
       "    <thead>\n",
       "        <tr>\n",
       "            <th>Nombre</th>\n",
       "        </tr>\n",
       "    </thead>\n",
       "    <tbody>\n",
       "        <tr>\n",
       "            <td>Mercurio</td>\n",
       "        </tr>\n",
       "        <tr>\n",
       "            <td>Venus   </td>\n",
       "        </tr>\n",
       "        <tr>\n",
       "            <td>Tierra  </td>\n",
       "        </tr>\n",
       "        <tr>\n",
       "            <td>Marte   </td>\n",
       "        </tr>\n",
       "        <tr>\n",
       "            <td>Júpiter </td>\n",
       "        </tr>\n",
       "        <tr>\n",
       "            <td>Saturno </td>\n",
       "        </tr>\n",
       "        <tr>\n",
       "            <td>Urano   </td>\n",
       "        </tr>\n",
       "        <tr>\n",
       "            <td>Neptuno </td>\n",
       "        </tr>\n",
       "    </tbody>\n",
       "</table>"
      ],
      "text/plain": [
       "Nombre\n",
       "Mercurio\n",
       "Venus\n",
       "Tierra\n",
       "Marte\n",
       "Júpiter\n",
       "Saturno\n",
       "Urano\n",
       "Neptuno"
      ]
     },
     "execution_count": 73,
     "metadata": {},
     "output_type": "execute_result"
    }
   ],
   "source": [
    "planetas.select(\"Nombre\")"
   ]
  },
  {
   "cell_type": "code",
   "execution_count": 74,
   "id": "bad5e8a9-0ac4-4609-838f-8419d2f1f866",
   "metadata": {},
   "outputs": [
    {
     "data": {
      "text/plain": [
       "('Nombre', 'DistanciaSol', 'Masa')"
      ]
     },
     "execution_count": 74,
     "metadata": {},
     "output_type": "execute_result"
    }
   ],
   "source": [
    "planetas.labels"
   ]
  },
  {
   "cell_type": "code",
   "execution_count": 75,
   "id": "7bda29d9-9f4f-410a-8f85-bf8fdf0a87f7",
   "metadata": {},
   "outputs": [
    {
     "data": {
      "text/plain": [
       "Rows(Nombre   | DistanciaSol | Masa\n",
       "Mercurio | 0.39         | 0.39\n",
       "Venus    | 0.72         | 0.72\n",
       "Tierra   | 1            | 1\n",
       "Marte    | 1.52         | 1.52\n",
       "Júpiter  | 5.2          | 5.2\n",
       "Saturno  | 9.58         | 9.58\n",
       "Urano    | 19.22        | 19.22\n",
       "Neptuno  | 30.05        | 30.05)"
      ]
     },
     "execution_count": 75,
     "metadata": {},
     "output_type": "execute_result"
    }
   ],
   "source": [
    "planetas.rows"
   ]
  },
  {
   "cell_type": "code",
   "execution_count": 76,
   "id": "897e402a-71e6-4796-8090-e82037cbe7d1",
   "metadata": {},
   "outputs": [
    {
     "data": {
      "text/plain": [
       "3"
      ]
     },
     "execution_count": 76,
     "metadata": {},
     "output_type": "execute_result"
    }
   ],
   "source": [
    "len(planetas)"
   ]
  },
  {
   "cell_type": "code",
   "execution_count": 77,
   "id": "9837444d-e8f0-4716-9ca5-e7c3a22b9645",
   "metadata": {},
   "outputs": [
    {
     "data": {
      "text/html": [
       "<table border=\"1\" class=\"dataframe\">\n",
       "    <thead>\n",
       "        <tr>\n",
       "            <th>Nombre</th> <th>DistanciaSol</th> <th>Masa</th>\n",
       "        </tr>\n",
       "    </thead>\n",
       "    <tbody>\n",
       "        <tr>\n",
       "            <td>Mercurio</td> <td>0.39        </td> <td>0.39 </td>\n",
       "        </tr>\n",
       "        <tr>\n",
       "            <td>Venus   </td> <td>0.72        </td> <td>0.72 </td>\n",
       "        </tr>\n",
       "        <tr>\n",
       "            <td>Tierra  </td> <td>1           </td> <td>1    </td>\n",
       "        </tr>\n",
       "        <tr>\n",
       "            <td>Marte   </td> <td>1.52        </td> <td>1.52 </td>\n",
       "        </tr>\n",
       "        <tr>\n",
       "            <td>Júpiter </td> <td>5.2         </td> <td>5.2  </td>\n",
       "        </tr>\n",
       "        <tr>\n",
       "            <td>Saturno </td> <td>9.58        </td> <td>9.58 </td>\n",
       "        </tr>\n",
       "        <tr>\n",
       "            <td>Urano   </td> <td>19.22       </td> <td>19.22</td>\n",
       "        </tr>\n",
       "        <tr>\n",
       "            <td>Neptuno </td> <td>30.05       </td> <td>30.05</td>\n",
       "        </tr>\n",
       "    </tbody>\n",
       "</table>"
      ],
      "text/plain": [
       "Nombre   | DistanciaSol | Masa\n",
       "Mercurio | 0.39         | 0.39\n",
       "Venus    | 0.72         | 0.72\n",
       "Tierra   | 1            | 1\n",
       "Marte    | 1.52         | 1.52\n",
       "Júpiter  | 5.2          | 5.2\n",
       "Saturno  | 9.58         | 9.58\n",
       "Urano    | 19.22        | 19.22\n",
       "Neptuno  | 30.05        | 30.05"
      ]
     },
     "execution_count": 77,
     "metadata": {},
     "output_type": "execute_result"
    }
   ],
   "source": [
    "planetas.sort(\"Masa\", descending=False)"
   ]
  },
  {
   "cell_type": "code",
   "execution_count": 78,
   "id": "2a043490-adf5-41fa-962a-333ca4e6eacb",
   "metadata": {},
   "outputs": [
    {
     "data": {
      "text/html": [
       "<table border=\"1\" class=\"dataframe\">\n",
       "    <thead>\n",
       "        <tr>\n",
       "            <th>Nombre</th> <th>DistanciaSol</th>\n",
       "        </tr>\n",
       "    </thead>\n",
       "    <tbody>\n",
       "        <tr>\n",
       "            <td>Mercurio</td> <td>0.39        </td>\n",
       "        </tr>\n",
       "        <tr>\n",
       "            <td>Venus   </td> <td>0.72        </td>\n",
       "        </tr>\n",
       "        <tr>\n",
       "            <td>Tierra  </td> <td>1           </td>\n",
       "        </tr>\n",
       "        <tr>\n",
       "            <td>Marte   </td> <td>1.52        </td>\n",
       "        </tr>\n",
       "        <tr>\n",
       "            <td>Júpiter </td> <td>5.2         </td>\n",
       "        </tr>\n",
       "        <tr>\n",
       "            <td>Saturno </td> <td>9.58        </td>\n",
       "        </tr>\n",
       "        <tr>\n",
       "            <td>Urano   </td> <td>19.22       </td>\n",
       "        </tr>\n",
       "        <tr>\n",
       "            <td>Neptuno </td> <td>30.05       </td>\n",
       "        </tr>\n",
       "    </tbody>\n",
       "</table>"
      ],
      "text/plain": [
       "Nombre   | DistanciaSol\n",
       "Mercurio | 0.39\n",
       "Venus    | 0.72\n",
       "Tierra   | 1\n",
       "Marte    | 1.52\n",
       "Júpiter  | 5.2\n",
       "Saturno  | 9.58\n",
       "Urano    | 19.22\n",
       "Neptuno  | 30.05"
      ]
     },
     "execution_count": 78,
     "metadata": {},
     "output_type": "execute_result"
    }
   ],
   "source": [
    "planetas.drop(\"Masa\")"
   ]
  },
  {
   "cell_type": "markdown",
   "id": "15549ae6-a51f-479a-b41d-5c11caec2c8a",
   "metadata": {},
   "source": []
  },
  {
   "cell_type": "markdown",
   "id": "cd692b31-63c4-4fec-ae7c-fdfa1e705d79",
   "metadata": {},
   "source": [
    "# Lectura de tablas\n",
    "\n",
    "1. Muestra los 10 primeros valores de la tabla\n",
    "\n",
    "2. Selecciona las columnas \"Animal\" y \"Velocidad Promedio (km/h)\"\n",
    "\n",
    "3. Determina el animal que tiene mayor peso\n"
   ]
  },
  {
   "cell_type": "code",
   "execution_count": 84,
   "id": "82e9e666-b71c-49f9-817e-350ac3832fb4",
   "metadata": {},
   "outputs": [
    {
     "data": {
      "text/html": [
       "<table border=\"1\" class=\"dataframe\">\n",
       "    <thead>\n",
       "        <tr>\n",
       "            <th>Unnamed: 0</th> <th>Animal</th> <th>Altura (cm)</th> <th>Peso (kg)</th> <th>Velocidad Promedio (km/h)</th>\n",
       "        </tr>\n",
       "    </thead>\n",
       "    <tbody>\n",
       "        <tr>\n",
       "            <td>0         </td> <td>Cerdo Hormiguero          </td> <td>117.5      </td> <td>52.5     </td> <td>40                       </td>\n",
       "        </tr>\n",
       "        <tr>\n",
       "            <td>1         </td> <td>Lobo Terrícola            </td> <td>45         </td> <td>11       </td> <td>27                       </td>\n",
       "        </tr>\n",
       "        <tr>\n",
       "            <td>2         </td> <td>Elefante Africano         </td> <td>290        </td> <td>4350     </td> <td>25                       </td>\n",
       "        </tr>\n",
       "        <tr>\n",
       "            <td>3         </td> <td>León Africano             </td> <td>95         </td> <td>185      </td> <td>58                       </td>\n",
       "        </tr>\n",
       "        <tr>\n",
       "            <td>4         </td> <td>Perro Salvaje Africano    </td> <td>77.5       </td> <td>27       </td> <td>56                       </td>\n",
       "        </tr>\n",
       "        <tr>\n",
       "            <td>5         </td> <td>Íbice Alpino              </td> <td>84         </td> <td>69.5     </td> <td>60                       </td>\n",
       "        </tr>\n",
       "        <tr>\n",
       "            <td>6         </td> <td>Rana de la Selva Amazónica</td> <td>7.5        </td> <td>0        </td> <td>0.55                     </td>\n",
       "        </tr>\n",
       "        <tr>\n",
       "            <td>7         </td> <td>Bisonte Americano         </td> <td>169        </td> <td>nan      </td> <td>48                       </td>\n",
       "        </tr>\n",
       "        <tr>\n",
       "            <td>8         </td> <td>Oso Hormiguero            </td> <td>71.5       </td> <td>31.5     </td> <td>24                       </td>\n",
       "        </tr>\n",
       "        <tr>\n",
       "            <td>9         </td> <td>Caballo Árabe             </td> <td>150        </td> <td>690      </td> <td>65                       </td>\n",
       "        </tr>\n",
       "    </tbody>\n",
       "</table>\n",
       "<p>... (168 rows omitted)</p>"
      ],
      "text/plain": [
       "Unnamed: 0 | Animal                     | Altura (cm) | Peso (kg) | Velocidad Promedio (km/h)\n",
       "0          | Cerdo Hormiguero           | 117.5       | 52.5      | 40\n",
       "1          | Lobo Terrícola             | 45          | 11        | 27\n",
       "2          | Elefante Africano          | 290         | 4350      | 25\n",
       "3          | León Africano              | 95          | 185       | 58\n",
       "4          | Perro Salvaje Africano     | 77.5        | 27        | 56\n",
       "5          | Íbice Alpino               | 84          | 69.5      | 60\n",
       "6          | Rana de la Selva Amazónica | 7.5         | 0         | 0.55\n",
       "7          | Bisonte Americano          | 169         | nan       | 48\n",
       "8          | Oso Hormiguero             | 71.5        | 31.5      | 24\n",
       "9          | Caballo Árabe              | 150         | 690       | 65\n",
       "... (168 rows omitted)"
      ]
     },
     "execution_count": 84,
     "metadata": {},
     "output_type": "execute_result"
    }
   ],
   "source": [
    "animals = Table().read_table(\"Animales.csv\", sep=\",\")\n",
    "animals"
   ]
  },
  {
   "cell_type": "code",
   "execution_count": 85,
   "id": "6fc0e523-ea71-4ce6-872d-05a17db381d9",
   "metadata": {},
   "outputs": [
    {
     "data": {
      "text/html": [
       "<table border=\"1\" class=\"dataframe\">\n",
       "    <thead>\n",
       "        <tr>\n",
       "            <th>Animal</th> <th>Altura (cm)</th> <th>Peso (kg)</th> <th>Velocidad Promedio (km/h)</th>\n",
       "        </tr>\n",
       "    </thead>\n",
       "    <tbody>\n",
       "        <tr>\n",
       "            <td>Cerdo Hormiguero          </td> <td>117.5      </td> <td>52.5     </td> <td>40                       </td>\n",
       "        </tr>\n",
       "        <tr>\n",
       "            <td>Lobo Terrícola            </td> <td>45         </td> <td>11       </td> <td>27                       </td>\n",
       "        </tr>\n",
       "        <tr>\n",
       "            <td>Elefante Africano         </td> <td>290        </td> <td>4350     </td> <td>25                       </td>\n",
       "        </tr>\n",
       "        <tr>\n",
       "            <td>León Africano             </td> <td>95         </td> <td>185      </td> <td>58                       </td>\n",
       "        </tr>\n",
       "        <tr>\n",
       "            <td>Perro Salvaje Africano    </td> <td>77.5       </td> <td>27       </td> <td>56                       </td>\n",
       "        </tr>\n",
       "        <tr>\n",
       "            <td>Íbice Alpino              </td> <td>84         </td> <td>69.5     </td> <td>60                       </td>\n",
       "        </tr>\n",
       "        <tr>\n",
       "            <td>Rana de la Selva Amazónica</td> <td>7.5        </td> <td>0        </td> <td>0.55                     </td>\n",
       "        </tr>\n",
       "        <tr>\n",
       "            <td>Bisonte Americano         </td> <td>169        </td> <td>nan      </td> <td>48                       </td>\n",
       "        </tr>\n",
       "        <tr>\n",
       "            <td>Oso Hormiguero            </td> <td>71.5       </td> <td>31.5     </td> <td>24                       </td>\n",
       "        </tr>\n",
       "        <tr>\n",
       "            <td>Caballo Árabe             </td> <td>150        </td> <td>690      </td> <td>65                       </td>\n",
       "        </tr>\n",
       "    </tbody>\n",
       "</table>\n",
       "<p>... (168 rows omitted)</p>"
      ],
      "text/plain": [
       "Animal                     | Altura (cm) | Peso (kg) | Velocidad Promedio (km/h)\n",
       "Cerdo Hormiguero           | 117.5       | 52.5      | 40\n",
       "Lobo Terrícola             | 45          | 11        | 27\n",
       "Elefante Africano          | 290         | 4350      | 25\n",
       "León Africano              | 95          | 185       | 58\n",
       "Perro Salvaje Africano     | 77.5        | 27        | 56\n",
       "Íbice Alpino               | 84          | 69.5      | 60\n",
       "Rana de la Selva Amazónica | 7.5         | 0         | 0.55\n",
       "Bisonte Americano          | 169         | nan       | 48\n",
       "Oso Hormiguero             | 71.5        | 31.5      | 24\n",
       "Caballo Árabe              | 150         | 690       | 65\n",
       "... (168 rows omitted)"
      ]
     },
     "execution_count": 85,
     "metadata": {},
     "output_type": "execute_result"
    }
   ],
   "source": [
    "animales = animals.drop(\"Unnamed: 0\")\n",
    "animales"
   ]
  },
  {
   "cell_type": "markdown",
   "id": "0fb23816-cf9a-4c7a-bd93-cd2b13816f32",
   "metadata": {},
   "source": [
    "# Operacion sobre tablas\n",
    "\n",
    "\n",
    "## Predicados\n",
    "\n",
    "| Predicado                     | Descripción                                                  |\n",
    "| ------------------------------| ------------------------------------------------------------ |\n",
    "| `are.equal_to(Z)`              | Igual a Z                                                    |\n",
    "| `are.above(x)`                 | Mayor que x                                                  |\n",
    "| `are.above_or_equal_to(x)`     | Mayor o igual a x                                            |\n",
    "| `are.below(x)`                 | Menor que x                                                  |\n",
    "| `are.below_or_equal_to(x)`     | Menor o igual a x                                            |\n",
    "| `are.between(x, y)`            | Mayor o igual a x y menor que y                              |\n",
    "| `are.strictly_between(x, y)`   | Mayor que x y menor que y                                    |\n",
    "| `are.between_or_equal_to(x, y)`| Mayor o igual a x y menor o igual a y                        |\n",
    "| `are.containing(S)`            | Contiene la cadena de texto S                                |\n",
    "\n",
    "## Predicados Negados\n",
    "\n",
    "Puedes especificar la negación de cualquiera de estas condiciones utilizando `.not_` antes del predicado:\n",
    "\n",
    "| Predicado Negado               | Descripción                                                  |\n",
    "| ------------------------------| ------------------------------------------------------------ |\n",
    "| `are.not_equal_to(Z)`          | No igual a Z                                                 |\n",
    "| `are.not_above(x)`             | No mayor que x                                               |\n"
   ]
  },
  {
   "cell_type": "code",
   "execution_count": 87,
   "id": "4b598d56-bdaa-48d7-9de8-0e5fe65d9581",
   "metadata": {},
   "outputs": [
    {
     "data": {
      "text/html": [
       "<table border=\"1\" class=\"dataframe\">\n",
       "    <thead>\n",
       "        <tr>\n",
       "            <th>Animal</th> <th>Altura (cm)</th> <th>Peso (kg)</th> <th>Velocidad Promedio (km/h)</th>\n",
       "        </tr>\n",
       "    </thead>\n",
       "    <tbody>\n",
       "        <tr>\n",
       "            <td>Cerdo Hormiguero            </td> <td>117.5      </td> <td>52.5     </td> <td>40                       </td>\n",
       "        </tr>\n",
       "        <tr>\n",
       "            <td>Elefante Africano           </td> <td>290        </td> <td>4350     </td> <td>25                       </td>\n",
       "        </tr>\n",
       "        <tr>\n",
       "            <td>Bisonte Americano           </td> <td>169        </td> <td>nan      </td> <td>48                       </td>\n",
       "        </tr>\n",
       "        <tr>\n",
       "            <td>Caballo Árabe               </td> <td>150        </td> <td>690      </td> <td>65                       </td>\n",
       "        </tr>\n",
       "        <tr>\n",
       "            <td>Arowana                     </td> <td>120        </td> <td>6        </td> <td>24                       </td>\n",
       "        </tr>\n",
       "        <tr>\n",
       "            <td>Elefante Asiático           </td> <td>250        </td> <td>3500     </td> <td>40                       </td>\n",
       "        </tr>\n",
       "        <tr>\n",
       "            <td>Delfín Moteado del Atlántico</td> <td>225        </td> <td>130      </td> <td>52                       </td>\n",
       "        </tr>\n",
       "        <tr>\n",
       "            <td>Foca de Pelo Australiana    </td> <td>136        </td> <td>29       </td> <td>32                       </td>\n",
       "        </tr>\n",
       "        <tr>\n",
       "            <td>Tiburón Peregrino           </td> <td>1100       </td> <td>550      </td> <td>21                       </td>\n",
       "        </tr>\n",
       "        <tr>\n",
       "            <td>Rinoceronte Negro           </td> <td>156        </td> <td>nan      </td> <td>56                       </td>\n",
       "        </tr>\n",
       "    </tbody>\n",
       "</table>\n",
       "<p>... (56 rows omitted)</p>"
      ],
      "text/plain": [
       "Animal                       | Altura (cm) | Peso (kg) | Velocidad Promedio (km/h)\n",
       "Cerdo Hormiguero             | 117.5       | 52.5      | 40\n",
       "Elefante Africano            | 290         | 4350      | 25\n",
       "Bisonte Americano            | 169         | nan       | 48\n",
       "Caballo Árabe                | 150         | 690       | 65\n",
       "Arowana                      | 120         | 6         | 24\n",
       "Elefante Asiático            | 250         | 3500      | 40\n",
       "Delfín Moteado del Atlántico | 225         | 130       | 52\n",
       "Foca de Pelo Australiana     | 136         | 29        | 32\n",
       "Tiburón Peregrino            | 1100        | 550       | 21\n",
       "Rinoceronte Negro            | 156         | nan       | 56\n",
       "... (56 rows omitted)"
      ]
     },
     "execution_count": 87,
     "metadata": {},
     "output_type": "execute_result"
    }
   ],
   "source": [
    "animales.where(\"Altura (cm)\", are.above(100))"
   ]
  },
  {
   "cell_type": "code",
   "execution_count": 88,
   "id": "6375de27-4a95-420d-95ee-1ea18ab9f5b5",
   "metadata": {},
   "outputs": [
    {
     "data": {
      "text/html": [
       "<table border=\"1\" class=\"dataframe\">\n",
       "    <thead>\n",
       "        <tr>\n",
       "            <th>Animal</th> <th>Altura (cm)</th> <th>Peso (kg)</th> <th>Velocidad Promedio (km/h)</th>\n",
       "        </tr>\n",
       "    </thead>\n",
       "    <tbody>\n",
       "        <tr>\n",
       "            <td>Bisonte Americano</td> <td>169        </td> <td>nan      </td> <td>48                       </td>\n",
       "        </tr>\n",
       "        <tr>\n",
       "            <td>Tapir de Baird   </td> <td>91.5       </td> <td>275      </td> <td>48                       </td>\n",
       "        </tr>\n",
       "        <tr>\n",
       "            <td>Oso Pardo        </td> <td>95         </td> <td>425      </td> <td>48                       </td>\n",
       "        </tr>\n",
       "        <tr>\n",
       "            <td>Zorro Rojo       </td> <td>42.5       </td> <td>5        </td> <td>48                       </td>\n",
       "        </tr>\n",
       "        <tr>\n",
       "            <td>Tapir            </td> <td>95         </td> <td>275      </td> <td>48                       </td>\n",
       "        </tr>\n",
       "    </tbody>\n",
       "</table>"
      ],
      "text/plain": [
       "Animal            | Altura (cm) | Peso (kg) | Velocidad Promedio (km/h)\n",
       "Bisonte Americano | 169         | nan       | 48\n",
       "Tapir de Baird    | 91.5        | 275       | 48\n",
       "Oso Pardo         | 95          | 425       | 48\n",
       "Zorro Rojo        | 42.5        | 5         | 48\n",
       "Tapir             | 95          | 275       | 48"
      ]
     },
     "execution_count": 88,
     "metadata": {},
     "output_type": "execute_result"
    }
   ],
   "source": [
    "animales.where('Velocidad Promedio (km/h)', are.equal_to(48))"
   ]
  },
  {
   "cell_type": "code",
   "execution_count": 94,
   "id": "90deb53d-35ee-4611-8cb2-3687679305b4",
   "metadata": {},
   "outputs": [
    {
     "data": {
      "text/html": [
       "<table border=\"1\" class=\"dataframe\">\n",
       "    <thead>\n",
       "        <tr>\n",
       "            <th>Animal</th> <th>Altura (cm)</th> <th>Peso (kg)</th> <th>Velocidad Promedio (km/h)</th>\n",
       "        </tr>\n",
       "    </thead>\n",
       "    <tbody>\n",
       "        <tr>\n",
       "            <td>Cerdo Hormiguero     </td> <td>117.5      </td> <td>52.5     </td> <td>40                       </td>\n",
       "        </tr>\n",
       "        <tr>\n",
       "            <td>Bisonte Americano    </td> <td>169        </td> <td>nan      </td> <td>48                       </td>\n",
       "        </tr>\n",
       "        <tr>\n",
       "            <td>Elefante Asiático    </td> <td>250        </td> <td>3500     </td> <td>40                       </td>\n",
       "        </tr>\n",
       "        <tr>\n",
       "            <td>Frailecillo Atlántico</td> <td>27.5       </td> <td>560      </td> <td>40                       </td>\n",
       "        </tr>\n",
       "        <tr>\n",
       "            <td>Tapir de Baird       </td> <td>91.5       </td> <td>275      </td> <td>48                       </td>\n",
       "        </tr>\n",
       "        <tr>\n",
       "            <td>Zorro de Bengala     </td> <td>37.5       </td> <td>3.25     </td> <td>40                       </td>\n",
       "        </tr>\n",
       "        <tr>\n",
       "            <td>Ballena Azul         </td> <td>33         </td> <td>200      </td> <td>40                       </td>\n",
       "        </tr>\n",
       "        <tr>\n",
       "            <td>Oso Pardo            </td> <td>95         </td> <td>425      </td> <td>48                       </td>\n",
       "        </tr>\n",
       "        <tr>\n",
       "            <td>Chimpancé            </td> <td>160        </td> <td>48       </td> <td>40                       </td>\n",
       "        </tr>\n",
       "        <tr>\n",
       "            <td>Perro Dálmata        </td> <td>55.5       </td> <td>27.5     </td> <td>42.5                     </td>\n",
       "        </tr>\n",
       "    </tbody>\n",
       "</table>\n",
       "<p>... (25 rows omitted)</p>"
      ],
      "text/plain": [
       "Animal                | Altura (cm) | Peso (kg) | Velocidad Promedio (km/h)\n",
       "Cerdo Hormiguero      | 117.5       | 52.5      | 40\n",
       "Bisonte Americano     | 169         | nan       | 48\n",
       "Elefante Asiático     | 250         | 3500      | 40\n",
       "Frailecillo Atlántico | 27.5        | 560       | 40\n",
       "Tapir de Baird        | 91.5        | 275       | 48\n",
       "Zorro de Bengala      | 37.5        | 3.25      | 40\n",
       "Ballena Azul          | 33          | 200       | 40\n",
       "Oso Pardo             | 95          | 425       | 48\n",
       "Chimpancé             | 160         | 48        | 40\n",
       "Perro Dálmata         | 55.5        | 27.5      | 42.5\n",
       "... (25 rows omitted)"
      ]
     },
     "execution_count": 94,
     "metadata": {},
     "output_type": "execute_result"
    }
   ],
   "source": [
    "animales.where('Velocidad Promedio (km/h)', are.between(40,50))"
   ]
  },
  {
   "cell_type": "code",
   "execution_count": 95,
   "id": "f23a7167-e92a-40a0-bd5e-16f97720c011",
   "metadata": {},
   "outputs": [
    {
     "data": {
      "text/html": [
       "<table border=\"1\" class=\"dataframe\">\n",
       "    <thead>\n",
       "        <tr>\n",
       "            <th>Animal</th> <th>Altura (cm)</th> <th>Peso (kg)</th> <th>Velocidad Promedio (km/h)</th>\n",
       "        </tr>\n",
       "    </thead>\n",
       "    <tbody>\n",
       "        <tr>\n",
       "            <td>Avispón Gigante Japonés</td> <td>45         </td> <td>6        </td> <td>49                       </td>\n",
       "        </tr>\n",
       "        <tr>\n",
       "            <td>Bisonte Americano      </td> <td>169        </td> <td>nan      </td> <td>48                       </td>\n",
       "        </tr>\n",
       "        <tr>\n",
       "            <td>Tapir de Baird         </td> <td>91.5       </td> <td>275      </td> <td>48                       </td>\n",
       "        </tr>\n",
       "        <tr>\n",
       "            <td>Oso Pardo              </td> <td>95         </td> <td>425      </td> <td>48                       </td>\n",
       "        </tr>\n",
       "        <tr>\n",
       "            <td>Zorro Rojo             </td> <td>42.5       </td> <td>5        </td> <td>48                       </td>\n",
       "        </tr>\n",
       "        <tr>\n",
       "            <td>Tapir                  </td> <td>95         </td> <td>275      </td> <td>48                       </td>\n",
       "        </tr>\n",
       "        <tr>\n",
       "            <td>Ñu                     </td> <td>210        </td> <td>295      </td> <td>47                       </td>\n",
       "        </tr>\n",
       "        <tr>\n",
       "            <td>Fosa                   </td> <td>80         </td> <td>6.5      </td> <td>46.5                     </td>\n",
       "        </tr>\n",
       "        <tr>\n",
       "            <td>Zorro Volador          </td> <td>40         </td> <td>1        </td> <td>45                       </td>\n",
       "        </tr>\n",
       "        <tr>\n",
       "            <td>Narval                 </td> <td>500        </td> <td>1600     </td> <td>45                       </td>\n",
       "        </tr>\n",
       "    </tbody>\n",
       "</table>\n",
       "<p>... (25 rows omitted)</p>"
      ],
      "text/plain": [
       "Animal                  | Altura (cm) | Peso (kg) | Velocidad Promedio (km/h)\n",
       "Avispón Gigante Japonés | 45          | 6         | 49\n",
       "Bisonte Americano       | 169         | nan       | 48\n",
       "Tapir de Baird          | 91.5        | 275       | 48\n",
       "Oso Pardo               | 95          | 425       | 48\n",
       "Zorro Rojo              | 42.5        | 5         | 48\n",
       "Tapir                   | 95          | 275       | 48\n",
       "Ñu                      | 210         | 295       | 47\n",
       "Fosa                    | 80          | 6.5       | 46.5\n",
       "Zorro Volador           | 40          | 1         | 45\n",
       "Narval                  | 500         | 1600      | 45\n",
       "... (25 rows omitted)"
      ]
     },
     "execution_count": 95,
     "metadata": {},
     "output_type": "execute_result"
    }
   ],
   "source": [
    "animales.where('Velocidad Promedio (km/h)', are.between(40,50)).sort(\"Velocidad Promedio (km/h)\", descending=True)"
   ]
  },
  {
   "cell_type": "code",
   "execution_count": 96,
   "id": "6320b07b-37b2-41e5-a816-1d7effc90598",
   "metadata": {},
   "outputs": [
    {
     "data": {
      "text/html": [
       "<table border=\"1\" class=\"dataframe\">\n",
       "    <thead>\n",
       "        <tr>\n",
       "            <th>Animal</th> <th>Altura (cm)</th> <th>Peso (kg)</th> <th>Velocidad Promedio (km/h)</th>\n",
       "        </tr>\n",
       "    </thead>\n",
       "    <tbody>\n",
       "        <tr>\n",
       "            <td>Tiburón Peregrino          </td> <td>1100       </td> <td>550      </td> <td>21                       </td>\n",
       "        </tr>\n",
       "        <tr>\n",
       "            <td>Tiburón Duende             </td> <td>320        </td> <td>210      </td> <td>2.3                      </td>\n",
       "        </tr>\n",
       "        <tr>\n",
       "            <td>Tiburón Blanco             </td> <td>610        </td> <td>2268     </td> <td>56                       </td>\n",
       "        </tr>\n",
       "        <tr>\n",
       "            <td>Tiburón Blanco             </td> <td>670        </td> <td>2268     </td> <td>56                       </td>\n",
       "        </tr>\n",
       "        <tr>\n",
       "            <td>Tiburón Mako de Aleta Corta</td> <td>394        </td> <td>800      </td> <td>45                       </td>\n",
       "        </tr>\n",
       "        <tr>\n",
       "            <td>Tiburón Ballena            </td> <td>1800       </td> <td>1500     </td> <td>70                       </td>\n",
       "        </tr>\n",
       "        <tr>\n",
       "            <td>Tiburón Cebra              </td> <td>330        </td> <td>32       </td> <td>20                       </td>\n",
       "        </tr>\n",
       "    </tbody>\n",
       "</table>"
      ],
      "text/plain": [
       "Animal                      | Altura (cm) | Peso (kg) | Velocidad Promedio (km/h)\n",
       "Tiburón Peregrino           | 1100        | 550       | 21\n",
       "Tiburón Duende              | 320         | 210       | 2.3\n",
       "Tiburón Blanco              | 610         | 2268      | 56\n",
       "Tiburón Blanco              | 670         | 2268      | 56\n",
       "Tiburón Mako de Aleta Corta | 394         | 800       | 45\n",
       "Tiburón Ballena             | 1800        | 1500      | 70\n",
       "Tiburón Cebra               | 330         | 32        | 20"
      ]
     },
     "execution_count": 96,
     "metadata": {},
     "output_type": "execute_result"
    }
   ],
   "source": [
    "animales.where('Animal', are.containing('Tiburón'))"
   ]
  },
  {
   "cell_type": "code",
   "execution_count": 97,
   "id": "a6bf8100-9beb-4c5c-ae38-93ae23387b8d",
   "metadata": {},
   "outputs": [
    {
     "data": {
      "text/html": [
       "<table border=\"1\" class=\"dataframe\">\n",
       "    <thead>\n",
       "        <tr>\n",
       "            <th>Animal</th> <th>Altura (cm)</th> <th>Peso (kg)</th> <th>Velocidad Promedio (km/h)</th>\n",
       "        </tr>\n",
       "    </thead>\n",
       "    <tbody>\n",
       "        <tr>\n",
       "            <td>Águila Calva            </td> <td>86         </td> <td>4.5      </td> <td>120                      </td>\n",
       "        </tr>\n",
       "        <tr>\n",
       "            <td>Guepardo                </td> <td>80         </td> <td>46       </td> <td>112                      </td>\n",
       "        </tr>\n",
       "        <tr>\n",
       "            <td>Berrendo                </td> <td>92.5       </td> <td>55       </td> <td>88.5                     </td>\n",
       "        </tr>\n",
       "        <tr>\n",
       "            <td>Búho Nival              </td> <td>61.5       </td> <td>2.45     </td> <td>80                       </td>\n",
       "        </tr>\n",
       "        <tr>\n",
       "            <td>Lince Ibérico           </td> <td>65         </td> <td>11.5     </td> <td>75                       </td>\n",
       "        </tr>\n",
       "        <tr>\n",
       "            <td>Camarón Mantis Pavo Real</td> <td>18         </td> <td>0        </td> <td>72                       </td>\n",
       "        </tr>\n",
       "        <tr>\n",
       "            <td>Tiburón Ballena         </td> <td>1800       </td> <td>1500     </td> <td>70                       </td>\n",
       "        </tr>\n",
       "        <tr>\n",
       "            <td>Caballo Árabe           </td> <td>150        </td> <td>690      </td> <td>65                       </td>\n",
       "        </tr>\n",
       "        <tr>\n",
       "            <td>Tigre de Bengala        </td> <td>100        </td> <td>240      </td> <td>65                       </td>\n",
       "        </tr>\n",
       "        <tr>\n",
       "            <td>Perro Bóxer             </td> <td>58         </td> <td>28.5     </td> <td>64                       </td>\n",
       "        </tr>\n",
       "    </tbody>\n",
       "</table>\n",
       "<p>... (168 rows omitted)</p>"
      ],
      "text/plain": [
       "Animal                   | Altura (cm) | Peso (kg) | Velocidad Promedio (km/h)\n",
       "Águila Calva             | 86          | 4.5       | 120\n",
       "Guepardo                 | 80          | 46        | 112\n",
       "Berrendo                 | 92.5        | 55        | 88.5\n",
       "Búho Nival               | 61.5        | 2.45      | 80\n",
       "Lince Ibérico            | 65          | 11.5      | 75\n",
       "Camarón Mantis Pavo Real | 18          | 0         | 72\n",
       "Tiburón Ballena          | 1800        | 1500      | 70\n",
       "Caballo Árabe            | 150         | 690       | 65\n",
       "Tigre de Bengala         | 100         | 240       | 65\n",
       "Perro Bóxer              | 58          | 28.5      | 64\n",
       "... (168 rows omitted)"
      ]
     },
     "execution_count": 97,
     "metadata": {},
     "output_type": "execute_result"
    }
   ],
   "source": [
    "animales.sort(\"Velocidad Promedio (km/h)\", descending = True)"
   ]
  },
  {
   "cell_type": "markdown",
   "id": "4ca95ca3-268d-40a2-a8c9-d6861556c5e0",
   "metadata": {},
   "source": [
    "Tarea : Encontrar los osos cuya peso sea mayor a 100Kg"
   ]
  },
  {
   "cell_type": "markdown",
   "id": "78f5de1e-8ccb-4482-893a-24c4e3fc3628",
   "metadata": {},
   "source": [
    "# Elementos quimicos "
   ]
  },
  {
   "cell_type": "code",
   "execution_count": 434,
   "id": "b9f01150-72e5-460c-b56e-df841e884f00",
   "metadata": {},
   "outputs": [],
   "source": [
    "elementos = Table().with_columns(\n",
    "    'Nombre', ['Hidrógeno', 'Helio', 'Litio', 'Berilio', 'Boro', 'Carbono', 'Nitrógeno', 'Oxígeno', 'Flúor', 'Neón',\n",
    "               'Sodio', 'Magnesio', 'Aluminio', 'Silicio', 'Fósforo', 'Azufre', 'Cloro', 'Argón', 'Potasio', 'Calcio',\n",
    "               'Escandio', 'Titanio', 'Vanadio', 'Cromo', 'Manganeso', 'Hierro', 'Cobalto', 'Níquel', 'Cobre', 'Zinc'],\n",
    "    'Símbolo', ['H', 'He', 'Li', 'Be', 'B', 'C', 'N', 'O', 'F', 'Ne',\n",
    "                'Na', 'Mg', 'Al', 'Si', 'P', 'S', 'Cl', 'Ar', 'K', 'Ca',\n",
    "                'Sc', 'Ti', 'V', 'Cr', 'Mn', 'Fe', 'Co', 'Ni', 'Cu', 'Zn'],\n",
    "    'Número Atómico', [1, 2, 3, 4, 5, 6, 7, 8, 9, 10,\n",
    "                       11, 12, 13, 14, 15, 16, 17, 18, 19, 20,\n",
    "                       21, 22, 23, 24, 25, 26, 27, 28, 29, 30],\n",
    "    'Masa Atómica', [1.008, 4.0026, 6.94, 9.0122, 10.81, 12.011, 14.007, 15.999, 18.998, 20.180,\n",
    "                     22.990, 24.305, 26.982, 28.085, 30.974, 32.06, 35.45, 39.948, 39.098, 40.078,\n",
    "                     44.956, 47.867, 50.942, 51.996, 54.938, 55.845, 58.933, 58.693, 63.546, 65.38],\n",
    "    'Categoría', ['No metal', 'Gas noble', 'Metal alcalino', 'Metal alcalinotérreo', 'Metaloide', 'No metal', 'No metal', 'No metal', 'No metal', 'Gas noble',\n",
    "                  'Metal alcalino', 'Metal alcalinotérreo', 'Metal', 'Metaloide', 'No metal', 'No metal', 'No metal', 'Gas noble', 'Metal alcalino', 'Metal alcalinotérreo',\n",
    "                  'Metal de transición', 'Metal de transición', 'Metal de transición', 'Metal de transición', 'Metal de transición', 'Metal de transición', 'Metal de transición', 'Metal de transición', 'Metal de transición', 'Metal de transición']\n",
    ")\n"
   ]
  },
  {
   "cell_type": "markdown",
   "id": "3a09abef-12b5-4510-b6eb-31888f416fec",
   "metadata": {},
   "source": [
    "Determinar el numero de elementos cuya masa es menor a 15"
   ]
  },
  {
   "cell_type": "code",
   "execution_count": 437,
   "id": "c40c3e86-b9cd-49a0-9796-868ac50e7c9a",
   "metadata": {},
   "outputs": [
    {
     "data": {
      "text/html": [
       "<table border=\"1\" class=\"dataframe\">\n",
       "    <thead>\n",
       "        <tr>\n",
       "            <th>Nombre</th> <th>Símbolo</th> <th>Número Atómico</th> <th>Masa Atómica</th> <th>Categoría</th>\n",
       "        </tr>\n",
       "    </thead>\n",
       "    <tbody>\n",
       "        <tr>\n",
       "            <td>Hidrógeno</td> <td>H      </td> <td>1             </td> <td>1.008       </td> <td>No metal            </td>\n",
       "        </tr>\n",
       "        <tr>\n",
       "            <td>Helio    </td> <td>He     </td> <td>2             </td> <td>4.0026      </td> <td>Gas noble           </td>\n",
       "        </tr>\n",
       "        <tr>\n",
       "            <td>Litio    </td> <td>Li     </td> <td>3             </td> <td>6.94        </td> <td>Metal alcalino      </td>\n",
       "        </tr>\n",
       "        <tr>\n",
       "            <td>Berilio  </td> <td>Be     </td> <td>4             </td> <td>9.0122      </td> <td>Metal alcalinotérreo</td>\n",
       "        </tr>\n",
       "        <tr>\n",
       "            <td>Boro     </td> <td>B      </td> <td>5             </td> <td>10.81       </td> <td>Metaloide           </td>\n",
       "        </tr>\n",
       "        <tr>\n",
       "            <td>Carbono  </td> <td>C      </td> <td>6             </td> <td>12.011      </td> <td>No metal            </td>\n",
       "        </tr>\n",
       "        <tr>\n",
       "            <td>Nitrógeno</td> <td>N      </td> <td>7             </td> <td>14.007      </td> <td>No metal            </td>\n",
       "        </tr>\n",
       "        <tr>\n",
       "            <td>Oxígeno  </td> <td>O      </td> <td>8             </td> <td>15.999      </td> <td>No metal            </td>\n",
       "        </tr>\n",
       "        <tr>\n",
       "            <td>Flúor    </td> <td>F      </td> <td>9             </td> <td>18.998      </td> <td>No metal            </td>\n",
       "        </tr>\n",
       "        <tr>\n",
       "            <td>Neón     </td> <td>Ne     </td> <td>10            </td> <td>20.18       </td> <td>Gas noble           </td>\n",
       "        </tr>\n",
       "    </tbody>\n",
       "</table>\n",
       "<p>... (20 rows omitted)</p>"
      ],
      "text/plain": [
       "Nombre    | Símbolo | Número Atómico | Masa Atómica | Categoría\n",
       "Hidrógeno | H       | 1              | 1.008        | No metal\n",
       "Helio     | He      | 2              | 4.0026       | Gas noble\n",
       "Litio     | Li      | 3              | 6.94         | Metal alcalino\n",
       "Berilio   | Be      | 4              | 9.0122       | Metal alcalinotérreo\n",
       "Boro      | B       | 5              | 10.81        | Metaloide\n",
       "Carbono   | C       | 6              | 12.011       | No metal\n",
       "Nitrógeno | N       | 7              | 14.007       | No metal\n",
       "Oxígeno   | O       | 8              | 15.999       | No metal\n",
       "Flúor     | F       | 9              | 18.998       | No metal\n",
       "Neón      | Ne      | 10             | 20.18        | Gas noble\n",
       "... (20 rows omitted)"
      ]
     },
     "execution_count": 437,
     "metadata": {},
     "output_type": "execute_result"
    }
   ],
   "source": [
    "elementos"
   ]
  },
  {
   "cell_type": "code",
   "execution_count": 440,
   "id": "dc85638d-7dfc-496f-a906-3f2e1a34dae9",
   "metadata": {},
   "outputs": [
    {
     "data": {
      "text/html": [
       "<table border=\"1\" class=\"dataframe\">\n",
       "    <thead>\n",
       "        <tr>\n",
       "            <th>Nombre</th> <th>count</th>\n",
       "        </tr>\n",
       "    </thead>\n",
       "    <tbody>\n",
       "        <tr>\n",
       "            <td>Aluminio </td> <td>1    </td>\n",
       "        </tr>\n",
       "        <tr>\n",
       "            <td>Argón    </td> <td>1    </td>\n",
       "        </tr>\n",
       "        <tr>\n",
       "            <td>Azufre   </td> <td>1    </td>\n",
       "        </tr>\n",
       "        <tr>\n",
       "            <td>Berilio  </td> <td>1    </td>\n",
       "        </tr>\n",
       "        <tr>\n",
       "            <td>Boro     </td> <td>1    </td>\n",
       "        </tr>\n",
       "        <tr>\n",
       "            <td>Calcio   </td> <td>1    </td>\n",
       "        </tr>\n",
       "        <tr>\n",
       "            <td>Carbono  </td> <td>1    </td>\n",
       "        </tr>\n",
       "        <tr>\n",
       "            <td>Cloro    </td> <td>1    </td>\n",
       "        </tr>\n",
       "        <tr>\n",
       "            <td>Cobalto  </td> <td>1    </td>\n",
       "        </tr>\n",
       "        <tr>\n",
       "            <td>Cobre    </td> <td>1    </td>\n",
       "        </tr>\n",
       "        <tr>\n",
       "            <td>Cromo    </td> <td>1    </td>\n",
       "        </tr>\n",
       "        <tr>\n",
       "            <td>Escandio </td> <td>1    </td>\n",
       "        </tr>\n",
       "        <tr>\n",
       "            <td>Flúor    </td> <td>1    </td>\n",
       "        </tr>\n",
       "        <tr>\n",
       "            <td>Fósforo  </td> <td>1    </td>\n",
       "        </tr>\n",
       "        <tr>\n",
       "            <td>Helio    </td> <td>1    </td>\n",
       "        </tr>\n",
       "        <tr>\n",
       "            <td>Hidrógeno</td> <td>1    </td>\n",
       "        </tr>\n",
       "        <tr>\n",
       "            <td>Hierro   </td> <td>1    </td>\n",
       "        </tr>\n",
       "        <tr>\n",
       "            <td>Litio    </td> <td>1    </td>\n",
       "        </tr>\n",
       "        <tr>\n",
       "            <td>Magnesio </td> <td>1    </td>\n",
       "        </tr>\n",
       "        <tr>\n",
       "            <td>Manganeso</td> <td>1    </td>\n",
       "        </tr>\n",
       "        <tr>\n",
       "            <td>Neón     </td> <td>1    </td>\n",
       "        </tr>\n",
       "        <tr>\n",
       "            <td>Nitrógeno</td> <td>1    </td>\n",
       "        </tr>\n",
       "        <tr>\n",
       "            <td>Níquel   </td> <td>1    </td>\n",
       "        </tr>\n",
       "        <tr>\n",
       "            <td>Oxígeno  </td> <td>1    </td>\n",
       "        </tr>\n",
       "        <tr>\n",
       "            <td>Potasio  </td> <td>1    </td>\n",
       "        </tr>\n",
       "        <tr>\n",
       "            <td>Silicio  </td> <td>1    </td>\n",
       "        </tr>\n",
       "        <tr>\n",
       "            <td>Sodio    </td> <td>1    </td>\n",
       "        </tr>\n",
       "        <tr>\n",
       "            <td>Titanio  </td> <td>1    </td>\n",
       "        </tr>\n",
       "        <tr>\n",
       "            <td>Vanadio  </td> <td>1    </td>\n",
       "        </tr>\n",
       "        <tr>\n",
       "            <td>Zinc     </td> <td>1    </td>\n",
       "        </tr>\n",
       "    </tbody>\n",
       "</table>"
      ],
      "text/plain": [
       "<IPython.core.display.HTML object>"
      ]
     },
     "metadata": {},
     "output_type": "display_data"
    }
   ],
   "source": [
    "# Agrupar por la columna 'Nombre' y contar las ocurrencias\n",
    "conteo_nombres = elementos.group('Nombre')\n",
    "# Filtrar aquellos nombres que aparecen solo una vez\n",
    "nombres_unicos = conteo_nombres.where('count', 1)\n",
    "# Mostrar los nombres únicos\n",
    "nombres_unicos.show()"
   ]
  },
  {
   "cell_type": "markdown",
   "id": "446429e6-f596-4817-a5eb-f137bbdf9cf9",
   "metadata": {},
   "source": [
    "# Gráficas"
   ]
  },
  {
   "cell_type": "markdown",
   "id": "49fe1032-d5fe-4536-a370-6ef34696ca16",
   "metadata": {},
   "source": [
    "# Gráficos de dispersión"
   ]
  },
  {
   "cell_type": "code",
   "execution_count": 393,
   "id": "cac7a5ad-0ecf-4c05-8c6d-a4a8ef4e6bb7",
   "metadata": {},
   "outputs": [
    {
     "data": {
      "image/png": "[encoded data removed]",
      "text/plain": [
       "<Figure size 500x500 with 1 Axes>"
      ]
     },
     "metadata": {},
     "output_type": "display_data"
    }
   ],
   "source": [
    "animals.scatter(\"Altura (cm)\", \"Velocidad Promedio (km/h)\")"
   ]
  },
  {
   "cell_type": "markdown",
   "id": "50dd75ec-aef7-459d-8fca-039d8ec71647",
   "metadata": {},
   "source": [
    "Realizar un grafico tipo scatter para los animales que tiene una altura menor a 1000 cm y comparar con su velocidad promedio"
   ]
  },
  {
   "cell_type": "code",
   "execution_count": 394,
   "id": "87921de0-4289-41a8-8029-c3db1753347e",
   "metadata": {},
   "outputs": [
    {
     "data": {
      "text/html": [
       "<table border=\"1\" class=\"dataframe\">\n",
       "    <thead>\n",
       "        <tr>\n",
       "            <th>Unnamed: 0</th> <th>Animal</th> <th>Altura (cm)</th> <th>Peso (kg)</th> <th>Velocidad Promedio (km/h)</th>\n",
       "        </tr>\n",
       "    </thead>\n",
       "    <tbody>\n",
       "        <tr>\n",
       "            <td>1         </td> <td>Lobo Terrícola            </td> <td>45         </td> <td>11       </td> <td>27                       </td>\n",
       "        </tr>\n",
       "        <tr>\n",
       "            <td>3         </td> <td>León Africano             </td> <td>95         </td> <td>185      </td> <td>58                       </td>\n",
       "        </tr>\n",
       "        <tr>\n",
       "            <td>4         </td> <td>Perro Salvaje Africano    </td> <td>77.5       </td> <td>27       </td> <td>56                       </td>\n",
       "        </tr>\n",
       "        <tr>\n",
       "            <td>5         </td> <td>Íbice Alpino              </td> <td>84         </td> <td>69.5     </td> <td>60                       </td>\n",
       "        </tr>\n",
       "        <tr>\n",
       "            <td>6         </td> <td>Rana de la Selva Amazónica</td> <td>7.5        </td> <td>0        </td> <td>0.55                     </td>\n",
       "        </tr>\n",
       "        <tr>\n",
       "            <td>8         </td> <td>Oso Hormiguero            </td> <td>71.5       </td> <td>31.5     </td> <td>24                       </td>\n",
       "        </tr>\n",
       "        <tr>\n",
       "            <td>10        </td> <td>Órix Árabe                </td> <td>80         </td> <td>77.5     </td> <td>55                       </td>\n",
       "        </tr>\n",
       "        <tr>\n",
       "            <td>11        </td> <td>Zorro Ártico              </td> <td>27.5       </td> <td>5.75     </td> <td>60                       </td>\n",
       "        </tr>\n",
       "        <tr>\n",
       "            <td>14        </td> <td>Frailecillo Atlántico     </td> <td>27.5       </td> <td>560      </td> <td>40                       </td>\n",
       "        </tr>\n",
       "        <tr>\n",
       "            <td>17        </td> <td>Ajolote                   </td> <td>30         </td> <td>300      </td> <td>0.8                      </td>\n",
       "        </tr>\n",
       "    </tbody>\n",
       "</table>\n",
       "<p>... (100 rows omitted)</p>"
      ],
      "text/plain": [
       "Unnamed: 0 | Animal                     | Altura (cm) | Peso (kg) | Velocidad Promedio (km/h)\n",
       "1          | Lobo Terrícola             | 45          | 11        | 27\n",
       "3          | León Africano              | 95          | 185       | 58\n",
       "4          | Perro Salvaje Africano     | 77.5        | 27        | 56\n",
       "5          | Íbice Alpino               | 84          | 69.5      | 60\n",
       "6          | Rana de la Selva Amazónica | 7.5         | 0         | 0.55\n",
       "8          | Oso Hormiguero             | 71.5        | 31.5      | 24\n",
       "10         | Órix Árabe                 | 80          | 77.5      | 55\n",
       "11         | Zorro Ártico               | 27.5        | 5.75      | 60\n",
       "14         | Frailecillo Atlántico      | 27.5        | 560       | 40\n",
       "17         | Ajolote                    | 30          | 300       | 0.8\n",
       "... (100 rows omitted)"
      ]
     },
     "execution_count": 394,
     "metadata": {},
     "output_type": "execute_result"
    }
   ],
   "source": [
    "nuevos_animales = animals.where(\"Altura (cm)\", are.between(0,100))\n",
    "nuevos_animales"
   ]
  },
  {
   "cell_type": "code",
   "execution_count": 403,
   "id": "17048a45-0279-40d7-927d-70d874bd9578",
   "metadata": {},
   "outputs": [
    {
     "data": {
      "image/png": "[encoded data removed]",
      "text/plain": [
       "<Figure size 500x500 with 1 Axes>"
      ]
     },
     "metadata": {},
     "output_type": "display_data"
    }
   ],
   "source": [
    "nuevos_animales.scatter(\"Altura (cm)\", \"Velocidad Promedio (km/h)\")"
   ]
  },
  {
   "cell_type": "markdown",
   "id": "38069581-5a62-40ad-a8a1-f52cffc479ab",
   "metadata": {},
   "source": [
    "El siguiente data set contiene la siguiente informacion: \n",
    "\n",
    "Year (Año):\n",
    "Representa el año en el que se recopilan los datos.\n",
    "\n",
    "Total Gross (Recaudación Total):\n",
    "Es el total de ingresos generados por las películas lanzadas en ese año en millones de dolares. \n",
    "\n",
    "Number of Movies (Número de Películas):\n",
    "Indica cuántas películas fueron lanzadas en ese año. Este número incluye todas las películas que se proyectaron en cines comerciales durante ese período.\n",
    "\n",
    "#1 Movie (Película Número 1):\n",
    "Muestra el título de la película que tuvo el mejor rendimiento en la taquilla durante ese año, es decir, la película con los ingresos más altos."
   ]
  },
  {
   "cell_type": "code",
   "execution_count": 409,
   "id": "a0cc0a53-5fb4-4b89-b064-5e483d8f885f",
   "metadata": {},
   "outputs": [
    {
     "data": {
      "text/html": [
       "<table border=\"1\" class=\"dataframe\">\n",
       "    <thead>\n",
       "        <tr>\n",
       "            <th>Unnamed: 0</th> <th>Year</th> <th>Total Gross</th> <th>Number of Movies</th> <th>#1 Movie</th>\n",
       "        </tr>\n",
       "    </thead>\n",
       "    <tbody>\n",
       "        <tr>\n",
       "            <td>0         </td> <td>2015</td> <td>11128.5    </td> <td>702             </td> <td>Star Wars: The Force Awakens       </td>\n",
       "        </tr>\n",
       "        <tr>\n",
       "            <td>1         </td> <td>2014</td> <td>10360.8    </td> <td>702             </td> <td>American Sniper                    </td>\n",
       "        </tr>\n",
       "        <tr>\n",
       "            <td>2         </td> <td>2013</td> <td>10923.6    </td> <td>688             </td> <td>Catching Fire                      </td>\n",
       "        </tr>\n",
       "        <tr>\n",
       "            <td>3         </td> <td>2012</td> <td>10837.4    </td> <td>667             </td> <td>The Avengers                       </td>\n",
       "        </tr>\n",
       "        <tr>\n",
       "            <td>4         </td> <td>2011</td> <td>10174.3    </td> <td>602             </td> <td>Harry Potter / Deathly Hallows (P2)</td>\n",
       "        </tr>\n",
       "        <tr>\n",
       "            <td>5         </td> <td>2010</td> <td>10565.6    </td> <td>536             </td> <td>Toy Story 3                        </td>\n",
       "        </tr>\n",
       "        <tr>\n",
       "            <td>6         </td> <td>2009</td> <td>10595.5    </td> <td>521             </td> <td>Avatar                             </td>\n",
       "        </tr>\n",
       "        <tr>\n",
       "            <td>7         </td> <td>2008</td> <td>9630.7     </td> <td>608             </td> <td>The Dark Knight                    </td>\n",
       "        </tr>\n",
       "        <tr>\n",
       "            <td>8         </td> <td>2007</td> <td>9663.8     </td> <td>631             </td> <td>Spider-Man 3                       </td>\n",
       "        </tr>\n",
       "        <tr>\n",
       "            <td>9         </td> <td>2006</td> <td>9209.5     </td> <td>608             </td> <td>Dead Man's Chest                   </td>\n",
       "        </tr>\n",
       "    </tbody>\n",
       "</table>\n",
       "<p>... (26 rows omitted)</p>"
      ],
      "text/plain": [
       "Unnamed: 0 | Year | Total Gross | Number of Movies | #1 Movie\n",
       "0          | 2015 | 11128.5     | 702              | Star Wars: The Force Awakens\n",
       "1          | 2014 | 10360.8     | 702              | American Sniper\n",
       "2          | 2013 | 10923.6     | 688              | Catching Fire\n",
       "3          | 2012 | 10837.4     | 667              | The Avengers\n",
       "4          | 2011 | 10174.3     | 602              | Harry Potter / Deathly Hallows (P2)\n",
       "5          | 2010 | 10565.6     | 536              | Toy Story 3\n",
       "6          | 2009 | 10595.5     | 521              | Avatar\n",
       "7          | 2008 | 9630.7      | 608              | The Dark Knight\n",
       "8          | 2007 | 9663.8      | 631              | Spider-Man 3\n",
       "9          | 2006 | 9209.5      | 608              | Dead Man's Chest\n",
       "... (26 rows omitted)"
      ]
     },
     "execution_count": 409,
     "metadata": {},
     "output_type": "execute_result"
    }
   ],
   "source": [
    "movies=Table().read_table(\"movies.csv\")\n",
    "movies"
   ]
  },
  {
   "cell_type": "markdown",
   "id": "376e9a8e-5dce-44e2-9a98-516b64b3c853",
   "metadata": {},
   "source": [
    "# Gráficos de lineas"
   ]
  },
  {
   "cell_type": "code",
   "execution_count": 420,
   "id": "a219c46b-b7f0-4bb3-8ea8-df240039eb15",
   "metadata": {},
   "outputs": [
    {
     "data": {
      "image/png": "[encoded data removed]",
      "text/plain": [
       "<Figure size 600x600 with 1 Axes>"
      ]
     },
     "metadata": {},
     "output_type": "display_data"
    }
   ],
   "source": [
    "%matplotlib inline\n",
    "plt.style.use('fivethirtyeight')\n",
    "movies.plot('Year', 'Number of Movies')"
   ]
  },
  {
   "cell_type": "code",
   "execution_count": 414,
   "id": "15f5d132-74e9-4883-ac79-84e8a33f624d",
   "metadata": {},
   "outputs": [],
   "source": [
    "century_21 = movies.where('Year', are.above(1999))"
   ]
  },
  {
   "cell_type": "code",
   "execution_count": 418,
   "id": "12500fd8-67d9-4b76-b5f2-9fd969a43372",
   "metadata": {},
   "outputs": [
    {
     "data": {
      "image/png": "[encoded data removed]",
      "text/plain": [
       "<Figure size 600x600 with 1 Axes>"
      ]
     },
     "metadata": {},
     "output_type": "display_data"
    }
   ],
   "source": [
    "century_21.plot('Year', 'Number of Movies')"
   ]
  },
  {
   "cell_type": "code",
   "execution_count": 419,
   "id": "fde10ed1-a856-4656-a76f-41a0e073057d",
   "metadata": {},
   "outputs": [
    {
     "data": {
      "image/png": "[encoded data removed]",
      "text/plain": [
       "<Figure size 600x600 with 1 Axes>"
      ]
     },
     "metadata": {},
     "output_type": "display_data"
    }
   ],
   "source": [
    "century_21.plot('Year', 'Total Gross')"
   ]
  },
  {
   "cell_type": "code",
   "execution_count": null,
   "id": "efa3422d-8c6e-4b3a-b669-7d36e5ae9169",
   "metadata": {},
   "outputs": [],
   "source": []
  },
  {
   "cell_type": "code",
   "execution_count": null,
   "id": "fe7dce37-dbc0-4c81-ae3f-681aa772670d",
   "metadata": {},
   "outputs": [],
   "source": []
  },
  {
   "cell_type": "markdown",
   "id": "561165f2-39d3-4057-8811-80f79e66f60b",
   "metadata": {},
   "source": [
    "# Variables categóricas\n",
    "\n",
    "Una variable categórica es un tipo de variable que toma un conjunto limitado de valores posibles y cada uno de esos valores representa una categoría o un grupo. Estas variables no tienen un orden inherente, lo que significa que no se puede hacer una comparación natural entre sus valores (por ejemplo, no se puede decir que una categoría es \"mayor\" o \"menor\" que otra).\n",
    "\n",
    "**Nominales:** Las categorías no tienen un orden específico. Ejemplos incluyen el color de un automóvil (rojo, azul, verde) o el tipo de comida (italiana, mexicana, china).\n",
    "\n",
    "**Ordinales:** Las categorías tienen un orden lógico, pero la diferencia entre ellas no es medible o significativa. Ejemplo: nivel educativo (primaria, secundaria, universidad).\n",
    "\n",
    "\n",
    "Ejemplo: \n",
    "\n",
    "    - Nominales:\n",
    "    \n",
    "        - Color de ojos \n",
    "        \n",
    "        - Tipo de vehiculo\n",
    "        \n",
    "        - Estado civil \n",
    "\n",
    "    - Ordinales:\n",
    "    \n",
    "        - Talla de ropa: S, M, L XL\n",
    "        \n",
    "        - Grado escolar: primaria, secundaria, universitarios, posgrado\n",
    "        \n"
   ]
  },
  {
   "cell_type": "code",
   "execution_count": 387,
   "id": "977a4563-2ac4-41af-b646-c42dc55341db",
   "metadata": {},
   "outputs": [],
   "source": [
    "# Gráficas\n",
    "import matplotlib.pylab as plt\n",
    "%matplotlib inline"
   ]
  },
  {
   "cell_type": "code",
   "execution_count": 158,
   "id": "a629360d-8cbd-488b-90a9-a60c093bf9d8",
   "metadata": {},
   "outputs": [],
   "source": [
    "frutas = Table().with_columns(\"Fruta\", [\"Manzana\", \"Mangostino\",\"Mandrono\", \"Uva\", \"Pera\"], \\\n",
    "    \"Color\", [\"Rojo\", \"Cafe Oscuro\",\"Amarillo\",  \"Morado\", \"Verde\"], \\\n",
    "    \"Cantidad\", make_array(10, 20, 10, 100,20)  )"
   ]
  },
  {
   "cell_type": "code",
   "execution_count": 159,
   "id": "2b4db3d1-b80d-4676-94d7-6224e7ac7254",
   "metadata": {},
   "outputs": [
    {
     "data": {
      "text/html": [
       "<table border=\"1\" class=\"dataframe\">\n",
       "    <thead>\n",
       "        <tr>\n",
       "            <th>Fruta</th> <th>Color</th> <th>Cantidad</th>\n",
       "        </tr>\n",
       "    </thead>\n",
       "    <tbody>\n",
       "        <tr>\n",
       "            <td>Manzana   </td> <td>Rojo       </td> <td>10      </td>\n",
       "        </tr>\n",
       "        <tr>\n",
       "            <td>Mangostino</td> <td>Cafe Oscuro</td> <td>20      </td>\n",
       "        </tr>\n",
       "        <tr>\n",
       "            <td>Mandrono  </td> <td>Amarillo   </td> <td>10      </td>\n",
       "        </tr>\n",
       "        <tr>\n",
       "            <td>Uva       </td> <td>Morado     </td> <td>100     </td>\n",
       "        </tr>\n",
       "        <tr>\n",
       "            <td>Pera      </td> <td>Verde      </td> <td>20      </td>\n",
       "        </tr>\n",
       "    </tbody>\n",
       "</table>"
      ],
      "text/plain": [
       "Fruta      | Color       | Cantidad\n",
       "Manzana    | Rojo        | 10\n",
       "Mangostino | Cafe Oscuro | 20\n",
       "Mandrono   | Amarillo    | 10\n",
       "Uva        | Morado      | 100\n",
       "Pera       | Verde       | 20"
      ]
     },
     "execution_count": 159,
     "metadata": {},
     "output_type": "execute_result"
    }
   ],
   "source": [
    "frutas"
   ]
  },
  {
   "cell_type": "code",
   "execution_count": 164,
   "id": "73199e18-d5a2-4653-a54c-21b2664a65bc",
   "metadata": {},
   "outputs": [
    {
     "data": {
      "image/png": "[encoded data removed]",
      "text/plain": [
       "<Figure size 600x400 with 1 Axes>"
      ]
     },
     "metadata": {},
     "output_type": "display_data"
    }
   ],
   "source": [
    "frutas.barh(\"Fruta\", \"Cantidad\")"
   ]
  },
  {
   "cell_type": "code",
   "execution_count": 167,
   "id": "d2ff268a-920b-4eb0-a1c0-6caaa565bda5",
   "metadata": {},
   "outputs": [
    {
     "data": {
      "image/png": "[encoded data removed]",
      "text/plain": [
       "<Figure size 600x400 with 1 Axes>"
      ]
     },
     "metadata": {},
     "output_type": "display_data"
    }
   ],
   "source": [
    "frutas.sort(\"Cantidad\", descending = True).barh(\"Fruta\", \"Cantidad\")"
   ]
  },
  {
   "cell_type": "code",
   "execution_count": 190,
   "id": "56c56065-cf6e-4f9c-b018-e42e40ef8d8e",
   "metadata": {},
   "outputs": [],
   "source": [
    "# Operacion group by: "
   ]
  },
  {
   "cell_type": "code",
   "execution_count": 191,
   "id": "97612e9d-18a7-46ff-9df7-ce69aafa852e",
   "metadata": {},
   "outputs": [
    {
     "data": {
      "text/html": [
       "<table border=\"1\" class=\"dataframe\">\n",
       "    <thead>\n",
       "        <tr>\n",
       "            <th>Unnamed: 0</th> <th>Rank</th> <th>CCA3</th> <th>Country/Territory</th> <th>Capital</th> <th>Continent</th> <th>2022 Population</th> <th>2020 Population</th> <th>2015 Population</th> <th>2010 Population</th> <th>2000 Population</th> <th>1990 Population</th> <th>1980 Population</th> <th>1970 Population</th> <th>Area (km²)</th> <th>Density (per km²)</th> <th>Growth Rate</th> <th>World Population Percentage</th>\n",
       "        </tr>\n",
       "    </thead>\n",
       "    <tbody>\n",
       "        <tr>\n",
       "            <td>0         </td> <td>36  </td> <td>AFG </td> <td>Afghanistan        </td> <td>Kabul           </td> <td>Asia         </td> <td>41128771       </td> <td>38972230       </td> <td>33753499       </td> <td>28189672       </td> <td>19542982       </td> <td>10694796       </td> <td>12486631       </td> <td>10752971       </td> <td>652230    </td> <td>63.0587          </td> <td>1.0257     </td> <td>0.52                       </td>\n",
       "        </tr>\n",
       "        <tr>\n",
       "            <td>1         </td> <td>138 </td> <td>ALB </td> <td>Albania            </td> <td>Tirana          </td> <td>Europe       </td> <td>2842321        </td> <td>2866849        </td> <td>2882481        </td> <td>2913399        </td> <td>3182021        </td> <td>3295066        </td> <td>2941651        </td> <td>2324731        </td> <td>28748     </td> <td>98.8702          </td> <td>0.9957     </td> <td>0.04                       </td>\n",
       "        </tr>\n",
       "        <tr>\n",
       "            <td>2         </td> <td>34  </td> <td>DZA </td> <td>Algeria            </td> <td>Algiers         </td> <td>Africa       </td> <td>44903225       </td> <td>43451666       </td> <td>39543154       </td> <td>35856344       </td> <td>30774621       </td> <td>25518074       </td> <td>18739378       </td> <td>13795915       </td> <td>2381741   </td> <td>18.8531          </td> <td>1.0164     </td> <td>0.56                       </td>\n",
       "        </tr>\n",
       "        <tr>\n",
       "            <td>3         </td> <td>213 </td> <td>ASM </td> <td>American Samoa     </td> <td>Pago Pago       </td> <td>Oceania      </td> <td>44273          </td> <td>46189          </td> <td>51368          </td> <td>54849          </td> <td>58230          </td> <td>47818          </td> <td>32886          </td> <td>27075          </td> <td>199       </td> <td>222.477          </td> <td>0.9831     </td> <td>0                          </td>\n",
       "        </tr>\n",
       "        <tr>\n",
       "            <td>4         </td> <td>203 </td> <td>AND </td> <td>Andorra            </td> <td>Andorra la Vella</td> <td>Europe       </td> <td>79824          </td> <td>77700          </td> <td>71746          </td> <td>71519          </td> <td>66097          </td> <td>53569          </td> <td>35611          </td> <td>19860          </td> <td>468       </td> <td>170.564          </td> <td>1.01       </td> <td>0                          </td>\n",
       "        </tr>\n",
       "        <tr>\n",
       "            <td>5         </td> <td>42  </td> <td>AGO </td> <td>Angola             </td> <td>Luanda          </td> <td>Africa       </td> <td>35588987       </td> <td>33428485       </td> <td>28127721       </td> <td>23364185       </td> <td>16394062       </td> <td>11828638       </td> <td>8330047        </td> <td>6029700        </td> <td>1246700   </td> <td>28.5466          </td> <td>1.0315     </td> <td>0.45                       </td>\n",
       "        </tr>\n",
       "        <tr>\n",
       "            <td>6         </td> <td>224 </td> <td>AIA </td> <td>Anguilla           </td> <td>The Valley      </td> <td>North America</td> <td>15857          </td> <td>15585          </td> <td>14525          </td> <td>13172          </td> <td>11047          </td> <td>8316           </td> <td>6560           </td> <td>6283           </td> <td>91        </td> <td>174.253          </td> <td>1.0066     </td> <td>0                          </td>\n",
       "        </tr>\n",
       "        <tr>\n",
       "            <td>7         </td> <td>201 </td> <td>ATG </td> <td>Antigua and Barbuda</td> <td>Saint John’s    </td> <td>North America</td> <td>93763          </td> <td>92664          </td> <td>89941          </td> <td>85695          </td> <td>75055          </td> <td>63328          </td> <td>64888          </td> <td>64516          </td> <td>442       </td> <td>212.133          </td> <td>1.0058     </td> <td>0                          </td>\n",
       "        </tr>\n",
       "        <tr>\n",
       "            <td>8         </td> <td>33  </td> <td>ARG </td> <td>Argentina          </td> <td>Buenos Aires    </td> <td>South America</td> <td>45510318       </td> <td>45036032       </td> <td>43257065       </td> <td>41100123       </td> <td>37070774       </td> <td>32637657       </td> <td>28024803       </td> <td>23842803       </td> <td>2780400   </td> <td>16.3683          </td> <td>1.0052     </td> <td>0.57                       </td>\n",
       "        </tr>\n",
       "        <tr>\n",
       "            <td>9         </td> <td>140 </td> <td>ARM </td> <td>Armenia            </td> <td>Yerevan         </td> <td>Asia         </td> <td>2780469        </td> <td>2805608        </td> <td>2878595        </td> <td>2946293        </td> <td>3168523        </td> <td>3556539        </td> <td>3135123        </td> <td>2534377        </td> <td>29743     </td> <td>93.4831          </td> <td>0.9962     </td> <td>0.03                       </td>\n",
       "        </tr>\n",
       "    </tbody>\n",
       "</table>\n",
       "<p>... (224 rows omitted)</p>"
      ],
      "text/plain": [
       "Unnamed: 0 | Rank | CCA3 | Country/Territory   | Capital          | Continent     | 2022 Population | 2020 Population | 2015 Population | 2010 Population | 2000 Population | 1990 Population | 1980 Population | 1970 Population | Area (km²) | Density (per km²) | Growth Rate | World Population Percentage\n",
       "0          | 36   | AFG  | Afghanistan         | Kabul            | Asia          | 41128771        | 38972230        | 33753499        | 28189672        | 19542982        | 10694796        | 12486631        | 10752971        | 652230     | 63.0587           | 1.0257      | 0.52\n",
       "1          | 138  | ALB  | Albania             | Tirana           | Europe        | 2842321         | 2866849         | 2882481         | 2913399         | 3182021         | 3295066         | 2941651         | 2324731         | 28748      | 98.8702           | 0.9957      | 0.04\n",
       "2          | 34   | DZA  | Algeria             | Algiers          | Africa        | 44903225        | 43451666        | 39543154        | 35856344        | 30774621        | 25518074        | 18739378        | 13795915        | 2381741    | 18.8531           | 1.0164      | 0.56\n",
       "3          | 213  | ASM  | American Samoa      | Pago Pago        | Oceania       | 44273           | 46189           | 51368           | 54849           | 58230           | 47818           | 32886           | 27075           | 199        | 222.477           | 0.9831      | 0\n",
       "4          | 203  | AND  | Andorra             | Andorra la Vella | Europe        | 79824           | 77700           | 71746           | 71519           | 66097           | 53569           | 35611           | 19860           | 468        | 170.564           | 1.01        | 0\n",
       "5          | 42   | AGO  | Angola              | Luanda           | Africa        | 35588987        | 33428485        | 28127721        | 23364185        | 16394062        | 11828638        | 8330047         | 6029700         | 1246700    | 28.5466           | 1.0315      | 0.45\n",
       "6          | 224  | AIA  | Anguilla            | The Valley       | North America | 15857           | 15585           | 14525           | 13172           | 11047           | 8316            | 6560            | 6283            | 91         | 174.253           | 1.0066      | 0\n",
       "7          | 201  | ATG  | Antigua and Barbuda | Saint John’s     | North America | 93763           | 92664           | 89941           | 85695           | 75055           | 63328           | 64888           | 64516           | 442        | 212.133           | 1.0058      | 0\n",
       "8          | 33   | ARG  | Argentina           | Buenos Aires     | South America | 45510318        | 45036032        | 43257065        | 41100123        | 37070774        | 32637657        | 28024803        | 23842803        | 2780400    | 16.3683           | 1.0052      | 0.57\n",
       "9          | 140  | ARM  | Armenia             | Yerevan          | Asia          | 2780469         | 2805608         | 2878595         | 2946293         | 3168523         | 3556539         | 3135123         | 2534377         | 29743      | 93.4831           | 0.9962      | 0.03\n",
       "... (224 rows omitted)"
      ]
     },
     "execution_count": 191,
     "metadata": {},
     "output_type": "execute_result"
    }
   ],
   "source": [
    "poblacion = Table().read_table(\"poblacion_mundial.csv\")\n",
    "poblacion"
   ]
  },
  {
   "cell_type": "code",
   "execution_count": 237,
   "id": "f559f90c-5372-466c-8ac7-62acacc8c451",
   "metadata": {},
   "outputs": [
    {
     "data": {
      "text/plain": [
       "Text(0, 0.5, 'Continente')"
      ]
     },
     "execution_count": 237,
     "metadata": {},
     "output_type": "execute_result"
    },
    {
     "data": {
      "image/png": "[encoded data removed]",
      "text/plain": [
       "<Figure size 600x400 with 1 Axes>"
      ]
     },
     "metadata": {},
     "output_type": "display_data"
    }
   ],
   "source": [
    "poblacion.group(\"Continent\", sum).barh(\"Continent\", \"2022 Population sum\")\n",
    "plt.xlabel(\"Poblacion mundial 2n 2022\")\n",
    "plt.ylabel(\"Continente\")"
   ]
  },
  {
   "cell_type": "code",
   "execution_count": 203,
   "id": "17ea616e-adc1-4124-bcc0-bf5f02e4f4d2",
   "metadata": {},
   "outputs": [],
   "source": [
    "poblacion_continente = poblacion.group(\"Continent\", sum)"
   ]
  },
  {
   "cell_type": "code",
   "execution_count": 224,
   "id": "69946324-e7b5-43be-848a-cce5625c53d0",
   "metadata": {},
   "outputs": [],
   "source": [
    "pob_mundial = np.sum(poblacion_continente.column(\"2022 Population sum\"))"
   ]
  },
  {
   "cell_type": "code",
   "execution_count": 246,
   "id": "09128e93-9419-47e8-ab2e-e09ba80fda9b",
   "metadata": {},
   "outputs": [
    {
     "name": "stdout",
     "output_type": "stream",
     "text": [
      "Numero en notación científica 7.973413e+09\n",
      "Numero mostrado separado por comas 7,973,413,042\n"
     ]
    }
   ],
   "source": [
    "print(f\"Numero en notación científica {pob_mundial:.6e}\")\n",
    "print(f\"Numero mostrado separado por comas {pob_mundial:,}\")"
   ]
  },
  {
   "cell_type": "markdown",
   "id": "b8778fdc-a391-4251-b7bf-9dd68140198d",
   "metadata": {},
   "source": [
    "# Cajas sobre los datos"
   ]
  },
  {
   "cell_type": "code",
   "execution_count": 261,
   "id": "721c81be-c955-4d08-824c-b133f80558ad",
   "metadata": {},
   "outputs": [
    {
     "data": {
      "text/plain": [
       "(4.5, 3200.0)"
      ]
     },
     "execution_count": 261,
     "metadata": {},
     "output_type": "execute_result"
    }
   ],
   "source": [
    "altura = animales.column(\"Altura (cm)\")\n",
    "min(altura), max(altura)"
   ]
  },
  {
   "cell_type": "code",
   "execution_count": 265,
   "id": "2d5b7f06-31fd-4aa4-86a0-0483bad76074",
   "metadata": {},
   "outputs": [
    {
     "data": {
      "text/html": [
       "<table border=\"1\" class=\"dataframe\">\n",
       "    <thead>\n",
       "        <tr>\n",
       "            <th>bin</th> <th>Altura (cm) count</th>\n",
       "        </tr>\n",
       "    </thead>\n",
       "    <tbody>\n",
       "        <tr>\n",
       "            <td>4   </td> <td>11               </td>\n",
       "        </tr>\n",
       "        <tr>\n",
       "            <td>14  </td> <td>7                </td>\n",
       "        </tr>\n",
       "        <tr>\n",
       "            <td>24  </td> <td>11               </td>\n",
       "        </tr>\n",
       "        <tr>\n",
       "            <td>34  </td> <td>12               </td>\n",
       "        </tr>\n",
       "        <tr>\n",
       "            <td>44  </td> <td>14               </td>\n",
       "        </tr>\n",
       "        <tr>\n",
       "            <td>54  </td> <td>21               </td>\n",
       "        </tr>\n",
       "        <tr>\n",
       "            <td>64  </td> <td>7                </td>\n",
       "        </tr>\n",
       "        <tr>\n",
       "            <td>74  </td> <td>13               </td>\n",
       "        </tr>\n",
       "        <tr>\n",
       "            <td>84  </td> <td>9                </td>\n",
       "        </tr>\n",
       "        <tr>\n",
       "            <td>94  </td> <td>0                </td>\n",
       "        </tr>\n",
       "    </tbody>\n",
       "</table>"
      ],
      "text/plain": [
       "bin  | Altura (cm) count\n",
       "4    | 11\n",
       "14   | 7\n",
       "24   | 11\n",
       "34   | 12\n",
       "44   | 14\n",
       "54   | 21\n",
       "64   | 7\n",
       "74   | 13\n",
       "84   | 9\n",
       "94   | 0"
      ]
     },
     "execution_count": 265,
     "metadata": {},
     "output_type": "execute_result"
    }
   ],
   "source": [
    "animales.bin(\"Altura (cm)\", bins=np.arange(4, 100,10))"
   ]
  },
  {
   "cell_type": "markdown",
   "id": "dcadc7bf-e372-4304-9981-ebc2666b1626",
   "metadata": {},
   "source": [
    "La anterior tabla muestra el conteo de animales, con los siguiente detalles \n",
    "\n",
    "- Entre [4, 14) hay 11 conteos\n",
    "\n",
    "- Entre [14, 24) hay 7 conteos y asi sucecivamente\n",
    "...\n",
    "\n"
   ]
  },
  {
   "cell_type": "code",
   "execution_count": 268,
   "id": "6b6f121b-10d4-4546-a27e-f0a10f17d2f6",
   "metadata": {},
   "outputs": [
    {
     "data": {
      "text/html": [
       "<table border=\"1\" class=\"dataframe\">\n",
       "    <thead>\n",
       "        <tr>\n",
       "            <th>bin</th> <th>Altura (cm) count</th>\n",
       "        </tr>\n",
       "    </thead>\n",
       "    <tbody>\n",
       "        <tr>\n",
       "            <td>4.5   </td> <td>158              </td>\n",
       "        </tr>\n",
       "        <tr>\n",
       "            <td>295   </td> <td>10               </td>\n",
       "        </tr>\n",
       "        <tr>\n",
       "            <td>585.5 </td> <td>3                </td>\n",
       "        </tr>\n",
       "        <tr>\n",
       "            <td>876   </td> <td>1                </td>\n",
       "        </tr>\n",
       "        <tr>\n",
       "            <td>1166.5</td> <td>1                </td>\n",
       "        </tr>\n",
       "        <tr>\n",
       "            <td>1457  </td> <td>1                </td>\n",
       "        </tr>\n",
       "        <tr>\n",
       "            <td>1747.5</td> <td>2                </td>\n",
       "        </tr>\n",
       "        <tr>\n",
       "            <td>2038  </td> <td>1                </td>\n",
       "        </tr>\n",
       "        <tr>\n",
       "            <td>2328.5</td> <td>0                </td>\n",
       "        </tr>\n",
       "        <tr>\n",
       "            <td>2619  </td> <td>0                </td>\n",
       "        </tr>\n",
       "    </tbody>\n",
       "</table>\n",
       "<p>... (2 rows omitted)</p>"
      ],
      "text/plain": [
       "bin    | Altura (cm) count\n",
       "4.5    | 158\n",
       "295    | 10\n",
       "585.5  | 3\n",
       "876    | 1\n",
       "1166.5 | 1\n",
       "1457   | 1\n",
       "1747.5 | 2\n",
       "2038   | 1\n",
       "2328.5 | 0\n",
       "2619   | 0\n",
       "... (2 rows omitted)"
      ]
     },
     "execution_count": 268,
     "metadata": {},
     "output_type": "execute_result"
    }
   ],
   "source": [
    "# Otra forma de realizarso seria\n",
    "\n",
    "animales.bin(\"Altura (cm)\", bins=11)"
   ]
  },
  {
   "cell_type": "markdown",
   "id": "71a91c0f-b335-43b5-a33a-1d5b333e9c9a",
   "metadata": {},
   "source": [
    "# Histograma\n",
    "\n",
    "Un histograma es una representación gráfica que muestra la distribución de un conjunto de datos numéricos. Se utiliza para visualizar cómo se distribuyen los valores de una variable en diferentes rangos (llamados bins o intervalos). A diferencia de un gráfico de barras tradicional, donde las barras representan categorías, en un histograma las barras representan frecuencias de datos que caen dentro de cada bin.\n",
    "\n",
    "## Características clave de un histograma:\n",
    "\n",
    "- **Eje horizontal (x):** Representa los intervalos o bins, que agrupan los datos en rangos. Cada bin cubre un rango específico de valores numéricos.\n",
    "\n",
    "- **Eje vertical (y):** Representa la frecuencia o el número de veces que los datos caen dentro de cada bin.\n",
    "Barras: La altura de cada barra refleja la cantidad de observaciones que caen dentro del bin correspondiente."
   ]
  },
  {
   "cell_type": "code",
   "execution_count": 272,
   "id": "322d767e-3471-43ee-8786-60d11c173bf2",
   "metadata": {},
   "outputs": [
    {
     "data": {
      "image/png": "[encoded data removed]",
      "text/plain": [
       "<Figure size 600x400 with 1 Axes>"
      ]
     },
     "metadata": {},
     "output_type": "display_data"
    }
   ],
   "source": [
    "animales.hist(\"Velocidad Promedio (km/h)\", bins=np.arange(0,120,10))"
   ]
  },
  {
   "cell_type": "code",
   "execution_count": 275,
   "id": "5057f33b-8130-4ce6-8fc2-da7e0e06d0cc",
   "metadata": {},
   "outputs": [
    {
     "data": {
      "image/png": "[encoded data removed]",
      "text/plain": [
       "<Figure size 600x400 with 1 Axes>"
      ]
     },
     "metadata": {},
     "output_type": "display_data"
    }
   ],
   "source": [
    "animales.hist(\"Peso (kg)\", bins=np.arange(0,120,10))"
   ]
  },
  {
   "cell_type": "markdown",
   "id": "b9178983-0730-43cd-acc3-95c2547818ba",
   "metadata": {},
   "source": [
    "# Principio del area.\n",
    "\n",
    "El principio del área es una regla fundamental en la visualización de datos que establece que el tamaño de los elementos visuales en un gráfico debe ser proporcional a la cantidad de datos que representan. En otras palabras, el área de cualquier elemento gráfico, como barras, puntos o segmentos, debe reflejar con precisión el valor o la frecuencia de los datos que está representando.\n",
    "\n",
    "## Aplicación en gráficos:\n",
    "\n",
    "En un histograma, el área de cada barra es proporcional a la frecuencia o cantidad de datos en ese intervalo (bin).\n",
    "En un gráfico de barras, la longitud de cada barra es proporcional al valor de la variable que representa.\n",
    "En gráficos más complejos, como los diagramas de sectores o gráficos de burbujas, el área de los sectores o burbujas debe ser proporcional a los valores de los datos.\n"
   ]
  },
  {
   "cell_type": "code",
   "execution_count": 285,
   "id": "59aee1a2-7719-4356-b98e-c4b62db38838",
   "metadata": {},
   "outputs": [],
   "source": [
    "# Construir un histograma para la velocidad promedio\n",
    "..."
   ]
  },
  {
   "cell_type": "markdown",
   "id": "f009920b-3c9f-4dc4-b2b9-cceabe5d961f",
   "metadata": {},
   "source": [
    "Los [histogramas](\"https://inferentialthinking.com/chapters/07/2/Visualizing_Numerical_Distributions.html\") siguen el principio del área y tienen dos propiedades:\n",
    "\n",
    "- Las cajas se dibujan a escala y son contiguos (aunque algunos podrían estar vacíos), porque los valores en el eje horizontal son numéricos y, por lo tanto, tienen posiciones fijas en la línea numérica.\n",
    "\n",
    "- El área de cada barra es proporcional al número de entradas en el contenedor.\n",
    "\n",
    "\n",
    "`Area de la barra = Porcentaje de datos en el bin`\n",
    "\n",
    "`Altura de la barra =  Area de la barra/Ancho del bin`\n",
    "\n",
    "Las unidades del eje dependiente son : porcentaje por undidad en el eje horizontal, análogo a una densidad\n"
   ]
  },
  {
   "cell_type": "code",
   "execution_count": 354,
   "id": "e43fb262-4aad-4b8b-81a0-741ddb5bba25",
   "metadata": {},
   "outputs": [
    {
     "data": {
      "image/png": "[encoded data removed]",
      "text/plain": [
       "<Figure size 600x400 with 1 Axes>"
      ]
     },
     "metadata": {},
     "output_type": "display_data"
    }
   ],
   "source": [
    "animales.hist(\"Altura (cm)\", bins=np.arange(0,200,10))\n",
    "#plt.ylabel(\"porcentaje por kg\")"
   ]
  },
  {
   "cell_type": "code",
   "execution_count": 355,
   "id": "4d44d318-4866-46b3-9bbe-9796a1d01302",
   "metadata": {},
   "outputs": [],
   "source": [
    "bins = np.arange(0,200,10)"
   ]
  },
  {
   "cell_type": "code",
   "execution_count": 360,
   "id": "d2a93ae9-0196-4c5a-8d21-ba69daa3355a",
   "metadata": {},
   "outputs": [
    {
     "data": {
      "text/plain": [
       "146"
      ]
     },
     "execution_count": 360,
     "metadata": {},
     "output_type": "execute_result"
    }
   ],
   "source": [
    "np.sum(animales.bin(\"Altura (cm)\", bins = bins).column(\"Altura (cm) count\"))"
   ]
  },
  {
   "cell_type": "code",
   "execution_count": 363,
   "id": "a59c79ef-48b1-4bf5-9930-a0f7c16996d1",
   "metadata": {},
   "outputs": [
    {
     "data": {
      "text/html": [
       "<table border=\"1\" class=\"dataframe\">\n",
       "    <thead>\n",
       "        <tr>\n",
       "            <th>bin</th> <th>Altura (cm) count</th>\n",
       "        </tr>\n",
       "    </thead>\n",
       "    <tbody>\n",
       "        <tr>\n",
       "            <td>0   </td> <td>7                </td>\n",
       "        </tr>\n",
       "        <tr>\n",
       "            <td>10  </td> <td>8                </td>\n",
       "        </tr>\n",
       "        <tr>\n",
       "            <td>20  </td> <td>8                </td>\n",
       "        </tr>\n",
       "        <tr>\n",
       "            <td>30  </td> <td>14               </td>\n",
       "        </tr>\n",
       "        <tr>\n",
       "            <td>40  </td> <td>10               </td>\n",
       "        </tr>\n",
       "        <tr>\n",
       "            <td>50  </td> <td>18               </td>\n",
       "        </tr>\n",
       "        <tr>\n",
       "            <td>60  </td> <td>15               </td>\n",
       "        </tr>\n",
       "        <tr>\n",
       "            <td>70  </td> <td>7                </td>\n",
       "        </tr>\n",
       "        <tr>\n",
       "            <td>80  </td> <td>12               </td>\n",
       "        </tr>\n",
       "        <tr>\n",
       "            <td>90  </td> <td>11               </td>\n",
       "        </tr>\n",
       "    </tbody>\n",
       "</table>\n",
       "<p>... (10 rows omitted)</p>"
      ],
      "text/plain": [
       "bin  | Altura (cm) count\n",
       "0    | 7\n",
       "10   | 8\n",
       "20   | 8\n",
       "30   | 14\n",
       "40   | 10\n",
       "50   | 18\n",
       "60   | 15\n",
       "70   | 7\n",
       "80   | 12\n",
       "90   | 11\n",
       "... (10 rows omitted)"
      ]
     },
     "execution_count": 363,
     "metadata": {},
     "output_type": "execute_result"
    }
   ],
   "source": [
    "animales.bin(\"Altura (cm)\", bins = bins)"
   ]
  },
  {
   "cell_type": "code",
   "execution_count": 361,
   "id": "0a293b75-85ec-479e-a0b6-055014511693",
   "metadata": {},
   "outputs": [
    {
     "data": {
      "image/png": "[encoded data removed]",
      "text/plain": [
       "<Figure size 600x400 with 1 Axes>"
      ]
     },
     "metadata": {},
     "output_type": "display_data"
    }
   ],
   "source": [
    "animales.hist(\"Altura (cm)\", bins= np.arange(0,200,10))"
   ]
  },
  {
   "cell_type": "code",
   "execution_count": 375,
   "id": "1bfe5d21-25cd-40bc-b6ff-5e66988fa541",
   "metadata": {},
   "outputs": [
    {
     "data": {
      "text/plain": [
       "12.32876712328767"
      ]
     },
     "execution_count": 375,
     "metadata": {},
     "output_type": "execute_result"
    }
   ],
   "source": [
    "Altura = (18./146)*100\n",
    "#Altura/10\n",
    "Altura"
   ]
  },
  {
   "cell_type": "markdown",
   "id": "7a964fb2-e9e9-4c2f-b327-87c72aba3a7d",
   "metadata": {},
   "source": [
    "La altura de la barra de es de 12 dividida por 10 que es el tamano del bin"
   ]
  },
  {
   "cell_type": "code",
   "execution_count": 378,
   "id": "397d16e1-bfdd-475c-a710-44938b2e48bb",
   "metadata": {},
   "outputs": [
    {
     "data": {
      "image/png": "[encoded data removed]",
      "text/plain": [
       "<Figure size 600x400 with 1 Axes>"
      ]
     },
     "metadata": {},
     "output_type": "display_data"
    }
   ],
   "source": [
    "animales.hist(\"Altura (cm)\", bins= make_array(0,100,200, 300, 400, 5000), normed=False)"
   ]
  },
  {
   "cell_type": "code",
   "execution_count": 379,
   "id": "d8ab9518-cf36-4936-89b8-28d05e48e3d0",
   "metadata": {},
   "outputs": [
    {
     "data": {
      "text/html": [
       "<table border=\"1\" class=\"dataframe\">\n",
       "    <thead>\n",
       "        <tr>\n",
       "            <th>bin</th> <th>Altura (cm) count</th>\n",
       "        </tr>\n",
       "    </thead>\n",
       "    <tbody>\n",
       "        <tr>\n",
       "            <td>0   </td> <td>110              </td>\n",
       "        </tr>\n",
       "        <tr>\n",
       "            <td>100 </td> <td>36               </td>\n",
       "        </tr>\n",
       "        <tr>\n",
       "            <td>200 </td> <td>12               </td>\n",
       "        </tr>\n",
       "        <tr>\n",
       "            <td>300 </td> <td>7                </td>\n",
       "        </tr>\n",
       "        <tr>\n",
       "            <td>400 </td> <td>13               </td>\n",
       "        </tr>\n",
       "        <tr>\n",
       "            <td>5000</td> <td>0                </td>\n",
       "        </tr>\n",
       "    </tbody>\n",
       "</table>"
      ],
      "text/plain": [
       "bin  | Altura (cm) count\n",
       "0    | 110\n",
       "100  | 36\n",
       "200  | 12\n",
       "300  | 7\n",
       "400  | 13\n",
       "5000 | 0"
      ]
     },
     "execution_count": 379,
     "metadata": {},
     "output_type": "execute_result"
    }
   ],
   "source": [
    "animales.bin(\"Altura (cm)\", bins = make_array(0,100,200, 300, 400, 5000))"
   ]
  },
  {
   "cell_type": "code",
   "execution_count": null,
   "id": "27834780-9bf5-4593-a854-d005b0923dca",
   "metadata": {},
   "outputs": [],
   "source": []
  }
 ],
 "metadata": {
  "kernelspec": {
   "display_name": "Python 3 (ipykernel)",
   "language": "python",
   "name": "python3"
  },
  "language_info": {
   "codemirror_mode": {
    "name": "ipython",
    "version": 3
   },
   "file_extension": ".py",
   "mimetype": "text/x-python",
   "name": "python",
   "nbconvert_exporter": "python",
   "pygments_lexer": "ipython3",
   "version": "3.10.14"
  }
 },
 "nbformat": 4,
 "nbformat_minor": 5
}
