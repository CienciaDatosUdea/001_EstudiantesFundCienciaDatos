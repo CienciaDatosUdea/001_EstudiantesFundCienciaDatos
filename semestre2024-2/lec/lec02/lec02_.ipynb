{
 "cells": [
  {
   "cell_type": "markdown",
   "id": "fb42cf8a",
   "metadata": {},
   "source": [
    "| **Tipo de Expresión** | **Operador** | **Ejemplo**       |\n",
    "|-----------------------|--------------|-------------------|\n",
    "| Addition              | `+`          | `2 + 3 = 5`       |\n",
    "| Subtraction           | `-`          | `2 - 3 = -1`      |\n",
    "| Multiplication        | `*`          | `2 * 3 = 6`       |\n",
    "| Division              | `/`          | `7 / 3 = 2.66667` |\n",
    "| Remainder (Modulo)    | `%`          | `7 % 3 = 1`       |\n",
    "| Exponentiation        | `**`         | `2 ** 0.5 = 1.41421` |\n"
   ]
  },
  {
   "cell_type": "code",
   "execution_count": 1,
   "id": "8f41c05d",
   "metadata": {},
   "outputs": [
    {
     "data": {
      "text/plain": [
       "5"
      ]
     },
     "execution_count": 1,
     "metadata": {},
     "output_type": "execute_result"
    }
   ],
   "source": [
    "2 + 3"
   ]
  },
  {
   "cell_type": "code",
   "execution_count": 2,
   "id": "b70ad06a",
   "metadata": {},
   "outputs": [
    {
     "data": {
      "text/plain": [
       "-1"
      ]
     },
     "execution_count": 2,
     "metadata": {},
     "output_type": "execute_result"
    }
   ],
   "source": [
    "2 - 3"
   ]
  },
  {
   "cell_type": "code",
   "execution_count": 3,
   "id": "164bdb11",
   "metadata": {},
   "outputs": [
    {
     "data": {
      "text/plain": [
       "6"
      ]
     },
     "execution_count": 3,
     "metadata": {},
     "output_type": "execute_result"
    }
   ],
   "source": [
    "2*3"
   ]
  },
  {
   "cell_type": "code",
   "execution_count": 5,
   "id": "144db67c",
   "metadata": {},
   "outputs": [
    {
     "data": {
      "text/plain": [
       "2.3333333333333335"
      ]
     },
     "execution_count": 5,
     "metadata": {},
     "output_type": "execute_result"
    }
   ],
   "source": [
    "7/3"
   ]
  },
  {
   "cell_type": "code",
   "execution_count": 6,
   "id": "bd14cfac",
   "metadata": {},
   "outputs": [
    {
     "data": {
      "text/plain": [
       "1"
      ]
     },
     "execution_count": 6,
     "metadata": {},
     "output_type": "execute_result"
    }
   ],
   "source": [
    "7%3"
   ]
  },
  {
   "cell_type": "code",
   "execution_count": 7,
   "id": "d5adc5ba",
   "metadata": {},
   "outputs": [
    {
     "data": {
      "text/plain": [
       "1024"
      ]
     },
     "execution_count": 7,
     "metadata": {},
     "output_type": "execute_result"
    }
   ],
   "source": [
    "2**10"
   ]
  },
  {
   "cell_type": "code",
   "execution_count": 8,
   "id": "6f140e93",
   "metadata": {},
   "outputs": [],
   "source": [
    "# Esto es un comentario"
   ]
  },
  {
   "cell_type": "code",
   "execution_count": 9,
   "id": "620fa496",
   "metadata": {},
   "outputs": [
    {
     "data": {
      "text/plain": [
       "'hola mundo'"
      ]
     },
     "execution_count": 9,
     "metadata": {},
     "output_type": "execute_result"
    }
   ],
   "source": [
    "\"hola mundo\""
   ]
  },
  {
   "cell_type": "markdown",
   "id": "82fca82c",
   "metadata": {},
   "source": [
    "El orden de las operaciones importa en python\n",
    "- Primero se raliza la multiplicación y división, despues las sumas y restas\n"
   ]
  },
  {
   "cell_type": "code",
   "execution_count": 14,
   "id": "4e292785",
   "metadata": {},
   "outputs": [
    {
     "data": {
      "text/plain": [
       "7.0"
      ]
     },
     "execution_count": 14,
     "metadata": {},
     "output_type": "execute_result"
    }
   ],
   "source": [
    "2 + 3 * 4 / 2 - 1"
   ]
  },
  {
   "cell_type": "code",
   "execution_count": 15,
   "id": "588d012b",
   "metadata": {},
   "outputs": [
    {
     "data": {
      "text/plain": [
       "7.0"
      ]
     },
     "execution_count": 15,
     "metadata": {},
     "output_type": "execute_result"
    }
   ],
   "source": [
    "5 + 3 * 2 / 2 - 1"
   ]
  },
  {
   "cell_type": "code",
   "execution_count": 16,
   "id": "96e1ad17",
   "metadata": {},
   "outputs": [
    {
     "data": {
      "text/plain": [
       "16.0"
      ]
     },
     "execution_count": 16,
     "metadata": {},
     "output_type": "execute_result"
    }
   ],
   "source": [
    "(5 + 3) * (2 / (2 - 1))"
   ]
  },
  {
   "cell_type": "markdown",
   "id": "4b3646e2",
   "metadata": {},
   "source": [
    "# Nombres de variables"
   ]
  },
  {
   "cell_type": "code",
   "execution_count": 18,
   "id": "6634c322",
   "metadata": {},
   "outputs": [],
   "source": [
    "x = 4"
   ]
  },
  {
   "cell_type": "code",
   "execution_count": 19,
   "id": "6a1bb867",
   "metadata": {},
   "outputs": [
    {
     "data": {
      "text/plain": [
       "4"
      ]
     },
     "execution_count": 19,
     "metadata": {},
     "output_type": "execute_result"
    }
   ],
   "source": [
    "x"
   ]
  },
  {
   "cell_type": "code",
   "execution_count": 20,
   "id": "d2b0387b",
   "metadata": {},
   "outputs": [
    {
     "name": "stdout",
     "output_type": "stream",
     "text": [
      "4\n"
     ]
    }
   ],
   "source": [
    "print(x)"
   ]
  },
  {
   "cell_type": "code",
   "execution_count": 21,
   "id": "2b257bdb",
   "metadata": {},
   "outputs": [
    {
     "ename": "NameError",
     "evalue": "name 'z' is not defined",
     "output_type": "error",
     "traceback": [
      "\u001b[0;31m---------------------------------------------------------------------------\u001b[0m",
      "\u001b[0;31mNameError\u001b[0m                                 Traceback (most recent call last)",
      "Cell \u001b[0;32mIn[21], line 1\u001b[0m\n\u001b[0;32m----> 1\u001b[0m \u001b[43mz\u001b[49m\n",
      "\u001b[0;31mNameError\u001b[0m: name 'z' is not defined"
     ]
    }
   ],
   "source": [
    "z"
   ]
  },
  {
   "cell_type": "code",
   "execution_count": 22,
   "id": "0c880cd6",
   "metadata": {},
   "outputs": [],
   "source": [
    "z = 10"
   ]
  },
  {
   "cell_type": "code",
   "execution_count": 24,
   "id": "528f377a",
   "metadata": {},
   "outputs": [
    {
     "ename": "NameError",
     "evalue": "name 'Z' is not defined",
     "output_type": "error",
     "traceback": [
      "\u001b[0;31m---------------------------------------------------------------------------\u001b[0m",
      "\u001b[0;31mNameError\u001b[0m                                 Traceback (most recent call last)",
      "Cell \u001b[0;32mIn[24], line 1\u001b[0m\n\u001b[0;32m----> 1\u001b[0m x\u001b[38;5;241m*\u001b[39m\u001b[43mZ\u001b[49m\n",
      "\u001b[0;31mNameError\u001b[0m: name 'Z' is not defined"
     ]
    }
   ],
   "source": [
    "x*Z"
   ]
  },
  {
   "cell_type": "code",
   "execution_count": 25,
   "id": "8e9f3b51",
   "metadata": {},
   "outputs": [
    {
     "data": {
      "text/plain": [
       "40"
      ]
     },
     "execution_count": 25,
     "metadata": {},
     "output_type": "execute_result"
    }
   ],
   "source": [
    "x*z"
   ]
  },
  {
   "cell_type": "code",
   "execution_count": 52,
   "id": "cee6449f",
   "metadata": {},
   "outputs": [
    {
     "data": {
      "text/plain": [
       "14"
      ]
     },
     "execution_count": 52,
     "metadata": {},
     "output_type": "execute_result"
    }
   ],
   "source": [
    "total = x + z\n",
    "total"
   ]
  },
  {
   "cell_type": "code",
   "execution_count": 59,
   "id": "8b02d515",
   "metadata": {},
   "outputs": [
    {
     "data": {
      "text/plain": [
       "3.21"
      ]
     },
     "execution_count": 59,
     "metadata": {},
     "output_type": "execute_result"
    }
   ],
   "source": [
    "precio_metro = 3.210\n",
    "precio_metro"
   ]
  },
  {
   "cell_type": "code",
   "execution_count": 65,
   "id": "5a39ea72",
   "metadata": {},
   "outputs": [
    {
     "data": {
      "text/plain": [
       "(3, 210)"
      ]
     },
     "execution_count": 65,
     "metadata": {},
     "output_type": "execute_result"
    }
   ],
   "source": [
    "precio_metro = 3,210\n",
    "precio_metro"
   ]
  },
  {
   "cell_type": "code",
   "execution_count": 68,
   "id": "62751691",
   "metadata": {},
   "outputs": [
    {
     "data": {
      "text/plain": [
       "3210"
      ]
     },
     "execution_count": 68,
     "metadata": {},
     "output_type": "execute_result"
    }
   ],
   "source": [
    "precio_metro = 3210\n",
    "precio_metro "
   ]
  },
  {
   "cell_type": "code",
   "execution_count": 76,
   "id": "d9f26ca9",
   "metadata": {},
   "outputs": [
    {
     "data": {
      "text/plain": [
       "128400"
      ]
     },
     "execution_count": 76,
     "metadata": {},
     "output_type": "execute_result"
    }
   ],
   "source": [
    "precio_metro = 3210\n",
    "precio_metro_semana_dos_viajes = 2 * 5 * precio_metro \n",
    "precio_metro_mes = precio_metro_semana_dos_viajes*4\n",
    "precio_metro_mes"
   ]
  },
  {
   "cell_type": "markdown",
   "id": "c3faf3f6",
   "metadata": {},
   "source": [
    "# Funciones y llamado de expresiones"
   ]
  },
  {
   "cell_type": "code",
   "execution_count": 27,
   "id": "20b7a0db",
   "metadata": {},
   "outputs": [
    {
     "data": {
      "text/plain": [
       "10"
      ]
     },
     "execution_count": 27,
     "metadata": {},
     "output_type": "execute_result"
    }
   ],
   "source": [
    "abs(-10)"
   ]
  },
  {
   "cell_type": "code",
   "execution_count": 28,
   "id": "bbf4edea",
   "metadata": {},
   "outputs": [
    {
     "data": {
      "text/plain": [
       "9.8"
      ]
     },
     "execution_count": 28,
     "metadata": {},
     "output_type": "execute_result"
    }
   ],
   "source": [
    "g = -9.8\n",
    "abs(g)"
   ]
  },
  {
   "cell_type": "code",
   "execution_count": 30,
   "id": "3c48f998",
   "metadata": {},
   "outputs": [
    {
     "data": {
      "text/plain": [
       "-5"
      ]
     },
     "execution_count": 30,
     "metadata": {},
     "output_type": "execute_result"
    }
   ],
   "source": [
    "Temperature6am = 23\n",
    "Temperature12m = 28\n"
   ]
  },
  {
   "cell_type": "code",
   "execution_count": 31,
   "id": "23cd550c",
   "metadata": {},
   "outputs": [
    {
     "data": {
      "text/plain": [
       "-5"
      ]
     },
     "execution_count": 31,
     "metadata": {},
     "output_type": "execute_result"
    }
   ],
   "source": [
    "Temperature6am-Temperature12m"
   ]
  },
  {
   "cell_type": "code",
   "execution_count": 32,
   "id": "92a6b28a",
   "metadata": {},
   "outputs": [
    {
     "data": {
      "text/plain": [
       "5"
      ]
     },
     "execution_count": 32,
     "metadata": {},
     "output_type": "execute_result"
    }
   ],
   "source": [
    "abs(Temperature6am-Temperature12m)"
   ]
  },
  {
   "cell_type": "code",
   "execution_count": 33,
   "id": "5af4636f",
   "metadata": {},
   "outputs": [
    {
     "data": {
      "text/plain": [
       "10"
      ]
     },
     "execution_count": 33,
     "metadata": {},
     "output_type": "execute_result"
    }
   ],
   "source": [
    "min(10, 100)"
   ]
  },
  {
   "cell_type": "code",
   "execution_count": 34,
   "id": "6dc5b2a8",
   "metadata": {},
   "outputs": [
    {
     "data": {
      "text/plain": [
       "100"
      ]
     },
     "execution_count": 34,
     "metadata": {},
     "output_type": "execute_result"
    }
   ],
   "source": [
    "max(10, 100)"
   ]
  },
  {
   "cell_type": "code",
   "execution_count": 42,
   "id": "e30a5b6d",
   "metadata": {},
   "outputs": [
    {
     "data": {
      "text/plain": [
       "3"
      ]
     },
     "execution_count": 42,
     "metadata": {},
     "output_type": "execute_result"
    }
   ],
   "source": [
    "round(3.14)"
   ]
  },
  {
   "cell_type": "code",
   "execution_count": 44,
   "id": "d05ed0a2",
   "metadata": {},
   "outputs": [
    {
     "data": {
      "text/plain": [
       "4"
      ]
     },
     "execution_count": 44,
     "metadata": {},
     "output_type": "execute_result"
    }
   ],
   "source": [
    "round(3.5)"
   ]
  },
  {
   "cell_type": "code",
   "execution_count": 47,
   "id": "b48f6420",
   "metadata": {},
   "outputs": [],
   "source": [
    "import math "
   ]
  },
  {
   "cell_type": "code",
   "execution_count": 48,
   "id": "dea71015",
   "metadata": {},
   "outputs": [
    {
     "data": {
      "text/plain": [
       "3.1622776601683795"
      ]
     },
     "execution_count": 48,
     "metadata": {},
     "output_type": "execute_result"
    }
   ],
   "source": [
    "math.sqrt(10)"
   ]
  },
  {
   "cell_type": "code",
   "execution_count": 49,
   "id": "0e2b21ee",
   "metadata": {},
   "outputs": [
    {
     "data": {
      "text/plain": [
       "3"
      ]
     },
     "execution_count": 49,
     "metadata": {},
     "output_type": "execute_result"
    }
   ],
   "source": [
    "round(math.sqrt(10))"
   ]
  },
  {
   "cell_type": "code",
   "execution_count": 50,
   "id": "26651f02",
   "metadata": {},
   "outputs": [],
   "source": [
    "y = math.sqrt(10)"
   ]
  },
  {
   "cell_type": "code",
   "execution_count": 51,
   "id": "28182dad",
   "metadata": {},
   "outputs": [
    {
     "data": {
      "text/plain": [
       "1.7782794100389228"
      ]
     },
     "execution_count": 51,
     "metadata": {},
     "output_type": "execute_result"
    }
   ],
   "source": [
    "math.sqrt(y)"
   ]
  },
  {
   "cell_type": "code",
   "execution_count": null,
   "id": "2e8c2f5c",
   "metadata": {},
   "outputs": [],
   "source": []
  }
 ],
 "metadata": {
  "kernelspec": {
   "display_name": "Python 3 (ipykernel)",
   "language": "python",
   "name": "python3"
  },
  "language_info": {
   "codemirror_mode": {
    "name": "ipython",
    "version": 3
   },
   "file_extension": ".py",
   "mimetype": "text/x-python",
   "name": "python",
   "nbconvert_exporter": "python",
   "pygments_lexer": "ipython3",
   "version": "3.10.9"
  }
 },
 "nbformat": 4,
 "nbformat_minor": 5
}
