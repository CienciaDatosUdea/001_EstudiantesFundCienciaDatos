{
 "cells": [
  {
   "cell_type": "markdown",
   "id": "6b9f3291-984a-4a3f-b4df-202bf0992f91",
   "metadata": {},
   "source": [
    "# Repaso\n",
    "\n",
    "\n",
    "\n",
    "## Arreglos"
   ]
  },
  {
   "cell_type": "code",
   "execution_count": 10,
   "id": "3b1fa7a6-2fd4-42ab-ae2a-abb887afb6d9",
   "metadata": {},
   "outputs": [],
   "source": [
    "from datascience import *\n",
    "import numpy as np"
   ]
  },
  {
   "cell_type": "code",
   "execution_count": 11,
   "id": "9f259b33-f97b-452e-95c3-390fcf4d16f9",
   "metadata": {},
   "outputs": [
    {
     "data": {
      "text/plain": [
       "array([1, 2, 2, 3])"
      ]
     },
     "execution_count": 11,
     "metadata": {},
     "output_type": "execute_result"
    }
   ],
   "source": [
    "make_array(1, 2,2, 3 )"
   ]
  },
  {
   "cell_type": "code",
   "execution_count": 12,
   "id": "e1bc3a81-9503-41ab-ae29-485e7412bec9",
   "metadata": {},
   "outputs": [],
   "source": [
    "q = make_array(\"hola\", \"mundo\")"
   ]
  },
  {
   "cell_type": "markdown",
   "id": "4e1b1591-3a92-4778-a11d-bca12060ed2b",
   "metadata": {},
   "source": [
    "# Rangos"
   ]
  },
  {
   "cell_type": "markdown",
   "id": "1056c801-d2e6-4c3b-abe2-07a1bc20e7f6",
   "metadata": {},
   "source": [
    "Enfatizar en la diferencia entre diferentes tipos de datos y los rangos"
   ]
  },
  {
   "cell_type": "code",
   "execution_count": 13,
   "id": "e8c56b60-381f-4bc3-8612-8b7be9dadf1b",
   "metadata": {},
   "outputs": [
    {
     "data": {
      "text/plain": [
       "array([0, 1, 2, 3, 4])"
      ]
     },
     "execution_count": 13,
     "metadata": {},
     "output_type": "execute_result"
    }
   ],
   "source": [
    "u = np.arange(5)\n",
    "u"
   ]
  },
  {
   "cell_type": "code",
   "execution_count": 17,
   "id": "f0d8efc2-7a9c-4f99-8205-5dc1a8b2523f",
   "metadata": {},
   "outputs": [
    {
     "data": {
      "text/plain": [
       "2"
      ]
     },
     "execution_count": 17,
     "metadata": {},
     "output_type": "execute_result"
    }
   ],
   "source": [
    "u.take(2)"
   ]
  },
  {
   "cell_type": "markdown",
   "id": "35f057cd-157e-4179-a569-e5fa0f0dcc2e",
   "metadata": {},
   "source": [
    "## Leibniz's Formula for Pi\n",
    "\n",
    "La fórmula de Leibniz para calcular $\\pi$ es una serie infinita alternada que converge hacia $\\pi$ cuando se multiplica por 4. Se puede expresar de la siguiente manera:\n",
    "\n",
    "\\begin{equation}\n",
    "\\frac{\\pi}{4} = 1 - \\frac{1}{3} + \\frac{1}{5} - \\frac{1}{7} + \\frac{1}{9} - \\frac{1}{11} + \\cdots\n",
    "\\end{equation}\n",
    "\n",
    "También se puede reorganizar la fórmula separando los términos positivos y negativos en dos series distintas:\n",
    "\n",
    "\\begin{equation}\n",
    "\\frac{\\pi}{4} = \\left( 1 + \\frac{1}{5} + \\frac{1}{9} + \\cdots \\right) - \\left( \\frac{1}{3} + \\frac{1}{7} + \\frac{1}{11} + \\cdots \\right)\n",
    "\\end{equation}\n",
    "\n",
    "Esta fórmula es una representación elegante de $\\pi$,  aunque su convergencia es relativamente lenta.\n",
    "\n",
    "¿Calcular el valor de pi?"
   ]
  },
  {
   "cell_type": "code",
   "execution_count": 50,
   "id": "6bcf60b9-3e25-4f97-b07e-2886285cdb29",
   "metadata": {},
   "outputs": [
    {
     "name": "stdout",
     "output_type": "stream",
     "text": [
      "---------------------------------------------------------------------------------\n",
      "El valor de pi es 3.140 con 1000 terminos y el error es de 0.002\n",
      "El error absoluto es :0.064\n",
      "---------------------------------------------------------------------------------\n"
     ]
    }
   ],
   "source": [
    "N = 1000\n",
    "T1 = 1/np.arange(1, N, 4)\n",
    "T2 = 1/np.arange(3, N, 4)\n",
    "pi = 4*(np.sum(T1)-np.sum(T2))\n",
    "\n",
    "valor_esperado = np.pi\n",
    "\n",
    "error_absoluto = abs(np.pi-pi)\n",
    "error_relativo = error_absoluto*100/np.pi\n",
    "\n",
    "print(\"---------------------------------------------------------------------------------\")\n",
    "print(f\"El valor de pi es {pi:.3f}, cálculado con {N} terminos y el error es de {error_absoluto:.3f}\")\n",
    "print(f\"El error absoluto es :{error_relativo:.3f}\")\n",
    "print(\"---------------------------------------------------------------------------------\")"
   ]
  },
  {
   "cell_type": "code",
   "execution_count": 15,
   "id": "1a7baa2b-751f-4fc1-bc2c-28e02def9f1d",
   "metadata": {},
   "outputs": [
    {
     "data": {
      "text/html": [
       "<table border=\"1\" class=\"dataframe\">\n",
       "    <thead>\n",
       "        <tr>\n",
       "            <th>temperatura</th> <th>NumeroAtomico</th>\n",
       "        </tr>\n",
       "    </thead>\n",
       "    <tbody>\n",
       "        <tr>\n",
       "            <td>K          </td> <td>19           </td>\n",
       "        </tr>\n",
       "    </tbody>\n",
       "</table>"
      ],
      "text/plain": [
       "temperatura | NumeroAtomico\n",
       "K           | 19"
      ]
     },
     "execution_count": 15,
     "metadata": {},
     "output_type": "execute_result"
    }
   ],
   "source": [
    "tabla_periodica = Table().with_columns( [\"temperatura\", [\"Si\", \"K\", \"Fe\", \"Co\"], \"NumeroAtomico\", [14,19,26,27] ])\n",
    "tabla_periodica.take(range(1, 2))"
   ]
  },
  {
   "cell_type": "code",
   "execution_count": 16,
   "id": "53c0362d-c378-47af-88f7-a8e6d38db370",
   "metadata": {},
   "outputs": [
    {
     "data": {
      "text/html": [
       "<table border=\"1\" class=\"dataframe\">\n",
       "    <thead>\n",
       "        <tr>\n",
       "            <th>NumeroAtomico</th>\n",
       "        </tr>\n",
       "    </thead>\n",
       "    <tbody>\n",
       "        <tr>\n",
       "            <td>14           </td>\n",
       "        </tr>\n",
       "        <tr>\n",
       "            <td>19           </td>\n",
       "        </tr>\n",
       "        <tr>\n",
       "            <td>26           </td>\n",
       "        </tr>\n",
       "        <tr>\n",
       "            <td>27           </td>\n",
       "        </tr>\n",
       "    </tbody>\n",
       "</table>"
      ],
      "text/plain": [
       "NumeroAtomico\n",
       "14\n",
       "19\n",
       "26\n",
       "27"
      ]
     },
     "execution_count": 16,
     "metadata": {},
     "output_type": "execute_result"
    }
   ],
   "source": [
    "\n",
    "tabla_periodica.select(\"NumeroAtomico\")"
   ]
  },
  {
   "cell_type": "code",
   "execution_count": 207,
   "id": "4770d3e1-25b9-48ad-b6b6-1b62fceeb2f2",
   "metadata": {},
   "outputs": [
    {
     "data": {
      "text/plain": [
       "array([12, 14, 14, 14])"
      ]
     },
     "execution_count": 207,
     "metadata": {},
     "output_type": "execute_result"
    }
   ],
   "source": [
    "tabla_periodica.column(\"NumeroAtomico\")"
   ]
  },
  {
   "cell_type": "code",
   "execution_count": null,
   "id": "7a20819d-bd9f-4406-a67d-ce90283ad6f5",
   "metadata": {},
   "outputs": [],
   "source": []
  },
  {
   "cell_type": "code",
   "execution_count": null,
   "id": "25c74734-532e-41b8-9e11-d87196156b3c",
   "metadata": {},
   "outputs": [],
   "source": []
  },
  {
   "cell_type": "code",
   "execution_count": null,
   "id": "12edd2d1-a4b1-4a30-83a3-5bf1d0d6cfda",
   "metadata": {},
   "outputs": [],
   "source": []
  },
  {
   "cell_type": "code",
   "execution_count": null,
   "id": "b06f25d0-f4f4-4aba-a1d4-f93295f905ab",
   "metadata": {},
   "outputs": [],
   "source": []
  },
  {
   "cell_type": "markdown",
   "id": "04699bc7-388f-4e8a-b7b4-d0f3ce07b28f",
   "metadata": {},
   "source": [
    "#  Repaso de tablas"
   ]
  },
  {
   "cell_type": "markdown",
   "id": "eb614168-ceb1-44f4-848a-122b2bee9e87",
   "metadata": {},
   "source": [
    "| **Método**                                  | **Descripción**                                                                 |\n",
    "|---------------------------------------------|---------------------------------------------------------------------------------|\n",
    "| `Table.read_table(file_path)`               | Lee un archivo CSV y devuelve una tabla.                                        |\n",
    "| `table.show(n)`                             | Muestra las primeras `n` filas de la tabla.                                     |\n",
    "| `table.with_columns(column1, values1, ...)` | Agrega una o más columnas nuevas a la tabla.                                    |\n",
    "| `table.column(column_name)`                 | Devuelve los valores de una columna como un array de Numpy.                     |\n",
    "| `table.num_columns()`                       | Devuelve el número de columnas en la tabla.                                     |\n",
    "| `table.num_rows()`                          | Devuelve el número de filas en la tabla.                                        |\n",
    "| `table.select(column_name1, column_name2)`  | Selecciona y devuelve una tabla con solo las columnas indicadas.                |\n",
    "| `table.drop(column_name1, column_name2)`    | Elimina las columnas especificadas y devuelve una tabla nueva.                  |\n",
    "| `table.where(column_name, predicate)`       | Filtra las filas según una condición en una columna específica.                 |\n",
    "| `table.sort(column_name, descending=False)` | Ordena la tabla por una columna en orden ascendente o descendente.              |\n"
   ]
  },
  {
   "cell_type": "markdown",
   "id": "7e54540a-6697-4ee1-9514-dae7d21955ba",
   "metadata": {},
   "source": [
    "## Creacion de una tabla \n",
    "Supongamos que queremos construir una tabla con las distancia al sol,  y la masa de cada planeta.\n",
    "\n",
    "| Planeta    | Distancia al Sol (UA) | Masa (Unidades de masas terrestres) |\n",
    "|------------|-----------------------|-------------------------------------|\n",
    "| Mercurio   | 0.39                  | 0.055                              |\n",
    "| Venus      | 0.72                  | 0.815                              |\n",
    "| Tierra     | 1.00                  | 1.000                              |\n",
    "| Marte      | 1.52                  | 0.107                              |\n",
    "| Júpiter    | 5.20                  | 317.8                              |\n",
    "| Saturno    | 9.58                  | 95.2                               |\n",
    "| Urano      | 19.22                 | 14.5                               |\n",
    "| Neptuno    | 30.05                 | 17.1                               |\n",
    "\n",
    "Nota:  \n",
    "- 1 UA ≈ 149.6 millones de kilómetros\n",
    "- 5.97 × 10²⁴ kilogramos.\n",
    "\n",
    "Las siguientes celdas contiene la informaciòn par no copiar todos los datos: \n",
    "\n",
    "```python \n",
    "distancias_ua = [0.39, 0.72, 1.00, 1.52, 5.20, 9.58, 19.22, 30.05]\n",
    "```\n",
    "\n",
    "```python \n",
    "masas_terrestres = [0.055, 0.815, 1.000, 0.107, 317.8, 95.2, 14.5, 17.1]\n",
    "```"
   ]
  },
  {
   "cell_type": "code",
   "execution_count": 51,
   "id": "cd35d8c1-8675-4e09-9046-06e16c2aa653",
   "metadata": {},
   "outputs": [],
   "source": [
    "from  datascience import * "
   ]
  },
  {
   "cell_type": "code",
   "execution_count": 70,
   "id": "65dd865b-3741-4bbe-9a38-0b9580b99e32",
   "metadata": {},
   "outputs": [
    {
     "data": {
      "text/html": [
       "<table border=\"1\" class=\"dataframe\">\n",
       "    <thead>\n",
       "        <tr>\n",
       "            <th>Planeta</th> <th>DistanciaSol</th> <th>Masa</th>\n",
       "        </tr>\n",
       "    </thead>\n",
       "    <tbody>\n",
       "        <tr>\n",
       "            <td>Mercurio</td> <td>0.39        </td> <td>0.055</td>\n",
       "        </tr>\n",
       "        <tr>\n",
       "            <td>Venus   </td> <td>0.72        </td> <td>0.815</td>\n",
       "        </tr>\n",
       "        <tr>\n",
       "            <td>Tierra  </td> <td>1           </td> <td>1    </td>\n",
       "        </tr>\n",
       "        <tr>\n",
       "            <td>Marte   </td> <td>1.52        </td> <td>0.107</td>\n",
       "        </tr>\n",
       "        <tr>\n",
       "            <td>Júpiter </td> <td>5.2         </td> <td>317.8</td>\n",
       "        </tr>\n",
       "        <tr>\n",
       "            <td>Saturno </td> <td>9.58        </td> <td>95.2 </td>\n",
       "        </tr>\n",
       "        <tr>\n",
       "            <td>Urano   </td> <td>19.22       </td> <td>14.5 </td>\n",
       "        </tr>\n",
       "        <tr>\n",
       "            <td>Neptuno </td> <td>30.05       </td> <td>17.1 </td>\n",
       "        </tr>\n",
       "    </tbody>\n",
       "</table>"
      ],
      "text/plain": [
       "Planeta  | DistanciaSol | Masa\n",
       "Mercurio | 0.39         | 0.055\n",
       "Venus    | 0.72         | 0.815\n",
       "Tierra   | 1            | 1\n",
       "Marte    | 1.52         | 0.107\n",
       "Júpiter  | 5.2          | 317.8\n",
       "Saturno  | 9.58         | 95.2\n",
       "Urano    | 19.22        | 14.5\n",
       "Neptuno  | 30.05        | 17.1"
      ]
     },
     "execution_count": 70,
     "metadata": {},
     "output_type": "execute_result"
    }
   ],
   "source": [
    "# Construyendo la tabla\n",
    "Table().with_columns([\"Planeta\", [\"Mercurio\", \"Venus\", \"Tierra\", \"Marte\", \"Júpiter\", \"Saturno\", \"Urano\", \"Neptuno\"],\n",
    "                      \"DistanciaSol\", [0.39, 0.72, 1.00, 1.52, 5.20, 9.58, 19.22, 30.05],\n",
    "                      \"Masa\", [0.055, 0.815, 1.000, 0.107, 317.8, 95.2, 14.5, 17.1],                     \n",
    "                     ])\n"
   ]
  },
  {
   "cell_type": "code",
   "execution_count": 71,
   "id": "5c549653-6696-4f2f-982b-c95fd0f853a1",
   "metadata": {},
   "outputs": [],
   "source": [
    "# Almacenado la tabla en una variable\n",
    "planetas=Table().with_columns([\"Nombre\", [\"Mercurio\", \"Venus\", \"Tierra\", \"Marte\", \"Júpiter\", \"Saturno\", \"Urano\", \"Neptuno\"],\n",
    "                      \"DistanciaSol\", [0.39, 0.72, 1.00, 1.52, 5.20, 9.58, 19.22, 30.05],\n",
    "                      \"Masa\", [0.39, 0.72, 1.00, 1.52, 5.20, 9.58, 19.22, 30.05],                     \n",
    "                     ])"
   ]
  },
  {
   "cell_type": "markdown",
   "id": "d93bd4d9-dbb2-4049-aafc-8bb4d8c82643",
   "metadata": {},
   "source": [
    "## table.take\n",
    "## table.show"
   ]
  },
  {
   "cell_type": "code",
   "execution_count": 72,
   "id": "ae072647-cfbe-4cdc-943e-f877058e7922",
   "metadata": {},
   "outputs": [
    {
     "data": {
      "text/html": [
       "<table border=\"1\" class=\"dataframe\">\n",
       "    <thead>\n",
       "        <tr>\n",
       "            <th>Nombre</th> <th>DistanciaSol</th> <th>Masa</th>\n",
       "        </tr>\n",
       "    </thead>\n",
       "    <tbody>\n",
       "        <tr>\n",
       "            <td>Venus </td> <td>0.72        </td> <td>0.72</td>\n",
       "        </tr>\n",
       "    </tbody>\n",
       "</table>"
      ],
      "text/plain": [
       "Nombre | DistanciaSol | Masa\n",
       "Venus  | 0.72         | 0.72"
      ]
     },
     "execution_count": 72,
     "metadata": {},
     "output_type": "execute_result"
    }
   ],
   "source": [
    "planetas.take(1)"
   ]
  },
  {
   "cell_type": "code",
   "execution_count": 73,
   "id": "55487349-a5dd-42af-a516-c086ee3798d7",
   "metadata": {},
   "outputs": [
    {
     "data": {
      "text/html": [
       "<table border=\"1\" class=\"dataframe\">\n",
       "    <thead>\n",
       "        <tr>\n",
       "            <th>Nombre</th>\n",
       "        </tr>\n",
       "    </thead>\n",
       "    <tbody>\n",
       "        <tr>\n",
       "            <td>Mercurio</td>\n",
       "        </tr>\n",
       "        <tr>\n",
       "            <td>Venus   </td>\n",
       "        </tr>\n",
       "        <tr>\n",
       "            <td>Tierra  </td>\n",
       "        </tr>\n",
       "        <tr>\n",
       "            <td>Marte   </td>\n",
       "        </tr>\n",
       "        <tr>\n",
       "            <td>Júpiter </td>\n",
       "        </tr>\n",
       "        <tr>\n",
       "            <td>Saturno </td>\n",
       "        </tr>\n",
       "        <tr>\n",
       "            <td>Urano   </td>\n",
       "        </tr>\n",
       "        <tr>\n",
       "            <td>Neptuno </td>\n",
       "        </tr>\n",
       "    </tbody>\n",
       "</table>"
      ],
      "text/plain": [
       "Nombre\n",
       "Mercurio\n",
       "Venus\n",
       "Tierra\n",
       "Marte\n",
       "Júpiter\n",
       "Saturno\n",
       "Urano\n",
       "Neptuno"
      ]
     },
     "execution_count": 73,
     "metadata": {},
     "output_type": "execute_result"
    }
   ],
   "source": [
    "planetas.select(\"Nombre\")"
   ]
  },
  {
   "cell_type": "code",
   "execution_count": 74,
   "id": "bad5e8a9-0ac4-4609-838f-8419d2f1f866",
   "metadata": {},
   "outputs": [
    {
     "data": {
      "text/plain": [
       "('Nombre', 'DistanciaSol', 'Masa')"
      ]
     },
     "execution_count": 74,
     "metadata": {},
     "output_type": "execute_result"
    }
   ],
   "source": [
    "planetas.labels"
   ]
  },
  {
   "cell_type": "code",
   "execution_count": 75,
   "id": "7bda29d9-9f4f-410a-8f85-bf8fdf0a87f7",
   "metadata": {},
   "outputs": [
    {
     "data": {
      "text/plain": [
       "Rows(Nombre   | DistanciaSol | Masa\n",
       "Mercurio | 0.39         | 0.39\n",
       "Venus    | 0.72         | 0.72\n",
       "Tierra   | 1            | 1\n",
       "Marte    | 1.52         | 1.52\n",
       "Júpiter  | 5.2          | 5.2\n",
       "Saturno  | 9.58         | 9.58\n",
       "Urano    | 19.22        | 19.22\n",
       "Neptuno  | 30.05        | 30.05)"
      ]
     },
     "execution_count": 75,
     "metadata": {},
     "output_type": "execute_result"
    }
   ],
   "source": [
    "planetas.rows"
   ]
  },
  {
   "cell_type": "code",
   "execution_count": 76,
   "id": "897e402a-71e6-4796-8090-e82037cbe7d1",
   "metadata": {},
   "outputs": [
    {
     "data": {
      "text/plain": [
       "3"
      ]
     },
     "execution_count": 76,
     "metadata": {},
     "output_type": "execute_result"
    }
   ],
   "source": [
    "len(planetas)"
   ]
  },
  {
   "cell_type": "code",
   "execution_count": 77,
   "id": "9837444d-e8f0-4716-9ca5-e7c3a22b9645",
   "metadata": {},
   "outputs": [
    {
     "data": {
      "text/html": [
       "<table border=\"1\" class=\"dataframe\">\n",
       "    <thead>\n",
       "        <tr>\n",
       "            <th>Nombre</th> <th>DistanciaSol</th> <th>Masa</th>\n",
       "        </tr>\n",
       "    </thead>\n",
       "    <tbody>\n",
       "        <tr>\n",
       "            <td>Mercurio</td> <td>0.39        </td> <td>0.39 </td>\n",
       "        </tr>\n",
       "        <tr>\n",
       "            <td>Venus   </td> <td>0.72        </td> <td>0.72 </td>\n",
       "        </tr>\n",
       "        <tr>\n",
       "            <td>Tierra  </td> <td>1           </td> <td>1    </td>\n",
       "        </tr>\n",
       "        <tr>\n",
       "            <td>Marte   </td> <td>1.52        </td> <td>1.52 </td>\n",
       "        </tr>\n",
       "        <tr>\n",
       "            <td>Júpiter </td> <td>5.2         </td> <td>5.2  </td>\n",
       "        </tr>\n",
       "        <tr>\n",
       "            <td>Saturno </td> <td>9.58        </td> <td>9.58 </td>\n",
       "        </tr>\n",
       "        <tr>\n",
       "            <td>Urano   </td> <td>19.22       </td> <td>19.22</td>\n",
       "        </tr>\n",
       "        <tr>\n",
       "            <td>Neptuno </td> <td>30.05       </td> <td>30.05</td>\n",
       "        </tr>\n",
       "    </tbody>\n",
       "</table>"
      ],
      "text/plain": [
       "Nombre   | DistanciaSol | Masa\n",
       "Mercurio | 0.39         | 0.39\n",
       "Venus    | 0.72         | 0.72\n",
       "Tierra   | 1            | 1\n",
       "Marte    | 1.52         | 1.52\n",
       "Júpiter  | 5.2          | 5.2\n",
       "Saturno  | 9.58         | 9.58\n",
       "Urano    | 19.22        | 19.22\n",
       "Neptuno  | 30.05        | 30.05"
      ]
     },
     "execution_count": 77,
     "metadata": {},
     "output_type": "execute_result"
    }
   ],
   "source": [
    "planetas.sort(\"Masa\", descending=False)"
   ]
  },
  {
   "cell_type": "code",
   "execution_count": 79,
   "id": "2a043490-adf5-41fa-962a-333ca4e6eacb",
   "metadata": {},
   "outputs": [
    {
     "data": {
      "text/html": [
       "<table border=\"1\" class=\"dataframe\">\n",
       "    <thead>\n",
       "        <tr>\n",
       "            <th>Nombre</th> <th>DistanciaSol</th>\n",
       "        </tr>\n",
       "    </thead>\n",
       "    <tbody>\n",
       "        <tr>\n",
       "            <td>Mercurio</td> <td>0.39        </td>\n",
       "        </tr>\n",
       "        <tr>\n",
       "            <td>Venus   </td> <td>0.72        </td>\n",
       "        </tr>\n",
       "        <tr>\n",
       "            <td>Tierra  </td> <td>1           </td>\n",
       "        </tr>\n",
       "        <tr>\n",
       "            <td>Marte   </td> <td>1.52        </td>\n",
       "        </tr>\n",
       "        <tr>\n",
       "            <td>Júpiter </td> <td>5.2         </td>\n",
       "        </tr>\n",
       "        <tr>\n",
       "            <td>Saturno </td> <td>9.58        </td>\n",
       "        </tr>\n",
       "        <tr>\n",
       "            <td>Urano   </td> <td>19.22       </td>\n",
       "        </tr>\n",
       "        <tr>\n",
       "            <td>Neptuno </td> <td>30.05       </td>\n",
       "        </tr>\n",
       "    </tbody>\n",
       "</table>"
      ],
      "text/plain": [
       "Nombre   | DistanciaSol\n",
       "Mercurio | 0.39\n",
       "Venus    | 0.72\n",
       "Tierra   | 1\n",
       "Marte    | 1.52\n",
       "Júpiter  | 5.2\n",
       "Saturno  | 9.58\n",
       "Urano    | 19.22\n",
       "Neptuno  | 30.05"
      ]
     },
     "execution_count": 79,
     "metadata": {},
     "output_type": "execute_result"
    }
   ],
   "source": [
    "planetas.drop(\"Masa\")"
   ]
  },
  {
   "cell_type": "markdown",
   "id": "cd692b31-63c4-4fec-ae7c-fdfa1e705d79",
   "metadata": {},
   "source": [
    "# Lectura de tablas\n",
    "\n",
    "1. Muestra los 10 primeros valores de la tabla\n",
    "\n",
    "2. Selecciona las columnas \"Animal\" y \"Velocidad Promedio (km/h)\"\n",
    "\n",
    "3. Determina el animal que tiene mayor peso\n"
   ]
  },
  {
   "cell_type": "code",
   "execution_count": 80,
   "id": "82e9e666-b71c-49f9-817e-350ac3832fb4",
   "metadata": {},
   "outputs": [
    {
     "data": {
      "text/html": [
       "<table border=\"1\" class=\"dataframe\">\n",
       "    <thead>\n",
       "        <tr>\n",
       "            <th>Unnamed: 0</th> <th>Animal</th> <th>Altura (cm)</th> <th>Peso (kg)</th> <th>Velocidad Promedio (km/h)</th>\n",
       "        </tr>\n",
       "    </thead>\n",
       "    <tbody>\n",
       "        <tr>\n",
       "            <td>0         </td> <td>Cerdo Hormiguero          </td> <td>117.5      </td> <td>52.5     </td> <td>40                       </td>\n",
       "        </tr>\n",
       "        <tr>\n",
       "            <td>1         </td> <td>Lobo Terrícola            </td> <td>45         </td> <td>11       </td> <td>27                       </td>\n",
       "        </tr>\n",
       "        <tr>\n",
       "            <td>2         </td> <td>Elefante Africano         </td> <td>290        </td> <td>4350     </td> <td>25                       </td>\n",
       "        </tr>\n",
       "        <tr>\n",
       "            <td>3         </td> <td>León Africano             </td> <td>95         </td> <td>185      </td> <td>58                       </td>\n",
       "        </tr>\n",
       "        <tr>\n",
       "            <td>4         </td> <td>Perro Salvaje Africano    </td> <td>77.5       </td> <td>27       </td> <td>56                       </td>\n",
       "        </tr>\n",
       "        <tr>\n",
       "            <td>5         </td> <td>Íbice Alpino              </td> <td>84         </td> <td>69.5     </td> <td>60                       </td>\n",
       "        </tr>\n",
       "        <tr>\n",
       "            <td>6         </td> <td>Rana de la Selva Amazónica</td> <td>7.5        </td> <td>0        </td> <td>0.55                     </td>\n",
       "        </tr>\n",
       "        <tr>\n",
       "            <td>7         </td> <td>Bisonte Americano         </td> <td>169        </td> <td>nan      </td> <td>48                       </td>\n",
       "        </tr>\n",
       "        <tr>\n",
       "            <td>8         </td> <td>Oso Hormiguero            </td> <td>71.5       </td> <td>31.5     </td> <td>24                       </td>\n",
       "        </tr>\n",
       "        <tr>\n",
       "            <td>9         </td> <td>Caballo Árabe             </td> <td>150        </td> <td>690      </td> <td>65                       </td>\n",
       "        </tr>\n",
       "    </tbody>\n",
       "</table>\n",
       "<p>... (168 rows omitted)</p>"
      ],
      "text/plain": [
       "Unnamed: 0 | Animal                     | Altura (cm) | Peso (kg) | Velocidad Promedio (km/h)\n",
       "0          | Cerdo Hormiguero           | 117.5       | 52.5      | 40\n",
       "1          | Lobo Terrícola             | 45          | 11        | 27\n",
       "2          | Elefante Africano          | 290         | 4350      | 25\n",
       "3          | León Africano              | 95          | 185       | 58\n",
       "4          | Perro Salvaje Africano     | 77.5        | 27        | 56\n",
       "5          | Íbice Alpino               | 84          | 69.5      | 60\n",
       "6          | Rana de la Selva Amazónica | 7.5         | 0         | 0.55\n",
       "7          | Bisonte Americano          | 169         | nan       | 48\n",
       "8          | Oso Hormiguero             | 71.5        | 31.5      | 24\n",
       "9          | Caballo Árabe              | 150         | 690       | 65\n",
       "... (168 rows omitted)"
      ]
     },
     "execution_count": 80,
     "metadata": {},
     "output_type": "execute_result"
    }
   ],
   "source": [
    "animals = Table().read_table(\"Animales.csv\")\n",
    "animals"
   ]
  },
  {
   "cell_type": "code",
   "execution_count": 83,
   "id": "6fc0e523-ea71-4ce6-872d-05a17db381d9",
   "metadata": {},
   "outputs": [
    {
     "data": {
      "text/html": [
       "<table border=\"1\" class=\"dataframe\">\n",
       "    <thead>\n",
       "        <tr>\n",
       "            <th>Animal</th> <th>Altura (cm)</th> <th>Peso (kg)</th> <th>Velocidad Promedio (km/h)</th>\n",
       "        </tr>\n",
       "    </thead>\n",
       "    <tbody>\n",
       "        <tr>\n",
       "            <td>Cerdo Hormiguero          </td> <td>117.5      </td> <td>52.5     </td> <td>40                       </td>\n",
       "        </tr>\n",
       "        <tr>\n",
       "            <td>Lobo Terrícola            </td> <td>45         </td> <td>11       </td> <td>27                       </td>\n",
       "        </tr>\n",
       "        <tr>\n",
       "            <td>Elefante Africano         </td> <td>290        </td> <td>4350     </td> <td>25                       </td>\n",
       "        </tr>\n",
       "        <tr>\n",
       "            <td>León Africano             </td> <td>95         </td> <td>185      </td> <td>58                       </td>\n",
       "        </tr>\n",
       "        <tr>\n",
       "            <td>Perro Salvaje Africano    </td> <td>77.5       </td> <td>27       </td> <td>56                       </td>\n",
       "        </tr>\n",
       "        <tr>\n",
       "            <td>Íbice Alpino              </td> <td>84         </td> <td>69.5     </td> <td>60                       </td>\n",
       "        </tr>\n",
       "        <tr>\n",
       "            <td>Rana de la Selva Amazónica</td> <td>7.5        </td> <td>0        </td> <td>0.55                     </td>\n",
       "        </tr>\n",
       "        <tr>\n",
       "            <td>Bisonte Americano         </td> <td>169        </td> <td>nan      </td> <td>48                       </td>\n",
       "        </tr>\n",
       "        <tr>\n",
       "            <td>Oso Hormiguero            </td> <td>71.5       </td> <td>31.5     </td> <td>24                       </td>\n",
       "        </tr>\n",
       "        <tr>\n",
       "            <td>Caballo Árabe             </td> <td>150        </td> <td>690      </td> <td>65                       </td>\n",
       "        </tr>\n",
       "    </tbody>\n",
       "</table>\n",
       "<p>... (168 rows omitted)</p>"
      ],
      "text/plain": [
       "Animal                     | Altura (cm) | Peso (kg) | Velocidad Promedio (km/h)\n",
       "Cerdo Hormiguero           | 117.5       | 52.5      | 40\n",
       "Lobo Terrícola             | 45          | 11        | 27\n",
       "Elefante Africano          | 290         | 4350      | 25\n",
       "León Africano              | 95          | 185       | 58\n",
       "Perro Salvaje Africano     | 77.5        | 27        | 56\n",
       "Íbice Alpino               | 84          | 69.5      | 60\n",
       "Rana de la Selva Amazónica | 7.5         | 0         | 0.55\n",
       "Bisonte Americano          | 169         | nan       | 48\n",
       "Oso Hormiguero             | 71.5        | 31.5      | 24\n",
       "Caballo Árabe              | 150         | 690       | 65\n",
       "... (168 rows omitted)"
      ]
     },
     "execution_count": 83,
     "metadata": {},
     "output_type": "execute_result"
    }
   ],
   "source": [
    "animales = animals.drop(\"Unnamed: 0\")\n",
    "animales"
   ]
  },
  {
   "cell_type": "markdown",
   "id": "0fb23816-cf9a-4c7a-bd93-cd2b13816f32",
   "metadata": {},
   "source": [
    "# Operacion sobre tablas\n",
    "\n",
    "\n",
    "## Predicados\n",
    "\n",
    "| Predicado                     | Descripción                                                  |\n",
    "| ------------------------------| ------------------------------------------------------------ |\n",
    "| `are.equal_to(Z)`              | Igual a Z                                                    |\n",
    "| `are.above(x)`                 | Mayor que x                                                  |\n",
    "| `are.above_or_equal_to(x)`     | Mayor o igual a x                                            |\n",
    "| `are.below(x)`                 | Menor que x                                                  |\n",
    "| `are.below_or_equal_to(x)`     | Menor o igual a x                                            |\n",
    "| `are.between(x, y)`            | Mayor o igual a x y menor que y                              |\n",
    "| `are.strictly_between(x, y)`   | Mayor que x y menor que y                                    |\n",
    "| `are.between_or_equal_to(x, y)`| Mayor o igual a x y menor o igual a y                        |\n",
    "| `are.containing(S)`            | Contiene la cadena de texto S                                |\n",
    "\n",
    "## Predicados Negados\n",
    "\n",
    "Puedes especificar la negación de cualquiera de estas condiciones utilizando `.not_` antes del predicado:\n",
    "\n",
    "| Predicado Negado               | Descripción                                                  |\n",
    "| ------------------------------| ------------------------------------------------------------ |\n",
    "| `are.not_equal_to(Z)`          | No igual a Z                                                 |\n",
    "| `are.not_above(x)`             | No mayor que x                                               |\n"
   ]
  },
  {
   "cell_type": "code",
   "execution_count": 247,
   "id": "4b598d56-bdaa-48d7-9de8-0e5fe65d9581",
   "metadata": {},
   "outputs": [
    {
     "data": {
      "text/html": [
       "<table border=\"1\" class=\"dataframe\">\n",
       "    <thead>\n",
       "        <tr>\n",
       "            <th>Animal</th> <th>Altura (cm)</th> <th>Peso (kg)</th> <th>Velocidad Promedio (km/h)</th>\n",
       "        </tr>\n",
       "    </thead>\n",
       "    <tbody>\n",
       "        <tr>\n",
       "            <td>Cerdo Hormiguero            </td> <td>117.5      </td> <td>52.5     </td> <td>40                       </td>\n",
       "        </tr>\n",
       "        <tr>\n",
       "            <td>Elefante Africano           </td> <td>290        </td> <td>4350     </td> <td>25                       </td>\n",
       "        </tr>\n",
       "        <tr>\n",
       "            <td>Bisonte Americano           </td> <td>169        </td> <td>nan      </td> <td>48                       </td>\n",
       "        </tr>\n",
       "        <tr>\n",
       "            <td>Caballo Árabe               </td> <td>150        </td> <td>690      </td> <td>65                       </td>\n",
       "        </tr>\n",
       "        <tr>\n",
       "            <td>Arowana                     </td> <td>120        </td> <td>6        </td> <td>24                       </td>\n",
       "        </tr>\n",
       "        <tr>\n",
       "            <td>Elefante Asiático           </td> <td>250        </td> <td>3500     </td> <td>40                       </td>\n",
       "        </tr>\n",
       "        <tr>\n",
       "            <td>Delfín Moteado del Atlántico</td> <td>225        </td> <td>130      </td> <td>52                       </td>\n",
       "        </tr>\n",
       "        <tr>\n",
       "            <td>Foca de Pelo Australiana    </td> <td>136        </td> <td>29       </td> <td>32                       </td>\n",
       "        </tr>\n",
       "        <tr>\n",
       "            <td>Tiburón Peregrino           </td> <td>1100       </td> <td>550      </td> <td>21                       </td>\n",
       "        </tr>\n",
       "        <tr>\n",
       "            <td>Rinoceronte Negro           </td> <td>156        </td> <td>nan      </td> <td>56                       </td>\n",
       "        </tr>\n",
       "    </tbody>\n",
       "</table>\n",
       "<p>... (56 rows omitted)</p>"
      ],
      "text/plain": [
       "Animal                       | Altura (cm) | Peso (kg) | Velocidad Promedio (km/h)\n",
       "Cerdo Hormiguero             | 117.5       | 52.5      | 40\n",
       "Elefante Africano            | 290         | 4350      | 25\n",
       "Bisonte Americano            | 169         | nan       | 48\n",
       "Caballo Árabe                | 150         | 690       | 65\n",
       "Arowana                      | 120         | 6         | 24\n",
       "Elefante Asiático            | 250         | 3500      | 40\n",
       "Delfín Moteado del Atlántico | 225         | 130       | 52\n",
       "Foca de Pelo Australiana     | 136         | 29        | 32\n",
       "Tiburón Peregrino            | 1100        | 550       | 21\n",
       "Rinoceronte Negro            | 156         | nan       | 56\n",
       "... (56 rows omitted)"
      ]
     },
     "execution_count": 247,
     "metadata": {},
     "output_type": "execute_result"
    }
   ],
   "source": [
    "animales.where(\"Altura (cm)\", are.above(100))"
   ]
  },
  {
   "cell_type": "code",
   "execution_count": 248,
   "id": "6375de27-4a95-420d-95ee-1ea18ab9f5b5",
   "metadata": {},
   "outputs": [
    {
     "data": {
      "text/html": [
       "<table border=\"1\" class=\"dataframe\">\n",
       "    <thead>\n",
       "        <tr>\n",
       "            <th>Animal</th> <th>Altura (cm)</th> <th>Peso (kg)</th> <th>Velocidad Promedio (km/h)</th>\n",
       "        </tr>\n",
       "    </thead>\n",
       "    <tbody>\n",
       "        <tr>\n",
       "            <td>Bisonte Americano</td> <td>169        </td> <td>nan      </td> <td>48                       </td>\n",
       "        </tr>\n",
       "        <tr>\n",
       "            <td>Tapir de Baird   </td> <td>91.5       </td> <td>275      </td> <td>48                       </td>\n",
       "        </tr>\n",
       "        <tr>\n",
       "            <td>Oso Pardo        </td> <td>95         </td> <td>425      </td> <td>48                       </td>\n",
       "        </tr>\n",
       "        <tr>\n",
       "            <td>Zorro Rojo       </td> <td>42.5       </td> <td>5        </td> <td>48                       </td>\n",
       "        </tr>\n",
       "        <tr>\n",
       "            <td>Tapir            </td> <td>95         </td> <td>275      </td> <td>48                       </td>\n",
       "        </tr>\n",
       "    </tbody>\n",
       "</table>"
      ],
      "text/plain": [
       "Animal            | Altura (cm) | Peso (kg) | Velocidad Promedio (km/h)\n",
       "Bisonte Americano | 169         | nan       | 48\n",
       "Tapir de Baird    | 91.5        | 275       | 48\n",
       "Oso Pardo         | 95          | 425       | 48\n",
       "Zorro Rojo        | 42.5        | 5         | 48\n",
       "Tapir             | 95          | 275       | 48"
      ]
     },
     "execution_count": 248,
     "metadata": {},
     "output_type": "execute_result"
    }
   ],
   "source": [
    "animales.where('Velocidad Promedio (km/h)', are.equal_to(48))"
   ]
  },
  {
   "cell_type": "code",
   "execution_count": 246,
   "id": "90deb53d-35ee-4611-8cb2-3687679305b4",
   "metadata": {},
   "outputs": [
    {
     "data": {
      "text/html": [
       "<table border=\"1\" class=\"dataframe\">\n",
       "    <thead>\n",
       "        <tr>\n",
       "            <th>Animal</th> <th>Altura (cm)</th> <th>Peso (kg)</th> <th>Velocidad Promedio (km/h)</th>\n",
       "        </tr>\n",
       "    </thead>\n",
       "    <tbody>\n",
       "        <tr>\n",
       "            <td>Cerdo Hormiguero     </td> <td>117.5      </td> <td>52.5     </td> <td>40                       </td>\n",
       "        </tr>\n",
       "        <tr>\n",
       "            <td>Elefante Asiático    </td> <td>250        </td> <td>3500     </td> <td>40                       </td>\n",
       "        </tr>\n",
       "        <tr>\n",
       "            <td>Frailecillo Atlántico</td> <td>27.5       </td> <td>560      </td> <td>40                       </td>\n",
       "        </tr>\n",
       "        <tr>\n",
       "            <td>Zorro de Bengala     </td> <td>37.5       </td> <td>3.25     </td> <td>40                       </td>\n",
       "        </tr>\n",
       "        <tr>\n",
       "            <td>Ballena Azul         </td> <td>33         </td> <td>200      </td> <td>40                       </td>\n",
       "        </tr>\n",
       "        <tr>\n",
       "            <td>Chimpancé            </td> <td>160        </td> <td>48       </td> <td>40                       </td>\n",
       "        </tr>\n",
       "        <tr>\n",
       "            <td>Gorila del Este      </td> <td>164        </td> <td>138.5    </td> <td>40                       </td>\n",
       "        </tr>\n",
       "        <tr>\n",
       "            <td>Camarón Mantis       </td> <td>30         </td> <td>2        </td> <td>40                       </td>\n",
       "        </tr>\n",
       "        <tr>\n",
       "            <td>Gorila de Montaña    </td> <td>160        </td> <td>135      </td> <td>40                       </td>\n",
       "        </tr>\n",
       "        <tr>\n",
       "            <td>Oso Polar            </td> <td>160        </td> <td>700      </td> <td>40                       </td>\n",
       "        </tr>\n",
       "    </tbody>\n",
       "</table>\n",
       "<p>... (5 rows omitted)</p>"
      ],
      "text/plain": [
       "Animal                | Altura (cm) | Peso (kg) | Velocidad Promedio (km/h)\n",
       "Cerdo Hormiguero      | 117.5       | 52.5      | 40\n",
       "Elefante Asiático     | 250         | 3500      | 40\n",
       "Frailecillo Atlántico | 27.5        | 560       | 40\n",
       "Zorro de Bengala      | 37.5        | 3.25      | 40\n",
       "Ballena Azul          | 33          | 200       | 40\n",
       "Chimpancé             | 160         | 48        | 40\n",
       "Gorila del Este       | 164         | 138.5     | 40\n",
       "Camarón Mantis        | 30          | 2         | 40\n",
       "Gorila de Montaña     | 160         | 135       | 40\n",
       "Oso Polar             | 160         | 700       | 40\n",
       "... (5 rows omitted)"
      ]
     },
     "execution_count": 246,
     "metadata": {},
     "output_type": "execute_result"
    }
   ],
   "source": [
    "animales.where('Velocidad Promedio (km/h)', are.between(40,40))"
   ]
  },
  {
   "cell_type": "code",
   "execution_count": 263,
   "id": "6320b07b-37b2-41e5-a816-1d7effc90598",
   "metadata": {},
   "outputs": [
    {
     "data": {
      "text/html": [
       "<table border=\"1\" class=\"dataframe\">\n",
       "    <thead>\n",
       "        <tr>\n",
       "            <th>Animal</th> <th>Altura (cm)</th> <th>Peso (kg)</th> <th>Velocidad Promedio (km/h)</th>\n",
       "        </tr>\n",
       "    </thead>\n",
       "    <tbody>\n",
       "        <tr>\n",
       "            <td>Tiburón Peregrino          </td> <td>1100       </td> <td>550      </td> <td>21                       </td>\n",
       "        </tr>\n",
       "        <tr>\n",
       "            <td>Tiburón Duende             </td> <td>320        </td> <td>210      </td> <td>2.3                      </td>\n",
       "        </tr>\n",
       "        <tr>\n",
       "            <td>Tiburón Blanco             </td> <td>610        </td> <td>2268     </td> <td>56                       </td>\n",
       "        </tr>\n",
       "        <tr>\n",
       "            <td>Tiburón Blanco             </td> <td>670        </td> <td>2268     </td> <td>56                       </td>\n",
       "        </tr>\n",
       "        <tr>\n",
       "            <td>Tiburón Mako de Aleta Corta</td> <td>394        </td> <td>800      </td> <td>45                       </td>\n",
       "        </tr>\n",
       "        <tr>\n",
       "            <td>Tiburón Ballena            </td> <td>1800       </td> <td>1500     </td> <td>70                       </td>\n",
       "        </tr>\n",
       "        <tr>\n",
       "            <td>Tiburón Cebra              </td> <td>330        </td> <td>32       </td> <td>20                       </td>\n",
       "        </tr>\n",
       "    </tbody>\n",
       "</table>"
      ],
      "text/plain": [
       "Animal                      | Altura (cm) | Peso (kg) | Velocidad Promedio (km/h)\n",
       "Tiburón Peregrino           | 1100        | 550       | 21\n",
       "Tiburón Duende              | 320         | 210       | 2.3\n",
       "Tiburón Blanco              | 610         | 2268      | 56\n",
       "Tiburón Blanco              | 670         | 2268      | 56\n",
       "Tiburón Mako de Aleta Corta | 394         | 800       | 45\n",
       "Tiburón Ballena             | 1800        | 1500      | 70\n",
       "Tiburón Cebra               | 330         | 32        | 20"
      ]
     },
     "execution_count": 263,
     "metadata": {},
     "output_type": "execute_result"
    }
   ],
   "source": [
    "animales.where('Animal', are.containing('Tiburón'))"
   ]
  },
  {
   "cell_type": "code",
   "execution_count": 256,
   "id": "a6bf8100-9beb-4c5c-ae38-93ae23387b8d",
   "metadata": {},
   "outputs": [
    {
     "data": {
      "text/html": [
       "<table border=\"1\" class=\"dataframe\">\n",
       "    <thead>\n",
       "        <tr>\n",
       "            <th>Animal</th> <th>Altura (cm)</th> <th>Peso (kg)</th> <th>Velocidad Promedio (km/h)</th>\n",
       "        </tr>\n",
       "    </thead>\n",
       "    <tbody>\n",
       "        <tr>\n",
       "            <td>Águila Calva            </td> <td>86         </td> <td>4.5      </td> <td>120                      </td>\n",
       "        </tr>\n",
       "        <tr>\n",
       "            <td>Guepardo                </td> <td>80         </td> <td>46       </td> <td>112                      </td>\n",
       "        </tr>\n",
       "        <tr>\n",
       "            <td>Berrendo                </td> <td>92.5       </td> <td>55       </td> <td>88.5                     </td>\n",
       "        </tr>\n",
       "        <tr>\n",
       "            <td>Búho Nival              </td> <td>61.5       </td> <td>2.45     </td> <td>80                       </td>\n",
       "        </tr>\n",
       "        <tr>\n",
       "            <td>Lince Ibérico           </td> <td>65         </td> <td>11.5     </td> <td>75                       </td>\n",
       "        </tr>\n",
       "        <tr>\n",
       "            <td>Camarón Mantis Pavo Real</td> <td>18         </td> <td>0        </td> <td>72                       </td>\n",
       "        </tr>\n",
       "        <tr>\n",
       "            <td>Tiburón Ballena         </td> <td>1800       </td> <td>1500     </td> <td>70                       </td>\n",
       "        </tr>\n",
       "        <tr>\n",
       "            <td>Caballo Árabe           </td> <td>150        </td> <td>690      </td> <td>65                       </td>\n",
       "        </tr>\n",
       "        <tr>\n",
       "            <td>Tigre de Bengala        </td> <td>100        </td> <td>240      </td> <td>65                       </td>\n",
       "        </tr>\n",
       "        <tr>\n",
       "            <td>Perro Bóxer             </td> <td>58         </td> <td>28.5     </td> <td>64                       </td>\n",
       "        </tr>\n",
       "    </tbody>\n",
       "</table>\n",
       "<p>... (168 rows omitted)</p>"
      ],
      "text/plain": [
       "Animal                   | Altura (cm) | Peso (kg) | Velocidad Promedio (km/h)\n",
       "Águila Calva             | 86          | 4.5       | 120\n",
       "Guepardo                 | 80          | 46        | 112\n",
       "Berrendo                 | 92.5        | 55        | 88.5\n",
       "Búho Nival               | 61.5        | 2.45      | 80\n",
       "Lince Ibérico            | 65          | 11.5      | 75\n",
       "Camarón Mantis Pavo Real | 18          | 0         | 72\n",
       "Tiburón Ballena          | 1800        | 1500      | 70\n",
       "Caballo Árabe            | 150         | 690       | 65\n",
       "Tigre de Bengala         | 100         | 240       | 65\n",
       "Perro Bóxer              | 58          | 28.5      | 64\n",
       "... (168 rows omitted)"
      ]
     },
     "execution_count": 256,
     "metadata": {},
     "output_type": "execute_result"
    }
   ],
   "source": [
    "animales.sort(\"Velocidad Promedio (km/h)\", descending = True)"
   ]
  },
  {
   "cell_type": "markdown",
   "id": "4ca95ca3-268d-40a2-a8c9-d6861556c5e0",
   "metadata": {},
   "source": [
    "Tarea de calse : Encontrar los osos cuya peso sea mayor a 100Kg"
   ]
  },
  {
   "cell_type": "markdown",
   "id": "358bceda-5b14-455a-b2fa-fa916ba221ef",
   "metadata": {},
   "source": [
    "# Más de tablas\n",
    "\n",
    "¿Cuál es la diferencia entre `select` y `column`, como nos podemos dar cuenta del tipo dato con lo que debemos trabajar?\n",
    "\n",
    "Miremos la siguiente tabla analizando el número de atómico de algunos elementos químicos \n",
    "\n",
    "`El número atómico` es la cantidad de protones que se encuentran en el núcleo de un átomo de un elemento químico. \n",
    "\n",
    "\n",
    "```python\n",
    "elementos = [\"Hidrógeno\", \"Helio\", \"Litio\", \"Berilio\", \"Boro\", \"Carbono\", \"Nitrógeno\", \"Oxígeno\", \"Flúor\", \"Neón\"]\n",
    "numeros_atomicos = [1, 2, 3, 4, 5, 6, 7, 8, 9, 10]\n",
    "\n",
    "\n",
    "tabla_elementos = pd.DataFrame({\n",
    "    \"Elemento\": elementos,\n",
    "    \"Número Atómico\": numeros_atomicos\n",
    "})\n",
    "```\n"
   ]
  },
  {
   "cell_type": "code",
   "execution_count": null,
   "id": "977a4563-2ac4-41af-b646-c42dc55341db",
   "metadata": {},
   "outputs": [],
   "source": []
  }
 ],
 "metadata": {
  "kernelspec": {
   "display_name": "Python 3 (ipykernel)",
   "language": "python",
   "name": "python3"
  },
  "language_info": {
   "codemirror_mode": {
    "name": "ipython",
    "version": 3
   },
   "file_extension": ".py",
   "mimetype": "text/x-python",
   "name": "python",
   "nbconvert_exporter": "python",
   "pygments_lexer": "ipython3",
   "version": "3.10.14"
  }
 },
 "nbformat": 4,
 "nbformat_minor": 5
}
