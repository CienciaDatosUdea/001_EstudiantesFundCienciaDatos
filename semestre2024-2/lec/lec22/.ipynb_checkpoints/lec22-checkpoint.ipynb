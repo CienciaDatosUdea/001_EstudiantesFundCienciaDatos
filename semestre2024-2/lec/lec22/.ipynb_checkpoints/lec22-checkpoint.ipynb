{
 "cells": [
  {
   "cell_type": "code",
   "execution_count": 42,
   "id": "c5e689f9-b65f-4e4c-81c3-8e31ae239114",
   "metadata": {},
   "outputs": [],
   "source": [
    "import numpy as np\n",
    "from datascience import *\n",
    "import matplotlib.pylab as plots\n",
    "plots.style.use('fivethirtyeight')\n",
    "%matplotlib inline"
   ]
  },
  {
   "cell_type": "code",
   "execution_count": 43,
   "id": "357b6390-c636-434a-8e54-145407f4aba1",
   "metadata": {},
   "outputs": [],
   "source": [
    "tamanos_continentes = make_array(12, 17, 6, 9, 7)"
   ]
  },
  {
   "cell_type": "code",
   "execution_count": 44,
   "id": "949fd011-2d72-474e-a59c-82a34ac61fab",
   "metadata": {},
   "outputs": [
    {
     "data": {
      "text/plain": [
       "array([ 6,  7,  9, 12, 17])"
      ]
     },
     "execution_count": 44,
     "metadata": {},
     "output_type": "execute_result"
    }
   ],
   "source": [
    "np.sort(tamanos_continentes)"
   ]
  },
  {
   "cell_type": "markdown",
   "id": "05d71a56-47c4-4b5d-bdba-581e545b3535",
   "metadata": {},
   "source": [
    "- El  percentil 80 es un valor de la lista 12. El 80% de los valores son menores o iguales a él, y es valor mas pequeño para el cual es cierto.\n",
    "\n",
    "- El percentil 70 es el valor mas pequeno de la coleccion que es al menos tan grande como el 70% de los elementos. El 70 porciento de los 5 elementos es 3.5 elementos, por lo que el percentil 70, es el cuarto elemento de la lista. Es decir 12\n",
    "\n"
   ]
  },
  {
   "cell_type": "markdown",
   "id": "c7126954-8bb6-4976-bca4-ca4fa0775a8c",
   "metadata": {},
   "source": [
    "# Función percentil \n",
    "\n",
    "```python\n",
    "percentil(percentil_numero, coleeccion de elementos)\n",
    "```"
   ]
  },
  {
   "cell_type": "code",
   "execution_count": 45,
   "id": "7f2d6b8f-a512-41d7-99c5-2b175a05f38f",
   "metadata": {},
   "outputs": [
    {
     "data": {
      "text/plain": [
       "12"
      ]
     },
     "execution_count": 45,
     "metadata": {},
     "output_type": "execute_result"
    }
   ],
   "source": [
    "percentile(70, tamanos_continentes)"
   ]
  },
  {
   "cell_type": "code",
   "execution_count": 46,
   "id": "3d271f4c-3319-4007-80b1-2dec6cc54c92",
   "metadata": {},
   "outputs": [
    {
     "data": {
      "text/plain": [
       "12"
      ]
     },
     "execution_count": 46,
     "metadata": {},
     "output_type": "execute_result"
    }
   ],
   "source": [
    "percentile(80, tamanos_continentes)"
   ]
  },
  {
   "cell_type": "markdown",
   "id": "8c5a6309-c8de-4ef4-a67d-b60b83b68e2d",
   "metadata": {},
   "source": [
    "# **Percentil**\n",
    "\n",
    "El **percentil** es una medida estadística que indica la posición de un valor dentro de un conjunto de datos ordenados. Formalmente, el percentil $ P_k $ de orden $ k $ (donde $ k $ es un número entre 0 y 100) se define como el valor $ x_k $ que cumple con las siguientes condiciones:\n",
    "\n",
    "1. **Porcentaje de datos menores o iguales**: Al menos el $k\\%$ de los datos son menores o iguales a $x_k$.\n",
    "2. **Porcentaje de datos mayores o iguales**: Al menos el $(100 - k)\\%$ de los datos son mayores o iguales a $x_k$.\n",
    "\n",
    "## **Fórmula General para Calcular un Percentil**\n",
    "Si tenemos un conjunto de datos ordenados de tamaño $n$, el índice $i$ correspondiente al percentil $k$ se calcula como:\n",
    "\n",
    "\\begin{equation}\n",
    "i = \\frac{k}{100} \\times n\n",
    "\\end{equation}\n",
    "\n",
    "### **Reglas para determinar el percentil \\( P_k \\):**\n",
    "- Si $i$ es un número entero, el percentil es el promedio entre el valor en la posición $i$ y el valor en la posición $i+1$.\n",
    "- Si $i$ no es un número entero, se redondea hacia arriba y se toma el valor en la posición resultante.\n",
    "\n",
    "## **Ejemplo Práctico**\n",
    "Supongamos que tenemos los siguientes datos ordenados:  \n",
    "\\[ 2, 5, 7, 10, 15, 18, 21, 25, 30, 35 \\] (10 datos, $n = 10$)\n",
    "\n",
    "Queremos encontrar el **percentil 40** ($P_{40}$):\n",
    "\n",
    "\\begin{equation}\n",
    "i = \\frac{40}{100} \\times 10 = 4\n",
    "\\end{equation}\n",
    "\n",
    "Es decir, 10 es el numero 4 de la lista que representa que el 40%  de los datos son menores o iguales a el. Mientras el 60% son mayores o iguales que él."
   ]
  },
  {
   "cell_type": "code",
   "execution_count": 47,
   "id": "7e627455-feba-4b19-a592-773aa816ea1c",
   "metadata": {},
   "outputs": [],
   "source": [
    "numbers=make_array(2, 5, 7, 10, 15, 18, 21, 25, 30, 35 )"
   ]
  },
  {
   "cell_type": "code",
   "execution_count": 48,
   "id": "55c65bd8-1151-479d-beac-5213746a37df",
   "metadata": {},
   "outputs": [
    {
     "data": {
      "text/plain": [
       "10"
      ]
     },
     "execution_count": 48,
     "metadata": {},
     "output_type": "execute_result"
    }
   ],
   "source": [
    "percentile(40, numbers)"
   ]
  },
  {
   "cell_type": "code",
   "execution_count": 49,
   "id": "85c9cfb8-3d4f-4e78-b865-0faa7ebba37b",
   "metadata": {},
   "outputs": [],
   "source": [
    "score = Table.read_table(\"scores_by_section.csv\")"
   ]
  },
  {
   "cell_type": "code",
   "execution_count": 50,
   "id": "6e2d2c58-8c78-495e-9532-298ebd88c887",
   "metadata": {},
   "outputs": [
    {
     "data": {
      "text/html": [
       "<table border=\"1\" class=\"dataframe\">\n",
       "    <thead>\n",
       "        <tr>\n",
       "            <th>Section</th> <th>Midterm</th>\n",
       "        </tr>\n",
       "    </thead>\n",
       "    <tbody>\n",
       "        <tr>\n",
       "            <td>1      </td> <td>22     </td>\n",
       "        </tr>\n",
       "        <tr>\n",
       "            <td>2      </td> <td>12     </td>\n",
       "        </tr>\n",
       "        <tr>\n",
       "            <td>2      </td> <td>23     </td>\n",
       "        </tr>\n",
       "        <tr>\n",
       "            <td>2      </td> <td>14     </td>\n",
       "        </tr>\n",
       "        <tr>\n",
       "            <td>1      </td> <td>20     </td>\n",
       "        </tr>\n",
       "        <tr>\n",
       "            <td>3      </td> <td>25     </td>\n",
       "        </tr>\n",
       "        <tr>\n",
       "            <td>4      </td> <td>19     </td>\n",
       "        </tr>\n",
       "        <tr>\n",
       "            <td>1      </td> <td>24     </td>\n",
       "        </tr>\n",
       "        <tr>\n",
       "            <td>5      </td> <td>8      </td>\n",
       "        </tr>\n",
       "        <tr>\n",
       "            <td>6      </td> <td>14     </td>\n",
       "        </tr>\n",
       "    </tbody>\n",
       "</table>\n",
       "<p>... (349 rows omitted)</p>"
      ],
      "text/plain": [
       "Section | Midterm\n",
       "1       | 22\n",
       "2       | 12\n",
       "2       | 23\n",
       "2       | 14\n",
       "1       | 20\n",
       "3       | 25\n",
       "4       | 19\n",
       "1       | 24\n",
       "5       | 8\n",
       "6       | 14\n",
       "... (349 rows omitted)"
      ]
     },
     "execution_count": 50,
     "metadata": {},
     "output_type": "execute_result"
    }
   ],
   "source": [
    "score"
   ]
  },
  {
   "cell_type": "code",
   "execution_count": 58,
   "id": "35e210c0-b911-423c-b494-719f74fca998",
   "metadata": {},
   "outputs": [
    {
     "data": {
      "image/png": "[encoded data removed]",
      "text/plain": [
       "<Figure size 600x400 with 1 Axes>"
      ]
     },
     "metadata": {},
     "output_type": "display_data"
    }
   ],
   "source": [
    "score.select(\"Midterm\").hist(bins=np.arange(-5, 30, 1))"
   ]
  },
  {
   "cell_type": "code",
   "execution_count": 63,
   "id": "2393ae48-8311-44b7-9200-ff9939a5b0f0",
   "metadata": {},
   "outputs": [
    {
     "data": {
      "text/html": [
       "<table border=\"1\" class=\"dataframe\">\n",
       "    <thead>\n",
       "        <tr>\n",
       "            <th>Midterm</th>\n",
       "        </tr>\n",
       "    </thead>\n",
       "    <tbody>\n",
       "        <tr>\n",
       "            <td>22     </td>\n",
       "        </tr>\n",
       "        <tr>\n",
       "            <td>12     </td>\n",
       "        </tr>\n",
       "        <tr>\n",
       "            <td>23     </td>\n",
       "        </tr>\n",
       "        <tr>\n",
       "            <td>14     </td>\n",
       "        </tr>\n",
       "        <tr>\n",
       "            <td>20     </td>\n",
       "        </tr>\n",
       "        <tr>\n",
       "            <td>25     </td>\n",
       "        </tr>\n",
       "        <tr>\n",
       "            <td>19     </td>\n",
       "        </tr>\n",
       "        <tr>\n",
       "            <td>24     </td>\n",
       "        </tr>\n",
       "        <tr>\n",
       "            <td>8      </td>\n",
       "        </tr>\n",
       "        <tr>\n",
       "            <td>14     </td>\n",
       "        </tr>\n",
       "    </tbody>\n",
       "</table>\n",
       "<p>... (349 rows omitted)</p>"
      ],
      "text/plain": [
       "Midterm\n",
       "22\n",
       "12\n",
       "23\n",
       "14\n",
       "20\n",
       "25\n",
       "19\n",
       "24\n",
       "8\n",
       "14\n",
       "... (349 rows omitted)"
      ]
     },
     "execution_count": 63,
     "metadata": {},
     "output_type": "execute_result"
    }
   ],
   "source": [
    "score.select(\"Midterm\")"
   ]
  },
  {
   "cell_type": "code",
   "execution_count": 68,
   "id": "6e06b183-2ed1-4b33-bef2-a01afdc3d81b",
   "metadata": {},
   "outputs": [
    {
     "data": {
      "text/plain": [
       "22"
      ]
     },
     "execution_count": 68,
     "metadata": {},
     "output_type": "execute_result"
    }
   ],
   "source": [
    "percentile(85,score.column(\"Midterm\"))"
   ]
  },
  {
   "cell_type": "markdown",
   "id": "0c8fc28c-692b-4858-8d18-dc052dcbac37",
   "metadata": {},
   "source": [
    "El percentil 85 fue 22. "
   ]
  },
  {
   "cell_type": "code",
   "execution_count": 79,
   "id": "bf24ede8-488b-403e-9c9b-7399d38f6c93",
   "metadata": {},
   "outputs": [
    {
     "data": {
      "text/plain": [
       "array([ 0,  0,  0,  0,  0,  0,  0,  0,  0,  0,  0,  0,  0,  0,  0,  0,  0,\n",
       "        1,  4,  4,  4,  5,  6,  7,  7,  7,  7,  7,  8,  8,  8,  8,  8,  8,\n",
       "        8,  8,  9,  9,  9,  9,  9,  9,  9,  9,  9,  9,  9,  9,  9,  9, 10,\n",
       "       10, 10, 10, 10, 10, 10, 10, 10, 10, 10, 10, 10, 10, 10, 10, 10, 10,\n",
       "       10, 11, 11, 11, 11, 11, 11, 11, 11, 11, 11, 11, 11, 11, 11, 11, 11,\n",
       "       11, 11, 11, 11, 11, 11, 11, 11, 12, 12, 12, 12, 12, 12, 12, 12, 12,\n",
       "       12, 12, 12, 12, 12, 13, 13, 13, 13, 13, 13, 13, 13, 13, 13, 13, 13,\n",
       "       13, 13, 13, 13, 13, 13, 13, 13, 13, 13, 14, 14, 14, 14, 14, 14, 14,\n",
       "       14, 14, 14, 14, 14, 14, 14, 14, 14, 14, 14, 14, 14, 15, 15, 15, 15,\n",
       "       15, 15, 15, 15, 15, 15, 15, 15, 15, 15, 15, 15, 15, 16, 16, 16, 16,\n",
       "       16, 16, 16, 16, 16, 16, 16, 16, 16, 16, 16, 16, 16, 16, 16, 16, 16,\n",
       "       16, 17, 17, 17, 17, 17, 17, 17, 17, 17, 17, 17, 17, 17, 17, 17, 17,\n",
       "       17, 17, 17, 17, 17, 17, 17, 17, 17, 18, 18, 18, 18, 18, 18, 18, 18,\n",
       "       18, 18, 18, 18, 18, 18, 18, 18, 18, 18, 18, 18, 18, 18, 18, 18, 18,\n",
       "       19, 19, 19, 19, 19, 19, 19, 19, 19, 19, 19, 19, 19, 19, 19, 19, 20,\n",
       "       20, 20, 20, 20, 20, 20, 20, 20, 20, 20, 20, 20, 20, 20, 20, 20, 21,\n",
       "       21, 21, 21, 21, 21, 21, 21, 21, 21, 21, 21, 21, 21, 21, 21, 21, 21,\n",
       "       21, 21, 21, 21, 21, 21, 21, 21, 22, 22, 22, 22, 22, 22, 22, 22, 22,\n",
       "       22, 22, 22, 22, 22, 22, 22, 22, 23, 23, 23, 23, 23, 23, 23, 23, 23,\n",
       "       23, 23, 23, 23, 23, 23, 24, 24, 24, 24, 24, 24, 24, 24, 24, 24, 24,\n",
       "       24, 24, 24, 24, 24, 25, 25, 25, 25, 25, 25, 25, 25, 25, 25, 25, 25,\n",
       "       25, 25])"
      ]
     },
     "execution_count": 79,
     "metadata": {},
     "output_type": "execute_result"
    }
   ],
   "source": [
    "np.sort(score.column(\"Midterm\"))"
   ]
  },
  {
   "cell_type": "code",
   "execution_count": 80,
   "id": "79d9cc87-68a3-44f7-af76-5f116c6fd0b3",
   "metadata": {},
   "outputs": [
    {
     "data": {
      "text/plain": [
       "359"
      ]
     },
     "execution_count": 80,
     "metadata": {},
     "output_type": "execute_result"
    }
   ],
   "source": [
    "len(np.sort(score.column(\"Midterm\")))"
   ]
  },
  {
   "cell_type": "code",
   "execution_count": 81,
   "id": "46ccc182-9dcb-4cd5-a84e-e442aeb03c6d",
   "metadata": {},
   "outputs": [
    {
     "data": {
      "text/plain": [
       "305.15"
      ]
     },
     "execution_count": 81,
     "metadata": {},
     "output_type": "execute_result"
    }
   ],
   "source": [
    "x = 85*359./100\n",
    "x"
   ]
  },
  {
   "cell_type": "code",
   "execution_count": null,
   "id": "9c38f8ff-c19e-463d-9d0d-5e692172963e",
   "metadata": {},
   "outputs": [],
   "source": [
    "np.sort(score.column(\"Midterm\"))[306]"
   ]
  },
  {
   "cell_type": "markdown",
   "id": "273f4876-13bc-448d-93da-03486e1df001",
   "metadata": {},
   "source": [
    "# Cuartil"
   ]
  },
  {
   "cell_type": "markdown",
   "id": "fc9ba870-8332-4ef5-9eee-69d36fc5d463",
   "metadata": {},
   "source": [
    "Los **cuartiles** son valores que dividen un conjunto de datos ordenados en **cuatro partes iguales**, cada una representando el **25%** de los datos. Son un caso especial de los **percentiles**, donde los valores clave corresponden a los percentiles **25, 50 y 75**.\n",
    "\n",
    "Los cuartiles principales son:\n",
    "\n",
    "1. **Primer cuartil (Q₁ o P₂₅):** Es el valor que separa el **25%** de los datos inferiores del resto. Es equivalente al **percentil 25**.\n",
    "2. **Segundo cuartil (Q₂ o P₅₀):** Es el valor que separa el **50%** de los datos inferiores del resto. Es igual a la **mediana** o **percentil 50**.\n",
    "3. **Tercer cuartil (Q₃ o P₇₅):** Es el valor que separa el **75%** de los datos inferiores del resto. Es equivalente al **percentil 75**.\n"
   ]
  },
  {
   "cell_type": "code",
   "execution_count": 94,
   "id": "212bca9e-431b-49e8-acae-29877893dd15",
   "metadata": {},
   "outputs": [
    {
     "name": "stdout",
     "output_type": "stream",
     "text": [
      "Primer cuartil: 11\n",
      "Segundo cuartil: 16\n",
      "Tercero cuartil: 20\n",
      "cuarto cuartil: 25\n"
     ]
    }
   ],
   "source": [
    "scores=score.column(1)\n",
    "print(f\"Primer cuartil: {percentile(25, scores)}\")\n",
    "print(f\"Segundo cuartil: {percentile(50, scores)}\")\n",
    "print(f\"Tercero cuartil: {percentile(75, scores)}\")\n",
    "print(f\"cuarto cuartil: {percentile(100, scores)}\")"
   ]
  },
  {
   "cell_type": "code",
   "execution_count": 97,
   "id": "7f837794-a887-4a5b-96f0-d2a892bf0455",
   "metadata": {},
   "outputs": [
    {
     "data": {
      "text/plain": [
       "89.75"
      ]
     },
     "execution_count": 97,
     "metadata": {},
     "output_type": "execute_result"
    }
   ],
   "source": [
    "def percentil_():\n",
    "    return 359*25./100\n",
    "    "
   ]
  },
  {
   "cell_type": "code",
   "execution_count": 98,
   "id": "98079f6a-ea8a-4d87-8d8f-e575a76eb380",
   "metadata": {},
   "outputs": [
    {
     "data": {
      "text/plain": [
       "11"
      ]
     },
     "execution_count": 98,
     "metadata": {},
     "output_type": "execute_result"
    }
   ],
   "source": [
    "np.sort(scores)[90]"
   ]
  },
  {
   "cell_type": "code",
   "execution_count": null,
   "id": "a99f4c87-e7d2-4d24-a702-b0682628a82e",
   "metadata": {},
   "outputs": [],
   "source": [
    "np.sort(scores)[90]"
   ]
  }
 ],
 "metadata": {
  "kernelspec": {
   "display_name": "Python 3 (ipykernel)",
   "language": "python",
   "name": "python3"
  },
  "language_info": {
   "codemirror_mode": {
    "name": "ipython",
    "version": 3
   },
   "file_extension": ".py",
   "mimetype": "text/x-python",
   "name": "python",
   "nbconvert_exporter": "python",
   "pygments_lexer": "ipython3",
   "version": "3.10.14"
  }
 },
 "nbformat": 4,
 "nbformat_minor": 5
}
