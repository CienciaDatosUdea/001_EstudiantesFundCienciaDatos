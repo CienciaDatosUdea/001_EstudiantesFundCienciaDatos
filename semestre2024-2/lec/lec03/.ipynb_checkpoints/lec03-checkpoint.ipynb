{
 "cells": [
  {
   "cell_type": "markdown",
   "id": "9038fcca-9747-41be-9f79-6fee1e265abb",
   "metadata": {},
   "source": [
    "# Expresiones"
   ]
  },
  {
   "cell_type": "markdown",
   "id": "fb42cf8a",
   "metadata": {},
   "source": [
    "| **Tipo de Expresión** | **Operador** | **Ejemplo**       |\n",
    "|-----------------------|--------------|-------------------|\n",
    "| Addition              | `+`          | `2 + 3 = 5`       |\n",
    "| Subtraction           | `-`          | `2 - 3 = -1`      |\n",
    "| Multiplication        | `*`          | `2 * 3 = 6`       |\n",
    "| Division              | `/`          | `7 / 3 = 2.66667` |\n",
    "| Remainder (Modulo)    | `%`          | `7 % 3 = 1`       |\n",
    "| Exponentiation        | `**`         | `2 ** 0.5 = 1.41421` |\n"
   ]
  },
  {
   "cell_type": "code",
   "execution_count": 5,
   "id": "8f41c05d",
   "metadata": {},
   "outputs": [
    {
     "data": {
      "text/plain": [
       "5"
      ]
     },
     "execution_count": 5,
     "metadata": {},
     "output_type": "execute_result"
    }
   ],
   "source": [
    "2 + 3"
   ]
  },
  {
   "cell_type": "code",
   "execution_count": 6,
   "id": "b70ad06a",
   "metadata": {},
   "outputs": [
    {
     "data": {
      "text/plain": [
       "-1"
      ]
     },
     "execution_count": 6,
     "metadata": {},
     "output_type": "execute_result"
    }
   ],
   "source": [
    "2 - 3"
   ]
  },
  {
   "cell_type": "code",
   "execution_count": 7,
   "id": "164bdb11",
   "metadata": {},
   "outputs": [
    {
     "data": {
      "text/plain": [
       "6"
      ]
     },
     "execution_count": 7,
     "metadata": {},
     "output_type": "execute_result"
    }
   ],
   "source": [
    "2*3"
   ]
  },
  {
   "cell_type": "code",
   "execution_count": 8,
   "id": "144db67c",
   "metadata": {},
   "outputs": [
    {
     "data": {
      "text/plain": [
       "2.3333333333333335"
      ]
     },
     "execution_count": 8,
     "metadata": {},
     "output_type": "execute_result"
    }
   ],
   "source": [
    "7/3"
   ]
  },
  {
   "cell_type": "code",
   "execution_count": 9,
   "id": "bd14cfac",
   "metadata": {},
   "outputs": [
    {
     "data": {
      "text/plain": [
       "1"
      ]
     },
     "execution_count": 9,
     "metadata": {},
     "output_type": "execute_result"
    }
   ],
   "source": [
    "7%3"
   ]
  },
  {
   "cell_type": "code",
   "execution_count": 10,
   "id": "d5adc5ba",
   "metadata": {},
   "outputs": [
    {
     "data": {
      "text/plain": [
       "1024"
      ]
     },
     "execution_count": 10,
     "metadata": {},
     "output_type": "execute_result"
    }
   ],
   "source": [
    "2**10"
   ]
  },
  {
   "cell_type": "code",
   "execution_count": 11,
   "id": "6f140e93",
   "metadata": {},
   "outputs": [],
   "source": [
    "# Esto es un comentario"
   ]
  },
  {
   "cell_type": "code",
   "execution_count": 12,
   "id": "620fa496",
   "metadata": {},
   "outputs": [
    {
     "data": {
      "text/plain": [
       "'hola mundo'"
      ]
     },
     "execution_count": 12,
     "metadata": {},
     "output_type": "execute_result"
    }
   ],
   "source": [
    "\"hola mundo\""
   ]
  },
  {
   "cell_type": "markdown",
   "id": "82fca82c",
   "metadata": {},
   "source": [
    "El orden de las operaciones importa en python\n",
    "- Primero se raliza la multiplicación y división, despues las sumas y restas\n"
   ]
  },
  {
   "cell_type": "code",
   "execution_count": 13,
   "id": "4e292785",
   "metadata": {},
   "outputs": [
    {
     "data": {
      "text/plain": [
       "7.0"
      ]
     },
     "execution_count": 13,
     "metadata": {},
     "output_type": "execute_result"
    }
   ],
   "source": [
    "2 + 3 * 4 / 2 - 1"
   ]
  },
  {
   "cell_type": "code",
   "execution_count": 14,
   "id": "588d012b",
   "metadata": {},
   "outputs": [
    {
     "data": {
      "text/plain": [
       "7.0"
      ]
     },
     "execution_count": 14,
     "metadata": {},
     "output_type": "execute_result"
    }
   ],
   "source": [
    "5 + 3 * 2 / 2 - 1"
   ]
  },
  {
   "cell_type": "code",
   "execution_count": 15,
   "id": "96e1ad17",
   "metadata": {},
   "outputs": [
    {
     "data": {
      "text/plain": [
       "16.0"
      ]
     },
     "execution_count": 15,
     "metadata": {},
     "output_type": "execute_result"
    }
   ],
   "source": [
    "(5 + 3) * (2 / (2 - 1))"
   ]
  },
  {
   "cell_type": "markdown",
   "id": "4b3646e2",
   "metadata": {},
   "source": [
    "# Nombres de variables"
   ]
  },
  {
   "cell_type": "code",
   "execution_count": 16,
   "id": "6634c322",
   "metadata": {},
   "outputs": [],
   "source": [
    "x = 4"
   ]
  },
  {
   "cell_type": "code",
   "execution_count": 17,
   "id": "6a1bb867",
   "metadata": {},
   "outputs": [
    {
     "data": {
      "text/plain": [
       "4"
      ]
     },
     "execution_count": 17,
     "metadata": {},
     "output_type": "execute_result"
    }
   ],
   "source": [
    "x"
   ]
  },
  {
   "cell_type": "code",
   "execution_count": 18,
   "id": "d2b0387b",
   "metadata": {},
   "outputs": [
    {
     "name": "stdout",
     "output_type": "stream",
     "text": [
      "4\n"
     ]
    }
   ],
   "source": [
    "print(x)"
   ]
  },
  {
   "cell_type": "code",
   "execution_count": 19,
   "id": "2b257bdb",
   "metadata": {},
   "outputs": [
    {
     "ename": "NameError",
     "evalue": "name 'z' is not defined",
     "output_type": "error",
     "traceback": [
      "\u001b[0;31m---------------------------------------------------------------------------\u001b[0m",
      "\u001b[0;31mNameError\u001b[0m                                 Traceback (most recent call last)",
      "Cell \u001b[0;32mIn[19], line 1\u001b[0m\n\u001b[0;32m----> 1\u001b[0m \u001b[43mz\u001b[49m\n",
      "\u001b[0;31mNameError\u001b[0m: name 'z' is not defined"
     ]
    }
   ],
   "source": [
    "z"
   ]
  },
  {
   "cell_type": "code",
   "execution_count": 20,
   "id": "0c880cd6",
   "metadata": {},
   "outputs": [],
   "source": [
    "z = 10"
   ]
  },
  {
   "cell_type": "code",
   "execution_count": 21,
   "id": "528f377a",
   "metadata": {},
   "outputs": [
    {
     "ename": "NameError",
     "evalue": "name 'Z' is not defined",
     "output_type": "error",
     "traceback": [
      "\u001b[0;31m---------------------------------------------------------------------------\u001b[0m",
      "\u001b[0;31mNameError\u001b[0m                                 Traceback (most recent call last)",
      "Cell \u001b[0;32mIn[21], line 1\u001b[0m\n\u001b[0;32m----> 1\u001b[0m x\u001b[38;5;241m*\u001b[39m\u001b[43mZ\u001b[49m\n",
      "\u001b[0;31mNameError\u001b[0m: name 'Z' is not defined"
     ]
    }
   ],
   "source": [
    "x*Z"
   ]
  },
  {
   "cell_type": "code",
   "execution_count": 22,
   "id": "8e9f3b51",
   "metadata": {},
   "outputs": [
    {
     "data": {
      "text/plain": [
       "40"
      ]
     },
     "execution_count": 22,
     "metadata": {},
     "output_type": "execute_result"
    }
   ],
   "source": [
    "x*z"
   ]
  },
  {
   "cell_type": "code",
   "execution_count": 23,
   "id": "cee6449f",
   "metadata": {},
   "outputs": [
    {
     "data": {
      "text/plain": [
       "14"
      ]
     },
     "execution_count": 23,
     "metadata": {},
     "output_type": "execute_result"
    }
   ],
   "source": [
    "total = x + z\n",
    "total"
   ]
  },
  {
   "cell_type": "code",
   "execution_count": 24,
   "id": "8b02d515",
   "metadata": {},
   "outputs": [
    {
     "data": {
      "text/plain": [
       "3.21"
      ]
     },
     "execution_count": 24,
     "metadata": {},
     "output_type": "execute_result"
    }
   ],
   "source": [
    "precio_metro = 3.210\n",
    "precio_metro"
   ]
  },
  {
   "cell_type": "code",
   "execution_count": 25,
   "id": "5a39ea72",
   "metadata": {},
   "outputs": [
    {
     "data": {
      "text/plain": [
       "(3, 210)"
      ]
     },
     "execution_count": 25,
     "metadata": {},
     "output_type": "execute_result"
    }
   ],
   "source": [
    "precio_metro = 3,210\n",
    "precio_metro"
   ]
  },
  {
   "cell_type": "code",
   "execution_count": 26,
   "id": "62751691",
   "metadata": {},
   "outputs": [
    {
     "data": {
      "text/plain": [
       "3210"
      ]
     },
     "execution_count": 26,
     "metadata": {},
     "output_type": "execute_result"
    }
   ],
   "source": [
    "precio_metro = 3210\n",
    "precio_metro "
   ]
  },
  {
   "cell_type": "code",
   "execution_count": 27,
   "id": "d9f26ca9",
   "metadata": {},
   "outputs": [
    {
     "data": {
      "text/plain": [
       "128400"
      ]
     },
     "execution_count": 27,
     "metadata": {},
     "output_type": "execute_result"
    }
   ],
   "source": [
    "precio_metro = 3210\n",
    "precio_metro_semana_dos_viajes = 2 * 5 * precio_metro \n",
    "precio_metro_mes = precio_metro_semana_dos_viajes*4\n",
    "precio_metro_mes"
   ]
  },
  {
   "cell_type": "markdown",
   "id": "c3faf3f6",
   "metadata": {},
   "source": [
    "# Funciones y llamado de expresiones"
   ]
  },
  {
   "cell_type": "code",
   "execution_count": 28,
   "id": "20b7a0db",
   "metadata": {},
   "outputs": [
    {
     "data": {
      "text/plain": [
       "10"
      ]
     },
     "execution_count": 28,
     "metadata": {},
     "output_type": "execute_result"
    }
   ],
   "source": [
    "abs(-10)"
   ]
  },
  {
   "cell_type": "code",
   "execution_count": 29,
   "id": "bbf4edea",
   "metadata": {},
   "outputs": [
    {
     "data": {
      "text/plain": [
       "9.8"
      ]
     },
     "execution_count": 29,
     "metadata": {},
     "output_type": "execute_result"
    }
   ],
   "source": [
    "g = -9.8\n",
    "abs(g)"
   ]
  },
  {
   "cell_type": "code",
   "execution_count": 30,
   "id": "3c48f998",
   "metadata": {},
   "outputs": [],
   "source": [
    "Temperature6am = 23\n",
    "Temperature12m = 28\n"
   ]
  },
  {
   "cell_type": "code",
   "execution_count": 31,
   "id": "23cd550c",
   "metadata": {},
   "outputs": [
    {
     "data": {
      "text/plain": [
       "-5"
      ]
     },
     "execution_count": 31,
     "metadata": {},
     "output_type": "execute_result"
    }
   ],
   "source": [
    "Temperature6am-Temperature12m"
   ]
  },
  {
   "cell_type": "code",
   "execution_count": 32,
   "id": "92a6b28a",
   "metadata": {},
   "outputs": [
    {
     "data": {
      "text/plain": [
       "5"
      ]
     },
     "execution_count": 32,
     "metadata": {},
     "output_type": "execute_result"
    }
   ],
   "source": [
    "abs(Temperature6am-Temperature12m)"
   ]
  },
  {
   "cell_type": "code",
   "execution_count": 33,
   "id": "5af4636f",
   "metadata": {},
   "outputs": [
    {
     "data": {
      "text/plain": [
       "10"
      ]
     },
     "execution_count": 33,
     "metadata": {},
     "output_type": "execute_result"
    }
   ],
   "source": [
    "min(10, 100)"
   ]
  },
  {
   "cell_type": "code",
   "execution_count": 34,
   "id": "6dc5b2a8",
   "metadata": {},
   "outputs": [
    {
     "data": {
      "text/plain": [
       "100"
      ]
     },
     "execution_count": 34,
     "metadata": {},
     "output_type": "execute_result"
    }
   ],
   "source": [
    "max(10, 100)"
   ]
  },
  {
   "cell_type": "code",
   "execution_count": 35,
   "id": "e30a5b6d",
   "metadata": {},
   "outputs": [
    {
     "data": {
      "text/plain": [
       "3"
      ]
     },
     "execution_count": 35,
     "metadata": {},
     "output_type": "execute_result"
    }
   ],
   "source": [
    "round(3.14)"
   ]
  },
  {
   "cell_type": "code",
   "execution_count": 36,
   "id": "d05ed0a2",
   "metadata": {},
   "outputs": [
    {
     "data": {
      "text/plain": [
       "4"
      ]
     },
     "execution_count": 36,
     "metadata": {},
     "output_type": "execute_result"
    }
   ],
   "source": [
    "round(3.5)"
   ]
  },
  {
   "cell_type": "code",
   "execution_count": 37,
   "id": "b48f6420",
   "metadata": {},
   "outputs": [],
   "source": [
    "import math "
   ]
  },
  {
   "cell_type": "code",
   "execution_count": 38,
   "id": "dea71015",
   "metadata": {},
   "outputs": [
    {
     "data": {
      "text/plain": [
       "3.1622776601683795"
      ]
     },
     "execution_count": 38,
     "metadata": {},
     "output_type": "execute_result"
    }
   ],
   "source": [
    "math.sqrt(10)"
   ]
  },
  {
   "cell_type": "code",
   "execution_count": 39,
   "id": "0e2b21ee",
   "metadata": {},
   "outputs": [
    {
     "data": {
      "text/plain": [
       "3"
      ]
     },
     "execution_count": 39,
     "metadata": {},
     "output_type": "execute_result"
    }
   ],
   "source": [
    "round(math.sqrt(10))"
   ]
  },
  {
   "cell_type": "code",
   "execution_count": 40,
   "id": "26651f02",
   "metadata": {},
   "outputs": [],
   "source": [
    "y = math.sqrt(10)"
   ]
  },
  {
   "cell_type": "code",
   "execution_count": 41,
   "id": "59eff13e-796a-4905-bace-55391860b51d",
   "metadata": {},
   "outputs": [
    {
     "data": {
      "text/plain": [
       "1.7782794100389228"
      ]
     },
     "execution_count": 41,
     "metadata": {},
     "output_type": "execute_result"
    }
   ],
   "source": [
    "math.sqrt(y)"
   ]
  },
  {
   "cell_type": "code",
   "execution_count": 42,
   "id": "baefe594-5d62-4f1d-babe-0ff650542fc3",
   "metadata": {},
   "outputs": [
    {
     "data": {
      "text/plain": [
       "2017.0"
      ]
     },
     "execution_count": 42,
     "metadata": {},
     "output_type": "execute_result"
    }
   ],
   "source": [
    "1 + 2 * (3 * 4 * 5 / 6) ** 3 + 7 + 8 - 9 + 10\n",
    "\n"
   ]
  },
  {
   "cell_type": "markdown",
   "id": "5b5cbde5-c616-4629-9abf-f303b748bbb7",
   "metadata": {},
   "source": [
    "# Exponentes"
   ]
  },
  {
   "cell_type": "code",
   "execution_count": 44,
   "id": "a77d5c61-e98e-4089-ba73-c1973698b3a9",
   "metadata": {},
   "outputs": [
    {
     "data": {
      "text/plain": [
       "1.4142135623730951"
      ]
     },
     "execution_count": 44,
     "metadata": {},
     "output_type": "execute_result"
    }
   ],
   "source": [
    "2**(1/2)"
   ]
  },
  {
   "cell_type": "code",
   "execution_count": 45,
   "id": "ad2bfe12-a235-4eca-8df1-78102fc67c1f",
   "metadata": {},
   "outputs": [
    {
     "data": {
      "text/plain": [
       "200000.0"
      ]
     },
     "execution_count": 45,
     "metadata": {},
     "output_type": "execute_result"
    }
   ],
   "source": [
    "2E5"
   ]
  },
  {
   "cell_type": "code",
   "execution_count": 46,
   "id": "b0190200-2609-4518-9d8d-51fc667378fc",
   "metadata": {},
   "outputs": [
    {
     "data": {
      "text/plain": [
       "32"
      ]
     },
     "execution_count": 46,
     "metadata": {},
     "output_type": "execute_result"
    }
   ],
   "source": [
    "2**5"
   ]
  },
  {
   "cell_type": "markdown",
   "id": "4d4d83ed-393b-475a-9e2e-7b8ac0d5369f",
   "metadata": {},
   "source": [
    "**Pregunta 1.**\n",
    "\n",
    "Escribe un programa en Python que calcule el costo total de los tiquetes de autobús durante un año, dada la tarifa diaria del autobús y el número de días que se utiliza el transporte cada semana. El programa debe ser parametrizable, es decir, el usuario debe poder ingresar la tarifa diaria y el número de días de uso por semana, además de poder ajustar la cantidad de semanas que se consideran en un año.\n",
    "\n",
    "```python\n",
    "tarifa_diaria = 3200\n",
    "\n",
    "dias_por_semana = 5\n",
    "\n",
    "semanas_por_ano = 52\n",
    "```"
   ]
  },
  {
   "cell_type": "code",
   "execution_count": 48,
   "id": "1c26b611-e7e9-43d3-9def-3fc7a9b4708f",
   "metadata": {},
   "outputs": [
    {
     "data": {
      "text/plain": [
       "'Escriba su solucion en esta celda....'"
      ]
     },
     "execution_count": 48,
     "metadata": {},
     "output_type": "execute_result"
    }
   ],
   "source": [
    "\"Escriba su solucion en esta celda....\""
   ]
  },
  {
   "cell_type": "markdown",
   "id": "ec149202-9333-4a3a-88fa-f1b1f947a7c6",
   "metadata": {},
   "source": [
    "**Pregunta 2.**\n",
    "Supongamos que tenemos una bacteria que se divide cada hora, de modo que cada bacteria se convierte en dos. Queremos observar cómo crece la población de bacterias con el tiempo.\n",
    "\n",
    "En un modelo simplificado el crecimiento de bacterias puede ser modelado con la siguiente ecuación:\n",
    "\n",
    "\n",
    "\\begin{equation}\n",
    "P=P_0r^t\n",
    "\\end{equation}\n",
    "\n",
    "**Nota** = En ambientes naturales o cultivos cerrados, este modelo solo es válido por un período limitado. Eventualmente, factores como la disminución de nutrientes, acumulación de desechos y limitaciones de espacio harán que el crecimiento se desacelere y finalmente se estabilice, lo cual requiere modelos más complejos como el modelo logístico para una descripción más precisa.\n",
    "\n",
    "\n",
    "Construya un programa que permita determinar la poblacion de bacterias en la hora 0, en la hora 1 , en la hora 3, en la hora 4. Además determine el factor total de crecimiento acumulado durante ese intervalo de tiempo, emplee la siguiente ecuación:\n",
    "\n",
    "\n",
    "\\begin{equation}\n",
    "c = P_{t+i}/P_{i}\n",
    "\\end{equation}\n",
    "\n",
    "- ¿Cuál es el aumento de la población entre la hora 4 y la hora 3?\n",
    "\n",
    "\n",
    "- ¿Cuál es el aumento de la población entre la hora 3 y la hora 2?"
   ]
  },
  {
   "cell_type": "markdown",
   "id": "154def1a-e447-41c3-97fe-a972cb512e39",
   "metadata": {},
   "source": [
    "# Tablas\n",
    "\n",
    "Funciones básicas\n",
    "\n",
    "| **Método**                                  | **Descripción**                                                                 |\n",
    "|---------------------------------------------|---------------------------------------------------------------------------------|\n",
    "| `Table.read_table(file_path)`               | Lee un archivo CSV y devuelve una tabla.                                        |\n",
    "| `table.show(n)`                             | Muestra las primeras `n` filas de la tabla.                                     |\n",
    "| `table.with_columns(column1, values1, ...)` | Agrega una o más columnas nuevas a la tabla.                                    |\n",
    "| `table.column(column_name)`                 | Devuelve los valores de una columna como un array de Numpy.                     |\n",
    "| `table.num_columns()`                       | Devuelve el número de columnas en la tabla.                                     |\n",
    "| `table.num_rows()`                          | Devuelve el número de filas en la tabla.                                        |\n",
    "| `table.select(column_name1, column_name2)`  | Selecciona y devuelve una tabla con solo las columnas indicadas.                |\n",
    "| `table.drop(column_name1, column_name2)`    | Elimina las columnas especificadas y devuelve una tabla nueva.                  |\n",
    "| `table.where(column_name, predicate)`       | Filtra las filas según una condición en una columna específica.                 |\n",
    "| `table.sort(column_name, descending=False)` | Ordena la tabla por una columna en orden ascendente o descendente.              |\n",
    "\n",
    "\n",
    "<!-- \n",
    "| **Método**                                  | **Descripción**                                                                 |\n",
    "|---------------------------------------------|---------------------------------------------------------------------------------|\n",
    "| `table.group(column_name, func=sum)`        | Agrupa las filas por una columna, aplicando una función (por defecto, suma).    |\n",
    "| `table.join(column_name_in_self, ...)`      | Une dos tablas en base a una columna común.                                     |\n",
    "| `table.apply(function, column_name)`        | Aplica una función a todos los valores de una columna.                          |\n",
    "| `table.pivot(column_name_for_values, ...)`  | Crea una tabla pivote en base a dos columnas.                                   |\n",
    "| `table.scatter(column_for_x, column_for_y)` | Crea un gráfico de dispersión entre dos columnas.                               |\n",
    "| `table.barh(column_for_categories, ...)`    | Crea un gráfico de barras horizontal.                                           |\n",
    "| `table.hist(column_name)`                   | Crea un histograma de una columna.                                              |\n",
    "| `table.plot(column_for_x, column_for_y)`    | Crea un gráfico de líneas entre dos columnas.                                   |\n",
    " -->"
   ]
  },
  {
   "cell_type": "code",
   "execution_count": 180,
   "id": "b7778edf-c3f5-4eab-bd9c-6483fbd3dbb3",
   "metadata": {},
   "outputs": [],
   "source": [
    "from datascience import *\n",
    "\n",
    "tabla_frutas = Table().with_columns(\n",
    "    'Fruta', ['Manzana', 'Banana', 'Naranja', 'Fresa', 'Uva', 'Piña', 'Mango', 'Kiwi', 'Melón', 'Cereza'],\n",
    "    'Color', ['Rojo', 'Amarillo', 'Naranja', 'Rojo', 'Morado', 'Amarillo', 'Naranja', 'Verde', 'Verde', 'Rojo'],\n",
    "    'Sabor', ['Dulce y ligeramente ácido', 'Dulce', 'Ácido y jugoso', 'Dulce y ligeramente ácido', 'Dulce', 'Ácido y tropical', 'Dulce y tropical', 'Ácido y fresco', 'Dulce y suave', 'Dulce'],\n",
    "    \"Precio\",[2000, 400, 1000, 600 , 400, 6000, 3000, 3000, 7000, 3000]\n",
    ")"
   ]
  },
  {
   "cell_type": "code",
   "execution_count": 181,
   "id": "5cf941e5-692a-4b38-88f6-cacc7b8667c8",
   "metadata": {},
   "outputs": [
    {
     "data": {
      "text/html": [
       "<table border=\"1\" class=\"dataframe\">\n",
       "    <thead>\n",
       "        <tr>\n",
       "            <th>Fruta</th> <th>Color</th> <th>Sabor</th> <th>Precio</th>\n",
       "        </tr>\n",
       "    </thead>\n",
       "    <tbody>\n",
       "        <tr>\n",
       "            <td>Manzana</td> <td>Rojo    </td> <td>Dulce y ligeramente ácido</td> <td>2000  </td>\n",
       "        </tr>\n",
       "        <tr>\n",
       "            <td>Banana </td> <td>Amarillo</td> <td>Dulce                    </td> <td>400   </td>\n",
       "        </tr>\n",
       "        <tr>\n",
       "            <td>Naranja</td> <td>Naranja </td> <td>Ácido y jugoso           </td> <td>1000  </td>\n",
       "        </tr>\n",
       "        <tr>\n",
       "            <td>Fresa  </td> <td>Rojo    </td> <td>Dulce y ligeramente ácido</td> <td>600   </td>\n",
       "        </tr>\n",
       "        <tr>\n",
       "            <td>Uva    </td> <td>Morado  </td> <td>Dulce                    </td> <td>400   </td>\n",
       "        </tr>\n",
       "        <tr>\n",
       "            <td>Piña   </td> <td>Amarillo</td> <td>Ácido y tropical         </td> <td>6000  </td>\n",
       "        </tr>\n",
       "        <tr>\n",
       "            <td>Mango  </td> <td>Naranja </td> <td>Dulce y tropical         </td> <td>3000  </td>\n",
       "        </tr>\n",
       "        <tr>\n",
       "            <td>Kiwi   </td> <td>Verde   </td> <td>Ácido y fresco           </td> <td>3000  </td>\n",
       "        </tr>\n",
       "        <tr>\n",
       "            <td>Melón  </td> <td>Verde   </td> <td>Dulce y suave            </td> <td>7000  </td>\n",
       "        </tr>\n",
       "        <tr>\n",
       "            <td>Cereza </td> <td>Rojo    </td> <td>Dulce                    </td> <td>3000  </td>\n",
       "        </tr>\n",
       "    </tbody>\n",
       "</table>"
      ],
      "text/plain": [
       "Fruta   | Color    | Sabor                     | Precio\n",
       "Manzana | Rojo     | Dulce y ligeramente ácido | 2000\n",
       "Banana  | Amarillo | Dulce                     | 400\n",
       "Naranja | Naranja  | Ácido y jugoso            | 1000\n",
       "Fresa   | Rojo     | Dulce y ligeramente ácido | 600\n",
       "Uva     | Morado   | Dulce                     | 400\n",
       "Piña    | Amarillo | Ácido y tropical          | 6000\n",
       "Mango   | Naranja  | Dulce y tropical          | 3000\n",
       "Kiwi    | Verde    | Ácido y fresco            | 3000\n",
       "Melón   | Verde    | Dulce y suave             | 7000\n",
       "Cereza  | Rojo     | Dulce                     | 3000"
      ]
     },
     "execution_count": 181,
     "metadata": {},
     "output_type": "execute_result"
    }
   ],
   "source": [
    "tabla_frutas"
   ]
  },
  {
   "cell_type": "code",
   "execution_count": 182,
   "id": "199fb609-3213-4dda-8e57-645d08152b5e",
   "metadata": {},
   "outputs": [
    {
     "data": {
      "text/html": [
       "<table border=\"1\" class=\"dataframe\">\n",
       "    <thead>\n",
       "        <tr>\n",
       "            <th>Fruta</th> <th>Color</th> <th>Sabor</th> <th>Precio</th>\n",
       "        </tr>\n",
       "    </thead>\n",
       "    <tbody>\n",
       "        <tr>\n",
       "            <td>Manzana</td> <td>Rojo    </td> <td>Dulce y ligeramente ácido</td> <td>2000  </td>\n",
       "        </tr>\n",
       "        <tr>\n",
       "            <td>Banana </td> <td>Amarillo</td> <td>Dulce                    </td> <td>400   </td>\n",
       "        </tr>\n",
       "        <tr>\n",
       "            <td>Naranja</td> <td>Naranja </td> <td>Ácido y jugoso           </td> <td>1000  </td>\n",
       "        </tr>\n",
       "    </tbody>\n",
       "</table>\n",
       "<p>... (7 rows omitted)</p>"
      ],
      "text/plain": [
       "<IPython.core.display.HTML object>"
      ]
     },
     "metadata": {},
     "output_type": "display_data"
    }
   ],
   "source": [
    "tabla_frutas.show(3)"
   ]
  },
  {
   "cell_type": "code",
   "execution_count": 183,
   "id": "4f803f0d-cd20-48f9-b2fc-9e11b85b4d0b",
   "metadata": {},
   "outputs": [
    {
     "data": {
      "text/html": [
       "<table border=\"1\" class=\"dataframe\">\n",
       "    <thead>\n",
       "        <tr>\n",
       "            <th>Fruta</th>\n",
       "        </tr>\n",
       "    </thead>\n",
       "    <tbody>\n",
       "        <tr>\n",
       "            <td>Manzana</td>\n",
       "        </tr>\n",
       "        <tr>\n",
       "            <td>Banana </td>\n",
       "        </tr>\n",
       "        <tr>\n",
       "            <td>Naranja</td>\n",
       "        </tr>\n",
       "        <tr>\n",
       "            <td>Fresa  </td>\n",
       "        </tr>\n",
       "        <tr>\n",
       "            <td>Uva    </td>\n",
       "        </tr>\n",
       "        <tr>\n",
       "            <td>Piña   </td>\n",
       "        </tr>\n",
       "        <tr>\n",
       "            <td>Mango  </td>\n",
       "        </tr>\n",
       "        <tr>\n",
       "            <td>Kiwi   </td>\n",
       "        </tr>\n",
       "        <tr>\n",
       "            <td>Melón  </td>\n",
       "        </tr>\n",
       "        <tr>\n",
       "            <td>Cereza </td>\n",
       "        </tr>\n",
       "    </tbody>\n",
       "</table>"
      ],
      "text/plain": [
       "Fruta\n",
       "Manzana\n",
       "Banana\n",
       "Naranja\n",
       "Fresa\n",
       "Uva\n",
       "Piña\n",
       "Mango\n",
       "Kiwi\n",
       "Melón\n",
       "Cereza"
      ]
     },
     "execution_count": 183,
     "metadata": {},
     "output_type": "execute_result"
    }
   ],
   "source": [
    "tabla_frutas.select(\"Fruta\")"
   ]
  },
  {
   "cell_type": "code",
   "execution_count": 184,
   "id": "9dcff149-dbb9-4a63-9708-f372e559ad3f",
   "metadata": {},
   "outputs": [
    {
     "data": {
      "text/html": [
       "<table border=\"1\" class=\"dataframe\">\n",
       "    <thead>\n",
       "        <tr>\n",
       "            <th>Fruta</th> <th>Color</th> <th>Precio</th>\n",
       "        </tr>\n",
       "    </thead>\n",
       "    <tbody>\n",
       "        <tr>\n",
       "            <td>Manzana</td> <td>Rojo    </td> <td>2000  </td>\n",
       "        </tr>\n",
       "        <tr>\n",
       "            <td>Banana </td> <td>Amarillo</td> <td>400   </td>\n",
       "        </tr>\n",
       "        <tr>\n",
       "            <td>Naranja</td> <td>Naranja </td> <td>1000  </td>\n",
       "        </tr>\n",
       "        <tr>\n",
       "            <td>Fresa  </td> <td>Rojo    </td> <td>600   </td>\n",
       "        </tr>\n",
       "        <tr>\n",
       "            <td>Uva    </td> <td>Morado  </td> <td>400   </td>\n",
       "        </tr>\n",
       "        <tr>\n",
       "            <td>Piña   </td> <td>Amarillo</td> <td>6000  </td>\n",
       "        </tr>\n",
       "        <tr>\n",
       "            <td>Mango  </td> <td>Naranja </td> <td>3000  </td>\n",
       "        </tr>\n",
       "        <tr>\n",
       "            <td>Kiwi   </td> <td>Verde   </td> <td>3000  </td>\n",
       "        </tr>\n",
       "        <tr>\n",
       "            <td>Melón  </td> <td>Verde   </td> <td>7000  </td>\n",
       "        </tr>\n",
       "        <tr>\n",
       "            <td>Cereza </td> <td>Rojo    </td> <td>3000  </td>\n",
       "        </tr>\n",
       "    </tbody>\n",
       "</table>"
      ],
      "text/plain": [
       "Fruta   | Color    | Precio\n",
       "Manzana | Rojo     | 2000\n",
       "Banana  | Amarillo | 400\n",
       "Naranja | Naranja  | 1000\n",
       "Fresa   | Rojo     | 600\n",
       "Uva     | Morado   | 400\n",
       "Piña    | Amarillo | 6000\n",
       "Mango   | Naranja  | 3000\n",
       "Kiwi    | Verde    | 3000\n",
       "Melón   | Verde    | 7000\n",
       "Cereza  | Rojo     | 3000"
      ]
     },
     "execution_count": 184,
     "metadata": {},
     "output_type": "execute_result"
    }
   ],
   "source": [
    "tabla_frutas.drop(\"Sabor\")"
   ]
  },
  {
   "cell_type": "code",
   "execution_count": 185,
   "id": "591d8f57-9fd0-43cd-a2b6-4d9ee7089232",
   "metadata": {},
   "outputs": [],
   "source": [
    "frutas_nosabor=tabla_frutas.drop(\"Sabor\")"
   ]
  },
  {
   "cell_type": "code",
   "execution_count": 186,
   "id": "db067c8a-6b31-4a15-94ac-03b2a5243e4f",
   "metadata": {},
   "outputs": [
    {
     "data": {
      "text/html": [
       "<table border=\"1\" class=\"dataframe\">\n",
       "    <thead>\n",
       "        <tr>\n",
       "            <th>Fruta</th> <th>Color</th> <th>Precio</th>\n",
       "        </tr>\n",
       "    </thead>\n",
       "    <tbody>\n",
       "        <tr>\n",
       "            <td>Manzana</td> <td>Rojo    </td> <td>2000  </td>\n",
       "        </tr>\n",
       "        <tr>\n",
       "            <td>Banana </td> <td>Amarillo</td> <td>400   </td>\n",
       "        </tr>\n",
       "        <tr>\n",
       "            <td>Naranja</td> <td>Naranja </td> <td>1000  </td>\n",
       "        </tr>\n",
       "        <tr>\n",
       "            <td>Fresa  </td> <td>Rojo    </td> <td>600   </td>\n",
       "        </tr>\n",
       "        <tr>\n",
       "            <td>Uva    </td> <td>Morado  </td> <td>400   </td>\n",
       "        </tr>\n",
       "        <tr>\n",
       "            <td>Piña   </td> <td>Amarillo</td> <td>6000  </td>\n",
       "        </tr>\n",
       "        <tr>\n",
       "            <td>Mango  </td> <td>Naranja </td> <td>3000  </td>\n",
       "        </tr>\n",
       "        <tr>\n",
       "            <td>Kiwi   </td> <td>Verde   </td> <td>3000  </td>\n",
       "        </tr>\n",
       "        <tr>\n",
       "            <td>Melón  </td> <td>Verde   </td> <td>7000  </td>\n",
       "        </tr>\n",
       "        <tr>\n",
       "            <td>Cereza </td> <td>Rojo    </td> <td>3000  </td>\n",
       "        </tr>\n",
       "    </tbody>\n",
       "</table>"
      ],
      "text/plain": [
       "Fruta   | Color    | Precio\n",
       "Manzana | Rojo     | 2000\n",
       "Banana  | Amarillo | 400\n",
       "Naranja | Naranja  | 1000\n",
       "Fresa   | Rojo     | 600\n",
       "Uva     | Morado   | 400\n",
       "Piña    | Amarillo | 6000\n",
       "Mango   | Naranja  | 3000\n",
       "Kiwi    | Verde    | 3000\n",
       "Melón   | Verde    | 7000\n",
       "Cereza  | Rojo     | 3000"
      ]
     },
     "execution_count": 186,
     "metadata": {},
     "output_type": "execute_result"
    }
   ],
   "source": [
    "frutas_nosabor"
   ]
  },
  {
   "cell_type": "code",
   "execution_count": 187,
   "id": "442f7886-506b-4544-b2b3-8dbc89e5ecf3",
   "metadata": {},
   "outputs": [
    {
     "data": {
      "text/html": [
       "<table border=\"1\" class=\"dataframe\">\n",
       "    <thead>\n",
       "        <tr>\n",
       "            <th>Fruta</th> <th>Color</th> <th>Sabor</th> <th>Precio</th>\n",
       "        </tr>\n",
       "    </thead>\n",
       "    <tbody>\n",
       "        <tr>\n",
       "            <td>Banana </td> <td>Amarillo</td> <td>Dulce                    </td> <td>400   </td>\n",
       "        </tr>\n",
       "        <tr>\n",
       "            <td>Uva    </td> <td>Morado  </td> <td>Dulce                    </td> <td>400   </td>\n",
       "        </tr>\n",
       "        <tr>\n",
       "            <td>Fresa  </td> <td>Rojo    </td> <td>Dulce y ligeramente ácido</td> <td>600   </td>\n",
       "        </tr>\n",
       "        <tr>\n",
       "            <td>Naranja</td> <td>Naranja </td> <td>Ácido y jugoso           </td> <td>1000  </td>\n",
       "        </tr>\n",
       "        <tr>\n",
       "            <td>Manzana</td> <td>Rojo    </td> <td>Dulce y ligeramente ácido</td> <td>2000  </td>\n",
       "        </tr>\n",
       "        <tr>\n",
       "            <td>Mango  </td> <td>Naranja </td> <td>Dulce y tropical         </td> <td>3000  </td>\n",
       "        </tr>\n",
       "        <tr>\n",
       "            <td>Kiwi   </td> <td>Verde   </td> <td>Ácido y fresco           </td> <td>3000  </td>\n",
       "        </tr>\n",
       "        <tr>\n",
       "            <td>Cereza </td> <td>Rojo    </td> <td>Dulce                    </td> <td>3000  </td>\n",
       "        </tr>\n",
       "        <tr>\n",
       "            <td>Piña   </td> <td>Amarillo</td> <td>Ácido y tropical         </td> <td>6000  </td>\n",
       "        </tr>\n",
       "        <tr>\n",
       "            <td>Melón  </td> <td>Verde   </td> <td>Dulce y suave            </td> <td>7000  </td>\n",
       "        </tr>\n",
       "    </tbody>\n",
       "</table>"
      ],
      "text/plain": [
       "Fruta   | Color    | Sabor                     | Precio\n",
       "Banana  | Amarillo | Dulce                     | 400\n",
       "Uva     | Morado   | Dulce                     | 400\n",
       "Fresa   | Rojo     | Dulce y ligeramente ácido | 600\n",
       "Naranja | Naranja  | Ácido y jugoso            | 1000\n",
       "Manzana | Rojo     | Dulce y ligeramente ácido | 2000\n",
       "Mango   | Naranja  | Dulce y tropical          | 3000\n",
       "Kiwi    | Verde    | Ácido y fresco            | 3000\n",
       "Cereza  | Rojo     | Dulce                     | 3000\n",
       "Piña    | Amarillo | Ácido y tropical          | 6000\n",
       "Melón   | Verde    | Dulce y suave             | 7000"
      ]
     },
     "execution_count": 187,
     "metadata": {},
     "output_type": "execute_result"
    }
   ],
   "source": [
    "tabla_frutas.sort(\"Precio\")"
   ]
  },
  {
   "cell_type": "code",
   "execution_count": 188,
   "id": "3139a0ed-1390-46f9-85bb-6c770255537f",
   "metadata": {},
   "outputs": [
    {
     "data": {
      "text/html": [
       "<table border=\"1\" class=\"dataframe\">\n",
       "    <thead>\n",
       "        <tr>\n",
       "            <th>Fruta</th> <th>Color</th> <th>Sabor</th> <th>Precio</th>\n",
       "        </tr>\n",
       "    </thead>\n",
       "    <tbody>\n",
       "        <tr>\n",
       "            <td>Melón  </td> <td>Verde   </td> <td>Dulce y suave            </td> <td>7000  </td>\n",
       "        </tr>\n",
       "        <tr>\n",
       "            <td>Piña   </td> <td>Amarillo</td> <td>Ácido y tropical         </td> <td>6000  </td>\n",
       "        </tr>\n",
       "        <tr>\n",
       "            <td>Mango  </td> <td>Naranja </td> <td>Dulce y tropical         </td> <td>3000  </td>\n",
       "        </tr>\n",
       "        <tr>\n",
       "            <td>Kiwi   </td> <td>Verde   </td> <td>Ácido y fresco           </td> <td>3000  </td>\n",
       "        </tr>\n",
       "        <tr>\n",
       "            <td>Cereza </td> <td>Rojo    </td> <td>Dulce                    </td> <td>3000  </td>\n",
       "        </tr>\n",
       "        <tr>\n",
       "            <td>Manzana</td> <td>Rojo    </td> <td>Dulce y ligeramente ácido</td> <td>2000  </td>\n",
       "        </tr>\n",
       "        <tr>\n",
       "            <td>Naranja</td> <td>Naranja </td> <td>Ácido y jugoso           </td> <td>1000  </td>\n",
       "        </tr>\n",
       "        <tr>\n",
       "            <td>Fresa  </td> <td>Rojo    </td> <td>Dulce y ligeramente ácido</td> <td>600   </td>\n",
       "        </tr>\n",
       "        <tr>\n",
       "            <td>Banana </td> <td>Amarillo</td> <td>Dulce                    </td> <td>400   </td>\n",
       "        </tr>\n",
       "        <tr>\n",
       "            <td>Uva    </td> <td>Morado  </td> <td>Dulce                    </td> <td>400   </td>\n",
       "        </tr>\n",
       "    </tbody>\n",
       "</table>"
      ],
      "text/plain": [
       "Fruta   | Color    | Sabor                     | Precio\n",
       "Melón   | Verde    | Dulce y suave             | 7000\n",
       "Piña    | Amarillo | Ácido y tropical          | 6000\n",
       "Mango   | Naranja  | Dulce y tropical          | 3000\n",
       "Kiwi    | Verde    | Ácido y fresco            | 3000\n",
       "Cereza  | Rojo     | Dulce                     | 3000\n",
       "Manzana | Rojo     | Dulce y ligeramente ácido | 2000\n",
       "Naranja | Naranja  | Ácido y jugoso            | 1000\n",
       "Fresa   | Rojo     | Dulce y ligeramente ácido | 600\n",
       "Banana  | Amarillo | Dulce                     | 400\n",
       "Uva     | Morado   | Dulce                     | 400"
      ]
     },
     "execution_count": 188,
     "metadata": {},
     "output_type": "execute_result"
    }
   ],
   "source": [
    "tabla_frutas.sort(\"Precio\", descending=True)"
   ]
  },
  {
   "cell_type": "code",
   "execution_count": 189,
   "id": "12048fba-e8bd-4875-90d1-7b78cfbb059f",
   "metadata": {},
   "outputs": [
    {
     "data": {
      "text/html": [
       "<table border=\"1\" class=\"dataframe\">\n",
       "    <thead>\n",
       "        <tr>\n",
       "            <th>Fruta</th> <th>Color</th> <th>Sabor</th> <th>Precio</th>\n",
       "        </tr>\n",
       "    </thead>\n",
       "    <tbody>\n",
       "        <tr>\n",
       "            <td>Banana</td> <td>Amarillo</td> <td>Dulce           </td> <td>400   </td>\n",
       "        </tr>\n",
       "        <tr>\n",
       "            <td>Piña  </td> <td>Amarillo</td> <td>Ácido y tropical</td> <td>6000  </td>\n",
       "        </tr>\n",
       "    </tbody>\n",
       "</table>"
      ],
      "text/plain": [
       "Fruta  | Color    | Sabor            | Precio\n",
       "Banana | Amarillo | Dulce            | 400\n",
       "Piña   | Amarillo | Ácido y tropical | 6000"
      ]
     },
     "execution_count": 189,
     "metadata": {},
     "output_type": "execute_result"
    }
   ],
   "source": [
    "tabla_frutas.where(\"Color\", \"Amarillo\")"
   ]
  },
  {
   "cell_type": "code",
   "execution_count": 190,
   "id": "8df5e6f4-d1de-4dab-9d84-c86eeaf9e62c",
   "metadata": {},
   "outputs": [
    {
     "ename": "AttributeError",
     "evalue": "'Table' object has no attribute 'tail'",
     "output_type": "error",
     "traceback": [
      "\u001b[0;31m---------------------------------------------------------------------------\u001b[0m",
      "\u001b[0;31mAttributeError\u001b[0m                            Traceback (most recent call last)",
      "Cell \u001b[0;32mIn[190], line 1\u001b[0m\n\u001b[0;32m----> 1\u001b[0m \u001b[43mtabla_frutas\u001b[49m\u001b[38;5;241;43m.\u001b[39;49m\u001b[43mtail\u001b[49m(\u001b[38;5;241m2\u001b[39m)\n",
      "\u001b[0;31mAttributeError\u001b[0m: 'Table' object has no attribute 'tail'"
     ]
    }
   ],
   "source": [
    "tabla_frutas.tail(2)"
   ]
  },
  {
   "cell_type": "markdown",
   "id": "65a7b80a-db33-485e-a4b4-30b8ae25b4cf",
   "metadata": {},
   "source": [
    "# Más manejo de tablas\n",
    "La siguiente tabla muestra los tamaños de animales de diferentes especies  tomadas y adaptada de [kaggle](https://www.kaggle.com/datasets/iamsouravbanerjee/animal-information-dataset/data)"
   ]
  },
  {
   "cell_type": "code",
   "execution_count": 130,
   "id": "5dd6be79-d5c9-451b-b486-e67a006bd788",
   "metadata": {},
   "outputs": [],
   "source": [
    "tabla_animales = Table.read_table('Animales.csv')\n",
    "tabla_animales = tabla_animales.drop(\"Unnamed: 0\")"
   ]
  },
  {
   "cell_type": "code",
   "execution_count": 133,
   "id": "f1db1783-6798-458f-bc2a-ec01039814f1",
   "metadata": {},
   "outputs": [
    {
     "data": {
      "text/html": [
       "<table border=\"1\" class=\"dataframe\">\n",
       "    <thead>\n",
       "        <tr>\n",
       "            <th>Animal</th> <th>Altura (cm)</th> <th>Peso (kg)</th> <th>Velocidad Promedio (km/h)</th>\n",
       "        </tr>\n",
       "    </thead>\n",
       "    <tbody>\n",
       "        <tr>\n",
       "            <td>Cerdo Hormiguero          </td> <td>117.5      </td> <td>52.5     </td> <td>40                       </td>\n",
       "        </tr>\n",
       "        <tr>\n",
       "            <td>Lobo Terrícola            </td> <td>45         </td> <td>11       </td> <td>27                       </td>\n",
       "        </tr>\n",
       "        <tr>\n",
       "            <td>Elefante Africano         </td> <td>290        </td> <td>4350     </td> <td>25                       </td>\n",
       "        </tr>\n",
       "        <tr>\n",
       "            <td>León Africano             </td> <td>95         </td> <td>185      </td> <td>58                       </td>\n",
       "        </tr>\n",
       "        <tr>\n",
       "            <td>Perro Salvaje Africano    </td> <td>77.5       </td> <td>27       </td> <td>56                       </td>\n",
       "        </tr>\n",
       "        <tr>\n",
       "            <td>Íbice Alpino              </td> <td>84         </td> <td>69.5     </td> <td>60                       </td>\n",
       "        </tr>\n",
       "        <tr>\n",
       "            <td>Rana de la Selva Amazónica</td> <td>7.5        </td> <td>0        </td> <td>0.55                     </td>\n",
       "        </tr>\n",
       "        <tr>\n",
       "            <td>Bisonte Americano         </td> <td>169        </td> <td>nan      </td> <td>48                       </td>\n",
       "        </tr>\n",
       "        <tr>\n",
       "            <td>Oso Hormiguero            </td> <td>71.5       </td> <td>31.5     </td> <td>24                       </td>\n",
       "        </tr>\n",
       "        <tr>\n",
       "            <td>Caballo Árabe             </td> <td>150        </td> <td>690      </td> <td>65                       </td>\n",
       "        </tr>\n",
       "    </tbody>\n",
       "</table>\n",
       "<p>... (168 rows omitted)</p>"
      ],
      "text/plain": [
       "<IPython.core.display.HTML object>"
      ]
     },
     "metadata": {},
     "output_type": "display_data"
    }
   ],
   "source": [
    "tabla_animales.show(10)"
   ]
  },
  {
   "cell_type": "code",
   "execution_count": 136,
   "id": "60229675-5274-4df8-acdc-8ac5554c487a",
   "metadata": {},
   "outputs": [
    {
     "data": {
      "text/html": [
       "<table border=\"1\" class=\"dataframe\">\n",
       "    <thead>\n",
       "        <tr>\n",
       "            <th>Animal</th> <th>Altura (cm)</th>\n",
       "        </tr>\n",
       "    </thead>\n",
       "    <tbody>\n",
       "        <tr>\n",
       "            <td>Cerdo Hormiguero          </td> <td>117.5      </td>\n",
       "        </tr>\n",
       "        <tr>\n",
       "            <td>Lobo Terrícola            </td> <td>45         </td>\n",
       "        </tr>\n",
       "        <tr>\n",
       "            <td>Elefante Africano         </td> <td>290        </td>\n",
       "        </tr>\n",
       "        <tr>\n",
       "            <td>León Africano             </td> <td>95         </td>\n",
       "        </tr>\n",
       "        <tr>\n",
       "            <td>Perro Salvaje Africano    </td> <td>77.5       </td>\n",
       "        </tr>\n",
       "        <tr>\n",
       "            <td>Íbice Alpino              </td> <td>84         </td>\n",
       "        </tr>\n",
       "        <tr>\n",
       "            <td>Rana de la Selva Amazónica</td> <td>7.5        </td>\n",
       "        </tr>\n",
       "        <tr>\n",
       "            <td>Bisonte Americano         </td> <td>169        </td>\n",
       "        </tr>\n",
       "        <tr>\n",
       "            <td>Oso Hormiguero            </td> <td>71.5       </td>\n",
       "        </tr>\n",
       "        <tr>\n",
       "            <td>Caballo Árabe             </td> <td>150        </td>\n",
       "        </tr>\n",
       "    </tbody>\n",
       "</table>\n",
       "<p>... (168 rows omitted)</p>"
      ],
      "text/plain": [
       "Animal                     | Altura (cm)\n",
       "Cerdo Hormiguero           | 117.5\n",
       "Lobo Terrícola             | 45\n",
       "Elefante Africano          | 290\n",
       "León Africano              | 95\n",
       "Perro Salvaje Africano     | 77.5\n",
       "Íbice Alpino               | 84\n",
       "Rana de la Selva Amazónica | 7.5\n",
       "Bisonte Americano          | 169\n",
       "Oso Hormiguero             | 71.5\n",
       "Caballo Árabe              | 150\n",
       "... (168 rows omitted)"
      ]
     },
     "execution_count": 136,
     "metadata": {},
     "output_type": "execute_result"
    }
   ],
   "source": [
    "tabla_animales.select(\"Animal\",\"Altura (cm)\")"
   ]
  },
  {
   "cell_type": "code",
   "execution_count": 137,
   "id": "9449c690-aad9-4db7-830a-19dd5c105e74",
   "metadata": {},
   "outputs": [
    {
     "data": {
      "text/html": [
       "<table border=\"1\" class=\"dataframe\">\n",
       "    <thead>\n",
       "        <tr>\n",
       "            <th>Animal</th> <th>Altura (cm)</th> <th>Peso (kg)</th> <th>Velocidad Promedio (km/h)</th>\n",
       "        </tr>\n",
       "    </thead>\n",
       "    <tbody>\n",
       "        <tr>\n",
       "            <td>Rana Venenosa Dorada      </td> <td>4.5        </td> <td>2        </td> <td>0.3                      </td>\n",
       "        </tr>\n",
       "        <tr>\n",
       "            <td>Rana de Cristal           </td> <td>4.95       </td> <td>0        </td> <td>0.8                      </td>\n",
       "        </tr>\n",
       "        <tr>\n",
       "            <td>Pulpo Gigante del Pacífico</td> <td>5          </td> <td>25       </td> <td>24                       </td>\n",
       "        </tr>\n",
       "        <tr>\n",
       "            <td>Rana de la Selva Amazónica</td> <td>7.5        </td> <td>0        </td> <td>0.55                     </td>\n",
       "        </tr>\n",
       "        <tr>\n",
       "            <td>Pez Payaso                </td> <td>8.5        </td> <td>175      </td> <td>8                        </td>\n",
       "        </tr>\n",
       "        <tr>\n",
       "            <td>Rata Topo Desnuda         </td> <td>9          </td> <td>80       </td> <td>0.055                    </td>\n",
       "        </tr>\n",
       "        <tr>\n",
       "            <td>Murciélago Vampiro        </td> <td>9          </td> <td>0        </td> <td>32                       </td>\n",
       "        </tr>\n",
       "        <tr>\n",
       "            <td>Colibrí                   </td> <td>10.25      </td> <td>11       </td> <td>60                       </td>\n",
       "        </tr>\n",
       "        <tr>\n",
       "            <td>Rata Canguro              </td> <td>11         </td> <td>0.0925   </td> <td>16                       </td>\n",
       "        </tr>\n",
       "        <tr>\n",
       "            <td>Ornitorrinco              </td> <td>12.5       </td> <td>1.55     </td> <td>5                        </td>\n",
       "        </tr>\n",
       "    </tbody>\n",
       "</table>\n",
       "<p>... (168 rows omitted)</p>"
      ],
      "text/plain": [
       "Animal                     | Altura (cm) | Peso (kg) | Velocidad Promedio (km/h)\n",
       "Rana Venenosa Dorada       | 4.5         | 2         | 0.3\n",
       "Rana de Cristal            | 4.95        | 0         | 0.8\n",
       "Pulpo Gigante del Pacífico | 5           | 25        | 24\n",
       "Rana de la Selva Amazónica | 7.5         | 0         | 0.55\n",
       "Pez Payaso                 | 8.5         | 175       | 8\n",
       "Rata Topo Desnuda          | 9           | 80        | 0.055\n",
       "Murciélago Vampiro         | 9           | 0         | 32\n",
       "Colibrí                    | 10.25       | 11        | 60\n",
       "Rata Canguro               | 11          | 0.0925    | 16\n",
       "Ornitorrinco               | 12.5        | 1.55      | 5\n",
       "... (168 rows omitted)"
      ]
     },
     "execution_count": 137,
     "metadata": {},
     "output_type": "execute_result"
    }
   ],
   "source": [
    "tabla_animales.sort(\"Altura (cm)\")"
   ]
  },
  {
   "cell_type": "code",
   "execution_count": 138,
   "id": "1c2bd99b-23ad-4309-a731-d28592e8d9f3",
   "metadata": {},
   "outputs": [
    {
     "data": {
      "text/html": [
       "<table border=\"1\" class=\"dataframe\">\n",
       "    <thead>\n",
       "        <tr>\n",
       "            <th>Animal</th> <th>Altura (cm)</th> <th>Peso (kg)</th> <th>Velocidad Promedio (km/h)</th>\n",
       "        </tr>\n",
       "    </thead>\n",
       "    <tbody>\n",
       "        <tr>\n",
       "            <td>Morsa             </td> <td>3200       </td> <td>1200     </td> <td>40                       </td>\n",
       "        </tr>\n",
       "        <tr>\n",
       "            <td>Cachalote         </td> <td>2056       </td> <td>57000    </td> <td>60                       </td>\n",
       "        </tr>\n",
       "        <tr>\n",
       "            <td>Rinoceronte Blanco</td> <td>1850       </td> <td>2150     </td> <td>45                       </td>\n",
       "        </tr>\n",
       "        <tr>\n",
       "            <td>Tiburón Ballena   </td> <td>1800       </td> <td>1500     </td> <td>70                       </td>\n",
       "        </tr>\n",
       "        <tr>\n",
       "            <td>Ballena Jorobada  </td> <td>1700       </td> <td>30000    </td> <td>25.5                     </td>\n",
       "        </tr>\n",
       "        <tr>\n",
       "            <td>Titanoboa         </td> <td>1440       </td> <td>24950    </td> <td>27                       </td>\n",
       "        </tr>\n",
       "        <tr>\n",
       "            <td>Tiburón Peregrino </td> <td>1100       </td> <td>550      </td> <td>21                       </td>\n",
       "        </tr>\n",
       "        <tr>\n",
       "            <td>Tiburón Blanco    </td> <td>670        </td> <td>2268     </td> <td>56                       </td>\n",
       "        </tr>\n",
       "        <tr>\n",
       "            <td>Tiburón Blanco    </td> <td>610        </td> <td>2268     </td> <td>56                       </td>\n",
       "        </tr>\n",
       "        <tr>\n",
       "            <td>Gavial            </td> <td>600        </td> <td>1500     </td> <td>32                       </td>\n",
       "        </tr>\n",
       "    </tbody>\n",
       "</table>\n",
       "<p>... (168 rows omitted)</p>"
      ],
      "text/plain": [
       "Animal             | Altura (cm) | Peso (kg) | Velocidad Promedio (km/h)\n",
       "Morsa              | 3200        | 1200      | 40\n",
       "Cachalote          | 2056        | 57000     | 60\n",
       "Rinoceronte Blanco | 1850        | 2150      | 45\n",
       "Tiburón Ballena    | 1800        | 1500      | 70\n",
       "Ballena Jorobada   | 1700        | 30000     | 25.5\n",
       "Titanoboa          | 1440        | 24950     | 27\n",
       "Tiburón Peregrino  | 1100        | 550       | 21\n",
       "Tiburón Blanco     | 670         | 2268      | 56\n",
       "Tiburón Blanco     | 610         | 2268      | 56\n",
       "Gavial             | 600         | 1500      | 32\n",
       "... (168 rows omitted)"
      ]
     },
     "execution_count": 138,
     "metadata": {},
     "output_type": "execute_result"
    }
   ],
   "source": [
    "tabla_animales.sort(\"Altura (cm)\", descending=True)"
   ]
  },
  {
   "cell_type": "code",
   "execution_count": 153,
   "id": "128b1528-7bc4-4b14-8178-b7daeb6c4a3d",
   "metadata": {},
   "outputs": [
    {
     "data": {
      "text/html": [
       "<table border=\"1\" class=\"dataframe\">\n",
       "    <thead>\n",
       "        <tr>\n",
       "            <th>Animal</th> <th>Altura (cm)</th> <th>Peso (kg)</th> <th>Velocidad Promedio (km/h)</th>\n",
       "        </tr>\n",
       "    </thead>\n",
       "    <tbody>\n",
       "        <tr>\n",
       "            <td>Cerdo Hormiguero            </td> <td>117.5      </td> <td>52.5     </td> <td>40                       </td>\n",
       "        </tr>\n",
       "        <tr>\n",
       "            <td>Lobo Terrícola              </td> <td>45         </td> <td>11       </td> <td>27                       </td>\n",
       "        </tr>\n",
       "        <tr>\n",
       "            <td>Elefante Africano           </td> <td>290        </td> <td>4350     </td> <td>25                       </td>\n",
       "        </tr>\n",
       "        <tr>\n",
       "            <td>León Africano               </td> <td>95         </td> <td>185      </td> <td>58                       </td>\n",
       "        </tr>\n",
       "        <tr>\n",
       "            <td>Perro Salvaje Africano      </td> <td>77.5       </td> <td>27       </td> <td>56                       </td>\n",
       "        </tr>\n",
       "        <tr>\n",
       "            <td>Íbice Alpino                </td> <td>84         </td> <td>69.5     </td> <td>60                       </td>\n",
       "        </tr>\n",
       "        <tr>\n",
       "            <td>Rana de la Selva Amazónica  </td> <td>7.5        </td> <td>0        </td> <td>0.55                     </td>\n",
       "        </tr>\n",
       "        <tr>\n",
       "            <td>Bisonte Americano           </td> <td>169        </td> <td>nan      </td> <td>48                       </td>\n",
       "        </tr>\n",
       "        <tr>\n",
       "            <td>Oso Hormiguero              </td> <td>71.5       </td> <td>31.5     </td> <td>24                       </td>\n",
       "        </tr>\n",
       "        <tr>\n",
       "            <td>Caballo Árabe               </td> <td>150        </td> <td>690      </td> <td>65                       </td>\n",
       "        </tr>\n",
       "        <tr>\n",
       "            <td>Órix Árabe                  </td> <td>80         </td> <td>77.5     </td> <td>55                       </td>\n",
       "        </tr>\n",
       "        <tr>\n",
       "            <td>Zorro Ártico                </td> <td>27.5       </td> <td>5.75     </td> <td>60                       </td>\n",
       "        </tr>\n",
       "        <tr>\n",
       "            <td>Arowana                     </td> <td>120        </td> <td>6        </td> <td>24                       </td>\n",
       "        </tr>\n",
       "        <tr>\n",
       "            <td>Elefante Asiático           </td> <td>250        </td> <td>3500     </td> <td>40                       </td>\n",
       "        </tr>\n",
       "        <tr>\n",
       "            <td>Frailecillo Atlántico       </td> <td>27.5       </td> <td>560      </td> <td>40                       </td>\n",
       "        </tr>\n",
       "        <tr>\n",
       "            <td>Delfín Moteado del Atlántico</td> <td>225        </td> <td>130      </td> <td>52                       </td>\n",
       "        </tr>\n",
       "        <tr>\n",
       "            <td>Foca de Pelo Australiana    </td> <td>136        </td> <td>29       </td> <td>32                       </td>\n",
       "        </tr>\n",
       "        <tr>\n",
       "            <td>Ajolote                     </td> <td>30         </td> <td>300      </td> <td>0.8                      </td>\n",
       "        </tr>\n",
       "        <tr>\n",
       "            <td>Aye-Aye                     </td> <td>36         </td> <td>2.45     </td> <td>32                       </td>\n",
       "        </tr>\n",
       "        <tr>\n",
       "            <td>Tapir de Baird              </td> <td>91.5       </td> <td>275      </td> <td>48                       </td>\n",
       "        </tr>\n",
       "    </tbody>\n",
       "</table>\n",
       "<p>... (158 rows omitted)</p>"
      ],
      "text/plain": [
       "<IPython.core.display.HTML object>"
      ]
     },
     "metadata": {},
     "output_type": "display_data"
    }
   ],
   "source": [
    "tabla_animales.show(20)"
   ]
  },
  {
   "cell_type": "code",
   "execution_count": 154,
   "id": "68e258a6-15cf-4826-8363-4eda7c705790",
   "metadata": {},
   "outputs": [
    {
     "data": {
      "text/html": [
       "<table border=\"1\" class=\"dataframe\">\n",
       "    <thead>\n",
       "        <tr>\n",
       "            <th>Animal</th> <th>Altura (cm)</th> <th>Peso (kg)</th> <th>Velocidad Promedio (km/h)</th>\n",
       "        </tr>\n",
       "    </thead>\n",
       "    <tbody>\n",
       "    </tbody>\n",
       "</table>"
      ],
      "text/plain": [
       "Animal | Altura (cm) | Peso (kg) | Velocidad Promedio (km/h)"
      ]
     },
     "execution_count": 154,
     "metadata": {},
     "output_type": "execute_result"
    }
   ],
   "source": [
    "tabla_animales.where(\"Animal\", \"Oso\")"
   ]
  },
  {
   "cell_type": "code",
   "execution_count": null,
   "id": "a13e5d26-2313-498c-8f8d-30112c1e3063",
   "metadata": {},
   "outputs": [],
   "source": []
  }
 ],
 "metadata": {
  "kernelspec": {
   "display_name": "Python 3 (ipykernel)",
   "language": "python",
   "name": "python3"
  },
  "language_info": {
   "codemirror_mode": {
    "name": "ipython",
    "version": 3
   },
   "file_extension": ".py",
   "mimetype": "text/x-python",
   "name": "python",
   "nbconvert_exporter": "python",
   "pygments_lexer": "ipython3",
   "version": "3.10.14"
  }
 },
 "nbformat": 4,
 "nbformat_minor": 5
}
