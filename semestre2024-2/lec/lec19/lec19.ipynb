{
 "cells": [
  {
   "cell_type": "code",
   "execution_count": 241,
   "id": "464769e6-b269-43fa-8b67-317ce3751d20",
   "metadata": {},
   "outputs": [],
   "source": [
    "from datascience import *\n",
    "import numpy as np\n",
    "import matplotlib.pyplot as plots\n",
    "plots.style.use('fivethirtyeight')\n",
    "%matplotlib inline"
   ]
  },
  {
   "cell_type": "code",
   "execution_count": 242,
   "id": "dacd50c4-f299-4de5-a68c-ec479300125f",
   "metadata": {},
   "outputs": [
    {
     "data": {
      "text/html": [
       "<table border=\"1\" class=\"dataframe\">\n",
       "    <thead>\n",
       "        <tr>\n",
       "            <th>Birth Weight</th> <th>Gestational Days</th> <th>Maternal Age</th> <th>Maternal Height</th> <th>Maternal Pregnancy Weight</th> <th>Maternal Smoker</th>\n",
       "        </tr>\n",
       "    </thead>\n",
       "    <tbody>\n",
       "        <tr>\n",
       "            <td>120         </td> <td>284             </td> <td>27          </td> <td>62             </td> <td>100                      </td> <td>False          </td>\n",
       "        </tr>\n",
       "        <tr>\n",
       "            <td>113         </td> <td>282             </td> <td>33          </td> <td>64             </td> <td>135                      </td> <td>False          </td>\n",
       "        </tr>\n",
       "        <tr>\n",
       "            <td>128         </td> <td>279             </td> <td>28          </td> <td>64             </td> <td>115                      </td> <td>True           </td>\n",
       "        </tr>\n",
       "        <tr>\n",
       "            <td>108         </td> <td>282             </td> <td>23          </td> <td>67             </td> <td>125                      </td> <td>True           </td>\n",
       "        </tr>\n",
       "        <tr>\n",
       "            <td>136         </td> <td>286             </td> <td>25          </td> <td>62             </td> <td>93                       </td> <td>False          </td>\n",
       "        </tr>\n",
       "        <tr>\n",
       "            <td>138         </td> <td>244             </td> <td>33          </td> <td>62             </td> <td>178                      </td> <td>False          </td>\n",
       "        </tr>\n",
       "        <tr>\n",
       "            <td>132         </td> <td>245             </td> <td>23          </td> <td>65             </td> <td>140                      </td> <td>False          </td>\n",
       "        </tr>\n",
       "        <tr>\n",
       "            <td>120         </td> <td>289             </td> <td>25          </td> <td>62             </td> <td>125                      </td> <td>False          </td>\n",
       "        </tr>\n",
       "        <tr>\n",
       "            <td>143         </td> <td>299             </td> <td>30          </td> <td>66             </td> <td>136                      </td> <td>True           </td>\n",
       "        </tr>\n",
       "        <tr>\n",
       "            <td>140         </td> <td>351             </td> <td>27          </td> <td>68             </td> <td>120                      </td> <td>False          </td>\n",
       "        </tr>\n",
       "    </tbody>\n",
       "</table>\n",
       "<p>... (1164 rows omitted)</p>"
      ],
      "text/plain": [
       "Birth Weight | Gestational Days | Maternal Age | Maternal Height | Maternal Pregnancy Weight | Maternal Smoker\n",
       "120          | 284              | 27           | 62              | 100                       | False\n",
       "113          | 282              | 33           | 64              | 135                       | False\n",
       "128          | 279              | 28           | 64              | 115                       | True\n",
       "108          | 282              | 23           | 67              | 125                       | True\n",
       "136          | 286              | 25           | 62              | 93                        | False\n",
       "138          | 244              | 33           | 62              | 178                       | False\n",
       "132          | 245              | 23           | 65              | 140                       | False\n",
       "120          | 289              | 25           | 62              | 125                       | False\n",
       "143          | 299              | 30           | 66              | 136                       | True\n",
       "140          | 351              | 27           | 68              | 120                       | False\n",
       "... (1164 rows omitted)"
      ]
     },
     "execution_count": 242,
     "metadata": {},
     "output_type": "execute_result"
    }
   ],
   "source": [
    "birth1 = Table.read_table(\"baby.csv\")\n",
    "birth1"
   ]
  },
  {
   "cell_type": "markdown",
   "id": "1c2a7d97-3283-488d-b8ed-ef75163bf406",
   "metadata": {},
   "source": [
    "The table births contains the following variables for 1,174 mother-baby pairs: the baby’s birth weight in ounces, the number of gestational days, the mother’s age in completed years, the mother’s height in inches, pregnancy weight in pounds, and whether or not the mother smoked during pregnancy."
   ]
  },
  {
   "cell_type": "markdown",
   "id": "c92108a5-af2e-455b-b35e-b9f3c8f0769c",
   "metadata": {},
   "source": [
    "Recordando, ¿cómo pasamos al sistema internacional?"
   ]
  },
  {
   "cell_type": "code",
   "execution_count": 243,
   "id": "65a7f834-784b-474d-a6d8-7c011098d643",
   "metadata": {},
   "outputs": [],
   "source": [
    "births = birth1.copy()\n",
    "births[\"Birth Weight\"] = births.apply(lambda x: x*0.0283495, \"Birth Weight\")\n",
    "births[\"Maternal Height\"] = births.apply(lambda x: x*0.0254, \"Maternal Height\")\n",
    "births[\"Maternal Pregnancy Weight\"] = births.apply(lambda x: x*0.453592,\\\n",
    "                                                 \"Maternal Pregnancy Weight\")"
   ]
  },
  {
   "cell_type": "code",
   "execution_count": 244,
   "id": "e98e19a7-d7ec-44f5-8f70-45534f029809",
   "metadata": {},
   "outputs": [
    {
     "data": {
      "text/html": [
       "<table border=\"1\" class=\"dataframe\">\n",
       "    <thead>\n",
       "        <tr>\n",
       "            <th>Birth Weight</th> <th>Gestational Days</th> <th>Maternal Age</th> <th>Maternal Height</th> <th>Maternal Pregnancy Weight</th> <th>Maternal Smoker</th>\n",
       "        </tr>\n",
       "    </thead>\n",
       "    <tbody>\n",
       "        <tr>\n",
       "            <td>3.40194     </td> <td>284             </td> <td>27          </td> <td>1.5748         </td> <td>45.3592                  </td> <td>False          </td>\n",
       "        </tr>\n",
       "        <tr>\n",
       "            <td>3.20349     </td> <td>282             </td> <td>33          </td> <td>1.6256         </td> <td>61.2349                  </td> <td>False          </td>\n",
       "        </tr>\n",
       "        <tr>\n",
       "            <td>3.62874     </td> <td>279             </td> <td>28          </td> <td>1.6256         </td> <td>52.1631                  </td> <td>True           </td>\n",
       "        </tr>\n",
       "        <tr>\n",
       "            <td>3.06175     </td> <td>282             </td> <td>23          </td> <td>1.7018         </td> <td>56.699                   </td> <td>True           </td>\n",
       "        </tr>\n",
       "        <tr>\n",
       "            <td>3.85553     </td> <td>286             </td> <td>25          </td> <td>1.5748         </td> <td>42.1841                  </td> <td>False          </td>\n",
       "        </tr>\n",
       "        <tr>\n",
       "            <td>3.91223     </td> <td>244             </td> <td>33          </td> <td>1.5748         </td> <td>80.7394                  </td> <td>False          </td>\n",
       "        </tr>\n",
       "        <tr>\n",
       "            <td>3.74213     </td> <td>245             </td> <td>23          </td> <td>1.651          </td> <td>63.5029                  </td> <td>False          </td>\n",
       "        </tr>\n",
       "        <tr>\n",
       "            <td>3.40194     </td> <td>289             </td> <td>25          </td> <td>1.5748         </td> <td>56.699                   </td> <td>False          </td>\n",
       "        </tr>\n",
       "        <tr>\n",
       "            <td>4.05398     </td> <td>299             </td> <td>30          </td> <td>1.6764         </td> <td>61.6885                  </td> <td>True           </td>\n",
       "        </tr>\n",
       "        <tr>\n",
       "            <td>3.96893     </td> <td>351             </td> <td>27          </td> <td>1.7272         </td> <td>54.431                   </td> <td>False          </td>\n",
       "        </tr>\n",
       "    </tbody>\n",
       "</table>\n",
       "<p>... (1164 rows omitted)</p>"
      ],
      "text/plain": [
       "Birth Weight | Gestational Days | Maternal Age | Maternal Height | Maternal Pregnancy Weight | Maternal Smoker\n",
       "3.40194      | 284              | 27           | 1.5748          | 45.3592                   | False\n",
       "3.20349      | 282              | 33           | 1.6256          | 61.2349                   | False\n",
       "3.62874      | 279              | 28           | 1.6256          | 52.1631                   | True\n",
       "3.06175      | 282              | 23           | 1.7018          | 56.699                    | True\n",
       "3.85553      | 286              | 25           | 1.5748          | 42.1841                   | False\n",
       "3.91223      | 244              | 33           | 1.5748          | 80.7394                   | False\n",
       "3.74213      | 245              | 23           | 1.651           | 63.5029                   | False\n",
       "3.40194      | 289              | 25           | 1.5748          | 56.699                    | False\n",
       "4.05398      | 299              | 30           | 1.6764          | 61.6885                   | True\n",
       "3.96893      | 351              | 27           | 1.7272          | 54.431                    | False\n",
       "... (1164 rows omitted)"
      ]
     },
     "execution_count": 244,
     "metadata": {},
     "output_type": "execute_result"
    }
   ],
   "source": [
    "births"
   ]
  },
  {
   "cell_type": "markdown",
   "id": "61c57f49-3715-435c-abff-2c82a64b18b8",
   "metadata": {},
   "source": [
    "# **Objetivo**: \n",
    "## Determinar si el tabaquismo materno estaba asociado con el peso al nacer."
   ]
  },
  {
   "cell_type": "code",
   "execution_count": 245,
   "id": "4cbb1760-6e8d-486d-82f5-5c2d9fe4071a",
   "metadata": {},
   "outputs": [
    {
     "data": {
      "text/html": [
       "<table border=\"1\" class=\"dataframe\">\n",
       "    <thead>\n",
       "        <tr>\n",
       "            <th>Maternal Smoker</th> <th>Birth Weight</th>\n",
       "        </tr>\n",
       "    </thead>\n",
       "    <tbody>\n",
       "        <tr>\n",
       "            <td>False          </td> <td>3.40194     </td>\n",
       "        </tr>\n",
       "        <tr>\n",
       "            <td>False          </td> <td>3.20349     </td>\n",
       "        </tr>\n",
       "        <tr>\n",
       "            <td>True           </td> <td>3.62874     </td>\n",
       "        </tr>\n",
       "        <tr>\n",
       "            <td>True           </td> <td>3.06175     </td>\n",
       "        </tr>\n",
       "        <tr>\n",
       "            <td>False          </td> <td>3.85553     </td>\n",
       "        </tr>\n",
       "        <tr>\n",
       "            <td>False          </td> <td>3.91223     </td>\n",
       "        </tr>\n",
       "        <tr>\n",
       "            <td>False          </td> <td>3.74213     </td>\n",
       "        </tr>\n",
       "        <tr>\n",
       "            <td>False          </td> <td>3.40194     </td>\n",
       "        </tr>\n",
       "        <tr>\n",
       "            <td>True           </td> <td>4.05398     </td>\n",
       "        </tr>\n",
       "        <tr>\n",
       "            <td>False          </td> <td>3.96893     </td>\n",
       "        </tr>\n",
       "    </tbody>\n",
       "</table>\n",
       "<p>... (1164 rows omitted)</p>"
      ],
      "text/plain": [
       "Maternal Smoker | Birth Weight\n",
       "False           | 3.40194\n",
       "False           | 3.20349\n",
       "True            | 3.62874\n",
       "True            | 3.06175\n",
       "False           | 3.85553\n",
       "False           | 3.91223\n",
       "False           | 3.74213\n",
       "False           | 3.40194\n",
       "True            | 4.05398\n",
       "False           | 3.96893\n",
       "... (1164 rows omitted)"
      ]
     },
     "execution_count": 245,
     "metadata": {},
     "output_type": "execute_result"
    }
   ],
   "source": [
    "fumador_peso_nacido = births.select('Maternal Smoker', 'Birth Weight')\n",
    "fumador_peso_nacido"
   ]
  },
  {
   "cell_type": "code",
   "execution_count": 246,
   "id": "74cefbc4-248d-46fd-803e-0536b1dd4eed",
   "metadata": {},
   "outputs": [
    {
     "data": {
      "text/html": [
       "<table border=\"1\" class=\"dataframe\">\n",
       "    <thead>\n",
       "        <tr>\n",
       "            <th>Maternal Smoker</th> <th>count</th>\n",
       "        </tr>\n",
       "    </thead>\n",
       "    <tbody>\n",
       "        <tr>\n",
       "            <td>False          </td> <td>715  </td>\n",
       "        </tr>\n",
       "        <tr>\n",
       "            <td>True           </td> <td>459  </td>\n",
       "        </tr>\n",
       "    </tbody>\n",
       "</table>"
      ],
      "text/plain": [
       "Maternal Smoker | count\n",
       "False           | 715\n",
       "True            | 459"
      ]
     },
     "execution_count": 246,
     "metadata": {},
     "output_type": "execute_result"
    }
   ],
   "source": [
    "fumador_peso_nacido.group(\"Maternal Smoker\")"
   ]
  },
  {
   "cell_type": "code",
   "execution_count": 247,
   "id": "0286ed5f-42f0-4fab-b27d-fa90e196d9e1",
   "metadata": {},
   "outputs": [
    {
     "data": {
      "image/png": "[encoded data removed]",
      "text/plain": [
       "<Figure size 600x400 with 1 Axes>"
      ]
     },
     "metadata": {},
     "output_type": "display_data"
    }
   ],
   "source": [
    "fumador_peso_nacido.hist(\"Birth Weight\", \\\n",
    "                         group=\"Maternal Smoker\")"
   ]
  },
  {
   "cell_type": "code",
   "execution_count": 248,
   "id": "9b2b0de1-e15a-4612-8347-2a693db40b1c",
   "metadata": {},
   "outputs": [
    {
     "data": {
      "text/html": [
       "<table border=\"1\" class=\"dataframe\">\n",
       "    <thead>\n",
       "        <tr>\n",
       "            <th>Maternal Smoker</th> <th>Birth Weight average</th>\n",
       "        </tr>\n",
       "    </thead>\n",
       "    <tbody>\n",
       "        <tr>\n",
       "            <td>False          </td> <td>3.48941             </td>\n",
       "        </tr>\n",
       "        <tr>\n",
       "            <td>True           </td> <td>3.22672             </td>\n",
       "        </tr>\n",
       "    </tbody>\n",
       "</table>"
      ],
      "text/plain": [
       "Maternal Smoker | Birth Weight average\n",
       "False           | 3.48941\n",
       "True            | 3.22672"
      ]
     },
     "execution_count": 248,
     "metadata": {},
     "output_type": "execute_result"
    }
   ],
   "source": [
    "peso_promedio = fumador_peso_nacido.group(\"Maternal Smoker\", np.average)\n",
    "peso_promedio"
   ]
  },
  {
   "cell_type": "markdown",
   "id": "e10f9562-3741-44f8-9056-06f0f7d58375",
   "metadata": {},
   "source": [
    "**Hipotesis nula**: En la población, la distribución de los pesos natales de los bebés es la misma para las madres que no fuman que para las madres que lo hacen. La diferencia en la muestra se debe al azar.\n",
    "\n",
    "**Hipotesis alternativa**: En la población, los bebés de las madres que fuman tienen un peso al nacer más bajo, en promedio, que los bebés de los no fumadores."
   ]
  },
  {
   "cell_type": "code",
   "execution_count": 249,
   "id": "a70ad90b-2182-4a95-a6f7-69c73f1a7aba",
   "metadata": {},
   "outputs": [
    {
     "data": {
      "text/plain": [
       "-0.2626905088456204"
      ]
     },
     "execution_count": 249,
     "metadata": {},
     "output_type": "execute_result"
    }
   ],
   "source": [
    "promedios=peso_promedio.column(1)\n",
    "diferencia_observada = promedios.item(1)-promedios.item(0)\n",
    "diferencia_observada"
   ]
  },
  {
   "cell_type": "code",
   "execution_count": 250,
   "id": "31df1c04-bbc8-4ec1-b389-e28bfc42f30a",
   "metadata": {},
   "outputs": [],
   "source": [
    "def diferencia_medias(table, group_label):\n",
    "    reduced = table.select(\"Birth Weight\", group_label)\n",
    "    means_table =  reduced.group(group_label, np.average)\n",
    "    means = means_table.column(1)\n",
    "    return means.item(1) - means.item(0)  "
   ]
  },
  {
   "cell_type": "code",
   "execution_count": 251,
   "id": "722813f5-155a-4966-b30a-2a474c8e032a",
   "metadata": {},
   "outputs": [
    {
     "data": {
      "text/plain": [
       "-0.2626905088456204"
      ]
     },
     "execution_count": 251,
     "metadata": {},
     "output_type": "execute_result"
    }
   ],
   "source": [
    "diferencia_medias(births, 'Maternal Smoker')"
   ]
  },
  {
   "cell_type": "markdown",
   "id": "a236a3a5-8ead-42c7-8a6a-f58c7d32ac8b",
   "metadata": {},
   "source": [
    "# Predicción de la estadística bajo la hipotesis nula"
   ]
  },
  {
   "cell_type": "code",
   "execution_count": 252,
   "id": "10b234bd-b230-42fa-8160-b005df85783e",
   "metadata": {},
   "outputs": [
    {
     "data": {
      "text/html": [
       "<table border=\"1\" class=\"dataframe\">\n",
       "    <thead>\n",
       "        <tr>\n",
       "            <th>Maternal Smoker</th> <th>Birth Weight</th>\n",
       "        </tr>\n",
       "    </thead>\n",
       "    <tbody>\n",
       "        <tr>\n",
       "            <td>False          </td> <td>3.40194     </td>\n",
       "        </tr>\n",
       "        <tr>\n",
       "            <td>False          </td> <td>3.20349     </td>\n",
       "        </tr>\n",
       "        <tr>\n",
       "            <td>True           </td> <td>3.62874     </td>\n",
       "        </tr>\n",
       "        <tr>\n",
       "            <td>True           </td> <td>3.06175     </td>\n",
       "        </tr>\n",
       "        <tr>\n",
       "            <td>False          </td> <td>3.85553     </td>\n",
       "        </tr>\n",
       "        <tr>\n",
       "            <td>False          </td> <td>3.91223     </td>\n",
       "        </tr>\n",
       "        <tr>\n",
       "            <td>False          </td> <td>3.74213     </td>\n",
       "        </tr>\n",
       "        <tr>\n",
       "            <td>False          </td> <td>3.40194     </td>\n",
       "        </tr>\n",
       "        <tr>\n",
       "            <td>True           </td> <td>4.05398     </td>\n",
       "        </tr>\n",
       "        <tr>\n",
       "            <td>False          </td> <td>3.96893     </td>\n",
       "        </tr>\n",
       "    </tbody>\n",
       "</table>\n",
       "<p>... (1164 rows omitted)</p>"
      ],
      "text/plain": [
       "Maternal Smoker | Birth Weight\n",
       "False           | 3.40194\n",
       "False           | 3.20349\n",
       "True            | 3.62874\n",
       "True            | 3.06175\n",
       "False           | 3.85553\n",
       "False           | 3.91223\n",
       "False           | 3.74213\n",
       "False           | 3.40194\n",
       "True            | 4.05398\n",
       "False           | 3.96893\n",
       "... (1164 rows omitted)"
      ]
     },
     "execution_count": 252,
     "metadata": {},
     "output_type": "execute_result"
    }
   ],
   "source": [
    "fumador_peso_nacido"
   ]
  },
  {
   "cell_type": "code",
   "execution_count": 253,
   "id": "1ce040a2-37c5-4593-8371-eaa06ea675ca",
   "metadata": {},
   "outputs": [],
   "source": [
    "shuffled_labels = fumador_peso_nacido.sample(with_replacement=False).column(0)"
   ]
  },
  {
   "cell_type": "code",
   "execution_count": 254,
   "id": "ac1ca17a-5b85-4b32-bf4b-5b3cb77a01a6",
   "metadata": {},
   "outputs": [],
   "source": [
    "original_and_shuffled= fumador_peso_nacido.with_column(\"Shuffled Label\", shuffled_labels)"
   ]
  },
  {
   "cell_type": "code",
   "execution_count": 255,
   "id": "38e208fc-87d6-4eab-aaed-34af20aacc40",
   "metadata": {},
   "outputs": [
    {
     "data": {
      "text/html": [
       "<table border=\"1\" class=\"dataframe\">\n",
       "    <thead>\n",
       "        <tr>\n",
       "            <th>Maternal Smoker</th> <th>Birth Weight</th> <th>Shuffled Label</th>\n",
       "        </tr>\n",
       "    </thead>\n",
       "    <tbody>\n",
       "        <tr>\n",
       "            <td>False          </td> <td>3.40194     </td> <td>False         </td>\n",
       "        </tr>\n",
       "        <tr>\n",
       "            <td>False          </td> <td>3.20349     </td> <td>False         </td>\n",
       "        </tr>\n",
       "        <tr>\n",
       "            <td>True           </td> <td>3.62874     </td> <td>False         </td>\n",
       "        </tr>\n",
       "        <tr>\n",
       "            <td>True           </td> <td>3.06175     </td> <td>True          </td>\n",
       "        </tr>\n",
       "        <tr>\n",
       "            <td>False          </td> <td>3.85553     </td> <td>True          </td>\n",
       "        </tr>\n",
       "        <tr>\n",
       "            <td>False          </td> <td>3.91223     </td> <td>True          </td>\n",
       "        </tr>\n",
       "        <tr>\n",
       "            <td>False          </td> <td>3.74213     </td> <td>False         </td>\n",
       "        </tr>\n",
       "        <tr>\n",
       "            <td>False          </td> <td>3.40194     </td> <td>False         </td>\n",
       "        </tr>\n",
       "        <tr>\n",
       "            <td>True           </td> <td>4.05398     </td> <td>False         </td>\n",
       "        </tr>\n",
       "        <tr>\n",
       "            <td>False          </td> <td>3.96893     </td> <td>False         </td>\n",
       "        </tr>\n",
       "    </tbody>\n",
       "</table>\n",
       "<p>... (1164 rows omitted)</p>"
      ],
      "text/plain": [
       "Maternal Smoker | Birth Weight | Shuffled Label\n",
       "False           | 3.40194      | False\n",
       "False           | 3.20349      | False\n",
       "True            | 3.62874      | False\n",
       "True            | 3.06175      | True\n",
       "False           | 3.85553      | True\n",
       "False           | 3.91223      | True\n",
       "False           | 3.74213      | False\n",
       "False           | 3.40194      | False\n",
       "True            | 4.05398      | False\n",
       "False           | 3.96893      | False\n",
       "... (1164 rows omitted)"
      ]
     },
     "execution_count": 255,
     "metadata": {},
     "output_type": "execute_result"
    }
   ],
   "source": [
    "original_and_shuffled"
   ]
  },
  {
   "cell_type": "code",
   "execution_count": 130,
   "id": "40ee7003-8dc6-4286-8afb-83cb10572cd1",
   "metadata": {},
   "outputs": [
    {
     "data": {
      "text/html": [
       "<table border=\"1\" class=\"dataframe\">\n",
       "    <thead>\n",
       "        <tr>\n",
       "            <th>Birth Weight</th> <th>Shuffled Label</th>\n",
       "        </tr>\n",
       "    </thead>\n",
       "    <tbody>\n",
       "        <tr>\n",
       "            <td>3.40194     </td> <td>False         </td>\n",
       "        </tr>\n",
       "        <tr>\n",
       "            <td>3.20349     </td> <td>False         </td>\n",
       "        </tr>\n",
       "        <tr>\n",
       "            <td>3.62874     </td> <td>True          </td>\n",
       "        </tr>\n",
       "        <tr>\n",
       "            <td>3.06175     </td> <td>True          </td>\n",
       "        </tr>\n",
       "        <tr>\n",
       "            <td>3.85553     </td> <td>True          </td>\n",
       "        </tr>\n",
       "        <tr>\n",
       "            <td>3.91223     </td> <td>False         </td>\n",
       "        </tr>\n",
       "        <tr>\n",
       "            <td>3.74213     </td> <td>False         </td>\n",
       "        </tr>\n",
       "        <tr>\n",
       "            <td>3.40194     </td> <td>True          </td>\n",
       "        </tr>\n",
       "        <tr>\n",
       "            <td>4.05398     </td> <td>False         </td>\n",
       "        </tr>\n",
       "        <tr>\n",
       "            <td>3.96893     </td> <td>False         </td>\n",
       "        </tr>\n",
       "    </tbody>\n",
       "</table>\n",
       "<p>... (1164 rows omitted)</p>"
      ],
      "text/plain": [
       "Birth Weight | Shuffled Label\n",
       "3.40194      | False\n",
       "3.20349      | False\n",
       "3.62874      | True\n",
       "3.06175      | True\n",
       "3.85553      | True\n",
       "3.91223      | False\n",
       "3.74213      | False\n",
       "3.40194      | True\n",
       "4.05398      | False\n",
       "3.96893      | False\n",
       "... (1164 rows omitted)"
      ]
     },
     "execution_count": 130,
     "metadata": {},
     "output_type": "execute_result"
    }
   ],
   "source": [
    "shuffled_only = original_and_shuffled.select('Birth Weight','Shuffled Label')\n",
    "shuffled_only"
   ]
  },
  {
   "cell_type": "code",
   "execution_count": 155,
   "id": "8c7497b5-600f-4f26-b30e-f1a25af864cd",
   "metadata": {},
   "outputs": [
    {
     "data": {
      "text/html": [
       "<table border=\"1\" class=\"dataframe\">\n",
       "    <thead>\n",
       "        <tr>\n",
       "            <th>Shuffled Label</th> <th>Birth Weight average</th>\n",
       "        </tr>\n",
       "    </thead>\n",
       "    <tbody>\n",
       "        <tr>\n",
       "            <td>False         </td> <td>3.40674             </td>\n",
       "        </tr>\n",
       "        <tr>\n",
       "            <td>True          </td> <td>3.35549             </td>\n",
       "        </tr>\n",
       "    </tbody>\n",
       "</table>"
      ],
      "text/plain": [
       "Shuffled Label | Birth Weight average\n",
       "False          | 3.40674\n",
       "True           | 3.35549"
      ]
     },
     "execution_count": 155,
     "metadata": {},
     "output_type": "execute_result"
    }
   ],
   "source": [
    "shuffled_group_means = shuffled_only.group('Shuffled Label', np.average)\n",
    "shuffled_group_means"
   ]
  },
  {
   "cell_type": "code",
   "execution_count": 156,
   "id": "39ef1333-a405-417c-a1d3-6599af8eebad",
   "metadata": {},
   "outputs": [
    {
     "data": {
      "text/plain": [
       "-0.05124384734372356"
      ]
     },
     "execution_count": 156,
     "metadata": {},
     "output_type": "execute_result"
    }
   ],
   "source": [
    "diferencia_medias(shuffled_only, \"Shuffled Label\")"
   ]
  },
  {
   "cell_type": "code",
   "execution_count": 157,
   "id": "c2e9017c-7c8b-411c-a486-5ae96e31e1d3",
   "metadata": {},
   "outputs": [],
   "source": [
    "def diferentes_muestras():\n",
    "    shuffled_labels = fumador_peso_nacido.sample(with_replacement=False).column(0)\n",
    "    original_and_shuffled= fumador_peso_nacido.with_column(\"Shuffled Label\", shuffled_labels)\n",
    "    shuffled_only = original_and_shuffled.select('Birth Weight','Shuffled Label')\n",
    "    shuffled_group_means = shuffled_only.group('Shuffled Label', np.average)\n",
    "    shuffled_group_means\n",
    "    return diferencia_medias(shuffled_only, \"Shuffled Label\")"
   ]
  },
  {
   "cell_type": "code",
   "execution_count": 158,
   "id": "307b34ee-24ae-4fa1-b56e-ce4c477f6c0a",
   "metadata": {},
   "outputs": [
    {
     "data": {
      "text/plain": [
       "array([  1.61959751e-02,  -4.19138268e-02,  -2.57891173e-02,\n",
       "        -2.83244490e-02,   1.41677098e-02,   9.83985114e-04,\n",
       "         2.60330620e-02,   3.83040673e-02,   4.50987562e-02,\n",
       "         2.78585008e-02,   7.37302093e-03,   4.23605980e-02,\n",
       "        -2.09212805e-02,   1.55874955e-02,   1.08539838e-03,\n",
       "         5.24334232e-03,   3.71885214e-02,  -1.55463774e-02,\n",
       "        -2.32974089e-04,  -3.19753266e-02,  -1.24025661e-02,\n",
       "         1.69058680e-02,   2.77570876e-02,  -4.86071024e-02,\n",
       "         5.22990982e-02,  -1.55134656e-03,  -4.22180666e-02,\n",
       "         5.85182193e-03,   1.57903221e-02,  -1.76760560e-02,\n",
       "         2.18751181e-02,   2.46132763e-02,   2.58302355e-02,\n",
       "         1.30521639e-02,   1.84270670e-02,  -5.40505070e-03,\n",
       "        -9.66440791e-03,   2.06581589e-02,  -7.94038237e-03,\n",
       "         2.30920773e-02,   1.91369599e-02,   3.81012408e-02,\n",
       "        -1.68647499e-02,   6.79745313e-04,   8.69139340e-03,\n",
       "        -1.02728875e-02,  -3.89728420e-02,   1.93397864e-02,\n",
       "         5.57471492e-02,  -2.10226938e-02,  -2.11241071e-02,\n",
       "        -2.78173827e-02,   3.99266796e-02,   4.35775572e-02,\n",
       "        -2.24424795e-02,  -1.65275983e-03,  -3.42064185e-02,\n",
       "         1.68044548e-02,  -1.66619233e-02,   1.66016282e-02,\n",
       "         1.59931486e-02,  -3.93784951e-02,   1.24436843e-02,\n",
       "         3.15093785e-02,  -4.15081737e-02,   2.78585008e-02,\n",
       "         3.31649025e-03,  -2.98456480e-02,   3.11037254e-02,\n",
       "         2.79599141e-02,   1.08210720e-02,  -5.33735259e-02,\n",
       "        -2.79187960e-02,   4.43203619e-03,   1.82242405e-02,\n",
       "        -2.81216225e-02,   2.56274090e-02,  -8.95451504e-03,\n",
       "        -2.05841289e-03,  -1.42280049e-02,   3.06980723e-02,\n",
       "         2.61344753e-02,  -4.59703575e-02,  -6.31777010e-03,\n",
       "         2.77570876e-02,   2.91083718e-03,   2.98867662e-02,\n",
       "        -2.69046633e-02,   1.77171742e-02,   1.33564037e-02,\n",
       "        -1.92986683e-02,   1.04154189e-02,   3.85068939e-02,\n",
       "         3.01910060e-02,   1.17337914e-02,  -2.06170407e-02,\n",
       "         1.79529125e-03,  -4.28950477e-03,  -1.41265917e-02,\n",
       "        -9.05592831e-03,   2.20779446e-02,   6.52799963e-02,\n",
       "        -1.34166988e-02,  -3.01498878e-02,   2.93796998e-02,\n",
       "         6.76454133e-03,   4.36789705e-02,  -3.56262042e-02,\n",
       "         5.09807257e-02,  -7.32505263e-02,   1.27479241e-02,\n",
       "         1.13281383e-02,   4.32733174e-02,  -3.50177246e-02,\n",
       "         1.34578169e-02,   3.90139602e-02,   3.75505512e-04,\n",
       "        -2.45721581e-02,  -1.24710676e-03,  -1.26053927e-02,\n",
       "        -4.37392656e-02,   5.17920318e-02,   1.30521639e-02,\n",
       "        -2.15297601e-02,   3.28277509e-02,   6.14262922e-02,\n",
       "        -3.27537210e-03,   7.12633791e-02,  -1.07799538e-02,\n",
       "        -1.13884334e-02,   1.63988017e-02,   3.45517765e-02,\n",
       "        -7.36561793e-02,  -1.98057346e-02,  -8.54886198e-03,\n",
       "        -2.06170407e-02,   2.43090365e-02,   4.94595267e-02,\n",
       "         4.39832103e-02,  -8.41453691e-04,  -1.23011529e-02,\n",
       "         3.48560163e-02,   5.85182193e-03,  -3.06569542e-02,\n",
       "         5.90937871e-02,  -3.58290308e-02,   1.05168322e-02,\n",
       "        -4.49233130e-03,  -2.81216225e-02,   8.82571847e-04,\n",
       "         1.14295516e-02,  -3.07583674e-02,   3.45517765e-02,\n",
       "        -3.43078318e-02,   3.20164448e-02,  -2.83244490e-02,\n",
       "         1.76157609e-02,   1.49790159e-02,   3.14079652e-02,\n",
       "        -3.09611940e-02,  -4.36378523e-02,  -2.57891173e-02,\n",
       "        -1.51407243e-02,  -2.19354132e-02,  -1.80817091e-02,\n",
       "         1.76157609e-02,  -4.67816636e-02,   6.83223943e-02,\n",
       "         4.53344946e-03,   1.59246472e-03,   4.73298481e-02,\n",
       "        -1.10841936e-02,   6.95393535e-02,   1.62973884e-02,\n",
       "         3.07994856e-02,   1.72678978e-04,   5.10821390e-02,\n",
       "         2.16722916e-02,  -3.17395883e-03,  -6.29063730e-02,\n",
       "         1.20380312e-02,   5.64899539e-03,  -7.63943375e-02,\n",
       "         2.63373018e-02,  -4.37392656e-02,  -2.92371684e-02,\n",
       "        -1.24710676e-03,  -1.55463774e-02,   1.72101078e-02,\n",
       "        -1.07799538e-02,   4.71270216e-02,  -2.69046633e-02,\n",
       "        -3.52205512e-02,  -7.30476997e-02,  -2.72089031e-02,\n",
       "         1.25450975e-02,   2.72500212e-02,   4.44902766e-02,\n",
       "        -2.71074898e-02,  -3.70459900e-02,   1.51818425e-02,\n",
       "        -4.69844901e-02,   1.72678978e-04,  -1.83859489e-02,\n",
       "        -2.56877041e-02,   3.81012408e-02,   1.52832557e-02,\n",
       "        -1.79802958e-02,  -5.39820056e-02,   8.89421993e-03,\n",
       "         8.48856686e-03,  -3.17725001e-02,   2.81627406e-02,\n",
       "         1.33564037e-02,  -1.55463774e-02,   4.08393990e-02,\n",
       "         9.70552607e-03,  -2.58905306e-02,   1.71086946e-02,\n",
       "         1.47761894e-02,   4.08393990e-02,   6.76454133e-03,\n",
       "        -1.65605101e-02,   5.29075778e-02,  -9.96864771e-03,\n",
       "        -2.32974089e-04,   1.24436843e-02,  -2.77159694e-02,\n",
       "         6.05464846e-03,  -3.71474032e-02,   3.89125469e-02,\n",
       "         7.47443420e-03,  -1.73718162e-02,  -3.24823930e-02,\n",
       "        -2.67018368e-02,   7.27160766e-03,  -2.26123943e-03,\n",
       "        -1.80817091e-02,   4.10422255e-02,  -2.46406596e-03,\n",
       "        -1.44993329e-03,  -3.11640205e-02,  -3.00484746e-02,\n",
       "        -3.05555409e-02,   1.68044548e-02,  -4.22180666e-02,\n",
       "        -2.36265269e-03,  -3.75530563e-02,  -8.07551080e-02,\n",
       "        -2.66689250e-03,  -5.24608065e-02,  -2.51806377e-02,\n",
       "        -2.37608520e-02,  -2.96428215e-02,   1.71086946e-02,\n",
       "        -2.71074898e-02,  -1.99071479e-02,   1.50804292e-02,\n",
       "        -2.13269336e-02,  -6.61515976e-02,  -4.39091803e-03,\n",
       "         1.50804292e-02,   2.63373018e-02,  -4.35800623e-04,\n",
       "         1.89341334e-02,  -1.24710676e-03,  -2.52820510e-02,\n",
       "         5.78332046e-04,  -2.66004235e-02,  -1.94000815e-02,\n",
       "         1.06182455e-02,   7.06878113e-03,   1.33564037e-02,\n",
       "        -3.17395883e-03,   1.74129344e-02,  -1.07799538e-02,\n",
       "         4.73627599e-03,  -2.13269336e-02,  -8.85310178e-03,\n",
       "         3.10023121e-02,  -5.60787724e-03,   2.16722916e-02,\n",
       "        -1.42280049e-02,   5.55443227e-02,   5.81810676e-02,\n",
       "         9.19845973e-03,  -1.91972550e-02,  -3.47819863e-03,\n",
       "        -2.69046633e-02,   1.23422710e-02,  -2.48763979e-02,\n",
       "        -3.54233777e-02,   1.92383732e-02,   2.37005569e-02,\n",
       "        -2.33551989e-02,   7.17019439e-03,  -1.85558636e-03,\n",
       "         2.31934906e-02,  -1.06785406e-02,   1.90355466e-02,\n",
       "        -1.52421376e-02,   6.15606173e-03,  -1.72704029e-02,\n",
       "         5.31104043e-02,   3.31649025e-03,  -2.36265269e-03,\n",
       "        -4.37392656e-02,   1.05168322e-02,   4.26648378e-02,\n",
       "         7.81158580e-04,   6.76454133e-03,  -3.27537210e-03,\n",
       "         1.71086946e-02,  -1.14898467e-02,   6.79745313e-04,\n",
       "         7.57584746e-03,  -5.28664596e-02,   4.67213685e-02,\n",
       "        -1.98057346e-02,  -1.75746427e-02,   3.69856949e-02,\n",
       "         3.39432969e-02,   2.48161028e-02,  -3.21781532e-02,\n",
       "         1.28493373e-02,  -8.95451504e-03,   1.03140057e-02,\n",
       "        -3.57961190e-03,  -5.30363743e-03,   1.31535771e-02,\n",
       "        -2.35580255e-02,  -1.24710676e-03,   1.90355466e-02,\n",
       "         3.09008989e-02,   5.24334232e-03,  -1.63576835e-02,\n",
       "        -2.46406596e-03,  -2.99470613e-02,  -7.40040424e-04,\n",
       "        -4.18809150e-03,   3.50588428e-02,  -2.93385817e-02,\n",
       "        -2.48763979e-02,  -4.62745973e-02,  -5.40505070e-03,\n",
       "        -8.75168851e-03,   5.96008534e-02,   1.20380312e-02,\n",
       "        -5.70929050e-03,   3.48560163e-02,  -1.49378978e-02,\n",
       "        -3.78572961e-02,   1.19366179e-02,  -8.14320891e-03,\n",
       "         3.63772153e-02,   1.05168322e-02,   7.12657114e-05,\n",
       "         5.97022667e-02,  -6.14865873e-02,  -1.34852003e-03,\n",
       "         2.84669804e-02,  -1.56477907e-02,   7.98150053e-03,\n",
       "         1.24436843e-02,  -3.93784951e-02,  -6.41918337e-03,\n",
       "         1.28493373e-02,   2.17737048e-02,  -1.52421376e-02,\n",
       "        -3.41050052e-02,  -2.97442348e-02,   1.97454395e-02,\n",
       "         5.04051579e-03,  -1.69661631e-02,   6.23390116e-02,\n",
       "        -3.01475555e-05,  -7.12907624e-03,   1.33564037e-02,\n",
       "         2.17737048e-02,   3.84054806e-02,  -7.83211896e-02,\n",
       "         6.66312806e-03,  -1.73718162e-02,   1.23422710e-02,\n",
       "         3.41790352e-03,   1.67030415e-02,  -1.68647499e-02,\n",
       "        -2.09212805e-02,   2.88726335e-02,   3.30305775e-02,\n",
       "        -5.91211704e-03,  -3.13668470e-02,  -5.07367810e-02,\n",
       "         3.76955877e-02,   6.88294607e-02,  -2.46406596e-03,\n",
       "        -9.96864771e-03,   2.59316488e-02,   2.70471947e-02,\n",
       "         2.70801065e-03,   3.15093785e-02,   1.30521639e-02,\n",
       "        -1.10841936e-02,  -1.50393111e-02,  -4.35800623e-04,\n",
       "         1.35592302e-02,   7.08577260e-02,  -1.07799538e-02,\n",
       "        -1.33152855e-02,  -6.78756231e-02,   9.40128627e-03,\n",
       "        -5.91211704e-03,  -3.17725001e-02,   1.70072813e-02,\n",
       "        -1.74732295e-02,   3.69856949e-02,  -1.38223519e-02,\n",
       "         1.96440262e-02,  -4.39091803e-03,   6.16291187e-02,\n",
       "        -4.08667823e-03,  -4.05954543e-02,  -7.90310825e-02,\n",
       "         3.34362305e-02,  -3.86686022e-02,  -9.96864771e-03,\n",
       "         4.57072358e-02,  -1.89944285e-02,   1.49105145e-03,\n",
       "         2.06581589e-02,  -3.68431634e-02,   3.94196133e-02,\n",
       "        -1.73718162e-02,  -1.25039794e-02,  -7.73755584e-03,\n",
       "        -1.73718162e-02,  -3.19753266e-02,  -1.39237651e-02,\n",
       "         2.06581589e-02,   2.92782866e-02,   1.10238985e-02,\n",
       "         2.91768733e-02,   1.89341334e-02,   3.27263377e-02,\n",
       "         2.17737048e-02,  -1.86901887e-02,  -4.39091803e-03,\n",
       "        -3.82629492e-02,  -4.39091803e-03,  -2.29495459e-02,\n",
       "         8.69139340e-03,  -9.56299464e-03,   3.00895927e-02,\n",
       "        -3.27537210e-03,  -9.56299464e-03,   4.68227818e-02,\n",
       "        -2.21382397e-02,  -4.07982809e-02,   5.73697615e-02,\n",
       "         2.20094432e-03,   5.34475559e-03,  -4.71873167e-02,\n",
       "        -5.75314699e-02,   1.80214140e-02,   1.34578169e-02,\n",
       "         2.70471947e-02,   2.39033834e-02,   2.76556743e-02,\n",
       "        -1.57492039e-02,  -3.43078318e-02,  -8.34603544e-03,\n",
       "        -1.31560822e-04,   2.65401284e-02,   4.62143022e-02,\n",
       "        -2.16311734e-02,   5.01694196e-02,  -2.69046633e-02,\n",
       "        -3.46120716e-02,  -2.18339999e-02,   1.35592302e-02,\n",
       "        -1.15912600e-02,  -3.84657757e-02,   1.49105145e-03,\n",
       "         1.49790159e-02,   1.87313068e-02,  -1.24025661e-02,\n",
       "        -2.83244490e-02,   2.25850110e-02,  -8.34603544e-03,\n",
       "         2.13680518e-02,   3.53630826e-02,   2.59316488e-02,\n",
       "         2.71486080e-02,   4.60114756e-02,  -1.26053927e-02,\n",
       "        -9.66440791e-03,  -9.05592831e-03,   1.39648833e-02,\n",
       "        -3.56262042e-02,   8.79280667e-03,   3.20164448e-02,\n",
       "         4.56058226e-02,  -8.75168851e-03,  -1.40251784e-02,\n",
       "         4.30704909e-02,   1.17337914e-02,   7.06878113e-03,\n",
       "         4.12450521e-02,   2.09623987e-02,   2.55259957e-02,\n",
       "        -2.15982616e-03,  -6.51374649e-02,   1.51818425e-02,\n",
       "         4.43888633e-02,   3.12051387e-02,   1.44719496e-02,\n",
       "         2.70471947e-02,   1.01111791e-02,  -4.75929697e-02,\n",
       "         3.16107917e-02,  -2.29495459e-02,  -2.51806377e-02,\n",
       "         4.30704909e-02,  -1.79802958e-02,  -3.83643624e-02,\n",
       "         3.66814551e-02,   6.76454133e-03,   6.01079197e-02,\n",
       "         1.08539838e-03,   5.44616886e-03,   3.49574295e-02,\n",
       "         9.70552607e-03,  -6.72342317e-03,   2.50189294e-02,\n",
       "         2.66415416e-02,  -1.87916019e-02,   2.56274090e-02,\n",
       "        -8.34603544e-03,  -3.94799084e-02,   1.55874955e-02,\n",
       "         2.50518412e-03,   3.61743887e-02,   8.38715360e-03,\n",
       "        -6.92624971e-03,  -1.56477907e-02,  -5.13452606e-02,\n",
       "        -5.20222417e-03,  -7.43331604e-03,   2.38019702e-02,\n",
       "         6.01079197e-02,   2.42076232e-02,   5.54758212e-03,\n",
       "         2.82641539e-02,  -5.09396075e-02,   9.83985114e-04,\n",
       "        -8.34603544e-03,   1.18681165e-03,  -5.70929050e-03,\n",
       "         3.39432969e-02,  -6.52388782e-02,   2.45118630e-02,\n",
       "         4.54029960e-02,  -4.07982809e-02,  -1.05771273e-02,\n",
       "         3.61743887e-02,   8.18432706e-03,   7.16690321e-02,\n",
       "         4.35775572e-02,  -4.42463319e-02,   2.06581589e-02,\n",
       "        -3.44092450e-02,   6.59898892e-02,   1.14295516e-02,\n",
       "        -8.44744871e-03,  -7.53472931e-03,  -2.94399950e-02,\n",
       "        -4.71873167e-02,  -1.73718162e-02,   1.82242405e-02,\n",
       "        -6.35148526e-02,  -3.00484746e-02,  -1.80817091e-02,\n",
       "        -2.88315154e-02,   2.08609854e-02,   3.07994856e-02,\n",
       "         2.77570876e-02,   4.23605980e-02,  -1.02728875e-02,\n",
       "         5.11835522e-02,  -1.07799538e-02,   2.60659738e-03,\n",
       "         6.01079197e-02,   1.71086946e-02,   1.20380312e-02,\n",
       "        -1.56477907e-02,  -3.21781532e-02,   2.40377085e-03,\n",
       "        -2.84258623e-02,   6.74096749e-02,   2.46132763e-02,\n",
       "        -2.64990102e-02,   6.25418381e-02,   6.25747499e-03,\n",
       "        -1.75746427e-02,  -5.91211704e-03,   3.41461234e-02,\n",
       "        -2.16311734e-02,   8.69139340e-03,  -1.95014948e-02,\n",
       "         6.39616239e-02,  -4.96212351e-02,   4.93910252e-03,\n",
       "         4.66199552e-02,   2.76556743e-02,  -1.34166988e-02,\n",
       "         2.90754600e-02,  -7.45688987e-02,   7.17704454e-02,\n",
       "         4.44902766e-02,   8.58998013e-03,   6.25747499e-03,\n",
       "         3.44503632e-02,  -1.87916019e-02,  -3.17725001e-02,\n",
       "        -2.36594387e-02,  -3.68102516e-03,   2.52217559e-02,\n",
       "         1.21394445e-02,   1.10238985e-02,   8.26216650e-02,\n",
       "        -2.32537857e-02,  -3.43078318e-02,   4.55044093e-02,\n",
       "         2.87712202e-02,   7.17019439e-03,  -7.43331604e-03,\n",
       "         1.71086946e-02,   4.11436388e-02,   3.53630826e-02,\n",
       "         1.82242405e-02,  -1.47350713e-02,   4.53344946e-03,\n",
       "        -5.81070377e-03,   3.21507699e-03,  -1.13884334e-02,\n",
       "         1.16323781e-02,  -2.11241071e-02,   2.53231692e-02,\n",
       "        -1.98057346e-02,   1.72101078e-02,   6.46030153e-03,\n",
       "         3.75505512e-04,   1.06182455e-02,  -1.72704029e-02,\n",
       "        -1.83859489e-02,   4.83439808e-02,   5.54429094e-02,\n",
       "         3.26249244e-02,   7.57584746e-03,   3.53630826e-02,\n",
       "         3.41790352e-03,  -4.48548115e-02,   2.20779446e-02,\n",
       "         3.45517765e-02,   4.73627599e-03,   2.30920773e-02,\n",
       "         7.27160766e-03,  -2.43693316e-02,  -8.65027524e-03,\n",
       "        -2.80202092e-02,  -5.85456026e-02,   3.41461234e-02,\n",
       "         3.23206846e-02,   1.28493373e-02,   4.53015828e-02,\n",
       "         2.08609854e-02,   7.37302093e-03,  -6.72342317e-03,\n",
       "        -1.44308315e-02,  -2.45721581e-02,  -5.10081090e-03,\n",
       "        -5.70929050e-03,  -4.28265462e-02,  -1.62562703e-02,\n",
       "        -1.75417309e-03,  -2.29495459e-02,   3.66814551e-02,\n",
       "         6.56171479e-03,  -8.14320891e-03,   4.15492919e-02,\n",
       "         3.87097204e-02,  -7.23048951e-03,   3.34362305e-02,\n",
       "         1.22408577e-02,  -1.33152855e-02,  -2.33551989e-02,\n",
       "         5.75040866e-03,  -3.48148981e-02,   7.37302093e-03,\n",
       "        -1.98057346e-02,  -3.15696736e-02,   3.97238531e-02,\n",
       "        -1.42280049e-02,   5.44287768e-02,  -3.34965256e-02,\n",
       "        -3.00484746e-02,  -4.59374457e-03,  -9.86723445e-03,\n",
       "        -9.96864771e-03,  -5.10081090e-03,  -1.19969131e-02,\n",
       "        -1.62562703e-02,   5.36174706e-02,   7.21760985e-02,\n",
       "         1.14295516e-02,   1.96440262e-02,   1.81228272e-02,\n",
       "        -8.04179564e-03,   6.79745313e-04,   4.73627599e-03,\n",
       "         2.99881794e-02,   1.26465108e-02,  -7.13236742e-02,\n",
       "        -2.86971903e-03,  -1.50393111e-02,  -5.18523269e-02,\n",
       "        -1.46336580e-02,   1.23422710e-02,   4.02638312e-03,\n",
       "         4.59100624e-02,  -3.68102516e-03,   6.91337005e-02,\n",
       "        -1.05771273e-02,   2.80942392e-03,   3.09008989e-02,\n",
       "         1.72678978e-04,   2.30235758e-03,  -2.37608520e-02,\n",
       "         1.56889088e-02,  -2.78173827e-02,  -2.78173827e-02,\n",
       "         1.99811778e-03,  -5.72272301e-02,  -1.32138723e-02,\n",
       "         2.21793579e-02,  -1.43294182e-02,  -3.10626072e-02,\n",
       "         2.10638120e-02,   6.56171479e-03,  -5.83427760e-02,\n",
       "        -2.75131429e-02,  -7.02766297e-03,   3.99266796e-02,\n",
       "        -8.75168851e-03,  -5.20222417e-03,  -6.74699700e-02,\n",
       "        -2.42679183e-02,  -4.22180666e-02,  -3.43078318e-02,\n",
       "        -1.02728875e-02,   1.89341334e-02,  -1.31124590e-02,\n",
       "        -3.31922858e-02,   4.24620113e-02,   4.76918779e-04,\n",
       "         2.88726335e-02,  -4.33336125e-02,  -1.97043213e-02,\n",
       "         3.40447101e-02,  -1.71689897e-02,  -6.61515976e-02,\n",
       "         2.39033834e-02,  -3.47134848e-02,  -6.01353030e-03,\n",
       "         4.16507051e-02,   7.88008726e-03,  -7.02766297e-03,\n",
       "        -1.61548570e-02,   1.80214140e-02,  -3.50177246e-02,\n",
       "         5.40231237e-02,   1.72678978e-04,  -4.89798437e-03,\n",
       "        -1.49378978e-02,  -3.92770818e-02,  -7.37575926e-02,\n",
       "        -4.31307860e-02,  -3.69445767e-02,  -7.31491130e-02,\n",
       "         5.63556288e-02,  -3.38007654e-02,  -1.79802958e-02,\n",
       "        -2.97442348e-02,  -1.14569349e-03,   1.26465108e-02,\n",
       "        -4.51590513e-02,   6.90322872e-02,  -1.39237651e-02,\n",
       "        -4.10011074e-02,   1.79200007e-02,   2.33963171e-02,\n",
       "        -2.43693316e-02,   5.16906186e-02,  -1.61548570e-02,\n",
       "        -7.83896911e-03,   6.05464846e-03,   6.05464846e-03,\n",
       "        -2.76830576e-03,   1.86298936e-02,  -3.00484746e-02,\n",
       "        -2.94399950e-02,   1.03140057e-02,   4.33062292e-03,\n",
       "        -6.92954089e-02,   3.64786285e-02,  -8.42031591e-02,\n",
       "        -4.85056891e-02,  -4.70859034e-02,   5.13863788e-02,\n",
       "         2.62358886e-02,   1.12267251e-02,  -2.07184540e-02,\n",
       "        -6.21635684e-03,   2.74092245e-04,  -2.80202092e-02,\n",
       "         4.81411542e-02,   2.51203426e-02,  -2.72089031e-02,\n",
       "        -3.03527144e-02,   1.14295516e-02,   1.05168322e-02,\n",
       "         6.53814096e-02,   2.29906640e-02,   2.20094432e-03,\n",
       "         8.78951549e-02,  -1.35181121e-02,  -5.82413628e-02,\n",
       "         2.55259957e-02,   5.34475559e-03,  -4.55647044e-02,\n",
       "         3.84054806e-02,  -3.27866328e-02,  -1.56477907e-02,\n",
       "         1.55874955e-02,   2.22807712e-02,  -1.78788825e-02,\n",
       "         7.10605525e-02,   5.34475559e-03,   1.96440262e-02,\n",
       "         1.24436843e-02,  -2.18339999e-02,  -1.01714742e-02,\n",
       "        -2.10226938e-02,  -6.92624971e-03,   3.23206846e-02,\n",
       "        -1.26053927e-02,   2.88726335e-02,   2.05567456e-02,\n",
       "         4.22920965e-03,   3.58701489e-02,   8.28574033e-03,\n",
       "         1.31535771e-02,  -2.36594387e-02,   3.21178581e-02,\n",
       "         1.60945619e-02,  -2.79187960e-02,  -9.05592831e-03,\n",
       "        -1.69661631e-02,   1.47761894e-02,   1.45733629e-02,\n",
       "        -1.23011529e-02,  -1.20983263e-02,  -3.34965256e-02,\n",
       "         2.07595722e-02,  -4.18809150e-03,   1.76157609e-02,\n",
       "        -5.88498424e-02,  -3.90742553e-02,   4.76918779e-04,\n",
       "         7.17019439e-03,   9.80693933e-03,   1.46747761e-02,\n",
       "         7.39001240e-02,   1.48776027e-02,  -1.58506172e-02,\n",
       "         1.34578169e-02,   2.72500212e-02,   4.60114756e-02,\n",
       "         8.97205937e-02,   1.24436843e-02,   2.27878375e-02,\n",
       "         1.19366179e-02,  -5.32721127e-02,  -1.78788825e-02,\n",
       "        -4.64774238e-02,  -2.76830576e-03,  -2.25438928e-02,\n",
       "        -1.38223519e-02,   9.46898437e-02,   1.18681165e-03,\n",
       "         3.43489499e-02,  -1.78788825e-02,   1.50804292e-02,\n",
       "        -6.11494357e-03,  -2.96428215e-02,  -1.55134656e-03,\n",
       "         5.24334232e-03,   5.12849655e-02,   3.01225045e-03,\n",
       "        -1.78788825e-02,  -1.75746427e-02,  -3.73502298e-02,\n",
       "         2.82641539e-02,  -4.61731840e-02,  -1.54449641e-02,\n",
       "        -5.01283014e-02,   4.17521184e-02,  -6.38627157e-04,\n",
       "        -7.02766297e-03,   1.39648833e-02,   1.12267251e-02,\n",
       "        -6.62200990e-03,   8.38715360e-03,   1.68044548e-02,\n",
       "        -1.85887754e-02,   2.26864242e-02,  -4.28950477e-03,\n",
       "         4.63486272e-03,  -1.82845356e-02,  -1.75417309e-03,\n",
       "         7.98150053e-03,   1.38634700e-02,   1.69058680e-02,\n",
       "         7.51170832e-02,  -1.30110457e-02,  -9.46158138e-03,\n",
       "        -1.27068059e-02,   1.06182455e-02,  -2.52820510e-02,\n",
       "        -4.49233130e-03,   2.73514345e-02,   2.49175161e-02,\n",
       "         8.79280667e-03,   6.56171479e-03,   1.42691231e-02,\n",
       "         3.28277509e-02,   2.84669804e-02,  -2.66689250e-03,\n",
       "        -4.88099289e-02,   8.34329711e-02,  -1.38223519e-02,\n",
       "        -4.12039339e-02,   2.08609854e-02,  -3.04541276e-02,\n",
       "         3.05966591e-02,   2.35991436e-02,   9.83985114e-04,\n",
       "        -3.37678536e-03,   4.34761439e-02,   4.11436388e-02,\n",
       "         2.60330620e-02,   6.95393535e-02,  -1.41265917e-02,\n",
       "        -2.45721581e-02,   3.67828683e-02,  -4.39420921e-02,\n",
       "        -3.53219644e-02,  -1.86901887e-02,  -3.80601226e-02,\n",
       "        -4.82014493e-02,  -2.26123943e-03,  -1.02728875e-02,\n",
       "        -1.11856069e-02,   2.92782866e-02,   1.54860823e-02,\n",
       "        -2.03128009e-02,  -8.14320891e-03,   8.08291380e-03,\n",
       "         1.79529125e-03,   1.80214140e-02,  -2.19354132e-02,\n",
       "        -2.21382397e-02,  -2.80202092e-02,   3.82355659e-03,\n",
       "        -2.96428215e-02,  -1.90958417e-02,   4.52001695e-02,\n",
       "         1.58917353e-02,  -4.50576381e-02,  -4.67816636e-02,\n",
       "         7.79566547e-02,  -4.45505717e-02,  -6.38627157e-04,\n",
       "         2.15708783e-02,  -1.10841936e-02,  -1.18954998e-02,\n",
       "        -8.24462217e-03,  -7.53472931e-03,  -3.90742553e-02,\n",
       "        -6.11823475e-02])"
      ]
     },
     "execution_count": 158,
     "metadata": {},
     "output_type": "execute_result"
    }
   ],
   "source": [
    "dif=make_array()\n",
    "repetition = 1000\n",
    "for i in range(0, 1000):\n",
    "    dif = np.append(dif, diferentes_muestras())\n",
    "dif"
   ]
  },
  {
   "cell_type": "code",
   "execution_count": 159,
   "id": "da1924ac-71c9-4975-bf30-7e8d87fc54b4",
   "metadata": {},
   "outputs": [
    {
     "data": {
      "text/html": [
       "<table border=\"1\" class=\"dataframe\">\n",
       "    <thead>\n",
       "        <tr>\n",
       "            <th>Diferencia</th>\n",
       "        </tr>\n",
       "    </thead>\n",
       "    <tbody>\n",
       "        <tr>\n",
       "            <td>0.016196   </td>\n",
       "        </tr>\n",
       "        <tr>\n",
       "            <td>-0.0419138 </td>\n",
       "        </tr>\n",
       "        <tr>\n",
       "            <td>-0.0257891 </td>\n",
       "        </tr>\n",
       "        <tr>\n",
       "            <td>-0.0283244 </td>\n",
       "        </tr>\n",
       "        <tr>\n",
       "            <td>0.0141677  </td>\n",
       "        </tr>\n",
       "        <tr>\n",
       "            <td>0.000983985</td>\n",
       "        </tr>\n",
       "        <tr>\n",
       "            <td>0.0260331  </td>\n",
       "        </tr>\n",
       "        <tr>\n",
       "            <td>0.0383041  </td>\n",
       "        </tr>\n",
       "        <tr>\n",
       "            <td>0.0450988  </td>\n",
       "        </tr>\n",
       "        <tr>\n",
       "            <td>0.0278585  </td>\n",
       "        </tr>\n",
       "    </tbody>\n",
       "</table>\n",
       "<p>... (990 rows omitted)</p>"
      ],
      "text/plain": [
       "Diferencia\n",
       "0.016196\n",
       "-0.0419138\n",
       "-0.0257891\n",
       "-0.0283244\n",
       "0.0141677\n",
       "0.000983985\n",
       "0.0260331\n",
       "0.0383041\n",
       "0.0450988\n",
       "0.0278585\n",
       "... (990 rows omitted)"
      ]
     },
     "execution_count": 159,
     "metadata": {},
     "output_type": "execute_result"
    }
   ],
   "source": [
    "diferencia = Table().with_column(\"Diferencia\", dif)\n",
    "diferencia"
   ]
  },
  {
   "cell_type": "code",
   "execution_count": 160,
   "id": "d0050a99-27b2-4f46-a23f-9d053380b3d2",
   "metadata": {},
   "outputs": [
    {
     "name": "stdout",
     "output_type": "stream",
     "text": [
      "Diferencia Observada -0.2626905088456204\n"
     ]
    },
    {
     "data": {
      "image/png": "[encoded data removed]",
      "text/plain": [
       "<Figure size 600x400 with 1 Axes>"
      ]
     },
     "metadata": {},
     "output_type": "display_data"
    }
   ],
   "source": [
    "diferencia.hist()\n",
    "print(\"Diferencia Observada\",diferencia_observada )\n",
    "plots.title('Prediccion bajo la hipotesis nula');"
   ]
  },
  {
   "cell_type": "code",
   "execution_count": 231,
   "id": "6ab79150-2486-4bc8-a6bb-f3383ff1e949",
   "metadata": {},
   "outputs": [
    {
     "data": {
      "text/plain": [
       "0.0"
      ]
     },
     "execution_count": 231,
     "metadata": {},
     "output_type": "execute_result"
    }
   ],
   "source": [
    "empirical_p = np.count_nonzero(dif <= diferencia_observada) / repetition\n",
    "empirical_p"
   ]
  },
  {
   "cell_type": "markdown",
   "id": "bda2689a-2779-41cb-ae4b-b6b867175600",
   "metadata": {},
   "source": [
    " Rechazamos la hipotesis nula"
   ]
  },
  {
   "cell_type": "markdown",
   "id": "b4d39f20-885a-4309-8222-0b7eb494c8b6",
   "metadata": {},
   "source": [
    "# Otra prueba de permutación\n",
    "\n",
    "¿Las mujeres de menor edad fuman más que las mujeres de mayor edad, acorde a los datos que se tienen?"
   ]
  },
  {
   "cell_type": "code",
   "execution_count": null,
   "id": "ce27626f-5471-4034-8a94-a2a3041f8e8d",
   "metadata": {},
   "outputs": [],
   "source": []
  },
  {
   "cell_type": "code",
   "execution_count": 232,
   "id": "a9a2a59c-45e7-4b68-b38a-729ea3eedb00",
   "metadata": {},
   "outputs": [
    {
     "data": {
      "image/png": "[encoded data removed]",
      "text/plain": [
       "<Figure size 600x400 with 1 Axes>"
      ]
     },
     "metadata": {},
     "output_type": "display_data"
    }
   ],
   "source": [
    "smoking_and_age = births.select('Maternal Smoker', 'Maternal Age')\n",
    "smoking_and_age.hist('Maternal Age', group = 'Maternal Smoker')"
   ]
  },
  {
   "cell_type": "code",
   "execution_count": 233,
   "id": "8eba33d5-f212-46e6-b12d-340f6e3583c5",
   "metadata": {},
   "outputs": [],
   "source": [
    "observed_age_difference=np.diff(smoking_and_age.group(\"Maternal Smoker\", np.average).column(1))[0]"
   ]
  },
  {
   "cell_type": "code",
   "execution_count": 234,
   "id": "9acf9f39-1eb9-4936-ae6e-14b293550f75",
   "metadata": {},
   "outputs": [
    {
     "data": {
      "text/html": [
       "<table border=\"1\" class=\"dataframe\">\n",
       "    <thead>\n",
       "        <tr>\n",
       "            <th>Maternal Smoker</th> <th>Maternal Age</th> <th>Shuffled Label</th>\n",
       "        </tr>\n",
       "    </thead>\n",
       "    <tbody>\n",
       "        <tr>\n",
       "            <td>False          </td> <td>27          </td> <td>True          </td>\n",
       "        </tr>\n",
       "        <tr>\n",
       "            <td>False          </td> <td>33          </td> <td>False         </td>\n",
       "        </tr>\n",
       "        <tr>\n",
       "            <td>True           </td> <td>28          </td> <td>True          </td>\n",
       "        </tr>\n",
       "        <tr>\n",
       "            <td>True           </td> <td>23          </td> <td>False         </td>\n",
       "        </tr>\n",
       "        <tr>\n",
       "            <td>False          </td> <td>25          </td> <td>True          </td>\n",
       "        </tr>\n",
       "        <tr>\n",
       "            <td>False          </td> <td>33          </td> <td>True          </td>\n",
       "        </tr>\n",
       "        <tr>\n",
       "            <td>False          </td> <td>23          </td> <td>True          </td>\n",
       "        </tr>\n",
       "        <tr>\n",
       "            <td>False          </td> <td>25          </td> <td>False         </td>\n",
       "        </tr>\n",
       "        <tr>\n",
       "            <td>True           </td> <td>30          </td> <td>True          </td>\n",
       "        </tr>\n",
       "        <tr>\n",
       "            <td>False          </td> <td>27          </td> <td>False         </td>\n",
       "        </tr>\n",
       "    </tbody>\n",
       "</table>\n",
       "<p>... (1164 rows omitted)</p>"
      ],
      "text/plain": [
       "Maternal Smoker | Maternal Age | Shuffled Label\n",
       "False           | 27           | True\n",
       "False           | 33           | False\n",
       "True            | 28           | True\n",
       "True            | 23           | False\n",
       "False           | 25           | True\n",
       "False           | 33           | True\n",
       "False           | 23           | True\n",
       "False           | 25           | False\n",
       "True            | 30           | True\n",
       "False           | 27           | False\n",
       "... (1164 rows omitted)"
      ]
     },
     "execution_count": 234,
     "metadata": {},
     "output_type": "execute_result"
    }
   ],
   "source": [
    "shuffled_labels = smoking_and_age.sample(with_replacement=False).column(0)\n",
    "smoking_and_age.with_column(\"Shuffled Label\", shuffled_labels)"
   ]
  },
  {
   "cell_type": "code",
   "execution_count": 235,
   "id": "3f8b1461-3db6-4070-a108-a1922f46f839",
   "metadata": {},
   "outputs": [],
   "source": [
    "def diferentes_muestras1():\n",
    "    shuffled_labels = smoking_and_age.sample(with_replacement=False).column(0)\n",
    "    original_and_shuffled= smoking_and_age.with_column(\"Shuffled Label\", shuffled_labels)\n",
    "    shuffled_only = original_and_shuffled.select('Maternal Age','Shuffled Label')\n",
    "    shuffled_group_means = shuffled_only.group('Shuffled Label', np.average)    \n",
    "    return np.diff(shuffled_group_means.column(1))[0]"
   ]
  },
  {
   "cell_type": "code",
   "execution_count": 236,
   "id": "3b3fcc92-f43f-4c16-9184-f20e65f9d08b",
   "metadata": {},
   "outputs": [
    {
     "data": {
      "text/plain": [
       "-0.067181620122795493"
      ]
     },
     "execution_count": 236,
     "metadata": {},
     "output_type": "execute_result"
    }
   ],
   "source": [
    "diferentes_muestras1()"
   ]
  },
  {
   "cell_type": "markdown",
   "id": "9ed8bad5-3852-4e77-a4a0-01a1414fe911",
   "metadata": {},
   "source": [
    "¿Esta diferencia se debe al azar, o refleja una diferencia subyacente en la población?\n",
    "\n"
   ]
  },
  {
   "cell_type": "code",
   "execution_count": 237,
   "id": "971d583d-4d80-4719-b389-bdee57031288",
   "metadata": {},
   "outputs": [],
   "source": [
    "age_differences = make_array()\n",
    "\n",
    "repetitions = 5000\n",
    "for i in np.arange(repetitions):\n",
    "    new_difference = diferentes_muestras1()\n",
    "    age_differences = np.append(age_differences, new_difference)"
   ]
  },
  {
   "cell_type": "code",
   "execution_count": 238,
   "id": "14ceebda-b63b-459d-ba23-7e18b9ee0bd2",
   "metadata": {},
   "outputs": [
    {
     "name": "stdout",
     "output_type": "stream",
     "text": [
      "Observed Difference: -0.80767250179\n"
     ]
    },
    {
     "data": {
      "image/png": "[encoded data removed]",
      "text/plain": [
       "<Figure size 600x400 with 1 Axes>"
      ]
     },
     "metadata": {},
     "output_type": "display_data"
    }
   ],
   "source": [
    "Table().with_column(\n",
    "    'Difference Between Group Means', age_differences).hist(\n",
    "    right_end = observed_age_difference)\n",
    "# Plotting parameters; you can ignore the code below\n",
    "plots.ylim(-0.1, 1.2)\n",
    "plots.scatter(observed_age_difference, 0, color='red', s=40, zorder=3)\n",
    "plots.title('Prediction Under the Null Hypothesis')\n",
    "print('Observed Difference:', observed_age_difference)"
   ]
  },
  {
   "cell_type": "code",
   "execution_count": 240,
   "id": "9bb3edeb-f870-4f0e-ab40-3094a22c7d0f",
   "metadata": {},
   "outputs": [
    {
     "data": {
      "text/plain": [
       "1.18"
      ]
     },
     "execution_count": 240,
     "metadata": {},
     "output_type": "execute_result"
    }
   ],
   "source": [
    "empirical_p = np.count_nonzero(age_differences <= observed_age_difference) / 5000\n",
    "empirical_p*100"
   ]
  },
  {
   "cell_type": "markdown",
   "id": "80bdd06f-bb10-4f33-b5f0-66f6b9a4b9af",
   "metadata": {},
   "source": [
    "El valor p empírico es de alrededor del 1% y, por lo tanto, el resultado es estadísticamente significativo. La prueba apoya la hipótesis de que los fumadores eran más jóvenes en promedio."
   ]
  }
 ],
 "metadata": {
  "kernelspec": {
   "display_name": "Python 3 (ipykernel)",
   "language": "python",
   "name": "python3"
  },
  "language_info": {
   "codemirror_mode": {
    "name": "ipython",
    "version": 3
   },
   "file_extension": ".py",
   "mimetype": "text/x-python",
   "name": "python",
   "nbconvert_exporter": "python",
   "pygments_lexer": "ipython3",
   "version": "3.10.14"
  }
 },
 "nbformat": 4,
 "nbformat_minor": 5
}
