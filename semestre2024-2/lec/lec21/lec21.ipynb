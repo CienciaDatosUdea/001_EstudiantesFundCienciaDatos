{
 "cells": [
  {
   "cell_type": "code",
   "execution_count": 380,
   "id": "76840600-71d7-403a-a52c-c22d3f970149",
   "metadata": {},
   "outputs": [],
   "source": [
    "from datascience import *\n",
    "%matplotlib inline\n",
    "import matplotlib.pyplot as plots\n",
    "plots.style.use('fivethirtyeight')\n",
    "import numpy as np\n",
    "import warnings"
   ]
  },
  {
   "cell_type": "markdown",
   "id": "fabecb40-14d1-4776-ac88-eb3cbb12b1b4",
   "metadata": {},
   "source": [
    "## **Pregunta de Discusión: Eficacia de un Nuevo Tratamiento Médico**  \n",
    "\n",
    "### **Contexto del problema:**  \n",
    "- En un ensayo clínico, **200** pacientes fueron tratados con un nuevo fármaco para reducir la presión arterial.  \n",
    "- **91** pacientes lograron una reducción significativa de la presión arterial.  \n",
    "- Se esperaba que el tratamiento tuviera una eficacia del **50%**. Surge la pregunta: ¿Este resultado se debe al azar, o el fármaco es realmente menos efectivo de lo esperado?  \n",
    "\n",
    "### **Hipótesis:**  \n",
    "- **Hipótesis nula (H₀):** El **50%** de los pacientes obtiene una mejora significativa.  \n",
    "- **Hipótesis alternativa (Hₐ):** Menos del **50%** de los pacientes obtiene una mejora significativa.  \n",
    "\n",
    "### **Estadístico de prueba:**  \n",
    "- Número de pacientes, de un total de **200**, que muestran una mejora significativa tras el tratamiento.  \n",
    "\n",
    "### **Valor p:**  \n",
    "- ¿Cuál es el valor p obtenido?  \n",
    "\n",
    "\n",
    "\n",
    "- ¿Qué sucede si cambiamos el número de simulaciones?\n",
    "\n",
    "- ¿Qué sucede si cambiamos el tamano de la muestra, por ejemplo\n",
    "      el doble, 91*2, 200*2?, ¿Qué sucede con el p-value?\n",
    "\n",
    "- ¿qué sucede cuando varían las características de nuestra población?  \n",
    "    por ejemplo si la verdadera poblacion tiene un proporción de  0.45\n",
    "\n",
    "  "
   ]
  }
 ],
 "metadata": {
  "kernelspec": {
   "display_name": "Python 3 (ipykernel)",
   "language": "python",
   "name": "python3"
  },
  "language_info": {
   "codemirror_mode": {
    "name": "ipython",
    "version": 3
   },
   "file_extension": ".py",
   "mimetype": "text/x-python",
   "name": "python",
   "nbconvert_exporter": "python",
   "pygments_lexer": "ipython3",
   "version": "3.10.14"
  }
 },
 "nbformat": 4,
 "nbformat_minor": 5
}
