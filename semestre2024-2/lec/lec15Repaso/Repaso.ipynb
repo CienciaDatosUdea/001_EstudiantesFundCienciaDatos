{
 "cells": [
  {
   "cell_type": "code",
   "execution_count": 58,
   "id": "6bc63e98-9deb-4130-a798-d0e4dd5f2fdc",
   "metadata": {},
   "outputs": [
    {
     "name": "stdout",
     "output_type": "stream",
     "text": [
      "Bienvenidos al curso de fundamentos en ciencia de datos...\n"
     ]
    }
   ],
   "source": [
    "print(\"Bienvenidos al curso de fundamentos en ciencia de datos...\")"
   ]
  },
  {
   "cell_type": "code",
   "execution_count": 151,
   "id": "78e8aab6-eeab-4535-b7e3-95ecaebf3cf5",
   "metadata": {},
   "outputs": [
    {
     "data": {
      "text/plain": [
       "'\\nEsto es un segundo comentario entre comillas\\n'"
      ]
     },
     "execution_count": 151,
     "metadata": {},
     "output_type": "execute_result"
    }
   ],
   "source": [
    "# esto es un comentario empezando con la letra numeral\n",
    "\"\"\"\n",
    "Esto es un segundo comentario entre comillas\n",
    "\"\"\""
   ]
  },
  {
   "cell_type": "markdown",
   "id": "b2d5eae8-294b-455c-98de-9db4a1828f25",
   "metadata": {},
   "source": [
    "Esta es una celda para escribir texto, revisa la parte superior y mira que esta en celda tipo Markdown"
   ]
  },
  {
   "cell_type": "code",
   "execution_count": 152,
   "id": "015312db-6579-475b-9f39-9e9e83a5f25a",
   "metadata": {},
   "outputs": [
    {
     "name": "stdout",
     "output_type": "stream",
     "text": [
      "Esta es una linea de código\n"
     ]
    }
   ],
   "source": [
    "# A diferencia de esta celda donde tenemos una celda tipo codigo \n",
    "print(\"Esta es una linea de código\")"
   ]
  },
  {
   "cell_type": "code",
   "execution_count": 153,
   "id": "d6cd2b6b-39a8-4b20-8485-944a01a30e32",
   "metadata": {},
   "outputs": [
    {
     "data": {
      "text/plain": [
       "2"
      ]
     },
     "execution_count": 153,
     "metadata": {},
     "output_type": "execute_result"
    }
   ],
   "source": [
    "1*2"
   ]
  },
  {
   "cell_type": "code",
   "execution_count": 154,
   "id": "543fd036-5d57-494e-a750-2c031e3217b0",
   "metadata": {},
   "outputs": [],
   "source": [
    "a = 1\n",
    "b = 1.0\n",
    "c = \"hola mundo \""
   ]
  },
  {
   "cell_type": "code",
   "execution_count": 155,
   "id": "f6043ab4-9a52-4437-a7e3-96bc8918df9d",
   "metadata": {},
   "outputs": [
    {
     "data": {
      "text/plain": [
       "int"
      ]
     },
     "execution_count": 155,
     "metadata": {},
     "output_type": "execute_result"
    }
   ],
   "source": [
    "type(a)"
   ]
  },
  {
   "cell_type": "markdown",
   "id": "dc2a1ab6-74b4-4e69-a03e-594f751f9f03",
   "metadata": {},
   "source": [
    "# Comparaciones\n",
    "\n",
    "\n",
    "# Operadores en Python\n",
    "\n",
    "| Operador      | Descripción                                             | Ejemplo                       |\n",
    "| ------------- | ------------------------------------------------------- | ----------------------------- |\n",
    "| `==`          | Igual a: Compara si dos valores son iguales             | `5 == 5` (True)               |\n",
    "| `!=`          | No igual a: Compara si dos valores no son iguales       | `5 != 3` (True)               |\n",
    "| `>`           | Mayor que: Compara si el valor de la izquierda es mayor | `5 > 3` (True)                |\n",
    "| `<`           | Menor que: Compara si el valor de la izquierda es menor | `5 < 3` (False)               |\n",
    "| `>=`          | Mayor o igual que                                        | `5 >= 3` (True)               |\n",
    "| `<=`          | Menor o igual que                                        | `5 <= 5` (True)               |\n",
    "| `and`         | Operador lógico AND: Devuelve True si ambos son True     | `True and False` (False)      |\n",
    "| `or`          | Operador lógico OR: Devuelve True si al menos uno es True| `True or False` (True)        |\n",
    "| `not`         | Operador lógico NOT: Invierte el valor lógico            | `not True` (False)            |\n",
    "| `is`          | Operador de identidad: Compara si dos objetos son el mismo| `x is y`                      |\n",
    "| `in`          | Operador de pertenencia: Comprueba si un valor está en una secuencia | `'a' in 'abc'` (True)  |\n"
   ]
  },
  {
   "cell_type": "code",
   "execution_count": 156,
   "id": "4fdd3970-6420-4d7f-8563-64091f329d32",
   "metadata": {},
   "outputs": [
    {
     "data": {
      "text/plain": [
       "False"
      ]
     },
     "execution_count": 156,
     "metadata": {},
     "output_type": "execute_result"
    }
   ],
   "source": [
    "x = 12\n",
    "y = 8\n",
    "x is y\n",
    "\n",
    "# Ejemplos de python\n",
    "0.3 == 0.1+0.1+0.1"
   ]
  },
  {
   "cell_type": "code",
   "execution_count": 157,
   "id": "62ffaa12-d4cf-4424-b871-9e28ae0842a3",
   "metadata": {},
   "outputs": [],
   "source": [
    "# Librerias y  Funciones"
   ]
  },
  {
   "cell_type": "code",
   "execution_count": 158,
   "id": "6f69d273-8ae1-4d81-81fb-c4b6d1986193",
   "metadata": {},
   "outputs": [],
   "source": [
    "import math"
   ]
  },
  {
   "cell_type": "code",
   "execution_count": 159,
   "id": "4bfffb51-e76e-4586-aa61-43bb9f70da2e",
   "metadata": {},
   "outputs": [
    {
     "data": {
      "text/plain": [
       "3.141592653589793"
      ]
     },
     "execution_count": 159,
     "metadata": {},
     "output_type": "execute_result"
    }
   ],
   "source": [
    "math.pi"
   ]
  },
  {
   "cell_type": "code",
   "execution_count": 160,
   "id": "2d6bd3a5-1704-4f3d-88ca-e4241525f33e",
   "metadata": {},
   "outputs": [],
   "source": [
    "import numpy as np"
   ]
  },
  {
   "cell_type": "code",
   "execution_count": 161,
   "id": "b1b41368-46bc-40f3-9dd8-b3b7b8342212",
   "metadata": {},
   "outputs": [
    {
     "data": {
      "text/plain": [
       "array([0, 1, 2, 3, 4, 5, 6, 7, 8, 9])"
      ]
     },
     "execution_count": 161,
     "metadata": {},
     "output_type": "execute_result"
    }
   ],
   "source": [
    "np.arange(0, 10, 1)"
   ]
  },
  {
   "cell_type": "code",
   "execution_count": 162,
   "id": "1f27b737-a0a9-47a1-ac9c-c81c06cc27d6",
   "metadata": {},
   "outputs": [],
   "source": [
    "from  datascience import *"
   ]
  },
  {
   "cell_type": "code",
   "execution_count": 163,
   "id": "21524456-449d-4f19-b6f9-0ccf229d5b48",
   "metadata": {},
   "outputs": [
    {
     "data": {
      "text/plain": [
       "array([1, 2, 3])"
      ]
     },
     "execution_count": 163,
     "metadata": {},
     "output_type": "execute_result"
    }
   ],
   "source": [
    "make_array(1, 2, 3, )"
   ]
  },
  {
   "cell_type": "code",
   "execution_count": 164,
   "id": "c78c4ffc-036b-4dc7-8b3b-909c5df6b9f1",
   "metadata": {},
   "outputs": [
    {
     "data": {
      "text/plain": [
       "numpy.ndarray"
      ]
     },
     "execution_count": 164,
     "metadata": {},
     "output_type": "execute_result"
    }
   ],
   "source": [
    "# Arreglo de enteros\n",
    "type(make_array(1, 2, 3, ))"
   ]
  },
  {
   "cell_type": "markdown",
   "id": "4b5f08ba-3aa8-4d7c-9cbc-e47e8557d6b0",
   "metadata": {},
   "source": [
    "# Secuencias\n",
    "\n",
    "##  Arreglos"
   ]
  },
  {
   "cell_type": "code",
   "execution_count": 165,
   "id": "0b8bd6fc-5234-48db-82fc-e09e72aaea44",
   "metadata": {},
   "outputs": [
    {
     "data": {
      "text/plain": [
       "array([1, 2, 2, 3])"
      ]
     },
     "execution_count": 165,
     "metadata": {},
     "output_type": "execute_result"
    }
   ],
   "source": [
    "make_array(1, 2,2, 3, )"
   ]
  },
  {
   "cell_type": "code",
   "execution_count": 166,
   "id": "13260b6b-1f22-4eaa-abbe-44bd1ddc46f6",
   "metadata": {},
   "outputs": [],
   "source": [
    "# Multiplicación, división "
   ]
  },
  {
   "cell_type": "code",
   "execution_count": 167,
   "id": "b9ae99bf-dbee-43f3-ba6d-b74508197d32",
   "metadata": {},
   "outputs": [
    {
     "data": {
      "text/plain": [
       "numpy.ndarray"
      ]
     },
     "execution_count": 167,
     "metadata": {},
     "output_type": "execute_result"
    }
   ],
   "source": [
    "type(make_array(1, 2,2, 3, ))"
   ]
  },
  {
   "cell_type": "code",
   "execution_count": 168,
   "id": "fcf62849-d2a0-4b45-9d1a-bf131132fb88",
   "metadata": {},
   "outputs": [],
   "source": [
    "temperatura = make_array(23, 25, 26, 28, )"
   ]
  },
  {
   "cell_type": "markdown",
   "id": "286c6feb-eee4-465d-8cb3-56e0e3c4d597",
   "metadata": {},
   "source": [
    "Pasemos los valores de temperatura a kelvin"
   ]
  },
  {
   "cell_type": "code",
   "execution_count": 169,
   "id": "5feceda2-d9ee-4e95-a50d-32b82ca73d50",
   "metadata": {},
   "outputs": [
    {
     "data": {
      "text/plain": [
       "array([296, 298, 299, 301])"
      ]
     },
     "execution_count": 169,
     "metadata": {},
     "output_type": "execute_result"
    }
   ],
   "source": [
    "temperatura + 273 "
   ]
  },
  {
   "cell_type": "code",
   "execution_count": 170,
   "id": "dc50377f-2d46-4354-a6d8-6b3d8e8d1925",
   "metadata": {},
   "outputs": [],
   "source": [
    "q = make_array(\"hola\", \"mundo\")"
   ]
  },
  {
   "cell_type": "code",
   "execution_count": 171,
   "id": "707dff2b-7a1c-4086-a66b-c36b0dbc857e",
   "metadata": {},
   "outputs": [
    {
     "data": {
      "text/plain": [
       "array(['HOLA', 'MUNDO'],\n",
       "      dtype='<U5')"
      ]
     },
     "execution_count": 171,
     "metadata": {},
     "output_type": "execute_result"
    }
   ],
   "source": [
    "# Arreglo de string\n",
    "\n",
    "var = make_array(\"hola\", \"mundo\")\n",
    "np.char.upper(var)"
   ]
  },
  {
   "cell_type": "markdown",
   "id": "4a2a9fe0-98b2-44ea-a361-40f71adc44cc",
   "metadata": {},
   "source": [
    "## Funciones sobre arreglos\n",
    "\n",
    "Tomado de [data 8 book](https://inferentialthinking.com/chapters/05/1/Arrays.html)\n",
    "\n",
    "## Tabla 1: Funciones de agregación\n",
    "\n",
    "| Función           | Descripción                                                     |\n",
    "|-------------------|-----------------------------------------------------------------|\n",
    "| `np.prod`         | Multiplica todos los elementos                                  |\n",
    "| `np.sum`          | Suma todos los elementos                                        |\n",
    "| `np.all`          | Verifica si todos los elementos son verdaderos (números diferentes de 0 son verdaderos) |\n",
    "| `np.any`          | Verifica si alguno de los elementos es verdadero (números diferentes de 0 son verdaderos) |\n",
    "| `np.count_nonzero`| Cuenta el número de elementos diferentes de cero                |\n",
    "\n",
    "\n",
    "\n",
    "## Tabla 2: Funciones de transformación numérica\n",
    "\n",
    "| Función           | Descripción                                                     |\n",
    "|-------------------|-----------------------------------------------------------------|\n",
    "| `np.diff`         | Diferencia entre elementos adyacentes                            |\n",
    "| `np.round`        | Redondea cada número al entero más cercano                       |\n",
    "| `np.cumprod`      | Producto acumulado: para cada elemento, multiplica todos los elementos hasta ese punto |\n",
    "| `np.cumsum`       | Suma acumulada: para cada elemento, suma todos los elementos hasta ese punto |\n",
    "| `np.exp`          | Eleva cada elemento a la exponencial                             |\n",
    "| `np.log`          | Aplica el logaritmo natural a cada elemento                      |\n",
    "| `np.sqrt`         | Calcula la raíz cuadrada de cada elemento                        |\n",
    "| `np.sort`         | Ordena los elementos                                             |\n",
    "\n",
    "\n",
    "## Tabla 3: Funciones para manipulación de strings\n",
    "\n",
    "| Función            | Descripción                                                    |\n",
    "|--------------------|----------------------------------------------------------------|\n",
    "| `np.char.lower`     | Convierte cada elemento a minúsculas                           |\n",
    "| `np.char.upper`     | Convierte cada elemento a mayúsculas                           |\n",
    "| `np.char.strip`     | Elimina espacios al principio o al final de cada elemento      |\n",
    "| `np.char.isalpha`   | Verifica si cada elemento contiene solo letras (sin números ni símbolos) |\n",
    "| `np.char.isnumeric` | Verifica si cada elemento contiene solo números (sin letras)   |\n",
    "\n",
    "\n",
    "\n",
    "## Tabla 4: Funciones de búsqueda en strings\n",
    "\n",
    "| Función             | Descripción                                                  |\n",
    "|---------------------|--------------------------------------------------------------|\n",
    "| `np.char.count`      | Cuenta cuántas veces aparece una cadena de búsqueda en los elementos del arreglo |\n",
    "| `np.char.find`       | Devuelve la posición en la que se encuentra la cadena de búsqueda por primera vez en cada elemento |\n",
    "| `np.char.rfind`      | Devuelve la posición en la que se encuentra la cadena de búsqueda por última vez en cada elemento |\n",
    "| `np.char.startswith` | Verifica si cada elemento comienza con la cadena de búsqueda |\n"
   ]
  },
  {
   "cell_type": "code",
   "execution_count": 79,
   "id": "1fc88242-7d1e-4d14-a556-9a1e614e0974",
   "metadata": {},
   "outputs": [],
   "source": [
    "import numpy as np"
   ]
  },
  {
   "cell_type": "code",
   "execution_count": 80,
   "id": "33c7c996-28d2-41a1-bf03-1b2397235be1",
   "metadata": {},
   "outputs": [
    {
     "data": {
      "text/plain": [
       "array([Ellipsis], dtype=object)"
      ]
     },
     "execution_count": 80,
     "metadata": {},
     "output_type": "execute_result"
    }
   ],
   "source": [
    "make_array(...)"
   ]
  },
  {
   "cell_type": "code",
   "execution_count": 81,
   "id": "5b57759c-f2b6-4b8c-9f9d-b9ef83147b38",
   "metadata": {},
   "outputs": [
    {
     "data": {
      "text/plain": [
       "array(['POR LA', 'LIBERTAD'],\n",
       "      dtype='<U8')"
      ]
     },
     "execution_count": 81,
     "metadata": {},
     "output_type": "execute_result"
    }
   ],
   "source": [
    "q=make_array(\"por la\", \"libertad\")\n",
    "np.char.upper(q)"
   ]
  },
  {
   "cell_type": "markdown",
   "id": "6032220c-f273-4266-a35d-79b18798f11d",
   "metadata": {},
   "source": [
    "# Aumento de la presión con la profundidad\n",
    "\n",
    "Al bucear, la presión experimentada aumenta a medida que se incrementa la profundidad. Este aumento de presión puede modelarse con la siguiente ecuación:\n",
    "\n",
    "\\begin{equation}\n",
    "P = P_0 + \\rho g h\n",
    "\\end{equation}\n",
    "\n",
    "Donde:\n",
    "- $P$ es la presión total a una determinada profundidad.\n",
    "- $P_0$ es la presión atmosférica a nivel del mar: 1atm es 101.325 pascales (Pa)\n",
    "- $\\rho$ es la densidad del agua (aproximadamente 1000 kg/m³ para agua dulce).\n",
    "- $g$ es la aceleración gravitacional (aproximadamente 9.81 m/s²).\n",
    "- $h$ es la profundidad en metros.\n",
    "\n",
    "Calcular la presión en atmósferas para las siguientes profundidades:\n",
    "\n",
    "```\n",
    "h = 0, 10, 20, 30, 40, 50 m\n",
    "```\n",
    "\n",
    "Determinar el aumento diferencial de presión, es decir hacer el cálculo de la diferencia entre el primer y segundo valor, entre el tercero y segundo y asi sucesivamente: emplea `np.diff`\n"
   ]
  },
  {
   "cell_type": "code",
   "execution_count": 82,
   "id": "993a9523-bb19-4569-9f22-cf2388652201",
   "metadata": {},
   "outputs": [
    {
     "data": {
      "text/plain": [
       "array([10, 10, 10, 10, 10])"
      ]
     },
     "execution_count": 82,
     "metadata": {},
     "output_type": "execute_result"
    }
   ],
   "source": [
    "h = make_array(0, 10, 20, 30, 40, 50)\n",
    "np.diff(h)"
   ]
  },
  {
   "cell_type": "code",
   "execution_count": 83,
   "id": "e6a60e36-fc26-4470-b403-d6dcdeb9146d",
   "metadata": {},
   "outputs": [
    {
     "data": {
      "text/plain": [
       "4.0"
      ]
     },
     "execution_count": 83,
     "metadata": {},
     "output_type": "execute_result"
    }
   ],
   "source": [
    "notas = make_array(2.5, 4.5, 5.0)\n",
    "promedio = np.sum(notas)/len(notas)\n",
    "promedio"
   ]
  },
  {
   "cell_type": "code",
   "execution_count": 84,
   "id": "26a287d6-d117-41e3-be28-a5e97fd3d577",
   "metadata": {},
   "outputs": [
    {
     "data": {
      "text/plain": [
       "4.0"
      ]
     },
     "execution_count": 84,
     "metadata": {},
     "output_type": "execute_result"
    }
   ],
   "source": [
    "promedio = np.mean(notas)\n",
    "promedio"
   ]
  },
  {
   "cell_type": "markdown",
   "id": "9097eef3-23d5-454d-8a46-107f44e329da",
   "metadata": {},
   "source": [
    "# Rangos"
   ]
  },
  {
   "cell_type": "code",
   "execution_count": 87,
   "id": "e4d25a9d-9c06-49cf-8808-eb7a2475ebdd",
   "metadata": {},
   "outputs": [
    {
     "data": {
      "text/plain": [
       "array([0, 1, 2, 3, 4])"
      ]
     },
     "execution_count": 87,
     "metadata": {},
     "output_type": "execute_result"
    }
   ],
   "source": [
    "u = np.arange(5)\n",
    "u"
   ]
  },
  {
   "cell_type": "code",
   "execution_count": 88,
   "id": "ec55bb60-ddd4-4507-a9ed-dbaad772499d",
   "metadata": {},
   "outputs": [
    {
     "data": {
      "text/plain": [
       "2"
      ]
     },
     "execution_count": 88,
     "metadata": {},
     "output_type": "execute_result"
    }
   ],
   "source": [
    "u.take(2)"
   ]
  },
  {
   "cell_type": "markdown",
   "id": "0400a1c2-20c0-4082-acb1-053c15cc7bb3",
   "metadata": {},
   "source": [
    "## Leibniz's Formula for Pi\n",
    "\n",
    "La fórmula de Leibniz para calcular $\\pi$ es una serie infinita alternada que converge hacia $\\pi$ cuando se multiplica por 4. Se puede expresar de la siguiente manera:\n",
    "\n",
    "\\begin{equation}\n",
    "\\frac{\\pi}{4} = 1 - \\frac{1}{3} + \\frac{1}{5} - \\frac{1}{7} + \\frac{1}{9} - \\frac{1}{11} + \\cdots\n",
    "\\end{equation}\n",
    "\n",
    "También se puede reorganizar la fórmula separando los términos positivos y negativos en dos series distintas:\n",
    "\n",
    "\\begin{equation}\n",
    "\\frac{\\pi}{4} = \\left( 1 + \\frac{1}{5} + \\frac{1}{9} + \\cdots \\right) - \\left( \\frac{1}{3} + \\frac{1}{7} + \\frac{1}{11} + \\cdots \\right)\n",
    "\\end{equation}\n",
    "\n",
    "Esta fórmula es una representación elegante de $\\pi$,  aunque su convergencia es relativamente lenta.\n",
    "\n",
    "¿Calcular el valor de pi?"
   ]
  },
  {
   "cell_type": "code",
   "execution_count": 110,
   "id": "b4d32115-b131-4372-b952-8e36358d00ee",
   "metadata": {},
   "outputs": [
    {
     "data": {
      "text/plain": [
       "3.1215946525910097"
      ]
     },
     "execution_count": 110,
     "metadata": {},
     "output_type": "execute_result"
    }
   ],
   "source": [
    "N=100\n",
    "val1 = np.arange(1, N, 4)\n",
    "val2 = np.arange(3, N, 4)\n",
    "(np.sum(1/val1)- np.sum(1/val2))*4"
   ]
  },
  {
   "cell_type": "code",
   "execution_count": 111,
   "id": "b77359cd-57d8-4554-aeb0-e84951296c9b",
   "metadata": {},
   "outputs": [
    {
     "data": {
      "text/plain": [
       "3.141392653591792"
      ]
     },
     "execution_count": 111,
     "metadata": {},
     "output_type": "execute_result"
    }
   ],
   "source": [
    "funcion_calculo_pi(10000)"
   ]
  },
  {
   "cell_type": "markdown",
   "id": "10677563-a401-480f-80e4-6c09522b0617",
   "metadata": {},
   "source": [
    "#  Repaso de tablas"
   ]
  },
  {
   "cell_type": "markdown",
   "id": "9be8a5db-d803-4e98-a81f-6fda1e76408b",
   "metadata": {},
   "source": [
    "| **Método**                                  | **Descripción**                                                                 |\n",
    "|---------------------------------------------|---------------------------------------------------------------------------------|\n",
    "| `Table.read_table(file_path)`               | Lee un archivo CSV y devuelve una tabla.                                        |\n",
    "| `table.show(n)`                             | Muestra las primeras `n` filas de la tabla.                                     |\n",
    "| `table.with_columns(column1, values1, ...)` | Agrega una o más columnas nuevas a la tabla.                                    |\n",
    "| `table.column(column_name)`                 | Devuelve los valores de una columna como un array de Numpy.                     |\n",
    "| `table.num_columns()`                       | Devuelve el número de columnas en la tabla.                                     |\n",
    "| `table.num_rows()`                          | Devuelve el número de filas en la tabla.                                        |\n",
    "| `table.select(column_name1, column_name2)`  | Selecciona y devuelve una tabla con solo las columnas indicadas.                |\n",
    "| `table.drop(column_name1, column_name2)`    | Elimina las columnas especificadas y devuelve una tabla nueva.                  |\n",
    "| `table.where(column_name, predicate)`       | Filtra las filas según una condición en una columna específica.                 |\n",
    "| `table.sort(column_name, descending=False)` | Ordena la tabla por una columna en orden ascendente o descendente.              |\n"
   ]
  },
  {
   "cell_type": "markdown",
   "id": "a4c81a47-f6f5-4d80-838a-674cb969673f",
   "metadata": {},
   "source": [
    "## Creacion de una tabla \n",
    "Supongamos que queremos construir una tabla con las distancia al sol,  y la masa de cada planeta.\n",
    "\n",
    "| Planeta    | Distancia al Sol (UA) | Masa (Unidades de masas terrestres) |\n",
    "|------------|-----------------------|-------------------------------------|\n",
    "| Mercurio   | 0.39                  | 0.055                              |\n",
    "| Venus      | 0.72                  | 0.815                              |\n",
    "| Tierra     | 1.00                  | 1.000                              |\n",
    "| Marte      | 1.52                  | 0.107                              |\n",
    "| Júpiter    | 5.20                  | 317.8                              |\n",
    "| Saturno    | 9.58                  | 95.2                               |\n",
    "| Urano      | 19.22                 | 14.5                               |\n",
    "| Neptuno    | 30.05                 | 17.1                               |\n",
    "\n",
    "Nota:  \n",
    "- 1 UA ≈ 149.6 millones de kilómetros\n",
    "- 5.97 × 10²⁴ kilogramos.\n",
    "\n",
    "Las siguientes celdas contiene la informaciòn par no copiar todos los datos: \n",
    "\n",
    "```python \n",
    "distancias_ua = [0.39, 0.72, 1.00, 1.52, 5.20, 9.58, 19.22, 30.05]\n",
    "```\n",
    "\n",
    "```python \n",
    "masas_terrestres = [0.055, 0.815, 1.000, 0.107, 317.8, 95.2, 14.5, 17.1]\n",
    "```"
   ]
  },
  {
   "cell_type": "code",
   "execution_count": 51,
   "id": "b3f4357b-f01d-415a-91c0-a4f986e64b4f",
   "metadata": {},
   "outputs": [],
   "source": [
    "from  datascience import * "
   ]
  },
  {
   "cell_type": "code",
   "execution_count": 70,
   "id": "5faf87a1-d933-4707-835c-50a44f630eff",
   "metadata": {},
   "outputs": [
    {
     "data": {
      "text/html": [
       "<table border=\"1\" class=\"dataframe\">\n",
       "    <thead>\n",
       "        <tr>\n",
       "            <th>Planeta</th> <th>DistanciaSol</th> <th>Masa</th>\n",
       "        </tr>\n",
       "    </thead>\n",
       "    <tbody>\n",
       "        <tr>\n",
       "            <td>Mercurio</td> <td>0.39        </td> <td>0.055</td>\n",
       "        </tr>\n",
       "        <tr>\n",
       "            <td>Venus   </td> <td>0.72        </td> <td>0.815</td>\n",
       "        </tr>\n",
       "        <tr>\n",
       "            <td>Tierra  </td> <td>1           </td> <td>1    </td>\n",
       "        </tr>\n",
       "        <tr>\n",
       "            <td>Marte   </td> <td>1.52        </td> <td>0.107</td>\n",
       "        </tr>\n",
       "        <tr>\n",
       "            <td>Júpiter </td> <td>5.2         </td> <td>317.8</td>\n",
       "        </tr>\n",
       "        <tr>\n",
       "            <td>Saturno </td> <td>9.58        </td> <td>95.2 </td>\n",
       "        </tr>\n",
       "        <tr>\n",
       "            <td>Urano   </td> <td>19.22       </td> <td>14.5 </td>\n",
       "        </tr>\n",
       "        <tr>\n",
       "            <td>Neptuno </td> <td>30.05       </td> <td>17.1 </td>\n",
       "        </tr>\n",
       "    </tbody>\n",
       "</table>"
      ],
      "text/plain": [
       "Planeta  | DistanciaSol | Masa\n",
       "Mercurio | 0.39         | 0.055\n",
       "Venus    | 0.72         | 0.815\n",
       "Tierra   | 1            | 1\n",
       "Marte    | 1.52         | 0.107\n",
       "Júpiter  | 5.2          | 317.8\n",
       "Saturno  | 9.58         | 95.2\n",
       "Urano    | 19.22        | 14.5\n",
       "Neptuno  | 30.05        | 17.1"
      ]
     },
     "execution_count": 70,
     "metadata": {},
     "output_type": "execute_result"
    }
   ],
   "source": [
    "# Construyendo la tabla\n",
    "Table().with_columns([\"Planeta\", [\"Mercurio\", \"Venus\", \"Tierra\", \"Marte\", \"Júpiter\", \"Saturno\", \"Urano\", \"Neptuno\"],\n",
    "                      \"DistanciaSol\", [0.39, 0.72, 1.00, 1.52, 5.20, 9.58, 19.22, 30.05],\n",
    "                      \"Masa\", [0.055, 0.815, 1.000, 0.107, 317.8, 95.2, 14.5, 17.1],                     \n",
    "                     ])\n"
   ]
  },
  {
   "cell_type": "code",
   "execution_count": 113,
   "id": "5ede9570-ef6c-4a76-ac15-7f5af1d0c68f",
   "metadata": {},
   "outputs": [],
   "source": [
    "# Almacenado la tabla en una variable\n",
    "planetas=Table().with_columns([\"Nombre\", [\"Mercurio\", \"Venus\", \"Tierra\", \"Marte\", \"Júpiter\", \"Saturno\", \"Urano\", \"Neptuno\"],\n",
    "                      \"DistanciaSol\", [0.39, 0.72, 1.00, 1.52, 5.20, 9.58, 19.22, 30.05],\n",
    "                      \"Masa\", [0.39, 0.72, 1.00, 1.52, 5.20, 9.58, 19.22, 30.05],                     \n",
    "                     ])"
   ]
  },
  {
   "cell_type": "markdown",
   "id": "6c5748ec-7cbc-47f4-8b41-6f2d4777f528",
   "metadata": {},
   "source": [
    "## table.take"
   ]
  },
  {
   "cell_type": "code",
   "execution_count": 133,
   "id": "4a2929ba-d304-4c5b-8405-861a058f3fa4",
   "metadata": {},
   "outputs": [
    {
     "data": {
      "text/html": [
       "<table border=\"1\" class=\"dataframe\">\n",
       "    <thead>\n",
       "        <tr>\n",
       "            <th>Nombre</th> <th>DistanciaSol</th> <th>Masa</th>\n",
       "        </tr>\n",
       "    </thead>\n",
       "    <tbody>\n",
       "        <tr>\n",
       "            <td>Mercurio</td> <td>0.39        </td> <td>0.39</td>\n",
       "        </tr>\n",
       "        <tr>\n",
       "            <td>Tierra  </td> <td>1           </td> <td>1   </td>\n",
       "        </tr>\n",
       "    </tbody>\n",
       "</table>"
      ],
      "text/plain": [
       "Nombre   | DistanciaSol | Masa\n",
       "Mercurio | 0.39         | 0.39\n",
       "Tierra   | 1            | 1"
      ]
     },
     "execution_count": 133,
     "metadata": {},
     "output_type": "execute_result"
    }
   ],
   "source": [
    "planetas.take([0,2])"
   ]
  },
  {
   "cell_type": "code",
   "execution_count": 137,
   "id": "2524efab-a57f-42a3-820b-d38271d035e6",
   "metadata": {},
   "outputs": [
    {
     "data": {
      "text/html": [
       "<table border=\"1\" class=\"dataframe\">\n",
       "    <thead>\n",
       "        <tr>\n",
       "            <th>Nombre</th> <th>DistanciaSol</th> <th>Masa</th>\n",
       "        </tr>\n",
       "    </thead>\n",
       "    <tbody>\n",
       "        <tr>\n",
       "            <td>Mercurio</td> <td>0.39        </td> <td>0.39</td>\n",
       "        </tr>\n",
       "        <tr>\n",
       "            <td>Venus   </td> <td>0.72        </td> <td>0.72</td>\n",
       "        </tr>\n",
       "    </tbody>\n",
       "</table>\n",
       "<p>... (6 rows omitted)</p>"
      ],
      "text/plain": [
       "<IPython.core.display.HTML object>"
      ]
     },
     "metadata": {},
     "output_type": "display_data"
    }
   ],
   "source": [
    "planetas.show(2)"
   ]
  },
  {
   "cell_type": "code",
   "execution_count": 138,
   "id": "ba64740b-a037-4eae-8df1-cb557bed6afa",
   "metadata": {},
   "outputs": [
    {
     "data": {
      "text/html": [
       "<table border=\"1\" class=\"dataframe\">\n",
       "    <thead>\n",
       "        <tr>\n",
       "            <th>Nombre</th>\n",
       "        </tr>\n",
       "    </thead>\n",
       "    <tbody>\n",
       "        <tr>\n",
       "            <td>Mercurio</td>\n",
       "        </tr>\n",
       "        <tr>\n",
       "            <td>Venus   </td>\n",
       "        </tr>\n",
       "        <tr>\n",
       "            <td>Tierra  </td>\n",
       "        </tr>\n",
       "        <tr>\n",
       "            <td>Marte   </td>\n",
       "        </tr>\n",
       "        <tr>\n",
       "            <td>Júpiter </td>\n",
       "        </tr>\n",
       "        <tr>\n",
       "            <td>Saturno </td>\n",
       "        </tr>\n",
       "        <tr>\n",
       "            <td>Urano   </td>\n",
       "        </tr>\n",
       "        <tr>\n",
       "            <td>Neptuno </td>\n",
       "        </tr>\n",
       "    </tbody>\n",
       "</table>"
      ],
      "text/plain": [
       "Nombre\n",
       "Mercurio\n",
       "Venus\n",
       "Tierra\n",
       "Marte\n",
       "Júpiter\n",
       "Saturno\n",
       "Urano\n",
       "Neptuno"
      ]
     },
     "execution_count": 138,
     "metadata": {},
     "output_type": "execute_result"
    }
   ],
   "source": [
    "planetas.select(\"Nombre\")"
   ]
  },
  {
   "cell_type": "code",
   "execution_count": 139,
   "id": "8127cf52-d943-4ee1-a7f4-8f740f0e9a2f",
   "metadata": {},
   "outputs": [
    {
     "data": {
      "text/plain": [
       "('Nombre', 'DistanciaSol', 'Masa')"
      ]
     },
     "execution_count": 139,
     "metadata": {},
     "output_type": "execute_result"
    }
   ],
   "source": [
    "planetas.labels"
   ]
  },
  {
   "cell_type": "code",
   "execution_count": 140,
   "id": "32f40900-113b-43d9-a0d2-3246941e3552",
   "metadata": {},
   "outputs": [
    {
     "data": {
      "text/plain": [
       "Rows(Nombre   | DistanciaSol | Masa\n",
       "Mercurio | 0.39         | 0.39\n",
       "Venus    | 0.72         | 0.72\n",
       "Tierra   | 1            | 1\n",
       "Marte    | 1.52         | 1.52\n",
       "Júpiter  | 5.2          | 5.2\n",
       "Saturno  | 9.58         | 9.58\n",
       "Urano    | 19.22        | 19.22\n",
       "Neptuno  | 30.05        | 30.05)"
      ]
     },
     "execution_count": 140,
     "metadata": {},
     "output_type": "execute_result"
    }
   ],
   "source": [
    "planetas.rows"
   ]
  },
  {
   "cell_type": "code",
   "execution_count": 141,
   "id": "3a905118-9a08-40d0-8ed0-0aceebe0d926",
   "metadata": {},
   "outputs": [
    {
     "data": {
      "text/plain": [
       "3"
      ]
     },
     "execution_count": 141,
     "metadata": {},
     "output_type": "execute_result"
    }
   ],
   "source": [
    "len(planetas)"
   ]
  },
  {
   "cell_type": "code",
   "execution_count": 142,
   "id": "2988296b-dd1d-452d-b332-c1d9540132ea",
   "metadata": {},
   "outputs": [
    {
     "data": {
      "text/html": [
       "<table border=\"1\" class=\"dataframe\">\n",
       "    <thead>\n",
       "        <tr>\n",
       "            <th>Nombre</th> <th>DistanciaSol</th> <th>Masa</th>\n",
       "        </tr>\n",
       "    </thead>\n",
       "    <tbody>\n",
       "        <tr>\n",
       "            <td>Mercurio</td> <td>0.39        </td> <td>0.39 </td>\n",
       "        </tr>\n",
       "        <tr>\n",
       "            <td>Venus   </td> <td>0.72        </td> <td>0.72 </td>\n",
       "        </tr>\n",
       "        <tr>\n",
       "            <td>Tierra  </td> <td>1           </td> <td>1    </td>\n",
       "        </tr>\n",
       "        <tr>\n",
       "            <td>Marte   </td> <td>1.52        </td> <td>1.52 </td>\n",
       "        </tr>\n",
       "        <tr>\n",
       "            <td>Júpiter </td> <td>5.2         </td> <td>5.2  </td>\n",
       "        </tr>\n",
       "        <tr>\n",
       "            <td>Saturno </td> <td>9.58        </td> <td>9.58 </td>\n",
       "        </tr>\n",
       "        <tr>\n",
       "            <td>Urano   </td> <td>19.22       </td> <td>19.22</td>\n",
       "        </tr>\n",
       "        <tr>\n",
       "            <td>Neptuno </td> <td>30.05       </td> <td>30.05</td>\n",
       "        </tr>\n",
       "    </tbody>\n",
       "</table>"
      ],
      "text/plain": [
       "Nombre   | DistanciaSol | Masa\n",
       "Mercurio | 0.39         | 0.39\n",
       "Venus    | 0.72         | 0.72\n",
       "Tierra   | 1            | 1\n",
       "Marte    | 1.52         | 1.52\n",
       "Júpiter  | 5.2          | 5.2\n",
       "Saturno  | 9.58         | 9.58\n",
       "Urano    | 19.22        | 19.22\n",
       "Neptuno  | 30.05        | 30.05"
      ]
     },
     "execution_count": 142,
     "metadata": {},
     "output_type": "execute_result"
    }
   ],
   "source": [
    "planetas.sort(\"Masa\", descending=False)"
   ]
  },
  {
   "cell_type": "code",
   "execution_count": 143,
   "id": "fcde5450-8098-4cda-96f5-a8404a49ac63",
   "metadata": {},
   "outputs": [
    {
     "data": {
      "text/html": [
       "<table border=\"1\" class=\"dataframe\">\n",
       "    <thead>\n",
       "        <tr>\n",
       "            <th>Nombre</th> <th>DistanciaSol</th>\n",
       "        </tr>\n",
       "    </thead>\n",
       "    <tbody>\n",
       "        <tr>\n",
       "            <td>Mercurio</td> <td>0.39        </td>\n",
       "        </tr>\n",
       "        <tr>\n",
       "            <td>Venus   </td> <td>0.72        </td>\n",
       "        </tr>\n",
       "        <tr>\n",
       "            <td>Tierra  </td> <td>1           </td>\n",
       "        </tr>\n",
       "        <tr>\n",
       "            <td>Marte   </td> <td>1.52        </td>\n",
       "        </tr>\n",
       "        <tr>\n",
       "            <td>Júpiter </td> <td>5.2         </td>\n",
       "        </tr>\n",
       "        <tr>\n",
       "            <td>Saturno </td> <td>9.58        </td>\n",
       "        </tr>\n",
       "        <tr>\n",
       "            <td>Urano   </td> <td>19.22       </td>\n",
       "        </tr>\n",
       "        <tr>\n",
       "            <td>Neptuno </td> <td>30.05       </td>\n",
       "        </tr>\n",
       "    </tbody>\n",
       "</table>"
      ],
      "text/plain": [
       "Nombre   | DistanciaSol\n",
       "Mercurio | 0.39\n",
       "Venus    | 0.72\n",
       "Tierra   | 1\n",
       "Marte    | 1.52\n",
       "Júpiter  | 5.2\n",
       "Saturno  | 9.58\n",
       "Urano    | 19.22\n",
       "Neptuno  | 30.05"
      ]
     },
     "execution_count": 143,
     "metadata": {},
     "output_type": "execute_result"
    }
   ],
   "source": [
    "planetas.drop(\"Masa\")"
   ]
  },
  {
   "cell_type": "markdown",
   "id": "516cc4ce-6976-4b9f-870f-7fa9d5d55b19",
   "metadata": {},
   "source": [
    "# Lectura de tablas\n",
    "\n",
    "1. Muestra los 10 primeros valores de la tabla\n",
    "\n",
    "2. Selecciona las columnas \"Animal\" y \"Velocidad Promedio (km/h)\"\n",
    "\n",
    "3. Determina el animal que tiene mayor peso\n"
   ]
  },
  {
   "cell_type": "code",
   "execution_count": 144,
   "id": "d2718c39-d0f2-43a8-8af4-c35289edbe37",
   "metadata": {},
   "outputs": [
    {
     "data": {
      "text/html": [
       "<table border=\"1\" class=\"dataframe\">\n",
       "    <thead>\n",
       "        <tr>\n",
       "            <th>Unnamed: 0</th> <th>Animal</th> <th>Altura (cm)</th> <th>Peso (kg)</th> <th>Velocidad Promedio (km/h)</th>\n",
       "        </tr>\n",
       "    </thead>\n",
       "    <tbody>\n",
       "        <tr>\n",
       "            <td>0         </td> <td>Cerdo Hormiguero          </td> <td>117.5      </td> <td>52.5     </td> <td>40                       </td>\n",
       "        </tr>\n",
       "        <tr>\n",
       "            <td>1         </td> <td>Lobo Terrícola            </td> <td>45         </td> <td>11       </td> <td>27                       </td>\n",
       "        </tr>\n",
       "        <tr>\n",
       "            <td>2         </td> <td>Elefante Africano         </td> <td>290        </td> <td>4350     </td> <td>25                       </td>\n",
       "        </tr>\n",
       "        <tr>\n",
       "            <td>3         </td> <td>León Africano             </td> <td>95         </td> <td>185      </td> <td>58                       </td>\n",
       "        </tr>\n",
       "        <tr>\n",
       "            <td>4         </td> <td>Perro Salvaje Africano    </td> <td>77.5       </td> <td>27       </td> <td>56                       </td>\n",
       "        </tr>\n",
       "        <tr>\n",
       "            <td>5         </td> <td>Íbice Alpino              </td> <td>84         </td> <td>69.5     </td> <td>60                       </td>\n",
       "        </tr>\n",
       "        <tr>\n",
       "            <td>6         </td> <td>Rana de la Selva Amazónica</td> <td>7.5        </td> <td>0        </td> <td>0.55                     </td>\n",
       "        </tr>\n",
       "        <tr>\n",
       "            <td>7         </td> <td>Bisonte Americano         </td> <td>169        </td> <td>nan      </td> <td>48                       </td>\n",
       "        </tr>\n",
       "        <tr>\n",
       "            <td>8         </td> <td>Oso Hormiguero            </td> <td>71.5       </td> <td>31.5     </td> <td>24                       </td>\n",
       "        </tr>\n",
       "        <tr>\n",
       "            <td>9         </td> <td>Caballo Árabe             </td> <td>150        </td> <td>690      </td> <td>65                       </td>\n",
       "        </tr>\n",
       "    </tbody>\n",
       "</table>\n",
       "<p>... (168 rows omitted)</p>"
      ],
      "text/plain": [
       "Unnamed: 0 | Animal                     | Altura (cm) | Peso (kg) | Velocidad Promedio (km/h)\n",
       "0          | Cerdo Hormiguero           | 117.5       | 52.5      | 40\n",
       "1          | Lobo Terrícola             | 45          | 11        | 27\n",
       "2          | Elefante Africano          | 290         | 4350      | 25\n",
       "3          | León Africano              | 95          | 185       | 58\n",
       "4          | Perro Salvaje Africano     | 77.5        | 27        | 56\n",
       "5          | Íbice Alpino               | 84          | 69.5      | 60\n",
       "6          | Rana de la Selva Amazónica | 7.5         | 0         | 0.55\n",
       "7          | Bisonte Americano          | 169         | nan       | 48\n",
       "8          | Oso Hormiguero             | 71.5        | 31.5      | 24\n",
       "9          | Caballo Árabe              | 150         | 690       | 65\n",
       "... (168 rows omitted)"
      ]
     },
     "execution_count": 144,
     "metadata": {},
     "output_type": "execute_result"
    }
   ],
   "source": [
    "animals = Table().read_table(\"Animales.csv\")\n",
    "animals"
   ]
  },
  {
   "cell_type": "code",
   "execution_count": 145,
   "id": "82dffeb8-9557-423a-a6cf-cd1a7d5075e9",
   "metadata": {},
   "outputs": [
    {
     "data": {
      "text/html": [
       "<table border=\"1\" class=\"dataframe\">\n",
       "    <thead>\n",
       "        <tr>\n",
       "            <th>Animal</th> <th>Altura (cm)</th> <th>Peso (kg)</th> <th>Velocidad Promedio (km/h)</th>\n",
       "        </tr>\n",
       "    </thead>\n",
       "    <tbody>\n",
       "        <tr>\n",
       "            <td>Cerdo Hormiguero          </td> <td>117.5      </td> <td>52.5     </td> <td>40                       </td>\n",
       "        </tr>\n",
       "        <tr>\n",
       "            <td>Lobo Terrícola            </td> <td>45         </td> <td>11       </td> <td>27                       </td>\n",
       "        </tr>\n",
       "        <tr>\n",
       "            <td>Elefante Africano         </td> <td>290        </td> <td>4350     </td> <td>25                       </td>\n",
       "        </tr>\n",
       "        <tr>\n",
       "            <td>León Africano             </td> <td>95         </td> <td>185      </td> <td>58                       </td>\n",
       "        </tr>\n",
       "        <tr>\n",
       "            <td>Perro Salvaje Africano    </td> <td>77.5       </td> <td>27       </td> <td>56                       </td>\n",
       "        </tr>\n",
       "        <tr>\n",
       "            <td>Íbice Alpino              </td> <td>84         </td> <td>69.5     </td> <td>60                       </td>\n",
       "        </tr>\n",
       "        <tr>\n",
       "            <td>Rana de la Selva Amazónica</td> <td>7.5        </td> <td>0        </td> <td>0.55                     </td>\n",
       "        </tr>\n",
       "        <tr>\n",
       "            <td>Bisonte Americano         </td> <td>169        </td> <td>nan      </td> <td>48                       </td>\n",
       "        </tr>\n",
       "        <tr>\n",
       "            <td>Oso Hormiguero            </td> <td>71.5       </td> <td>31.5     </td> <td>24                       </td>\n",
       "        </tr>\n",
       "        <tr>\n",
       "            <td>Caballo Árabe             </td> <td>150        </td> <td>690      </td> <td>65                       </td>\n",
       "        </tr>\n",
       "    </tbody>\n",
       "</table>\n",
       "<p>... (168 rows omitted)</p>"
      ],
      "text/plain": [
       "Animal                     | Altura (cm) | Peso (kg) | Velocidad Promedio (km/h)\n",
       "Cerdo Hormiguero           | 117.5       | 52.5      | 40\n",
       "Lobo Terrícola             | 45          | 11        | 27\n",
       "Elefante Africano          | 290         | 4350      | 25\n",
       "León Africano              | 95          | 185       | 58\n",
       "Perro Salvaje Africano     | 77.5        | 27        | 56\n",
       "Íbice Alpino               | 84          | 69.5      | 60\n",
       "Rana de la Selva Amazónica | 7.5         | 0         | 0.55\n",
       "Bisonte Americano          | 169         | nan       | 48\n",
       "Oso Hormiguero             | 71.5        | 31.5      | 24\n",
       "Caballo Árabe              | 150         | 690       | 65\n",
       "... (168 rows omitted)"
      ]
     },
     "execution_count": 145,
     "metadata": {},
     "output_type": "execute_result"
    }
   ],
   "source": [
    "animales = animals.drop(\"Unnamed: 0\")\n",
    "animales"
   ]
  },
  {
   "cell_type": "markdown",
   "id": "59d51965-044d-4df4-986b-f9b5370c6155",
   "metadata": {},
   "source": [
    "# Operacion sobre tablas\n",
    "\n",
    "\n",
    "## Predicados\n",
    "\n",
    "| Predicado                     | Descripción                                                  |\n",
    "| ------------------------------| ------------------------------------------------------------ |\n",
    "| `are.equal_to(Z)`              | Igual a Z                                                    |\n",
    "| `are.above(x)`                 | Mayor que x                                                  |\n",
    "| `are.above_or_equal_to(x)`     | Mayor o igual a x                                            |\n",
    "| `are.below(x)`                 | Menor que x                                                  |\n",
    "| `are.below_or_equal_to(x)`     | Menor o igual a x                                            |\n",
    "| `are.between(x, y)`            | Mayor o igual a x y menor que y                              |\n",
    "| `are.strictly_between(x, y)`   | Mayor que x y menor que y                                    |\n",
    "| `are.between_or_equal_to(x, y)`| Mayor o igual a x y menor o igual a y                        |\n",
    "| `are.containing(S)`            | Contiene la cadena de texto S                                |\n",
    "\n",
    "## Predicados Negados\n",
    "\n",
    "Puedes especificar la negación de cualquiera de estas condiciones utilizando `.not_` antes del predicado:\n",
    "\n",
    "| Predicado Negado               | Descripción                                                  |\n",
    "| ------------------------------| ------------------------------------------------------------ |\n",
    "| `are.not_equal_to(Z)`          | No igual a Z                                                 |\n",
    "| `are.not_above(x)`             | No mayor que x                                               |\n"
   ]
  },
  {
   "cell_type": "code",
   "execution_count": 146,
   "id": "28281543-4294-44f7-9711-290ff949c47f",
   "metadata": {},
   "outputs": [
    {
     "data": {
      "text/html": [
       "<table border=\"1\" class=\"dataframe\">\n",
       "    <thead>\n",
       "        <tr>\n",
       "            <th>Animal</th> <th>Altura (cm)</th> <th>Peso (kg)</th> <th>Velocidad Promedio (km/h)</th>\n",
       "        </tr>\n",
       "    </thead>\n",
       "    <tbody>\n",
       "        <tr>\n",
       "            <td>Cerdo Hormiguero            </td> <td>117.5      </td> <td>52.5     </td> <td>40                       </td>\n",
       "        </tr>\n",
       "        <tr>\n",
       "            <td>Elefante Africano           </td> <td>290        </td> <td>4350     </td> <td>25                       </td>\n",
       "        </tr>\n",
       "        <tr>\n",
       "            <td>Bisonte Americano           </td> <td>169        </td> <td>nan      </td> <td>48                       </td>\n",
       "        </tr>\n",
       "        <tr>\n",
       "            <td>Caballo Árabe               </td> <td>150        </td> <td>690      </td> <td>65                       </td>\n",
       "        </tr>\n",
       "        <tr>\n",
       "            <td>Arowana                     </td> <td>120        </td> <td>6        </td> <td>24                       </td>\n",
       "        </tr>\n",
       "        <tr>\n",
       "            <td>Elefante Asiático           </td> <td>250        </td> <td>3500     </td> <td>40                       </td>\n",
       "        </tr>\n",
       "        <tr>\n",
       "            <td>Delfín Moteado del Atlántico</td> <td>225        </td> <td>130      </td> <td>52                       </td>\n",
       "        </tr>\n",
       "        <tr>\n",
       "            <td>Foca de Pelo Australiana    </td> <td>136        </td> <td>29       </td> <td>32                       </td>\n",
       "        </tr>\n",
       "        <tr>\n",
       "            <td>Tiburón Peregrino           </td> <td>1100       </td> <td>550      </td> <td>21                       </td>\n",
       "        </tr>\n",
       "        <tr>\n",
       "            <td>Rinoceronte Negro           </td> <td>156        </td> <td>nan      </td> <td>56                       </td>\n",
       "        </tr>\n",
       "    </tbody>\n",
       "</table>\n",
       "<p>... (56 rows omitted)</p>"
      ],
      "text/plain": [
       "Animal                       | Altura (cm) | Peso (kg) | Velocidad Promedio (km/h)\n",
       "Cerdo Hormiguero             | 117.5       | 52.5      | 40\n",
       "Elefante Africano            | 290         | 4350      | 25\n",
       "Bisonte Americano            | 169         | nan       | 48\n",
       "Caballo Árabe                | 150         | 690       | 65\n",
       "Arowana                      | 120         | 6         | 24\n",
       "Elefante Asiático            | 250         | 3500      | 40\n",
       "Delfín Moteado del Atlántico | 225         | 130       | 52\n",
       "Foca de Pelo Australiana     | 136         | 29        | 32\n",
       "Tiburón Peregrino            | 1100        | 550       | 21\n",
       "Rinoceronte Negro            | 156         | nan       | 56\n",
       "... (56 rows omitted)"
      ]
     },
     "execution_count": 146,
     "metadata": {},
     "output_type": "execute_result"
    }
   ],
   "source": [
    "animales.where(\"Altura (cm)\", are.above(100))"
   ]
  },
  {
   "cell_type": "code",
   "execution_count": 147,
   "id": "a9e87691-c2b4-424b-a0f5-81c5aadabb78",
   "metadata": {},
   "outputs": [
    {
     "data": {
      "text/html": [
       "<table border=\"1\" class=\"dataframe\">\n",
       "    <thead>\n",
       "        <tr>\n",
       "            <th>Animal</th> <th>Altura (cm)</th> <th>Peso (kg)</th> <th>Velocidad Promedio (km/h)</th>\n",
       "        </tr>\n",
       "    </thead>\n",
       "    <tbody>\n",
       "        <tr>\n",
       "            <td>Bisonte Americano</td> <td>169        </td> <td>nan      </td> <td>48                       </td>\n",
       "        </tr>\n",
       "        <tr>\n",
       "            <td>Tapir de Baird   </td> <td>91.5       </td> <td>275      </td> <td>48                       </td>\n",
       "        </tr>\n",
       "        <tr>\n",
       "            <td>Oso Pardo        </td> <td>95         </td> <td>425      </td> <td>48                       </td>\n",
       "        </tr>\n",
       "        <tr>\n",
       "            <td>Zorro Rojo       </td> <td>42.5       </td> <td>5        </td> <td>48                       </td>\n",
       "        </tr>\n",
       "        <tr>\n",
       "            <td>Tapir            </td> <td>95         </td> <td>275      </td> <td>48                       </td>\n",
       "        </tr>\n",
       "    </tbody>\n",
       "</table>"
      ],
      "text/plain": [
       "Animal            | Altura (cm) | Peso (kg) | Velocidad Promedio (km/h)\n",
       "Bisonte Americano | 169         | nan       | 48\n",
       "Tapir de Baird    | 91.5        | 275       | 48\n",
       "Oso Pardo         | 95          | 425       | 48\n",
       "Zorro Rojo        | 42.5        | 5         | 48\n",
       "Tapir             | 95          | 275       | 48"
      ]
     },
     "execution_count": 147,
     "metadata": {},
     "output_type": "execute_result"
    }
   ],
   "source": [
    "animales.where('Velocidad Promedio (km/h)', are.equal_to(48))"
   ]
  },
  {
   "cell_type": "code",
   "execution_count": 148,
   "id": "a7055138-3bb1-45e8-b691-905eaf8016bc",
   "metadata": {},
   "outputs": [
    {
     "data": {
      "text/html": [
       "<table border=\"1\" class=\"dataframe\">\n",
       "    <thead>\n",
       "        <tr>\n",
       "            <th>Animal</th> <th>Altura (cm)</th> <th>Peso (kg)</th> <th>Velocidad Promedio (km/h)</th>\n",
       "        </tr>\n",
       "    </thead>\n",
       "    <tbody>\n",
       "        <tr>\n",
       "            <td>Cerdo Hormiguero     </td> <td>117.5      </td> <td>52.5     </td> <td>40                       </td>\n",
       "        </tr>\n",
       "        <tr>\n",
       "            <td>Elefante Asiático    </td> <td>250        </td> <td>3500     </td> <td>40                       </td>\n",
       "        </tr>\n",
       "        <tr>\n",
       "            <td>Frailecillo Atlántico</td> <td>27.5       </td> <td>560      </td> <td>40                       </td>\n",
       "        </tr>\n",
       "        <tr>\n",
       "            <td>Zorro de Bengala     </td> <td>37.5       </td> <td>3.25     </td> <td>40                       </td>\n",
       "        </tr>\n",
       "        <tr>\n",
       "            <td>Ballena Azul         </td> <td>33         </td> <td>200      </td> <td>40                       </td>\n",
       "        </tr>\n",
       "        <tr>\n",
       "            <td>Chimpancé            </td> <td>160        </td> <td>48       </td> <td>40                       </td>\n",
       "        </tr>\n",
       "        <tr>\n",
       "            <td>Gorila del Este      </td> <td>164        </td> <td>138.5    </td> <td>40                       </td>\n",
       "        </tr>\n",
       "        <tr>\n",
       "            <td>Camarón Mantis       </td> <td>30         </td> <td>2        </td> <td>40                       </td>\n",
       "        </tr>\n",
       "        <tr>\n",
       "            <td>Gorila de Montaña    </td> <td>160        </td> <td>135      </td> <td>40                       </td>\n",
       "        </tr>\n",
       "        <tr>\n",
       "            <td>Oso Polar            </td> <td>160        </td> <td>700      </td> <td>40                       </td>\n",
       "        </tr>\n",
       "    </tbody>\n",
       "</table>\n",
       "<p>... (5 rows omitted)</p>"
      ],
      "text/plain": [
       "Animal                | Altura (cm) | Peso (kg) | Velocidad Promedio (km/h)\n",
       "Cerdo Hormiguero      | 117.5       | 52.5      | 40\n",
       "Elefante Asiático     | 250         | 3500      | 40\n",
       "Frailecillo Atlántico | 27.5        | 560       | 40\n",
       "Zorro de Bengala      | 37.5        | 3.25      | 40\n",
       "Ballena Azul          | 33          | 200       | 40\n",
       "Chimpancé             | 160         | 48        | 40\n",
       "Gorila del Este       | 164         | 138.5     | 40\n",
       "Camarón Mantis        | 30          | 2         | 40\n",
       "Gorila de Montaña     | 160         | 135       | 40\n",
       "Oso Polar             | 160         | 700       | 40\n",
       "... (5 rows omitted)"
      ]
     },
     "execution_count": 148,
     "metadata": {},
     "output_type": "execute_result"
    }
   ],
   "source": [
    "animales.where('Velocidad Promedio (km/h)', are.between(40,40))"
   ]
  },
  {
   "cell_type": "code",
   "execution_count": 149,
   "id": "0d28fdb3-cd0f-493e-87c0-a222a977a219",
   "metadata": {},
   "outputs": [
    {
     "data": {
      "text/html": [
       "<table border=\"1\" class=\"dataframe\">\n",
       "    <thead>\n",
       "        <tr>\n",
       "            <th>Animal</th> <th>Altura (cm)</th> <th>Peso (kg)</th> <th>Velocidad Promedio (km/h)</th>\n",
       "        </tr>\n",
       "    </thead>\n",
       "    <tbody>\n",
       "        <tr>\n",
       "            <td>Tiburón Peregrino          </td> <td>1100       </td> <td>550      </td> <td>21                       </td>\n",
       "        </tr>\n",
       "        <tr>\n",
       "            <td>Tiburón Duende             </td> <td>320        </td> <td>210      </td> <td>2.3                      </td>\n",
       "        </tr>\n",
       "        <tr>\n",
       "            <td>Tiburón Blanco             </td> <td>610        </td> <td>2268     </td> <td>56                       </td>\n",
       "        </tr>\n",
       "        <tr>\n",
       "            <td>Tiburón Blanco             </td> <td>670        </td> <td>2268     </td> <td>56                       </td>\n",
       "        </tr>\n",
       "        <tr>\n",
       "            <td>Tiburón Mako de Aleta Corta</td> <td>394        </td> <td>800      </td> <td>45                       </td>\n",
       "        </tr>\n",
       "        <tr>\n",
       "            <td>Tiburón Ballena            </td> <td>1800       </td> <td>1500     </td> <td>70                       </td>\n",
       "        </tr>\n",
       "        <tr>\n",
       "            <td>Tiburón Cebra              </td> <td>330        </td> <td>32       </td> <td>20                       </td>\n",
       "        </tr>\n",
       "    </tbody>\n",
       "</table>"
      ],
      "text/plain": [
       "Animal                      | Altura (cm) | Peso (kg) | Velocidad Promedio (km/h)\n",
       "Tiburón Peregrino           | 1100        | 550       | 21\n",
       "Tiburón Duende              | 320         | 210       | 2.3\n",
       "Tiburón Blanco              | 610         | 2268      | 56\n",
       "Tiburón Blanco              | 670         | 2268      | 56\n",
       "Tiburón Mako de Aleta Corta | 394         | 800       | 45\n",
       "Tiburón Ballena             | 1800        | 1500      | 70\n",
       "Tiburón Cebra               | 330         | 32        | 20"
      ]
     },
     "execution_count": 149,
     "metadata": {},
     "output_type": "execute_result"
    }
   ],
   "source": [
    "animales.where('Animal', are.containing('Tiburón'))"
   ]
  },
  {
   "cell_type": "code",
   "execution_count": 150,
   "id": "12b3dd73-fe55-4816-9a42-8fcd3de462a1",
   "metadata": {},
   "outputs": [
    {
     "data": {
      "text/html": [
       "<table border=\"1\" class=\"dataframe\">\n",
       "    <thead>\n",
       "        <tr>\n",
       "            <th>Animal</th> <th>Altura (cm)</th> <th>Peso (kg)</th> <th>Velocidad Promedio (km/h)</th>\n",
       "        </tr>\n",
       "    </thead>\n",
       "    <tbody>\n",
       "        <tr>\n",
       "            <td>Águila Calva            </td> <td>86         </td> <td>4.5      </td> <td>120                      </td>\n",
       "        </tr>\n",
       "        <tr>\n",
       "            <td>Guepardo                </td> <td>80         </td> <td>46       </td> <td>112                      </td>\n",
       "        </tr>\n",
       "        <tr>\n",
       "            <td>Berrendo                </td> <td>92.5       </td> <td>55       </td> <td>88.5                     </td>\n",
       "        </tr>\n",
       "        <tr>\n",
       "            <td>Búho Nival              </td> <td>61.5       </td> <td>2.45     </td> <td>80                       </td>\n",
       "        </tr>\n",
       "        <tr>\n",
       "            <td>Lince Ibérico           </td> <td>65         </td> <td>11.5     </td> <td>75                       </td>\n",
       "        </tr>\n",
       "        <tr>\n",
       "            <td>Camarón Mantis Pavo Real</td> <td>18         </td> <td>0        </td> <td>72                       </td>\n",
       "        </tr>\n",
       "        <tr>\n",
       "            <td>Tiburón Ballena         </td> <td>1800       </td> <td>1500     </td> <td>70                       </td>\n",
       "        </tr>\n",
       "        <tr>\n",
       "            <td>Caballo Árabe           </td> <td>150        </td> <td>690      </td> <td>65                       </td>\n",
       "        </tr>\n",
       "        <tr>\n",
       "            <td>Tigre de Bengala        </td> <td>100        </td> <td>240      </td> <td>65                       </td>\n",
       "        </tr>\n",
       "        <tr>\n",
       "            <td>Perro Bóxer             </td> <td>58         </td> <td>28.5     </td> <td>64                       </td>\n",
       "        </tr>\n",
       "    </tbody>\n",
       "</table>\n",
       "<p>... (168 rows omitted)</p>"
      ],
      "text/plain": [
       "Animal                   | Altura (cm) | Peso (kg) | Velocidad Promedio (km/h)\n",
       "Águila Calva             | 86          | 4.5       | 120\n",
       "Guepardo                 | 80          | 46        | 112\n",
       "Berrendo                 | 92.5        | 55        | 88.5\n",
       "Búho Nival               | 61.5        | 2.45      | 80\n",
       "Lince Ibérico            | 65          | 11.5      | 75\n",
       "Camarón Mantis Pavo Real | 18          | 0         | 72\n",
       "Tiburón Ballena          | 1800        | 1500      | 70\n",
       "Caballo Árabe            | 150         | 690       | 65\n",
       "Tigre de Bengala         | 100         | 240       | 65\n",
       "Perro Bóxer              | 58          | 28.5      | 64\n",
       "... (168 rows omitted)"
      ]
     },
     "execution_count": 150,
     "metadata": {},
     "output_type": "execute_result"
    }
   ],
   "source": [
    "animales.sort(\"Velocidad Promedio (km/h)\", descending = True)"
   ]
  },
  {
   "cell_type": "markdown",
   "id": "b47b8941-ea26-468a-8e94-de2280432d4e",
   "metadata": {},
   "source": [
    "# Ejercicios de clase:\n",
    "\n",
    "## Teoría de Tablas\n",
    "\n",
    "Las tablas son una estructura fundamental para organizar y analizar datos. En la librería `datascience`, las tablas se manejan a través de la clase `Table`.\n",
    "\n",
    "### Creación de Tablas\n",
    "Podemos crear una tabla usando la función `Table` y agregar datos mediante las funciones `with_columns` o `append`:\n",
    "\n",
    "```python\n",
    "from datascience import Table\n",
    "\n",
    "ccientificos = Table().with_columns(\n",
    "    \"Nombre\", [\n",
    "        \"Marie Curie\", \"Isaac Newton\", \"Alan Turing\", \"Florence Nightingale\",\n",
    "        \"Albert Einstein\", \"Rosalind Franklin\", \"Galileo Galilei\", \"Ada Lovelace\",\n",
    "        \"Dmitri Mendeléyev\", \"Jane Goodall\", \"Niels Bohr\", \"Carl Friedrich Gauss\",\n",
    "        \"Barbara McClintock\", \"Richard Feynman\", \"Katherine Johnson\"\n",
    "    ],\n",
    "    \"Campo\", [\n",
    "        \"Química\", \"Física\", \"Matemáticas\", \"Estadística\",\n",
    "        \"Física\", \"Biología\", \"Astronomía\", \"Matemáticas\",\n",
    "        \"Química\", \"Biología\", \"Física\", \"Matemáticas\",\n",
    "        \"Biología\", \"Física\", \"Matemáticas\"\n",
    "    ],\n",
    "    \"Aportación Principal\", [\n",
    "        \"Radioactividad\", \"Leyes del movimiento\", \"Computación\", \"Gráficos estadísticos\",\n",
    "        \"Relatividad\", \"Estructura del ADN\", \"Telescopios y astronomía\", \"Primer algoritmo\",\n",
    "        \"Tabla periódica\", \"Estudios de primates\", \"Modelo del átomo\", \"Teoremas matemáticos\",\n",
    "        \"Elementos transponibles\", \"Electrodinámica cuántica\", \"Cálculos orbitales\"\n",
    "    ]\n",
    ")\n",
    "\n",
    "\n",
    "fechas_nacimiento = [\n",
    "    1867,  # Marie Curie\n",
    "    1643,  # Isaac Newton\n",
    "    1912,  # Alan Turing\n",
    "    1820,  # Florence Nightingale\n",
    "    1879,  # Albert Einstein\n",
    "    1920,  # Rosalind Franklin\n",
    "    1564,  # Galileo Galilei\n",
    "    1815,  # Ada Lovelace\n",
    "    1834,  # Dmitri Mendeléyev\n",
    "    1934,  # Jane Goodall\n",
    "    1885,  # Niels Bohr\n",
    "    1777,  # Carl Friedrich Gauss\n",
    "    1902,  # Barbara McClintock\n",
    "    1918,  # Richard Feynman\n",
    "    1918   # Katherine Johnson\n",
    "]\n",
    "\n",
    "```\n",
    "\n",
    "**Ejercicio:**\n",
    "\n",
    "1. Ejecuta la anterior linea de código, e intenta poner una columna adicional con los anos de nacimiento de cada cientifico: \n",
    "2. Crear tu propia tabla con las  materias que tienes este semestre.\n"
   ]
  },
  {
   "cell_type": "markdown",
   "id": "94dc6515-37bf-4cb5-8441-c34e467acbaf",
   "metadata": {},
   "source": [
    "\n",
    "### Operaciones Básicas\n",
    "- **Acceso a Columnas**: `cientificos.column(\"Campo\")` devuelve los valores de la columna \"Campo\".\n",
    "- **Filtrar Filas**: Utilizamos `where` para seleccionar filas según condiciones específicas.\n",
    "\n",
    "```python\n",
    "cientificos.where(\"Campo\", \"Física\")\n",
    "```\n",
    "\n",
    "- **Ordenar Datos**: `sort` organiza las filas de la tabla según una columna.\n",
    "\n",
    "```python\n",
    "cientificos.sort(\"Nombre\")\n",
    "```\n"
   ]
  },
  {
   "cell_type": "code",
   "execution_count": null,
   "id": "78efe5a6-2b41-4331-9b24-3e4e0f61cd02",
   "metadata": {},
   "outputs": [],
   "source": []
  },
  {
   "cell_type": "code",
   "execution_count": null,
   "id": "a90f667a-d2c6-4d63-a425-831d34112470",
   "metadata": {},
   "outputs": [],
   "source": []
  },
  {
   "cell_type": "markdown",
   "id": "593d88cc-8ac7-44f0-b5a0-6b2b7154bfe2",
   "metadata": {},
   "source": [
    "\n",
    "## Ciclos\n",
    "Los ciclos permiten iterar sobre filas de una tabla para realizar cálculos o análisis. Por ejemplo:\n",
    "\n",
    "```python\n",
    "for fila in cientificos.rows:\n",
    "    print(f\"{fila[0]} destacó en {fila[1]} gracias a su trabajo en {fila[2]}.\")\n",
    "```\n"
   ]
  },
  {
   "cell_type": "markdown",
   "id": "c7d159c1-e73e-4a18-ba05-1d88de96d166",
   "metadata": {},
   "source": [
    "\n",
    "## Agrupaciones (`group`)\n",
    "La función `group` permite agrupar filas según valores en una columna, contando automáticamente el número de ocurrencias:\n",
    "\n",
    "```python\n",
    "cientificos.group(\"Campo\")\n",
    "```\n",
    "Esto devuelve el número de científicos destacados por campo.\n"
   ]
  },
  {
   "cell_type": "markdown",
   "id": "d3d905a4-2673-4fe2-9bb9-92272b25e62d",
   "metadata": {},
   "source": [
    "\n",
    "### Agregación Personalizada\n",
    "Se pueden agregar funciones personalizadas en lugar de contar:\n",
    "\n",
    "```python\n",
    "cientificos.group(\"Campo\", collect=lambda x: \", \".join(x))\n",
    "```\n"
   ]
  },
  {
   "cell_type": "markdown",
   "id": "23eb2952-0e24-4f6d-b647-10decb60a844",
   "metadata": {},
   "source": [
    "\n",
    "## Pivotes (`pivot`)\n",
    "Los pivotes reestructuran la tabla para mostrar la relación entre dos columnas:\n",
    "\n",
    "```python\n",
    "cientificos.pivot(\"Campo\", \"Nombre\")\n",
    "```\n"
   ]
  },
  {
   "cell_type": "markdown",
   "id": "5839612a-424e-4c54-a76f-9f105df2aa14",
   "metadata": {},
   "source": [
    "\n",
    "## Condicionales\n",
    "Para aplicar condiciones a las filas de una tabla, utilizamos expresiones lógicas dentro de funciones como `where` o bucles:\n",
    "\n",
    "```python\n",
    "quimica_o_fisica = cientificos.where(\"Campo\", are.contained_in([\"Química\", \"Física\"]))\n",
    "quimica_o_fisica\n",
    "```\n",
    "\n",
    "Podemos extender estas condiciones con funciones personalizadas para análisis más complejos.\n"
   ]
  },
  {
   "cell_type": "markdown",
   "id": "c56fb2bc-b52c-41a2-8190-9827f98c3102",
   "metadata": {},
   "source": []
  },
  {
   "cell_type": "code",
   "execution_count": null,
   "id": "20343fd8-8854-4774-89dd-2cce71c88293",
   "metadata": {},
   "outputs": [],
   "source": []
  }
 ],
 "metadata": {
  "kernelspec": {
   "display_name": "Python 3 (ipykernel)",
   "language": "python",
   "name": "python3"
  },
  "language_info": {
   "codemirror_mode": {
    "name": "ipython",
    "version": 3
   },
   "file_extension": ".py",
   "mimetype": "text/x-python",
   "name": "python",
   "nbconvert_exporter": "python",
   "pygments_lexer": "ipython3",
   "version": "3.10.14"
  }
 },
 "nbformat": 4,
 "nbformat_minor": 5
}
