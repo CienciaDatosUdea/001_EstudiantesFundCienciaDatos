{
 "cells": [
  {
   "cell_type": "code",
   "execution_count": null,
   "id": "c1afc404",
   "metadata": {
    "deletable": false,
    "editable": false
   },
   "outputs": [],
   "source": [
    "# Initialize Otter\n",
    "import otter\n",
    "grader = otter.Notebook(\"hw01_.ipynb\")"
   ]
  },
  {
   "cell_type": "markdown",
   "id": "19b87288-f2fe-4af2-a6b8-23e2c99afa02",
   "metadata": {},
   "source": [
    "# Tarea \n",
    "## 1. Causalidad y Expresiones\n",
    "\n",
    "Por favor complete este notebook llenando las celdas que se piden. Antes de comenzar, ejecute la celda previa para cargar las pruebas dadas."
   ]
  },
  {
   "cell_type": "markdown",
   "id": "ef575a44-7391-46ff-9c6f-559a7e82c94e",
   "metadata": {},
   "source": [
    "**Lecturas recomendadas:**\n",
    "\n",
    "- [¿Qué es la ciencia de datos?](http://www.inferentialthinking.com/chapters/01/what-is-data-science.html)\n",
    "- [Causalidad y Experimentos](http://www.inferentialthinking.com/chapters/02/causality-and-experiments.html)\n",
    "- [Programando en Python](http://www.inferentialthinking.com/chapters/03/programming-in-python.html)\n",
    "\n",
    "\n",
    "\n",
    "Para todos los problemas en los que deba escribir explicaciones y oraciones, **deberá** proporcionar la respuesta en el espacio designado. Además, a lo largo de esta tarea y de todas las futuras, ¡asegúrese de no reasignar variables en todo el notebook! Por ejemplo, si usa `temperatura` en su respuesta a una pregunta, no la reasigne más adelante. De lo contrario, ¡reprobará las pruebas que creía que estaba aprobando anteriormente!\n",
    "\n",
    "\n",
    "\n",
    "**Fecha de entrega:**\n",
    "\n",
    "Esta tarea deberá ser entregada ** ___ a las ___**. Si quiere puntos extra, entréguela el (un día antes). Trabajo que se entregue por fuera del plazo no será recibido.\n",
    "\n",
    "\n",
    "**Nota: Esta tarea tiene pruebas ocultas. Eso significa que aunque los exámenes indiquen que se aprobó al 100%, no significa que su calificación final será del 100%. Realizaremos más pruebas ocultas de corrección una vez que todos entreguen la tarea.**\n",
    "\n",
    "\n",
    "Evite compartir respuestas o hacer copia con sus compañeros. Establezca en cambio discusiones grupales con otros estudiantes y docentes del curso.\n",
    "\n",
    "Si desea contar con el tiempo necesario para pedir ayuda o asesoría en caso de estar atascado, se recomienda iniciar temprano con la realización de las tareas. Tenga en cuenta el cronograma del curso y de entregas.\n"
   ]
  },
  {
   "cell_type": "markdown",
   "id": "68d59a1f-580e-49e0-b037-250f24768eff",
   "metadata": {
    "deletable": false,
    "editable": false
   },
   "source": [
    "<!-- BEGIN QUESTION -->\n",
    "\n",
    "**Q1.**\n",
    "El anuncio de una compañía de alarmas en los Estados Unidos dice,\n",
    "\n",
    "> \"Cuando tú te vas de vacaciones, los ladrones aprovechan  [...] De acuerdo a estadísticas del FBI, cerca del 25% de los robos ocurren en días festivos.\"\n",
    "\n",
    "¿Los datos presentados en el anuncio respaldan la afirmación de que es más probable que los ladrones actúen en días festivos? Por favor explique su respuesta. **(6 Puntos)**\n",
    "\n",
    "**Nota:** Suponga que cuando se dice \"cerca del 25%\" es realmente muy cerca de ese valor."
   ]
  },
  {
   "cell_type": "markdown",
   "id": "5efdd37f-e20c-4f1d-917a-4e6cb5d1a36f",
   "metadata": {
    "deletable": false,
    "editable": false
   },
   "source": [
    "**SOLUTION:** _Escriba su respuesta aquí. Reemplace este texto._"
   ]
  },
  {
   "cell_type": "markdown",
   "id": "5790744d-5a79-4738-8880-52484e89af4e",
   "metadata": {
    "deletable": false,
    "editable": false
   },
   "source": [
    "<!-- END QUESTION -->\n",
    "\n",
    "## 2. Caracteres en Little Women"
   ]
  },
  {
   "cell_type": "markdown",
   "id": "821f44a2-385c-4a07-a482-3c8e48d42f28",
   "metadata": {},
   "source": [
    "En clase, contamos el número de veces que aparecen los caracteres  en cada capítulo del libro clásico [*Little Women*](https://inferentialthinking.com/chapters/01/3/1/Literary_Characters.html?highlight=little%20women).  En ciencias computacionales, la palabra \"caracter\" también hace referencia a una letra, dígito, espacio o signo de puntuación; cada elemento de un texto. El siguiente código genera una gráfica de dispersión en la cual cada punto corresponde a un capítulo de *Little Women*. La posición horizontal de un punto mide el número de puntos en un capítulo. La posición vertical mide el número total de caracteres."
   ]
  },
  {
   "cell_type": "code",
   "execution_count": null,
   "id": "4a6fe776-f612-4775-b24f-f400a9b9d271",
   "metadata": {},
   "outputs": [],
   "source": [
    "# Solo ejecute esta celda.\n",
    "# Esta celda contiene código que no ha sido cubierto en este curso,\n",
    "# sin embargo, usted deberá ser capaz de interpretar la gráfica de dipersión\n",
    "# que él genera.\n",
    "from datascience import *\n",
    "from urllib.request import urlopen\n",
    "import numpy as np\n",
    "%matplotlib inline\n",
    "\n",
    "little_women_url = 'https://www.inferentialthinking.com/data/little_women.txt'\n",
    "chapters = urlopen(little_women_url).read().decode().split('CHAPTER ')[1:]\n",
    "text = Table().with_column('Chapters', chapters)\n",
    "Table().with_columns(\n",
    "    'Puntos',    np.char.count(chapters, '.'),\n",
    "    'Caracter', text.apply(len, 0)\n",
    "    ).scatter(0)\n"
   ]
  },
  {
   "cell_type": "markdown",
   "id": "a0998a61-f6a7-4d1a-982e-ea620a9b0bb7",
   "metadata": {
    "deletable": false,
    "editable": false
   },
   "source": [
    "**Pregunta 1.** ¿Cerca de cuántos puntos hay en el capítulo con más caracteres?\n",
    "Responda 1,2,3,4, ó 5 al nombre `caracteres_q1` en la siguiente celda. **(4 Puntos)**\n",
    "\n",
    "1. 250\n",
    "2. 390\n",
    "3. 440\n",
    "4. 32,000\n",
    "5. 40,000\n",
    "\n",
    "\n",
    "**Nota:** Si le aparece el error `NameError: name 'grader' is not defined` el calificador de la celda de abajo (y en cualquier otra tarea), ejecute de nuevo la primera celda al inicio de este notebook."
   ]
  },
  {
   "cell_type": "code",
   "execution_count": null,
   "id": "e27278cb-6b6c-4de0-bc87-eba8e4d892ff",
   "metadata": {
    "tags": []
   },
   "outputs": [],
   "source": [
    "characters_q1 = ..."
   ]
  },
  {
   "cell_type": "code",
   "execution_count": null,
   "id": "635ff6c3",
   "metadata": {
    "deletable": false,
    "editable": false
   },
   "outputs": [],
   "source": [
    "grader.check(\"q2_1\")"
   ]
  },
  {
   "cell_type": "markdown",
   "id": "7d913eac-a357-4782-bdee-0692d6067ef2",
   "metadata": {},
   "source": [
    "La celda de arriba verifica que sus respuestas estén en el formato correcto. **Esta prueba no verifica que se haya respondido correctamente**, solo que haya escrito correctamente un número en cada celda de respuesta de selección múltiple."
   ]
  },
  {
   "cell_type": "markdown",
   "id": "ed16fc5c-3623-4b64-a9f6-7a19c5dc169a",
   "metadata": {
    "deletable": false,
    "editable": false
   },
   "source": [
    "**Pregunta 2.** ¿Cuál de los siguientes capítulos tiene la mayor cantidad de caracteres por punto? Responda 1, 2, ó 3 en el nombre `caracteres_q2` abajo. **(4 Puntos)**\n",
    "\n",
    "1. El capítulo con 60 puntos\n",
    "2. El capítulo con 350 puntos\n",
    "3. El capítulo con 480 puntos"
   ]
  },
  {
   "cell_type": "code",
   "execution_count": null,
   "id": "c7b7ab83-c5ca-4e4c-9d3d-171437d7715b",
   "metadata": {
    "tags": []
   },
   "outputs": [],
   "source": [
    "characters_q2 = ..."
   ]
  },
  {
   "cell_type": "code",
   "execution_count": null,
   "id": "38799605",
   "metadata": {
    "deletable": false,
    "editable": false
   },
   "outputs": [],
   "source": [
    "grader.check(\"q2_2\")"
   ]
  },
  {
   "cell_type": "markdown",
   "id": "3c556b6b-8e92-466b-a38d-218241bab3a7",
   "metadata": {},
   "source": [
    "De nuevo, la prueba de la celda anterior verifica que sus respuestas estén en el formato correcto, no que haya sido respondido correctamente.\n",
    "Para descubrir más datos interesantes sobre esta gráfica, vaya a la [Section 1.3.2](https://inferentialthinking.com/chapters/01/3/2/Another_Kind_Of_Character.html) en el libro guía."
   ]
  },
  {
   "cell_type": "markdown",
   "id": "deb63f11-234d-49dc-8690-db4719a716ff",
   "metadata": {},
   "source": [
    "## 3. Nombres y Declaraciones de Asignación"
   ]
  },
  {
   "cell_type": "markdown",
   "id": "b257247d-c504-442a-812d-2304c1c4873c",
   "metadata": {
    "deletable": false,
    "editable": false
   },
   "source": [
    "**Pregunta 1.** Cuando ejecuta la siguiente celda, Python produce un mensaje de error."
   ]
  },
  {
   "cell_type": "code",
   "execution_count": null,
   "id": "d3a87acd-16a7-4dce-9742-a6e9f4238dab",
   "metadata": {
    "deletable": false,
    "editable": false
   },
   "outputs": [],
   "source": [
    "4 = 2 + 2"
   ]
  },
  {
   "cell_type": "markdown",
   "id": "bfdbaff6-57ee-4e19-9c40-794180b9a90a",
   "metadata": {
    "deletable": false,
    "editable": false
   },
   "source": [
    "Escoja la mejor explicación para lo que está mal en el código. Responda 1, 2, 3, ó 4 en `nombres_q1` en la celda de abajo. **(4 Points)**\n",
    "\n",
    "\n",
    "\n",
    "1. Python es inteligente y sabe que `4 = 2 + 2`.\n",
    "\n",
    "2. En Python, hay una regla en la que el signo `=` debe tener el nombre de una variable a su izquierda y `4` no es el nombre de una variable.\n",
    "\n",
    "3. Debería ser `2 + 2 = 4`.\n",
    "\n",
    "4. Yo no obtengo ningún mensaje de error. Esta pregunta es capciosa.\n"
   ]
  },
  {
   "cell_type": "code",
   "execution_count": null,
   "id": "b5896737-0bb8-41a4-b72a-c7bca8c9d1ce",
   "metadata": {
    "tags": []
   },
   "outputs": [],
   "source": [
    "nombres_q1 = ..."
   ]
  },
  {
   "cell_type": "code",
   "execution_count": null,
   "id": "2e2a8412",
   "metadata": {
    "deletable": false,
    "editable": false
   },
   "outputs": [],
   "source": [
    "grader.check(\"q3_1\")"
   ]
  },
  {
   "cell_type": "markdown",
   "id": "d6e578ca-5db8-414b-9d7f-bd640ebed6e8",
   "metadata": {
    "deletable": false,
    "editable": false
   },
   "source": [
    "**Pregunta 2.** Cuando ejecuta la siguiente celda, Python va a arrojar otro mensaje de error."
   ]
  },
  {
   "cell_type": "code",
   "execution_count": null,
   "id": "be592fd5-dfbc-450a-acc2-63e2c0b5227e",
   "metadata": {
    "deletable": false,
    "editable": false
   },
   "outputs": [],
   "source": [
    "dos = 3\n",
    "seis = dos mas dos"
   ]
  },
  {
   "cell_type": "markdown",
   "id": "616de3a4-ca59-474a-8572-2f23b431e47d",
   "metadata": {
    "deletable": false,
    "editable": false
   },
   "source": [
    "Escoja la mejor explicación para lo que está mal con el código y asigne 1, 2, 3 ó 4 en `nombres_q2` abajo para indicar su respuesta- **(4 Puntos)**\n",
    "\n",
    "\n",
    "1. La operación `mas` solo aplica a números, no a la palabra \"dos\".\n",
    "\n",
    "2.  El nombre \"dos\" no se puede asignar al número 3.\n",
    "\n",
    "3. Dos más dos es cuatro, no seis.\n",
    "\n",
    "4. El nombre `mas` no es un operador incorporado; en cambio, la suma usa `+`.\n"
   ]
  },
  {
   "cell_type": "code",
   "execution_count": null,
   "id": "f3aec679-6c6c-4f93-8b30-80cd18abc6cf",
   "metadata": {
    "tags": []
   },
   "outputs": [],
   "source": [
    "nombres_q2 = ..."
   ]
  },
  {
   "cell_type": "code",
   "execution_count": null,
   "id": "0cf3cb05",
   "metadata": {
    "deletable": false,
    "editable": false
   },
   "outputs": [],
   "source": [
    "grader.check(\"q3_2\")"
   ]
  },
  {
   "cell_type": "markdown",
   "id": "7122f519-3971-4ffe-b7cf-59d9ece128dc",
   "metadata": {
    "deletable": false,
    "editable": false
   },
   "source": [
    "**Pregunta 3.** Ejecute la siguiente celda."
   ]
  },
  {
   "cell_type": "code",
   "execution_count": null,
   "id": "a28d5aa0-25f0-477c-82e7-75ef84cef3c3",
   "metadata": {
    "deletable": false,
    "editable": false
   },
   "outputs": [],
   "source": [
    "x = 2\n",
    "y = 3 * x\n",
    "x = 4"
   ]
  },
  {
   "cell_type": "markdown",
   "id": "e7eba5b6-5d88-4702-93aa-6f21fe35a8d0",
   "metadata": {
    "deletable": false,
    "editable": false
   },
   "source": [
    "¿Cuál es el valor de `y` luego de correr esta celda? ¿Por qué? Escoja la mejor explicación y asigne 1, 2, 3, ó 4 a `nombres_q3` abajo para indicar su respuesta. **(4 Points)**\n",
    "\n",
    "1. `y` es igual a 6, porque el segundo `x = 4` no tiene efecto pues `x` ya había sido definida.\n",
    "\n",
    "2. `y` es igual a 6, porque `x` era 2 cuando se asignó `y`, y 3 * 2 es 6.\n",
    "\n",
    "3. `y` es igual a 12, porque `x` es 4 y 3 * 4 es 12.\n",
    "\n",
    "4. `y` es igual a 12, porque asignando `x` a 4 va a actualizar `y` a 12 mientras `y` está definida en términos de `x`."
   ]
  },
  {
   "cell_type": "code",
   "execution_count": null,
   "id": "1c597f3c-456e-4c07-9d78-e1d2bcfa0f7d",
   "metadata": {
    "tags": []
   },
   "outputs": [],
   "source": [
    "nombres_q3 = ..."
   ]
  },
  {
   "cell_type": "code",
   "execution_count": null,
   "id": "2e7da1a5",
   "metadata": {
    "deletable": false,
    "editable": false
   },
   "outputs": [],
   "source": [
    "grader.check(\"q3_3\")"
   ]
  },
  {
   "cell_type": "markdown",
   "id": "95fb177b-a494-4243-92b2-11d5ffb599a6",
   "metadata": {},
   "source": [
    "Los [datos abiertos](https://www.udea.edu.co/wps/portal/udea/web/inicio/institucional/data-udea/acerca-data-udea/que-data-udea) de la  Universidad de Antioquia provee datos sobre muchos aspectos del campus. Adaptado de su página web, la tabla a continuación muestra el número de egresados en 3 programas entre los años académicos 2009 y 2022\n",
    "\n",
    "\n",
    "\n",
    "\n",
    "\n",
    "| Programa                           |     2009    | 2022   |\n",
    "|------------------------------------|--------------|-------------|\n",
    "|Biologia                            |      76      |    31       |\n",
    "| Matemáticas                        |       12     |  12        |\n",
    "| Física                             |       24    |    15       |\n",
    "| Química                            |       39     |    22       |\n",
    "\n"
   ]
  },
  {
   "cell_type": "code",
   "execution_count": null,
   "id": "64a8ae44-190e-41cd-a8d5-5f980595a16d",
   "metadata": {},
   "outputs": [],
   "source": [
    "abs(39 - 22)"
   ]
  },
  {
   "cell_type": "markdown",
   "id": "62c7a8bd-070b-4883-ad97-b4f9a80afba1",
   "metadata": {
    "deletable": false,
    "editable": false
   },
   "source": [
    "**Pregunta 1.** Suponga que quiere encontrar la **mayor** diferencia absoluta entre el número de graduados durante esos dos años, entre los cuatro programas.\n",
    "\n",
    "En la celda de abajo, calcule este valor y llámelo `mayor_diferencia`. Use una sola expresión (una sola línea de código) para calcular la respuesta. Deje que Python haga toda la aritmética (como sustraer 76 de 31) más que simplificar la expresión usted mismo. La función `abs` toma una entrada numérica y entrega el valor absoluto. La función `max` puede tomar 3 argumentos y devolver el valor máximo entre esos tres números. **(5 Puntos)**\n"
   ]
  },
  {
   "cell_type": "code",
   "execution_count": null,
   "id": "943cd61e-a894-452b-b036-1f9658339900",
   "metadata": {
    "tags": []
   },
   "outputs": [],
   "source": [
    "mayor_diferencia = ..."
   ]
  },
  {
   "cell_type": "code",
   "execution_count": null,
   "id": "293e1955",
   "metadata": {
    "deletable": false,
    "editable": false
   },
   "outputs": [],
   "source": [
    "grader.check(\"q4_1\")"
   ]
  },
  {
   "cell_type": "markdown",
   "id": "bd6582e4-ea16-4693-ac31-ee1767d71ef3",
   "metadata": {},
   "source": [
    "**Pregunta 2.** ¿Cuál de los tres programas tiene la **menor** diferencia absoluta? Asigne `menor_cambio_programa` a 1, 2, 3 ó 4 donde cada número corresponde al siguiente programa:\n",
    "\n",
    "1. Biología\n",
    "2. Química\n",
    "3. Física\n",
    "4. Matemáticas\n",
    "\n",
    "Escoja el número que corresponda al programa con el la menor diferencia absoluta. **(4 Puntos)**\n",
    "\n",
    "_Hint:_ Deberá ser capaz de responder aproximadamente con aritmética mental, sin tener que calcular el valor exacto de cada programa."
   ]
  },
  {
   "cell_type": "code",
   "execution_count": null,
   "id": "fbd1274d-14df-45cd-bbc5-38503b46c710",
   "metadata": {
    "tags": []
   },
   "outputs": [],
   "source": [
    "menor_cambio_programa = ..."
   ]
  },
  {
   "cell_type": "code",
   "execution_count": null,
   "id": "045f8a70",
   "metadata": {
    "deletable": false,
    "editable": false
   },
   "outputs": [],
   "source": [
    "grader.check(\"q4_2\")"
   ]
  },
  {
   "cell_type": "markdown",
   "id": "531a4375-ffda-47a7-b5b1-e3e14721ff16",
   "metadata": {
    "deletable": false,
    "editable": false
   },
   "source": [
    "**Pregunta 3.** Para cada programa, defina el \"cambio relativo\" como sigue:\n",
    "$\\large{\\frac{\\text{diferencia absoluta}}{\\text{valor en 2009}} * 100}$\n",
    "\n",
    "Llene el código de la siguiente celda de forma tal que `cambio_relativo_fisica`, `cambio_relativo_quimica`,`cambio_relativo_biologia`  y `cambio_relativo_matematicas`sean asignados a los cambios relativos de sus respectivos programas. **(5 Puntos)**\n",
    "\n",
    "\n",
    "\n",
    "\n",
    "\n",
    "| Programa                           |     2009    | 2022   |\n",
    "|------------------------------------|--------------|-------------|\n",
    "|Biologia                            |      76      |    31       |\n",
    "| Matemáticas                        |       12     |  12        |\n",
    "| Física                             |       24    |    15       |\n",
    "| Química                            |       39     |    22       |\n",
    "\n"
   ]
  },
  {
   "cell_type": "code",
   "execution_count": null,
   "id": "3a4d6cde-c69b-4b82-9591-13b48561b9ee",
   "metadata": {
    "tags": []
   },
   "outputs": [],
   "source": [
    "\n",
    "cambio_relativo_biologia = (abs(...) / 17) * 100\n",
    "cambio_relativo_fisica = ...\n",
    "cambio_relativo_matematicas = ...\n",
    "cambio_relativo_quimica = ...\n",
    "cambio_relativo_biologia, cambio_relativo_fisica, cambio_relativo_matematicas,cambio_relativo_quimica"
   ]
  },
  {
   "cell_type": "code",
   "execution_count": null,
   "id": "7de25245",
   "metadata": {
    "deletable": false,
    "editable": false
   },
   "outputs": [],
   "source": [
    "grader.check(\"q4_3\")"
   ]
  },
  {
   "cell_type": "markdown",
   "id": "8b33114e-9423-472c-bb54-62948e528dad",
   "metadata": {
    "deletable": false,
    "editable": false
   },
   "source": [
    "**Pregunta 4.** Asigne `mayor_cambio_rel_programa` a 1, 2, 3  ó 4 donde cada número corresponde con:\n",
    "\n",
    "1. Biología,\n",
    "2. Física,\n",
    "3. Matemáticas,\n",
    "4. Química\n",
    "\n",
    "\n",
    "Elija el número que corresponda al programa con el mayor cambio relativo.\n",
    " **(4 Puntos)**"
   ]
  },
  {
   "cell_type": "code",
   "execution_count": null,
   "id": "87932d0e-dd98-43cd-9f12-2c3467f5620d",
   "metadata": {
    "tags": []
   },
   "outputs": [],
   "source": [
    "mayor_cambio_rel_programa = ...\n",
    "mayor_cambio_rel_programa"
   ]
  },
  {
   "cell_type": "code",
   "execution_count": null,
   "id": "8deb9325",
   "metadata": {
    "deletable": false,
    "editable": false
   },
   "outputs": [],
   "source": [
    "grader.check(\"q4_4\")"
   ]
  },
  {
   "cell_type": "markdown",
   "id": "e5a81705-0086-4198-bb63-36f467103abc",
   "metadata": {},
   "source": [
    "## La [miopía](https://es.wikipedia.org/wiki/Miop%C3%ADa) \n",
    "resulta de un número de factores genéticos y ambientales. En 1999, Quinn y colaboradores estudiaron la relación entre la miopía y la iluminación ambiental en la noche (por ejemplo, por las luces nocturnas de las ciudades o la luz de las habitaciones) durante la infancia."
   ]
  },
  {
   "cell_type": "markdown",
   "id": "386954aa-ac9a-440e-8021-9010ddedfe33",
   "metadata": {},
   "source": [
    "<!-- BEGIN QUESTION -->\n",
    "\n",
    "**Pregunta 1.** Los datos reportados en el estudio fueron obtenidos mediante el siguiente procedimiento. \"Entre enero y junio de 1998, padres de niños entre los 2 y los 16 años [...] que fueron tratados como pacientes en una clínica pediátrica de oftalmología, llenaron un cuestionario sobre la exposición de luz de los niños antes y después de que hubieran cumplido 2 años. ¿Fue este estudio observacional o fue un experimento controlado? Explique. **(5 Puntos)**"
   ]
  },
  {
   "cell_type": "markdown",
   "id": "f6a9716b-4063-4b92-b10c-902fb10213bf",
   "metadata": {},
   "source": [
    "##### Escriba aquí su respuesta, reemplazando este texto."
   ]
  },
  {
   "cell_type": "markdown",
   "id": "98df8d11-6784-405a-af50-33f3bf034978",
   "metadata": {},
   "source": [
    "<!-- END QUESTION -->\n",
    "\n",
    "<!-- BEGIN QUESTION -->\n",
    "\n",
    "**Pregunta 2.** El estudio encontró que de los niños que dormían con la luz de la habitación encendida antes de cumplir los 2 años, el 55% era miope.  De los niños que dormían con una lámpara de noche encendida, el 34% eran miopes. De los niños menores de 2 años que dormían en la oscuridad, 10% eran miopes. El estudio concluyó lo siguiente: \"La prevalencia de la miopía [...] durante la infancia está fuertemente asociada con la exposición a luz ambiental durante el sueño en la noche, durante los dos primeros años de edad.\"\n"
   ]
  },
  {
   "cell_type": "markdown",
   "id": "46520895-d6c5-40e8-ae2e-d65ba5107e79",
   "metadata": {},
   "source": [
    "Escriba su opinion frente a la afirmación de la pregunta2. reemplace este texto"
   ]
  },
  {
   "cell_type": "markdown",
   "id": "053a03c1-79f8-48c7-bf69-1a979eaecd28",
   "metadata": {
    "id": "Cp5dv6BaH-nf"
   },
   "source": [
    "<!-- END QUESTION -->\n",
    "\n",
    "<!-- BEGIN QUESTION -->\n",
    "\n",
    "**Pregunta 3.** El 13 de mayo de 1999, CNN reportó los resultados de este estudio con el titular: \"La luz nocturna puede producir miopía\". ¿El estudio original concluye que la luz nocturna puede causar miopía? **(5 Puntos)**\n",
    "\n"
   ]
  },
  {
   "cell_type": "markdown",
   "id": "4e112d7c-2c85-42e8-a324-d985d7f69a99",
   "metadata": {
    "id": "Xv1lcB0hH-ng"
   },
   "source": [
    "Escriba aquí su respuesta, reemplazando este texto."
   ]
  },
  {
   "cell_type": "markdown",
   "id": "1a80b980-0c37-4c6d-8ab2-6d4e8612091b",
   "metadata": {
    "id": "FVnuOtttH-nh"
   },
   "source": [
    "<!-- END QUESTION -->\n",
    "\n",
    "<!-- BEGIN QUESTION -->\n",
    "\n",
    "**Pregunta 4.** EL párrafo final del reporte de CNN dice que \"muchos especialistas\" señalaron que el estudio debería considerar la herencia.\n",
    "\n",
    "La miopía se hereda de los padres a los hijos. Padres miopes tienen mayor probabilidad de tener hijos miopes, y es también más probable que dejen las luces encendidas habitualmente (dado que los padres tienen mala visión). ¿En qué sentido el conocimiento de esta posible relción genética afecta cómo interpretamos los datos del estudio? Explique **(5 Puntos)**"
   ]
  },
  {
   "cell_type": "markdown",
   "id": "49bbd260-6712-4312-88d1-180cb8ea34d2",
   "metadata": {
    "id": "Z-86_njAH-nh"
   },
   "source": [
    "_Escriba aquí su respuesta, reemplazando este texto._"
   ]
  },
  {
   "cell_type": "markdown",
   "id": "4352aaf2-9265-49fd-a570-658f6e4bc83a",
   "metadata": {},
   "source": [
    "<!-- END QUESTION -->\n",
    "\n",
    "## 6. Estudiando a los sobrevivientes"
   ]
  },
  {
   "cell_type": "markdown",
   "id": "2150329d-762b-4d9f-a517-d1885c7c76a6",
   "metadata": {
    "deletable": false,
    "editable": false
   },
   "source": [
    "El reverendo Henry Whitehead fue escéptico sobre la conclusión de John Snow sobre el Brote de Broad Street.  Luego de que la pandemia de cólera de Broad Street terminó, Whitehead trató de de probar que Snow estaba equivocado. (La historia de este evento se detalla [aquí](https://www.scielo.cl/scielo.php?script=sci_arttext&pid=S0716-10182007000400014).)\n",
    "\n",
    "\n",
    "Él notó que Snow había enfocado su análisis casi enteramente en aquellos que fallecieron. Whitehead, por otro lado, investigó los hábitos de bebida de las personas en el área de Broad Street que no habían fallecido en el brote.\n",
    "\n",
    "¿Cuál es la principal razón por la cual fue importante estudiar este grupo. Asigne 1, 2, ó 3 al nombre `respuesta_supervivientes` abajo. **(4 Points)**\n",
    "\n",
    "\n",
    "1. Si Whitehead encontró que muchas personas habían bebido agua del brote de Broad Street y no se contagiaron de cólera, esto puede ser evidencia contra la hipótesis de Snow.\n",
    "\n",
    "2. Los sobrevivientes pueden proveer información adicional sobre qué más pudo haber causado el cólera, potencialmente apuntando a otra causa.\n",
    "\n",
    "3. Tras considerar los supervivientes, Whitehead pudo haber identificado una cura para el cólera."
   ]
  },
  {
   "cell_type": "code",
   "execution_count": null,
   "id": "28914168",
   "metadata": {
    "tags": []
   },
   "outputs": [],
   "source": [
    "respuesta_supervivientes = ..."
   ]
  },
  {
   "cell_type": "markdown",
   "id": "3551b95c",
   "metadata": {
    "deletable": false,
    "editable": false
   },
   "source": [
    "**Nota:** Whitehead terminó encontrando pruebas de que el brote de Broad Street jugó un rol clave en la propagación de la enfermedad a personas que vivían cerca. Eventualmente, se convirtió en uno de los mayores defensores de Snow."
   ]
  },
  {
   "cell_type": "code",
   "execution_count": null,
   "id": "b63042a3",
   "metadata": {
    "deletable": false,
    "editable": false
   },
   "outputs": [],
   "source": [
    "grader.check(\"q6_1\")"
   ]
  },
  {
   "cell_type": "markdown",
   "id": "e3c3b084",
   "metadata": {},
   "source": [
    "## 7. Políticas y Administratrivia\n",
    "\n",
    "\n",
    "\n",
    "Esta sección de la tarea es para asegurarnos que leyó las políticas y sección de preguntas frecuentes del curso.\n",
    "\n",
    "**Es importante que lea esta sección de la tarea con mucha atención**. Si\n",
    "usted logra terminar esta sección y está seguro de tener todos los recursos correctos configurados, ¡podrá concentrarse en el material real este semestre!\n",
    "\n",
    "Leyendo la sección de [políticas](http://data8.org/fa23/policies/) y de [preguntas frecuentes](http://data8.org/fa23/faq/) podrá aprobar esta sección con facilidad. Se recomiendo leer antes de en efecto ejecutar esta parte de la tarea."
   ]
  },
  {
   "cell_type": "markdown",
   "id": "f6e952e4",
   "metadata": {
    "deletable": false,
    "editable": false
   },
   "source": [
    "**Pregunta 1.** Suponga que tiene una pregunta respecto a la calificación de algunas de sus tareas que no estaba previamente respondida en la plataforma o en la sección de preguntas precuentes. ¿A quién contactaría? Asigne `contacto` al número correspondiente con la mejor elección. **(4 Points)**\n",
    "\n",
    "\n",
    "1. Los instructores del curso.\n",
    "2. Publicar una pregunta en la plataforma.\n",
    "3. Contactar a su profesor del laboratorio."
   ]
  },
  {
   "cell_type": "code",
   "execution_count": null,
   "id": "cf336bdf-d4fc-4d4f-b38c-a9a67c8fcfd4",
   "metadata": {
    "tags": [],
    "vscode": {
     "languageId": "raw"
    }
   },
   "outputs": [],
   "source": [
    "contacto = ..."
   ]
  },
  {
   "cell_type": "code",
   "execution_count": null,
   "id": "08990d3e",
   "metadata": {
    "deletable": false,
    "editable": false
   },
   "outputs": [],
   "source": [
    "grader.check(\"q7_1\")"
   ]
  },
  {
   "cell_type": "markdown",
   "id": "2925f0bf",
   "metadata": {
    "deletable": false,
    "editable": false
   },
   "source": [
    "**Pregunta 2.** Las fechas límites para volver a calificar siempre se publicarán en la plataforma en la que se entregan las notas de las tareas, errores comunes y soluciones. ¿Puede pedir que recalifiquen partes de su tarea luego de que se haya cumplido el plazo de recalificación? Asigne `calificacion` al número correspondiente con la mejor elección. **(4 puntos)**\n",
    "\n",
    "\n",
    "\n",
    "1. Sí\n",
    "2. No "
   ]
  },
  {
   "cell_type": "code",
   "execution_count": null,
   "id": "e5f3778a-a446-4fb3-9b7d-52515c88ab5b",
   "metadata": {
    "tags": [],
    "vscode": {
     "languageId": "raw"
    }
   },
   "outputs": [],
   "source": [
    "calificacion = ..."
   ]
  },
  {
   "cell_type": "markdown",
   "id": "19aed0a4",
   "metadata": {},
   "source": [
    "¡Terminó la tarea 1!\n",
    "\n",
    "**Información sobre la entrega:** Asegúrese de correr todas las pruebas y verificar que se ejectuen correctamente. Aquí, seleccione **Guardar Notebook** En el menú de **Archivo** y **corra la  última celda** para luego darle click en descargar el archivo zip. Con el archivo, vaya a [Gradescope](https://www.gradescope.com/courses/576157) y cargue el archivo zip correspondiente a esta tarea. El nombre de esta tarea es \"HW 01 Autograder\". **Es su responsabilidad asegurarse que su trabajo se guarde antes de correr la última celda**.\n",
    "\n",
    "Una vez la haya entregado, su tarea en Gradescope se deberá ver como la siguiente imagen si pasó todas las pruebas.\n",
    "\n",
    "\n",
    "**Nota:** *Esta foto es el resultado de someter un atrabajo genérico a Gradescope.*\n",
    "\n",
    "<img src=\"gradescope.png\">"
   ]
  },
  {
   "cell_type": "markdown",
   "id": "97a2ae2c",
   "metadata": {},
   "source": [
    "## Estudiantes de Fundamentos de Ciencia de Datos\n",
    "\n",
    "¡Felicitaciones por terminar la tarea 1!\n",
    "\n",
    "<img src=\"./snowball.png\" width=\"30%\" alt=\"Close up picture of dog smiling.\"/>\n",
    "\n",
    "Perro de la semana: **Snowball**"
   ]
  },
  {
   "cell_type": "markdown",
   "id": "326a9e27",
   "metadata": {},
   "source": [
    "## Entrega\n",
    "\n",
    "Asegúrese que ha ejecutado todas las celdas en su notebook en orden antes de ejecutar la celda de abajo. De esta forma todas las imágenes/gráficas apareceran en la salida. La celda de abajo va a generar un archivo con extensión .zip para que usted lo entregue. **¡Por favor guarde antes de exportar!**"
   ]
  },
  {
   "cell_type": "markdown",
   "id": "5719753e",
   "metadata": {
    "deletable": false,
    "editable": false
   },
   "source": [
    "## Submission\n",
    "\n",
    "Make sure you have run all cells in your notebook in order before running the cell below, so that all images/graphs appear in the output. The cell below will generate a zip file for you to submit. **Please save before exporting!**\n",
    "\n",
    "These are some submission instructions."
   ]
  },
  {
   "cell_type": "code",
   "execution_count": null,
   "id": "3cb8c646",
   "metadata": {
    "deletable": false,
    "editable": false
   },
   "outputs": [],
   "source": [
    "# Save your notebook first, then run this cell to export your submission.\n",
    "grader.export(run_tests=True)"
   ]
  },
  {
   "cell_type": "markdown",
   "id": "71188dda",
   "metadata": {},
   "source": [
    " "
   ]
  }
 ],
 "metadata": {
  "kernelspec": {
   "display_name": "Python 3 (ipykernel)",
   "language": "python",
   "name": "python3"
  },
  "language_info": {
   "codemirror_mode": {
    "name": "ipython",
    "version": 3
   },
   "file_extension": ".py",
   "mimetype": "text/x-python",
   "name": "python",
   "nbconvert_exporter": "python",
   "pygments_lexer": "ipython3",
   "version": "3.10.12"
  },
  "otter": {
   "OK_FORMAT": true,
   "tests": {
    "q2_1": {
     "name": "q2_1",
     "points": null,
     "suites": [
      {
       "cases": [
        {
         "code": ">>> assert isinstance(characters_q1, int)\n>>> assert 1 <= characters_q1 <= 5\n>>> assert np.isclose(characters_q1 * np.pi, 2 * np.pi, 0.01)\n",
         "hidden": false,
         "locked": false
        }
       ],
       "scored": true,
       "setup": "",
       "teardown": "",
       "type": "doctest"
      }
     ]
    },
    "q2_2": {
     "name": "q2_2",
     "points": null,
     "suites": [
      {
       "cases": [
        {
         "code": ">>> assert isinstance(characters_q2, int)\n>>> assert 1 <= characters_q2 <= 3\n>>> assert np.isclose(characters_q2 * np.pi, 3 * np.pi, 0.01)\n",
         "hidden": false,
         "locked": false
        }
       ],
       "scored": true,
       "setup": "",
       "teardown": "",
       "type": "doctest"
      }
     ]
    },
    "q3_1": {
     "name": "q3_1",
     "points": null,
     "suites": [
      {
       "cases": [
        {
         "code": ">>> assert isinstance(nombres_q1, int)\n>>> assert 1 <= nombres_q1 <= 4\n>>> assert np.isclose(nombres_q1 * np.pi, 2 * np.pi, 0.01)\n",
         "hidden": false,
         "locked": false
        }
       ],
       "scored": true,
       "setup": "",
       "teardown": "",
       "type": "doctest"
      }
     ]
    },
    "q3_2": {
     "name": "q3_2",
     "points": null,
     "suites": [
      {
       "cases": [
        {
         "code": ">>> assert isinstance(nombres_q2, int)\n>>> assert 1 <= nombres_q2 <= 4\n>>> assert np.isclose(nombres_q2 * np.pi, 4 * np.pi, 0.01)\n",
         "hidden": false,
         "locked": false
        }
       ],
       "scored": true,
       "setup": "",
       "teardown": "",
       "type": "doctest"
      }
     ]
    },
    "q3_3": {
     "name": "q3_3",
     "points": null,
     "suites": [
      {
       "cases": [
        {
         "code": ">>> assert isinstance(nombres_q3, int)\n>>> assert 1 <= nombres_q3 <= 4\n>>> assert np.isclose(nombres_q3 * np.pi, 2 * np.pi, 0.01)\n",
         "hidden": false,
         "locked": false
        }
       ],
       "scored": true,
       "setup": "",
       "teardown": "",
       "type": "doctest"
      }
     ]
    },
    "q4_1": {
     "name": "q4_1",
     "points": null,
     "suites": [
      {
       "cases": [
        {
         "code": ">>> assert isinstance(mayor_diferencia, int)\n>>> assert np.isclose(mayor_diferencia * np.pi, 45 * np.pi, 0.01)\n",
         "hidden": false,
         "locked": false
        }
       ],
       "scored": true,
       "setup": "",
       "teardown": "",
       "type": "doctest"
      }
     ]
    },
    "q4_2": {
     "name": "q4_2",
     "points": null,
     "suites": [
      {
       "cases": [
        {
         "code": ">>> assert isinstance(menor_cambio_programa, int)\n>>> assert menor_cambio_programa >= 0\n",
         "hidden": false,
         "locked": false
        },
        {
         "code": ">>> assert menor_cambio_programa + np.pi == 0 + np.pi\n",
         "hidden": false,
         "locked": false
        }
       ],
       "scored": true,
       "setup": "",
       "teardown": "",
       "type": "doctest"
      }
     ]
    },
    "q4_3": {
     "name": "q4_3",
     "points": null,
     "suites": [
      {
       "cases": [
        {
         "code": ">>> assert cambio_relativo_biologia >= 0\n>>> assert cambio_relativo_fisica >= 0\n>>> assert cambio_relativo_matematicas >= 0\n>>> assert cambio_relativo_quimica >= 0\n",
         "hidden": false,
         "locked": false
        },
        {
         "code": ">>> assert np.isclose(91.66, cambio_relativo_fisica, atol=0.1)\n",
         "hidden": false,
         "locked": false
        },
        {
         "code": ">>> assert np.isclose(37.5, cambio_relativo_matematicas, atol=0.1)\n",
         "hidden": false,
         "locked": false
        },
        {
         "code": ">>> assert np.isclose(43.58, cambio_relativo_quimica, atol=0.1)\n",
         "hidden": false,
         "locked": false
        }
       ],
       "scored": true,
       "setup": "",
       "teardown": "",
       "type": "doctest"
      }
     ]
    },
    "q4_4": {
     "name": "q4_4",
     "points": null,
     "suites": [
      {
       "cases": [
        {
         "code": ">>> assert isinstance(mayor_cambio_rel_programa, int)\n>>> assert mayor_cambio_rel_programa > 0\n",
         "hidden": false,
         "locked": false
        },
        {
         "code": ">>> assert 1 <= mayor_cambio_rel_programa <= 4\n",
         "hidden": false,
         "locked": false
        }
       ],
       "scored": true,
       "setup": "",
       "teardown": "",
       "type": "doctest"
      }
     ]
    },
    "q6_1": {
     "name": "q6_1",
     "points": null,
     "suites": [
      {
       "cases": [
        {
         "code": ">>> assert isinstance(respuesta_supervivientes, int)\n>>> assert respuesta_supervivientes >= 0\n>>> assert 1 <= respuesta_supervivientes <= 3\n",
         "hidden": false,
         "locked": false
        }
       ],
       "scored": true,
       "setup": "",
       "teardown": "",
       "type": "doctest"
      }
     ]
    },
    "q7_1": {
     "name": "q7_1",
     "points": null,
     "suites": [
      {
       "cases": [
        {
         "code": ">>> assert contacto == 1\n",
         "hidden": false,
         "locked": false
        }
       ],
       "scored": true,
       "setup": "",
       "teardown": "",
       "type": "doctest"
      }
     ]
    },
    "q7_2": {
     "name": "q7_2",
     "points": null,
     "suites": [
      {
       "cases": [],
       "scored": true,
       "setup": "",
       "teardown": "",
       "type": "doctest"
      }
     ]
    }
   }
  }
 },
 "nbformat": 4,
 "nbformat_minor": 5
}
