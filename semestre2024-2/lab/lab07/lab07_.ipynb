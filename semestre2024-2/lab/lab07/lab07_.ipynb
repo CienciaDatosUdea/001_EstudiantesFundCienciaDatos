{
 "cells": [
  {
   "cell_type": "code",
   "execution_count": null,
   "id": "46aed293",
   "metadata": {
    "deletable": false,
    "editable": false
   },
   "outputs": [],
   "source": [
    "# Initialize Otter\n",
    "import otter\n",
    "grader = otter.Notebook(\"lab07_.ipynb\")"
   ]
  },
  {
   "cell_type": "markdown",
   "id": "LCWNJeSnEGLp",
   "metadata": {
    "deletable": true,
    "editable": true,
    "id": "LCWNJeSnEGLp"
   },
   "source": [
    "\n",
    "\n",
    "<p><img alt=\"Colaborat\" style=\"height: 220px;\" src=\"https://github.com/CienciaDatosUdea/001_DataSetFundCienciaDatos/blob/main/semestre2024-2/lab/lab02/Escudo-UdeA.svg.png?raw=true\" align=\"left\" hspace=\"10px\" vspace=\"0px\"></p>\n",
    "\n",
    "\n",
    "# Fundamentos en ciencias de datos\n",
    "\n",
    "\n",
    "\n",
    "# Laboratorio 7: Great British Bake Off (Prueba A/B)\n",
    "\n",
    "¡Bienvenido al Laboratorio 7 de Data 8! El laboratorio de esta semana se centrará en las pruebas A/B utilizando datos del  programa de televisión británico, [*The Great British Bake Off*](https://en.wikipedia.org/wiki/The_Great_British_Bake_Off).\n",
    "\n"
   ]
  },
  {
   "cell_type": "markdown",
   "id": "MMNb2l6SEGL6",
   "metadata": {
    "deletable": true,
    "editable": true,
    "id": "MMNb2l6SEGL6"
   },
   "source": [
    "Como recordatorio, estas son las políticas para obtener una nota completa:\n",
    "\n",
    "1. Recuerden que  recibiran el 80% del laboratorio solo con **asistir** a la sección de los viernes laboratorio y lograr un progreso significativo en ```notebook de jupyter```.\n",
    "\n",
    "\n",
    "\n",
    "**Envío**: Una vez que haya terminado, ejecute todas las celdas además de la última, seleccione Archivo > Guardar cuaderno y luego ejecute la celda final. El resultado contendrá un archivo zip que podrá utilizar para enviarlo.\n",
    "\n",
    "Comencemos configurando las pruebas e importaciones ejecutando la siguiente celda."
   ]
  },
  {
   "cell_type": "code",
   "execution_count": null,
   "id": "-dTPHMAEEGL7",
   "metadata": {
    "deletable": true,
    "editable": true,
    "id": "-dTPHMAEEGL7"
   },
   "outputs": [],
   "source": [
    "# Ejecute esta celda para configurar el cuaderno, pero no la cambie.\n",
    "\n",
    "# Estas líneas importan los módulos Numpy y Datascience.\n",
    "import numpy as np\n",
    "from datascience import *\n",
    "\n",
    "# Estas líneas hacen algo de magia en la trama.\n",
    "import matplotlib\n",
    "%matplotlib inline\n",
    "import matplotlib.pyplot as plots\n",
    "plots.style.use('fivethirtyeight')\n",
    "import warnings\n",
    "warnings.simplefilter('ignore', (FutureWarning, DeprecationWarning))\n"
   ]
  },
  {
   "cell_type": "markdown",
   "id": "5678d901-3712-42f4-97ae-9524813dab2c",
   "metadata": {
    "deletable": false,
    "editable": false
   },
   "source": [
    "<!-- BEGIN QUESTION -->\n",
    "\n",
    "Ingresa tu nombre  con apellido y número de carnet en las variables dadas en la celda siguiente:\n",
    "Ejemplo:\n",
    "```python\n",
    "NombreApellidos=\"Alan Turing\"\n",
    "NumeroCarnet=\"27182818\"\n",
    "Email=\"alan.turing@udea.edu.co\"\n",
    "```"
   ]
  },
  {
   "cell_type": "code",
   "execution_count": null,
   "id": "83561336-6618-4c7f-851f-2b134ae703d2",
   "metadata": {
    "tags": []
   },
   "outputs": [],
   "source": [
    "NombreApellidos=\"...\"\n",
    "NumeroCarnet=\"..\"\n",
    "Email=\"...\""
   ]
  },
  {
   "cell_type": "code",
   "execution_count": null,
   "id": "cbd20c58",
   "metadata": {
    "deletable": false,
    "editable": false
   },
   "outputs": [],
   "source": [
    "grader.check(\"qt\")"
   ]
  },
  {
   "cell_type": "markdown",
   "id": "otiztXVXEGL9",
   "metadata": {
    "deletable": false,
    "editable": false,
    "id": "otiztXVXEGL9"
   },
   "source": [
    "<!-- END QUESTION -->\n",
    "\n",
    "## 1. Pruebas A/B\n",
    "\n",
    "La prueba A/B es una forma de prueba de hipótesis que le permite hacer comparaciones entre dos distribuciones. También podemos referirnos a una prueba A/B como prueba de permutación.\n",
    "\n",
    "Casi nunca se te pedirá explícitamente que realices una prueba A/B. Asegúrese de poder identificar situaciones en las que la prueba sea apropiada y sepa cómo implementar correctamente cada paso. A menudo, utilizamos una prueba A/B para determinar si dos muestras provienen o no de la misma distribución subyacente."
   ]
  },
  {
   "cell_type": "markdown",
   "id": "lRXlYs0CEGL9",
   "metadata": {
    "deletable": false,
    "editable": false,
    "id": "lRXlYs0CEGL9"
   },
   "source": [
    "**Pregunta 1.1.** Las siguientes afirmaciones son los pasos de una prueba de hipótesis A/B presentada en *orden aleatorio*:\n",
    "\n",
    "1. Elija un estadístico de prueba (normalmente la diferencia de medias entre dos categorías)\n",
    "\n",
    "2. Mezcle las etiquetas de la muestra original, encuentre su estadístico de prueba simulada y repita muchas veces.\n",
    "\n",
    "3. Encuentre el valor del estadístico de prueba observado.\n",
    "\n",
    "4. Calcule el valor p basándose en los estadísticos de prueba observadas y simuladas.\n",
    "\n",
    "5. Definir la hipotesis nulo y alternativa.\n",
    "\n",
    "6. Utilice el valor p y el límite del valor p para sacar una conclusión sobre la hipótesis nula.\n",
    "\n",
    "Para responder la pregunta, asigne `ab_test_order` a una matriz de números enteros con los números correctos de una prueba A/B, donde el primer elemento de la matriz es el primer paso de una prueba A/B y el último elemento de la matriz es el último paso de una prueba A/B."
   ]
  },
  {
   "cell_type": "code",
   "execution_count": null,
   "id": "82879d6b",
   "metadata": {
    "tags": []
   },
   "outputs": [],
   "source": [
    "ab_test_order = ..."
   ]
  },
  {
   "cell_type": "code",
   "execution_count": null,
   "id": "6ab7a342",
   "metadata": {
    "deletable": false,
    "editable": false
   },
   "outputs": [],
   "source": [
    "grader.check(\"q0\")"
   ]
  },
  {
   "cell_type": "markdown",
   "id": "f_Wry7OgEGL_",
   "metadata": {
    "deletable": false,
    "editable": false,
    "id": "f_Wry7OgEGL_"
   },
   "source": [
    "**Pregunta 1.2.** \n",
    "Si la hipótesis nula de una prueba A/B es correcta, ¿debería influir el orden de las etiquetas (es decir, la asignación de participantes a los grupos A o B) en las diferencias de medias entre ambos grupos? Asigna False or True a la variable respuesta y justifica más abajo. \n",
    "\n",
    "Explica por qué es importante aleatorizar las etiquetas en una prueba A/B. \n",
    "\n",
    "Si estás en una sesión de laboratorio, confirma tu respuesta con un compañero o con el profesor antes de continuar.\n"
   ]
  },
  {
   "cell_type": "code",
   "execution_count": null,
   "id": "dcd07867",
   "metadata": {
    "tags": []
   },
   "outputs": [],
   "source": [
    "respuesta=..."
   ]
  },
  {
   "cell_type": "code",
   "execution_count": null,
   "id": "3d90c59c",
   "metadata": {
    "deletable": false,
    "editable": false
   },
   "outputs": [],
   "source": [
    "grader.check(\"q1\")"
   ]
  },
  {
   "cell_type": "markdown",
   "id": "y4iTCWI-EGL_",
   "metadata": {
    "deletable": true,
    "editable": true,
    "id": "y4iTCWI-EGL_"
   },
   "source": [
    "_Escriba su justificación aquí, reemplazando este texto._"
   ]
  },
  {
   "cell_type": "markdown",
   "id": "Bz6Hh0mAEGL_",
   "metadata": {
    "deletable": true,
    "editable": true,
    "id": "Bz6Hh0mAEGL_"
   },
   "source": [
    "## 2. *The Great British Bake Off*\n",
    "\n",
    ">\"The Great British Bake Off (a menudo abreviado como Bake Off o GBBO, el gran pastelero en español) es una competencia de repostería de la televisión británica, en la que un grupo de panaderos aficionados compiten entre sí en una serie de rondas, intentando impresionar a un grupo de jueces con sus habilidades para hornear\" [Wikipedia](https://en.wikipedia.org/wiki/The_Great_British_Bake_Off)\n",
    "\n",
    "En cada semana de la competencia, los jueces eligen a un concursante como **\"*Star Baker*\"** (*mejor panadero de la semana*). Este título se otorga al participante que tuvo el mejor desempeño en los desafíos de esa semana. \n",
    "\n",
    "Al final de la temporada, se selecciona a un único **ganador del programa**.\n",
    "\n",
    "Con estos datos, nuestro objetivo es **analizar la relación entre ganar premios *Star Baker* y la probabilidad de convertirse en el campeón de la temporada**. Es decir, queremos saber si **obtener más títulos de *Star Baker* realmente aumenta las probabilidades de ganar** o si es solo una coincidencia.\n"
   ]
  },
  {
   "cell_type": "markdown",
   "id": "quofFY3yEGMA",
   "metadata": {
    "deletable": false,
    "editable": false,
    "id": "quofFY3yEGMA"
   },
   "source": [
    "**Pregunta 2.1:**  \n",
    "Queremos investigar si obtener más premios *Star Baker* **causa** un aumento en la probabilidad para ganar la temporada. \n",
    "\n",
    "Sin embargo, **¿por qué no es suficiente con comparar la frecuencia de premios *Star Baker* entre quienes ganaron la temporada y quienes no?**"
   ]
  },
  {
   "cell_type": "code",
   "execution_count": null,
   "id": "a8924388",
   "metadata": {
    "tags": []
   },
   "outputs": [],
   "source": []
  },
  {
   "cell_type": "markdown",
   "id": "PAbU1ZLjEGMA",
   "metadata": {
    "deletable": true,
    "editable": true,
    "id": "PAbU1ZLjEGMA"
   },
   "source": [
    "_Escriba su respuesta aquí, reemplazando este texto._"
   ]
  },
  {
   "cell_type": "markdown",
   "id": "4e20a799-12c4-4c51-aa10-1be52f3063e3",
   "metadata": {},
   "source": [
    "..."
   ]
  },
  {
   "cell_type": "markdown",
   "id": "BUWgwHZBEGMA",
   "metadata": {
    "deletable": true,
    "editable": true,
    "id": "BUWgwHZBEGMA"
   },
   "source": [
    "### 🧪 **Ejecución del experimento**  \n",
    "\n",
    "Realizaremos la siguiente prueba de hipótesis para determinar la asociación entre ganar y la cantidad de premios Star Baker. La población que estamos examinando son todos los concursantes de las temporadas 2 a 11 de *The Great British Bake Off* GBBO. Vamos a utilizar las siguientes hipótesis nula y alternativa:\n",
    "\n",
    "- 📌 **Hipótesis nula (H₀):**  La distribución de los premios *Star Baker* entre los concursantes que ganaron su temporada y los concursantes que no ganaron su temporada es la misma.\n",
    "\n",
    "- 💡 **Hipótesis alternativa (H₁):** Los concursantes que ganen su temporada del programa ganarán más premios Star Baker en promedio.\n",
    "\n",
    "Nuestra hipótesis alternativa está relacionada con nuestra sospecha de que los concursantes que ganan más premios Star Baker son más hábiles, por lo que tienen más probabilidades de ganar la temporada.\n",
    "\n"
   ]
  },
  {
   "cell_type": "markdown",
   "id": "-EpslrHaEGMA",
   "metadata": {
    "deletable": false,
    "editable": false,
    "id": "-EpslrHaEGMA"
   },
   "source": [
    "**Pregunta 2.2.** ¿Deberíamos utilizar una prueba A/B para probar estas hipótesis? En caso afirmativo, ¿cuál es nuestro grupo \"A\" y cuál es nuestro grupo \"B\"?"
   ]
  },
  {
   "cell_type": "code",
   "execution_count": null,
   "id": "45969c74",
   "metadata": {
    "tags": []
   },
   "outputs": [],
   "source": [
    "grupo_a = \"Escriba acá quien pueden ser el grupo A\"\n",
    "grupo_b = \"Escriba acá quien pueden ser del grupo B\""
   ]
  },
  {
   "cell_type": "markdown",
   "id": "r4D3ZfxwEGMB",
   "metadata": {
    "deletable": true,
    "editable": true,
    "id": "r4D3ZfxwEGMB"
   },
   "source": [
    "_Justifique su respuesta aquí, reemplazando este texto._"
   ]
  },
  {
   "cell_type": "markdown",
   "id": "DHb3uPnFEGMB",
   "metadata": {
    "deletable": true,
    "editable": true,
    "id": "DHb3uPnFEGMB"
   },
   "source": [
    "Verifique sus respuestas con sus compañeros o el profesor de clase."
   ]
  },
  {
   "cell_type": "markdown",
   "id": "x3dZ6c5hEGMB",
   "metadata": {
    "deletable": true,
    "editable": true,
    "id": "x3dZ6c5hEGMB"
   },
   "source": [
    "La siguiente tabla de \"panaderos\" describe la cantidad de premios de panadero estrella que ganó cada concurso y si ganaron o no su temporada (\"1\" si ganaron, \"0\" si no ganaron). Los datos se agregaron manualmente de Wikipedia para las temporadas 2 a 11 del programa. Aleatorizamos el orden de las filas para no estropear el resultado del espectáculo."
   ]
  },
  {
   "cell_type": "code",
   "execution_count": null,
   "id": "R8DmdXZoEGMB",
   "metadata": {
    "deletable": true,
    "editable": true,
    "id": "R8DmdXZoEGMB"
   },
   "outputs": [],
   "source": [
    "bakers = Table.read_table(\"star_bakers.csv\")\n",
    "bakers.show(3)"
   ]
  },
  {
   "cell_type": "markdown",
   "id": "8GqV_7zfEGMC",
   "metadata": {
    "deletable": false,
    "editable": false,
    "id": "8GqV_7zfEGMC"
   },
   "source": [
    "**Pregunta 2.3.** Cree una nueva tabla llamada `medias` que contenga el número medio de premios de panadero estrella para los panaderos que no ganaron (`ganaron==0`) y los panaderos que ganaron (`ganaron==1`). ). La tabla debe tener los nombres de las columnas \"won\" y \"star baker awards average\"."
   ]
  },
  {
   "cell_type": "code",
   "execution_count": null,
   "id": "30f469f6",
   "metadata": {
    "tags": []
   },
   "outputs": [],
   "source": [
    "medias = ..."
   ]
  },
  {
   "cell_type": "code",
   "execution_count": null,
   "id": "657a431a",
   "metadata": {
    "deletable": false,
    "editable": false
   },
   "outputs": [],
   "source": [
    "grader.check(\"q4\")"
   ]
  },
  {
   "cell_type": "markdown",
   "id": "awzYSmHzEGMC",
   "metadata": {
    "deletable": false,
    "editable": false,
    "id": "awzYSmHzEGMC"
   },
   "source": [
    "**Pregunta 2.4.** Visualice la distribución de los premios Star Baker para los ganadores y no ganadores como histogramas superpuestos. Debe utilizar los contenedores que le proporcionamos.\n",
    "\n",
    "Sugerencia: querrá utilizar el argumento de grupo de `tbl.hist`. Para producir varios histogramas superpuestos basados en valores únicos en una columna determinada, podemos hacer algo como `tbl.hist(..., group=<col_name>, bins=...)`. Esto graficará un histograma para cada valor único en la columna especificada, todo en un solo gráfico."
   ]
  },
  {
   "cell_type": "code",
   "execution_count": null,
   "id": "0dfb28fa",
   "metadata": {
    "tags": []
   },
   "outputs": [],
   "source": [
    "useful_bins = np.arange(0, 7)\n",
    "..."
   ]
  },
  {
   "cell_type": "markdown",
   "id": "6tbbGGGUEGMD",
   "metadata": {
    "deletable": false,
    "editable": false,
    "id": "6tbbGGGUEGMD"
   },
   "source": [
    "**Pregunta 2.5.** Queremos determinar si existe una diferencia entre la distribución de los premios Star Baker entre ganadores y no ganadores.\n",
    "\n",
    "¿Cuál debería ser el estadístico de prueba? ¿Qué valores de este estadístico de prueba respaldan la nula y qué valores respaldan la alternativa? **Asigne `test_option` al número correspondiente a la estadística de prueba correcta.**\n",
    "\n",
    "1. Valor absoluto de la diferencia de medias entre ambos grupos; los valores altos apoyan el nulo\n",
    "2. Valor absoluto de la diferencia entre las medias entre ambos grupos; los valores bajos apoyan el nulo\n",
    "3. Premios Star Baker promedio para los ganadores menos premios Star Baker promedio para los no ganadores; los valores altos apoyan el nulo\n",
    "4. Premios Star Baker promedio para los ganadores menos premios Star Baker promedio para los no ganadores; los valores bajos apoyan el nulo\n",
    "\n",
    "Antes de continuar, confirma tu respuesta con un compañero o en los foros de discusión.\n",
    "\n",
    "_Pista:_ Deberías pensar en qué medidas utilizamos para describir una distribución.\n"
   ]
  },
  {
   "cell_type": "code",
   "execution_count": null,
   "id": "ce6313be",
   "metadata": {
    "tags": []
   },
   "outputs": [],
   "source": [
    "test_option = ..."
   ]
  },
  {
   "cell_type": "code",
   "execution_count": null,
   "id": "400d547d",
   "metadata": {
    "deletable": false,
    "editable": false
   },
   "outputs": [],
   "source": [
    "grader.check(\"q6\")"
   ]
  },
  {
   "cell_type": "code",
   "execution_count": null,
   "id": "74cc9f3f-c68e-4e37-80af-fcbf4def3cad",
   "metadata": {
    "deletable": false,
    "editable": false
   },
   "outputs": [],
   "source": [
    "medias"
   ]
  },
  {
   "cell_type": "markdown",
   "id": "3a2FG1cEEGME",
   "metadata": {
    "deletable": false,
    "editable": false,
    "id": "3a2FG1cEEGME"
   },
   "source": [
    "**Pregunta 2.6.** Establezca la \"diferencia observada\" en el estadístico de prueba observado utilizando la tabla de \"medias\"."
   ]
  },
  {
   "cell_type": "code",
   "execution_count": null,
   "id": "959ac038",
   "metadata": {
    "tags": []
   },
   "outputs": [],
   "source": [
    "diferencia_observada=...\n",
    "diferencia_observada"
   ]
  },
  {
   "cell_type": "code",
   "execution_count": null,
   "id": "df21680f",
   "metadata": {
    "deletable": false,
    "editable": false
   },
   "outputs": [],
   "source": [
    "grader.check(\"q7\")"
   ]
  },
  {
   "cell_type": "markdown",
   "id": "b4987d2c",
   "metadata": {
    "deletable": false,
    "editable": false,
    "vscode": {
     "languageId": "raw"
    }
   },
   "source": [
    "**Pregunta 2.7.** \n",
    "A partir de una tabla llamada `bakers`, que contiene:  \n",
    "- Una columna con el número de veces que un concursante ganó *Star Baker* (`star_col`),  \n",
    "- Una columna que indica si ganó la temporada (`won_col`),  \n",
    "\n",
    "**¿Cómo escribirías una función que calcule el estadística de prueba adecuado para evaluar si existe una relación entre ganar *Star Baker* y ganar la temporada?**\n",
    "*Pista:* Asegúrese de tener en cuenta la direccionalidad de nuestra hipótesis alternativa."
   ]
  },
  {
   "cell_type": "code",
   "execution_count": null,
   "id": "bb5e073e",
   "metadata": {
    "tags": []
   },
   "outputs": [],
   "source": [
    "def prueba_estadistica(panaderos, label_col, val_col):\n",
    "    ...\n",
    "    return estadistica_prueba\n",
    "\n",
    "prueba_estadistica(bakers,\"won\", \"star baker awards mean\")"
   ]
  },
  {
   "cell_type": "code",
   "execution_count": null,
   "id": "924166c1",
   "metadata": {
    "deletable": false,
    "editable": false
   },
   "outputs": [],
   "source": [
    "grader.check(\"q8\")"
   ]
  },
  {
   "cell_type": "markdown",
   "id": "5k4TSb8KEGMG",
   "metadata": {
    "deletable": true,
    "editable": true,
    "id": "5k4TSb8KEGMG"
   },
   "source": [
    "Cuando ejecutamos una simulación para pruebas A/B, volvemos a muestrear **mezclando las etiquetas** de la muestra original. Si la hipótesis nula es cierta y las distribuciones de premios del panadero estrella son las mismas, esperamos que la diferencia en la media de los premios del panadero estrella no cambie cuando se cambian las etiquetas en \"won\"."
   ]
  },
  {
   "cell_type": "markdown",
   "id": "0MmTBplEEGMG",
   "metadata": {
    "deletable": false,
    "editable": false,
    "id": "0MmTBplEEGMG"
   },
   "source": [
    "**Pregunta 2.8.** Escriba una función `simulate_and_test_statistic` para calcular una prueba de nuestra prueba A/B. Su función debería ejecutar una simulación y devolver una estadística de prueba."
   ]
  },
  {
   "cell_type": "code",
   "execution_count": null,
   "id": "4ebe8ca6",
   "metadata": {
    "tags": []
   },
   "outputs": [],
   "source": [
    "def simulate_and_test_statistic(table, label_column):\n",
    "    shuffled_labels=...\n",
    "    \n",
    "    ...\n",
    "    ...\n",
    "    return ...\n",
    "simulate_and_test_statistic(bakers, \"won\")"
   ]
  },
  {
   "cell_type": "code",
   "execution_count": null,
   "id": "e19962c7",
   "metadata": {
    "deletable": false,
    "editable": false
   },
   "outputs": [],
   "source": [
    "grader.check(\"q9\")"
   ]
  },
  {
   "cell_type": "markdown",
   "id": "LszL0gf9EGMH",
   "metadata": {
    "deletable": false,
    "editable": false,
    "id": "LszL0gf9EGMH"
   },
   "source": [
    "**Pregunta 2.9.** Simule 5000 pruebas de nuestra prueba A/B y almacene las estadísticas de la prueba en una matriz llamada \"differences\"."
   ]
  },
  {
   "cell_type": "code",
   "execution_count": null,
   "id": "712c83fb",
   "metadata": {
    "tags": []
   },
   "outputs": [],
   "source": [
    "differences = ...\n",
    "for ...\n",
    "differences"
   ]
  },
  {
   "cell_type": "code",
   "execution_count": null,
   "id": "e3954333",
   "metadata": {
    "deletable": false,
    "editable": false
   },
   "outputs": [],
   "source": [
    "grader.check(\"q10\")"
   ]
  },
  {
   "cell_type": "markdown",
   "id": "nethWOy0EGMI",
   "metadata": {
    "deletable": true,
    "editable": true,
    "id": "nethWOy0EGMI"
   },
   "source": [
    "Ejecute la celda a continuación para ver un histograma de sus estadísticas de prueba simuladas trazadas con su estadística de prueba observada."
   ]
  },
  {
   "cell_type": "code",
   "execution_count": null,
   "id": "5dRbRdGNEGMI",
   "metadata": {
    "deletable": true,
    "editable": true,
    "id": "5dRbRdGNEGMI"
   },
   "outputs": [],
   "source": [
    "Table().with_column('Difference Between Group Means', differences).hist(bins=20)\n",
    "plots.scatter(diferencia_observada, 0, color='red', s=30, zorder=2)\n",
    "plots.ylim(-0.1, 1.35);"
   ]
  },
  {
   "cell_type": "markdown",
   "id": "XgMhj2M0EGMJ",
   "metadata": {
    "deletable": false,
    "editable": false,
    "id": "XgMhj2M0EGMJ"
   },
   "source": [
    "**Pregunta 2.10.** Encuentre el valor p para su prueba y asígnelo a `empirical_p`."
   ]
  },
  {
   "cell_type": "code",
   "execution_count": null,
   "id": "ba6ab2d4",
   "metadata": {
    "tags": []
   },
   "outputs": [],
   "source": [
    "empirical_p = ...\n",
    "empirical_p"
   ]
  },
  {
   "cell_type": "code",
   "execution_count": null,
   "id": "a9c4f796",
   "metadata": {
    "deletable": false,
    "editable": false
   },
   "outputs": [],
   "source": [
    "grader.check(\"q11\")"
   ]
  },
  {
   "cell_type": "markdown",
   "id": "Xr8vM0UkEGMJ",
   "metadata": {
    "deletable": false,
    "editable": false,
    "id": "Xr8vM0UkEGMJ"
   },
   "source": [
    "**Pregunta 2.11.** Utilizando un límite de valor P del 5%, saque una conclusión sobre las hipótesis nula y alternativa. Describe tus hallazgos usando un lenguaje simple y no técnico. ¿Qué le dice su análisis sobre la asociación entre los premios Star Baker y ganar? ¿Qué puede afirmar sobre la causalidad a partir de su análisis estadístico? Confirme su respuesta con un compañero o el instructor."
   ]
  },
  {
   "cell_type": "markdown",
   "id": "T0_672swEGMK",
   "metadata": {
    "deletable": true,
    "editable": true,
    "id": "T0_672swEGMK"
   },
   "source": [
    "_Escriba su respuesta aquí, reemplazando este texto._"
   ]
  },
  {
   "cell_type": "markdown",
   "id": "3SYLv1tsEGMK",
   "metadata": {
    "deletable": true,
    "editable": true,
    "id": "3SYLv1tsEGMK"
   },
   "source": [
    "## ¡Todo listo!\n",
    "\n",
    "**Polaris** te felicita,  lo has hecho bien, has terminado el laboratorio número 7.\n",
    "\n",
    "<img src=\"Polaris.jpg\" alt=\"Foto en primer plano de un golden retriever mirando a la cámara\" width=\"300\"/>\n"
   ]
  },
  {
   "cell_type": "markdown",
   "id": "X_v-qt9wEGMK",
   "metadata": {
    "deletable": true,
    "editable": true,
    "id": "X_v-qt9wEGMK"
   },
   "source": [
    "\n",
    "---\n",
    "\n",
    "¡Terminaste con el laboratorio!\n",
    "\n",
    "**Información importante sobre el envío:**\n",
    "- **Ejecuta todas las pruebas** y verifica que todas pasan\n",
    "- **Guardar** desde el menú **Archivo**\n",
    "- **Ejecute la celda final **\n",
    "- Luego, ve a este [enlace](https://cienciadatosudea.github.io/001_SitioWebFundCienciaDatos/04entregas.html) y envía el archivo ipynb a la tarea correspondiente. El nombre de esta tarea es \"Lab XX Autograder\", donde XX es el número de laboratorio: 01, 02, 03, etc.\n",
    "\n",
    "- Si terminas temprano en el laboratorio regular, **registra tu asistencia con el instructor**.\n",
    "\n",
    "**Es su responsabilidad asegurarse de que su trabajo esté guardado antes de ejecutar la última celda.**\n",
    "\n",
    "`Referencia`: Este material esta basado en [Data 8: The Foundations of Data Science](https://www.data8.org/) - University of California, Berkeley.\n"
   ]
  },
  {
   "cell_type": "markdown",
   "id": "i6cvqsJwEGMK",
   "metadata": {
    "deletable": true,
    "editable": true,
    "id": "i6cvqsJwEGMK"
   },
   "source": [
    "## Envío\n",
    "\n",
    "Asegúrese de haber ejecutado todas las celdas de su cuaderno en orden antes de ejecutar la siguiente celda, para que todas las imágenes/gráficos aparezcan en el resultado. La siguiente celda generará un archivo zip para que lo envíe. **¡Guarde antes de exportar!**"
   ]
  },
  {
   "cell_type": "code",
   "execution_count": null,
   "id": "c2cee796-38e8-4161-90c0-44eed1aa911a",
   "metadata": {},
   "outputs": [],
   "source": []
  },
  {
   "cell_type": "markdown",
   "id": "5fdedaa6",
   "metadata": {
    "deletable": false,
    "editable": false
   },
   "source": [
    "## Submission\n",
    "\n",
    "Make sure you have run all cells in your notebook in order before running the cell below, so that all images/graphs appear in the output. The cell below will generate a zip file for you to submit. **Please save before exporting!**\n",
    "\n",
    "These are some submission instructions."
   ]
  },
  {
   "cell_type": "code",
   "execution_count": null,
   "id": "daebdc47",
   "metadata": {
    "deletable": false,
    "editable": false
   },
   "outputs": [],
   "source": [
    "# Save your notebook first, then run this cell to export your submission.\n",
    "grader.export(run_tests=True)"
   ]
  },
  {
   "cell_type": "markdown",
   "id": "3bb08ce5",
   "metadata": {},
   "source": [
    " "
   ]
  }
 ],
 "metadata": {
  "colab": {
   "include_colab_link": true,
   "provenance": []
  },
  "kernelspec": {
   "display_name": "Python 3 (ipykernel)",
   "language": "python",
   "name": "python3"
  },
  "language_info": {
   "codemirror_mode": {
    "name": "ipython",
    "version": 3
   },
   "file_extension": ".py",
   "mimetype": "text/x-python",
   "name": "python",
   "nbconvert_exporter": "python",
   "pygments_lexer": "ipython3",
   "version": "3.10.14"
  },
  "otter": {
   "OK_FORMAT": true,
   "assignment_name": "lab07",
   "tests": {
    "q0": {
     "name": "q0",
     "points": 1,
     "suites": [
      {
       "cases": [
        {
         "code": ">>> ab_test_order = make_array(5, 1, 3, 2, 4, 6)\n>>> assert len(ab_test_order) == 6\n>>> assert ab_test_order.item(0) == 5\n>>> assert ab_test_order.item(1) == 1\n>>> assert ab_test_order.item(2) == 3\n>>> assert ab_test_order.item(3) == 2\n>>> assert ab_test_order.item(4) == 4\n>>> assert ab_test_order.item(5) == 6\n",
         "hidden": false,
         "locked": false
        }
       ],
       "scored": true,
       "setup": "",
       "teardown": "",
       "type": "doctest"
      }
     ]
    },
    "q1": {
     "name": "q1",
     "points": 1,
     "suites": [
      {
       "cases": [
        {
         "code": ">>> assert respuesta == False\n",
         "hidden": false,
         "locked": false
        }
       ],
       "scored": true,
       "setup": "",
       "teardown": "",
       "type": "doctest"
      }
     ]
    },
    "q10": {
     "name": "q10",
     "points": 1,
     "suites": [
      {
       "cases": [
        {
         "code": ">>> assert len(differences) == 5000\n>>> assert np.isclose(np.mean(differences), 0.26, 0.1)\n",
         "hidden": false,
         "locked": false
        }
       ],
       "scored": true,
       "setup": "",
       "teardown": "",
       "type": "doctest"
      }
     ]
    },
    "q11": {
     "name": "q11",
     "points": 1,
     "suites": [
      {
       "cases": [
        {
         "code": ">>> assert isinstance(empirical_p, float), 'empirical_p debe ser un número decimal'\n>>> assert 0 <= empirical_p <= 0.05, 'empirical_p debe estar entre 0 y 1'\n",
         "hidden": false,
         "locked": false
        }
       ],
       "scored": true,
       "setup": "",
       "teardown": "",
       "type": "doctest"
      }
     ]
    },
    "q4": {
     "name": "q4",
     "points": 1,
     "suites": [
      {
       "cases": [
        {
         "code": ">>> assert set(medias.labels) == {'won', 'star baker awards average'}\n>>> assert medias.num_rows == 2\n>>> assert all(medias.column('won') == [0, 1])\n>>> assert np.isclose(medias.column('star baker awards average').item(0), 0.651786, 0.01)\n>>> assert np.isclose(medias.column('star baker awards average').item(1), 1.5, 0.01)\n",
         "hidden": false,
         "locked": false
        }
       ],
       "scored": true,
       "setup": "",
       "teardown": "",
       "type": "doctest"
      }
     ]
    },
    "q6": {
     "name": "q6",
     "points": 1,
     "suites": [
      {
       "cases": [
        {
         "code": ">>> assert test_option in [1, 2, 3, 4], 'El valor de test_option debe ser uno de los números proporcionados en las opciones.'\n>>> assert test_option == 2, 'Recuerda que estamos buscando los valores bajos que apoyan la nula.'\n",
         "hidden": false,
         "locked": false
        }
       ],
       "scored": true,
       "setup": "",
       "teardown": "",
       "type": "doctest"
      }
     ]
    },
    "q7": {
     "name": "q7",
     "points": 1,
     "suites": [
      {
       "cases": [
        {
         "code": ">>> assert isinstance(diferencia_observada, (int, float)) and diferencia_observada > 0\n>>> assert np.isclose(diferencia_observada, 0.848, 0.01)\n",
         "hidden": false,
         "locked": false
        }
       ],
       "scored": true,
       "setup": "",
       "teardown": "",
       "type": "doctest"
      }
     ]
    },
    "q8": {
     "name": "q8",
     "points": 1,
     "suites": [
      {
       "cases": [
        {
         "code": ">>> panaderos_test = Table().with_columns('Categoria', ['A', 'A', 'B', 'B'], 'Valores', [1, 2, 3, 4])\n>>> assert np.isclose(prueba_estadistica(bakers, 'won', 'star baker awards mean'), 0.848, 0.01)\n",
         "hidden": false,
         "locked": false
        }
       ],
       "scored": true,
       "setup": "",
       "teardown": "",
       "type": "doctest"
      }
     ]
    },
    "q9": {
     "name": "q9",
     "points": 1,
     "suites": [
      {
       "cases": [
        {
         "code": ">>> panaderos_test = Table().with_columns('Categoria', ['A', 'A', 'B', 'B'], 'Valores', [2, 2, 2, 2])\n>>> assert isinstance(simulate_and_test_statistic(panaderos_test, 'Categoria'), (int, float)) and simulate_and_test_statistic(panaderos_test, 'Categoria') >= 0\n",
         "hidden": false,
         "locked": false
        }
       ],
       "scored": true,
       "setup": "",
       "teardown": "",
       "type": "doctest"
      }
     ]
    },
    "qt": {
     "name": "qt",
     "points": 0,
     "suites": [
      {
       "cases": [
        {
         "code": ">>> assert isinstance(NombreApellidos, str)\n>>> assert isinstance(NumeroCarnet, str)\n>>> assert isinstance(Email, str)\n>>> assert len(NombreApellidos) > 3\n>>> assert len(NumeroCarnet) > 3\n>>> assert len(Email) > 3\n",
         "hidden": false,
         "locked": false
        }
       ],
       "scored": true,
       "setup": "",
       "teardown": "",
       "type": "doctest"
      }
     ]
    }
   }
  }
 },
 "nbformat": 4,
 "nbformat_minor": 5
}
