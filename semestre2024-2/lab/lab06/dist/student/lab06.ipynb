{
 "cells": [
  {
   "cell_type": "code",
   "execution_count": null,
   "id": "6af5eff6",
   "metadata": {
    "deletable": false,
    "editable": false
   },
   "outputs": [],
   "source": [
    "# Initialize Otter\n",
    "import otter\n",
    "grader = otter.Notebook(\"lab06.ipynb\")"
   ]
  },
  {
   "cell_type": "markdown",
   "id": "clmFdVZbAS4_",
   "metadata": {
    "id": "clmFdVZbAS4_"
   },
   "source": [
    "<p><img alt=\"Colaborat\" style=\"height: 220px;\" src=\"https://github.com/CienciaDatosUdea/001_DataSetFundCienciaDatos/blob/main/semestre2024-2/lab/lab02/Escudo-UdeA.svg.png?raw=true\" align=\"left\" hspace=\"10px\" vspace=\"0px\"></p>\n",
    "\n",
    "\n",
    "# Fundamentos en ciencias de datos\n",
    "\n",
    "\n",
    "## Laboratorio 6: \n",
    "\n",
    "¡Bienvenidos al Laboratorio 6!\n",
    "\n",
    "Después de una introducción tan extensa a la programación para la ciencia de datos, finalmente pasamos a la sección del curso donde podemos aplicar nuestras nuevas habilidades para responder preguntas reales.\n",
    "\n",
    "En este laboratorio, usaremos técnicas de prueba que se introdujeron en la conferencia para probar la idea del toque terapéutico, la idea de que algún practicante puede sentir y masajear su campo de energía humano.\n"
   ]
  },
  {
   "cell_type": "code",
   "execution_count": null,
   "id": "NJzLONYNAS5A",
   "metadata": {
    "id": "NJzLONYNAS5A"
   },
   "outputs": [],
   "source": [
    "# Ejecute esta celda, pero no la cambie.\n",
    "\n",
    "# Estas líneas importan los módulos Numpy y Datascience.\n",
    "import numpy as np\n",
    "from datascience import *\n",
    "\n",
    "# Estas líneas hacen algo de magia en la trama\n",
    "import matplotlib\n",
    "%matplotlib inline\n",
    "import matplotlib.pyplot as plt\n",
    "plt.style.use('fivethirtyeight')\n",
    "import warnings\n",
    "warnings.simplefilter('ignore', FutureWarning)\n",
    "from matplotlib import patches\n",
    "from ipywidgets import interact, interactive, fixed\n",
    "import ipywidgets as widgets\n"
   ]
  },
  {
   "cell_type": "markdown",
   "id": "58586d0e-4e5c-4874-a973-88f1634ed68e",
   "metadata": {
    "deletable": false,
    "editable": false
   },
   "source": [
    "<!-- BEGIN QUESTION -->\n",
    "\n",
    "Ingresa tu nombre  con apellido y número de carnet en las variables dadas en la celda siguiente:\n",
    "Ejemplo:\n",
    "```python\n",
    "NombreApellidos=\"Lisa Simpson\"\n",
    "NumeroCarnet=\"27182818\"\n",
    "Email=\"lisa.simpson@udea.edu.co\"\n",
    "```"
   ]
  },
  {
   "cell_type": "code",
   "execution_count": null,
   "id": "a5dc112c-7461-4053-8200-19940d2026d4",
   "metadata": {
    "tags": []
   },
   "outputs": [],
   "source": [
    "NombreApellidos=\"...\"\n",
    "NumeroCarnet=\"..\"\n",
    "Email=\"...\""
   ]
  },
  {
   "cell_type": "code",
   "execution_count": null,
   "id": "baa7448f",
   "metadata": {
    "deletable": false,
    "editable": false
   },
   "outputs": [],
   "source": [
    "grader.check(\"qt\")"
   ]
  },
  {
   "cell_type": "markdown",
   "id": "iXn3iW3AAS5B",
   "metadata": {
    "deletable": false,
    "editable": false,
    "id": "iXn3iW3AAS5B"
   },
   "source": [
    "<!-- END QUESTION -->\n",
    "\n",
    "## 1. ¿Qué es el Toque Terapéutico?\n",
    "\n",
    "El Toque Terapéutico (TT) es la idea de que todos pueden sentir el Campo de Energía Humana (HEF) alrededor de los individuos. Quienes practican TT han descrito los HEF de diferentes personas como \"cálidos como gelatina\" y \"táctiles como caramelo\".\n",
    "\n",
    "La TT fue una técnica popular utilizada a lo largo del siglo XX que se promocionó como una excelente manera de equilibrar la salud de una persona. Ciertos profesionales afirman que tienen la capacidad de sentir el HEF y masajearlo para promover la salud y la relajación de las personas.\n",
    "\n",
    "### Emily Rosa\n",
    "\n",
    "[Emily Rosa](https://en.wikipedia.org/wiki/Emily_Rosa) era una estudiante de 4º de primaria que estaba muy familiarizada con el mundo de la TT, gracias a sus padres, que eran a la vez médicos y escépticos de la TT.\n",
    "\n",
    "Para su proyecto de feria de ciencias de cuarto grado, Emily decidió probar si los practicantes de TT realmente podían interactuar con el HEF de una persona. Más tarde publicó su trabajo en TT, convirtiéndose en la persona más joven en publicar un artículo de investigación en una revista médica revisada por pares."
   ]
  },
  {
   "cell_type": "markdown",
   "id": "oIZH_xWPAS5B",
   "metadata": {
    "id": "oIZH_xWPAS5B"
   },
   "source": [
    "### El experimento de Emily\n",
    "\n",
    "El experimento de Emily fue limpio, simple y efectivo. Debido a las ocupaciones de sus padres en el campo médico, tenía amplio acceso a personas que afirmaban ser practicantes de TT.\n",
    "\n",
    "Emily tomó 21 practicantes de TT y los usó para su experimento científico. Tomaría a un practicante de TT y le pediría que extendiera sus manos a través de una pantalla (a través de la cual no puede ver). Emily estaría del otro lado y lanzaría una moneda justa. Dependiendo de cómo cayera la moneda, extendía su mano izquierda o su mano derecha. El practicante de TT tendría entonces que responder qué mano extendió Emily. Si un practicante realmente pudiera interactuar con el HEF de una persona, se esperaría que respondiera correctamente.\n",
    "\n",
    "En total, a través de 210 muestras, el practicante eligió la mano correcta el 44% de las veces.\n",
    "\n",
    "El objetivo principal de Emily aquí era probar si las conjeturas de los practicantes de TT eran aleatorias, como el lanzamiento de una moneda. En la mayoría de los experimentos médicos, esta es la norma. **Queremos probar si el tratamiento tiene un efecto o no, *no* si el tratamiento realmente funciona o no.**\n",
    "\n",
    "Ahora comenzaremos a formular este experimento en términos de la terminología que aprendimos en este curso."
   ]
  },
  {
   "cell_type": "markdown",
   "id": "EVOhlG_6AS5C",
   "metadata": {
    "deletable": false,
    "editable": false,
    "id": "EVOhlG_6AS5C"
   },
   "source": [
    "**Pregunta 1.1**: Describa el [modelo](https://inferentialthinking.com/chapters/11/1/Assessing_a_Model.html) de Emily sobre la probabilidad de que los practicantes de TT elijan la mano correcta. ¿Qué modelo alternativo pretende desacreditar su modelo?\n",
    "\n",
    "Si puede, consulte con sus compañeros,  o con los profesores  de su laboratorio para llegar a una conclusión."
   ]
  },
  {
   "cell_type": "markdown",
   "id": "3Zu3Y7ECAS5C",
   "metadata": {
    "deletable": false,
    "editable": false,
    "id": "3Zu3Y7ECAS5C"
   },
   "source": [
    "_Agregue una celda tipo markdown y copie su respuesta_"
   ]
  },
  {
   "cell_type": "markdown",
   "id": "g4s5Wc9dAS5D",
   "metadata": {
    "deletable": false,
    "editable": false,
    "id": "g4s5Wc9dAS5D"
   },
   "source": [
    "**Pregunta 1.2:** Recuerde que el practicante obtuvo la respuesta correcta el 44% (0,44) de las veces. Según el modelo de Emily, en promedio, ¿qué proporción de veces esperamos que el practicante adivine la mano correcta? Asegúrate de que tu respuesta sea un número entre 0 y 1."
   ]
  },
  {
   "cell_type": "code",
   "execution_count": null,
   "id": "34089387",
   "metadata": {
    "tags": []
   },
   "outputs": [],
   "source": [
    "proporcion_correcta = ...\n",
    "proporcion_correcta"
   ]
  },
  {
   "cell_type": "code",
   "execution_count": null,
   "id": "508a6d2e",
   "metadata": {
    "deletable": false,
    "editable": false
   },
   "outputs": [],
   "source": [
    "grader.check(\"q2\")"
   ]
  },
  {
   "cell_type": "markdown",
   "id": "p9WLkwIZAS5D",
   "metadata": {
    "deletable": false,
    "editable": false,
    "id": "p9WLkwIZAS5D"
   },
   "source": [
    "El objetivo ahora es ver si nuestra desviación de esta proporción esperada de respuestas correctas se debe a algo más que al azar.\n",
    "\n",
    "**Pregunta 1.3:** Generalmente utilizamos una estadística para ayudar a determinar hacia qué modelo apunta la evidencia. ¿Qué estadística podemos usar para comparar los resultados del modelo de Emily con lo observado? Asigne `valid_stat` a una matriz de números enteros que representan estadísticas de prueba que Emily puede usar :\n",
    "\n",
    "1. La diferencia entre el porcentaje correcto esperado y el porcentaje correcto real\n",
    "2. La diferencia absoluta entre el porcentaje correcto esperado y el porcentaje correcto real\n",
    "3. La suma del porcentaje correcto esperado y el porcentaje correcto real\n",
    "\n",
    "**NOTA:** ¡Asegúrese de usar `make_array` para crear su matriz de números enteros!.\n",
    "\n",
    "La idea, es que el estudiante cree un arreglo, usando 'make_array' seleccionando 1 o varias de las opciones, por ejemplo make_array(3) si considera que solamente es la tercer opción o make_array(1,3) si considera que son las opciones 1 y 3. \n",
    "\n",
    "> *Sugerencia*: ¿Cuál debería ser el dominio (posibles valores de x) para la distribución de nuestras estadísticas de prueba?"
   ]
  },
  {
   "cell_type": "code",
   "execution_count": null,
   "id": "c4508e8f",
   "metadata": {
    "tags": []
   },
   "outputs": [],
   "source": [
    "valid_stat = ...\n",
    "valid_stat"
   ]
  },
  {
   "cell_type": "code",
   "execution_count": null,
   "id": "ea20f8c7",
   "metadata": {
    "deletable": false,
    "editable": false
   },
   "outputs": [],
   "source": [
    "grader.check(\"q3\")"
   ]
  },
  {
   "cell_type": "markdown",
   "id": "j5l87GCJAS5E",
   "metadata": {
    "deletable": false,
    "editable": false,
    "id": "j5l87GCJAS5E"
   },
   "source": [
    "**Pregunta 1.4:** ¿Por qué la estadística de la Pregunta 1.3 es la opción adecuada para comparar resultados en el experimento de Emily? ¿Cómo se relaciona con los modelos que definió en la Pregunta 1.1?"
   ]
  },
  {
   "cell_type": "markdown",
   "id": "12e9d48b-253a-4413-a210-50fe863d84c3",
   "metadata": {
    "deletable": false,
    "editable": false,
    "id": "3Zu3Y7ECAS5C"
   },
   "source": [
    "_Agregue una celda tipo markdown y copie su respuesta_"
   ]
  },
  {
   "cell_type": "markdown",
   "id": "in4o_c-3AS5F",
   "metadata": {
    "deletable": false,
    "editable": false,
    "id": "in4o_c-3AS5F"
   },
   "source": [
    "**Pregunta 1.5:** Defina la función \"estadist\" que toma una **proporción esperada** y una **proporción medida**, y devuelve el valor de la estadística elegida en la Pregunta 1.3. Suponga que el argumento toma proporciones, pero devuelva su respuesta como un porcentaje.\n",
    "\n",
    "*Pista:* Recuerde que estamos pidiendo un **porcentaje**, no una proporción."
   ]
  },
  {
   "cell_type": "code",
   "execution_count": null,
   "id": "7934b211",
   "metadata": {
    "tags": []
   },
   "outputs": [],
   "source": [
    "def estadist(proporcion_esperada, proporcion_medida):\n",
    "    ..."
   ]
  },
  {
   "cell_type": "code",
   "execution_count": null,
   "id": "289d151b",
   "metadata": {
    "deletable": false,
    "editable": false
   },
   "outputs": [],
   "source": [
    "grader.check(\"q5\")"
   ]
  },
  {
   "cell_type": "markdown",
   "id": "QAjgHf1qAS5F",
   "metadata": {
    "deletable": false,
    "editable": false,
    "id": "QAjgHf1qAS5F"
   },
   "source": [
    "**Pregunta 1.6:** Utilice la función recién definida para calcular la estadística observada en el experimento de Emily."
   ]
  },
  {
   "cell_type": "code",
   "execution_count": null,
   "id": "8ac77f06",
   "metadata": {
    "tags": []
   },
   "outputs": [],
   "source": [
    "estadistica_observada = ...\n",
    "estadistica_observada"
   ]
  },
  {
   "cell_type": "code",
   "execution_count": null,
   "id": "5cd17eb8",
   "metadata": {
    "deletable": false,
    "editable": false
   },
   "outputs": [],
   "source": [
    "grader.check(\"q6\")"
   ]
  },
  {
   "cell_type": "markdown",
   "id": "WiDuESRuAS5J",
   "metadata": {
    "id": "WiDuESRuAS5J"
   },
   "source": [
    "**¿Esta estadística observada es consistente con lo que esperamos ver bajo el modelo de Emily?**\n",
    "\n",
    "Para responder a esta pregunta, debemos simular el experimento como si el modelo de Emily fuera correcto y calcular nuestra estadística para cada simulación.\n",
    "\n",
    "### `proporciones_de_muestra`\n",
    "\n",
    "`sample_proportions` se puede utilizar para realizar muestras aleatorias de varias categorías cuando se conoce la proporción de puntos de datos que se espera que caigan en cada categoría. `sample_proportions` toma dos argumentos: el tamaño de la muestra y una serie de proporciones correspondientes a cada categoría de la población (debe sumar 1).\n",
    "\n",
    "Considere lanzar una moneda justa, donde los dos resultados (la moneda sale cara y la moneda sale cruz) ocurren con la misma probabilidad. Esperamos que la mitad de todos los lanzamientos de monedas arrojen cara y la otra mitad de todos los lanzamientos de monedas arrojen cruz.\n",
    "\n",
    "Ejecute la siguiente celda para ver la simulación de 10 lanzamientos de una moneda justa. Sea el primer elemento de \"coin_proportions\" la proporción de caras y el segundo elemento de \"coin_proportions\" la proporción de cruces.\n",
    "\n",
    "*Observa lo que sucede cuando ejecutas esta celda varias veces: la proporción de lanzamientos de monedas que salen cara y cruz parece cambiar, ya que estás simulando lanzar 10 monedas cada vez.*"
   ]
  },
  {
   "cell_type": "code",
   "execution_count": null,
   "id": "ZGUBS4GiAS5J",
   "metadata": {
    "id": "ZGUBS4GiAS5J"
   },
   "outputs": [],
   "source": [
    "coin_proportions = make_array(0.5, 0.5)\n",
    "ten_flips = sample_proportions(10, coin_proportions)\n",
    "ten_flips"
   ]
  },
  {
   "cell_type": "markdown",
   "id": "EI2X8wwiAS5J",
   "metadata": {
    "id": "EI2X8wwiAS5J"
   },
   "source": [
    "`sample_proportions` devuelve una matriz que tiene la misma longitud que la matriz de proporciones que se pasa. Contiene la proporción de cada categoría que aparece en la muestra.\n",
    "\n",
    "En nuestro ejemplo, el primer elemento de \"ten_flips\" es la proporción simulada de caras y el segundo elemento de \"ten_flips\" es la proporción simulada de cruces."
   ]
  },
  {
   "cell_type": "code",
   "execution_count": null,
   "id": "jjHzpunxAS5J",
   "metadata": {
    "id": "jjHzpunxAS5J"
   },
   "outputs": [],
   "source": [
    "simulated_proportion_heads = ten_flips.item(0)\n",
    "simulated_proportion_tails = ten_flips.item(1)\n",
    "\n",
    "print(\"En nuestra simulación, \" + str(simulated_proportion_heads) + \" de lanzamientos que fueron caras y \" \\\n",
    "      + str(simulated_proportion_tails) + \" de lanzamientos que fueron cruz.\")"
   ]
  },
  {
   "cell_type": "markdown",
   "id": "ZIa51Y64AS5J",
   "metadata": {
    "deletable": false,
    "editable": false,
    "id": "ZIa51Y64AS5J"
   },
   "source": [
    "**Pregunta 1.7:** Para comenzar a simular, debemos comenzar creando una representación del modelo de Emily para usarla en nuestra simulación. Esta será una matriz con dos elementos. El primer elemento debe ser la proporción de veces que un practicante de TT elige la mano correcta, asumiendo que el modelo de Emily era correcto. El segundo elemento debe ser la proporción de veces, bajo el mismo supuesto, que el practicante de TT elige la mano incorrecta. Asigne `model_proportions` a esta matriz.\n",
    "\n",
    "Después de esto, podemos simular 210 elecciones de manos, como Emily evaluó en la vida real, y encontrar una estadística única para resumir este ejemplo de la simulación. Utilice la función `sample_proportions` y asigne la **proporción de elecciones de manos correctas** (de 210) a `simulation_proportion_correct`. Por último, utilice su función `estadist` para asignar `one_statistic` al valor de la estadística para esta simulación.\n",
    "\n",
    "*Sugerencia:* El uso de `sample_proportions` se puede encontrar en la [Referencia de Python](https://www.data8.org/fa23/reference/).\n"
   ]
  },
  {
   "cell_type": "code",
   "execution_count": null,
   "id": "6af9a193",
   "metadata": {
    "tags": []
   },
   "outputs": [],
   "source": [
    "'''Esto guarda el estado aleatorio de nuestro código para que podamos\n",
    "generamos los mismos números cada vez que ejecutamos el código.\n",
    "Por favor no cambie esta línea.'''\n",
    "np.random.seed(16)\n",
    "num_events = ... \n",
    "model_proportions = ...\n",
    "simulation_results = ...\n",
    "simulation_proportion = ...\n",
    "one_statistic = ...\n",
    "one_statistic\n"
   ]
  },
  {
   "cell_type": "code",
   "execution_count": null,
   "id": "8ea1d7fe",
   "metadata": {
    "deletable": false,
    "editable": false
   },
   "outputs": [],
   "source": [
    "grader.check(\"q7\")"
   ]
  },
  {
   "cell_type": "markdown",
   "id": "yHDr2zh0AS5K",
   "metadata": {
    "deletable": false,
    "editable": false,
    "id": "yHDr2zh0AS5K"
   },
   "source": [
    "**Pregunta 1.8:** Veamos ahora cómo es realmente la distribución de las estadísticas según el modelo de Emily.\n",
    "\n",
    "Defina la función `simulation_and_statistic` para incluir el arreglo `model_proportions` y la proporción esperada de veces que un practicante de TT adivinaría una mano correctamente según el modelo de Emily. La función debería simular que Emily realiza el experimento 210 veces y devolver la estadística de esta simulación.\n",
    "\n",
    "*Pista:* Esto debería seguir el mismo patrón que el código que hiciste en el problema anterior."
   ]
  },
  {
   "cell_type": "code",
   "execution_count": null,
   "id": "d6fa57c7",
   "metadata": {
    "tags": []
   },
   "outputs": [],
   "source": [
    "def simulation_and_statistic(model_proportions, expected_proportion_correct):\n",
    "    '''Simulates 210 TT hand choices under Emily’s model.\n",
    "    Returns one statistic from the simulation.'''\n",
    "    ...\n",
    "    "
   ]
  },
  {
   "cell_type": "code",
   "execution_count": null,
   "id": "2d68b06a",
   "metadata": {
    "deletable": false,
    "editable": false
   },
   "outputs": [],
   "source": [
    "grader.check(\"q8\")"
   ]
  },
  {
   "cell_type": "code",
   "execution_count": null,
   "id": "y3pL3zkjAS5K",
   "metadata": {
    "id": "y3pL3zkjAS5K",
    "tags": []
   },
   "outputs": [],
   "source": [
    "num_repetitions = 1000\n",
    "\n",
    "simulated_statistics = make_array()\n",
    "observed_statistic = 0.44\n",
    "\n",
    "for _ in range(num_repetitions):\n",
    "    stat = simulation_and_statistic(model_proportions)\n",
    "    simulated_statistics=np.append(simulated_statistics,stat)"
   ]
  },
  {
   "cell_type": "markdown",
   "id": "a4a947VAAS5L",
   "metadata": {
    "id": "a4a947VAAS5L"
   },
   "source": [
    "Veamos la distribución de las estadísticas simuladas bajo el modelo de Emily y comparemos visualmente dónde se encuentra la estadística observada en relación con las estadísticas simuladas."
   ]
  },
  {
   "cell_type": "code",
   "execution_count": null,
   "id": "-961AezFAS5L",
   "metadata": {
    "id": "-961AezFAS5L"
   },
   "outputs": [],
   "source": [
    "# Crear una tabla con las estadísticas simuladas\n",
    "t = Table().with_column('Simulated Statistics', simulated_statistics)\n",
    "# Graficar la distribución de las estadísticas simuladas\n",
    "t.hist(bins=20, edgecolor='black')\n",
    "plt.title('Distribución de las estadísticas simuladas')\n",
    "plt.xlabel('Proporción de aciertos')\n",
    "plt.ylabel('Frecuencia')\n",
    "# Marcar la estadística observada en la gráfica\n",
    "plt.scatter(observed_statistic, 0, color='red', s=100, zorder=2, label='Observed')\n",
    "plt.legend()\n",
    "plt.ylim(-1)\n",
    "plt.show()"
   ]
  },
  {
   "cell_type": "markdown",
   "id": "eu1nSoy9AS5L",
   "metadata": {
    "id": "eu1nSoy9AS5L"
   },
   "source": [
    "Podemos evaluar visualmente si la estadística observada es consistente con el modelo de Emily. Como valores más altos de la estadística de prueba favorecen el modelo alternativo (donde la probabilidad de adivinar correctamente la mano no es exactamente del 50%), podemos formalizar nuestro análisis calculando la proporción de estadísticas simuladas que son iguales o mayores a la observada en el experimento. Esta proporción representa el área bajo la curva a la derecha de la estadística de prueba observada. Si esta área es lo suficientemente pequeña, concluiremos que los datos observados son inconsistentes con el modelo simulado. \n",
    "\n",
    "Aquí está el [enlace](https://inferentialthinking.com/chapters/11/1/Assessing_a_Model.html) a la sección del libro de texto."
   ]
  },
  {
   "cell_type": "markdown",
   "id": "K0Fh3VcSAS5L",
   "metadata": {
    "deletable": false,
    "editable": false,
    "id": "K0Fh3VcSAS5L"
   },
   "source": [
    "**Pregunta 1.9:** Calcule la proporción de estadísticas simuladas en la Pregunta 1.8 mayor o igual a la estadística observada.\n",
    "\n",
    "*Pista:* \n",
    "\n",
    "*1)* El uso de `np.count_nonzero` se puede encontrar [aquí](http://data8.org/fa23/reference).\n",
    "\n",
    "*2)* Considere el uso de `np.array()`"
   ]
  },
  {
   "cell_type": "code",
   "execution_count": null,
   "id": "7d6c3c4b",
   "metadata": {
    "tags": []
   },
   "outputs": [],
   "source": [
    "proportion_greater_equal = ...\n",
    "proportion_greater_equal\n"
   ]
  },
  {
   "cell_type": "code",
   "execution_count": null,
   "id": "681fe086",
   "metadata": {
    "deletable": false,
    "editable": false
   },
   "outputs": [],
   "source": [
    "grader.check(\"q9\")"
   ]
  },
  {
   "cell_type": "markdown",
   "id": "GSXFyEjaAS5e",
   "metadata": {
    "id": "GSXFyEjaAS5e"
   },
   "source": [
    "Por convención, a menudo comparamos la proporción que acabamos de calcular con 0,05. Si la proporción de estadísticas simuladas mayores o iguales a las estadísticas observadas es suficientemente pequeña (menor o igual a 0,05), entonces esto es evidencia en contra del modelo de Emily. Conceptualmente, se puede pensar en este caso como el caso en el que menos del 5% de los valores simulados están tan o más lejos de lo que esperábamos. Si este no es el caso, no tenemos ningún motivo para dudar del modelo de Emily.\n",
    "\n",
    "Esto debería ayudarte a sacar tus propias conclusiones sobre el experimento de Emily Rosa.\n",
    "\n",
    "El contacto terapéutico dejó de utilizarse después de este experimento, que finalmente fue aceptado en una de las principales revistas médicas. Los practicantes de TT respondieron y acusaron a Emily y su familia de alterar los resultados, mientras que algunos afirmaron que el mal humor espiritual de Emily hacia el contacto terapéutico hacía difícil leer su HEF. Sea lo que sea, el experimento de Emily es un ejemplo clásico de cómo cualquiera, con los recursos adecuados, puede probar lo que quiera."
   ]
  },
  {
   "cell_type": "markdown",
   "id": "cedf1csvAS5e",
   "metadata": {
    "deletable": false,
    "editable": false,
    "id": "cedf1csvAS5e"
   },
   "source": [
    "**Pregunta 1.10:** Ahora, tómate un tiempo para reflexionar sobre las preguntas a continuación y luego discútelas con tus compañeros o echa un vistazo a las discusiones en la publicación educativa de este laboratorio.\n",
    "\n",
    "1. ¿Son los datos más consistentes con el modelo de Emily (los practicantes adivinaban al azar)?\n",
    "2. ¿Qué significa esto en términos del experimento de Emily? ¿Las respuestas de los practicantes de TT siguen un modelo de probabilidad equitativa o hay algo más en juego?\n",
    "\n",
    "Pista: La respuesta corresponde a hacer un `arreglo de 2 dimensiones`, tipo `bool` (Verdadero o Falso)\n"
   ]
  },
  {
   "cell_type": "code",
   "execution_count": null,
   "id": "f02e249f",
   "metadata": {
    "tags": []
   },
   "outputs": [],
   "source": [
    "peer_talk = ...\n",
    "peer_talk"
   ]
  },
  {
   "cell_type": "code",
   "execution_count": null,
   "id": "93817046",
   "metadata": {
    "deletable": false,
    "editable": false
   },
   "outputs": [],
   "source": [
    "grader.check(\"q10\")"
   ]
  },
  {
   "cell_type": "markdown",
   "id": "eyJNi4y8AS5e",
   "metadata": {
    "id": "eyJNi4y8AS5e"
   },
   "source": [
    "## ¡CASI LLEGAMOS!\n",
    "\n",
    "\n",
    "\n",
    "<img src=\"estrellita.png\" alt=\"Foto en primer plano de un golden retriever mirando a la cámara\" width=\"300\"/>\n",
    "\n",
    "**Estrellita** quiere hacerte saber que eres genial."
   ]
  },
  {
   "cell_type": "markdown",
   "id": "2KmP2EBbAS5f",
   "metadata": {
    "id": "2KmP2EBbAS5f"
   },
   "source": [
    "\n",
    "---\n",
    "\n",
    "¡Terminaste con el laboratorio!\n",
    "\n",
    "**Información importante sobre el envío:**\n",
    "- **Ejecuta todas las pruebas** y verifica que todas pasan\n",
    "- **Guardar** desde el menú **Archivo**\n",
    "- **Ejecute la celda final **\n",
    "- Luego, ve a este [enlace](https://cienciadatosudea.github.io/001_SitioWebFundCienciaDatos/04entregas.html) y envía el archivo ipynb a la tarea correspondiente. El nombre de esta tarea es \"Lab XX Autograder\", donde XX es el número de laboratorio: 01, 02, 03, etc.\n",
    "\n",
    "- Si terminas temprano en el laboratorio regular, **registra tu asistencia con el instructor**.\n",
    "\n",
    "**Es su responsabilidad asegurarse de que su trabajo esté guardado antes de ejecutar la última celda.**\n",
    "\n",
    "`Referencia`: Este material esta basado en [Data 8: The Foundations of Data Science](https://www.data8.org/) - University of California, Berkeley.\n"
   ]
  },
  {
   "cell_type": "markdown",
   "id": "kC6Wl2XiAS5f",
   "metadata": {
    "id": "kC6Wl2XiAS5f"
   },
   "source": [
    "## Envío\n",
    "\n",
    "Asegúrese de haber ejecutado todas las celdas de su cuaderno en orden antes de ejecutar la siguiente celda, para que todas las imágenes/gráficos aparezcan en el resultado. La siguiente celda generará un archivo zip para que lo envíe. **¡Guarde antes de exportar!**"
   ]
  },
  {
   "cell_type": "markdown",
   "id": "07f6dee6",
   "metadata": {
    "deletable": false,
    "editable": false
   },
   "source": [
    "## Submission\n",
    "\n",
    "Make sure you have run all cells in your notebook in order before running the cell below, so that all images/graphs appear in the output. The cell below will generate a zip file for you to submit. **Please save before exporting!**\n",
    "\n",
    "These are some submission instructions."
   ]
  },
  {
   "cell_type": "code",
   "execution_count": null,
   "id": "02c34355",
   "metadata": {
    "deletable": false,
    "editable": false
   },
   "outputs": [],
   "source": [
    "# Save your notebook first, then run this cell to export your submission.\n",
    "grader.export(run_tests=True)"
   ]
  },
  {
   "cell_type": "markdown",
   "id": "c5c29bf5",
   "metadata": {},
   "source": [
    " "
   ]
  }
 ],
 "metadata": {
  "colab": {
   "include_colab_link": true,
   "provenance": []
  },
  "kernelspec": {
   "display_name": "Python 3 (ipykernel)",
   "language": "python",
   "name": "python3"
  },
  "language_info": {
   "codemirror_mode": {
    "name": "ipython",
    "version": 3
   },
   "file_extension": ".py",
   "mimetype": "text/x-python",
   "name": "python",
   "nbconvert_exporter": "python",
   "pygments_lexer": "ipython3",
   "version": "3.10.14"
  },
  "otter": {
   "OK_FORMAT": true,
   "assignment_name": "lab06",
   "tests": {
    "q10": {
     "name": "q10",
     "points": 1,
     "suites": [
      {
       "cases": [
        {
         "code": ">>> respuesta1 = True\n>>> respuesta2 = False\n>>> \n>>> def test_q10():\n...     assert len(peer_talk) == 2, 'Las dimensiones no son las correctas'\n...     assert type(peer_talk) == type(np.array([True, True])), 'No es un arreglo de numpy'\n...     assert peer_talk[0] == respuesta1 and peer_talk[1] == respuesta2, 'Las respuestas no son las correctas'\n>>> test_q10()\n",
         "hidden": false,
         "locked": false
        }
       ],
       "scored": true,
       "setup": "",
       "teardown": "",
       "type": "doctest"
      }
     ]
    },
    "q2": {
     "name": "q2",
     "points": 1,
     "suites": [
      {
       "cases": [
        {
         "code": ">>> sol_q2 = 0.5\n>>> \n>>> def test_q2():\n...     assert isinstance(proporcion_correcta, float), 'El valor no es un entero'\n...     assert 0 <= proporcion_correcta <= 1, 'El valor no esta entre 0 y 1'\n...     assert proporcion_correcta == sol_q2, 'El valor no es el adecuado'\n>>> test_q2()\n",
         "hidden": false,
         "locked": false
        }
       ],
       "scored": true,
       "setup": "",
       "teardown": "",
       "type": "doctest"
      }
     ]
    },
    "q3": {
     "name": "q3",
     "points": 1,
     "suites": [
      {
       "cases": [
        {
         "code": ">>> def test_q3():\n...     assert len(valid_stat) == 1, 'El tamaño del array no es el correcto'\n...     assert 2 in valid_stat, 'La segunda respuesta no es valida'\n>>> test_q3()\n",
         "hidden": false,
         "locked": false
        }
       ],
       "scored": true,
       "setup": "",
       "teardown": "",
       "type": "doctest"
      }
     ]
    },
    "q5": {
     "name": "q5",
     "points": 1,
     "suites": [
      {
       "cases": [
        {
         "code": ">>> def test_q5():\n...     assert np.round(estadist(0.5, 0.2), 2) == 0.3 * 100, 'Test 1 no superado'\n...     assert np.round(estadist(0.5, 0.45), 2) == 0.05 * 100, 'Test 2 no superado'\n...     assert estadist(0.3, 0.3) == 0.0, 'Test 3 no superado'\n>>> test_q5()\n",
         "hidden": false,
         "locked": false
        }
       ],
       "scored": true,
       "setup": "",
       "teardown": "",
       "type": "doctest"
      }
     ]
    },
    "q6": {
     "name": "q6",
     "points": 1,
     "suites": [
      {
       "cases": [
        {
         "code": ">>> sol = 6.0\n>>> \n>>> def test_q6():\n...     assert isinstance(estadistica_observada, float), 'El valor no es del tipo float'\n...     assert np.round(estadistica_observada, 2) == sol, 'El resultado no es el correcto'\n>>> test_q6()\n",
         "hidden": false,
         "locked": false
        }
       ],
       "scored": true,
       "setup": "",
       "teardown": "",
       "type": "doctest"
      }
     ]
    },
    "q7": {
     "name": "q7",
     "points": 1,
     "suites": [
      {
       "cases": [
        {
         "code": ">>> sol_q7 = np.round(0.428571428571, 2)\n>>> \n>>> def test_q7():\n...     assert model_proportions[0] == 0.44 and model_proportions[1] == 0.56, 'model_proportions no tiene los valores correctos'\n...     assert num_events == 210, 'El número de eventos no es el adecuado'\n...     assert len(simulation_results) == 2, 'El tamaño del arreglo no es el correcto'\n...     assert 0 <= simulation_proportion <= 1, 'La estadistica no está entre 0 y 1'\n...     assert np.round(simulation_proportion, 2) == sol_q7, 'La solución no es la correcta'\n>>> test_q7()\n",
         "hidden": false,
         "locked": false
        }
       ],
       "scored": true,
       "setup": "",
       "teardown": "",
       "type": "doctest"
      }
     ]
    },
    "q8": {
     "name": "q8",
     "points": 1,
     "suites": [
      {
       "cases": [
        {
         "code": ">>> num_events = 210\n>>> \n>>> def test_q8():\n...     assert 0 <= simulation_and_statistic(model_proportions, num_events) <= 1, 'El valor no está entre 0 y 1'\n...     assert isinstance(simulation_and_statistic(model_proportions, 210), float), 'El resultado no es un entero'\n>>> test_q8()\n",
         "hidden": false,
         "locked": false
        }
       ],
       "scored": true,
       "setup": "",
       "teardown": "",
       "type": "doctest"
      }
     ]
    },
    "q9": {
     "name": "q9",
     "points": 1,
     "suites": [
      {
       "cases": [
        {
         "code": ">>> valor_esperado = 1.0\n>>> \n>>> def test_q9():\n...     assert np.isclose(proportion_greater_equal, valor_esperado)\n>>> test_q9()\n",
         "hidden": false,
         "locked": false
        }
       ],
       "scored": true,
       "setup": "",
       "teardown": "",
       "type": "doctest"
      }
     ]
    },
    "qt": {
     "name": "qt",
     "points": 0,
     "suites": [
      {
       "cases": [
        {
         "code": ">>> assert isinstance(NombreApellidos, str)\n>>> assert isinstance(NumeroCarnet, str)\n>>> assert isinstance(Email, str)\n>>> assert len(NombreApellidos) > 3\n>>> assert len(NumeroCarnet) > 3\n>>> assert len(Email) > 3\n",
         "hidden": false,
         "locked": false
        }
       ],
       "scored": true,
       "setup": "",
       "teardown": "",
       "type": "doctest"
      }
     ]
    }
   }
  }
 },
 "nbformat": 4,
 "nbformat_minor": 5
}
