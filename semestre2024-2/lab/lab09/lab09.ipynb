{
 "cells": [
  {
   "cell_type": "code",
   "execution_count": null,
   "id": "a46ad8a8",
   "metadata": {
    "deletable": false,
    "editable": false
   },
   "outputs": [],
   "source": [
    "# Initialize Otter\n",
    "import otter\n",
    "grader = otter.Notebook(\"lab09.ipynb\")"
   ]
  },
  {
   "cell_type": "markdown",
   "id": "58ufyQ1Zihlh",
   "metadata": {
    "deletable": true,
    "editable": true,
    "id": "58ufyQ1Zihlh"
   },
   "source": [
    "<p><img alt=\"Colaborat\" style=\"height: 220px;\" src=\"https://github.com/CienciaDatosUdea/001_DataSetFundCienciaDatos/blob/main/semestre2024-2/lab/lab02/Escudo-UdeA.svg.png?raw=true\" align=\"left\" hspace=\"10px\" vspace=\"0px\"></p>\n",
    "\n",
    "\n",
    "<h1> Fundamentos en ciencias de datos</h1>\n",
    "\n",
    "# Laboratorio 9: Distribución normal y variabilidad de medias muestrales\n",
    "\n",
    "¡Bienvenidos al Laboratorio 0!\n",
    "\n",
    "En el laboratorio de hoy, aprenderemos sobre [la variabilidad de las medias muestrales](https://inferentialthinking.com/chapters/14/5/Variability_of_the_Sample_Mean.html), así como [la distribución normal](https://www.inferentialthinking.com/chapters/14/3/SD_and_the_Normal_Curve.html).\n",
    "\n"
   ]
  },
  {
   "cell_type": "code",
   "execution_count": null,
   "id": "y2cgSw-Pihlj",
   "metadata": {
    "deletable": true,
    "editable": true,
    "id": "y2cgSw-Pihlj"
   },
   "outputs": [],
   "source": [
    "# Ejecute esta celda, pero no la cambie.\n",
    "\n",
    "# Estas líneas importan los módulos Numpy y Datascience.\n",
    "import numpy as np\n",
    "from datascience import *\n",
    "\n",
    "# Estas líneas hacen algo de magia en la trama.\n",
    "import matplotlib\n",
    "%matplotlib inline\n",
    "import matplotlib.pyplot as plots\n",
    "plots.style.use('fivethirtyeight')\n",
    "import warnings\n",
    "warnings.simplefilter('ignore')"
   ]
  },
  {
   "cell_type": "markdown",
   "id": "e620d032-800f-4267-a1e5-baae307ce4d2",
   "metadata": {
    "deletable": false,
    "editable": false
   },
   "source": [
    "<!-- BEGIN QUESTION -->\n",
    "\n",
    "Ingresa tu nombre  con apellido y número de carnet en las variables dadas en la celda siguiente:\n",
    "Ejemplo:\n",
    "```python\n",
    "NombreApellidos=\"Ada Lovelace\"\n",
    "NumeroCarnet=\"27182818\"\n",
    "Email=\"Ada.Lovelace@udea.edu.co\"\n",
    "```"
   ]
  },
  {
   "cell_type": "code",
   "execution_count": null,
   "id": "101852c3-12f1-43fc-908c-eb52cb2c2d3b",
   "metadata": {
    "tags": []
   },
   "outputs": [],
   "source": [
    "NombreApellidos=\"...\"\n",
    "NumeroCarnet=\"..\"\n",
    "Email=\"...\""
   ]
  },
  {
   "cell_type": "code",
   "execution_count": null,
   "id": "b8254f32",
   "metadata": {
    "deletable": false,
    "editable": false
   },
   "outputs": [],
   "source": [
    "grader.check(\"qt\")"
   ]
  },
  {
   "cell_type": "markdown",
   "id": "OtDW1GLjihlj",
   "metadata": {
    "deletable": false,
    "editable": false,
    "id": "OtDW1GLjihlj"
   },
   "source": [
    "<!-- END QUESTION -->\n",
    "\n",
    "# 1. Distribuciones normales\n",
    "\n",
    "Cuando visualizamos la distribución de una muestra, a menudo nos interesa la media y la desviación estándar de la muestra (durante el resto de esta práctica de laboratorio, abreviaremos “desviación estándar” como “SD” -standar desviation-). Estas dos estadísticas de muestra pueden darnos una visión general de la distribución, permitiéndonos saber dónde se ubica la distribución en la recta numérica y qué tan extendida está, respectivamente."
   ]
  },
  {
   "cell_type": "markdown",
   "id": "Cgw0gNWXihlk",
   "metadata": {
    "deletable": true,
    "editable": true,
    "id": "Cgw0gNWXihlk"
   },
   "source": [
    "Queremos comprobar si los datos están relacionados linealmente, por lo que deberíamos mirar los datos."
   ]
  },
  {
   "cell_type": "markdown",
   "id": "8mXIJ2R4ihlk",
   "metadata": {
    "deletable": true,
    "editable": true,
    "id": "8mXIJ2R4ihlk"
   },
   "source": [
    "Primero, carguemos la tabla de \"baby.csv\"  que es una muestra aleatoria grande de nacimientos e incluye información sobre las parejas de madre e hijo."
   ]
  },
  {
   "cell_type": "code",
   "execution_count": null,
   "id": "rBtc57R5ihlk",
   "metadata": {
    "deletable": true,
    "editable": true,
    "id": "rBtc57R5ihlk"
   },
   "outputs": [],
   "source": [
    "births = Table.read_table('baby.csv')\n",
    "births"
   ]
  },
  {
   "cell_type": "markdown",
   "id": "s9von1VLihll",
   "metadata": {
    "deletable": true,
    "editable": true,
    "id": "s9von1VLihll"
   },
   "source": [
    "**Pregunta 1.1.** **Ahora, escriba una línea de código para trazar la distribución de las edades de la madre a partir de la tabla `births`.** No cambie la última línea, que trazará la media de la muestra en el distribución misma.\n"
   ]
  },
  {
   "cell_type": "code",
   "execution_count": null,
   "id": "RKFxiMCwihll",
   "metadata": {
    "deletable": true,
    "editable": true,
    "id": "RKFxiMCwihll",
    "tags": []
   },
   "outputs": [],
   "source": [
    "#...\n",
    "# No cambies nada debajo de esta línea\n",
    "plots.scatter(np.mean(births.column(\"Maternal Age\")), 0, color='red', zorder=2, s=50);\n",
    "plots.ylim(-0.005, 0.07);"
   ]
  },
  {
   "cell_type": "markdown",
   "id": "ZNs1WchOihll",
   "metadata": {
    "deletable": true,
    "editable": true,
    "id": "ZNs1WchOihll"
   },
   "source": [
    "En el gráfico anterior, podemos observar que la media representa el centro de gravedad o el punto de equilibrio de la distribución. Si imaginamos que la distribución está recortada en cartón y la apoyamos sobre un dedo en la posición de la media, esta se mantendría perfectamente equilibrada. Dado que la distribución mostrada está sesgada hacia la derecha (es decir, tiene una cola larga en ese sentido), podemos deducir que la media es mayor que la mediana, la cual representa el punto \"medio\" de los datos. Por el contrario, si la distribución estuviera sesgada hacia la izquierda, sabríamos que la media sería menor que la mediana."
   ]
  },
  {
   "cell_type": "markdown",
   "id": "SKjsRHQYihlm",
   "metadata": {
    "deletable": true,
    "editable": true,
    "id": "SKjsRHQYihlm"
   },
   "source": [
    "**Pregunta 1.2.** Ejecute la siguiente celda para comparar la media (rojo) y la mediana (azul) de la distribución de edades de las madres."
   ]
  },
  {
   "cell_type": "code",
   "execution_count": null,
   "id": "db862c1c",
   "metadata": {},
   "outputs": [],
   "source": [
    "births.hist(\"Maternal Age\")\n",
    "plots.vlines(np.mean(births.column(\"Maternal Age\")), ymin=0, ymax=9 ,color=\"red\", label=\"Mean\")\n",
    "plots.vlines(np.median(births.column(\"Maternal Age\")), ymin=0, ymax=9,color=\"blue\",label=\"Median\")\n",
    "plots.legend()\n",
    "plots.ylim(-0.005, 0.07);"
   ]
  },
  {
   "cell_type": "markdown",
   "id": "XRs3Cy8Bihlm",
   "metadata": {
    "deletable": true,
    "editable": true,
    "id": "XRs3Cy8Bihlm"
   },
   "source": [
    "También nos interesa la desviación estándar de las edades de la madre. La SD nos da una idea de cuán variables son las edades de las madres en torno a la edad promedio de las madres. Si la SD es grande, entonces las edades de las madres deberían extenderse en un rango amplio con respecto a la media. Si la SD es pequeña, entonces las edades de las madres deberían agruparse estrechamente en torno a la edad materna promedio.\n",
    "\n",
    "**La SD de una arreglo se define como la \"media cuadrática de las desviaciones\", donde las desviaciones son la diferencia entre los elementos originales y su promedio.**\n",
    "\n",
    "Puede leer más sobre Variabilidad y SD en el [Capítulo 14.2](https://inferentialthinking.com/chapters/14/2/Variability.html). Este capítulo también profundiza un poco más en cómo se calcula la \"media cuadrática de las desviaciones\". \n",
    "\n",
    "Comenatario: $\\sigma$ (letra griega sigma) se usa para representar la SD y $\\mu$ (letra griega mu) se usa para la media."
   ]
  },
  {
   "cell_type": "markdown",
   "id": "O6ja2gDbihlm",
   "metadata": {
    "deletable": false,
    "editable": false,
    "id": "O6ja2gDbihlm"
   },
   "source": [
    "**Pregunta 1.3.** Asigne `age_mean` a la media de las edades maternas y `age_sd` a la SD de las edades maternas. Luego ejecute la celda a continuación para ver el ancho de una SD (azul) de la media de la muestra (rojo) trazada en el histograma de edades maternas.\n",
    "\n",
    "*Pista*: `np.std` podría resultar útil aquí."
   ]
  },
  {
   "cell_type": "code",
   "execution_count": null,
   "id": "ac9a375b",
   "metadata": {
    "tags": []
   },
   "outputs": [],
   "source": [
    "age_mean=...\n",
    "age_sd=...\n",
    "\n",
    "births.hist(\"Maternal Age\")\n",
    "\n",
    "plots.scatter(age_mean, 0, color='red', zorder=2, s=50);\n",
    "plots.scatter(age_mean+age_sd, 0, marker='^', color='blue', zorder=2, s=50);\n",
    "plots.scatter(age_mean-age_sd, 0, marker='^', color='blue', zorder=2, s=50);\n",
    "plots.ylim(-0.005, 0.07);\n"
   ]
  },
  {
   "cell_type": "code",
   "execution_count": null,
   "id": "2081c850",
   "metadata": {
    "deletable": false,
    "editable": false
   },
   "outputs": [],
   "source": [
    "grader.check(\"q2\")"
   ]
  },
  {
   "cell_type": "markdown",
   "id": "RPEGznauihln",
   "metadata": {
    "deletable": true,
    "editable": true,
    "id": "RPEGznauihln"
   },
   "source": [
    "En este histograma, la desviación estándar no es fácil de identificar con solo mirar el gráfico.\n",
    "\n",
    "Sin embargo, las distribuciones de algunas variables nos permiten detectar fácilmente la desviación estándar en el gráfico. Por ejemplo, si una muestra sigue una **[distribución normal](https://inferentialthinking.com/chapters/14/3/SD_and_the_Normal_Curve.html)**, la desviación estándar se detecta fácilmente en el punto de inflexión (el punto donde la curva comienza a cambiar la dirección de su curvatura) de la distribución."
   ]
  },
  {
   "cell_type": "markdown",
   "id": "akGlsbjEihln",
   "metadata": {
    "deletable": false,
    "editable": false,
    "id": "akGlsbjEihln"
   },
   "source": [
    "**Pregunta 1.4.** Complete el siguiente código para examinar la distribución de las alturas maternas, que se distribuye aproximadamente normalmente. Graficaremos la desviación estándar en el histograma, como antes; observe dónde cae en el gráfico una desviación estándar (azul) de la media (rojo).\n"
   ]
  },
  {
   "cell_type": "code",
   "execution_count": null,
   "id": "d1319a67",
   "metadata": {
    "tags": []
   },
   "outputs": [],
   "source": [
    "height_mean = ...\n",
    "height_sd = ...\n",
    "births.hist(\"Maternal Height\", bins=np.arange(55,75,1))\n",
    "\n",
    "plots.scatter((height_mean), 0, color='red', zorder=2, s=50);\n",
    "plots.scatter(height_mean+height_sd, 0, marker='^', color='blue', zorder=2, s=50);\n",
    "plots.scatter(height_mean-height_sd, 0, marker='^', color='blue', zorder=2, s=50);\n",
    "plots.ylim(-0.01, 0.16)"
   ]
  },
  {
   "cell_type": "code",
   "execution_count": null,
   "id": "3330cb98",
   "metadata": {
    "deletable": false,
    "editable": false
   },
   "outputs": [],
   "source": [
    "grader.check(\"q3\")"
   ]
  },
  {
   "cell_type": "markdown",
   "id": "q3f2xtdFihlo",
   "metadata": {
    "deletable": true,
    "editable": true,
    "id": "q3f2xtdFihlo"
   },
   "source": [
    "No siempre sabemos cómo se distribuirá una variable, y hacer suposiciones sobre si una variable seguirá o no una distribución normal es peligroso. Sin embargo, el **Teorema del límite central** define una distribución que siempre sigue una distribución normal. **La distribución de las sumas o medias de los valores dentro de grandes muestras aleatorias, extraídas con reemplazo de una única distribución, será normal, sin importar la forma original de dicha distribución.** Recuerde que el teorema del límite central se refiere a la distribución de una *estadístico* calculado a partir de una distribución, no de la distribución de la muestra o población original. Reflexiona sobre esto, y discute con el profesor del laboratorio.\n",
    "\n",
    "La siguiente sección explorará las distribuciones de medias muestrales y verá cómo la desviación estándar de estas distribuciones depende del tamaño de las muestras."
   ]
  },
  {
   "cell_type": "markdown",
   "id": "XLxy9xALihlo",
   "metadata": {
    "deletable": true,
    "editable": true,
    "id": "XLxy9xALihlo"
   },
   "source": [
    "# 2. Variabilidad de la media muestral\n",
    "\n",
    "Según el [Teorema del límite central](https://www.inferentialthinking.com/chapters/14/4/Central_Limit_Theorem.html), la distribución de probabilidad de la media o suma de una muestra aleatoria grande es aproximadamente normal. La curva de campana está centrada en la media poblacional. Algunas de las medias muestrales son más altas y otras más bajas, pero las desviaciones de la media poblacional son aproximadamente simétricas en ambos lados, como hemos visto repetidamente.\n",
    "\n",
    "En nuestras simulaciones, también notamos que las medias de muestras más grandes tienden a agruparse más estrechamente alrededor de la media poblacional que las medias de muestras más pequeñas. En esta sección, cuantificaremos la [variabilidad de la media muestral](https://www.inferentialthinking.com/chapters/14/5/Variability_of_the_Sample_Mean.html) y desarrollaremos una relación entre la variabilidad y el tamaño de la muestra.\n",
    "\n",
    "Echemos un vistazo a los salarios de los empleados de la ciudad de San Francisco en 2014. El salario medio informado por el gobierno de la ciudad fue de aproximadamente $75,463.92.\n",
    "\n",
    "*Nota: Si se queda atascado en alguna parte de esta práctica de laboratorio, consulte el [Capítulo 14 del libro de texto](https://www.inferentialthinking.com/chapters/14/Why_the_Mean_Matters.html).*"
   ]
  },
  {
   "cell_type": "code",
   "execution_count": null,
   "id": "tjDG77ibihlo",
   "metadata": {
    "deletable": true,
    "editable": true,
    "id": "tjDG77ibihlo"
   },
   "outputs": [],
   "source": [
    "salaries = Table.read_table('sf_salaries_2014.csv').select(\"salary\")\n",
    "salaries.show(5)"
   ]
  },
  {
   "cell_type": "code",
   "execution_count": null,
   "id": "D6LFLH8dihlo",
   "metadata": {
    "deletable": true,
    "editable": true,
    "id": "D6LFLH8dihlo"
   },
   "outputs": [],
   "source": [
    "salary_mean = np.mean(salaries.column('salary'))\n",
    "print('Salario promedio de los empleados de la ciudad de San Francisco en 2014:',\\\n",
    "      salary_mean.round(2))"
   ]
  },
  {
   "cell_type": "code",
   "execution_count": null,
   "id": "a9EV36Rhihlo",
   "metadata": {
    "deletable": true,
    "editable": true,
    "id": "a9EV36Rhihlo"
   },
   "outputs": [],
   "source": [
    "salaries.hist('salary', bins=np.arange(0, 250000+10000*2, 10000))\n",
    "plots.scatter(salary_mean, 0, color='red', zorder=2, s=50)\n",
    "plots.title('Salario en 2014 de los empleados de la ciudad de SF')\n",
    "plots.ylim(-0.0000005, 0.000014);"
   ]
  },
  {
   "cell_type": "markdown",
   "id": "MuWBWPaQihlp",
   "metadata": {
    "deletable": true,
    "editable": true,
    "id": "MuWBWPaQihlp"
   },
   "source": [
    "Claramente, la población *no* sigue una distribución normal. Tenga esto en cuenta a medida que avancemos en estos ejercicios.\n",
    "\n",
    "Tomemos muestras aleatorias **con reemplazo** y observemos la distribución de probabilidad de la media muestral. Como es habitual, utilizaremos la simulación para obtener una aproximación empírica a esta distribución."
   ]
  },
  {
   "cell_type": "markdown",
   "id": "_kskZP4xihlp",
   "metadata": {
    "deletable": false,
    "editable": false,
    "id": "_kskZP4xihlp"
   },
   "source": [
    "**Pregunta 2.1**  Define una función llamada `one_sample_mean` con los siguientes argumentos:  \n",
    "\n",
    "- `tabla`: el nombre de una tabla.  \n",
    "- `etiqueta`: el nombre de la columna que contiene la variable de interés.  \n",
    "- `tamano_muestra`: el número de empleados en la muestra.  \n",
    "\n",
    "La función debe extraer una muestra de la tabla con reemplazo y devolver la media de los valores en la columna especificada por la `etiqueta`.  \n",
    "\n",
    "**Nota:** La función debe ser genérica, haciendo referencia a los argumentos, para que pueda trabajar con cualquier tabla.  \n",
    "\n",
    "\n",
    "\n",
    "Ejemplo de ejecución:**  \n",
    "\n",
    "```python\n",
    "# Supongamos que tenemos una tabla llamada datos\n",
    "one_sample_mean(datos, \"Salario\", 3)\n"
   ]
  },
  {
   "cell_type": "code",
   "execution_count": null,
   "id": "3d7a825b",
   "metadata": {
    "tags": []
   },
   "outputs": [],
   "source": [
    "def one_sample_mean(table, label, sample_size):\n",
    "    new_sample = ...\n",
    "    new_sample_mean = ...\n",
    "    ..."
   ]
  },
  {
   "cell_type": "code",
   "execution_count": null,
   "id": "af2d7661",
   "metadata": {
    "deletable": false,
    "editable": false
   },
   "outputs": [],
   "source": [
    "grader.check(\"q4\")"
   ]
  },
  {
   "cell_type": "markdown",
   "id": "wSxF0QoRihlp",
   "metadata": {
    "deletable": false,
    "editable": false,
    "id": "wSxF0QoRihlp"
   },
   "source": [
    "**Pregunta 2.2**  \n",
    "Usa la función `one_sample_mean` para definir `simulate_sample_mean` con los argumentos:  \n",
    "\n",
    "- `tabla`: nombre de la tabla.  \n",
    "- `etiqueta`: nombre de la columna que contiene la variable de interés.  \n",
    "- `tamano_muestra`: número de empleados en cada muestra.  \n",
    "- `repeticiones`: cantidad de veces que se repetirá la simulación.  \n",
    "\n",
    "La función debe :  \n",
    "1. Extraer muestras con reemplazo de la tabla.  \n",
    "2. Calcular la media de cada muestra.  \n",
    "3. Almacenar las medias en una lista llamada `means`.  \n",
    "4. Generar un histograma empírico de las medias muestrales.  \n",
    "\n",
    "**Nota:** Todos los valores se redondean a 2 decimales, ya que trabajamos con salarios.\n"
   ]
  },
  {
   "cell_type": "code",
   "execution_count": null,
   "id": "18055b3d",
   "metadata": {
    "tags": []
   },
   "outputs": [],
   "source": [
    "\n",
    "means = simulate_sample_mean(salaries, 'salary', 100, 10000)\n",
    "Table().with_column('Medias de Muestra', means).hist()\n",
    "plots.xlim(50000, 100000)"
   ]
  },
  {
   "cell_type": "code",
   "execution_count": null,
   "id": "1ac63141",
   "metadata": {
    "deletable": false,
    "editable": false
   },
   "outputs": [],
   "source": [
    "grader.check(\"q5\")"
   ]
  },
  {
   "cell_type": "markdown",
   "id": "WV3PSNhhihlq",
   "metadata": {
    "deletable": true,
    "editable": true,
    "id": "WV3PSNhhihlq"
   },
   "source": [
    "**Verifique** con un compañero o  el profesor que la **función** este implementada correctamente. Si no lo ha implementado correctamente, el resto del laboratorio no funcionará, por lo que este paso es crucial."
   ]
  },
  {
   "cell_type": "markdown",
   "id": "UH3jn47Gihlq",
   "metadata": {
    "deletable": true,
    "editable": true,
    "id": "UH3jn47Gihlq"
   },
   "source": [
    "En la siguiente celda, crearemos una muestra de tamaño 100 a partir de \"salarios\" y la graficaremos usando nuestra nueva función \"simulate_sample_mean\".\n",
    "\n",
    "  *Pista: Deberías ver una distribución similar a algo de lo que hemos estado hablando. Si no, verifique su función.*"
   ]
  },
  {
   "cell_type": "code",
   "execution_count": null,
   "id": "RnyNNhG8ihlq",
   "metadata": {
    "deletable": true,
    "editable": true,
    "id": "RnyNNhG8ihlq"
   },
   "outputs": [],
   "source": [
    "means = simulate_sample_mean(salaries, 'salary', 100, 10000)\n",
    "Table().with_column('Medias de Muestra', means).hist()\n",
    "plots.xlim(50000, 100000);"
   ]
  },
  {
   "cell_type": "markdown",
   "id": "vBMwklknihlq",
   "metadata": {
    "deletable": true,
    "editable": true,
    "id": "vBMwklknihlq"
   },
   "source": [
    "¡Observa que nuestra distribución de medias muestrales es aproximadamente normal! ¿Importaba si nuestra distribución original seguía una distribución normal?"
   ]
  },
  {
   "cell_type": "markdown",
   "id": "Ie21bYRAihlq",
   "metadata": {
    "deletable": false,
    "editable": false,
    "id": "Ie21bYRAihlq"
   },
   "source": [
    "**Pregunta 2.3.** Simule dos medias muestrales, una para una muestra de 400 salarios y otra para una muestra de 625 salarios. En cada caso, realiza 10.000 repeticiones. No se preocupe por las líneas `plots.xlim` o `plots.ylim`; solo se aseguran de que todos los gráficos tengan el mismo eje x e y, respectivamente."
   ]
  },
  {
   "cell_type": "code",
   "execution_count": null,
   "id": "2682eab5",
   "metadata": {
    "tags": []
   },
   "outputs": [],
   "source": [
    "simulate_sample_mean(..., ..., ..., ...)\n",
    "plots.xlim(50000, 100000)\n",
    "plots.ylim(0, 0.0002)\n",
    "plots.show();\n",
    "print('\\n')\n",
    "simulate_sample_mean(..., ..., ..., ...)\n",
    "plots.xlim(50000, 100000)\n",
    "plots.ylim(0, 0.0002)\n",
    "plots.show();"
   ]
  },
  {
   "cell_type": "code",
   "execution_count": null,
   "id": "2eabf763",
   "metadata": {
    "deletable": false,
    "editable": false
   },
   "outputs": [],
   "source": [
    "grader.check(\"q6\")"
   ]
  },
  {
   "cell_type": "markdown",
   "id": "C5plKZrWihlq",
   "metadata": {
    "deletable": false,
    "editable": false,
    "id": "C5plKZrWihlq"
   },
   "source": [
    "**Pregunta 2.4**\n",
    "\n",
    "Asigna a la variable `q2_4` a una matriz de números que correspondan a **las afirmaciones** verdaderas sobre las gráficas de la sección 3.3.  \n",
    "\n",
    "**Pista:** Si una distribución tiene forma de campana, ¿qué tipo de curva sigue?  \n",
    "\n",
    "1. Observamos el Teorema del Límite Central (CLT) en acción, ya que las distribuciones de las medias muestrales tienen forma de campana.  \n",
    "2. Observamos la Ley de los Promedios en acción, ya que las distribuciones de las medias muestrales se asemejan a la distribución de la población.  \n",
    "3. Una de las condiciones para el CLT es extraer una pequeña muestra aleatoria con reemplazo de la población.  \n",
    "4. Una de las condiciones para el CLT es extraer una muestra aleatoria grande con reemplazo de la población.  \n",
    "5. Una de las condiciones para el CLT es que la población debe seguir una distribución normal.  \n"
   ]
  },
  {
   "cell_type": "code",
   "execution_count": null,
   "id": "0a76f352",
   "metadata": {
    "tags": []
   },
   "outputs": [],
   "source": [
    "q2_4 = ..."
   ]
  },
  {
   "cell_type": "code",
   "execution_count": null,
   "id": "79a8c108",
   "metadata": {
    "deletable": false,
    "editable": false
   },
   "outputs": [],
   "source": [
    "grader.check(\"q7\")"
   ]
  },
  {
   "cell_type": "markdown",
   "id": "v1vmfPhuihl-",
   "metadata": {
    "deletable": false,
    "editable": false,
    "id": "v1vmfPhuihl-"
   },
   "source": [
    "**Pregunta 2.5**\n",
    "\n",
    "Asigna `q2_5` a una matriz de números que correspondan a las afirmaciones verdaderas sobre las gráficas de la sección 2.3.  \n",
    "\n",
    "1. Ambos gráficos en 2.3 están aproximadamente centrados en la media poblacional.  \n",
    "2. Ambos gráficos en 2.3 están aproximadamente centrados en la media de una muestra específica.  \n",
    "3. La distribución de medias muestrales para un tamaño de muestra de 625 tiene menos variabilidad que la distribución de medias muestrales para un tamaño de muestra de 400.  \n",
    "4. La distribución de medias muestrales para un tamaño de muestra de 625 tiene más variabilidad que la distribución de medias muestrales para un tamaño de muestra de 400.  \n"
   ]
  },
  {
   "cell_type": "code",
   "execution_count": null,
   "id": "bed3de9a",
   "metadata": {
    "tags": []
   },
   "outputs": [],
   "source": [
    "q2_5 = ..."
   ]
  },
  {
   "cell_type": "code",
   "execution_count": null,
   "id": "536cb674",
   "metadata": {
    "deletable": false,
    "editable": false
   },
   "outputs": [],
   "source": [
    "grader.check(\"q8\")"
   ]
  },
  {
   "cell_type": "markdown",
   "id": "aCelZjr5ihl-",
   "metadata": {
    "deletable": true,
    "editable": true,
    "id": "aCelZjr5ihl-"
   },
   "source": [
    "A continuación, veremos lo que sucede cuando tomamos un **número creciente de remuestreos de un tamaño de muestra fijo**. Observe qué número en el código cambia y qué permanece igual. ¿Cómo cambia la distribución de las medias remuestreadas?"
   ]
  },
  {
   "cell_type": "code",
   "execution_count": null,
   "id": "gb2TXHcKihl-",
   "metadata": {
    "deletable": true,
    "editable": true,
    "id": "gb2TXHcKihl-"
   },
   "outputs": [],
   "source": [
    "means_0=simulate_sample_mean(salaries, 'salary', 100, 500)\n",
    "Table().with_column('Medias de Muestra', means_0).hist()\n",
    "plots.xlim(50000, 100000)\n",
    "plots.ylim(0, 0.00009);"
   ]
  },
  {
   "cell_type": "code",
   "execution_count": null,
   "id": "F6oJOhv8ihl_",
   "metadata": {
    "deletable": true,
    "editable": true,
    "id": "F6oJOhv8ihl_"
   },
   "outputs": [],
   "source": [
    "means_1=simulate_sample_mean(salaries, 'salary', 100, 1000)\n",
    "Table().with_column('Medias de Muestra', means_1).hist()\n",
    "plots.xlim(50000, 100000);\n",
    "plots.ylim(0, 0.00009);"
   ]
  },
  {
   "cell_type": "code",
   "execution_count": null,
   "id": "HdLBPK5pihl_",
   "metadata": {
    "deletable": true,
    "editable": true,
    "id": "HdLBPK5pihl_"
   },
   "outputs": [],
   "source": [
    "means_2=simulate_sample_mean(salaries, 'salary', 100, 5000)\n",
    "Table().with_column('Medias de Muestra', means_2).hist()\n",
    "\n",
    "plots.xlim(50000, 100000);\n",
    "plots.ylim(0, 0.00009);"
   ]
  },
  {
   "cell_type": "code",
   "execution_count": null,
   "id": "NnASD2nOihl_",
   "metadata": {
    "deletable": true,
    "editable": true,
    "id": "NnASD2nOihl_"
   },
   "outputs": [],
   "source": [
    "means_3=simulate_sample_mean(salaries, 'salary', 100, 10000)\n",
    "Table().with_column('Medias de Muestra', means_3).hist()\n",
    "plots.xlim(50000, 100000);\n",
    "plots.ylim(0, 0.00009);"
   ]
  },
  {
   "cell_type": "markdown",
   "id": "Yr1uu_uvihl_",
   "metadata": {
    "deletable": true,
    "editable": true,
    "id": "Yr1uu_uvihl_"
   },
   "source": [
    "¿Qué notaste acerca de las distribuciones de medias muestrales en los cuatro histogramas anteriores? Discuta con sus compañeros o pregúntele a un miembro del personal."
   ]
  },
  {
   "cell_type": "markdown",
   "id": "zK99zbRVihl_",
   "metadata": {
    "deletable": false,
    "editable": false,
    "id": "zK99zbRVihl_"
   },
   "source": [
    "**Pregunta 2.6**\n",
    "\n",
    "Asigna la variable `SD_of_sample_means` al número entero correspondiente a la respuesta correcta para la siguiente pregunta:  \n",
    "\n",
    "Cuando aumento el número de *nuevas muestras*, manteniendo un tamaño de muestra *fijo*, la desviación estándar (SD) de las medias muestrales:  \n",
    "\n",
    "1. Aumentará.  \n",
    "2. Disminuirá.  \n",
    "3. Se mantendrá igual.  \n",
    "4. Variará ampliamente.  \n"
   ]
  },
  {
   "cell_type": "code",
   "execution_count": null,
   "id": "c200c81f",
   "metadata": {
    "tags": []
   },
   "outputs": [],
   "source": [
    "SD_of_sample_means=..."
   ]
  },
  {
   "cell_type": "code",
   "execution_count": null,
   "id": "1a38f4ef",
   "metadata": {
    "deletable": false,
    "editable": false
   },
   "outputs": [],
   "source": [
    "grader.check(\"q9\")"
   ]
  },
  {
   "cell_type": "markdown",
   "id": "y473iN_xihmA",
   "metadata": {
    "deletable": false,
    "editable": false,
    "id": "y473iN_xihmA"
   },
   "source": [
    "**Pregunta 2.7.** Pensemos en cómo cambian las relaciones entre la SD de la población, la SD de la muestra y la SD de las medias de la muestra al variar el tamaño de la muestra. ¿Cual de los siguientes enunciados  es verdadero? Asigne la variable `pop_vs_sample` a una matriz de números enteros que correspondan a declaraciones verdaderas.\n",
    "\n",
    "*Pista 1:* La SD de la muestra es diferente de la SD de las medias de la muestra.\n",
    "\n",
    "*Pista 2:* [Capítulo 14.5](https://inferentialthinking.com/chapters/14/5/Variability_of_the_Sample_Mean.html) podría ser útil para responder esta pregunta.\n",
    "\n",
    "1. La SD de la muestra se hace más pequeña a medida que aumenta el tamaño de la muestra.\n",
    "2. La SD de la muestra aumenta a medida que aumenta el tamaño de la muestra.\n",
    "3. La SD de la muestra se vuelve más consistente con la SD de la población a medida que aumenta el tamaño de la muestra.\n",
    "4. La SD de las medias muestrales se reduce al aumentar el tamaño de la muestra.\n",
    "5. La SD de las medias muestrales aumenta a medida que aumenta el tamaño de la muestra.\n",
    "6. La SD de las medias muestrales permanece igual al aumentar el tamaño de la muestra."
   ]
  },
  {
   "cell_type": "code",
   "execution_count": null,
   "id": "9c78233c",
   "metadata": {
    "tags": []
   },
   "outputs": [],
   "source": [
    "pop_vs_sample=...."
   ]
  },
  {
   "cell_type": "code",
   "execution_count": null,
   "id": "da966dbc",
   "metadata": {
    "deletable": false,
    "editable": false
   },
   "outputs": [],
   "source": [
    "grader.check(\"q10\")"
   ]
  },
  {
   "cell_type": "markdown",
   "id": "N6oqKIadihmB",
   "metadata": {
    "deletable": false,
    "editable": false,
    "id": "N6oqKIadihmB"
   },
   "source": [
    "**Pregunta 2.8.** ¿Existe una relación entre el tamaño de la muestra y la desviación estándar de las medias muestrales? Asigne `q2_8` al número correspondiente a la declaración que responde a esta pregunta.\n",
    "\n",
    "*Pista:* [Capítulo 14.5](https://inferentialthinking.com/chapters/14/5/Variability_of_the_Sample_Mean.html) del libro de texto puede resultar útil.\n",
    "\n",
    "1. La SD de las medias muestrales es inversamente proporcional a la raíz cuadrada del tamaño de la muestra.\n",
    "2. La SD de las medias muestrales es directamente proporcional a la raíz cuadrada del tamaño de la muestra."
   ]
  },
  {
   "cell_type": "code",
   "execution_count": null,
   "id": "0397ce63",
   "metadata": {
    "tags": []
   },
   "outputs": [],
   "source": [
    "q2_8=...\n"
   ]
  },
  {
   "cell_type": "code",
   "execution_count": null,
   "id": "079b8d38",
   "metadata": {
    "deletable": false,
    "editable": false
   },
   "outputs": [],
   "source": [
    "grader.check(\"q11\")"
   ]
  },
  {
   "cell_type": "markdown",
   "id": "np91Xx7jihmC",
   "metadata": {
    "deletable": true,
    "editable": true,
    "id": "np91Xx7jihmC"
   },
   "source": [
    "A lo largo de este laboratorio, hemos estado tomando muchas muestras aleatorias de una población. Sin embargo, todos estos principios son válidos para remuestreos con arranque de una sola muestra. El bootstrap funciona porque es como extraer datos de la población original, asumiendo que la muestra es representativa. Si su muestra original es relativamente grande, todas sus remuestras también serán relativamente grandes, por lo que la SD de las medias remuestreadas será relativamente pequeña.\n",
    "\n",
    "**Para cambiar la variabilidad de la media de su muestra, tendría que cambiar el tamaño de la muestra original de la cual está tomando remuestras con arranque.**"
   ]
  },
  {
   "cell_type": "markdown",
   "id": "jaZ1oSisihmC",
   "metadata": {
    "deletable": true,
    "editable": true,
    "id": "jaZ1oSisihmC"
   },
   "source": [
    "-----\n",
    "## ¡Hecho!\n",
    "\n",
    "\n",
    "<img src=\"./Zaira.jpg\" width=\"30%\" alt=\"Imagen en primer plano de un perro sonriendo, sentado en el césped.\"/>\n",
    "\n",
    "**Zaira** quiere recordarte que ¡Puedes hacerlo!"
   ]
  },
  {
   "cell_type": "markdown",
   "id": "eXAVt4MYihmD",
   "metadata": {
    "deletable": true,
    "editable": true,
    "id": "eXAVt4MYihmD"
   },
   "source": [
    "¡Felicitaciones por completar la Laboratorio 8!\n",
    "\n",
    "¡Terminaste con el laboratorio!\n",
    "\n",
    "**Información importante sobre el envío:**\n",
    "- **Ejecuta todas las pruebas** y verifica que todas pasan\n",
    "- **Guardar** desde el menú **Archivo**\n",
    "- **Ejecute la celda final **\n",
    "- Luego, ve a este [enlace](https://cienciadatosudea.github.io/001_SitioWebFundCienciaDatos/04entregas.html) y envía el archivo ipynb a la tarea correspondiente. El nombre de esta tarea es \"Lab XX Autograder\", donde XX es el número de laboratorio: 01, 02, 03, etc.\n",
    "\n",
    "- Si terminas temprano en el laboratorio regular, **registra tu asistencia con el instructor**.\n",
    "\n",
    "**Es su responsabilidad asegurarse de que su trabajo esté guardado antes de ejecutar la última celda.**\n",
    "\n",
    "`Referencia`: Este material esta basado en [Data 8: The Foundations of Data Science](https://www.data8.org/) - University of California, Berkeley.\n"
   ]
  },
  {
   "cell_type": "markdown",
   "id": "3542b80d",
   "metadata": {
    "deletable": false,
    "editable": false
   },
   "source": [
    "## Submission\n",
    "\n",
    "Make sure you have run all cells in your notebook in order before running the cell below, so that all images/graphs appear in the output. The cell below will generate a zip file for you to submit. **Please save before exporting!**\n",
    "\n",
    "These are some submission instructions."
   ]
  },
  {
   "cell_type": "code",
   "execution_count": null,
   "id": "d61f2c07",
   "metadata": {
    "deletable": false,
    "editable": false
   },
   "outputs": [],
   "source": [
    "# Save your notebook first, then run this cell to export your submission.\n",
    "grader.export(run_tests=True)"
   ]
  },
  {
   "cell_type": "markdown",
   "id": "bb776a1a",
   "metadata": {},
   "source": [
    " "
   ]
  }
 ],
 "metadata": {
  "colab": {
   "include_colab_link": true,
   "provenance": []
  },
  "kernelspec": {
   "display_name": "Python 3 (ipykernel)",
   "language": "python",
   "name": "python3"
  },
  "language_info": {
   "codemirror_mode": {
    "name": "ipython",
    "version": 3
   },
   "file_extension": ".py",
   "mimetype": "text/x-python",
   "name": "python",
   "nbconvert_exporter": "python",
   "pygments_lexer": "ipython3",
   "version": "3.10.14"
  },
  "otter": {
   "OK_FORMAT": true,
   "assignment_name": "lab09",
   "tests": {
    "q10": {
     "name": "q10",
     "points": 1,
     "suites": [
      {
       "cases": [
        {
         "code": ">>> assert (pop_vs_sample, make_array(3, 4))\n",
         "hidden": false,
         "locked": false
        }
       ],
       "scored": true,
       "setup": "",
       "teardown": "",
       "type": "doctest"
      }
     ]
    },
    "q11": {
     "name": "q11",
     "points": 1,
     "suites": [
      {
       "cases": [
        {
         "code": ">>> assert q2_8 == 1\n",
         "hidden": false,
         "locked": false
        }
       ],
       "scored": true,
       "setup": "",
       "teardown": "",
       "type": "doctest"
      }
     ]
    },
    "q2": {
     "name": "q2",
     "points": 1,
     "suites": [
      {
       "cases": [
        {
         "code": ">>> assert np.isclose(age_mean, 27.228, 0.01)\n>>> assert np.isclose(age_sd, 5.815, 0.01)\n",
         "hidden": false,
         "locked": false
        }
       ],
       "scored": true,
       "setup": "",
       "teardown": "",
       "type": "doctest"
      }
     ]
    },
    "q3": {
     "name": "q3",
     "points": 1,
     "suites": [
      {
       "cases": [
        {
         "code": ">>> assert np.isclose(height_mean, 64.049, 0.001)\n>>> assert np.isclose(height_sd, 2.525, 0.001)\n",
         "hidden": false,
         "locked": false
        }
       ],
       "scored": true,
       "setup": "",
       "teardown": "",
       "type": "doctest"
      }
     ]
    },
    "q4": {
     "name": "q4",
     "points": 1,
     "suites": [
      {
       "cases": [
        {
         "code": ">>> baby = Table.read_table('baby.csv')\n>>> resultado = one_sample_mean(baby, 'Birth Weight', 100)\n>>> assert isinstance(resultado, float), 'El resultado debe ser un valor float.'\n>>> assert np.isclose(abs(resultado), 120, 5 * 16), 'El resultado debe ser un valor float.'\n",
         "hidden": false,
         "locked": false
        }
       ],
       "scored": true,
       "setup": "",
       "teardown": "",
       "type": "doctest"
      }
     ]
    },
    "q5": {
     "name": "q5",
     "points": 1,
     "suites": [
      {
       "cases": [
        {
         "code": ">>> u = np.mean(simulate_sample_mean(salaries, 'salary', 1000, 1000))\n>>> assert np.isclose(u, 75497, 3000)\n",
         "hidden": false,
         "locked": false
        }
       ],
       "scored": true,
       "setup": "",
       "teardown": "",
       "type": "doctest"
      }
     ]
    },
    "q6": {
     "name": "q6",
     "points": 1,
     "suites": [
      {
       "cases": [
        {
         "code": ">>> u = simulate_sample_mean(salaries, 'salary', 400, 10000)\n>>> v = simulate_sample_mean(salaries, 'salary', 625, 10000)\n>>> assert np.isclose(np.mean(u), 75461.9, 60)\n>>> assert np.isclose(np.mean(v), 75480, 60)\n",
         "hidden": false,
         "locked": false
        }
       ],
       "scored": true,
       "setup": "",
       "teardown": "",
       "type": "doctest"
      }
     ]
    },
    "q7": {
     "name": "q7",
     "points": 1,
     "suites": [
      {
       "cases": [
        {
         "code": ">>> assert (q2_4 == make_array(1, 4)).sum() == 2\n",
         "hidden": false,
         "locked": false
        }
       ],
       "scored": true,
       "setup": "",
       "teardown": "",
       "type": "doctest"
      }
     ]
    },
    "q8": {
     "name": "q8",
     "points": 1,
     "suites": [
      {
       "cases": [
        {
         "code": ">>> assert (q2_5 == make_array(1, 3)).sum() == 2\n",
         "hidden": false,
         "locked": false
        }
       ],
       "scored": true,
       "setup": "",
       "teardown": "",
       "type": "doctest"
      }
     ]
    },
    "q9": {
     "name": "q9",
     "points": 1,
     "suites": [
      {
       "cases": [
        {
         "code": ">>> assert SD_of_sample_means == 3\n",
         "hidden": false,
         "locked": false
        }
       ],
       "scored": true,
       "setup": "",
       "teardown": "",
       "type": "doctest"
      }
     ]
    },
    "qt": {
     "name": "qt",
     "points": 0,
     "suites": [
      {
       "cases": [
        {
         "code": ">>> assert isinstance(NombreApellidos, str)\n>>> assert isinstance(NumeroCarnet, str)\n>>> assert isinstance(Email, str)\n>>> assert len(NombreApellidos) > 3\n>>> assert len(NumeroCarnet) > 3\n>>> assert len(Email) > 3\n",
         "hidden": false,
         "locked": false
        }
       ],
       "scored": true,
       "setup": "",
       "teardown": "",
       "type": "doctest"
      }
     ]
    }
   }
  }
 },
 "nbformat": 4,
 "nbformat_minor": 5
}
