{
 "cells": [
  {
   "cell_type": "code",
   "execution_count": null,
   "id": "110b424a",
   "metadata": {
    "deletable": false,
    "editable": false
   },
   "outputs": [],
   "source": [
    "# Initialize Otter\n",
    "import otter\n",
    "grader = otter.Notebook(\"lab08.ipynb\")"
   ]
  },
  {
   "attachments": {},
   "cell_type": "markdown",
   "id": "9c0f9fbd",
   "metadata": {
    "deletable": true,
    "editable": true
   },
   "source": [
    "**Recurso Útil:**\n",
    "\n",
    "- [Referencia de Python](http://data8.org/fa23/reference/): Esta es una guía rápida que contiene métodos útiles para trabajar con arreglos y tablas en el curso de Data 8.\n",
    "\n",
    "**Lectura Recomendada**:\n",
    "\n",
    "* [Estimación](https://www.inferentialthinking.com/chapters/13/Estimation): Este capítulo abarca los conceptos fundamentales de la estimación en estadística, proporcionando las bases necesarias para comprender cómo, a partir de una muestra, podemos realizar inferencias acerca de una población."
   ]
  },
  {
   "attachments": {},
   "cell_type": "markdown",
   "id": "c2b96f2a",
   "metadata": {
    "deletable": true,
    "editable": true
   },
   "source": [
    "<p><img alt=\"Colaborat\" style=\"height: 220px;\" src=\"https://github.com/CienciaDatosUdea/001_DataSetFundCienciaDatos/blob/main/semestre2024-2/lab/lab02/Escudo-UdeA.svg.png?raw=true\" align=\"left\" hspace=\"10px\" vspace=\"0px\"></p>\n",
    "\n",
    "# Fundamentos en Ciencias de Datos\n",
    "\n",
    "## Laboratorio 8: Intervalos de Confianza\n",
    "\n",
    "¡Bienvenidos al Laboratorio 8!\n",
    "\n",
    "En este laboratorio, aprenderemos y aplicaremos técnicas de intervalos de confianza para estimar parámetros poblacionales, utilizando ejemplos concretos que nos permitirán comprender mejor su aplicación práctica. Imagina que estás evaluando la popularidad de restaurantes de comida paisa en tu ciudad. "
   ]
  },
  {
   "cell_type": "code",
   "execution_count": null,
   "id": "9435598b",
   "metadata": {
    "deletable": true,
    "editable": true
   },
   "outputs": [],
   "source": [
    "# Don't change this cell; just run it. \n",
    "\n",
    "import numpy as np\n",
    "from datascience import *\n",
    "\n",
    "# These lines do some fancy plotting magic.\",\n",
    "import matplotlib\n",
    "%matplotlib inline\n",
    "import matplotlib.pyplot as plt \n",
    "plt.style.use('fivethirtyeight')\n",
    "import warnings\n",
    "warnings.simplefilter('ignore', FutureWarning)"
   ]
  },
  {
   "cell_type": "markdown",
   "id": "6b1c828c-00d0-4a6a-ab9c-cc382dc48b3b",
   "metadata": {
    "deletable": false,
    "editable": false
   },
   "source": [
    "<!-- BEGIN QUESTION -->\n",
    "\n",
    "Ingresa tu nombre  con apellido y número de carnet en las variables dadas en la celda siguiente:\n",
    "Ejemplo:\n",
    "```python\n",
    "NombreApellidos=\"Ada Lovelace\"\n",
    "NumeroCarnet=\"27182818\"\n",
    "Email=\"Ada.Lovelace@udea.edu.co\"\n",
    "```"
   ]
  },
  {
   "cell_type": "code",
   "execution_count": null,
   "id": "b838c71a-b5c9-4af8-9513-20887dfff0ad",
   "metadata": {
    "tags": []
   },
   "outputs": [],
   "source": [
    "NombreApellidos=\"...\"\n",
    "NumeroCarnet=\"..\"\n",
    "Email=\"...\""
   ]
  },
  {
   "cell_type": "code",
   "execution_count": null,
   "id": "2ec5609d",
   "metadata": {
    "deletable": false,
    "editable": false
   },
   "outputs": [],
   "source": [
    "grader.check(\"qt\")"
   ]
  },
  {
   "cell_type": "markdown",
   "id": "5a73926d",
   "metadata": {
    "deletable": false,
    "editable": false
   },
   "source": [
    "<!-- END QUESTION -->\n",
    "\n",
    "## 1. Encuesta sobre el Mejor Restaurante de Frijoles en Medellín\n",
    "\n",
    "Estamos llevando a cabo una encuesta para descubrir cuál es el restaurante de frijoles favorito en Medellín. Los resultados actuales son los siguientes:\n",
    "\n",
    "- **Don Frijolón**: 8%\n",
    "- **Los Frijolitos**: 53%\n",
    "- **Sabor a Frijol**: 25%\n",
    "- **El Fogón del Frijol**: 14%\n",
    "\n",
    "Tu opinión es importante para nosotros. Comparte tu experiencia y ayúdanos a encontrar el mejor lugar para disfrutar de unos deliciosos frijoles en la ciudad."
   ]
  },
  {
   "attachments": {},
   "cell_type": "markdown",
   "id": "dd632784",
   "metadata": {
    "deletable": true,
    "editable": true
   },
   "source": [
    "# Encuesta sobre el Mejor Restaurante de Frijoles en Medellín\n",
    "\n",
    "Jessica y Ciara están tratando de identificar cuál es el restaurante de frijoles más popular en Medellín. Han llevado a cabo una encuesta en la que participaron **1,500** habitantes de la ciudad, seleccionados al azar de manera uniforme. A los encuestados se les pidió que escogieran el restaurante que, a su juicio, sirve los mejores frijoles.\n",
    "\n",
    "Las opciones de restaurantes que se les presentaron fueron:\n",
    "\n",
    "- **Don Frijolón** \n",
    "- **Los Frijolitos**\n",
    "- **Sabor a Frijol**\n",
    "- **El Fogón del Frijol**\n",
    "\n",
    "Tras analizar las respuestas, Jessica y Ciara publicaron los siguientes porcentajes que reflejan el resultado de la encuesta:\n",
    "\n",
    "| Restaurante de Frijoles | Porcentaje |\n",
    "|:----------------------:|:----------:|\n",
    "| Don Frijolón | 8% |\n",
    "| Los Frijolitos | 53% |\n",
    "| Sabor a Frijol | 25% |\n",
    "| El Fogón del Frijol | 14% |\n",
    "\n",
    "Estos datos proporcionan una visión general de las preferencias de los participantes sobre en qué restaurante se pueden encontrar los mejores frijoles de Medellín. Cabe destacar que este es un experimento hipotético y tanto los resultados como los nombres de los restaurantes son ficticios."
   ]
  },
  {
   "cell_type": "code",
   "execution_count": null,
   "id": "78656f0e",
   "metadata": {
    "deletable": true,
    "editable": true
   },
   "outputs": [],
   "source": [
    "# Just run this cell\n",
    "votes = Table.read_table('Votos_frijoles.csv')\n",
    "votes"
   ]
  },
  {
   "cell_type": "markdown",
   "id": "ab53f944",
   "metadata": {
    "deletable": false,
    "editable": false
   },
   "source": [
    "**Pregunta 1.1.** Completa la función `one_resampled_percentage` a continuación. Debe devolver el ***porcentaje*** de votos de Los Frijolitos después de tomar la tabla original (`tbl`) y realizar una muestra bootstrap de ella. Recuerda que un porcentaje está entre 0 y 100. **(8 Puntos)**\n",
    "\n",
    "*Nota 1:* `tbl` siempre tendrá el mismo formato que `votes`.\n",
    "\n",
    "*Nota 2:* Esta función debe completarse **sin** `.group` o `.pivot`. Usar estas funciones causará que tu código se agote en el tiempo de ejecución.\n",
    "\n",
    "*Pista:* Dada una tabla de votos, ¿cómo puedes determinar qué porcentaje de los votos son para un cierto restaurante? ¡Asegúrate de usar porcentajes, no proporciones, para esta pregunta!"
   ]
  },
  {
   "cell_type": "code",
   "execution_count": null,
   "id": "15cd93f4-d044-4237-98a7-b3a27868a9b0",
   "metadata": {
    "tags": []
   },
   "outputs": [],
   "source": [
    "def one_resampled_percentage(tbl):\n",
    "    # Escribe la solucion acá\n",
    "    pass\n",
    "\n",
    "one_resampled_percentage(votes)\n",
    "one_resampled_percentage(votes)"
   ]
  },
  {
   "cell_type": "code",
   "execution_count": null,
   "id": "a38d56cf",
   "metadata": {
    "deletable": false,
    "editable": false
   },
   "outputs": [],
   "source": [
    "grader.check(\"q0\")"
   ]
  },
  {
   "cell_type": "markdown",
   "id": "4a37fe27",
   "metadata": {
    "deletable": false,
    "editable": false
   },
   "source": [
    "**Pregunta 1.2.** Completa la función `percentages_in_resamples` de manera que simule y devuelva un arreglo de **2023 elementos**, donde cada elemento representa una estimación remuestreada del porcentaje de votantes que votarán por Don Frijolón. Debes utilizar la función `one_resampled_percentage` que escribiste anteriormente. **(8 Puntos)**, la función debe retornar un arreglo de numpy.\n",
    "\n",
    "_Nota:_ Realizamos nuestra simulación con **solo 2023 pruebas** en este problema para reducir el tiempo de ejecución, pero generalmente deberíamos usar más repeticiones."
   ]
  },
  {
   "cell_type": "code",
   "execution_count": null,
   "id": "d5835bb3",
   "metadata": {
    "tags": []
   },
   "outputs": [],
   "source": [
    "\n",
    "def percentages_in_resamples():\n",
    "    resampled_percentages = make_array()\n",
    "    pass\n",
    "\n",
    "percentages_in_resamples()"
   ]
  },
  {
   "cell_type": "code",
   "execution_count": null,
   "id": "2ab19493",
   "metadata": {
    "deletable": false,
    "editable": false
   },
   "outputs": [],
   "source": [
    "grader.check(\"q1\")"
   ]
  },
  {
   "attachments": {},
   "cell_type": "markdown",
   "id": "1b28e005",
   "metadata": {
    "deletable": true,
    "editable": true
   },
   "source": [
    "En la celda siguiente, ejecutaremos la función `percentages_in_resamples` que acabas de definir. Esta función nos permitirá crear un histograma del estadístico calculado para las estimaciones bootstrap del año 2023, específicamente del porcentaje de votantes que eligieron a Don Frijolón. \n",
    "\n",
    "*Nota:* La ejecución de este proceso puede tardar unos segundos."
   ]
  },
  {
   "cell_type": "code",
   "execution_count": null,
   "id": "409f77d0",
   "metadata": {
    "deletable": true,
    "editable": true
   },
   "outputs": [],
   "source": [
    "resampled_percentages = percentages_in_resamples()\n",
    "Table().with_column('Estimated Percentage', resampled_percentages).hist(\"Estimated Percentage\")"
   ]
  },
  {
   "cell_type": "markdown",
   "id": "bf02e1dd",
   "metadata": {
    "deletable": false,
    "editable": false
   },
   "source": [
    "**Pregunta 1.3.** En esta laboratorio, vamos a trabajar con el arreglo `resampled_percentages` para identificar los valores que se encuentran en los extremos de un intervalo que abarca el 95% de las estimaciones porcentuales re-muestreadas. El objetivo es calcular tanto el límite inferior como el superior de este intervalo de confianza, y asignar estos valores a las variables `lower_bound` e `upper_bound`, respectivamente. **(8 Puntos)**, define un array llamado interval con el limte inferior y superior.\n",
    "\n",
    "Toma en cuenta que este proceso es fundamental para entender el intervalo de confianza de nuestras estimaciones, lo cual es un concepto clave en el análisis inferencial de datos. Asegúrate de calcular correctamente estos extremos para obtener resultados precisos.\n",
    "\n",
    "*Sugerencia:* Si encuentras dificultades al abordar esta pregunta, considera revisar el [Capítulo 13.1](https://inferentialthinking.com/chapters/13/1/Percentiles.html) del libro de texto, donde se exploran los percentiles en mayor detalle."
   ]
  },
  {
   "cell_type": "code",
   "execution_count": null,
   "id": "c83f2b97",
   "metadata": {
    "tags": []
   },
   "outputs": [],
   "source": [
    "lower_bound = ...\n",
    "upper_bound = ...\n",
    "interval=make_array(lower_bound, upper_bound)\n",
    "print(f\"Intervalo de confianza del 95% para el porcentaje de votos de Los Frijolitos en la población: [{lower_bound:.2f}, {upper_bound:.2f}]\")\n"
   ]
  },
  {
   "cell_type": "code",
   "execution_count": null,
   "id": "953ea1be",
   "metadata": {
    "deletable": false,
    "editable": false
   },
   "outputs": [],
   "source": [
    "grader.check(\"q2\")"
   ]
  },
  {
   "cell_type": "markdown",
   "id": "b702bb81",
   "metadata": {
    "deletable": false,
    "editable": false
   },
   "source": [
    "**Pregunta 1.4.** Los resultados de la encuesta parecen indicar que Los Frijolitos está superando a todos los demás restaurantes de comida paisa entre los votantes. Nos gustaría utilizar intervalos de confianza para determinar un rango de valores probables para la verdadera ventaja de Los Frijolitos sobre todos los demás restaurantes combinados. El cálculo para la ventaja de Los Frijolitos sobre Don Frijolon, Sabor a Frijol y El Fogón del Frijol combinados es:\n",
    "\n",
    "$$\\text{porcentaje de votos de Los Frijolitos} - (\\text{100 por ciento} - \\text{porcentaje de votos de Los Frijolitos})$$\n",
    "\n",
    "Define la función `one_resampled_difference` que devuelve **exactamente un valor** de la ventaja porcentual de Los Frijolitos sobre Don frijolon, Sabor a Frijol y El Fogón del Frijol combinados a partir de una muestra bootstrap de `tbl`. **(8 Puntos)**\n",
    "\n",
    "*Sugerencia 1:* La ventaja de Los Frijolitos puede ser negativa.\n",
    "\n",
    "*Sugerencia 2:* Dada una tabla de votos, ¿cómo puedes calcular qué porcentaje de los votos son para un cierto restaurante? **Asegúrate de usar porcentajes, no proporciones, para esta pregunta.**\n",
    "\n",
    "*Nota:* Si el código base proporcionado dentro de la función no es útil para ti, siéntete libre de abordar la pregunta utilizando tus propias variables."
   ]
  },
  {
   "cell_type": "code",
   "execution_count": null,
   "id": "6a46e9cc",
   "metadata": {
    "tags": []
   },
   "outputs": [],
   "source": [
    "def one_resampled_difference():\n",
    "    bootstrap = ...\n",
    "    los_frijolitos_percentage = ...\n",
    "    ...\n",
    "    ..."
   ]
  },
  {
   "cell_type": "code",
   "execution_count": null,
   "id": "faa8b37f",
   "metadata": {
    "deletable": false,
    "editable": false
   },
   "outputs": [],
   "source": [
    "grader.check(\"q3\")"
   ]
  },
  {
   "cell_type": "markdown",
   "id": "0f314fc5",
   "metadata": {
    "deletable": false,
    "editable": false
   },
   "source": [
    "**Pregunta 1.5.** Escribe una función llamada `leads_in_resamples` que devuelva un arreglo de 2023 elementos que represente las estimaciones por remuestreo (el resultado de llamar a `one_resampled_difference`) de la ventaja de Los Frijolitos sobre los otros restaurantes combinados. Luego, ejecuta la celda para graficar un histograma de las muestras resultantes. **(8 Puntos)**\n",
    "\n",
    "*Pista:* Si ves un error relacionado con `NoneType`, considera qué componentes necesita tener una función."
   ]
  },
  {
   "cell_type": "code",
   "execution_count": null,
   "id": "c9515ab1",
   "metadata": {
    "tags": []
   },
   "outputs": [],
   "source": [
    "def leads_in_resamples():\n",
    "    ...\n",
    "\n",
    "sampled_leads = leads_in_resamples()\n",
    "Table().with_column('Estimated Lead', sampled_leads).hist(\"Estimated Lead\")\n",
    "\n",
    "#sampled_leads = leads_in_resamples()\n",
    "#Table().with_column('Estimated Lead', sampled_leads).hist(\"Estimated Lead\")"
   ]
  },
  {
   "cell_type": "code",
   "execution_count": null,
   "id": "22dade78",
   "metadata": {
    "deletable": false,
    "editable": false
   },
   "outputs": [],
   "source": [
    "grader.check(\"q4\")"
   ]
  },
  {
   "cell_type": "markdown",
   "id": "b05f1dbd",
   "metadata": {
    "deletable": false,
    "editable": false
   },
   "source": [
    "**Pregunta 1.6.** Utiliza los datos simulados en `sampled_leads` de la Pregunta 1.5 para calcular un intervalo de confianza aproximado del 95% para la verdadera ventaja de Los Frijolitos sobre don Frijolon, Sabor a Frijol, y El Fogón del Frijol combinados. **(10 Puntos)**"
   ]
  },
  {
   "cell_type": "code",
   "execution_count": null,
   "id": "dfcf655b",
   "metadata": {
    "tags": []
   },
   "outputs": [],
   "source": [
    "diff_lower_bound = ...\n",
    "diff_upper_bound = ...\n",
    "make_array = (diff_lower_bound, diff_upper_bound)\n",
    "print(\"Intervalo de confianza del 95% con bootstrap para la verdadera ventaja de Los Frijolitos sobre los demas es: [{:.2f}%, {:.2f}%]\".format(diff_lower_bound, diff_upper_bound))\n"
   ]
  },
  {
   "cell_type": "code",
   "execution_count": null,
   "id": "73f7e992",
   "metadata": {
    "deletable": false,
    "editable": false
   },
   "outputs": [],
   "source": [
    "grader.check(\"q5\")"
   ]
  },
  {
   "cell_type": "markdown",
   "id": "dda3f3cc",
   "metadata": {
    "deletable": true,
    "editable": true
   },
   "source": [
    "## 2. Interpretación de los Intervalos de Confianza\n",
    "\n",
    "Los intervalos de confianza son herramientas estadísticas esenciales que nos permiten estimar un rango plausible para un parámetro poblacional desconocido, basado en una muestra de datos. En este caso, estamos analizando las preferencias de los clientes por diferentes restaurantes de comida paisa en la ciudad. Nuestra muestra indica la popularidad de los siguientes establecimientos, basándonos en encuestas realizadas:\n",
    "\n",
    "- **Don Frijolón**: 8% de preferencia\n",
    "- **Los Frijolitos**: 53% de preferencia\n",
    "- **Sabor a Frijol**: 25% de preferencia\n",
    "- **El Fogón del Frijol**: 14% de preferencia\n",
    "\n",
    "Usando estos datos, calculamos intervalos de confianza que nos ayudarán a inferir con mayor confianza las preferencias reales de la población general por cada restaurante. La interpretación de estos intervalos es crucial para tomar decisiones informadas sobre futuras estrategias de marketing y expansión de mercado.\n"
   ]
  },
  {
   "cell_type": "markdown",
   "id": "fda6168d",
   "metadata": {
    "deletable": true,
    "editable": true
   },
   "source": [
    "Hemos calculado el siguiente intervalo de confianza del 95% para el porcentaje de votantes de Los Frijolitos:\n",
    "\n",
    "$$[50.53, 55.53]$$\n",
    "\n",
    "(Tu respuesta en el punto 1.3 podría haber sido un poco diferente debido al azar; ¡eso no significa que esté equivocada!)"
   ]
  },
  {
   "cell_type": "markdown",
   "id": "a2647749",
   "metadata": {
    "deletable": false,
    "editable": false
   },
   "source": [
    "**Pregunta 2.1.** También creamos intervalos de confianza del 70%, 90% y 99% a partir de la misma muestra, ¡pero olvidamos etiquetar qué intervalo de confianza representaba qué porcentajes! ***Primero***, **asocia cada nivel de confianza (70%, 90%, 99%) con su intervalo correspondiente en la celda a continuación** (por ejemplo, __ % IC: [52.1, 54] $\\rightarrow$ reemplaza el espacio en blanco con uno de los tres niveles de confianza). ***Luego***, **explica tu proceso de pensamiento** y cómo llegaste a tus respuestas. **(10 Puntos)**\n",
    "\n",
    "Los intervalos son los siguientes:\n",
    "\n",
    "* [50.03, 55.94]\n",
    "* [52.1, 54]\n",
    "* [50.97, 54.99]\n",
    "\n",
    "*Pista:* Si estás atascado en esta pregunta, intenta revisar los Capítulos [13.3](https://inferentialthinking.com/chapters/13/3/Confidence_Intervals.html) y [13.4](https://inferentialthinking.com/chapters/13/4/Using_Confidence_Intervals.html) del libro de texto."
   ]
  },
  {
   "cell_type": "markdown",
   "id": "03e15055",
   "metadata": {
    "deletable": true,
    "editable": true
   },
   "source": [
    "_Escribe aquí tu respuesta, proporcionando contexto adicional según sea necesario:_ ..."
   ]
  },
  {
   "cell_type": "markdown",
   "id": "24ac0a6b",
   "metadata": {
    "deletable": false,
    "editable": false
   },
   "source": [
    "**Pregunta 2.2.** Supongamos que producimos **6,000 nuevas muestras** (cada una de ellas es una muestra aleatoria uniforme de 1,500 estudiantes) de la población y **calculamos un intervalo de confianza del 95% para cada una**. **Aproximadamente, ¿cuántos de esos 6,000 intervalos esperas que realmente incluyan el porcentaje verdadero de la población?** **(10 Puntos)**\n",
    "\n",
    "Asigna tu respuesta a `true_percentage_intervals`."
   ]
  },
  {
   "cell_type": "code",
   "execution_count": null,
   "id": "1c9a9051",
   "metadata": {
    "tags": []
   },
   "outputs": [],
   "source": [
    "true_percentage_intervals = ..."
   ]
  },
  {
   "cell_type": "code",
   "execution_count": null,
   "id": "34474329",
   "metadata": {
    "deletable": false,
    "editable": false
   },
   "outputs": [],
   "source": [
    "grader.check(\"q7\")"
   ]
  },
  {
   "cell_type": "markdown",
   "id": "4d23dbd2",
   "metadata": {
    "deletable": true,
    "editable": true
   },
   "source": [
    "Recuerda el segundo intervalo de confianza de bootstrap que creaste, el cual estimaba la ventaja de Los Frijolitos sobre Don Frijolón, Sabor a Frijol y El Fogón del Frijol combinados. Entre los votantes en la muestra, la ventaja de Los Frijolitos era del 6%. El intervalo de confianza del 95% de nuestro calculo para la ventaja verdadera (en la población de todos los votantes) fue:\n",
    "\n",
    "$$[1.2, 11.2]$$\n",
    "\n",
    "Supongamos que estamos interesados en probar una pregunta sencilla de sí o no:\n",
    "\n",
    "> \"¿Es el porcentaje de votos para Los frijolitos  igual al porcentaje de votos para don Frijolon, Sabor a Frijol y El Fogón del Frijol combinados?\"\n",
    "\n",
    "Nuestra hipótesis nula es: que los porcentajes son iguales, o equivalentemente, que la ventaja de Los frijolitos es exactamente 0. \n",
    "\n",
    "Nuestra hipótesis alternativa es: que la ventaja de los frijolitos no es igual a 0. \n",
    "\n",
    "En las preguntas siguientes, no calcules ningún intervalo de confianza por tu cuenta; usa solo el intervalo de confianza del 95% dados en este enunciado:"
   ]
  },
  {
   "cell_type": "markdown",
   "id": "9a02e689",
   "metadata": {
    "deletable": false,
    "editable": false
   },
   "source": [
    "**Pregunta 2.3.** En un estudio estadístico, hemos decidido utilizar un nivel de significancia del 5%, lo que significa que nuestro punto de corte para el valor p es del 5%. Con base en este nivel de significancia, ¿debemos rechazar la hipótesis nula, mantenerla o es imposible determinarlo utilizando nuestro intervalo de confianza personalizado? **(10 Puntos)**\n",
    "\n",
    "Debes asignar el valor numérico correcto a `cutoff_five_percent` según la respuesta adecuada:\n",
    "\n",
    "1. Rechazar la hipótesis nula / Los datos son congruentes con la hipótesis alternativa\n",
    "2. No rechazar la hipótesis nula / Los datos son congruentes con la hipótesis nula\n",
    "3. Es imposible determinarlo usando nuestro intervalo de confianza personalizado\n",
    "\n",
    "*Pista:* Es crucial considerar cómo se relacionan el nivel de significancia y el intervalo de confianza. Si necesitas más información, revisa [este capítulo](https://inferentialthinking.com/chapters/13/4/Using_Confidence_Intervals.html) del libro de texto."
   ]
  },
  {
   "cell_type": "code",
   "execution_count": null,
   "id": "2c93a6e5",
   "metadata": {
    "tags": []
   },
   "outputs": [],
   "source": [
    "cutoff_five_percent = \n"
   ]
  },
  {
   "cell_type": "code",
   "execution_count": null,
   "id": "a6790841",
   "metadata": {
    "deletable": false,
    "editable": false
   },
   "outputs": [],
   "source": [
    "grader.check(\"q8\")"
   ]
  },
  {
   "cell_type": "markdown",
   "id": "aa212d6f",
   "metadata": {
    "deletable": false,
    "editable": false
   },
   "source": [
    "**Pregunta 2.4.** En esta pregunta, estamos explorando el impacto de cambiar el nivel de significancia en un análisis estadístico. Específicamente, vamos a considerar qué ocurre si ajustamos nuestro valor de corte (nivel de significancia) al 1%. Con un nivel de significancia más estricto, el criterio para rechazar la hipótesis nula se vuelve más riguroso. ¿Qué implica esto en términos de nuestro análisis de hipótesis? ¿Podemos aún rechazar la hipótesis nula, o los datos ahora sugieren que no deberíamos hacerlo? Analiza esto utilizando el intervalo de confianza que hemos calculado según nuestro criterio. **(10 Puntos)**\n",
    "\n",
    "Asigna `cutoff_one_percent` al número correspondiente a la respuesta correcta.\n",
    "\n",
    "1. Rechazar la hipótesis nula / Los datos son consistentes con la hipótesis alternativa\n",
    "2. No rechazar la hipótesis nula / Los datos son consistentes con la hipótesis nula\n",
    "3. No podemos determinarlo usando nuestro intervalo de confianza del personal\n"
   ]
  },
  {
   "cell_type": "code",
   "execution_count": null,
   "id": "bd1d4a23",
   "metadata": {
    "deletable": true,
    "editable": true,
    "tags": []
   },
   "outputs": [],
   "source": [
    "cutoff_one_percent =\n"
   ]
  },
  {
   "cell_type": "code",
   "execution_count": null,
   "id": "1b8559c7",
   "metadata": {
    "deletable": false,
    "editable": false
   },
   "outputs": [],
   "source": [
    "grader.check(\"q9\")"
   ]
  },
  {
   "cell_type": "markdown",
   "id": "7689ffe7",
   "metadata": {
    "deletable": false,
    "editable": false
   },
   "source": [
    "**Pregunta 2.5.** Imagina que decides utilizar un nivel de significancia del 10% en tu análisis estadístico. ¿Cómo afectaría esto a tu decisión respecto a la hipótesis nula? Con este nuevo nivel de significancia, ¿tu decisión sería rechazar la hipótesis nula, no rechazarla, o es que el intervalo de confianza no nos permite llegar a una conclusión definida? **(10 Puntos)**\n",
    "\n",
    "Asigna `cutoff_ten_percent` al número que corresponde a la respuesta correcta.\n",
    "\n",
    "1. Rechazar la hipótesis nula / Los datos son consistentes con la hipótesis alternativa\n",
    "2. No rechazar la hipótesis nula / Los datos son consistentes con la hipótesis nula\n",
    "3. No se puede determinar usando nuestro intervalo de confianza"
   ]
  },
  {
   "cell_type": "code",
   "execution_count": null,
   "id": "fadd58a4",
   "metadata": {
    "tags": []
   },
   "outputs": [],
   "source": [
    "cutoff_ten_percent = \n"
   ]
  },
  {
   "cell_type": "code",
   "execution_count": null,
   "id": "ef5ab7ed",
   "metadata": {
    "deletable": false,
    "editable": false
   },
   "outputs": [],
   "source": [
    "grader.check(\"q10\")"
   ]
  },
  {
   "attachments": {},
   "cell_type": "markdown",
   "id": "424b6c79",
   "metadata": {
    "deletable": true,
    "editable": true
   },
   "source": [
    "¡Felicitaciones por completar la Laboratorio 8!\n",
    "\n",
    "¡Terminaste con el laboratorio!\n",
    "\n",
    "**Información importante sobre el envío:**\n",
    "- **Ejecuta todas las pruebas** y verifica que todas pasan\n",
    "- **Guardar** desde el menú **Archivo**\n",
    "- **Ejecute la celda final **\n",
    "- Luego, ve a este [enlace](https://cienciadatosudea.github.io/001_SitioWebFundCienciaDatos/04entregas.html) y envía el archivo ipynb a la tarea correspondiente. El nombre de esta tarea es \"Lab XX Autograder\", donde XX es el número de laboratorio: 01, 02, 03, etc.\n",
    "\n",
    "- Si terminas temprano en el laboratorio regular, **registra tu asistencia con el instructor**.\n",
    "\n",
    "**Es su responsabilidad asegurarse de que su trabajo esté guardado antes de ejecutar la última celda.**\n",
    "\n",
    "`Referencia`: Este material esta basado en [Data 8: The Foundations of Data Science](https://www.data8.org/) - University of California, Berkeley.\n"
   ]
  },
  {
   "attachments": {},
   "cell_type": "markdown",
   "id": "aea21385",
   "metadata": {
    "deletable": true,
    "editable": true
   },
   "source": [
    "## Mascotas de Data 8\n",
    "\n",
    "**Tigrillo** te felicita por haber terminado la Tarea 8. ¡Solo te quedan 3 tareas más para completar el curso exitosamente! \n",
    "\n",
    "<img src=\"./Tigrillo.jpg\" width=\"30%\" alt=\"Imagen en primer plano de un perro sonriendo, sentado en el césped.\"/>\n",
    "\n",
    "Mascota de la semana: **Chipper**"
   ]
  },
  {
   "cell_type": "markdown",
   "id": "9a0e5216",
   "metadata": {
    "deletable": true,
    "editable": true
   },
   "source": [
    "## Entrega\n",
    "\n",
    "Antes de continuar con el siguiente paso, asegúrate de haber ejecutado todas las celdas de tu cuaderno en el orden adecuado para garantizar que todas las imágenes y gráficos se muestren correctamente en la salida final. La celda a continuación generará un archivo zip que deberás enviar. **¡Por favor, guarda todos los cambios antes de exportar el archivo!**"
   ]
  },
  {
   "cell_type": "code",
   "execution_count": null,
   "id": "4d3ed51b-8a4f-4710-907d-7c541230af7a",
   "metadata": {},
   "outputs": [],
   "source": []
  },
  {
   "cell_type": "markdown",
   "id": "b52fa1f3",
   "metadata": {
    "deletable": false,
    "editable": false
   },
   "source": [
    "## Submission\n",
    "\n",
    "Make sure you have run all cells in your notebook in order before running the cell below, so that all images/graphs appear in the output. The cell below will generate a zip file for you to submit. **Please save before exporting!**\n",
    "\n",
    "These are some submission instructions."
   ]
  },
  {
   "cell_type": "code",
   "execution_count": null,
   "id": "9222c003",
   "metadata": {
    "deletable": false,
    "editable": false
   },
   "outputs": [],
   "source": [
    "# Save your notebook first, then run this cell to export your submission.\n",
    "grader.export(run_tests=True)"
   ]
  },
  {
   "cell_type": "markdown",
   "id": "15c59253",
   "metadata": {},
   "source": [
    " "
   ]
  }
 ],
 "metadata": {
  "kernelspec": {
   "display_name": "Python 3 (ipykernel)",
   "language": "python",
   "name": "python3"
  },
  "language_info": {
   "codemirror_mode": {
    "name": "ipython",
    "version": 3
   },
   "file_extension": ".py",
   "mimetype": "text/x-python",
   "name": "python",
   "nbconvert_exporter": "python",
   "pygments_lexer": "ipython3",
   "version": "3.10.14"
  },
  "otter": {
   "OK_FORMAT": true,
   "assignment_name": "lab08",
   "tests": {
    "q0": {
     "name": "q0",
     "points": 1,
     "suites": [
      {
       "cases": [
        {
         "code": ">>> def test_one_resampled_percentage():\n...     votes_tbl = Table().with_columns('Votos', ['Don Frijolón', 'Los Frijolitos', 'Don Frijolón', 'Sabor a Frijol', 'El Fogón del Frijol'])\n...     results = [one_resampled_percentage(votes_tbl) for _ in range(100)]\n...     assert all((0 <= res <= 100 for res in results)), 'El porcentaje debe estar entre 0 y 100'\n...     all_don_frijolon = Table().with_columns('Votos', ['Los Frijolitos'] * 10)\n...     no_don_frijolon = Table().with_columns('Votos', ['Don Frijolon', 'Sabor a Frijol', 'El Fogón del Frijol'] * 10)\n...     assert one_resampled_percentage(no_don_frijolon) == 0, 'Debe devolver 0% cuando no hay votos para Los Frijolitos'\n...     print('Todas las pruebas pasaron exitosamente.')\n>>> test_one_resampled_percentage()\nTodas las pruebas pasaron exitosamente.\n",
         "hidden": false,
         "locked": false
        }
       ],
       "scored": true,
       "setup": "",
       "teardown": "",
       "type": "doctest"
      }
     ]
    },
    "q1": {
     "name": "q1",
     "points": 1,
     "suites": [
      {
       "cases": [
        {
         "code": ">>> z = percentages_in_resamples()\n>>> u = np.mean(z)\n>>> longitud = len(z)\n>>> assert np.isclose(u, 52.9, 0.1)\n>>> assert np.isclose(longitud, 2023, 0.1)\n",
         "hidden": false,
         "locked": false
        }
       ],
       "scored": true,
       "setup": "",
       "teardown": "",
       "type": "doctest"
      }
     ]
    },
    "q10": {
     "name": "q10",
     "points": 1,
     "suites": [
      {
       "cases": [
        {
         "code": ">>> assert cutoff_ten_percent == 2, 'Revisa el valor de cutoff_one_percent. Considera el intervalo de confianza y el p-valor.'\n",
         "hidden": false,
         "locked": false
        }
       ],
       "scored": true,
       "setup": "",
       "teardown": "",
       "type": "doctest"
      }
     ]
    },
    "q2": {
     "name": "q2",
     "points": 1,
     "suites": [
      {
       "cases": [
        {
         "code": ">>> assert np.isclose(lower_bound, 50.4, 0.3)\n>>> assert np.isclose(upper_bound, 55.5, 0.3)\n",
         "hidden": false,
         "locked": false
        }
       ],
       "scored": true,
       "setup": "",
       "teardown": "",
       "type": "doctest"
      }
     ]
    },
    "q3": {
     "name": "q3",
     "points": 1,
     "suites": [
      {
       "cases": [
        {
         "code": ">>> ventaja = one_resampled_difference()\n>>> assert np.count_nonzero(ventaja < 20)\n",
         "hidden": false,
         "locked": false
        }
       ],
       "scored": true,
       "setup": "",
       "teardown": "",
       "type": "doctest"
      }
     ]
    },
    "q4": {
     "name": "q4",
     "points": 1,
     "suites": [
      {
       "cases": [
        {
         "code": ">>> assert np.isclose(np.mean(sampled_leads), 6, 0.5)\n",
         "hidden": false,
         "locked": false
        }
       ],
       "scored": true,
       "setup": "",
       "teardown": "",
       "type": "doctest"
      }
     ]
    },
    "q5": {
     "name": "q5",
     "points": 1,
     "suites": [
      {
       "cases": [
        {
         "code": ">>> assert np.isclose(diff_lower_bound, 0.93, 0.5)\n>>> assert np.isclose(diff_upper_bound, 11.2, 0.5)\n",
         "hidden": false,
         "locked": false
        }
       ],
       "scored": true,
       "setup": "",
       "teardown": "",
       "type": "doctest"
      }
     ]
    },
    "q7": {
     "name": "q7",
     "points": 1,
     "suites": [
      {
       "cases": [
        {
         "code": ">>> assert true_percentage_intervals == 5700\n",
         "hidden": false,
         "locked": false
        }
       ],
       "scored": true,
       "setup": "",
       "teardown": "",
       "type": "doctest"
      }
     ]
    },
    "q8": {
     "name": "q8",
     "points": 1,
     "suites": [
      {
       "cases": [
        {
         "code": ">>> assert cutoff_five_percent == 1\n",
         "hidden": false,
         "locked": false
        }
       ],
       "scored": true,
       "setup": "",
       "teardown": "",
       "type": "doctest"
      }
     ]
    },
    "q9": {
     "name": "q9",
     "points": 1,
     "suites": [
      {
       "cases": [
        {
         "code": ">>> assert cutoff_one_percent == 2, 'Revisa el valor de cutoff_one_percent. Considera el intervalo de confianza y el p-valor.'\n",
         "hidden": false,
         "locked": false
        }
       ],
       "scored": true,
       "setup": "",
       "teardown": "",
       "type": "doctest"
      }
     ]
    },
    "qt": {
     "name": "qt",
     "points": 0,
     "suites": [
      {
       "cases": [
        {
         "code": ">>> assert isinstance(NombreApellidos, str)\n>>> assert isinstance(NumeroCarnet, str)\n>>> assert isinstance(Email, str)\n>>> assert len(NombreApellidos) > 3\n>>> assert len(NumeroCarnet) > 3\n>>> assert len(Email) > 3\n",
         "hidden": false,
         "locked": false
        }
       ],
       "scored": true,
       "setup": "",
       "teardown": "",
       "type": "doctest"
      }
     ]
    }
   }
  }
 },
 "nbformat": 4,
 "nbformat_minor": 5
}
