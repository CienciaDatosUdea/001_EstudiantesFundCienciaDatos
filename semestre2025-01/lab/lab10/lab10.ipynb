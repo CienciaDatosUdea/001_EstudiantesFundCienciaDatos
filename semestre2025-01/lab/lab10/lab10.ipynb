{
 "cells": [
  {
   "cell_type": "code",
   "execution_count": null,
   "id": "459cc03a",
   "metadata": {
    "deletable": false,
    "editable": false
   },
   "outputs": [],
   "source": [
    "# Initialize Otter\n",
    "import otter\n",
    "grader = otter.Notebook(\"lab10.ipynb\")"
   ]
  },
  {
   "cell_type": "markdown",
   "id": "0a9111e6",
   "metadata": {
    "deletable": true,
    "editable": true
   },
   "source": [
    "\n",
    "<p><img alt=\"Colaborat\" style=\"height: 220px;\" src=\"https://github.com/CienciaDatosUdea/001_DataSetFundCienciaDatos/blob/main/semestre2024-2/lab/lab02/Escudo-UdeA.svg.png?raw=true\" align=\"left\" hspace=\"10px\" vspace=\"0px\"></p>\n",
    "\n",
    "\n",
    "<h1> Fundamentos en ciencias de datos</h1>\n",
    "\n",
    "\n",
    "\n",
    "\n",
    "# Laboratorio 10: Regresión\n",
    "\n",
    "¡Bienvenido al Laboratorio 10!\n",
    "\n",
    "Hoy practicaremos con  con la regresión lineal. Puedes encontrar más información sobre este tema en\n",
    "[Capítulo 15.2](https://www.inferentialthinking.com/chapters/15/2/Regression_Line.html#the-regression-line).\n",
    "\n",
    "Para este laboratorio, trabajaremos con un archivo llamado `faithful.csv`, que contiene las columnas `duration` y `wait`. Utilizaremos estas columnas para aplicar técnicas de regresión lineal y analizar los datos. ¡Empecemos!\n"
   ]
  },
  {
   "cell_type": "code",
   "execution_count": null,
   "id": "129ba793",
   "metadata": {
    "deletable": true,
    "editable": true
   },
   "outputs": [],
   "source": [
    "# Run this cell, but please don't change it.\n",
    "\n",
    "# These lines import the Numpy and Datascience modules.\n",
    "import numpy as np\n",
    "from datascience import *\n",
    "\n",
    "# These lines do some fancy plotting magic.\n",
    "import matplotlib\n",
    "%matplotlib inline\n",
    "import matplotlib.pyplot as plots\n",
    "plots.style.use('fivethirtyeight')\n",
    "import warnings\n",
    "warnings.simplefilter('ignore', FutureWarning)"
   ]
  },
  {
   "attachments": {},
   "cell_type": "markdown",
   "id": "1ea02811",
   "metadata": {
    "deletable": false,
    "editable": false
   },
   "source": [
    "<!-- BEGIN QUESTION -->\n",
    "\n",
    "Ingresa tu nombre  con apellido y número de carnet en las variables dadas en la celda siguiente:\n",
    "Ejemplo:\n",
    "```python\n",
    "NombreApellidos=\"Ada Lovelace\"\n",
    "NumeroCarnet=\"27182818\"\n",
    "Email=\"Ada.Lovelace@udea.edu.co\"\n",
    "```"
   ]
  },
  {
   "cell_type": "code",
   "execution_count": null,
   "id": "37804244-8347-46e2-ad5e-1166de5c69d4",
   "metadata": {
    "tags": []
   },
   "outputs": [],
   "source": [
    "NombreApellidos=\"...\"\n",
    "NumeroCarnet=\"..\"\n",
    "Email=\"...\""
   ]
  },
  {
   "cell_type": "code",
   "execution_count": null,
   "id": "1b9bc8b6",
   "metadata": {
    "deletable": false,
    "editable": false
   },
   "outputs": [],
   "source": [
    "grader.check(\"qt\")"
   ]
  },
  {
   "cell_type": "markdown",
   "id": "98cb938c",
   "metadata": {
    "deletable": false,
    "editable": false
   },
   "source": [
    "<!-- END QUESTION -->\n",
    "\n",
    "# ¿Qué tan predecible es Old Faithful?\n",
    "\n",
    "Old Faithful es un [géiser](https://es.wikipedia.org/wiki/G%C3%A9iser) en el Parque Nacional Yellowstone, famoso por sus erupciones relativamente regulares.  \n",
    "¡Ejecuta la celda a continuación para ver a Old Faithful en acción!"
   ]
  },
  {
   "cell_type": "code",
   "execution_count": null,
   "id": "5cc8c2be",
   "metadata": {
    "deletable": true,
    "editable": true
   },
   "outputs": [],
   "source": [
    "# For the curious: this is how to display a YouTube video in a\n",
    "# Jupyter notebook.  The argument to YouTubeVideo is the part\n",
    "# of the URL (called a \"query parameter\") that identifies the\n",
    "# video.  For example, the full URL for this video is:\n",
    "#   https://www.youtube.com/watch?v=wE8NDuzt8eg\n",
    "from IPython.display import YouTubeVideo\n",
    "YouTubeVideo(\"wE8NDuzt8eg\")"
   ]
  },
  {
   "cell_type": "markdown",
   "id": "739b2a53",
   "metadata": {
    "deletable": true,
    "editable": true
   },
   "source": [
    "Algunas de las erupciones del géiser Old Faithful duran más que otras. Cuando hay una erupción prolongada, generalmente es seguida por un tiempo de espera aún más largo antes de la siguiente erupción. \n",
    "\n",
    "Hoy utilizaremos un conjunto de datos sobre la duración de las erupciones y los tiempos de espera para ver si podemos hacer tales predicciones con precisión mediante regresión lineal.\n",
    "\n",
    "El conjunto de datos cuenta con una fila para cada erupción observada e incluye las siguientes columnas:\n",
    "- `duration`: Duración de la erupción, en minutos\n",
    "- `wait`: Tiempo entre esta erupción y la siguiente, también en minutos\n",
    "\n",
    "Ejecuta la siguiente celda para cargar el conjunto de datos."
   ]
  },
  {
   "cell_type": "code",
   "execution_count": null,
   "id": "1ed16595",
   "metadata": {
    "deletable": true,
    "editable": true
   },
   "outputs": [],
   "source": [
    "faithful = Table.read_table(\"faithful.csv\")\n",
    "faithful"
   ]
  },
  {
   "cell_type": "markdown",
   "id": "24b495f7",
   "metadata": {
    "deletable": false,
    "editable": false
   },
   "source": [
    "**Pregunta 1.0.** Las siguientes afirmaciones son los pasos desordenados de una regresión lineal.\n",
    "\n",
    "1. Calcular los parámetros de la línea de regresión: la pendiente y la intersección.\n",
    "2. Evaluar la línea de regresión calculando el RMSE de la línea y analizando el gráfico de residuos.\n",
    "3. Usar la línea de regresión para generar predicciones para cada valor de x.\n",
    "4. Determinar si la regresión lineal es un método razonable visualizando tus datos y calculando el coeficiente de correlación.\n",
    "\n",
    "Crea un arreglo llamado `least_squares_order` que contenga el orden correcto de un análisis de regresión lineal, donde el primer elemento del arreglo sea el primer paso de un análisis de regresión lineal y el último elemento del arreglo sea el último paso de un análisis de regresión lineal.\n",
    "\n"
   ]
  },
  {
   "cell_type": "code",
   "execution_count": null,
   "id": "037e4c20",
   "metadata": {
    "deletable": true,
    "editable": true,
    "tags": []
   },
   "outputs": [],
   "source": [
    "least_squares_order = make_array(....)"
   ]
  },
  {
   "cell_type": "code",
   "execution_count": null,
   "id": "1e457930",
   "metadata": {
    "deletable": false,
    "editable": false
   },
   "outputs": [],
   "source": [
    "grader.check(\"q0\")"
   ]
  },
  {
   "cell_type": "markdown",
   "id": "09b58426",
   "metadata": {
    "deletable": true,
    "editable": true
   },
   "source": [
    "Nos gustaría utilizar la regresión lineal para realizar predicciones. Sin embargo, este método no será eficaz si los datos no presentan una relación aproximadamente lineal. Para verificar esto, debemos examinar los datos en detalle. Es fundamental explorar estos datos para entender cómo se relacionan entre sí antes de proceder con cualquier modelo de regresión lineal."
   ]
  },
  {
   "cell_type": "markdown",
   "id": "8e9186d5",
   "metadata": {
    "deletable": false,
    "editable": false
   },
   "source": [
    "**Pregunta 1.1.** Realiza un diagrama de dispersión (scatter plot) de los datos. Es convencional colocar en el eje vertical la columna que deseamos predecir y en el eje horizontal la otra columna. "
   ]
  },
  {
   "cell_type": "code",
   "execution_count": null,
   "id": "6aaa3054",
   "metadata": {
    "tags": []
   },
   "outputs": [],
   "source": [
    "faithful = Table.read_table('faithful.csv')\n",
    "faithful.scatter('...', '....')\n",
    "plots.title('....')\n",
    "plots.xlabel('...')\n",
    "plots.ylabel('...')\n",
    "plots.show()"
   ]
  },
  {
   "cell_type": "markdown",
   "id": "f03c5fee",
   "metadata": {
    "deletable": false,
    "editable": false
   },
   "source": [
    "**Pregunta 1.2.** ¿Están aproximadamente relacionadas de manera lineal la duración de la erupción y el tiempo de espera según el diagrama de dispersión anterior? ¿Es esta relación positiva?\n",
    "\n",
    "Analiza el diagrama de dispersión proporcionado para evaluar si existe una tendencia lineal entre estas dos variables y si dicha relación puede considerarse positiva."
   ]
  },
  {
   "cell_type": "markdown",
   "id": "3733cffb",
   "metadata": {
    "deletable": true,
    "editable": true
   },
   "source": [
    "_Escribe tu respuesta aquí, reemplazando este texto._"
   ]
  },
  {
   "cell_type": "markdown",
   "id": "460884d9",
   "metadata": {
    "deletable": true,
    "editable": true
   },
   "source": [
    "Vamos a continuar con la suposición de que existe una relación lineal entre las variables, por lo que es razonable utilizar la regresión lineal para analizar estos datos.\n",
    "\n",
    "A continuación, nos gustaría graficar los datos en unidades estándar. Si no recuerdas la definición de unidades estándar, la sección [14.2](https://www.inferentialthinking.com/chapters/14/2/Variability.html#standard-units) del libro de texto puede ser de ayuda."
   ]
  },
  {
   "cell_type": "markdown",
   "id": "7df2f728",
   "metadata": {
    "deletable": false,
    "editable": false
   },
   "source": [
    "**Pregunta 1.3.** Calcula la media y la desviación estándar de las duraciones de las erupciones y los tiempos de espera. **Luego**, crea una tabla llamada `faithful_standard` que contenga las duraciones de las erupciones y los tiempos de espera en unidades estándar. Las columnas deben llamarse `duration_standard_units` and `wait_standard_units`.\n"
   ]
  },
  {
   "cell_type": "code",
   "execution_count": null,
   "id": "458d6dbe",
   "metadata": {
    "tags": []
   },
   "outputs": [],
   "source": [
    "duration_mean = ...\n",
    "duration_std = ...\n",
    "wait_mean = ...\n",
    "wait_std = ...\n",
    "\n",
    "faithful_standard = Table().with_columns(\n",
    "    \"duration_standard_units\", ...,\n",
    "    \"wait_standard_units\", ...)\n",
    "faithful_standard"
   ]
  },
  {
   "cell_type": "code",
   "execution_count": null,
   "id": "8571fe04",
   "metadata": {
    "deletable": false,
    "editable": false
   },
   "outputs": [],
   "source": [
    "grader.check(\"q3\")"
   ]
  },
  {
   "cell_type": "markdown",
   "id": "a41727c6",
   "metadata": {
    "deletable": false,
    "editable": false
   },
   "source": [
    "**Pregunta 1.4.** Grafica los datos nuevamente, pero esta vez en unidades estándar. Estamos analizando los datos del archivo `faithful.csv`, que contiene información sobre la duración (duration) y el tiempo de espera (wait) de las erupciones del géiser Old Faithful. Es importante transformar los datos a unidades estándar para tener una perspectiva unificada y facilitar el análisis comparativo."
   ]
  },
  {
   "cell_type": "code",
   "execution_count": null,
   "id": "461fef6f",
   "metadata": {
    "tags": []
   },
   "outputs": [],
   "source": [
    "faithful_standard.scatter('....', '....')\n",
    "plots.title('Pon el nombre adecuado ...')\n",
    "plots.xlabel('Pon el nombre adecuado ...')\n",
    "plots.ylabel('Pon el nombre adecuado ...')\n",
    "plots.show()"
   ]
  },
  {
   "cell_type": "markdown",
   "id": "3402a095",
   "metadata": {
    "deletable": true,
    "editable": true
   },
   "source": [
    "Podrás notar que este gráfico luce igual que el anterior. Sin embargo, los datos y los ejes están escalados de manera diferente. Por lo tanto, es importante que prestes atención a las marcas en los ejes."
   ]
  },
  {
   "cell_type": "markdown",
   "id": "d96c4156",
   "metadata": {
    "deletable": false,
    "editable": false
   },
   "source": [
    "**Pregunta 1.5.** Entre los siguientes números, ¿cuál crees que se aproxima más a la correlación entre la duración de la erupción y el tiempo de espera en este conjunto de datos?\n",
    "\n",
    "1. -1\n",
    "2. 0\n",
    "3. 1\n",
    "\n",
    "Asigna a `correlation` el número que corresponde a tu estimación (ya sea 1, 2 o 3). "
   ]
  },
  {
   "cell_type": "code",
   "execution_count": null,
   "id": "40678d9a",
   "metadata": {
    "tags": []
   },
   "outputs": [],
   "source": [
    "correlation = ...\n"
   ]
  },
  {
   "cell_type": "code",
   "execution_count": null,
   "id": "b6021dbf",
   "metadata": {
    "deletable": false,
    "editable": false
   },
   "outputs": [],
   "source": [
    "grader.check(\"q5\")"
   ]
  },
  {
   "cell_type": "markdown",
   "id": "356fd6a7",
   "metadata": {
    "deletable": false,
    "editable": false
   },
   "source": [
    "**Pregunta 1.6.** Calcula el coeficiente de correlación: `r`. \n",
    "\n",
    "\n",
    "\n",
    "*Pista:* Utiliza `faithful_standard`. La sección [15.1](https://www.inferentialthinking.com/chapters/15/1/Correlation.html#calculating-r) explica cómo hacerlo.\n",
    "\n"
   ]
  },
  {
   "cell_type": "code",
   "execution_count": null,
   "id": "93182e0d",
   "metadata": {
    "tags": []
   },
   "outputs": [],
   "source": [
    "r = ...\n"
   ]
  },
  {
   "cell_type": "code",
   "execution_count": null,
   "id": "adfd92d9",
   "metadata": {
    "deletable": false,
    "editable": false
   },
   "outputs": [],
   "source": [
    "grader.check(\"q6\")"
   ]
  },
  {
   "cell_type": "markdown",
   "id": "ada1955d",
   "metadata": {
    "deletable": true,
    "editable": true
   },
   "source": [
    "## 2. La  regresión lineal \n",
    "\n",
    "Recordemos que la **correlación** es la **pendiente de la línea de regresión cuando los datos están en unidades estándar**.\n",
    "\n",
    "La siguiente celda grafica la línea de regresión en unidades estándar:\n",
    "\n",
    "$$\\text{tiempo de espera en unidades estándar} = r \\times \\text{duración de la erupción en unidades estándar}$$\n",
    "\n",
    "Con nuestras variables sería:\n",
    "\n",
    "$$ \\text{duration\\_standard\\_units} = r \\times \\text{wait\\_standard\\_units} $$\n",
    "\n",
    "A continuación, se grafica nuevamente los datos en unidades estándar para su comparación.\n"
   ]
  },
  {
   "cell_type": "code",
   "execution_count": null,
   "id": "a1c8df94",
   "metadata": {
    "deletable": true,
    "editable": true
   },
   "outputs": [],
   "source": [
    "def plot_data_and_line(dataset, x, y, point_0, point_1):\n",
    "    \"\"\"Makes a scatter plot of the dataset, along with a line passing through two points.\"\"\"\n",
    "    dataset.scatter(x, y, label=\"data\")\n",
    "    xs, ys = zip(point_0, point_1)\n",
    "    plots.plot(xs, ys, label=\"regression line\")\n",
    "    plots.legend(bbox_to_anchor=(1.5,.8))\n",
    "\n",
    "plot_data_and_line(faithful_standard, \n",
    "                   \"duration_standard_units\", \n",
    "                   \"wait_standard_units\", \n",
    "                   [-2, -2*r], \n",
    "                   [2, 2*r])"
   ]
  },
  {
   "cell_type": "markdown",
   "id": "c120a1d2",
   "metadata": {
    "deletable": false,
    "editable": false
   },
   "source": [
    "¿Cómo convertirías un punto en unidades estándar de nuevo a sus unidades originales? Necesitaríamos \"estirar\" su posición horizontal multiplicando por `duration_std` y su posición vertical multiplicando por `wait_std`. Esto significa que lo mismo ocurriría con la pendiente de la línea.\n",
    "\n",
    "Estirar una línea horizontalmente la hace menos inclinada, por lo que dividimos la pendiente entre el factor de estiramiento horizontal. Estirar una línea verticalmente la hace más inclinada, por lo que multiplicamos la pendiente por el factor de estiramiento vertical.\n",
    "\n",
    "**Pregunta 2.1.** Calcula la pendiente de la línea de regresión en unidades originales y asígnala a la variable `slope`.\n",
    "\n",
    "(Si la explicación sobre el \"estiramiento\" no es intuitiva, consulta la sección [15.2](https://www.inferentialthinking.com/chapters/15/2/Regression_Line.html#the-equation-of-the-regression-line) en el libro de texto.)\n"
   ]
  },
  {
   "cell_type": "code",
   "execution_count": null,
   "id": "ba66aafa",
   "metadata": {
    "tags": []
   },
   "outputs": [],
   "source": [
    "\n",
    "slope = ...\n",
    "slope"
   ]
  },
  {
   "cell_type": "code",
   "execution_count": null,
   "id": "5659a195",
   "metadata": {
    "deletable": false,
    "editable": false
   },
   "outputs": [],
   "source": [
    "grader.check(\"q7\")"
   ]
  },
  {
   "cell_type": "markdown",
   "id": "c34026fe-f4b8-4e12-b6bb-93e78ce6cef0",
   "metadata": {},
   "source": [
    "Sabemos que la línea de regresión pasa por el punto `(duration_mean, wait_mean)`. Recordemos que la ecuación de la línea de regresión en las unidades originales es:\n",
    "\n",
    "$$ (y-\\mu_{y}) = r \\frac{\\sigma_{y}}{\\sigma_{x}} (x-\\mu_{x})$$\n",
    "\n",
    "donde: \n",
    "\n",
    "- y es el tiempo de espera en las unidades  **no** estandar\n",
    "\n",
    "- x es la duracion en unidades escaladas **no** estandar \n",
    "\n",
    "- $\\mu_y$ es la media de y (duration_mean).\n",
    "\n",
    "- $\\sigma_{y}$ es la desviacion estandar de y (duration_std).\n",
    "\n",
    "- $\\mu_x$ es la media de x (wait_mean).\n",
    "\n",
    "- $\\sigma_{x}$ es la desviacion estandar de x (wait_std).\n",
    "    \n",
    "es decir, que el intercepto puede ser computado como:\n",
    "\n",
    "$$ y = r \\frac{\\sigma_{y}}{\\sigma_{x}} \\mu_{x}+\\mu_{y}$$\n",
    "\n",
    "\n",
    "$$ \\text{tiempo de espera} = \\text{pendiente} \\cdot \\text{duración de erupción}  + \\text{pendiente} \\cdot \\text{promedio de duración} +\\text{promedio de espera} $$\n"
   ]
  },
  {
   "cell_type": "markdown",
   "id": "2fd95b20",
   "metadata": {
    "deletable": false,
    "editable": false
   },
   "source": [
    "**Pregunta 2.2.** Calcula el término de intersección en unidades originales y asígnalo a `intercept`. La [Sección 15.2.5](https://inferentialthinking.com/chapters/15/2/Regression_Line.html#the-equation-of-the-regression-line) puede ser útil.\n",
    "\n"
   ]
  },
  {
   "cell_type": "code",
   "execution_count": null,
   "id": "aca57bc5",
   "metadata": {
    "tags": []
   },
   "outputs": [],
   "source": [
    "intercept= ..."
   ]
  },
  {
   "cell_type": "code",
   "execution_count": null,
   "id": "8de71c1a",
   "metadata": {
    "deletable": false,
    "editable": false
   },
   "outputs": [],
   "source": [
    "grader.check(\"q8\")"
   ]
  },
  {
   "cell_type": "markdown",
   "id": "93c4bf7d",
   "metadata": {
    "deletable": false,
    "editable": false
   },
   "source": [
    "## 3. Investigando la línea de regresión\n",
    "\n",
    "La pendiente y la intersección de la línea de regresión definen su forma. Para predecir el tiempo de espera de una erupción, multiplica la duración de la erupción por `pendiente` y luego suma `intersección`.\n",
    "\n",
    "**Pregunta 3.1.** Calcula el tiempo de espera previsto para una erupción que dura 2 minutos y para una erupción que dura 5 minutos.\n",
    "\n"
   ]
  },
  {
   "cell_type": "code",
   "execution_count": null,
   "id": "ad15f662",
   "metadata": {
    "tags": []
   },
   "outputs": [],
   "source": [
    "two_minute_predicted_waiting_time = ...\n",
    "five_minute_predicted_waiting_time = ...\n",
    "\n",
    "def print_prediction(duration, predicted_waiting_time):\n",
    "    print(\"After an eruption lasting\", duration,\n",
    "          \"minutes, we predict you'll wait\", predicted_waiting_time,\n",
    "          \"minutes until the next eruption.\")\n",
    "\n",
    "print_prediction(2, two_minute_predicted_waiting_time)\n",
    "print_prediction(5, five_minute_predicted_waiting_time)\n"
   ]
  },
  {
   "cell_type": "code",
   "execution_count": null,
   "id": "de67dfbf",
   "metadata": {
    "deletable": false,
    "editable": false
   },
   "outputs": [],
   "source": [
    "grader.check(\"q9\")"
   ]
  },
  {
   "cell_type": "markdown",
   "id": "8267f23d",
   "metadata": {
    "deletable": true,
    "editable": true
   },
   "source": [
    "La siguiente celda traza la línea que conecta esos dos puntos, lo cual representa un segmento de la línea de regresión. Esta línea sirve para modelar la relación entre la duración de las erupciones y el tiempo de espera en el archivo `faithful.csv`, que contiene las columnas `duration` y `wait`."
   ]
  },
  {
   "cell_type": "code",
   "execution_count": null,
   "id": "aa2be300",
   "metadata": {
    "deletable": true,
    "editable": true,
    "scrolled": true
   },
   "outputs": [],
   "source": [
    "plot_data_and_line(faithful, \"duration\", \"wait\", \n",
    "                   [2, two_minute_predicted_waiting_time], \n",
    "                   [5, five_minute_predicted_waiting_time])"
   ]
  },
  {
   "cell_type": "markdown",
   "id": "c6c48160",
   "metadata": {
    "deletable": false,
    "editable": false
   },
   "source": [
    "**Pregunta 3.2.** Realiza predicciones sobre el tiempo de espera después de cada erupción en la tabla `faithful`. (Por supuesto, ya conocemos exactamente cuáles son los tiempos de espera. Hacemos esto para ver qué tan precisas son nuestras predicciones). Coloca estos números en una columna de una nueva tabla llamada `faithful_predictions`. La primera fila debería verse así:\n",
    "\n",
    "|duración|espera|espera pronosticada|\n",
    "|-|-|-|\n",
    "|3.6|79|72.1011|\n",
    "\n",
    "*Sugerencia:* Tu respuesta puede consistir en solo una línea, aunque no estás limitado a una sola línea. No es necesario utilizar un bucle `for`; emplea aritmética de arreglos en su lugar."
   ]
  },
  {
   "cell_type": "code",
   "execution_count": null,
   "id": "527f7f94",
   "metadata": {
    "tags": []
   },
   "outputs": [],
   "source": [
    "faithful_predictions = ...\n"
   ]
  },
  {
   "cell_type": "code",
   "execution_count": null,
   "id": "97bf7446-f455-414f-b20a-138228d9fc39",
   "metadata": {
    "tags": []
   },
   "outputs": [],
   "source": [
    "np.mean(y)"
   ]
  },
  {
   "cell_type": "code",
   "execution_count": null,
   "id": "3330729a",
   "metadata": {
    "deletable": false,
    "editable": false
   },
   "outputs": [],
   "source": [
    "grader.check(\"q10\")"
   ]
  },
  {
   "cell_type": "markdown",
   "id": "b1fe2e2d",
   "metadata": {
    "deletable": false,
    "editable": false
   },
   "source": [
    "**Pregunta 3.3.** ¿Qué tan cerca estuvimos? Calcula el *residuo* para cada erupción en el conjunto de datos. El residuo es el tiempo de espera real menos el tiempo de espera predicho. Añade los residuos a `faithful_predictions` como una nueva columna llamada `residual` y nombra la tabla resultante `faithful_residuals`.\n",
    "\n",
    "Como se menciona en el [Capítulo 15.6](https://inferentialthinking.com/chapters/15/6/Numerical_Diagnostics.html?highlight=residuals#average-of-residuals), una propiedad útil de los residuos producidos por la regresión lineal con un intercepto es que la suma de los residuos siempre será cero. Siempre puedes verificar esto para asegurarte de que has calculado correctamente tus residuos. Nota que puede estar ligeramente desviado de cero debido a errores de redondeo.\n",
    "\n",
    "¡Siéntete libre de copiar y pegar esta línea de código para verificar tu trabajo! Ten en cuenta que la respuesta puede ser *muy ligeramente* diferente de cero debido a errores de redondeo en Python.\n",
    "\n",
    "```python\n",
    "sum(faithful_residuals.column('residual'))\n",
    "```\n",
    "\n",
    "*Pista:* Nuevamente, tu código será mucho más simple si no utilizas un bucle `for`."
   ]
  },
  {
   "cell_type": "code",
   "execution_count": null,
   "id": "01fe59b7-0838-4455-85d7-23f3226879b1",
   "metadata": {
    "deletable": false,
    "editable": false
   },
   "outputs": [],
   "source": [
    "faithful_predictions"
   ]
  },
  {
   "cell_type": "code",
   "execution_count": null,
   "id": "5625f550",
   "metadata": {
    "tags": []
   },
   "outputs": [],
   "source": [
    "residuals = ...\n",
    "faithful_residuals = ...\n",
    "faithful_residuals"
   ]
  },
  {
   "cell_type": "code",
   "execution_count": null,
   "id": "721d5afa",
   "metadata": {
    "deletable": false,
    "editable": false
   },
   "outputs": [],
   "source": [
    "grader.check(\"q11\")"
   ]
  },
  {
   "cell_type": "markdown",
   "id": "892268a1",
   "metadata": {
    "deletable": true,
    "editable": true
   },
   "source": [
    "Aquí tienes un gráfico de los residuos que calculaste. Cada punto representa una erupción del géiser Old Faithful. El gráfico muestra cuánto nuestra predicción sobrestimó o subestimó el tiempo de espera. "
   ]
  },
  {
   "cell_type": "code",
   "execution_count": null,
   "id": "acfc22f6",
   "metadata": {
    "deletable": true,
    "editable": true
   },
   "outputs": [],
   "source": [
    "faithful_residuals.scatter(\"duration\", \"residual\", color=\"r\")"
   ]
  },
  {
   "cell_type": "markdown",
   "id": "92f599ea",
   "metadata": {
    "deletable": true,
    "editable": true
   },
   "source": [
    "No hay realmente un patrón en los residuos, lo cual confirma que fue razonable intentar una regresión lineal. Es cierto que hay dos grupos separados; las duraciones de las erupciones parecen dividirse en dos grupos distintos. Sin embargo, eso es solo un patrón en las duraciones de las erupciones, no un patrón en la relación entre las duraciones de las erupciones y los tiempos de espera."
   ]
  },
  {
   "cell_type": "markdown",
   "id": "da982569",
   "metadata": {
    "deletable": true,
    "editable": true
   },
   "source": [
    "## 4. ¿Qué tan precisas son diferentes predicciones?\n",
    "\n",
    "Anteriormente, deberías haber encontrado que la correlación es bastante cercana a 1, lo que indica que la línea se ajusta bastante bien a los datos de entrenamiento. Esto significa que, en general, los residuos son pequeños (cercanos a 0) en comparación con los tiempos de espera.\n",
    "\n",
    "Podemos observar esto visualmente al graficar los tiempos de espera y los residuos juntos:\n",
    "\n"
   ]
  },
  {
   "cell_type": "code",
   "execution_count": null,
   "id": "2de66b56",
   "metadata": {
    "deletable": true,
    "editable": true
   },
   "outputs": [],
   "source": [
    "# Just run this cell.\n",
    "faithful_residuals.scatter(\"duration\", \"wait\", label=\"actual waiting time\", color=\"blue\")\n",
    "plots.scatter(faithful_residuals.column(\"duration\"), faithful_residuals.column(\"residual\"), label=\"residual\", color=\"r\")\n",
    "plots.plot([2, 5], [two_minute_predicted_waiting_time, five_minute_predicted_waiting_time], label=\"regression line\")\n",
    "plots.legend(bbox_to_anchor=(1.7,.8));"
   ]
  },
  {
   "cell_type": "markdown",
   "id": "2e5be15b",
   "metadata": {
    "deletable": true,
    "editable": true
   },
   "source": [
    "A menos que tengas una razón convincente para creer que el modelo de regresión lineal es preciso, debes tener cuidado al aplicar tu modelo de predicción a datos que son muy diferentes de los datos de entrenamiento."
   ]
  },
  {
   "cell_type": "markdown",
   "id": "1ea4294f",
   "metadata": {
    "deletable": false,
    "editable": false
   },
   "source": [
    "**Pregunta 4.1.** En el conjunto de datos `faithful`, no hay erupciones que duren exactamente 0, 2.5 o 60 minutos. Basado en esta información, ¿cuál sería el tiempo de espera predicho para una erupción que dure 0 minutos? ¿Y para una que dure 2.5 minutos? ¿Y para una hora?\n",
    "\n"
   ]
  },
  {
   "cell_type": "code",
   "execution_count": null,
   "id": "70cca79f",
   "metadata": {
    "tags": []
   },
   "outputs": [],
   "source": [
    "zero_minute_predicted_waiting_time = ...\n",
    "two_point_five_minute_predicted_waiting_time = ...\n",
    "hour_predicted_waiting_time = ...\n",
    "\n",
    "print_prediction(0, zero_minute_predicted_waiting_time)\n",
    "print_prediction(2.5, two_point_five_minute_predicted_waiting_time)\n",
    "print_prediction(60, hour_predicted_waiting_time)\n"
   ]
  },
  {
   "cell_type": "code",
   "execution_count": null,
   "id": "ebdd0b2e",
   "metadata": {
    "deletable": false,
    "editable": false
   },
   "outputs": [],
   "source": [
    "grader.check(\"q12\")"
   ]
  },
  {
   "cell_type": "markdown",
   "id": "cce3da70",
   "metadata": {
    "deletable": false,
    "editable": false
   },
   "source": [
    "**Pregunta 4.2.** Para cada predicción, indica si consideras que es confiable y explica tu razonamiento.\n",
    "\n",
    "Basado en los resultados de la predicción, analiza la consistencia y validez de cada estimación. Considera aspectos como el ajuste del modelo, la variabilidad de los datos y otros factores que puedan influir en la precisión de las predicciones."
   ]
  },
  {
   "cell_type": "markdown",
   "id": "d1253357",
   "metadata": {
    "deletable": true,
    "editable": true
   },
   "source": [
    "_Escribe tu respuesta aquí, reemplazando este texto._\n"
   ]
  },
  {
   "cell_type": "markdown",
   "id": "bf02823c",
   "metadata": {
    "deletable": true,
    "editable": true
   },
   "source": [
    "## 5. Divide y vencerás  \n",
    "\n",
    "En esta sección, exploraremos la estrategia de \"divide y vencerás\". \n",
    "\n",
    "El objetivo es comprender cómo resolver problemas complejos dividiéndolos en partes más manejables y luego combinando sus resultados. Este enfoque es particularmente útil en regresión lineal, ya que nos permite desglosar los datos para obtener predicciones más precisas.  \n"
   ]
  },
  {
   "cell_type": "markdown",
   "id": "3ca12295",
   "metadata": {
    "deletable": true,
    "editable": true
   },
   "source": [
    "El diagrama de dispersión a continuación muestra la relación entre la duración de las erupciones en el eje x y el tiempo de espera hasta la siguiente erupción en el eje y. \n",
    "\n",
    "Del diagrama de dispersión parece que hay dos grupos de puntos: uno para duraciones alrededor de 2 minutos y otro para duraciones entre 3.5 y 5 minutos. Una línea vertical en 3 minutos divide estos dos grupos. \n",
    "\n"
   ]
  },
  {
   "cell_type": "code",
   "execution_count": null,
   "id": "ddc375dc",
   "metadata": {
    "deletable": true,
    "editable": true,
    "scrolled": true
   },
   "outputs": [],
   "source": [
    "faithful.scatter(\"duration\", \"wait\", label=\"actual waiting time\", color=\"blue\")\n",
    "plots.plot([3, 3], [40, 100]);"
   ]
  },
  {
   "cell_type": "markdown",
   "id": "c9f2fbf4",
   "metadata": {
    "deletable": true,
    "editable": true
   },
   "source": [
    "La función `standardize`, presentada en clase, se muestra a continuación. Esta función recibe una tabla con columnas numéricas y devuelve la misma tabla, pero con cada columna transformada a su versión estandarizada.  \n"
   ]
  },
  {
   "cell_type": "code",
   "execution_count": null,
   "id": "8222b6e2",
   "metadata": {
    "deletable": true,
    "editable": true
   },
   "outputs": [],
   "source": [
    "# Just run this cell.\n",
    "\n",
    "def standard_units(any_numbers):\n",
    "    \"Convert any array of numbers to standard units.\"\n",
    "    return (any_numbers - np.mean(any_numbers)) / np.std(any_numbers)  \n",
    "\n",
    "def standardize(table):\n",
    "    \"\"\"Return a table in which all columns of t are converted to standard units.\"\"\"\n",
    "    t_su = Table()\n",
    "    for label in table.labels:\n",
    "        t_su = t_su.with_column(label + '_su', standard_units(table.column(label)))\n",
    "    return t_su"
   ]
  },
  {
   "cell_type": "markdown",
   "id": "bf6bff20",
   "metadata": {
    "deletable": false,
    "editable": false
   },
   "source": [
    "**Pregunta 5.1.** Calcula por separado el coeficiente de correlación *r* para todos los puntos con una duración inferior a 3 **y luego** para todos los puntos con una duración superior a 3. Para ello, crea una función que calcule `r` a partir de una tabla y luego pásale dos tablas diferentes de puntos, llamadas `below_3` y `above_3`.\n",
    "\n",
    "*Sugerencia:* Puedes asumir que la tabla no tiene valores de duración exactamente de 3. "
   ]
  },
  {
   "cell_type": "code",
   "execution_count": null,
   "id": "bf05998d-71be-4683-a26c-bcde336db25b",
   "metadata": {
    "tags": []
   },
   "outputs": [],
   "source": [
    "faithful = Table.read_table('faithful.csv')\n",
    "t_su = standardize(faithful)\n",
    "t_su"
   ]
  },
  {
   "cell_type": "code",
   "execution_count": null,
   "id": "81eae152",
   "metadata": {
    "tags": []
   },
   "outputs": [],
   "source": [
    "def corr_coeff(table):\n",
    "    '''Return the regression coefficient for columns 0 & 1.'''\n",
    "    t_su = standardize(table)\n",
    "    ...\n",
    "\n",
    "\n",
    "\n",
    "below_3 = ...\n",
    "above_3 = ...\n",
    "below_3_r = corr_coeff(above_3_r)\n",
    "above_3_r = corr_coeff(above_3)\n",
    "print(\"For points below 3, r is\", below_3_r, \"; for points above 3, r is\", above_3_r)\n"
   ]
  },
  {
   "cell_type": "code",
   "execution_count": null,
   "id": "74d7c36c",
   "metadata": {
    "deletable": false,
    "editable": false
   },
   "outputs": [],
   "source": [
    "grader.check(\"q14\")"
   ]
  },
  {
   "cell_type": "markdown",
   "id": "f498d669",
   "metadata": {
    "deletable": false,
    "editable": false
   },
   "source": [
    "**Pregunta 5.2.** Completa las funciones `slope_of` e `intercept_of` a continuación.  \n",
    "\n",
    "Una vez finalizadas, las funciones `wait_below_3` y `wait_above_3` deberán utilizar líneas de regresión distintas para predecir el tiempo de espera en función de la duración.  \n",
    "\n",
    "- `wait_below_3` usará la línea de regresión para todos los puntos cuya duración sea menor a 3.  \n",
    "- `wait_above_3` usará la línea de regresión para todos los puntos cuya duración sea mayor a 3.  \n"
   ]
  },
  {
   "cell_type": "code",
   "execution_count": null,
   "id": "a256e1cd-7350-4128-bdb7-2fbaab0100aa",
   "metadata": {
    "deletable": false,
    "editable": false
   },
   "outputs": [],
   "source": [
    "faithful"
   ]
  },
  {
   "cell_type": "code",
   "execution_count": null,
   "id": "3d521d1b-efd7-42a4-b27a-bc85c8cb90ef",
   "metadata": {
    "deletable": false,
    "editable": false
   },
   "outputs": [],
   "source": [
    "above_3_r"
   ]
  },
  {
   "cell_type": "code",
   "execution_count": null,
   "id": "f76c73bb",
   "metadata": {
    "tags": []
   },
   "outputs": [],
   "source": [
    "def slope_of(table, r):\n",
    "    '''Return the slope of the regression line for table in original units.\n",
    "    \n",
    "    Assume that column 0 contains x values and column 1 contains y values.\n",
    "    r is the regression coefficient for x and y.\n",
    "    '''\n",
    "    ...\n",
    "\n",
    "def intercept_of(table, r):\n",
    "    '''Return the intercept of the regression line for table in original units.\n",
    "    \n",
    "    Assume that column 0 contains x values and column 1 contains y values.\n",
    "    r is the regression coefficient for x and y.\n",
    "    '''\n",
    "    slope = slope_of(table, r)\n",
    "    ...\n",
    "    \n",
    "below_3_slope = slope_of(below_3, below_3_r)\n",
    "below_3_intercept = intercept_of(below_3, below_3_r)\n",
    "above_3_slope = slope_of(above_3, above_3_r)\n",
    "above_3_intercept = intercept_of(above_3, above_3_r)\n",
    "\n",
    "def wait_below_3(duration):\n",
    "    return below_3_slope * duration + below_3_intercept\n",
    "\n",
    "def wait_above_3(duration):\n",
    "    return above_3_slope * duration + above_3_intercept"
   ]
  },
  {
   "cell_type": "code",
   "execution_count": null,
   "id": "5853fbd6-1182-4f57-b277-79347d5c0b88",
   "metadata": {
    "tags": []
   },
   "outputs": [],
   "source": [
    "print(wait_below_3(1))\n",
    "print(wait_below_3(3))\n",
    "print(wait_above_3(3))\n",
    "print(wait_above_3(6))"
   ]
  },
  {
   "cell_type": "code",
   "execution_count": null,
   "id": "da90ef09",
   "metadata": {
    "deletable": false,
    "editable": false
   },
   "outputs": [],
   "source": [
    "grader.check(\"q15\")"
   ]
  },
  {
   "cell_type": "markdown",
   "id": "27933a7d",
   "metadata": {
    "deletable": true,
    "editable": true
   },
   "source": [
    "El gráfico a continuación muestra las dos líneas de regresión diferentes, una para cada grupo, junto con la línea de regresión original.  "
   ]
  },
  {
   "cell_type": "code",
   "execution_count": null,
   "id": "0d95edcd",
   "metadata": {
    "deletable": true,
    "editable": true
   },
   "outputs": [],
   "source": [
    "faithful.scatter(0, 1)\n",
    "plots.plot([2, 5], [two_minute_predicted_waiting_time, five_minute_predicted_waiting_time])\n",
    "plots.plot([1, 3], [wait_below_3(1), wait_below_3(3)])\n",
    "plots.plot([3, 6], [wait_above_3(3), wait_above_3(6)]);"
   ]
  },
  {
   "cell_type": "markdown",
   "id": "0b40ec85",
   "metadata": {
    "deletable": false,
    "editable": false
   },
   "source": [
    "**Pregunta 5.3.** Escribe una función llamada `predict_wait` que reciba un parámetro `duration` y devuelva el tiempo de espera previsto utilizando la línea de regresión adecuada, dependiendo de si la duración es menor o mayor a 3.\n",
    "\n",
    "*Consejo:* Considera usar declaraciones condicionales. \n"
   ]
  },
  {
   "cell_type": "code",
   "execution_count": null,
   "id": "ad42b286",
   "metadata": {
    "tags": []
   },
   "outputs": [],
   "source": [
    "def predict_wait(duration):\n",
    "    ...\n"
   ]
  },
  {
   "cell_type": "code",
   "execution_count": null,
   "id": "6187ba9e-40cb-45a8-97ee-0aa3b5c3f44b",
   "metadata": {
    "tags": []
   },
   "outputs": [],
   "source": [
    "predict_wait(2)"
   ]
  },
  {
   "cell_type": "code",
   "execution_count": null,
   "id": "c9c54eb3",
   "metadata": {
    "deletable": false,
    "editable": false
   },
   "outputs": [],
   "source": [
    "grader.check(\"q16\")"
   ]
  },
  {
   "cell_type": "markdown",
   "id": "5f1e7bc4",
   "metadata": {
    "deletable": true,
    "editable": true
   },
   "source": [
    "A continuación, se presentan los tiempos de espera predichos para cada punto."
   ]
  },
  {
   "cell_type": "code",
   "execution_count": null,
   "id": "07e44750",
   "metadata": {
    "deletable": true,
    "editable": true
   },
   "outputs": [],
   "source": [
    "faithful_pred_split = faithful.with_column('predicted', faithful.apply(predict_wait, 'duration'))\n",
    "faithful_pred_split.scatter(0)"
   ]
  },
  {
   "cell_type": "markdown",
   "id": "933b6d42",
   "metadata": {
    "deletable": false,
    "editable": false
   },
   "source": [
    "**Pregunta 5.4.** ¿Crees que las predicciones generadas por la función `predict_wait` serían más o menos precisas que las predicciones de la línea de regresión que creaste en la sección 2? ¿Cómo podrías determinarlo?"
   ]
  },
  {
   "cell_type": "markdown",
   "id": "c006ced4",
   "metadata": {
    "deletable": true,
    "editable": true
   },
   "source": [
    "**SOLUCIÓN:** Más precisa, ya que cada línea es específica para los valores en su clúster. Para verificarlo, podríamos medir la magnitud promedio de los valores residuales. "
   ]
  },
  {
   "cell_type": "markdown",
   "id": "8560f2ba",
   "metadata": {
    "deletable": true,
    "editable": true
   },
   "source": [
    "La siguiente celda generará un gráfico de los residuos para cada erupción en el conjunto de datos cuando utilizamos una línea de regresión simple y cuando utilizamos dos líneas de regresión separadas. También se mostrará la magnitud promedio de los valores residuales. "
   ]
  },
  {
   "cell_type": "code",
   "execution_count": null,
   "id": "3dc6efa7",
   "metadata": {
    "deletable": true,
    "editable": true,
    "scrolled": true
   },
   "outputs": [],
   "source": [
    "# Just run this cell\n",
    "faithful_pred_split_residuals = faithful_pred_split.with_column('residual', faithful_pred_split.column(1) - faithful_pred_split.column(2))\n",
    "plots.scatter(faithful_residuals.column('duration'), faithful_residuals.column('residual'), label='one regression line')\n",
    "plots.scatter(faithful_pred_split_residuals.column('duration'), faithful_pred_split_residuals.column('residual'), label='two regression lines');\n",
    "plots.axis([1, 6, -15, 15])\n",
    "plots.legend(bbox_to_anchor=(1.5,.8));\n",
    "print(\"Average Magnitude of Residual Values for One Regression Line: \", np.mean(abs(faithful_residuals.column('residual'))))\n",
    "print(\"Average Magnitude of Residual Values for Two Regression Lines: \", np.mean(abs(faithful_pred_split_residuals.column('residual'))))"
   ]
  },
  {
   "cell_type": "markdown",
   "id": "8b6ee38f",
   "metadata": {
    "deletable": true,
    "editable": true
   },
   "source": [
    "El gráfico de residuos para los tiempos de espera, cuando son predichos por dos líneas de regresión (en rojo), no presenta realmente un patrón, lo que confirma que también fue apropiado usar regresión lineal en nuestro escenario de \"Dividir y Conquistar\". ¿Cómo se comparan los dos gráficos de residuos?"
   ]
  },
  {
   "cell_type": "markdown",
   "id": "3f12183e",
   "metadata": {
    "deletable": true,
    "editable": true
   },
   "source": [
    "## ¡Terminado!\n",
    "\n",
    "<div style=\"display: flex; justify-content: center; gap: 5px;\">\n",
    "    <img src=\"Manchas.png\" alt=\"Manchas\" width=\"200\"/>\n",
    "    <img src=\"Nina.jpg\" alt=\"Nina\" width=\"200\"/>\n",
    "    <img src=\"Nashira.jpeg\" alt=\"Nashira\" width=\"200\"/>\n",
    "</div>\n",
    "\n",
    "¡**Manchas, Nina y Nashira** te felicitan. Haz terminado el último laboratorio.\n",
    "\n",
    "¡Buen trabajo!"
   ]
  },
  {
   "attachments": {},
   "cell_type": "markdown",
   "id": "08c968e1",
   "metadata": {
    "deletable": true,
    "editable": true
   },
   "source": [
    "¡Felicitaciones por completar la Laboratorio 10!\n",
    "\n",
    "¡Terminaste con el laboratorio!\n",
    "\n",
    "**Información importante sobre el envío:**\n",
    "- **Ejecuta todas las pruebas** y verifica que todas pasan\n",
    "- **Guardar** desde el menú **Archivo**\n",
    "- **Ejecute la celda final **\n",
    "- Luego, ve a este [enlace](https://cienciadatosudea.github.io/001_SitioWebFundCienciaDatos/04entregas.html) y envía el archivo ipynb a la tarea correspondiente. El nombre de esta tarea es \"Lab XX Autograder\", donde XX es el número de laboratorio: 01, 02, 03, etc.\n",
    "\n",
    "- Si terminas temprano en el laboratorio regular, **registra tu asistencia con el instructor**.\n",
    "\n",
    "**Es su responsabilidad asegurarse de que su trabajo esté guardado antes de ejecutar la última celda.**\n",
    "\n",
    "`Referencia`: Este material esta basado en [Data 8: The Foundations of Data Science](https://www.data8.org/) - University of California, Berkeley.\n"
   ]
  },
  {
   "cell_type": "code",
   "execution_count": null,
   "id": "38da9a10-3d76-48dd-8ed9-9e2f99ddbb9a",
   "metadata": {},
   "outputs": [],
   "source": []
  },
  {
   "cell_type": "markdown",
   "id": "5410bbef",
   "metadata": {
    "deletable": false,
    "editable": false
   },
   "source": [
    "## Submission\n",
    "\n",
    "Make sure you have run all cells in your notebook in order before running the cell below, so that all images/graphs appear in the output. The cell below will generate a zip file for you to submit. **Please save before exporting!**\n",
    "\n",
    "These are some submission instructions."
   ]
  },
  {
   "cell_type": "code",
   "execution_count": null,
   "id": "5172811c",
   "metadata": {
    "deletable": false,
    "editable": false
   },
   "outputs": [],
   "source": [
    "# Save your notebook first, then run this cell to export your submission.\n",
    "grader.export(run_tests=True)"
   ]
  },
  {
   "cell_type": "markdown",
   "id": "0206c17a",
   "metadata": {},
   "source": [
    " "
   ]
  }
 ],
 "metadata": {
  "kernelspec": {
   "display_name": "Python 3 (ipykernel)",
   "language": "python",
   "name": "python3"
  },
  "language_info": {
   "codemirror_mode": {
    "name": "ipython",
    "version": 3
   },
   "file_extension": ".py",
   "mimetype": "text/x-python",
   "name": "python",
   "nbconvert_exporter": "python",
   "pygments_lexer": "ipython3",
   "version": "3.10.14"
  },
  "otter": {
   "OK_FORMAT": true,
   "assignment_name": "lab10",
   "tests": {
    "q0": {
     "name": "q0",
     "points": 1,
     "suites": [
      {
       "cases": [
        {
         "code": ">>> assert np.isclose(least_squares_order[0] * 3 + least_squares_order[1] * 12 + least_squares_order[2] * 3 + +least_squares_order[3] * 6, 4 * 12, 0.1)\n",
         "hidden": false,
         "locked": false
        }
       ],
       "scored": true,
       "setup": "",
       "teardown": "",
       "type": "doctest"
      }
     ]
    },
    "q10": {
     "name": "q10",
     "points": 1,
     "suites": [
      {
       "cases": [
        {
         "code": ">>> assert np.isclose(np.mean(faithful_predictions.column(1)), 70.89, 0.01)\n",
         "hidden": false,
         "locked": false
        }
       ],
       "scored": true,
       "setup": "",
       "teardown": "",
       "type": "doctest"
      }
     ]
    },
    "q11": {
     "name": "q11",
     "points": 1,
     "suites": [
      {
       "cases": [
        {
         "code": ">>> assert np.isclose(sum(faithful_residuals.column('residual')), 0, atol=0.01)\n",
         "hidden": false,
         "locked": false
        }
       ],
       "scored": true,
       "setup": "",
       "teardown": "",
       "type": "doctest"
      }
     ]
    },
    "q12": {
     "name": "q12",
     "points": 1,
     "suites": [
      {
       "cases": [
        {
         "code": ">>> assert np.isclose(zero_minute_predicted_waiting_time, 33.47, atol=0.01)\n>>> assert np.isclose(two_point_five_minute_predicted_waiting_time, 60.29, atol=0.01)\n>>> assert np.isclose(hour_predicted_waiting_time, 677.25, atol=0.01)\n",
         "hidden": false,
         "locked": false
        }
       ],
       "scored": true,
       "setup": "",
       "teardown": "",
       "type": "doctest"
      }
     ]
    },
    "q14": {
     "name": "q14",
     "points": 1,
     "suites": [
      {
       "cases": [
        {
         "code": ">>> assert np.isclose(below_3_r, 0.29, atol=0.01)\n>>> assert np.isclose(above_3_r, 0.372, atol=0.001)\n",
         "hidden": false,
         "locked": false
        }
       ],
       "scored": true,
       "setup": "",
       "teardown": "",
       "type": "doctest"
      }
     ]
    },
    "q15": {
     "name": "q15",
     "points": 1,
     "suites": [
      {
       "cases": [
        {
         "code": ">>> assert np.isclose(wait_below_3(1), 47.9, 0.01)\n>>> assert np.isclose(wait_above_3(6), 89.18, 0.01)\n",
         "hidden": false,
         "locked": false
        }
       ],
       "scored": true,
       "setup": "",
       "teardown": "",
       "type": "doctest"
      }
     ]
    },
    "q16": {
     "name": "q16",
     "points": 1,
     "suites": [
      {
       "cases": [
        {
         "code": ">>> assert np.isclose(predict_wait(2), 54.25, 0.001)\n>>> assert np.isclose(predict_wait(10), 111.03, 0.0001)\n",
         "hidden": false,
         "locked": false
        }
       ],
       "scored": true,
       "setup": "",
       "teardown": "",
       "type": "doctest"
      }
     ]
    },
    "q3": {
     "name": "q3",
     "points": 1,
     "suites": [
      {
       "cases": [
        {
         "code": ">>> assert np.isclose(mean_duration, 3.4, 0.1)\n>>> assert np.isclose(std_duration, 1.1, 0.1)\n>>> assert np.isclose(mean_wait, 70.8, 0.1)\n>>> assert np.isclose(std_wait, 13.56, 0.1)\n>>> assert np.isclose(np.mean(duration_standard_units), 0.0, 0.1)\n>>> assert np.isclose(np.std(wait_standard_units), 1.0, 0.1)\n",
         "hidden": false,
         "locked": false
        }
       ],
       "scored": true,
       "setup": "",
       "teardown": "",
       "type": "doctest"
      }
     ]
    },
    "q5": {
     "name": "q5",
     "points": 1,
     "suites": [
      {
       "cases": [
        {
         "code": ">>> assert np.isclose(correlation * 4, 12, 0.1)\n",
         "hidden": false,
         "locked": false
        }
       ],
       "scored": true,
       "setup": "",
       "teardown": "",
       "type": "doctest"
      }
     ]
    },
    "q6": {
     "name": "q6",
     "points": 1,
     "suites": [
      {
       "cases": [
        {
         "code": ">>> assert np.isclose(r * 5, 4.5, atol=0.1)\n",
         "hidden": false,
         "locked": false
        }
       ],
       "scored": true,
       "setup": "",
       "teardown": "",
       "type": "doctest"
      }
     ]
    },
    "q7": {
     "name": "q7",
     "points": 1,
     "suites": [
      {
       "cases": [
        {
         "code": ">>> assert np.isclose(slope * 5, 53.6, 0.001)\n",
         "hidden": false,
         "locked": false
        }
       ],
       "scored": true,
       "setup": "",
       "teardown": "",
       "type": "doctest"
      }
     ]
    },
    "q8": {
     "name": "q8",
     "points": 1,
     "suites": [
      {
       "cases": [
        {
         "code": ">>> assert np.isclose(round(intercept, 2) + 0.53 + 20, 54, 0.1)\n",
         "hidden": false,
         "locked": false
        }
       ],
       "scored": true,
       "setup": "",
       "teardown": "",
       "type": "doctest"
      }
     ]
    },
    "q9": {
     "name": "q9",
     "points": 1,
     "suites": [
      {
       "cases": [
        {
         "code": ">>> assert isinstance(two_minute_predicted_waiting_time, (int, float)), 'El resultado debe ser un número'\n>>> assert isinstance(five_minute_predicted_waiting_time, (int, float)), 'El resultado debe ser un número'\n>>> assert np.isclose(two_minute_predicted_waiting_time * 5, 274.66, 0.01)\n>>> assert np.isclose(five_minute_predicted_waiting_time * 5, 435.61, 0.01)\n",
         "hidden": false,
         "locked": false
        }
       ],
       "scored": true,
       "setup": "",
       "teardown": "",
       "type": "doctest"
      }
     ]
    },
    "qt": {
     "name": "qt",
     "points": 0,
     "suites": [
      {
       "cases": [
        {
         "code": ">>> assert isinstance(NombreApellidos, str)\n>>> assert isinstance(NumeroCarnet, str)\n>>> assert isinstance(Email, str)\n>>> assert len(NombreApellidos) > 3\n>>> assert len(NumeroCarnet) > 3\n>>> assert len(Email) > 3\n",
         "hidden": false,
         "locked": false
        }
       ],
       "scored": true,
       "setup": "",
       "teardown": "",
       "type": "doctest"
      }
     ]
    }
   }
  }
 },
 "nbformat": 4,
 "nbformat_minor": 5
}
