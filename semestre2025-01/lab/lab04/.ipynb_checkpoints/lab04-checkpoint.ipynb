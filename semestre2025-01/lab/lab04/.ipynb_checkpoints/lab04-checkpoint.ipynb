{
 "cells": [
  {
   "cell_type": "code",
   "execution_count": null,
   "id": "a3bdc6ab",
   "metadata": {
    "deletable": false,
    "editable": false
   },
   "outputs": [],
   "source": [
    "# Initialize Otter\n",
    "import otter\n",
    "grader = otter.Notebook(\"lab04.ipynb\")"
   ]
  },
  {
   "cell_type": "code",
   "execution_count": null,
   "id": "eXWXTxh3LewD",
   "metadata": {
    "deletable": true,
    "editable": true,
    "id": "eXWXTxh3LewD"
   },
   "outputs": [],
   "source": [
    "import numpy as np\n",
    "from datascience import *\n",
    "import warnings\n",
    "import matplotlib.pyplot as plt\n",
    "\n",
    "plt.style.use('fivethirtyeight')\n",
    "%matplotlib inline\n",
    "warnings.simplefilter('ignore', FutureWarning)"
   ]
  },
  {
   "cell_type": "markdown",
   "id": "6f039eb4-f428-4dc2-8fbf-2ed14ef8c500",
   "metadata": {},
   "source": [
    "<p><img alt=\"Colaborat\" style=\"height: 220px;\" src=\"https://github.com/CienciaDatosUdea/001_DataSetFundCienciaDatos/blob/main/semestre2024-2/lab/lab02/Escudo-UdeA.svg.png?raw=true\" align=\"left\" hspace=\"10px\" vspace=\"0px\"></p>\n",
    "\n",
    "\n",
    "# Fundamentos en ciencias de datos\n",
    "\n",
    "\n",
    "## Laboratorio 4: Funciones y visualizacion\n",
    "\n",
    "¡Bienvenidos al Laboratorio 4! Esta semana, aprenderemos cómo importar un módulo y prácticaremos operaciones con tablas. Algunas referencias estan dadas en el siguiente  [enlace](https://www.data8.org/fa23/reference/), el cual tiene información útil para este práctica de laboratorio.\n",
    "\n",
    "**Lectura recomendada**:\n",
    "  * [Introducción a las Tablas](https://www.inferentialthinking.com/chapters/03/4/Introduction_to_Tables)\n",
    "\n",
    "¡Bienvenidos al Laboratorio 4! ¡Esta semana aprenderemos sobre funciones, métodos de tablas como \"apply\" y cómo generar visualizaciones!\n",
    "\n",
    "Lectura recomendada:\n",
    "\n",
    "* [Aplicar una función a una columna](https://inferentialthinking.com/chapters/08/1/Applying_a_Function_to_a_Column.html)\n",
    "* [Visualizaciones](https://inferentialthinking.com/chapters/07/Visualization.html)\n",
    "* [Referencia de Python](https://www.data8.org/fa23/reference/)\n"
   ]
  },
  {
   "cell_type": "markdown",
   "id": "mnRtTmEVLewC",
   "metadata": {
    "deletable": true,
    "editable": true,
    "id": "mnRtTmEVLewC"
   },
   "source": [
    "Como recordatorio, estas son las políticas para obtener una nota completa:\n",
    "\n",
    "1. Recuerden que  recibiran el 80% del laboratorio solo con **asistir** a la sección de los viernes laboratorio y lograr un progreso significativo en ```notebook de jupyter```.\n",
    "\n",
    "\n",
    "\n",
    "**Envío**: Una vez que haya terminado, ejecute todas las celdas además de la última, seleccione Archivo > Guardar cuaderno y luego ejecute la celda final. El resultado contendrá un archivo zip que podrá utilizar para enviarlo.\n",
    "\n",
    "Comencemos configurando las pruebas e importaciones ejecutando la siguiente celda."
   ]
  },
  {
   "cell_type": "markdown",
   "id": "89145408",
   "metadata": {
    "deletable": false,
    "editable": false
   },
   "source": [
    "<!-- BEGIN QUESTION -->\n",
    "\n"
   ]
  },
  {
   "cell_type": "code",
   "execution_count": null,
   "id": "cafd02e7-8f54-4dff-b55f-4cbb01452998",
   "metadata": {
    "tags": []
   },
   "outputs": [],
   "source": [
    "Nombre = \"...\"\n",
    "Carnet = \"...\""
   ]
  },
  {
   "cell_type": "markdown",
   "id": "KeLo6hRrLewE",
   "metadata": {
    "deletable": false,
    "editable": false,
    "id": "KeLo6hRrLewE"
   },
   "source": [
    "<!-- END QUESTION -->\n",
    "\n",
    "\n",
    "## 1. Definición de funciones\n",
    "\n",
    "Empecemos escribiendo una función que convierta una proporción en un porcentaje, multiplicándola por 100. Por ejemplo, al llamar a `a_porcentaje(.5)`, el resultado debe ser el número 50 (sin el signo de porcentaje).\n",
    "\n",
    "Una definición de función incluye varios componentes clave.\n"
   ]
  },
  {
   "cell_type": "markdown",
   "id": "Rp_hVTrALewE",
   "metadata": {
    "deletable": true,
    "editable": true,
    "id": "Rp_hVTrALewE"
   },
   "source": [
    "##### def\n",
    "Creamos una función con una declaración `def` (abreviatura de **def**ine en inglés):\n",
    "<br>\n",
    "<pre style=\"margin-left: 40px; font-family: 'Courier New';\"><code><span style=\"font-weight: bold; color: green\">def</span></code>\n",
    "</pre>"
   ]
  },
  {
   "cell_type": "markdown",
   "id": "6cUkzEN6LewF",
   "metadata": {
    "deletable": true,
    "editable": true,
    "id": "6cUkzEN6LewF"
   },
   "source": [
    "##### Nombre\n",
    "Luego viene el nombre de la función. Al igual que otros nombres que hemos definido, no puede comenzar con un número ni contener espacios. Llamemos a nuestra función `a_porcentaje`:\n",
    "    \n",
    "<br>\n",
    "<pre style=\"margin-left: 40px; font-family: 'Courier New';\"><code><span style=\"font-weight: bold; color: green\">def</span> <span style=\"color: blue\">a_porcentaje(...):</span></code>\n",
    "</pre>"
   ]
  },
  {
   "cell_type": "markdown",
   "id": "r6MUZ0NeLewG",
   "metadata": {
    "deletable": true,
    "editable": true,
    "id": "r6MUZ0NeLewG"
   },
   "source": [
    "##### Encabezado de la función\n",
    "\n",
    "A continuación, viene la **cabecera** de la función. Esta le indica a Python el número de **argumentos** que recibe la función y los nombres de esos argumentos. Un argumento es un valor que se _pasa_ a la función cuando se llama. Una función puede tener cualquier número de argumentos (¡incluyendo 0!).\n",
    "\n",
    "La función `a_porcentaje` debe tomar un argumento, el cual llamaremos `proporcion`, ya que representa una proporción.\n",
    "\n",
    "\n",
    "<br>\n",
    "<pre style=\"margin-left: 40px; font-family: 'Courier New';\"><code><span style=\"font-weight: bold; color: green\">def</span> <span style=\"color: blue\">a_porcentaje</span>(proporcion):</code>\n",
    "</pre>\n",
    "    \n",
    "Si queremos que nuestra función reciba más de un argumento, simplemente agregamos una coma entre los nombres de cada uno. Por ejemplo, `a_porcentaje(proporción, decimales)`. Ten en cuenta que, si la función no toma ningún argumento, de todos modos se colocan los paréntesis vacíos `()` después del nombre de la función.\n",
    "\n",
    "\n",
    "Ponemos **dos puntos** después de la asignación para indicarle a Python que las siguientes líneas identadas son el cuerpo de la función. ¡Asegúrate de recordar los dos puntos!\n",
    "\n",
    "<br>\n",
    "<pre style=\"margin-left: 40px; font-family: 'Courier New';\"><code><span style=\"font-weight: bold; color: green\">def</span> <span style=\"color: blue\">a_porcentaje</span>(proportion):</code>\n",
    "</pre>"
   ]
  },
  {
   "cell_type": "markdown",
   "id": "PqAQ9LpLLewG",
   "metadata": {
    "deletable": true,
    "editable": true,
    "id": "PqAQ9LpLLewG"
   },
   "source": [
    "##### Documentación\n",
    "Las funciones pueden hacer cosas complicadas, por lo que debes escribir una explicación de lo que hace tu función. Para funciones pequeñas, esto es menos importante, pero es un buen hábito aprender desde el principio (aunque la documentación no es estrictamente necesaria). Convencionalmente, las funciones de Python se documentan escribiendo una cadena **indentada** entre comillas triples:\n",
    "\n",
    "<br>\n",
    "<pre style=\"margin-left: 40px; font-family: 'Courier New';\"><code><span style=\"font-weight: bold; color: green\">def</span> <span style=\"color: blue\">a_porcentaje</span>(proportion):<br><span style=\"padding-left: 40px\"><span style=\"color: red\">\"\"\"Convierte una proporción a un porcentaje.\"\"\"</span></span></code>\n",
    "</pre>"
   ]
  },
  {
   "cell_type": "markdown",
   "id": "daFgG65YLewH",
   "metadata": {
    "deletable": true,
    "editable": true,
    "id": "daFgG65YLewH"
   },
   "source": [
    "\n",
    "##### Cuerpo de la función (Body)\n",
    "\n",
    "A continuación, comenzamos a escribir el código que se ejecuta cuando se llama a la función. Esto se denomina el *cuerpo* de la función, y cada línea **debe estar indentada con una tabulación**. Cualquier línea que *no* tenga sangría y esté alineada a la izquierda con la declaración `def` se considerará fuera de la función.\n",
    "\n",
    "Algunas notas sobre el cuerpo de la función:\n",
    "\n",
    "- Podemos escribir cualquier código que utilizaríamos en otras partes del programa.\n",
    "- Usamos los argumentos definidos en la cabecera de la función. Esto es posible porque esos argumentos reciben valores cuando llamamos a la función.\n",
    "- Generalmente evitamos hacer referencia a variables definidas *fuera* de la función. Si se necesita usar variables externas, es mejor pasarlas como argumentos.\n",
    "\n",
    "Ahora, asignemos un nombre al número por el cual multiplicamos una proporción para convertirla en porcentaje:\n",
    "\n",
    "```python\n",
    "def a_porcentaje(proporcion):\n",
    "    \"\"\"Convierte una proporción a un porcentaje.\"\"\"\n",
    "    factor=100\n",
    "```\n"
   ]
  },
  {
   "cell_type": "markdown",
   "id": "UUPj-LrJLewH",
   "metadata": {
    "deletable": true,
    "editable": true,
    "id": "UUPj-LrJLewH"
   },
   "source": [
    "##### `return`\n",
    "La instrucción especial \"return\" es parte del cuerpo de la función y le dice a Python que haga que el valor de la llamada a la función sea igual a lo que viene justo después de \"return\". Queremos que el valor de `a_porcentaje(.5)` sea la proporción .5 veces el factor 100, así que escribimos:\n",
    "\n",
    "```python\n",
    "def a_porcentaje(proporcion):\n",
    "    \"\"\"Convierte una proporción a un porcentaje.\"\"\"\n",
    "    factor=100\n",
    "    return proporcion *  factor \n",
    "```\n",
    "\n",
    "        \n",
    "`return` solo tiene sentido en el contexto de una función y **nunca se puede usar fuera de una función**. `return` es siempre la última línea de la función porque Python deja de ejecutar el cuerpo de una función una vez que llega a una declaración `return`. Asegúrese de incluir una declaración de devolución a menos que no espere que la función devuelva nada.\n",
    "\n",
    "*Nota:* `return` dentro de una función le dice a Python a qué valor se evalúa la función. Sin embargo, hay otras funciones, como \"print\", que no tienen valor de retorno \"(return)\". Por ejemplo, \"print\" simplemente **imprime un valor determinado en la consola**.\n",
    "\n",
    "En resumen, \"return\" se usa cuando quieres decirle a la *computadora* cuál es el valor de alguna variable, mientras que \"print\" se usa para decirte a ti, un *humano*, su valor."
   ]
  },
  {
   "cell_type": "markdown",
   "id": "wdKmf-3vLewH",
   "metadata": {
    "deletable": false,
    "editable": false,
    "id": "wdKmf-3vLewH"
   },
   "source": [
    "**Pregunta 1.1.** Define `a_porcentaje` en la celda de abajo. Llama a tu función para convertir la cantidad de 0.2 en un porcentaje. Nombra ese porcentaje `veinte_por_ciento`"
   ]
  },
  {
   "cell_type": "code",
   "execution_count": null,
   "id": "eBjGxT7eLewI",
   "metadata": {
    "deletable": true,
    "editable": true,
    "id": "eBjGxT7eLewI",
    "tags": []
   },
   "outputs": [],
   "source": [
    "def ...\n",
    "    ''' (Remplazar por tu documetacion de la funcion) '''\n",
    "    ... = ...\n",
    "    return ...\n",
    "\n",
    "veinte_por_ciento = ...\n",
    "veinte_por_ciento"
   ]
  },
  {
   "cell_type": "code",
   "execution_count": null,
   "id": "9d31c97f",
   "metadata": {
    "deletable": false,
    "editable": false
   },
   "outputs": [],
   "source": [
    "grader.check(\"q0\")"
   ]
  },
  {
   "cell_type": "markdown",
   "id": "e5eC6ARgLewI",
   "metadata": {
    "deletable": true,
    "editable": true,
    "id": "e5eC6ARgLewI"
   },
   "source": [
    "Aquí hay algo importante sobre las funciones: **los nombres asignados *dentro* del cuerpo de una función solo son accesibles dentro del cuerpo de la función**. Una vez que la función ha devuelto un valor, esos nombres desaparecen. Entonces, incluso si creaste una variable llamada `factor` y definiste `factor = 100` dentro del cuerpo de la función `a_porcentaje`, y luego llamaste a `a_porcentaje`, `factor` no tendría un valor asignado fuera del cuerpo de `a_porcentaje`.\n",
    "\n",
    "**Nota**: A continuación, deberías ver un mensaje de error \"NameError\" que indica que el \"nombre `factor` no está definido\". Python arroja este error porque `factor` no se ha definido fuera del cuerpo de la función `a_porcentaje`.\n"
   ]
  },
  {
   "cell_type": "code",
   "execution_count": null,
   "id": "wLRqXKvcLewJ",
   "metadata": {
    "deletable": true,
    "editable": true,
    "id": "wLRqXKvcLewJ",
    "tags": [
     "raises-exception"
    ]
   },
   "outputs": [],
   "source": [
    "# Deberías recibir un error al ejecutar esto. (Si no lo haces,\n",
    "# es posible que haya definido el factor en algún lugar arriba).\n",
    "factor"
   ]
  },
  {
   "cell_type": "markdown",
   "id": "W6OquseILewJ",
   "metadata": {
    "deletable": false,
    "editable": false,
    "id": "W6OquseILewJ"
   },
   "source": [
    "Como lo hizo con las funciones integradas en laboratorios anteriores (`max`, `abs`, etc.), puede pasar valores con nombre como argumentos a su función.\n",
    "\n",
    "**Pregunta 1.2.** Utilice `a_porcentaje` nuevamente para convertir la proporción denominada `a_propocion` (definida a continuación) en un porcentaje llamado `calculo_porcentaje`.\n",
    "\n",
    "*Nota:* ¡No es necesario volver a definir `a_porcentaje`! Al igual que otros valores con nombre, las funciones permanecen después de que las defines."
   ]
  },
  {
   "cell_type": "code",
   "execution_count": null,
   "id": "2fc0ca75",
   "metadata": {
    "tags": []
   },
   "outputs": [],
   "source": [
    "a_proporcion = 2**(0.5) / 2\n",
    "calculo_porcentaje = ...\n",
    "calculo_porcentaje"
   ]
  },
  {
   "cell_type": "code",
   "execution_count": null,
   "id": "26fc2763",
   "metadata": {
    "deletable": false,
    "editable": false
   },
   "outputs": [],
   "source": [
    "grader.check(\"q1\")"
   ]
  },
  {
   "cell_type": "markdown",
   "id": "s2szoFZxLewK",
   "metadata": {
    "deletable": true,
    "editable": true,
    "id": "s2szoFZxLewK"
   },
   "source": [
    "En la siguiente celda, definiremos una función llamada `sin_vocales`. Toma una sola cadena como argumento. Devuelve una copia de esa cadena, sin las vocales. \n",
    "\n",
    "Para eliminar todas las \"a\" de una cadena, usamos `a_string.replace(\"a\", \"\")`. El método `.replace` para cadenas devuelve una nueva cadena, por lo que podemos llamar a `replace` varias veces, una tras otra."
   ]
  },
  {
   "cell_type": "code",
   "execution_count": null,
   "id": "H5NsXdSKLewK",
   "metadata": {
    "deletable": true,
    "editable": true,
    "id": "H5NsXdSKLewK"
   },
   "outputs": [],
   "source": [
    "def sin_vocales(a_string):\n",
    "    \"\"\"Remover todas las vocales de un string.\"\"\"\n",
    "    return a_string.replace(\"a\", \"\").replace(\"e\", \"\").replace(\"i\", \"\").replace(\"o\", \"\").replace(\"u\", \"\")\n",
    "\n",
    "# Un ejemplo de llamada a la función. (A menudo es útil ejecutar\n",
    "# una llamada de ejemplo de vez en cuando mientras escribimos una función,\n",
    "# para ver cómo funciona actualmente).\n",
    "sin_vocales(\"¿Puedes leer esto sin vocales?\")"
   ]
  },
  {
   "cell_type": "markdown",
   "id": "BFIC0yReLewK",
   "metadata": {
    "deletable": false,
    "editable": false,
    "id": "BFIC0yReLewK"
   },
   "source": [
    "##### Llamadas sobre llamadas sobre llamadas\n",
    "Así como escribes una serie de líneas para construir un cálculo complejo, es útil definir una serie de pequeñas funciones que se complementan entre sí. Como puedes escribir cualquier código dentro del cuerpo de una función, puedes llamar a otras funciones que hayas escrito.\n",
    "\n",
    "Si una función es como una receta, definir una función en términos de otras funciones es como tener una receta de pastel que te dice que sigas otra receta para hacer el glaseado y otra para hacer el relleno de mermelada. Esto hace que la receta del pastel sea más corta y clara, y evita tener un montón de recetas de glaseado duplicadas. Es la base de la programación productiva.\n",
    "\n",
    "Por ejemplo, supongamos que desea contar el número de caracteres *que no son vocales* en un fragmento de texto. Una forma de hacerlo es eliminar todas las vocales y contar el tamaño de la cadena restante.\n",
    "\n",
    "**Pregunta 1.3.** Escribe una función llamada `num_sin_vocales`. Debería tomar una cadena como argumento y devolver un número. Ese número debe ser el número de caracteres en la cadena del argumento que no sean vocales. Debes usar la función `sin_vocales`, que proporcionamos arriba dentro de la función `num_sin_vocales`.\n",
    "\n",
    "*Pista:* La función `len` toma una cadena como argumento y devuelve el número de caracteres que contiene.\n"
   ]
  },
  {
   "cell_type": "code",
   "execution_count": null,
   "id": "3b0bdf3e",
   "metadata": {
    "tags": []
   },
   "outputs": [],
   "source": [
    "\n",
    "def num_sin_vocales(un_string):\n",
    "  #Recuerda escribir aqui la documentación entre comillas\n",
    "    ...\n",
    "\n",
    "# Intenta llamar su propia funcion  para combrobar que la funcion esta bien definida\n",
    "..."
   ]
  },
  {
   "cell_type": "code",
   "execution_count": null,
   "id": "0ba4b404",
   "metadata": {
    "deletable": false,
    "editable": false
   },
   "outputs": [],
   "source": [
    "grader.check(\"q2\")"
   ]
  },
  {
   "cell_type": "markdown",
   "id": "Q1NBbpgdLewL",
   "metadata": {
    "deletable": true,
    "editable": true,
    "id": "Q1NBbpgdLewL"
   },
   "source": [
    "Las funciones también pueden encapsular código que *muestra una salida* en lugar de calcular un valor. Por ejemplo, si llamas a `print` dentro de una función, y luego llamas a esa función, se imprimirá algo.\n",
    "\n",
    "El conjunto de datos `peliculas_por_anio`, de la tabla de la celda siguiente celda, contiene información sobre las ventas de películas en los últimos años. Supongamos que te gustaría mostrar el año con el quinto mayor total de ventas brutas de películas, impreso dentro de una oración. Podrías hacer lo siguiente:"
   ]
  },
  {
   "cell_type": "code",
   "execution_count": null,
   "id": "5kqPvAaXLewL",
   "metadata": {
    "deletable": true,
    "editable": true,
    "id": "5kqPvAaXLewL"
   },
   "outputs": [],
   "source": [
    "peliculas_por_anio = Table.read_table(\"movies_by_year.csv\")\n",
    "ranking = 5\n",
    "anio_quinta_mayor_taquilla = peliculas_por_anio.sort(\"Total Gross\", descending=True).column(\"Year\").item(ranking-1)\n",
    "print(\"El año con el puesto número\", ranking, \"en ventas brutas totales de películas es:\", anio_quinta_mayor_taquilla)"
   ]
  },
  {
   "cell_type": "markdown",
   "id": "IPtHASqSLewL",
   "metadata": {
    "deletable": false,
    "editable": false,
    "id": "IPtHASqSLewL"
   },
   "source": [
    "Después de escribir esto, te das cuenta de que también querías imprimir el segundo y tercer año con mayor puntuación. En lugar de copiar tu código, decides ponerlo en una función. Dado que el rango varía, lo convierte en un argumento para su función.\n",
    "\n",
    "**Pregunta 1.4.** Escribe una función llamada `imprimir_anio_k_mayor_taquilla`. Debería tomar un único argumento, la posición del año (como 2, 3 o 5 en los ejemplos anteriores) y debería utilizar la tabla `peliculas_por_anio`. Además se debe imprimir un mensaje similar al anterior.\n",
    "\n",
    "*Nota:* Tu función no debería tener una declaración de \"return\".\n"
   ]
  },
  {
   "cell_type": "code",
   "execution_count": null,
   "id": "3445e3d5",
   "metadata": {
    "tags": []
   },
   "outputs": [],
   "source": [
    "\n",
    "def imprimir_anio_k_mayor_taquilla(posicion):\n",
    "    anio_k_mayor_maquilla = peliculas_por_anio.sort(\"Total Gross\", descending=True).column(\"Year\").item(posicion-1)\n",
    "    print(...)\n",
    "    \n",
    "\n",
    "\n",
    "    \n",
    "imprimir_anio_k_mayor_taquilla(1)\n",
    "imprimir_anio_k_mayor_taquilla(2)"
   ]
  },
  {
   "cell_type": "code",
   "execution_count": null,
   "id": "dd896d3e",
   "metadata": {
    "deletable": false,
    "editable": false
   },
   "outputs": [],
   "source": [
    "grader.check(\"q3\")"
   ]
  },
  {
   "cell_type": "markdown",
   "id": "JH9NW1mKLewM",
   "metadata": {
    "deletable": true,
    "editable": true,
    "id": "JH9NW1mKLewM"
   },
   "source": [
    "### `print` no es lo mismo que `return`\n",
    "La función `imprimir_anio_k_mayor_taquilla(k)` imprime las ventas brutas totales de películas para el año proporcionado! Sin embargo, como no devolvimos ningún valor en esta función, no podemos usarla después de llamarla. Veamos un ejemplo de otra función que imprime un valor pero no lo devuelve."
   ]
  },
  {
   "cell_type": "code",
   "execution_count": null,
   "id": "LMwT_z1iLewM",
   "metadata": {
    "deletable": true,
    "editable": true,
    "id": "LMwT_z1iLewM"
   },
   "outputs": [],
   "source": [
    "def mostrar_numero_cinco():\n",
    "    print(5)"
   ]
  },
  {
   "cell_type": "code",
   "execution_count": null,
   "id": "QOP6NO_hLewM",
   "metadata": {
    "deletable": true,
    "editable": true,
    "id": "QOP6NO_hLewM"
   },
   "outputs": [],
   "source": [
    "mostrar_numero_cinco()"
   ]
  },
  {
   "cell_type": "markdown",
   "id": "LkuaLRTnLewM",
   "metadata": {
    "deletable": true,
    "editable": true,
    "id": "LkuaLRTnLewM"
   },
   "source": [
    "Sin embargo, si intentamos utilizar la salida de `mostrar_numero_cinco()`, vemos que se imprime el valor `5` pero obtenemos un TypeError cuando intentamos agregarle el número 2."
   ]
  },
  {
   "cell_type": "code",
   "execution_count": null,
   "id": "R00EOygjLewM",
   "metadata": {
    "deletable": true,
    "editable": true,
    "id": "R00EOygjLewM",
    "tags": [
     "raises-exception"
    ]
   },
   "outputs": [],
   "source": [
    "mostrar_numero_cinco_salida = mostrar_numero_cinco()\n",
    "mostrar_numero_cinco_salida + 2"
   ]
  },
  {
   "cell_type": "markdown",
   "id": "l5LG84d5LewN",
   "metadata": {
    "deletable": true,
    "editable": true,
    "id": "l5LG84d5LewN"
   },
   "source": [
    "Puede parecer que `mostrar_numero_cinco()` está devolviendo un valor, 5. En realidad, ¡solo te muestra el número 5 sin darte el valor real! Si su función imprime un valor **sin devolverlo** e intenta utilizar ese valor, se encontrará con errores, ¡así que tenga cuidado!\n",
    "\n",
    "Piensa en cómo podrías agregar una línea de código a la función `mostrar_numero_cinco` (después de `print(5)`) para que el código `mostrar_numero_cinco_salida + 5` dé como resultado el valor `10`, en lugar de un error."
   ]
  },
  {
   "cell_type": "markdown",
   "id": "h6Qkgd-xLewN",
   "metadata": {
    "deletable": true,
    "editable": true,
    "id": "h6Qkgd-xLewN"
   },
   "source": [
    "## 2. Funciones e ingresos de CEO\n",
    "\n",
    "En esta pregunta, veremos la remuneración de los directores ejecutivos de las 100 empresas más grandes de California en 2015. Los datos se compilaron a partir de un [análisis de Los Angeles Times](http://spreadsheets.latimes.com/california-ceo-compensation/) y, en última instancia, provinieron de [presentaciones](https://www.sec.gov/answers/proxyhtf.htm) exigido por la SEC para todas las empresas que cotizan en bolsa. Dos empresas tienen dos directores ejecutivos, por lo que hay 102 directores ejecutivos en el conjunto de datos.\n",
    "\n",
    "Copiamos los datos sin procesar de la página del LA Times en un archivo llamado `raw_compensation.csv`. (La página señala que todos los montos en dólares están en **millones de dólares**).\n"
   ]
  },
  {
   "cell_type": "code",
   "execution_count": null,
   "id": "QAEKo8q1LewN",
   "metadata": {
    "deletable": true,
    "editable": true,
    "id": "QAEKo8q1LewN",
    "scrolled": true
   },
   "outputs": [],
   "source": [
    "raw_compensation = Table.read_table('raw_compensation.csv')\n",
    "raw_compensation"
   ]
  },
  {
   "cell_type": "markdown",
   "id": "cZZPNOSDLewN",
   "metadata": {
    "deletable": true,
    "editable": true,
    "id": "cZZPNOSDLewN"
   },
   "source": [
    "Queremos calcular el promedio del salario de los directores ejecutivos. Intente ejecutar la celda a continuación."
   ]
  },
  {
   "cell_type": "code",
   "execution_count": null,
   "id": "J96JQF62LewV",
   "metadata": {
    "deletable": true,
    "editable": true,
    "id": "J96JQF62LewV",
    "tags": [
     "raises-exception"
    ]
   },
   "outputs": [],
   "source": [
    "np.mean(raw_compensation.column(\"Total Pay\"))"
   ]
  },
  {
   "cell_type": "markdown",
   "id": "5at7_7vcLewW",
   "metadata": {
    "deletable": true,
    "editable": true,
    "id": "5at7_7vcLewW"
   },
   "source": [
    "Deberías ver un \"TypeError\". Examinemos por qué ocurrió este error observando los valores en la columna \"Total Pay\". Para hacerlo, podemos usar la función `type`. Esta función nos dice el tipo de datos del objeto que le pasamos. Ejecute las siguientes celdas para ver qué sucede cuando pasamos `23`, `3.5` y `\"Hello\"` a la función `type`. ¿Tienen sentido sus resultados?"
   ]
  },
  {
   "cell_type": "code",
   "execution_count": null,
   "id": "a-nBOnjLLewW",
   "metadata": {
    "deletable": true,
    "editable": true,
    "id": "a-nBOnjLLewW"
   },
   "outputs": [],
   "source": [
    "type(23)"
   ]
  },
  {
   "cell_type": "code",
   "execution_count": null,
   "id": "bOjQrL-8LewW",
   "metadata": {
    "deletable": true,
    "editable": true,
    "id": "bOjQrL-8LewW"
   },
   "outputs": [],
   "source": [
    "type(3.5)"
   ]
  },
  {
   "cell_type": "code",
   "execution_count": null,
   "id": "k_dsxLyXLewW",
   "metadata": {
    "deletable": true,
    "editable": true,
    "id": "k_dsxLyXLewW"
   },
   "outputs": [],
   "source": [
    "type(\"Hello\")"
   ]
  },
  {
   "cell_type": "markdown",
   "id": "ziyve7zLLewW",
   "metadata": {
    "deletable": false,
    "editable": false,
    "id": "ziyve7zLLewW"
   },
   "source": [
    "**Pregunta 2.1.** Utilice la función `type` y establezca en la variable `tipo_pago_total`  a el tipo de variable asociada a el primer valor en la columna `Total Pay`.\n"
   ]
  },
  {
   "cell_type": "code",
   "execution_count": null,
   "id": "4737c0d0",
   "metadata": {
    "tags": []
   },
   "outputs": [],
   "source": [
    "tipo_pago_total = type()\n",
    "tipo_pago_total"
   ]
  },
  {
   "cell_type": "code",
   "execution_count": null,
   "id": "74158119",
   "metadata": {
    "deletable": false,
    "editable": false
   },
   "outputs": [],
   "source": [
    "grader.check(\"q4\")"
   ]
  },
  {
   "cell_type": "markdown",
   "id": "TMRMXSoyLewX",
   "metadata": {
    "deletable": false,
    "editable": false,
    "id": "TMRMXSoyLewX"
   },
   "source": [
    "**Pregunta 2.2.** Deberías haber descubierto que los valores en la columna \"Total Pay\" son cadenas de texto. No tiene sentido tomar el promedio de los valores de una cadena, por lo que debemos convertirlos a números. Extraiga el primer valor en \"Total Pay\". Es el salario de Mark Hurd en 2015, en *millones* de dólares. Llámelo `mark_hurd_pago_string`.\n"
   ]
  },
  {
   "cell_type": "code",
   "execution_count": null,
   "id": "6b37a7f0",
   "metadata": {
    "tags": []
   },
   "outputs": [],
   "source": [
    "mark_hurd_pago_string=..."
   ]
  },
  {
   "cell_type": "code",
   "execution_count": null,
   "id": "f188eec6",
   "metadata": {
    "deletable": false,
    "editable": false
   },
   "outputs": [],
   "source": [
    "grader.check(\"q5\")"
   ]
  },
  {
   "cell_type": "markdown",
   "id": "j2EmudhvLewY",
   "metadata": {
    "deletable": false,
    "editable": false,
    "id": "j2EmudhvLewY"
   },
   "source": [
    "**Pregunta 2.3.** Convierta `mark_hurd_pago_string` a una cantidad de *dólares*, llame a esa variable `mark_hurd_pago`\n",
    "\n",
    "Algunas sugerencias, ya que esta pregunta requiere varios pasos:\n",
    "\n",
    "- El método de cadena `strip` será útil para eliminar el signo de dólar; elimina un carácter específico del inicio o final de una cadena. Por ejemplo, el valor de `\"100 %\".strip(\"%\")` es la cadena `\"100 \"`.\n",
    "\n",
    "- El método de cadena `strip` será útil para eliminar el signo de dólar; elimina un carácter específico del inicio o final de una cadena. Por ejemplo, el valor de `\"100 %\".strip().strip(\"%\")` es la cadena `\"100\"`, **sin el espacio.**\n",
    "\n",
    "- También necesitarás la función `float`, que convierte una cadena que parece un número en un número real. No te preocupes por el espacio en blanco al final de la cadena; la función `float` ignorará esto.\n",
    "- Por último, recuerda que la respuesta debe ser en dólares, no en millones de dólares."
   ]
  },
  {
   "cell_type": "code",
   "execution_count": null,
   "id": "d86789b3",
   "metadata": {
    "tags": []
   },
   "outputs": [],
   "source": [
    "...\n",
    "mark_hurd_pago = ..."
   ]
  },
  {
   "cell_type": "code",
   "execution_count": null,
   "id": "81df0645",
   "metadata": {
    "deletable": false,
    "editable": false
   },
   "outputs": [],
   "source": [
    "grader.check(\"q6\")"
   ]
  },
  {
   "cell_type": "markdown",
   "id": "k4C6YKZ2LewY",
   "metadata": {
    "deletable": false,
    "editable": false,
    "id": "k4C6YKZ2LewY"
   },
   "source": [
    "Para calcular el salario promedio, debemos hacer esto para cada director ejecutivo. Pero parece que eso implicaría copiar este código 102 veces.\n",
    "\n",
    "En su lugar, usaremos funciones para realizar este cálculo. Más adelante en esta práctica de laboratorio, veremos el beneficio: podemos llamar a esa función para aplicar en un conjunto de datos a la vez.\n",
    "\n",
    "**Pregunta 2.4.** Copie la expresión que utilizó para calcular `mark_hurd_pago` y utilícela como expresión de retorno de la siguiente función. Pero asegúrese de reemplazar el `mark_hurd_pago_string` específico con el nombre genérico `pago_string`, especificado en la primera línea de la declaración `def`.\n",
    "\n",
    "*Sugerencia*: Cuando se trata de funciones, generalmente no se debe hacer referencia a ninguna variable fuera de la función. Por lo general, desea trabajar con los argumentos que se le pasan, como `pago_string` para esta función. Si estás usando `mark_hurd_pago_string` dentro de tu función, ¡estás haciendo referencia a una variable externa!"
   ]
  },
  {
   "cell_type": "code",
   "execution_count": null,
   "id": "00ca5f5a",
   "metadata": {
    "tags": []
   },
   "outputs": [],
   "source": [
    "def convertir_pago_string_en_numero(pago_string):\n",
    "    #Convertir string a float \n",
    "    ....\n",
    "    return ...\n"
   ]
  },
  {
   "cell_type": "code",
   "execution_count": null,
   "id": "5772103a",
   "metadata": {
    "deletable": false,
    "editable": false
   },
   "outputs": [],
   "source": [
    "grader.check(\"q7\")"
   ]
  },
  {
   "cell_type": "markdown",
   "id": "UQFnmv6-LewZ",
   "metadata": {
    "deletable": true,
    "editable": true,
    "id": "UQFnmv6-LewZ"
   },
   "source": [
    "Definir la función llamada `convertir_pago_string_en_numero`, puede convertir cualquier cadena con el formato adecuado en un número que represente millones de dólares.\n",
    "\n",
    "Podemos llamar a nuestra función tal como llamamos a las funciones integradas que hemos visto. En nuestro caso, tomamos un argumento tipo  string, y devuelve un flotante."
   ]
  },
  {
   "cell_type": "code",
   "execution_count": null,
   "id": "2ZnjzqJ9LewZ",
   "metadata": {
    "deletable": true,
    "editable": true,
    "id": "2ZnjzqJ9LewZ"
   },
   "outputs": [],
   "source": [
    "convertir_pago_string_en_numero('$42')"
   ]
  },
  {
   "cell_type": "code",
   "execution_count": null,
   "id": "aaYeBTPKLewZ",
   "metadata": {
    "deletable": true,
    "editable": true,
    "id": "aaYeBTPKLewZ"
   },
   "outputs": [],
   "source": [
    "convertir_pago_string_en_numero(mark_hurd_pago_string)"
   ]
  },
  {
   "cell_type": "code",
   "execution_count": null,
   "id": "VfDI5fw8LewZ",
   "metadata": {
    "deletable": true,
    "editable": true,
    "id": "VfDI5fw8LewZ"
   },
   "outputs": [],
   "source": [
    "# También podemos calcular el salario de Safra Catz de la misma manera:\n",
    "convertir_pago_string_en_numero(raw_compensation.where(\"Name\", are.containing(\"Safra\")).column(\"Total Pay\").item(0))"
   ]
  },
  {
   "cell_type": "markdown",
   "id": "vOupxAPhLewa",
   "metadata": {
    "deletable": true,
    "editable": true,
    "id": "vOupxAPhLewa"
   },
   "source": [
    "Con esta función, no tenemos que copiar el código que convierte una cadena de pago en un número cada vez que queremos convertir una cadena de pago. Ahora simplemente llamamos a una función cuyo nombre dice exactamente lo que está haciendo."
   ]
  },
  {
   "cell_type": "markdown",
   "id": "YCw8_DLMLewa",
   "metadata": {
    "deletable": true,
    "editable": true,
    "id": "YCw8_DLMLewa"
   },
   "source": [
    "## 3. `apply` funciones\n",
    "\n",
    "Definir una función es similar a asignar un valor utilizando `=`. En realidad, una función es un valor, al igual que un número como la definicion del numero en `1` en python,  o la definicion de una  cadena de texto, como el string  \"datos\".\n",
    "\n",
    "Por ejemplo, podemos crear un nuevo nombre para la función incorporada `max` si queremos:"
   ]
  },
  {
   "cell_type": "code",
   "execution_count": null,
   "id": "Ue6IVLjfLewa",
   "metadata": {
    "deletable": true,
    "editable": true,
    "id": "Ue6IVLjfLewa"
   },
   "outputs": [],
   "source": [
    "otro_nombre_para_max = max\n",
    "otro_nombre_para_max(2, 6)"
   ]
  },
  {
   "cell_type": "markdown",
   "id": "gDLry9bYLewa",
   "metadata": {
    "deletable": true,
    "editable": true,
    "id": "gDLry9bYLewa"
   },
   "source": [
    "El antiguo nombre de \"max\" todavía existe:"
   ]
  },
  {
   "cell_type": "code",
   "execution_count": null,
   "id": "wVu2qySkLewa",
   "metadata": {
    "deletable": true,
    "editable": true,
    "id": "wVu2qySkLewa"
   },
   "outputs": [],
   "source": [
    "max(2, 6)"
   ]
  },
  {
   "cell_type": "markdown",
   "id": "5nKecATTLewa",
   "metadata": {
    "deletable": true,
    "editable": true,
    "id": "5nKecATTLewa"
   },
   "source": [
    "Intente simplemente escribir `max` o `otro_nombre_para_max` (o el nombre de cualquier otra función) en una celda y ejecute esa celda. Python imprimirá una descripción (muy breve) de la función."
   ]
  },
  {
   "cell_type": "code",
   "execution_count": null,
   "id": "HHprPikbLewb",
   "metadata": {
    "deletable": true,
    "editable": true,
    "id": "HHprPikbLewb"
   },
   "outputs": [],
   "source": [
    "max"
   ]
  },
  {
   "cell_type": "markdown",
   "id": "AnURn73tLewb",
   "metadata": {
    "deletable": true,
    "editable": true,
    "id": "AnURn73tLewb"
   },
   "source": [
    "Ahora intenta escribir `max?` o `otro_nombre_para_max?` (o el nombre de cualquier otra función) en una celda y ejecuta esa celda. Debería aparecer un cuadro de información en la parte inferior de la pantalla con una descripción más larga de la función.\n",
    "\n",
    "*Nota: ¡También puedes presionar Shift+Tab después de hacer clic en un nombre para ver información similar!*"
   ]
  },
  {
   "cell_type": "code",
   "execution_count": null,
   "id": "felRg5mqLewb",
   "metadata": {
    "deletable": true,
    "editable": true,
    "id": "felRg5mqLewb"
   },
   "outputs": [],
   "source": [
    "otro_nombre_para_max?"
   ]
  },
  {
   "cell_type": "markdown",
   "id": "2qXfEr2jLewb",
   "metadata": {
    "deletable": true,
    "editable": true,
    "id": "2qXfEr2jLewb"
   },
   "source": [
    "Veamos qué sucede cuando configuramos \"max\" en un valor que no es función. Python ahora cree que estás intentando utilizar un número como una función, lo que provoca un error. Esté atento a las funciones a las que se les haya cambiado el nombre cuando encuentre este tipo de error."
   ]
  },
  {
   "cell_type": "code",
   "execution_count": null,
   "id": "AO2olHwALewb",
   "metadata": {
    "deletable": true,
    "editable": true,
    "id": "AO2olHwALewb",
    "tags": [
     "raises-exception"
    ]
   },
   "outputs": [],
   "source": [
    "max = 6\n",
    "max(2, 6)"
   ]
  },
  {
   "cell_type": "code",
   "execution_count": null,
   "id": "2P9NICKJLewb",
   "metadata": {
    "deletable": true,
    "editable": true,
    "id": "2P9NICKJLewb"
   },
   "outputs": [],
   "source": [
    "# Esta celda restablece max a la función incorporada. Simplemente ejecuta esta celda, no cambies su contenido.\n",
    "import builtins\n",
    "max = builtins.max"
   ]
  },
  {
   "cell_type": "markdown",
   "id": "u_v66_S3Lewb",
   "metadata": {
    "deletable": true,
    "editable": true,
    "id": "u_v66_S3Lewb"
   },
   "source": [
    "¿Por qué es esto útil? Como las funciones son sólo valores, es posible pasarlas como argumentos a otras funciones. Aquí hay un ejemplo simple pero no tan práctico: podemos crear una serie de funciones."
   ]
  },
  {
   "cell_type": "code",
   "execution_count": null,
   "id": "7HyQpQ0gLewc",
   "metadata": {
    "deletable": true,
    "editable": true,
    "id": "7HyQpQ0gLewc"
   },
   "outputs": [],
   "source": [
    "make_array(max, np.average, are.equal_to)"
   ]
  },
  {
   "cell_type": "markdown",
   "id": "U6SToOdfLewc",
   "metadata": {
    "deletable": false,
    "editable": false,
    "id": "U6SToOdfLewc"
   },
   "source": [
    "**Pregunta 3.1.** Crea una arreglo que contenga otras 3 funciones cualesquiera que hayas visto. Llámelo \"algunas_funciones\", la longitud de este arreglo deberá ser seis"
   ]
  },
  {
   "cell_type": "code",
   "execution_count": null,
   "id": "a2108859",
   "metadata": {
    "tags": []
   },
   "outputs": [],
   "source": [
    "algunas_funciones = ..."
   ]
  },
  {
   "cell_type": "code",
   "execution_count": null,
   "id": "77a5ef2b",
   "metadata": {
    "deletable": false,
    "editable": false
   },
   "outputs": [],
   "source": [
    "grader.check(\"q8\")"
   ]
  },
  {
   "cell_type": "markdown",
   "id": "gE2JIiE6Lewc",
   "metadata": {
    "deletable": true,
    "editable": true,
    "id": "gE2JIiE6Lewc"
   },
   "source": [
    "Trabajar con funciones como valores puede generar un código de aspecto extraño. Por ejemplo, vea si puede descubrir por qué funciona el siguiente código."
   ]
  },
  {
   "cell_type": "code",
   "execution_count": null,
   "id": "AXQ9m2AhLewc",
   "metadata": {
    "deletable": true,
    "editable": true,
    "id": "AXQ9m2AhLewc"
   },
   "outputs": [],
   "source": [
    "make_array(max, np.average, are.equal_to).item(0)(4, -2, 7)"
   ]
  },
  {
   "cell_type": "markdown",
   "id": "Y-WyhnG6Lewd",
   "metadata": {
    "deletable": true,
    "editable": true,
    "id": "Y-WyhnG6Lewd"
   },
   "source": [
    "Un ejemplo más útil de pasar funciones a otras funciones como argumentos es el método de tabla \"apply\".\n",
    "\n",
    "`apply` llama a una función muchas veces, una vez en *cada* elemento en una columna de una tabla. Produce un *arreglo* de los resultados. Aquí usamos \"apply\" para convertir el pago de cada CEO a un número, usando la función que definiste:\n",
    "\n",
    "*Nota:* Verá una serie de números como `5.325e+07`. Esta es la forma en que Python representa la **notación científica**. Interpretamos \"5.325e+07\" como \"5.325 * 10**7\", o \"53.250.000\"."
   ]
  },
  {
   "cell_type": "code",
   "execution_count": null,
   "id": "rwhYm0_GLewd",
   "metadata": {
    "deletable": true,
    "editable": true,
    "id": "rwhYm0_GLewd"
   },
   "outputs": [],
   "source": [
    "raw_compensation.apply(convertir_pago_string_en_numero, \"Total Pay\")"
   ]
  },
  {
   "cell_type": "code",
   "execution_count": null,
   "id": "f5aa85f3-3015-446d-aba2-dd8b1a3ff431",
   "metadata": {},
   "outputs": [],
   "source": [
    "raw_compensation.to_csv(\"figure.xlsx\")"
   ]
  },
  {
   "cell_type": "markdown",
   "id": "Z-QBa8GkLewd",
   "metadata": {
    "deletable": false,
    "editable": false,
    "id": "Z-QBa8GkLewd"
   },
   "source": [
    "Aquí hay una ilustración de lo que eso hizo:\n",
    "\n",
    "<img src=\"apply_v1.png\"/>\n",
    "\n",
    "Tenga en cuenta que no escribimos `raw_compensation.apply(convertir_pago_string_en_numero(), “Total Pay”)` o `raw_compensation.apply(convertir_pago_string_en_numero(“Total Pay”))`. Simplemente pasamos el nombre de la función, sin paréntesis, a \"aplicar\", porque todo lo que queremos hacer es que \"aplicar\" sepa el nombre de la función que nos gustaría usar y el nombre de la columna que Me gusta usarlo. ¡`apply` luego llamará a la función `convertir_pago_string_en_numero` en cada valor de la columna por nosotros! También tenga en cuenta que llamar a `tbl.apply` ___no___ altera la tabla original de ninguna manera.\n",
    "\n",
    "\n",
    "\n",
    "**Pregunta 3.2.** Usando `apply`, cree una tabla que sea una copia de `raw_compensation` con una columna adicional llamada `Total Pay ($)`. Esa columna debe contener el resultado de aplicar `convertir_pago_string_en_numero` a la columna `Total Pay` (como hicimos anteriormente). Llame a la nueva tabla \"remuneracion\".\n"
   ]
  },
  {
   "cell_type": "code",
   "execution_count": null,
   "id": "71b94ea5",
   "metadata": {
    "tags": []
   },
   "outputs": [],
   "source": [
    "remuneracion = ..."
   ]
  },
  {
   "cell_type": "code",
   "execution_count": null,
   "id": "3ec31576",
   "metadata": {
    "deletable": false,
    "editable": false
   },
   "outputs": [],
   "source": [
    "grader.check(\"q9\")"
   ]
  },
  {
   "cell_type": "markdown",
   "id": "MrLyYoEWLewe",
   "metadata": {
    "deletable": true,
    "editable": true,
    "id": "MrLyYoEWLewe"
   },
   "source": [
    "Ahora que tenemos todos los pagos como números, podemos aprender más sobre ellos mediante el cálculo."
   ]
  },
  {
   "cell_type": "markdown",
   "id": "Cg9U3JjjLewe",
   "metadata": {
    "deletable": false,
    "editable": false,
    "id": "Cg9U3JjjLewe"
   },
   "source": [
    "**Pregunta 3.3.** Calcule el salario total promedio de los directores ejecutivos en el conjunto de datos, llama esta variable `salario_promedio`\n"
   ]
  },
  {
   "cell_type": "code",
   "execution_count": null,
   "id": "81ddfc03",
   "metadata": {
    "tags": []
   },
   "outputs": [],
   "source": [
    "salario_promedio = ..."
   ]
  },
  {
   "cell_type": "code",
   "execution_count": null,
   "id": "0d49a07d",
   "metadata": {
    "deletable": false,
    "editable": false
   },
   "outputs": [],
   "source": [
    "grader.check(\"q10\")"
   ]
  },
  {
   "cell_type": "markdown",
   "id": "kLfI1F7yLewf",
   "metadata": {
    "deletable": false,
    "editable": false,
    "id": "kLfI1F7yLewf"
   },
   "source": [
    "**Pregunta 3.4** Las empresas pagan a los ejecutivos de diversas formas: en efectivo, otorgándoles acciones u otro capital de la empresa, o con beneficios auxiliares (como jets privados). Calcule la proporción del pago de cada director ejecutivo que fue en efectivo (ver columna \"Cash Pay\"). (Su respuesta debería ser una serie de números tipo arreglo de numpy, uno para cada director ejecutivo en el conjunto de datos). Llame este arreglo `col_prop`\n",
    "\n",
    "A partir de la tabla raw_compensation, calcular un arreglo que contenga, para cada director ejecutivo, la proporción de su compensación que fue pagada en efectivo. Esta proporción se calcula como:\n",
    "\\begin{equation}\n",
    "\\mathrm{Proporcion\\ en\\ Efectivo} =\\frac{\\mathrm{Cash\\ Pay}}{\\mathrm{Total\\  Pay}}\n",
    "\\end{equation}\n",
    " \n",
    "Tu resultado final debe ser un arreglo de NumPy llamado col_prop.\n",
    "\n",
    "*Pista:* ¿Qué función has definido que puede convertir una cadena en un número?\n"
   ]
  },
  {
   "cell_type": "code",
   "execution_count": null,
   "id": "787897ff",
   "metadata": {
    "tags": []
   },
   "outputs": [],
   "source": [
    "...\n",
    "...\n",
    "col_prop = ..."
   ]
  },
  {
   "cell_type": "code",
   "execution_count": null,
   "id": "55eae2a3",
   "metadata": {
    "deletable": false,
    "editable": false
   },
   "outputs": [],
   "source": [
    "grader.check(\"q11\")"
   ]
  },
  {
   "cell_type": "markdown",
   "id": "mDHG5fJVLewf",
   "metadata": {
    "deletable": true,
    "editable": true,
    "for_assignment_type": "solution",
    "id": "mDHG5fJVLewf"
   },
   "source": [
    "**¿Por qué es útil `apply`?**\n",
    "\n",
    "Para operaciones como aritmética o las funciones en la biblioteca de NumPy, no necesitas usar `apply`, ya que estas funcionan automáticamente en cada elemento de un arreglo. Sin embargo, hay muchas otras operaciones que no lo hacen. La manipulación de cadenas que hicimos en el laboratorio de hoy es un ejemplo. Como puedes escribir cualquier código que desees dentro de una función, `apply` te da un mayor control sobre cómo operas con los datos."
   ]
  },
  {
   "cell_type": "code",
   "execution_count": null,
   "id": "3be03227-f676-435b-9d20-15f966e93065",
   "metadata": {
    "deletable": false,
    "editable": false
   },
   "outputs": [],
   "source": [
    "remuneracion"
   ]
  },
  {
   "cell_type": "markdown",
   "id": "ImY6bT0MLewf",
   "metadata": {
    "deletable": false,
    "editable": false,
    "id": "ImY6bT0MLewf"
   },
   "source": [
    "Consulta la columna \"% Change\" en la tabla `remuneracion`. Esta columna muestra el aumento porcentual en la remuneración del director ejecutivo con respecto al año anterior. Para los directores ejecutivos que no tienen ningún año anterior registrado, en su lugar aparece \"(No previous year)\". Los valores en esta columna son *strings*, no números, por lo que, al igual que la columna \"Total Pay\", no se pueden utilizar directamente sin un poco de procesamiento adicional.\n",
    "\n",
    "Dado el salario actual y el aumento porcentual del año anterior, es posible calcular el salario del año anterior. Por ejemplo, si el salario actual es \\$120, y este representa un aumento del 50 % respecto al año anterior, entonces el salario del año anterior sería:\n",
    "\n",
    "\\begin{equation}\n",
    "\\frac{\\$120}{1 + \\frac{50}{100}} = \\$80\n",
    "\\end{equation}\n",
    "\n",
    "**Pregunta 3.5**\n",
    "\n",
    "Crea una nueva tabla llamada `con_remuneracion_anterior`. Esta tabla debe ser una copia de `remuneracion`, pero con los directores ejecutivos que no tienen un año anterior registrado (\"(No previous year)\") filtrados. Además, debe incluir una columna adicional llamada **\"Total Pay 2014 ($)\"**, que contenga la remuneración de cada director ejecutivo en 2014.\n",
    "\n",
    "*Pista 1:* \n",
    "Imprime tus resultados después de cada paso para verificar que estés en el camino correcto.\n",
    "\n",
    "*Pista 2:* \n",
    "Te hemos proporcionado una estructura que puedes utilizar para llegar a la respuesta. Sin embargo, si te resulta confusa, no dudes en modificarla o abordarla de una manera diferente.\n"
   ]
  },
  {
   "cell_type": "code",
   "execution_count": null,
   "id": "89bde0c9",
   "metadata": {
    "tags": []
   },
   "outputs": [],
   "source": [
    "def porcentaje_a_numero(cadena_porcentaje):\n",
    "    #Convierte una cadena de porcentaje en un número.\n",
    "    ...\n",
    "    return ...\n",
    "\n",
    "# Filtrar la tabla para obtener solo los directores ejecutivos que tienen datos del año anterior\n",
    "con_anio_anterior = ... \n",
    "\n",
    "# Convertir los valores de % Change a números\n",
    "cambios_porcentuales = ...\n",
    "\n",
    "# Calcular el salario del año anterior\n",
    "salario_anterior = con_anio_anterior.column(\"Total Pay ($)\") / (1 + (cambios_porcentuales / 100))\n",
    "\n",
    "# Añadir la nueva columna \"Pago total de 2014 ($)\" a la tabla\n",
    "con_remuneracion_anterior = con_anio_anterior.with_column(\"Pago total de 2014 ($)\", salario_anterior)\n",
    "\n",
    "\n"
   ]
  },
  {
   "cell_type": "code",
   "execution_count": null,
   "id": "f4f2f725",
   "metadata": {
    "deletable": false,
    "editable": false
   },
   "outputs": [],
   "source": [
    "grader.check(\"q12\")"
   ]
  },
  {
   "cell_type": "markdown",
   "id": "nYFLcT_DLewg",
   "metadata": {
    "deletable": false,
    "editable": false,
    "id": "nYFLcT_DLewg"
   },
   "source": [
    "**Pregunta 3.6**\n",
    "Determina la remuneración media en 2014 de los CEOs que aparecen en la tabla `con_remuneracion_anterior`. Asigna este valor a la variable `remuneracion_promedio_2014`.\n"
   ]
  },
  {
   "cell_type": "code",
   "execution_count": null,
   "id": "c598df77",
   "metadata": {
    "tags": []
   },
   "outputs": [],
   "source": [
    "remuneracion_promedio_2014= ..."
   ]
  },
  {
   "cell_type": "code",
   "execution_count": null,
   "id": "22815d69",
   "metadata": {
    "deletable": false,
    "editable": false
   },
   "outputs": [],
   "source": [
    "grader.check(\"q13\")"
   ]
  },
  {
   "cell_type": "markdown",
   "id": "z4h7r2zgLewh",
   "metadata": {
    "deletable": false,
    "editable": false,
    "id": "z4h7r2zgLewh"
   },
   "source": [
    "## 4. Histogramas\n",
    "Anteriormente, calculamos el salario promedio entre los directores ejecutivos en nuestro conjunto de datos de 102 directores ejecutivos. Sin embargo, el promedio no nos dice todo sobre las cantidades que se les paga a los directores ejecutivos. Quizás sólo unos pocos directores ejecutivos ganen la mayor parte del dinero, incluso entre estos 102.\n",
    "\n",
    "Podemos usar un método de *histograma* para mostrar la *distribución* de un conjunto de números. El método de tabla `hist` toma un único argumento, el nombre de una columna de números. Produce un histograma de los números en esa columna.\n",
    "\n",
    "**Pregunta 4.1.** Haga un histograma del salario total de los CEO en `remuneracion`. Consulte con un compañero o instructor para asegurarse de tener la instrucción  correcta. *Si recibes una advertencia, ignórala.*\n",
    "\n",
    "*Sugerencia:* Si no está seguro de cómo crear un histograma, consulte la [hoja de referencia de Python](https://www.data8.org/fa23/reference/)."
   ]
  },
  {
   "cell_type": "code",
   "execution_count": null,
   "id": "cd49a2db",
   "metadata": {
    "tags": []
   },
   "outputs": [],
   "source": [
    "...."
   ]
  },
  {
   "cell_type": "code",
   "execution_count": null,
   "id": "e59daac6",
   "metadata": {
    "deletable": false,
    "editable": false
   },
   "outputs": [],
   "source": [
    "grader.check(\"q14\")"
   ]
  },
  {
   "cell_type": "markdown",
   "id": "qn54b304Lewh",
   "metadata": {
    "deletable": false,
    "editable": false,
    "id": "qn54b304Lewh"
   },
   "source": [
    "**Pregunta 4.2.** ¿Cuántos directores ejecutivos ganaron más de $30 millones en salario total? Encuentre el valor usando el código, luego verifique que el valor que encontró sea consistente con lo que ve en el histograma."
   ]
  },
  {
   "cell_type": "code",
   "execution_count": null,
   "id": "8d851bb8",
   "metadata": {
    "tags": []
   },
   "outputs": [],
   "source": [
    "ceos_mas_de_30_millones=..."
   ]
  },
  {
   "cell_type": "code",
   "execution_count": null,
   "id": "b36bfe00",
   "metadata": {
    "deletable": false,
    "editable": false
   },
   "outputs": [],
   "source": [
    "grader.check(\"q15\")"
   ]
  },
  {
   "cell_type": "markdown",
   "id": "ewBPzRtlLewh",
   "metadata": {
    "deletable": true,
    "editable": true,
    "id": "ewBPzRtlLewh",
    "tags": []
   },
   "source": [
    "<img src=\"https://github.com/darioblandon/materials-fa23/blob/main/lab/lab04/toby.png?raw=1\" alt=\"Photo of small dog being pet\" width=\"30%\"/>\n",
    "\n",
    "**Toby** está emocionado de que el sol vuelva a brillar. Ahora que has terminado el laboratorio 4, ¡puedes relajarte en el Claro con él!"
   ]
  },
  {
   "cell_type": "markdown",
   "id": "IIiIGWc7Lewi",
   "metadata": {
    "deletable": true,
    "editable": true,
    "id": "IIiIGWc7Lewi"
   },
   "source": [
    "\n",
    "---\n",
    "\n",
    "¡Terminaste con el laboratorio!\n",
    "\n",
    "**Información importante sobre el envío:**\n",
    "- **Ejecuta todas las pruebas** y verifica que todas pasan\n",
    "- **Guardar** desde el menú **Archivo**\n",
    "- **Ejecute la celda final **\n",
    "- Luego, ve a este [enlace](https://cienciadatosudea.github.io/001_SitioWebFundCienciaDatos/04entregas.html) y envía el archivo ipynb a la tarea correspondiente. El nombre de esta tarea es \"Lab XX Autograder\", donde XX es el número de laboratorio: 01, 02, 03, etc.\n",
    "\n",
    "- Si terminas temprano en el laboratorio regular, **registra tu asistencia con el instructor**.\n",
    "\n",
    "**Es su responsabilidad asegurarse de que su trabajo esté guardado antes de ejecutar la última celda.**\n",
    "\n",
    "`Referencia`: Este material esta basado en [Data 8: The Foundations of Data Science](https://www.data8.org/) - University of California, Berkeley.\n"
   ]
  },
  {
   "cell_type": "markdown",
   "id": "7ABzQ61WLewi",
   "metadata": {
    "deletable": true,
    "editable": true,
    "id": "7ABzQ61WLewi"
   },
   "source": [
    "Asegúrese de haber ejecutado todas las celdas de su cuaderno en orden antes de ejecutar la siguiente celda, para que todas las imágenes/gráficos aparezcan en el resultado. La siguiente celda generará un archivo zip para que lo envíe. **¡Guarde antes de exportar!**"
   ]
  },
  {
   "cell_type": "markdown",
   "id": "238c8aa4",
   "metadata": {
    "deletable": false,
    "editable": false
   },
   "source": [
    "## Submission\n",
    "\n",
    "Make sure you have run all cells in your notebook in order before running the cell below, so that all images/graphs appear in the output. The cell below will generate a zip file for you to submit. **Please save before exporting!**\n",
    "\n",
    "These are some submission instructions."
   ]
  },
  {
   "cell_type": "code",
   "execution_count": null,
   "id": "b464dcea",
   "metadata": {
    "deletable": false,
    "editable": false
   },
   "outputs": [],
   "source": [
    "# Save your notebook first, then run this cell to export your submission.\n",
    "grader.export(run_tests=True)"
   ]
  },
  {
   "cell_type": "markdown",
   "id": "deee3f42",
   "metadata": {},
   "source": [
    " "
   ]
  }
 ],
 "metadata": {
  "colab": {
   "include_colab_link": true,
   "provenance": []
  },
  "kernelspec": {
   "display_name": "Python 3 (ipykernel)",
   "language": "python",
   "name": "python3"
  },
  "language_info": {
   "codemirror_mode": {
    "name": "ipython",
    "version": 3
   },
   "file_extension": ".py",
   "mimetype": "text/x-python",
   "name": "python",
   "nbconvert_exporter": "python",
   "pygments_lexer": "ipython3",
   "version": "3.10.14"
  },
  "otter": {
   "OK_FORMAT": true,
   "assignment_name": "lab04",
   "tests": {
    "q0": {
     "name": "q0",
     "points": 1,
     "suites": [
      {
       "cases": [
        {
         "code": ">>> def test_a_porcentaje():\n...     assert a_porcentaje(0.2) == 20, 'Error: La conversión de 0.2 no dio 20 como resultado.'\n...     assert a_porcentaje(0.5) == 50, 'Error: La conversión de 0.5 no dio 50 como resultado.'\n...     assert a_porcentaje(1) == 100, 'Error: La conversión de 1 no dio 100 como resultado.'\n...     assert isinstance(veinte_por_ciento, (int, float)), \"Error: 'veinte_por_ciento' debe ser un número.\"\n>>> test_a_porcentaje()\n",
         "hidden": false,
         "locked": false
        }
       ],
       "scored": true,
       "setup": "",
       "teardown": "",
       "type": "doctest"
      }
     ]
    },
    "q1": {
     "name": "q1",
     "points": 1,
     "suites": [
      {
       "cases": [
        {
         "code": ">>> def test_calculo_porcentaje():\n...     assert np.isclose(a_porcentaje(2 ** 0.5 / 2), calculo_porcentaje, 0.001)\n...     assert isinstance(calculo_porcentaje, (int, float)), \"Error: 'calculo_porcentaje' debe ser un número.\"\n>>> test_calculo_porcentaje()\n",
         "hidden": false,
         "locked": false
        }
       ],
       "scored": true,
       "setup": "",
       "teardown": "",
       "type": "doctest"
      }
     ]
    },
    "q10": {
     "name": "q10",
     "points": 1,
     "suites": [
      {
       "cases": [
        {
         "code": ">>> def test_salario_total_promedio():\n...     assert abs(salario_promedio - 11558613.861386139) < 1e-06, 'Error: El salario total promedio no es el esperado.'\n>>> test_salario_total_promedio()\n",
         "hidden": false,
         "locked": false
        }
       ],
       "scored": true,
       "setup": "",
       "teardown": "",
       "type": "doctest"
      }
     ]
    },
    "q11": {
     "name": "q11",
     "points": 3,
     "suites": [
      {
       "cases": [
        {
         "code": ">>> def test_proporcion_pago_efectivo():\n...     assert len(col_prop) == 101, \"Error: La longitud de 'col_prop' no es 101.\"\n...     promedio_col_prop = sum(col_prop) / len(col_prop)\n...     assert abs(promedio_col_prop - 0.358) < 0.01, \"Error: El promedio de 'col_prop' no es el esperado.\"\n>>> test_proporcion_pago_efectivo()\n",
         "hidden": false,
         "locked": false
        }
       ],
       "scored": true,
       "setup": "",
       "teardown": "",
       "type": "doctest"
      }
     ]
    },
    "q12": {
     "name": "q12",
     "points": 2,
     "suites": [
      {
       "cases": [
        {
         "code": ">>> def test_promedio_pago_total_2014():\n...     promedio_2014 = np.mean(con_remuneracion_anterior.column('Total Pay 2014 ($)'))\n...     assert abs(promedio_2014 - 11794790.817048479) < 1e-06, \"Error: El promedio de 'Pago total de 2014 ($)' no es el esperado.\"\n>>> test_promedio_pago_total_2014()\n",
         "hidden": false,
         "locked": false
        }
       ],
       "scored": true,
       "setup": "",
       "teardown": "",
       "type": "doctest"
      }
     ]
    },
    "q13": {
     "name": "q13",
     "points": 1,
     "suites": [
      {
       "cases": [
        {
         "code": ">>> def test_promedio_pago_total_2014():\n...     assert abs(remuneracion_promedio_2014 - 11794790.817048479) < 1e-06, \"Error: El promedio de 'Pago total de 2014 ($)' no es el esperado.\"\n>>> test_promedio_pago_total_2014()\n",
         "hidden": false,
         "locked": false
        }
       ],
       "scored": true,
       "setup": "",
       "teardown": "",
       "type": "doctest"
      }
     ]
    },
    "q14": {
     "name": "q14",
     "points": 1,
     "suites": [
      {
       "cases": [
        {
         "code": ">>> def test_histograma_total_pay():\n...     assert 'Total Pay ($)' in remuneracion.labels, \"Error: La columna 'Total Pay ($)' no existe en la tabla.\"\n...     assert remuneracion.num_rows > 0, \"Error: La columna 'Total Pay ($)' no tiene datos.\"\n...     for valor in remuneracion.column('Total Pay ($)'):\n...         assert isinstance(valor, (int, float)), \"Error: La columna 'Total Pay ($)' contiene un valor no numérico.\"\n>>> test_histograma_total_pay()\n",
         "hidden": false,
         "locked": false
        }
       ],
       "scored": true,
       "setup": "",
       "teardown": "",
       "type": "doctest"
      }
     ]
    },
    "q15": {
     "name": "q15",
     "points": 1,
     "suites": [
      {
       "cases": [
        {
         "code": ">>> def test_ceos_mas_de_30_millones():\n...     assert ceos_mas_de_30_millones > 0, 'Error: No se encontraron directores ejecutivos con más de $30 millones en salario.'\n...     assert ceos_mas_de_30_millones == 5, 'Error: No se encontraron directores ejecutivos con más de $30 millones en salario.'\n...     assert isinstance(ceos_mas_de_30_millones, int), 'Error: La cantidad de directores ejecutivos no es un número entero.'\n>>> test_ceos_mas_de_30_millones()\n",
         "hidden": false,
         "locked": false
        }
       ],
       "scored": true,
       "setup": "",
       "teardown": "",
       "type": "doctest"
      }
     ]
    },
    "q2": {
     "name": "q2",
     "points": 1,
     "suites": [
      {
       "cases": [
        {
         "code": ">>> def test_num_sin_vocales():\n...     assert num_sin_vocales('prueba de funcion') == 10, 'Error: El número de caracteres sin vocales no es correcto.'\n...     assert num_sin_vocales('hola') == 2, 'Error: El número de caracteres sin vocales no es correcto.'\n...     assert num_sin_vocales('aeiou') == 0, 'Error: El número de caracteres sin vocales no es correcto.'\n...     assert num_sin_vocales('') == 0, 'Error: El número de caracteres sin vocales en una cadena vacía debe ser 0.'\n>>> test_num_sin_vocales()\n",
         "hidden": false,
         "locked": false
        }
       ],
       "scored": true,
       "setup": "",
       "teardown": "",
       "type": "doctest"
      }
     ]
    },
    "q3": {
     "name": "q3",
     "points": 0,
     "suites": [
      {
       "cases": [
        {
         "code": ">>> assert callable(imprimir_anio_k_mayor_taquilla)\n",
         "hidden": false,
         "locked": false
        }
       ],
       "scored": true,
       "setup": "",
       "teardown": "",
       "type": "doctest"
      }
     ]
    },
    "q4": {
     "name": "q4",
     "points": 1,
     "suites": [
      {
       "cases": [
        {
         "code": ">>> assert tipo_pago_total == str\n",
         "hidden": false,
         "locked": false
        }
       ],
       "scored": true,
       "setup": "",
       "teardown": "",
       "type": "doctest"
      }
     ]
    },
    "q5": {
     "name": "q5",
     "points": 1,
     "suites": [
      {
       "cases": [
        {
         "code": ">>> assert mark_hurd_pago_string == '$53.25 '\n",
         "hidden": false,
         "locked": false
        }
       ],
       "scored": true,
       "setup": "",
       "teardown": "",
       "type": "doctest"
      }
     ]
    },
    "q6": {
     "name": "q6",
     "points": 1,
     "suites": [
      {
       "cases": [
        {
         "code": ">>> assert mark_hurd_pago == 53250000.0\n",
         "hidden": false,
         "locked": false
        }
       ],
       "scored": true,
       "setup": "",
       "teardown": "",
       "type": "doctest"
      }
     ]
    },
    "q7": {
     "name": "q7",
     "points": 1,
     "suites": [
      {
       "cases": [
        {
         "code": ">>> def test_convertir_pago_string_en_numero():\n...     assert convertir_pago_string_en_numero('$53.25 ') == 53250000, \"Error: La conversión no fue correcta para '$53.25 '.\"\n...     assert convertir_pago_string_en_numero('$100.00 ') == 100000000, \"Error: La conversión no fue correcta para '$100.00 '.\"\n...     assert convertir_pago_string_en_numero(' $75.50 ') == 75500000, \"Error: La conversión no fue correcta para ' $75.50 '.\"\n>>> test_convertir_pago_string_en_numero()\n",
         "hidden": false,
         "locked": false
        }
       ],
       "scored": true,
       "setup": "",
       "teardown": "",
       "type": "doctest"
      }
     ]
    },
    "q8": {
     "name": "q8",
     "points": 1,
     "suites": [
      {
       "cases": [
        {
         "code": ">>> def test_algunas_funciones_son_funciones():\n...     for func in algunas_funciones:\n...         assert callable(func), f'Error: El elemento {func} no es una función.'\n>>> test_algunas_funciones_son_funciones()\n",
         "hidden": false,
         "locked": false
        }
       ],
       "scored": true,
       "setup": "",
       "teardown": "",
       "type": "doctest"
      }
     ]
    },
    "q9": {
     "name": "q9",
     "points": 1,
     "suites": [
      {
       "cases": [
        {
         "code": ">>> def test_remuneracion():\n...     assert remuneracion.column('Total Pay ($)').item(0) == 53250000, \"Error: El valor de 'Total Pay ($)' no es correcto para el primer elemento.\"\n...     assert remuneracion.column('Total Pay ($)').item(1) == 53240000, \"Error: El valor de 'Total Pay ($)' no es correcto para el segundo elemento.\"\n...     assert remuneracion.column('Total Pay ($)').item(4) == 33360000, \"Error: El valor de 'Total Pay ($)' no es correcto para el segundo elemento.\"\n...     assert 'Total Pay ($)' in remuneracion.labels, \"Error: La columna 'Total Pay ($)' no está en los labels de la tabla.\"\n>>> test_remuneracion()\n",
         "hidden": false,
         "locked": false
        }
       ],
       "scored": true,
       "setup": "",
       "teardown": "",
       "type": "doctest"
      }
     ]
    }
   }
  }
 },
 "nbformat": 4,
 "nbformat_minor": 5
}
