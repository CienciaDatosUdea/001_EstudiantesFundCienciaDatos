{
 "cells": [
  {
   "cell_type": "markdown",
   "id": "ddd19cf1-5b39-48df-bb12-382abbeb3e7f",
   "metadata": {},
   "source": [
    "# Iteración"
   ]
  },
  {
   "cell_type": "code",
   "execution_count": 1,
   "id": "0db2e867-f114-4a7f-bc01-13b07e4c91f8",
   "metadata": {},
   "outputs": [],
   "source": [
    "import numpy as np\n",
    "from datascience import *\n",
    "import matplotlib.pylab as plots\n",
    "plots.style.use('fivethirtyeight')\n",
    "%matplotlib inline\n"
   ]
  },
  {
   "attachments": {
    "699c3547-2382-4b21-b3b1-d20558335885.png": {
     "image/png": "[encoded data removed]"
    },
    "d934cbd7-c7e5-43cb-b4ed-b879631bdf41.png": {
     "image/png": "[encoded data removed]"
    }
   },
   "cell_type": "markdown",
   "id": "aa7e4b03-c272-4dc3-9c1e-e819c72a7a9b",
   "metadata": {},
   "source": [
    "![image.png](attachment:d934cbd7-c7e5-43cb-b4ed-b879631bdf41.png)![image.png](attachment:699c3547-2382-4b21-b3b1-d20558335885.png)"
   ]
  },
  {
   "cell_type": "code",
   "execution_count": 2,
   "id": "df1e6325-87c8-4f32-bd3a-b5fbfb52505a",
   "metadata": {},
   "outputs": [],
   "source": [
    "animales = make_array('cat', 'dog', 'rabbit')"
   ]
  },
  {
   "cell_type": "code",
   "execution_count": 3,
   "id": "4a30853b-6c8c-4fc8-901e-e77aca2fed94",
   "metadata": {},
   "outputs": [
    {
     "name": "stdout",
     "output_type": "stream",
     "text": [
      "cat\n",
      "dog\n",
      "rabbit\n"
     ]
    }
   ],
   "source": [
    "for animal in make_array('cat', 'dog', 'rabbit'):\n",
    "    print(animal)"
   ]
  },
  {
   "cell_type": "code",
   "execution_count": 4,
   "id": "47564d46-9b9f-4fed-95f5-80556a80cfc4",
   "metadata": {},
   "outputs": [
    {
     "name": "stdout",
     "output_type": "stream",
     "text": [
      "cat\n",
      "dog\n",
      "rabbit\n"
     ]
    }
   ],
   "source": [
    "for animal in animales:\n",
    "    print(animal)"
   ]
  },
  {
   "cell_type": "code",
   "execution_count": 5,
   "id": "2ed908df-5469-4c1c-8f36-6f88c2bdd713",
   "metadata": {},
   "outputs": [
    {
     "name": "stdout",
     "output_type": "stream",
     "text": [
      "cat\n",
      "dog\n",
      "rabbit\n"
     ]
    }
   ],
   "source": [
    "animal = make_array('cat', 'dog', 'rabbit').item(0)\n",
    "print(animal)\n",
    "\n",
    "animal = make_array('cat', 'dog', 'rabbit').item(1)\n",
    "print(animal)\n",
    "\n",
    "\n",
    "animal = make_array('cat', 'dog', 'rabbit').item(2)\n",
    "print(animal)\n"
   ]
  },
  {
   "cell_type": "markdown",
   "id": "6ff4544d-479a-40ab-a8bd-375b4347f30d",
   "metadata": {},
   "source": [
    "## Aumentar valores dentro del ciclo for"
   ]
  },
  {
   "cell_type": "code",
   "execution_count": 6,
   "id": "a1d765d0-9065-4cf9-9827-2b9c6e69fb47",
   "metadata": {},
   "outputs": [
    {
     "data": {
      "text/plain": [
       "array(['Gato', 'Perro', 'Otra mascota'],\n",
       "      dtype='<U12')"
      ]
     },
     "execution_count": 6,
     "metadata": {},
     "output_type": "execute_result"
    }
   ],
   "source": [
    "mascotas = make_array('Gato', 'Perro')\n",
    "np.append(mascotas, 'Otra mascota')"
   ]
  },
  {
   "cell_type": "markdown",
   "id": "8942b892-b656-450d-9791-18fe185760ff",
   "metadata": {},
   "source": [
    "*Ejercicios de clase* : Agregar las mascotas  \"loro\", y \"conejo\" a la variable mascotas"
   ]
  },
  {
   "cell_type": "code",
   "execution_count": 7,
   "id": "0f1794fb-d339-4e7d-9ea3-b113f861a30f",
   "metadata": {},
   "outputs": [
    {
     "data": {
      "text/plain": [
       "Ellipsis"
      ]
     },
     "execution_count": 7,
     "metadata": {},
     "output_type": "execute_result"
    }
   ],
   "source": [
    "..."
   ]
  },
  {
   "cell_type": "markdown",
   "id": "77ae8ca7-67b7-4cc2-b9d0-5d1369eae4a7",
   "metadata": {},
   "source": [
    "\n",
    "Crea una función llamada `dados_apuesta` que simule una apuesta simple utilizando un dado modificado. Esta función no acepta argumentos y devuelve un valor basado en un resultado aleatorio:\n",
    "\n",
    "- Genera un número aleatorio entre 1 y 5 representando el resultado de lanzar este dado.\n",
    "\n",
    "```python \n",
    "x = np.random.choice(np.arange(1,6))\n",
    "```\n",
    "- Si el resultado es 1 o 2, la función devuelve \\(-1\\), indicando una pérdida.\n",
    "- Si el resultado es 3 o 4, devuelve \\(0\\), indicando que no hay ganancia ni pérdida.\n",
    "- Si el resultado es 5, devuelve \\(1\\), indicando una ganancia.\n",
    "\n",
    "La función simula un juego de azar, donde las probabilidades de perder, quedar neutral y ganar son distintas, reflejando un riesgo calculado al realizar la apuesta.\n",
    "\n",
    "\n",
    "Con la funcion datos_apuesta(), construye un cicclo for para almacenar en esta variable\n",
    "1000 tiradas de dados en una  variable llamada salida, construye una tabla y después un gráfico de barras.\n"
   ]
  },
  {
   "cell_type": "code",
   "execution_count": 17,
   "id": "9096d759-d475-4556-98d5-3f15164ee396",
   "metadata": {},
   "outputs": [
    {
     "data": {
      "text/plain": [
       "Ellipsis"
      ]
     },
     "execution_count": 17,
     "metadata": {},
     "output_type": "execute_result"
    }
   ],
   "source": [
    "\n",
    "def dados_apuesta():\n",
    "    ...\n",
    "    ...\n",
    "    ...\n",
    "    ...\n",
    "..."
   ]
  },
  {
   "cell_type": "code",
   "execution_count": 18,
   "id": "409a349d-8d2c-4298-9b3e-6c3f4a2dec00",
   "metadata": {},
   "outputs": [
    {
     "ename": "SyntaxError",
     "evalue": "invalid syntax (1805539695.py, line 1)",
     "output_type": "error",
     "traceback": [
      "\u001b[0;36m  Cell \u001b[0;32mIn[18], line 1\u001b[0;36m\u001b[0m\n\u001b[0;31m    ....\u001b[0m\n\u001b[0m        ^\u001b[0m\n\u001b[0;31mSyntaxError\u001b[0m\u001b[0;31m:\u001b[0m invalid syntax\n"
     ]
    }
   ],
   "source": [
    "...."
   ]
  },
  {
   "cell_type": "code",
   "execution_count": 19,
   "id": "cf870de6-c8f9-4a64-aed4-b2ec94798617",
   "metadata": {},
   "outputs": [
    {
     "data": {
      "text/plain": [
       "Ellipsis"
      ]
     },
     "execution_count": 19,
     "metadata": {},
     "output_type": "execute_result"
    }
   ],
   "source": [
    "..."
   ]
  },
  {
   "cell_type": "markdown",
   "id": "3f06181a-375f-4c1d-9544-b5dffbed9c66",
   "metadata": {},
   "source": [
    "# Simulación \n",
    "\n",
    "La simulación utiliza un ordenador para replicar experimentos físicos, a menudo involucrando el azar. Aquí te presentamos un proceso simplificado para realizar simulaciones:\n",
    "\n",
    "1. **Qué es simular?:**: Decide el tipo de simulación, como el resultado de lanzar una moneda. Cada resultado podría ser cara o sello.\n",
    "\n",
    "2. **Simular un valor**: Encuentra cómo generar un valor para la cantidad elegida. Para una moneda, simular un lanzamiento. A menudo definimos una función para obtener el valor simulado.\n",
    "\n",
    "3. **Número de repeticiones**: Determina cuántas veces repetir la simulación. Por ejemplo, para simular 1000 lanzamientos de moneda, repite 1000 veces.\n",
    "\n",
    "4. **Simulación de múltiples valores**:\n",
    "   - Crea una matriz vacía para almacenar resultados.\n",
    "   - Genera una secuencia de repeticiones con `np.arange(n)`.\n",
    "   - Usa un bucle `for` para cada repetición:\n",
    "     - Simula un valor.\n",
    "     - Añade el valor a la matriz.\n",
    "     - \n",
    "Referencia: https://inferentialthinking.com/chapters/09/3/Simulation.html#"
   ]
  },
  {
   "cell_type": "code",
   "execution_count": 89,
   "id": "13b5c64e-aa85-4986-8e5d-43c487864253",
   "metadata": {},
   "outputs": [],
   "source": [
    "moneda=make_array(\"cara\", \"sello\")"
   ]
  },
  {
   "cell_type": "code",
   "execution_count": 90,
   "id": "3e2de25f-f51f-4164-87b3-7876dd65b5a9",
   "metadata": {},
   "outputs": [],
   "source": [
    "treinta_tiradas =  np.random.choice(moneda, 30)"
   ]
  },
  {
   "cell_type": "code",
   "execution_count": 93,
   "id": "67b365f4-b142-49fc-b353-e304ee66d6f8",
   "metadata": {},
   "outputs": [
    {
     "data": {
      "text/plain": [
       "array([ True,  True,  True, False,  True, False, False,  True, False,\n",
       "       False, False, False, False,  True,  True, False, False,  True,\n",
       "        True,  True, False, False, False,  True, False,  True, False,\n",
       "        True, False, False], dtype=bool)"
      ]
     },
     "execution_count": 93,
     "metadata": {},
     "output_type": "execute_result"
    }
   ],
   "source": [
    "treinta_tiradas==\"sello\""
   ]
  },
  {
   "cell_type": "code",
   "execution_count": 94,
   "id": "fed46bcb-84bc-4c5d-8abf-6290941308bb",
   "metadata": {},
   "outputs": [
    {
     "data": {
      "text/plain": [
       "13"
      ]
     },
     "execution_count": 94,
     "metadata": {},
     "output_type": "execute_result"
    }
   ],
   "source": [
    "np.count_nonzero(treinta_tiradas==\"sello\")"
   ]
  },
  {
   "cell_type": "code",
   "execution_count": 99,
   "id": "5d634daa-4502-427c-96c3-5ddd25706463",
   "metadata": {},
   "outputs": [],
   "source": [
    "numero_caras = np.count_nonzero(treinta_tiradas==\"cara\")"
   ]
  },
  {
   "cell_type": "code",
   "execution_count": 100,
   "id": "fc35855e-704a-4f47-b7d4-458e8f8b165d",
   "metadata": {},
   "outputs": [
    {
     "data": {
      "text/plain": [
       "17"
      ]
     },
     "execution_count": 100,
     "metadata": {},
     "output_type": "execute_result"
    }
   ],
   "source": [
    "numero_caras"
   ]
  },
  {
   "cell_type": "code",
   "execution_count": 161,
   "id": "9463a6de-de11-4e27-8a1e-bf051f1691a6",
   "metadata": {},
   "outputs": [
    {
     "data": {
      "text/plain": [
       "13"
      ]
     },
     "execution_count": 161,
     "metadata": {},
     "output_type": "execute_result"
    }
   ],
   "source": [
    "numero_sellos = np.count_nonzero(treinta_tiradas==\"sello\")\n",
    "numero_sellos"
   ]
  },
  {
   "cell_type": "code",
   "execution_count": 165,
   "id": "ae8ae3e6-bf49-4a8d-8be6-84c2c01b2fa1",
   "metadata": {},
   "outputs": [
    {
     "data": {
      "text/plain": [
       "47"
      ]
     },
     "execution_count": 165,
     "metadata": {},
     "output_type": "execute_result"
    }
   ],
   "source": [
    "simulacion_moneda_caras()"
   ]
  },
  {
   "cell_type": "markdown",
   "id": "08b080dc-3ceb-4ed1-94dd-10c619f964ee",
   "metadata": {},
   "source": [
    "Realiza una simulación para examinar el resultado de lanzar una moneda 100 veces. Ejecutaremos este experimento 20,000 veces para entender la distribución de caras y sellos.\n",
    "\n",
    "1. **Simular un valor**: Define una función `simulacion_moneda_caras` que simule un solo experimento de lanzar una moneda 100 veces, devolviendo el número de caras obtenidas.\n",
    "\n",
    "\n",
    "```python\n",
    "def simulacion_moneda_caras():    \n",
    "    moneda = make_array(\"cara\", \"sello\")\n",
    "    lanzamientos =  np.random.choice(moneda, 100)\n",
    "    return np.count_nonzero(lanzamientos==\"cara\")\n",
    "```\n",
    "\n",
    "2. **Repetir la simulación**: Realiza 20,000 repeticiones de este experimento, almacenando el número de caras en cada iteración.\n",
    "\n",
    "3. **Calcular sellos**: Para cada experimento, calcula el número de sellos restando el resultado de las caras a 100.\n",
    "\n",
    "El bucle `for` iterará 20,000 veces, aumentando `cantidad_caras` con los resultados de cada simulación. Finalmente, `cantidad_caras` y `cantidad_sellos` contendrán los resultados para análisis posterior.\n",
    "\n",
    "\n",
    "\n",
    "4. **Crear Tabla**: Genera una tabla con tres columnas:\n",
    "   - **\"caras\"**: Contiene el número de caras obtenidas en cada simulación.\n",
    "   - **\"sellos\"**: Calcula el número de sellos como \\(100 - \\text{cantidad de caras}\\) para cada simulación.\n",
    "   - **\"lanzamientos\"**: Usa `np.arange(1, num_repeticiones)` para enumerar cada experimento desde 1 hasta 20,000.\n",
    "\n",
    "Esta tabla, `simulacion`, te permitirá visualizar y analizar el resultado de cada experimento, explorando la distribución de caras y sellos a través de múltiples repeticiones."
   ]
  },
  {
   "cell_type": "code",
   "execution_count": 169,
   "id": "35f21b26-523d-44be-87f3-c4ef3410ac78",
   "metadata": {},
   "outputs": [
    {
     "data": {
      "text/plain": [
       "Ellipsis"
      ]
     },
     "execution_count": 169,
     "metadata": {},
     "output_type": "execute_result"
    }
   ],
   "source": [
    "..."
   ]
  },
  {
   "cell_type": "code",
   "execution_count": 170,
   "id": "4e0a45c8-9d5b-46ea-bc79-3080f996d89e",
   "metadata": {},
   "outputs": [],
   "source": [
    "..."
   ]
  },
  {
   "cell_type": "code",
   "execution_count": 171,
   "id": "db665b07-71b1-423d-b6a8-f49f5ffa8a28",
   "metadata": {},
   "outputs": [],
   "source": [
    "..."
   ]
  },
  {
   "cell_type": "code",
   "execution_count": 172,
   "id": "aa5c82a6-d226-4c12-8b5e-170024202d7c",
   "metadata": {},
   "outputs": [
    {
     "data": {
      "text/html": [
       "<table border=\"1\" class=\"dataframe\">\n",
       "    <thead>\n",
       "        <tr>\n",
       "            <th>caras</th> <th>sellos</th> <th>lanzamientos</th>\n",
       "        </tr>\n",
       "    </thead>\n",
       "    <tbody>\n",
       "        <tr>\n",
       "            <td>54   </td> <td>46    </td> <td>1           </td>\n",
       "        </tr>\n",
       "        <tr>\n",
       "            <td>50   </td> <td>50    </td> <td>2           </td>\n",
       "        </tr>\n",
       "        <tr>\n",
       "            <td>49   </td> <td>51    </td> <td>3           </td>\n",
       "        </tr>\n",
       "        <tr>\n",
       "            <td>54   </td> <td>46    </td> <td>4           </td>\n",
       "        </tr>\n",
       "        <tr>\n",
       "            <td>52   </td> <td>48    </td> <td>5           </td>\n",
       "        </tr>\n",
       "        <tr>\n",
       "            <td>52   </td> <td>48    </td> <td>6           </td>\n",
       "        </tr>\n",
       "        <tr>\n",
       "            <td>46   </td> <td>54    </td> <td>7           </td>\n",
       "        </tr>\n",
       "        <tr>\n",
       "            <td>54   </td> <td>46    </td> <td>8           </td>\n",
       "        </tr>\n",
       "        <tr>\n",
       "            <td>54   </td> <td>46    </td> <td>9           </td>\n",
       "        </tr>\n",
       "        <tr>\n",
       "            <td>54   </td> <td>46    </td> <td>10          </td>\n",
       "        </tr>\n",
       "    </tbody>\n",
       "</table>\n",
       "<p>... (19989 rows omitted)</p>"
      ],
      "text/plain": [
       "caras | sellos | lanzamientos\n",
       "54    | 46     | 1\n",
       "50    | 50     | 2\n",
       "49    | 51     | 3\n",
       "54    | 46     | 4\n",
       "52    | 48     | 5\n",
       "52    | 48     | 6\n",
       "46    | 54     | 7\n",
       "54    | 46     | 8\n",
       "54    | 46     | 9\n",
       "54    | 46     | 10\n",
       "... (19989 rows omitted)"
      ]
     },
     "execution_count": 172,
     "metadata": {},
     "output_type": "execute_result"
    }
   ],
   "source": [
    "...."
   ]
  },
  {
   "cell_type": "code",
   "execution_count": 173,
   "id": "1ba41d0a-a0ec-4423-bc2f-7c61409db806",
   "metadata": {},
   "outputs": [
    {
     "data": {
      "text/html": [
       "<table border=\"1\" class=\"dataframe\">\n",
       "    <thead>\n",
       "        <tr>\n",
       "            <th>bin</th> <th>caras count</th>\n",
       "        </tr>\n",
       "    </thead>\n",
       "    <tbody>\n",
       "        <tr>\n",
       "            <td>30  </td> <td>21         </td>\n",
       "        </tr>\n",
       "        <tr>\n",
       "            <td>34.2</td> <td>191        </td>\n",
       "        </tr>\n",
       "        <tr>\n",
       "            <td>38.4</td> <td>1055       </td>\n",
       "        </tr>\n",
       "        <tr>\n",
       "            <td>42.6</td> <td>3463       </td>\n",
       "        </tr>\n",
       "        <tr>\n",
       "            <td>46.8</td> <td>6041       </td>\n",
       "        </tr>\n",
       "        <tr>\n",
       "            <td>51  </td> <td>6462       </td>\n",
       "        </tr>\n",
       "        <tr>\n",
       "            <td>55.2</td> <td>2162       </td>\n",
       "        </tr>\n",
       "        <tr>\n",
       "            <td>59.4</td> <td>531        </td>\n",
       "        </tr>\n",
       "        <tr>\n",
       "            <td>63.6</td> <td>69         </td>\n",
       "        </tr>\n",
       "        <tr>\n",
       "            <td>67.8</td> <td>4          </td>\n",
       "        </tr>\n",
       "    </tbody>\n",
       "</table>\n",
       "<p>... (1 rows omitted)</p>"
      ],
      "text/plain": [
       "bin  | caras count\n",
       "30   | 21\n",
       "34.2 | 191\n",
       "38.4 | 1055\n",
       "42.6 | 3463\n",
       "46.8 | 6041\n",
       "51   | 6462\n",
       "55.2 | 2162\n",
       "59.4 | 531\n",
       "63.6 | 69\n",
       "67.8 | 4\n",
       "... (1 rows omitted)"
      ]
     },
     "execution_count": 173,
     "metadata": {},
     "output_type": "execute_result"
    }
   ],
   "source": [
    "...."
   ]
  },
  {
   "cell_type": "code",
   "execution_count": 174,
   "id": "56cc3353-62d0-4f05-9aec-cc8c94d0fd59",
   "metadata": {},
   "outputs": [
    {
     "data": {
      "image/png": "[encoded data removed]",
      "text/plain": [
       "<Figure size 600x400 with 1 Axes>"
      ]
     },
     "metadata": {},
     "output_type": "display_data"
    }
   ],
   "source": [
    "..."
   ]
  },
  {
   "cell_type": "markdown",
   "id": "21a98f33-23d3-456c-a42d-69cf709b389d",
   "metadata": {},
   "source": [
    "**Enunciado del Reto: Paseo Aleatorio del Borracho**\n",
    "\n",
    "El **paseo del borracho**, también conocido como **paseo aleatorio**, es un concepto clásico en teoría de probabilidades y matemáticas. Se refiere al camino formado por una serie de pasos aleatorios, típicamente en un espacio o red. Imagina a un borracho que comienza en un punto fijo y da pasos al azar, hacia adelante o hacia atrás, cada uno con una probabilidad definida. \n",
    "\n",
    "Este modelo es utilizado para ilustrar cómo las fluctuaciones aleatorias pueden influir en el movimiento o posición de un objeto a lo largo del tiempo. Se aplica en varios campos como la física, la biología, la economía y otras disciplinas que estudian procesos y fenómenos estocásticos. Es una herramienta fundamental para entender la difusión y procesos de varianza aleatoria en distintas áreas de estudio.\n",
    "Simula un paseo aleatorio de un borracho que realiza 100 pasos. Cada paso puede ser hacia adelante (+1) o hacia atrás (-1) con igual probabilidad. Ejecuta esta simulación 10,000 veces para analizar el desplazamiento final del borracho:\n",
    "\n",
    "1. **Simular un paseo aleatorio**: Define una función `simulacion_paseo_borracho` que simule los 100 pasos del borracho y devuelva su posición final.\n",
    "\n",
    "2. **Repetir la simulación**: Realiza 10,000 repeticiones de este paseo, almacenando el desplazamiento final en cada iteración.\n",
    "\n",
    "3. **Crear una tabla de resultados**: Organiza los resultados en una tabla con dos columnas: \n",
    "   - **\"desplazamiento\"**: La posición final del borracho después de 100 pasos.\n",
    "   - **\"simulacion\"**: Un índice de las simulaciones realizadas, desde 1 hasta 10,000.\n",
    "\n"
   ]
  },
  {
   "cell_type": "code",
   "execution_count": 20,
   "id": "e1476ead-a91e-4358-b3d0-eefb6ee20326",
   "metadata": {},
   "outputs": [
    {
     "ename": "SyntaxError",
     "evalue": "invalid syntax (1805539695.py, line 1)",
     "output_type": "error",
     "traceback": [
      "\u001b[0;36m  Cell \u001b[0;32mIn[20], line 1\u001b[0;36m\u001b[0m\n\u001b[0;31m    ....\u001b[0m\n\u001b[0m        ^\u001b[0m\n\u001b[0;31mSyntaxError\u001b[0m\u001b[0;31m:\u001b[0m invalid syntax\n"
     ]
    }
   ],
   "source": [
    "...."
   ]
  },
  {
   "cell_type": "code",
   "execution_count": 21,
   "id": "1187c1a0-e24d-41b7-9a8e-0c33baae5211",
   "metadata": {},
   "outputs": [
    {
     "ename": "NameError",
     "evalue": "name 'simulacion' is not defined",
     "output_type": "error",
     "traceback": [
      "\u001b[0;31m---------------------------------------------------------------------------\u001b[0m",
      "\u001b[0;31mNameError\u001b[0m                                 Traceback (most recent call last)",
      "Cell \u001b[0;32mIn[21], line 1\u001b[0m\n\u001b[0;32m----> 1\u001b[0m \u001b[43msimulacion\u001b[49m\u001b[38;5;241m.\u001b[39mhist(\u001b[38;5;124m\"\u001b[39m\u001b[38;5;124mdesplazamiento\u001b[39m\u001b[38;5;124m\"\u001b[39m,bins\u001b[38;5;241m=\u001b[39mnp\u001b[38;5;241m.\u001b[39marange(\u001b[38;5;241m-\u001b[39m\u001b[38;5;241m30\u001b[39m, \u001b[38;5;241m30\u001b[39m,\u001b[38;5;241m2\u001b[39m) )\n",
      "\u001b[0;31mNameError\u001b[0m: name 'simulacion' is not defined"
     ]
    }
   ],
   "source": [
    "simulacion.hist(\"desplazamiento\",bins=np.arange(-30, 30,2) )"
   ]
  },
  {
   "cell_type": "code",
   "execution_count": null,
   "id": "7d48ca85-4e2e-400a-8130-14856a7a3fd0",
   "metadata": {},
   "outputs": [],
   "source": []
  }
 ],
 "metadata": {
  "kernelspec": {
   "display_name": "Python 3 (ipykernel)",
   "language": "python",
   "name": "python3"
  },
  "language_info": {
   "codemirror_mode": {
    "name": "ipython",
    "version": 3
   },
   "file_extension": ".py",
   "mimetype": "text/x-python",
   "name": "python",
   "nbconvert_exporter": "python",
   "pygments_lexer": "ipython3",
   "version": "3.10.14"
  }
 },
 "nbformat": 4,
 "nbformat_minor": 5
}
