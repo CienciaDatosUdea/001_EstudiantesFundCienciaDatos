{
 "cells": [
  {
   "cell_type": "markdown",
   "id": "01495282-6f04-4e60-b2c9-85d766c2d825",
   "metadata": {},
   "source": [
    "# Causalidad"
   ]
  },
  {
   "cell_type": "code",
   "execution_count": 1,
   "id": "098735a8-4545-476c-951a-261de0781da2",
   "metadata": {},
   "outputs": [],
   "source": [
    "from datascience import *\n",
    "import pandas as pd\n",
    "import numpy as np\n",
    "import matplotlib.pyplot as plots\n",
    "plots.style.use('fivethirtyeight')\n",
    "%matplotlib inline"
   ]
  },
  {
   "cell_type": "markdown",
   "id": "2f054e68-abbe-45ce-9d06-9057eacaece2",
   "metadata": {},
   "source": [
    "- 31 pacients con dolor lumbar asignados al azar.\n",
    "\n",
    "Tratamiento: \n",
    "\n",
    "- 15 pacientes en el grupo de tratamiento\n",
    "- Se le suministro el medicamento\n",
    "\n",
    "Control: \n",
    "\n",
    "- 16 pacientes en el grupo de control.\n",
    "- Se le suministro suero fisiológico(salina normal)\n",
    "\n",
    "\n",
    "\n",
    "Los médicos que suministraban el medicamento: \n",
    "- No conocian cual era el grupo de control y tratamiento, es decir, no sabian cual era el medicamento suministrado(salina o el tratamiento para el dolor de espalda)\n",
    " "
   ]
  },
  {
   "cell_type": "code",
   "execution_count": 2,
   "id": "17f2bd30-4519-464a-a5a2-007ba4541d50",
   "metadata": {},
   "outputs": [
    {
     "data": {
      "text/html": [
       "<table border=\"1\" class=\"dataframe\">\n",
       "    <thead>\n",
       "        <tr>\n",
       "            <th>Group</th> <th>Result</th>\n",
       "        </tr>\n",
       "    </thead>\n",
       "    <tbody>\n",
       "        <tr>\n",
       "            <td>Control  </td> <td>1     </td>\n",
       "        </tr>\n",
       "        <tr>\n",
       "            <td>Control  </td> <td>1     </td>\n",
       "        </tr>\n",
       "        <tr>\n",
       "            <td>Control  </td> <td>0     </td>\n",
       "        </tr>\n",
       "        <tr>\n",
       "            <td>Control  </td> <td>0     </td>\n",
       "        </tr>\n",
       "        <tr>\n",
       "            <td>Control  </td> <td>0     </td>\n",
       "        </tr>\n",
       "        <tr>\n",
       "            <td>Control  </td> <td>0     </td>\n",
       "        </tr>\n",
       "        <tr>\n",
       "            <td>Control  </td> <td>0     </td>\n",
       "        </tr>\n",
       "        <tr>\n",
       "            <td>Control  </td> <td>0     </td>\n",
       "        </tr>\n",
       "        <tr>\n",
       "            <td>Control  </td> <td>0     </td>\n",
       "        </tr>\n",
       "        <tr>\n",
       "            <td>Control  </td> <td>0     </td>\n",
       "        </tr>\n",
       "        <tr>\n",
       "            <td>Control  </td> <td>0     </td>\n",
       "        </tr>\n",
       "        <tr>\n",
       "            <td>Control  </td> <td>0     </td>\n",
       "        </tr>\n",
       "        <tr>\n",
       "            <td>Control  </td> <td>0     </td>\n",
       "        </tr>\n",
       "        <tr>\n",
       "            <td>Control  </td> <td>0     </td>\n",
       "        </tr>\n",
       "        <tr>\n",
       "            <td>Control  </td> <td>0     </td>\n",
       "        </tr>\n",
       "        <tr>\n",
       "            <td>Control  </td> <td>0     </td>\n",
       "        </tr>\n",
       "        <tr>\n",
       "            <td>Treatment</td> <td>1     </td>\n",
       "        </tr>\n",
       "        <tr>\n",
       "            <td>Treatment</td> <td>1     </td>\n",
       "        </tr>\n",
       "        <tr>\n",
       "            <td>Treatment</td> <td>1     </td>\n",
       "        </tr>\n",
       "        <tr>\n",
       "            <td>Treatment</td> <td>1     </td>\n",
       "        </tr>\n",
       "        <tr>\n",
       "            <td>Treatment</td> <td>1     </td>\n",
       "        </tr>\n",
       "        <tr>\n",
       "            <td>Treatment</td> <td>1     </td>\n",
       "        </tr>\n",
       "        <tr>\n",
       "            <td>Treatment</td> <td>1     </td>\n",
       "        </tr>\n",
       "        <tr>\n",
       "            <td>Treatment</td> <td>1     </td>\n",
       "        </tr>\n",
       "        <tr>\n",
       "            <td>Treatment</td> <td>1     </td>\n",
       "        </tr>\n",
       "        <tr>\n",
       "            <td>Treatment</td> <td>0     </td>\n",
       "        </tr>\n",
       "        <tr>\n",
       "            <td>Treatment</td> <td>0     </td>\n",
       "        </tr>\n",
       "        <tr>\n",
       "            <td>Treatment</td> <td>0     </td>\n",
       "        </tr>\n",
       "        <tr>\n",
       "            <td>Treatment</td> <td>0     </td>\n",
       "        </tr>\n",
       "        <tr>\n",
       "            <td>Treatment</td> <td>0     </td>\n",
       "        </tr>\n",
       "        <tr>\n",
       "            <td>Treatment</td> <td>0     </td>\n",
       "        </tr>\n",
       "    </tbody>\n",
       "</table>"
      ],
      "text/plain": [
       "<IPython.core.display.HTML object>"
      ]
     },
     "metadata": {},
     "output_type": "display_data"
    }
   ],
   "source": [
    "bta = Table.read_table('bta.csv')\n",
    "bta.show()"
   ]
  },
  {
   "cell_type": "code",
   "execution_count": 3,
   "id": "a463a379-8511-49c6-86f3-43ac43431622",
   "metadata": {},
   "outputs": [
    {
     "data": {
      "text/html": [
       "<table border=\"1\" class=\"dataframe\">\n",
       "    <thead>\n",
       "        <tr>\n",
       "            <th>Group</th> <th>count</th>\n",
       "        </tr>\n",
       "    </thead>\n",
       "    <tbody>\n",
       "        <tr>\n",
       "            <td>Control  </td> <td>16   </td>\n",
       "        </tr>\n",
       "        <tr>\n",
       "            <td>Treatment</td> <td>15   </td>\n",
       "        </tr>\n",
       "    </tbody>\n",
       "</table>"
      ],
      "text/plain": [
       "Group     | count\n",
       "Control   | 16\n",
       "Treatment | 15"
      ]
     },
     "execution_count": 3,
     "metadata": {},
     "output_type": "execute_result"
    }
   ],
   "source": [
    "bta.group(\"Group\")"
   ]
  },
  {
   "cell_type": "code",
   "execution_count": 4,
   "id": "c1f00423-6953-4ba0-9120-0a27df2ead0d",
   "metadata": {},
   "outputs": [
    {
     "data": {
      "text/html": [
       "<table border=\"1\" class=\"dataframe\">\n",
       "    <thead>\n",
       "        <tr>\n",
       "            <th>Group</th> <th>Result sum</th>\n",
       "        </tr>\n",
       "    </thead>\n",
       "    <tbody>\n",
       "        <tr>\n",
       "            <td>Control  </td> <td>2         </td>\n",
       "        </tr>\n",
       "        <tr>\n",
       "            <td>Treatment</td> <td>9         </td>\n",
       "        </tr>\n",
       "    </tbody>\n",
       "</table>"
      ],
      "text/plain": [
       "Group     | Result sum\n",
       "Control   | 2\n",
       "Treatment | 9"
      ]
     },
     "execution_count": 4,
     "metadata": {},
     "output_type": "execute_result"
    }
   ],
   "source": [
    "bta.group(\"Group\", np.sum)"
   ]
  },
  {
   "cell_type": "markdown",
   "id": "cb09069e-c06b-4f2a-b871-81d2ea547c7f",
   "metadata": {},
   "source": [
    "¿Que conclusiones podemos sacar, leyendo este dataset?"
   ]
  },
  {
   "cell_type": "code",
   "execution_count": 5,
   "id": "7a5f4354-61a7-469d-83e6-550eba5dc1ab",
   "metadata": {},
   "outputs": [
    {
     "data": {
      "text/html": [
       "<table border=\"1\" class=\"dataframe\">\n",
       "    <thead>\n",
       "        <tr>\n",
       "            <th>Group</th> <th>Result average</th>\n",
       "        </tr>\n",
       "    </thead>\n",
       "    <tbody>\n",
       "        <tr>\n",
       "            <td>Control  </td> <td>0.125         </td>\n",
       "        </tr>\n",
       "        <tr>\n",
       "            <td>Treatment</td> <td>0.6           </td>\n",
       "        </tr>\n",
       "    </tbody>\n",
       "</table>"
      ],
      "text/plain": [
       "Group     | Result average\n",
       "Control   | 0.125\n",
       "Treatment | 0.6"
      ]
     },
     "execution_count": 5,
     "metadata": {},
     "output_type": "execute_result"
    }
   ],
   "source": [
    "bta.group(\"Group\", np.average)"
   ]
  },
  {
   "cell_type": "markdown",
   "id": "38206917-646d-431a-80e9-4c98a931b8da",
   "metadata": {},
   "source": [
    "- 60% de los pacientes se recuperaron en el grupo de control\n",
    "- 12.5% se recuperacron en el grupo de tratamiento"
   ]
  },
  {
   "cell_type": "code",
   "execution_count": 8,
   "id": "803e740d-524f-4e56-895f-357af20a2599",
   "metadata": {},
   "outputs": [],
   "source": [
    "resultados_observados = Table.read_table(\"resultados_observados.csv\")"
   ]
  },
  {
   "cell_type": "markdown",
   "id": "de0ef2db-6b95-4799-9fc1-051513579697",
   "metadata": {},
   "source": [
    "1. ¿Que resultados hubiera obtenido el grupo de control si se asigna al grupo de tratamiento?, \n",
    "el resultado es desconocido\n",
    "\n",
    "2. ¿Que resultados hubiera obtenido el grupo de tratamiento  si se asigna al grupo de control?, \n",
    "el resultado es desconocido"
   ]
  },
  {
   "cell_type": "code",
   "execution_count": 9,
   "id": "ee718bd1-1847-4e30-a96a-e4122d96e852",
   "metadata": {},
   "outputs": [
    {
     "data": {
      "text/html": [
       "<table border=\"1\" class=\"dataframe\">\n",
       "    <thead>\n",
       "        <tr>\n",
       "            <th>Unnamed: 0</th> <th>Group</th> <th>Result</th> <th>AsignaTratamiento</th> <th>AsignaControl</th>\n",
       "        </tr>\n",
       "    </thead>\n",
       "    <tbody>\n",
       "        <tr>\n",
       "            <td>0         </td> <td>Control  </td> <td>1     </td> <td>Desconocido      </td> <td>1.0          </td>\n",
       "        </tr>\n",
       "        <tr>\n",
       "            <td>1         </td> <td>Control  </td> <td>1     </td> <td>Desconocido      </td> <td>1.0          </td>\n",
       "        </tr>\n",
       "        <tr>\n",
       "            <td>2         </td> <td>Control  </td> <td>0     </td> <td>Desconocido      </td> <td>0.0          </td>\n",
       "        </tr>\n",
       "        <tr>\n",
       "            <td>3         </td> <td>Control  </td> <td>0     </td> <td>Desconocido      </td> <td>0.0          </td>\n",
       "        </tr>\n",
       "        <tr>\n",
       "            <td>4         </td> <td>Control  </td> <td>0     </td> <td>Desconocido      </td> <td>0.0          </td>\n",
       "        </tr>\n",
       "        <tr>\n",
       "            <td>5         </td> <td>Control  </td> <td>0     </td> <td>Desconocido      </td> <td>0.0          </td>\n",
       "        </tr>\n",
       "        <tr>\n",
       "            <td>6         </td> <td>Control  </td> <td>0     </td> <td>Desconocido      </td> <td>0.0          </td>\n",
       "        </tr>\n",
       "        <tr>\n",
       "            <td>7         </td> <td>Control  </td> <td>0     </td> <td>Desconocido      </td> <td>0.0          </td>\n",
       "        </tr>\n",
       "        <tr>\n",
       "            <td>8         </td> <td>Control  </td> <td>0     </td> <td>Desconocido      </td> <td>0.0          </td>\n",
       "        </tr>\n",
       "        <tr>\n",
       "            <td>9         </td> <td>Control  </td> <td>0     </td> <td>Desconocido      </td> <td>0.0          </td>\n",
       "        </tr>\n",
       "        <tr>\n",
       "            <td>10        </td> <td>Control  </td> <td>0     </td> <td>Desconocido      </td> <td>0.0          </td>\n",
       "        </tr>\n",
       "        <tr>\n",
       "            <td>11        </td> <td>Control  </td> <td>0     </td> <td>Desconocido      </td> <td>0.0          </td>\n",
       "        </tr>\n",
       "        <tr>\n",
       "            <td>12        </td> <td>Control  </td> <td>0     </td> <td>Desconocido      </td> <td>0.0          </td>\n",
       "        </tr>\n",
       "        <tr>\n",
       "            <td>13        </td> <td>Control  </td> <td>0     </td> <td>Desconocido      </td> <td>0.0          </td>\n",
       "        </tr>\n",
       "        <tr>\n",
       "            <td>14        </td> <td>Control  </td> <td>0     </td> <td>Desconocido      </td> <td>0.0          </td>\n",
       "        </tr>\n",
       "        <tr>\n",
       "            <td>15        </td> <td>Control  </td> <td>0     </td> <td>Desconocido      </td> <td>0.0          </td>\n",
       "        </tr>\n",
       "        <tr>\n",
       "            <td>16        </td> <td>Treatment</td> <td>1     </td> <td>1.0              </td> <td>Desconocido  </td>\n",
       "        </tr>\n",
       "        <tr>\n",
       "            <td>17        </td> <td>Treatment</td> <td>1     </td> <td>1.0              </td> <td>Desconocido  </td>\n",
       "        </tr>\n",
       "        <tr>\n",
       "            <td>18        </td> <td>Treatment</td> <td>1     </td> <td>1.0              </td> <td>Desconocido  </td>\n",
       "        </tr>\n",
       "        <tr>\n",
       "            <td>19        </td> <td>Treatment</td> <td>1     </td> <td>1.0              </td> <td>Desconocido  </td>\n",
       "        </tr>\n",
       "        <tr>\n",
       "            <td>20        </td> <td>Treatment</td> <td>1     </td> <td>1.0              </td> <td>Desconocido  </td>\n",
       "        </tr>\n",
       "        <tr>\n",
       "            <td>21        </td> <td>Treatment</td> <td>1     </td> <td>1.0              </td> <td>Desconocido  </td>\n",
       "        </tr>\n",
       "        <tr>\n",
       "            <td>22        </td> <td>Treatment</td> <td>1     </td> <td>1.0              </td> <td>Desconocido  </td>\n",
       "        </tr>\n",
       "        <tr>\n",
       "            <td>23        </td> <td>Treatment</td> <td>1     </td> <td>1.0              </td> <td>Desconocido  </td>\n",
       "        </tr>\n",
       "        <tr>\n",
       "            <td>24        </td> <td>Treatment</td> <td>1     </td> <td>1.0              </td> <td>Desconocido  </td>\n",
       "        </tr>\n",
       "        <tr>\n",
       "            <td>25        </td> <td>Treatment</td> <td>0     </td> <td>0.0              </td> <td>Desconocido  </td>\n",
       "        </tr>\n",
       "        <tr>\n",
       "            <td>26        </td> <td>Treatment</td> <td>0     </td> <td>0.0              </td> <td>Desconocido  </td>\n",
       "        </tr>\n",
       "        <tr>\n",
       "            <td>27        </td> <td>Treatment</td> <td>0     </td> <td>0.0              </td> <td>Desconocido  </td>\n",
       "        </tr>\n",
       "        <tr>\n",
       "            <td>28        </td> <td>Treatment</td> <td>0     </td> <td>0.0              </td> <td>Desconocido  </td>\n",
       "        </tr>\n",
       "        <tr>\n",
       "            <td>29        </td> <td>Treatment</td> <td>0     </td> <td>0.0              </td> <td>Desconocido  </td>\n",
       "        </tr>\n",
       "        <tr>\n",
       "            <td>30        </td> <td>Treatment</td> <td>0     </td> <td>0.0              </td> <td>Desconocido  </td>\n",
       "        </tr>\n",
       "    </tbody>\n",
       "</table>"
      ],
      "text/plain": [
       "<IPython.core.display.HTML object>"
      ]
     },
     "metadata": {},
     "output_type": "display_data"
    }
   ],
   "source": [
    "resultados_observados.show()"
   ]
  },
  {
   "cell_type": "code",
   "execution_count": 12,
   "id": "67c8ee68-19c0-4944-bb5b-cea027b5f26f",
   "metadata": {},
   "outputs": [
    {
     "data": {
      "text/html": [
       "<table border=\"1\" class=\"dataframe\">\n",
       "    <thead>\n",
       "        <tr>\n",
       "            <th>Group</th> <th>Result average</th>\n",
       "        </tr>\n",
       "    </thead>\n",
       "    <tbody>\n",
       "        <tr>\n",
       "            <td>Control  </td> <td>0.125         </td>\n",
       "        </tr>\n",
       "        <tr>\n",
       "            <td>Treatment</td> <td>0.6           </td>\n",
       "        </tr>\n",
       "    </tbody>\n",
       "</table>"
      ],
      "text/plain": [
       "Group     | Result average\n",
       "Control   | 0.125\n",
       "Treatment | 0.6"
      ]
     },
     "execution_count": 12,
     "metadata": {},
     "output_type": "execute_result"
    }
   ],
   "source": [
    "bta.group('Group', np.average)"
   ]
  },
  {
   "cell_type": "code",
   "execution_count": 21,
   "id": "b73dd72c-b128-42a9-8989-be222810df41",
   "metadata": {},
   "outputs": [
    {
     "data": {
      "text/plain": [
       "0.475"
      ]
     },
     "execution_count": 21,
     "metadata": {},
     "output_type": "execute_result"
    }
   ],
   "source": [
    "observed_proportions = bta.group('Group', np.average).column(1)\n",
    "observed_distance = abs(observed_proportions.item(0) - observed_proportions.item(1))\n",
    "observed_distance"
   ]
  },
  {
   "cell_type": "code",
   "execution_count": 22,
   "id": "76f80b1e-6e34-43f2-81ad-6962ac4f997f",
   "metadata": {},
   "outputs": [],
   "source": [
    "def distance(table, group_label):\n",
    "    reduced = table.select('Result', group_label)\n",
    "    proportions = reduced.group(group_label, np.average).column(1)\n",
    "    return abs(proportions.item(1) - proportions.item(0))"
   ]
  },
  {
   "cell_type": "code",
   "execution_count": 23,
   "id": "792d3fff-baf2-4eb2-b56b-d61e88c1768e",
   "metadata": {},
   "outputs": [
    {
     "data": {
      "text/plain": [
       "0.475"
      ]
     },
     "execution_count": 23,
     "metadata": {},
     "output_type": "execute_result"
    }
   ],
   "source": [
    "distance(bta, 'Group')"
   ]
  },
  {
   "cell_type": "code",
   "execution_count": 37,
   "id": "0ea514af-7d26-42d9-b71d-47255ac24708",
   "metadata": {},
   "outputs": [],
   "source": [
    "shuffled_labels = bta.sample(with_replacement=False).column(0)"
   ]
  },
  {
   "cell_type": "code",
   "execution_count": 38,
   "id": "579c43a1-3dc7-4ef9-b071-fa3c7d3649f2",
   "metadata": {},
   "outputs": [
    {
     "data": {
      "text/html": [
       "<table border=\"1\" class=\"dataframe\">\n",
       "    <thead>\n",
       "        <tr>\n",
       "            <th>Group</th> <th>Result</th> <th>Shuffled Label</th>\n",
       "        </tr>\n",
       "    </thead>\n",
       "    <tbody>\n",
       "        <tr>\n",
       "            <td>Control  </td> <td>1     </td> <td>Control       </td>\n",
       "        </tr>\n",
       "        <tr>\n",
       "            <td>Control  </td> <td>1     </td> <td>Control       </td>\n",
       "        </tr>\n",
       "        <tr>\n",
       "            <td>Control  </td> <td>0     </td> <td>Treatment     </td>\n",
       "        </tr>\n",
       "        <tr>\n",
       "            <td>Control  </td> <td>0     </td> <td>Treatment     </td>\n",
       "        </tr>\n",
       "        <tr>\n",
       "            <td>Control  </td> <td>0     </td> <td>Control       </td>\n",
       "        </tr>\n",
       "        <tr>\n",
       "            <td>Control  </td> <td>0     </td> <td>Treatment     </td>\n",
       "        </tr>\n",
       "        <tr>\n",
       "            <td>Control  </td> <td>0     </td> <td>Treatment     </td>\n",
       "        </tr>\n",
       "        <tr>\n",
       "            <td>Control  </td> <td>0     </td> <td>Control       </td>\n",
       "        </tr>\n",
       "        <tr>\n",
       "            <td>Control  </td> <td>0     </td> <td>Control       </td>\n",
       "        </tr>\n",
       "        <tr>\n",
       "            <td>Control  </td> <td>0     </td> <td>Control       </td>\n",
       "        </tr>\n",
       "        <tr>\n",
       "            <td>Control  </td> <td>0     </td> <td>Treatment     </td>\n",
       "        </tr>\n",
       "        <tr>\n",
       "            <td>Control  </td> <td>0     </td> <td>Control       </td>\n",
       "        </tr>\n",
       "        <tr>\n",
       "            <td>Control  </td> <td>0     </td> <td>Treatment     </td>\n",
       "        </tr>\n",
       "        <tr>\n",
       "            <td>Control  </td> <td>0     </td> <td>Treatment     </td>\n",
       "        </tr>\n",
       "        <tr>\n",
       "            <td>Control  </td> <td>0     </td> <td>Control       </td>\n",
       "        </tr>\n",
       "        <tr>\n",
       "            <td>Control  </td> <td>0     </td> <td>Treatment     </td>\n",
       "        </tr>\n",
       "        <tr>\n",
       "            <td>Treatment</td> <td>1     </td> <td>Treatment     </td>\n",
       "        </tr>\n",
       "        <tr>\n",
       "            <td>Treatment</td> <td>1     </td> <td>Treatment     </td>\n",
       "        </tr>\n",
       "        <tr>\n",
       "            <td>Treatment</td> <td>1     </td> <td>Treatment     </td>\n",
       "        </tr>\n",
       "        <tr>\n",
       "            <td>Treatment</td> <td>1     </td> <td>Control       </td>\n",
       "        </tr>\n",
       "        <tr>\n",
       "            <td>Treatment</td> <td>1     </td> <td>Control       </td>\n",
       "        </tr>\n",
       "        <tr>\n",
       "            <td>Treatment</td> <td>1     </td> <td>Treatment     </td>\n",
       "        </tr>\n",
       "        <tr>\n",
       "            <td>Treatment</td> <td>1     </td> <td>Control       </td>\n",
       "        </tr>\n",
       "        <tr>\n",
       "            <td>Treatment</td> <td>1     </td> <td>Control       </td>\n",
       "        </tr>\n",
       "        <tr>\n",
       "            <td>Treatment</td> <td>1     </td> <td>Control       </td>\n",
       "        </tr>\n",
       "        <tr>\n",
       "            <td>Treatment</td> <td>0     </td> <td>Treatment     </td>\n",
       "        </tr>\n",
       "        <tr>\n",
       "            <td>Treatment</td> <td>0     </td> <td>Control       </td>\n",
       "        </tr>\n",
       "        <tr>\n",
       "            <td>Treatment</td> <td>0     </td> <td>Control       </td>\n",
       "        </tr>\n",
       "        <tr>\n",
       "            <td>Treatment</td> <td>0     </td> <td>Treatment     </td>\n",
       "        </tr>\n",
       "        <tr>\n",
       "            <td>Treatment</td> <td>0     </td> <td>Treatment     </td>\n",
       "        </tr>\n",
       "        <tr>\n",
       "            <td>Treatment</td> <td>0     </td> <td>Control       </td>\n",
       "        </tr>\n",
       "    </tbody>\n",
       "</table>"
      ],
      "text/plain": [
       "<IPython.core.display.HTML object>"
      ]
     },
     "metadata": {},
     "output_type": "display_data"
    }
   ],
   "source": [
    "bta_with_shuffled_labels = bta.with_column('Shuffled Label', shuffled_labels)\n",
    "bta_with_shuffled_labels.show()"
   ]
  },
  {
   "cell_type": "markdown",
   "id": "5e678342-3732-4160-b364-5b9736e4449e",
   "metadata": {},
   "source": []
  },
  {
   "cell_type": "markdown",
   "id": "80fd2a19-5b9d-4de6-b084-a580910aa28b",
   "metadata": {},
   "source": [
    "**Causalidad:** la prueba es evidencia de que el tratamiento causa la diferencia"
   ]
  },
  {
   "cell_type": "markdown",
   "id": "6b1ae183-1387-42d7-93f5-9f338b47089e",
   "metadata": {},
   "source": [
    "# Otro ejemplo. "
   ]
  },
  {
   "cell_type": "markdown",
   "id": "5537552c-1563-4782-8161-2355f146e0f7",
   "metadata": {},
   "source": [
    "# # 🏈 El manejo de las pelotas en el fútbol americano (NFL)\n",
    "\n",
    "En el fútbol americano, especialmente en la **NFL**, el manejo de las pelotas es un aspecto importante y tiene reglas específicas. Aquí te explico cómo funciona:\n",
    "\n",
    "\n",
    "\n",
    "---\n",
    "\n",
    "## 📌 Cada equipo lleva sus propias pelotas  \n",
    "- Antes de cada partido, **cada equipo proporciona 12 pelotas oficiales** para usar en sus posesiones ofensivas.  \n",
    "- Estas pelotas están preparadas según las preferencias del equipo (*presión, textura, grip*, etc.), siempre cumpliendo con las normas de la **NFL**.  \n",
    "- Además, se entregan **pelotas especiales** para equipos especiales (*kickoffs, despejes y goles de campo*), conocidas como **K-balls** (que son nuevas y sin modificar).\n",
    "\n",
    "---\n",
    "\n",
    "## 📌 ¿Por qué a veces se usa más la pelota de un equipo que la del otro?  \n",
    "Esto depende de **quién está a la ofensiva**:  \n",
    "- Cuando **el equipo A** tiene la posesión del balón, se usa **su pelota**.  \n",
    "- Cuando **el equipo B** tiene la posesión, se usa **la pelota de ese equipo**.  \n",
    "\n",
    "📊 Si durante el partido un equipo tiene la posesión por más tiempo (*por ejemplo, largas series ofensivas*), su pelota se usará más.\n",
    "\n",
    "---\n",
    "\n",
    "## 📌 Intercepciones, fumbles y cambios de posesión  \n",
    "- Si ocurre un **fumble** o **intercepción**, el balón usado **sigue en juego** hasta que la jugada termine.  \n",
    "- Luego, al iniciar la siguiente jugada, se cambia a la **pelota del equipo que ahora está a la ofensiva**.\n",
    "\n",
    "---\n",
    "\n",
    "## 📌 Reglas tras el escándalo del *Deflategate*  \n",
    "Después del famoso escándalo del **Deflategate (2015)**, que es la revisaremos en lo que sigue, la **NFL** reforzó las reglas:\n",
    "\n",
    "- ✅ Ahora, las pelotas son **revisadas antes del partido** por un **oficial de la NFL**.  \n",
    "- ✅ Durante el partido, están bajo la **supervisión de los árbitros**.  \n",
    "-----\n",
    "\n",
    "La presión a menudo se mide en libras por pulgada cuadrada (psi). Las reglas de la NFL estipulan que las pelotas de juego deben inflarse para tener presiones en el rango de 12,5 psi y 13,5 psi. Cada equipo juega con 12 bolas. Los equipos tienen la responsabilidad de mantener la presión en sus propios balones de fútbol, pero los oficiales del juego inspeccionan los balones. Antes del inicio del partido de la AFC, todas las pelotas de los Patriots estaban a unas 12,5 psi. La mayoría de las pelotas de los Colts estaban a unas 13,0 psi. Sin embargo, estos datos previos al partido no se registraron.\n",
    "\n"
   ]
  },
  {
   "cell_type": "code",
   "execution_count": 72,
   "id": "2007a8bc-acc3-4cda-94b3-f0933c9f8fad",
   "metadata": {},
   "outputs": [
    {
     "data": {
      "text/html": [
       "<table border=\"1\" class=\"dataframe\">\n",
       "    <thead>\n",
       "        <tr>\n",
       "            <th>Team</th> <th>Blakeman</th> <th>Prioleau</th>\n",
       "        </tr>\n",
       "    </thead>\n",
       "    <tbody>\n",
       "        <tr>\n",
       "            <td>Patriots</td> <td>11.5    </td> <td>11.8    </td>\n",
       "        </tr>\n",
       "        <tr>\n",
       "            <td>Patriots</td> <td>10.85   </td> <td>11.2    </td>\n",
       "        </tr>\n",
       "        <tr>\n",
       "            <td>Patriots</td> <td>11.15   </td> <td>11.5    </td>\n",
       "        </tr>\n",
       "        <tr>\n",
       "            <td>Patriots</td> <td>10.7    </td> <td>11      </td>\n",
       "        </tr>\n",
       "        <tr>\n",
       "            <td>Patriots</td> <td>11.1    </td> <td>11.45   </td>\n",
       "        </tr>\n",
       "        <tr>\n",
       "            <td>Patriots</td> <td>11.6    </td> <td>11.95   </td>\n",
       "        </tr>\n",
       "        <tr>\n",
       "            <td>Patriots</td> <td>11.85   </td> <td>12.3    </td>\n",
       "        </tr>\n",
       "        <tr>\n",
       "            <td>Patriots</td> <td>11.1    </td> <td>11.55   </td>\n",
       "        </tr>\n",
       "        <tr>\n",
       "            <td>Patriots</td> <td>10.95   </td> <td>11.35   </td>\n",
       "        </tr>\n",
       "        <tr>\n",
       "            <td>Patriots</td> <td>10.5    </td> <td>10.9    </td>\n",
       "        </tr>\n",
       "    </tbody>\n",
       "</table>\n",
       "<p>... (5 rows omitted)</p>"
      ],
      "text/plain": [
       "Team     | Blakeman | Prioleau\n",
       "Patriots | 11.5     | 11.8\n",
       "Patriots | 10.85    | 11.2\n",
       "Patriots | 11.15    | 11.5\n",
       "Patriots | 10.7     | 11\n",
       "Patriots | 11.1     | 11.45\n",
       "Patriots | 11.6     | 11.95\n",
       "Patriots | 11.85    | 12.3\n",
       "Patriots | 11.1     | 11.55\n",
       "Patriots | 10.95    | 11.35\n",
       "Patriots | 10.5     | 10.9\n",
       "... (5 rows omitted)"
      ]
     },
     "execution_count": 72,
     "metadata": {},
     "output_type": "execute_result"
    }
   ],
   "source": [
    "football = Table.read_table(\"team_scores.csv\")\n",
    "football"
   ]
  },
  {
   "cell_type": "code",
   "execution_count": 73,
   "id": "56e6fce2-18cb-4ec5-a6b9-bdefa2308f41",
   "metadata": {},
   "outputs": [
    {
     "data": {
      "text/html": [
       "<table border=\"1\" class=\"dataframe\">\n",
       "    <thead>\n",
       "        <tr>\n",
       "            <th>Team</th> <th>Combined</th>\n",
       "        </tr>\n",
       "    </thead>\n",
       "    <tbody>\n",
       "        <tr>\n",
       "            <td>Patriots</td> <td>11.65   </td>\n",
       "        </tr>\n",
       "        <tr>\n",
       "            <td>Patriots</td> <td>11.025  </td>\n",
       "        </tr>\n",
       "        <tr>\n",
       "            <td>Patriots</td> <td>11.325  </td>\n",
       "        </tr>\n",
       "        <tr>\n",
       "            <td>Patriots</td> <td>10.85   </td>\n",
       "        </tr>\n",
       "        <tr>\n",
       "            <td>Patriots</td> <td>11.275  </td>\n",
       "        </tr>\n",
       "        <tr>\n",
       "            <td>Patriots</td> <td>11.775  </td>\n",
       "        </tr>\n",
       "        <tr>\n",
       "            <td>Patriots</td> <td>12.075  </td>\n",
       "        </tr>\n",
       "        <tr>\n",
       "            <td>Patriots</td> <td>11.325  </td>\n",
       "        </tr>\n",
       "        <tr>\n",
       "            <td>Patriots</td> <td>11.15   </td>\n",
       "        </tr>\n",
       "        <tr>\n",
       "            <td>Patriots</td> <td>10.7    </td>\n",
       "        </tr>\n",
       "        <tr>\n",
       "            <td>Patriots</td> <td>11.125  </td>\n",
       "        </tr>\n",
       "        <tr>\n",
       "            <td>Colts   </td> <td>12.525  </td>\n",
       "        </tr>\n",
       "        <tr>\n",
       "            <td>Colts   </td> <td>12.525  </td>\n",
       "        </tr>\n",
       "        <tr>\n",
       "            <td>Colts   </td> <td>12.725  </td>\n",
       "        </tr>\n",
       "        <tr>\n",
       "            <td>Colts   </td> <td>12.35   </td>\n",
       "        </tr>\n",
       "    </tbody>\n",
       "</table>"
      ],
      "text/plain": [
       "<IPython.core.display.HTML object>"
      ]
     },
     "metadata": {},
     "output_type": "display_data"
    }
   ],
   "source": [
    "football = football.with_column(\n",
    "    'Combined', (football.column(1)+football.column(2))/2\n",
    "    ).drop(1, 2)\n",
    "football.show()"
   ]
  },
  {
   "cell_type": "code",
   "execution_count": 74,
   "id": "b1c20317-88e1-4f3c-918c-571ea636853a",
   "metadata": {},
   "outputs": [
    {
     "data": {
      "text/plain": [
       "array([ 1.,  1.,  1.,  1.,  1.,  1.,  1.,  1.,  1.,  1.,  1.])"
      ]
     },
     "execution_count": 74,
     "metadata": {},
     "output_type": "execute_result"
    }
   ],
   "source": [
    "np.ones(11)"
   ]
  },
  {
   "cell_type": "code",
   "execution_count": 75,
   "id": "838f74c5-6cf4-4114-930d-20891a5fd7dc",
   "metadata": {},
   "outputs": [
    {
     "data": {
      "text/plain": [
       "array([ 12.5,  12.5,  12.5,  12.5,  12.5,  12.5,  12.5,  12.5,  12.5,\n",
       "        12.5,  12.5,  13. ,  13. ,  13. ,  13. ])"
      ]
     },
     "execution_count": 75,
     "metadata": {},
     "output_type": "execute_result"
    }
   ],
   "source": [
    "patriots_start = 12.5 * np.ones(11)\n",
    "colts_start = 13 * np.ones(4)\n",
    "start = np.append(patriots_start, colts_start)\n",
    "start"
   ]
  },
  {
   "cell_type": "code",
   "execution_count": 76,
   "id": "73f7f9d3-4506-451a-99d3-238adfd6fee2",
   "metadata": {},
   "outputs": [
    {
     "data": {
      "text/html": [
       "<table border=\"1\" class=\"dataframe\">\n",
       "    <thead>\n",
       "        <tr>\n",
       "            <th>Team</th> <th>Combined</th> <th>Pressure Drop</th>\n",
       "        </tr>\n",
       "    </thead>\n",
       "    <tbody>\n",
       "        <tr>\n",
       "            <td>Patriots</td> <td>11.65   </td> <td>0.85         </td>\n",
       "        </tr>\n",
       "        <tr>\n",
       "            <td>Patriots</td> <td>11.025  </td> <td>1.475        </td>\n",
       "        </tr>\n",
       "        <tr>\n",
       "            <td>Patriots</td> <td>11.325  </td> <td>1.175        </td>\n",
       "        </tr>\n",
       "        <tr>\n",
       "            <td>Patriots</td> <td>10.85   </td> <td>1.65         </td>\n",
       "        </tr>\n",
       "        <tr>\n",
       "            <td>Patriots</td> <td>11.275  </td> <td>1.225        </td>\n",
       "        </tr>\n",
       "        <tr>\n",
       "            <td>Patriots</td> <td>11.775  </td> <td>0.725        </td>\n",
       "        </tr>\n",
       "        <tr>\n",
       "            <td>Patriots</td> <td>12.075  </td> <td>0.425        </td>\n",
       "        </tr>\n",
       "        <tr>\n",
       "            <td>Patriots</td> <td>11.325  </td> <td>1.175        </td>\n",
       "        </tr>\n",
       "        <tr>\n",
       "            <td>Patriots</td> <td>11.15   </td> <td>1.35         </td>\n",
       "        </tr>\n",
       "        <tr>\n",
       "            <td>Patriots</td> <td>10.7    </td> <td>1.8          </td>\n",
       "        </tr>\n",
       "        <tr>\n",
       "            <td>Patriots</td> <td>11.125  </td> <td>1.375        </td>\n",
       "        </tr>\n",
       "        <tr>\n",
       "            <td>Colts   </td> <td>12.525  </td> <td>0.475        </td>\n",
       "        </tr>\n",
       "        <tr>\n",
       "            <td>Colts   </td> <td>12.525  </td> <td>0.475        </td>\n",
       "        </tr>\n",
       "        <tr>\n",
       "            <td>Colts   </td> <td>12.725  </td> <td>0.275        </td>\n",
       "        </tr>\n",
       "        <tr>\n",
       "            <td>Colts   </td> <td>12.35   </td> <td>0.65         </td>\n",
       "        </tr>\n",
       "    </tbody>\n",
       "</table>"
      ],
      "text/plain": [
       "<IPython.core.display.HTML object>"
      ]
     },
     "metadata": {},
     "output_type": "display_data"
    }
   ],
   "source": [
    "drop = start - football.column('Combined')\n",
    "football = football.with_column('Pressure Drop', drop)\n",
    "football.show()"
   ]
  },
  {
   "cell_type": "code",
   "execution_count": null,
   "id": "f1b84c4c-c1f3-4c19-998e-a5b04ea46302",
   "metadata": {},
   "outputs": [],
   "source": []
  },
  {
   "cell_type": "code",
   "execution_count": 77,
   "id": "0d6c9f39-1c32-471a-a4d0-0e2f52e945c0",
   "metadata": {},
   "outputs": [
    {
     "data": {
      "text/html": [
       "<table border=\"1\" class=\"dataframe\">\n",
       "    <thead>\n",
       "        <tr>\n",
       "            <th>Team</th> <th>Pressure Drop average</th>\n",
       "        </tr>\n",
       "    </thead>\n",
       "    <tbody>\n",
       "        <tr>\n",
       "            <td>Colts   </td> <td>0.46875              </td>\n",
       "        </tr>\n",
       "        <tr>\n",
       "            <td>Patriots</td> <td>1.20227              </td>\n",
       "        </tr>\n",
       "    </tbody>\n",
       "</table>"
      ],
      "text/plain": [
       "Team     | Pressure Drop average\n",
       "Colts    | 0.46875\n",
       "Patriots | 1.20227"
      ]
     },
     "execution_count": 77,
     "metadata": {},
     "output_type": "execute_result"
    }
   ],
   "source": [
    "football = football.drop('Combined')\n",
    "football.group('Team', np.average)"
   ]
  },
  {
   "cell_type": "markdown",
   "id": "e77326c4-e67b-4977-a4c2-3cd67470ab37",
   "metadata": {},
   "source": [
    "\n",
    "\n",
    "\n",
    "¿Cómo llega el azar aquí? No se estaba seleccionando nada al azar. Pero podemos hacer un modelo de azar planteando la hipótesis de que las 11 caídas de los Patriots parecen una muestra aleatoria de 11 de las 15 caídas, siendo las cuatro restantes de las caídas de los Colts. Ese es un modelo de oportunidad completamente especificado bajo el cual podemos simular datos. Así que es la hipótesis nula.\n",
    "\n",
    "Para la alternativa, podemos tomar la posición de que las caídas de los Patriots son demasiado grandes, en promedio, para parecerse a una muestra aleatoria extraída de todas las caídas\n"
   ]
  },
  {
   "cell_type": "markdown",
   "id": "3a03c2ff-afa2-4091-9d55-579797ce2bd0",
   "metadata": {},
   "source": [
    "# Estadístico de prueba"
   ]
  },
  {
   "cell_type": "code",
   "execution_count": 78,
   "id": "b2568d06-0514-45ab-a606-41faffeb90f7",
   "metadata": {},
   "outputs": [
    {
     "data": {
      "text/plain": [
       "0.733522727272728"
      ]
     },
     "execution_count": 78,
     "metadata": {},
     "output_type": "execute_result"
    }
   ],
   "source": [
    "observed_means = football.group('Team', np.average).column(1)\n",
    "observed_difference = observed_means.item(1) - observed_means.item(0)\n",
    "observed_difference"
   ]
  },
  {
   "cell_type": "code",
   "execution_count": 79,
   "id": "8d630a61-caef-4264-b7ea-1075c7a4407e",
   "metadata": {},
   "outputs": [],
   "source": [
    "def difference_of_means(table, group_label):\n",
    "    reduced = table.select('Pressure Drop', group_label)\n",
    "    means_table = reduced.group(group_label, np.average)\n",
    "    means = means_table.column(1)\n",
    "    return means.item(1) - means.item(0)"
   ]
  },
  {
   "cell_type": "code",
   "execution_count": 81,
   "id": "9bf07076-3ad0-4d87-9cd5-53ce46ce5e65",
   "metadata": {},
   "outputs": [
    {
     "data": {
      "text/plain": [
       "0.733522727272728"
      ]
     },
     "execution_count": 81,
     "metadata": {},
     "output_type": "execute_result"
    }
   ],
   "source": [
    "difference_of_means(football, 'Team')"
   ]
  },
  {
   "cell_type": "code",
   "execution_count": 82,
   "id": "f54df220-f81f-48a3-94c4-07c49a0a3849",
   "metadata": {},
   "outputs": [
    {
     "data": {
      "text/html": [
       "<table border=\"1\" class=\"dataframe\">\n",
       "    <thead>\n",
       "        <tr>\n",
       "            <th>Team</th> <th>Pressure Drop</th> <th>Shuffled Label</th>\n",
       "        </tr>\n",
       "    </thead>\n",
       "    <tbody>\n",
       "        <tr>\n",
       "            <td>Patriots</td> <td>0.85         </td> <td>Colts         </td>\n",
       "        </tr>\n",
       "        <tr>\n",
       "            <td>Patriots</td> <td>1.475        </td> <td>Patriots      </td>\n",
       "        </tr>\n",
       "        <tr>\n",
       "            <td>Patriots</td> <td>1.175        </td> <td>Patriots      </td>\n",
       "        </tr>\n",
       "        <tr>\n",
       "            <td>Patriots</td> <td>1.65         </td> <td>Patriots      </td>\n",
       "        </tr>\n",
       "        <tr>\n",
       "            <td>Patriots</td> <td>1.225        </td> <td>Patriots      </td>\n",
       "        </tr>\n",
       "        <tr>\n",
       "            <td>Patriots</td> <td>0.725        </td> <td>Patriots      </td>\n",
       "        </tr>\n",
       "        <tr>\n",
       "            <td>Patriots</td> <td>0.425        </td> <td>Colts         </td>\n",
       "        </tr>\n",
       "        <tr>\n",
       "            <td>Patriots</td> <td>1.175        </td> <td>Patriots      </td>\n",
       "        </tr>\n",
       "        <tr>\n",
       "            <td>Patriots</td> <td>1.35         </td> <td>Patriots      </td>\n",
       "        </tr>\n",
       "        <tr>\n",
       "            <td>Patriots</td> <td>1.8          </td> <td>Patriots      </td>\n",
       "        </tr>\n",
       "        <tr>\n",
       "            <td>Patriots</td> <td>1.375        </td> <td>Patriots      </td>\n",
       "        </tr>\n",
       "        <tr>\n",
       "            <td>Colts   </td> <td>0.475        </td> <td>Colts         </td>\n",
       "        </tr>\n",
       "        <tr>\n",
       "            <td>Colts   </td> <td>0.475        </td> <td>Patriots      </td>\n",
       "        </tr>\n",
       "        <tr>\n",
       "            <td>Colts   </td> <td>0.275        </td> <td>Colts         </td>\n",
       "        </tr>\n",
       "        <tr>\n",
       "            <td>Colts   </td> <td>0.65         </td> <td>Patriots      </td>\n",
       "        </tr>\n",
       "    </tbody>\n",
       "</table>"
      ],
      "text/plain": [
       "<IPython.core.display.HTML object>"
      ]
     },
     "metadata": {},
     "output_type": "display_data"
    }
   ],
   "source": [
    "shuffled_labels = football.sample(with_replacement=False).column(0)\n",
    "original_and_shuffled = football.with_column('Shuffled Label', shuffled_labels)\n",
    "original_and_shuffled.show()"
   ]
  },
  {
   "cell_type": "code",
   "execution_count": 83,
   "id": "c5a06773-a4b4-4e9d-8202-c7132f5faf8b",
   "metadata": {},
   "outputs": [
    {
     "data": {
      "text/plain": [
       "0.6823863636363636"
      ]
     },
     "execution_count": 83,
     "metadata": {},
     "output_type": "execute_result"
    }
   ],
   "source": [
    "difference_of_means(original_and_shuffled, 'Shuffled Label')"
   ]
  },
  {
   "cell_type": "code",
   "execution_count": 84,
   "id": "6cb34863-c39f-4ab3-bfff-2fc802623838",
   "metadata": {},
   "outputs": [
    {
     "data": {
      "text/plain": [
       "0.733522727272728"
      ]
     },
     "execution_count": 84,
     "metadata": {},
     "output_type": "execute_result"
    }
   ],
   "source": [
    "difference_of_means(original_and_shuffled, 'Team')"
   ]
  },
  {
   "cell_type": "markdown",
   "id": "0d1cee3e-6832-4722-8144-c1fa7f1c2ca2",
   "metadata": {},
   "source": [
    "# Prueba de la permutacion"
   ]
  },
  {
   "cell_type": "code",
   "execution_count": 85,
   "id": "622b169e-bfc7-4975-8b30-dba157657d4f",
   "metadata": {},
   "outputs": [],
   "source": [
    "def one_simulated_difference():\n",
    "    shuffled_labels = football.sample(with_replacement = False\n",
    "                                                    ).column('Team')\n",
    "    shuffled_table = football.select('Pressure Drop').with_column(\n",
    "        'Shuffled Label', shuffled_labels)\n",
    "    return difference_of_means(shuffled_table, 'Shuffled Label')   "
   ]
  },
  {
   "cell_type": "code",
   "execution_count": 86,
   "id": "84b81767-0c9f-41cf-94df-3ca35a3ca786",
   "metadata": {},
   "outputs": [],
   "source": [
    "differences = make_array()\n",
    "\n",
    "repetitions = 10000\n",
    "for i in np.arange(repetitions):\n",
    "    new_difference = one_simulated_difference()\n",
    "    differences = np.append(differences, new_difference)"
   ]
  },
  {
   "cell_type": "code",
   "execution_count": 87,
   "id": "8c53b419-b287-45a0-995c-45ba18605c5b",
   "metadata": {},
   "outputs": [
    {
     "name": "stdout",
     "output_type": "stream",
     "text": [
      "Observed Difference: 0.733522727272728\n"
     ]
    },
    {
     "data": {
      "image/png": "[encoded data removed]",
      "text/plain": [
       "<Figure size 600x400 with 1 Axes>"
      ]
     },
     "metadata": {},
     "output_type": "display_data"
    }
   ],
   "source": [
    "Table().with_column(\n",
    "    'Difference Between Group Averages', differences).hist(\n",
    "    left_end = observed_difference\n",
    ")\n",
    "plots.ylim(-0.1, 1.4)\n",
    "plots.scatter(observed_difference, 0, color='red', s=30, zorder=3)\n",
    "plots.title('Prediction Under the Null Hypothesis')\n",
    "print('Observed Difference:', observed_difference)"
   ]
  },
  {
   "cell_type": "code",
   "execution_count": 88,
   "id": "c771e9b0-2fa9-4e27-81e9-2199067f0068",
   "metadata": {},
   "outputs": [
    {
     "data": {
      "text/plain": [
       "0.0025"
      ]
     },
     "execution_count": 88,
     "metadata": {},
     "output_type": "execute_result"
    }
   ],
   "source": [
    "empirical_p = np.count_nonzero(differences >= observed_difference) / 10000\n",
    "empirical_p"
   ]
  },
  {
   "cell_type": "code",
   "execution_count": null,
   "id": "0834a2f7-da37-42c3-84bd-e24cdde778db",
   "metadata": {},
   "outputs": [],
   "source": []
  }
 ],
 "metadata": {
  "kernelspec": {
   "display_name": "Python 3 (ipykernel)",
   "language": "python",
   "name": "python3"
  },
  "language_info": {
   "codemirror_mode": {
    "name": "ipython",
    "version": 3
   },
   "file_extension": ".py",
   "mimetype": "text/x-python",
   "name": "python",
   "nbconvert_exporter": "python",
   "pygments_lexer": "ipython3",
   "version": "3.10.14"
  }
 },
 "nbformat": 4,
 "nbformat_minor": 5
}
