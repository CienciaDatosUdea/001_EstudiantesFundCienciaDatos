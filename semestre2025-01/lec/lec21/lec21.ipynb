{
 "cells": [
  {
   "cell_type": "code",
   "execution_count": 380,
   "id": "76840600-71d7-403a-a52c-c22d3f970149",
   "metadata": {},
   "outputs": [],
   "source": [
    "from datascience import *\n",
    "%matplotlib inline\n",
    "import matplotlib.pyplot as plots\n",
    "plots.style.use('fivethirtyeight')\n",
    "import numpy as np\n",
    "import warnings"
   ]
  },
  {
   "cell_type": "markdown",
   "id": "fabecb40-14d1-4776-ac88-eb3cbb12b1b4",
   "metadata": {},
   "source": [
    "## **Pregunta de Discusión: Eficacia de germinacion de seimillas con hormonas\n",
    "\n",
    "### **Contexto del problema:**  \n",
    "\n",
    "En un experimento de germinación, 200 semillas de maíz fueron tratadas con una nueva hormona vegetal para mejorar la tasa de germinación.\n",
    "\n",
    "\n",
    "- De las 200 semillas tratadas, **91** germinaron correctamente. \n",
    "- Se esperaba que la tasa de germinación fuera del 50%. Surge la pregunta: ¿Este resultado se debe al azar, o la hormona es realmente menos efectiva de lo esperado?\n",
    "\n",
    "\n",
    "### **Hipótesis:**  \n",
    "- **Hipótesis nula (H₀):**  El 50% de las semillas germina tras el tratamiento.\n",
    "- **Hipótesis alternativa (Hₐ):** Menos del **50%** de las semillas germina tras el tratamiento.\n",
    "\n",
    "### **Estadístico de prueba:**  \n",
    "- Distancia de separación entre entre dos distribuciones.\n",
    "\n",
    "### **Valor p:**  \n",
    "- ¿Cuál es el valor p obtenido?  \n",
    "\n",
    "\n",
    "\n",
    "- ¿Qué sucede si cambiamos el número de simulaciones?\n",
    "\n",
    "- ¿Qué sucede si cambiamos el tamano de la muestra, por ejemplo\n",
    "      el doble, 91*2, 200*2?, ¿Qué sucede con el p-value?\n",
    "\n",
    "- ¿qué sucede cuando varían las características de nuestra población?  \n",
    "    por ejemplo si la verdadera poblacion tiene un proporción de  0.45\n",
    "\n",
    "  "
   ]
  },
  {
   "cell_type": "code",
   "execution_count": null,
   "id": "93935e51-b29b-4c8c-a5d7-1718274a18f2",
   "metadata": {},
   "outputs": [],
   "source": []
  }
 ],
 "metadata": {
  "kernelspec": {
   "display_name": "Python 3 (ipykernel)",
   "language": "python",
   "name": "python3"
  },
  "language_info": {
   "codemirror_mode": {
    "name": "ipython",
    "version": 3
   },
   "file_extension": ".py",
   "mimetype": "text/x-python",
   "name": "python",
   "nbconvert_exporter": "python",
   "pygments_lexer": "ipython3",
   "version": "3.10.14"
  }
 },
 "nbformat": 4,
 "nbformat_minor": 5
}
