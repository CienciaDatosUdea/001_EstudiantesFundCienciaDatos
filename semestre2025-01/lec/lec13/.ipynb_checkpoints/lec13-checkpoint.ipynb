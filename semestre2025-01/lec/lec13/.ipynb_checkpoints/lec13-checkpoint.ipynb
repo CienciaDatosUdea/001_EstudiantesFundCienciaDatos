{
 "cells": [
  {
   "cell_type": "markdown",
   "id": "3c7ab395-af5c-4211-bcbc-677c1c59dd27",
   "metadata": {},
   "source": [
    "# Cálculo de probabilidades\n",
    "\n",
    "\n",
    "La función de probablidad P, asigna a cada evento una probabilidad de ocurrencia. P(evento), es la probabilidad de que el evento A, ocurra al efectuar un experimento. Por convencion la probablidad es un número entre 0 y 1 o entre 0 y el 100%. los eventos imposibles tiene una probablidad de 0. Los eventos que son ciertos tiene una probablidad de 1. \n",
    "\n",
    "Para el calculo de probabilidades P, se suele definir primero el espacio muestral, definido  como la colección de todos los resultados posibles de un experimentos, después, dependiendo de la naturaleza del experimento,  se toman los valores asignados de ocurrencia de cada unos de los eventos.\n",
    "\n",
    "Un ejemplo, el espacio muestral del lanzamiento de una moneda que tiene una cara (H) y  un sello (T) es: $S=\\{T, H\\}$.\n",
    "\n",
    "$P(S) = P(T) + P(H)  = 1 $\n",
    "\n",
    "Si la moneda, no esta pesada es plausible asumir que :\n",
    "\n",
    "$ P(H) + P(T)=\\frac{1}{2}$\n",
    "\n",
    "\n",
    "\n",
    "\n",
    "## ¿Cuando un evento no sucede?\n",
    "Si la probabilidad de que ocurra un evento es del 40%, la probabilidad de que el evento NO ocurra es del 60%\n",
    "\n",
    "$P (\\text{evento NO ocurra}) = 1- P(\\text{evento ocurra})$\n"
   ]
  },
  {
   "cell_type": "markdown",
   "id": "5a32a33d-6290-40c9-93a2-c3e97be44d9d",
   "metadata": {},
   "source": [
    "Ejemplo: \n",
    "\n",
    "¿Cuál es la probabilidad de que por lo menos, una cara salga en dos tiradas de una moneda?\n",
    "\n",
    "R/:,   \n",
    "S = {TT , TH, HT, HH}\n",
    "\n",
    "Si asumimos que cada evento ocurre bajo las mismas condiciones, la probabilidad viene dada por: \n",
    "\n",
    "$P(S) = \\frac{ \\{TH, HT, HH\\} }{ \\{TT , TH, HT, HH\\} } = \\frac{3}{4}$\n",
    "\n",
    "Experimentos computacional"
   ]
  },
  {
   "cell_type": "code",
   "execution_count": 31,
   "id": "dba57b3b-faed-4405-9b02-f0589e7c784d",
   "metadata": {},
   "outputs": [],
   "source": [
    "from datascience import *\n",
    "import numpy as np\n",
    "import matplotlib.pylab as plots\n",
    "plots.style.use('fivethirtyeight')\n",
    "%matplotlib inline"
   ]
  },
  {
   "cell_type": "code",
   "execution_count": 37,
   "id": "ae6b8e00-6989-4768-a041-e9e1d181e67d",
   "metadata": {},
   "outputs": [],
   "source": []
  },
  {
   "cell_type": "code",
   "execution_count": 46,
   "id": "b51217b6-591e-476b-83cc-49a338ef1136",
   "metadata": {},
   "outputs": [],
   "source": [
    "def lanzamiento():\n",
    "    S=make_array(\"H\", \"T\")\n",
    "    experimento=np.random.choice(S, 100)\n",
    "    return experimento\n",
    "resultados=make_array()\n",
    "for i in range(0, 1000):\n",
    "    a = lanzamiento()\n",
    "    resultados=np.append(resultados, a)\n",
    "    "
   ]
  },
  {
   "cell_type": "code",
   "execution_count": 51,
   "id": "6afa5ccf-7836-43db-8ff4-29312a251195",
   "metadata": {
    "scrolled": true
   },
   "outputs": [
    {
     "data": {
      "image/png": "[encoded data removed]",
      "text/plain": [
       "<Figure size 600x400 with 1 Axes>"
      ]
     },
     "metadata": {},
     "output_type": "display_data"
    }
   ],
   "source": [
    "resultado = Table().with_columns(\"Resultados\",resultados)\n",
    "resultado.group(\"Resultados\").barh(0)"
   ]
  },
  {
   "cell_type": "markdown",
   "id": "0befeeaf-b294-4b00-bb77-aa447ab9f48c",
   "metadata": {},
   "source": [
    "# Lancemos la moneda dos veces"
   ]
  },
  {
   "cell_type": "code",
   "execution_count": 52,
   "id": "50fff633-9f79-4e2b-adb2-9dcc0aa53892",
   "metadata": {},
   "outputs": [
    {
     "data": {
      "text/html": [
       "<table border=\"1\" class=\"dataframe\">\n",
       "    <thead>\n",
       "        <tr>\n",
       "            <th>Resultados</th> <th>count</th>\n",
       "        </tr>\n",
       "    </thead>\n",
       "    <tbody>\n",
       "        <tr>\n",
       "            <td>HH        </td> <td>27   </td>\n",
       "        </tr>\n",
       "        <tr>\n",
       "            <td>HT        </td> <td>26   </td>\n",
       "        </tr>\n",
       "        <tr>\n",
       "            <td>TH        </td> <td>18   </td>\n",
       "        </tr>\n",
       "        <tr>\n",
       "            <td>TT        </td> <td>29   </td>\n",
       "        </tr>\n",
       "    </tbody>\n",
       "</table>"
      ],
      "text/plain": [
       "Resultados | count\n",
       "HH         | 27\n",
       "HT         | 26\n",
       "TH         | 18\n",
       "TT         | 29"
      ]
     },
     "execution_count": 52,
     "metadata": {},
     "output_type": "execute_result"
    }
   ],
   "source": [
    "S = make_array(\"HH\", \"HT\", \"TH\", \"TT\")\n",
    "experimento = np.random.choice(S, 100)\n",
    "resul = Table().with_columns(\"Resultados\",experimento)\n",
    "resul.group(\"Resultados\")"
   ]
  },
  {
   "cell_type": "code",
   "execution_count": 53,
   "id": "6d53a461-794e-4e3c-a8e3-3b0535c28f3d",
   "metadata": {},
   "outputs": [
    {
     "data": {
      "text/html": [
       "<table border=\"1\" class=\"dataframe\">\n",
       "    <thead>\n",
       "        <tr>\n",
       "            <th>resultados</th> <th>count</th>\n",
       "        </tr>\n",
       "    </thead>\n",
       "    <tbody>\n",
       "        <tr>\n",
       "            <td>HH        </td> <td>2570 </td>\n",
       "        </tr>\n",
       "        <tr>\n",
       "            <td>HT        </td> <td>2496 </td>\n",
       "        </tr>\n",
       "        <tr>\n",
       "            <td>TH        </td> <td>2491 </td>\n",
       "        </tr>\n",
       "        <tr>\n",
       "            <td>TT        </td> <td>2443 </td>\n",
       "        </tr>\n",
       "    </tbody>\n",
       "</table>"
      ],
      "text/plain": [
       "resultados | count\n",
       "HH         | 2570\n",
       "HT         | 2496\n",
       "TH         | 2491\n",
       "TT         | 2443"
      ]
     },
     "execution_count": 53,
     "metadata": {},
     "output_type": "execute_result"
    }
   ],
   "source": [
    "# Volvamos lo anterior una funcion \n",
    "def doble_lanzamiento():\n",
    "    S = make_array(\"HH\", \"HT\", \"TH\", \"TT\")\n",
    "    experimento = np.random.choice(S, 100)\n",
    "    return experimento\n",
    "\n",
    "\n",
    "resultados = make_array()\n",
    "for i in range(0, 100):\n",
    "    resultados = np.append(resultados, doble_lanzamiento())\n",
    "\n",
    "resultados = Table().with_column(\"resultados\", resultados)\n",
    "resultados.group(\"resultados\")"
   ]
  },
  {
   "cell_type": "code",
   "execution_count": 54,
   "id": "89f8727e-2657-4c87-bc9a-7bea238ceccd",
   "metadata": {},
   "outputs": [
    {
     "data": {
      "image/png": "[encoded data removed]",
      "text/plain": [
       "<Figure size 600x400 with 1 Axes>"
      ]
     },
     "metadata": {},
     "output_type": "display_data"
    }
   ],
   "source": [
    "resultados.group(\"resultados\").bar(0)"
   ]
  },
  {
   "cell_type": "code",
   "execution_count": 173,
   "id": "92b82e38-8331-456a-9093-f8bb8b96ca86",
   "metadata": {},
   "outputs": [],
   "source": [
    "Q = np.random.choice(monedas, 1000)"
   ]
  },
  {
   "cell_type": "code",
   "execution_count": null,
   "id": "54aa0de9-4819-454d-96d7-bcbd21e7f953",
   "metadata": {},
   "outputs": [],
   "source": []
  },
  {
   "cell_type": "code",
   "execution_count": null,
   "id": "274ae50e-5cdc-4844-8299-a640a690e57b",
   "metadata": {},
   "outputs": [],
   "source": []
  },
  {
   "cell_type": "markdown",
   "id": "a8fba817-cbf0-4f33-9e43-dd7fb9225239",
   "metadata": {},
   "source": [
    "¿Cuál es la probablidad de que en la segunda tirada obtenga un cara?\n",
    "\n",
    "# Problema. \n",
    "\n",
    "Supongamos que tenemos una bolsa con tres bolas: rojas, verde y azul, y realizas el siguiente experimento: Mezclas las bolas y sacas una. Después, vuelves a mezclar las bolas y sacas la segunda, y finalmente sacas la bola que queda. \n",
    "\n",
    "- ¿Cual es la probabilidad de sacar una bola verde primero seguida de una roja?\n",
    "\n",
    "- ¿Cual es la probabilidad de que uno de las dos bolas sea verde y la otra roja?\n",
    "\n",
    "Realiza el cálculo de forma teórica y comprueba tu solución con un experimento computacional.\n",
    "\n",
    "\n"
   ]
  },
  {
   "cell_type": "code",
   "execution_count": 75,
   "id": "a3e0fd2b-a43a-4e99-a388-a35b649068a8",
   "metadata": {},
   "outputs": [],
   "source": []
  },
  {
   "cell_type": "code",
   "execution_count": 79,
   "id": "dc8368fb-0092-4a24-afe2-9b89891ef1b9",
   "metadata": {},
   "outputs": [],
   "source": []
  },
  {
   "cell_type": "markdown",
   "id": "31eb94f4-9b9c-496c-b8b4-300f712a38c7",
   "metadata": {},
   "source": [
    "1/(6)**5"
   ]
  },
  {
   "cell_type": "code",
   "execution_count": 60,
   "id": "2b2f1594-b6df-4cc4-91b9-3d4764600625",
   "metadata": {},
   "outputs": [
    {
     "ename": "NameError",
     "evalue": "name 'sample' is not defined",
     "output_type": "error",
     "traceback": [
      "\u001b[0;31m---------------------------------------------------------------------------\u001b[0m",
      "\u001b[0;31mNameError\u001b[0m                                 Traceback (most recent call last)",
      "Cell \u001b[0;32mIn[60], line 1\u001b[0m\n\u001b[0;32m----> 1\u001b[0m \u001b[43msample\u001b[49m(S, \u001b[38;5;241m10\u001b[39m)\n",
      "\u001b[0;31mNameError\u001b[0m: name 'sample' is not defined"
     ]
    }
   ],
   "source": [
    "sample(S, 10"
   ]
  },
  {
   "cell_type": "code",
   "execution_count": null,
   "id": "bde4a05d-9298-4321-a544-9ada0812a3b9",
   "metadata": {},
   "outputs": [],
   "source": []
  },
  {
   "cell_type": "code",
   "execution_count": null,
   "id": "ec630bee-1c35-4d23-bb12-56ae36695301",
   "metadata": {},
   "outputs": [],
   "source": []
  },
  {
   "cell_type": "code",
   "execution_count": null,
   "id": "ce27bcce-4ebb-4e96-bcd1-2da7e0609d69",
   "metadata": {},
   "outputs": [],
   "source": []
  }
 ],
 "metadata": {
  "kernelspec": {
   "display_name": "Python 3 (ipykernel)",
   "language": "python",
   "name": "python3"
  },
  "language_info": {
   "codemirror_mode": {
    "name": "ipython",
    "version": 3
   },
   "file_extension": ".py",
   "mimetype": "text/x-python",
   "name": "python",
   "nbconvert_exporter": "python",
   "pygments_lexer": "ipython3",
   "version": "3.10.14"
  }
 },
 "nbformat": 4,
 "nbformat_minor": 5
}
