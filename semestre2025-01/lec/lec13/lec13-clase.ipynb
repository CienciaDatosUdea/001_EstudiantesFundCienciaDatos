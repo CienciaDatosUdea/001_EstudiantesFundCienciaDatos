{
 "cells": [
  {
   "cell_type": "markdown",
   "id": "3c7ab395-af5c-4211-bcbc-677c1c59dd27",
   "metadata": {},
   "source": [
    "# Cálculo de probabilidades\n",
    "\n",
    "\n",
    "La función de probablidad P, asigna a cada evento una probabilidad de ocurrencia. P(evento), es la probabilidad de que el evento A, ocurra al efectuar un experimento. Por convencion la probablidad es un número entre 0 y 1 o entre 0 y el 100%. los eventos imposibles tiene una probablidad de 0. Los eventos que son ciertos tiene una probablidad de 1. \n",
    "\n",
    "Para el calculo de probabilidades P, se suele definir primero el espacio muestral, definido  como la colección de todos los resultados posibles de un experimentos, después, dependiendo de la naturaleza del experimento,  se toman los valores asignados de ocurrencia de cada unos de los eventos.\n",
    "\n",
    "Un ejemplo, el espacio muestral del lanzamiento de una moneda que tiene una cara (H) y  un sello (T) es: $S=\\{T, H\\}$.\n",
    "\n",
    "$P(S) = P(T) + P(H)  = 1 $\n",
    "\n",
    "Si la moneda, no esta pesada es plausible asumir que :\n",
    "\n",
    "$ P(H) + P(T)=\\frac{1}{2}$\n",
    "\n",
    "\n",
    "\n",
    "\n",
    "## ¿Cuando un evento no sucede?\n",
    "Si la probabilidad de que ocurra un evento es del 40%, la probabilidad de que el evento NO ocurra es del 60%\n",
    "\n",
    "$P (\\text{evento NO ocurra}) = 1- P(\\text{evento ocurra})$\n"
   ]
  },
  {
   "cell_type": "markdown",
   "id": "5a32a33d-6290-40c9-93a2-c3e97be44d9d",
   "metadata": {},
   "source": [
    "Ejemplo: \n",
    "\n",
    "¿Cuál es la probabilidad de que por lo menos, una cara salga en dos tiradas de una moneda?\n",
    "\n",
    "R/:,   \n",
    "S = {TT , TH, HT, HH}\n",
    "\n",
    "Si asumimos que cada evento ocurre bajo las mismas condiciones, la probabilidad viene dada por: \n",
    "\n",
    "$P(S) = \\frac{ \\{TH, HT, HH\\} }{ \\{TT , TH, HT, HH\\} } = \\frac{3}{4}$\n",
    "\n",
    "Experimentos computacional"
   ]
  },
  {
   "cell_type": "code",
   "execution_count": 65,
   "id": "dba57b3b-faed-4405-9b02-f0589e7c784d",
   "metadata": {},
   "outputs": [],
   "source": [
    "from datascience import *\n",
    "import numpy as np\n",
    "import matplotlib.pylab as plots\n",
    "plots.style.use('fivethirtyeight')\n",
    "%matplotlib inline"
   ]
  },
  {
   "cell_type": "code",
   "execution_count": 3,
   "id": "ae6b8e00-6989-4768-a041-e9e1d181e67d",
   "metadata": {},
   "outputs": [],
   "source": [
    "S = make_array(\"T\", \"H\")"
   ]
  },
  {
   "cell_type": "code",
   "execution_count": 7,
   "id": "e11182c7-0fa8-419a-bf7d-d3bb9d9cb372",
   "metadata": {},
   "outputs": [],
   "source": [
    "def lanzamiento():\n",
    "    return np.random.choice(S, 100)"
   ]
  },
  {
   "cell_type": "code",
   "execution_count": 10,
   "id": "6ec66668-f8e4-49eb-bf0f-08cf89adab2e",
   "metadata": {},
   "outputs": [],
   "source": [
    "Nsimulacion = make_array()\n",
    "for i in range (0, 1000):\n",
    "    Nsimulacion=np.append(Nsimulacion, lanzamiento())"
   ]
  },
  {
   "cell_type": "code",
   "execution_count": 15,
   "id": "a39496e2-fbb4-4a1e-9f69-acbbd60d4bfb",
   "metadata": {},
   "outputs": [
    {
     "data": {
      "text/plain": [
       "49783"
      ]
     },
     "execution_count": 15,
     "metadata": {},
     "output_type": "execute_result"
    }
   ],
   "source": [
    "np.count_nonzero(Nsimulacion==\"T\")"
   ]
  },
  {
   "cell_type": "code",
   "execution_count": 16,
   "id": "23f47b8e-59fa-4a6d-8c21-8f95d4246e2b",
   "metadata": {},
   "outputs": [
    {
     "data": {
      "text/plain": [
       "50217"
      ]
     },
     "execution_count": 16,
     "metadata": {},
     "output_type": "execute_result"
    }
   ],
   "source": [
    "np.count_nonzero(Nsimulacion==\"H\")"
   ]
  },
  {
   "cell_type": "code",
   "execution_count": 18,
   "id": "ee61e32c-0753-4c53-a662-1037e8f55661",
   "metadata": {},
   "outputs": [],
   "source": [
    "E = Table().with_column(\"Simulacion\", Nsimulacion)"
   ]
  },
  {
   "cell_type": "code",
   "execution_count": 20,
   "id": "bc0d438a-cd5c-4535-a585-1c4113bac762",
   "metadata": {},
   "outputs": [
    {
     "data": {
      "image/png": "[encoded data removed]",
      "text/plain": [
       "<Figure size 600x400 with 1 Axes>"
      ]
     },
     "metadata": {},
     "output_type": "display_data"
    }
   ],
   "source": [
    "E.group(\"Simulacion\").barh(0)"
   ]
  },
  {
   "cell_type": "code",
   "execution_count": 49,
   "id": "3363a604-79e7-4dd5-ac65-1da17fe0f080",
   "metadata": {},
   "outputs": [],
   "source": [
    "S = make_array(\"HH\", \"HT\", \"TH\", \"TT\")"
   ]
  },
  {
   "cell_type": "code",
   "execution_count": 50,
   "id": "7ee8dfcb-8aad-4cad-996c-70822c591d3b",
   "metadata": {},
   "outputs": [],
   "source": [
    "def doble_lanzamiento():\n",
    "    return np.random.choice(S, 100)"
   ]
  },
  {
   "cell_type": "markdown",
   "id": "2872031d-0149-4363-bed8-d8cdae00f9b1",
   "metadata": {},
   "source": [
    "¿Cuál es la probabilidad de obtener una cara?"
   ]
  },
  {
   "cell_type": "code",
   "execution_count": 57,
   "id": "f47b758f-5ea9-4164-9efd-a1397e00b4d4",
   "metadata": {},
   "outputs": [],
   "source": [
    "def probablidad_obtener_una_cara():\n",
    "    Nsim=make_array()\n",
    "    for i in range(0, 1000):\n",
    "        Nsim = np.append(Nsim, doble_lanzamiento())\n",
    "    n = np.count_nonzero( (Nsim==\"HH\") | (Nsim==\"HT\") | (Nsim==\"TH\"))\n",
    "    return n/len(Nsim)"
   ]
  },
  {
   "cell_type": "code",
   "execution_count": 61,
   "id": "38dc0d15-c500-41ad-bf1b-629dccbfbb2d",
   "metadata": {},
   "outputs": [
    {
     "name": "stdout",
     "output_type": "stream",
     "text": [
      "0\n",
      "1\n",
      "2\n",
      "3\n",
      "4\n",
      "5\n",
      "6\n",
      "7\n",
      "8\n",
      "9\n",
      "10\n",
      "11\n",
      "12\n",
      "13\n",
      "14\n",
      "15\n",
      "16\n",
      "17\n",
      "18\n",
      "19\n",
      "20\n",
      "21\n",
      "22\n",
      "23\n",
      "24\n",
      "25\n",
      "26\n",
      "27\n",
      "28\n",
      "29\n",
      "30\n",
      "31\n",
      "32\n",
      "33\n",
      "34\n",
      "35\n",
      "36\n",
      "37\n",
      "38\n",
      "39\n",
      "40\n",
      "41\n",
      "42\n",
      "43\n",
      "44\n",
      "45\n",
      "46\n",
      "47\n",
      "48\n",
      "49\n",
      "50\n",
      "51\n",
      "52\n",
      "53\n",
      "54\n",
      "55\n",
      "56\n",
      "57\n",
      "58\n",
      "59\n",
      "60\n",
      "61\n",
      "62\n",
      "63\n",
      "64\n",
      "65\n",
      "66\n",
      "67\n",
      "68\n",
      "69\n",
      "70\n",
      "71\n",
      "72\n",
      "73\n",
      "74\n",
      "75\n",
      "76\n",
      "77\n",
      "78\n",
      "79\n",
      "80\n",
      "81\n",
      "82\n",
      "83\n",
      "84\n",
      "85\n",
      "86\n",
      "87\n",
      "88\n",
      "89\n",
      "90\n",
      "91\n",
      "92\n",
      "93\n",
      "94\n",
      "95\n",
      "96\n",
      "97\n",
      "98\n",
      "99\n"
     ]
    }
   ],
   "source": [
    "valor_esperado=make_array()\n",
    "for i in range(0, 100):\n",
    "    print(i)\n",
    "    valor_esperado=np.append(valor_esperado, probablidad_obtener_una_cara())"
   ]
  },
  {
   "cell_type": "code",
   "execution_count": 67,
   "id": "341ebb47-c64d-432d-9d37-6817add6d005",
   "metadata": {},
   "outputs": [],
   "source": [
    "v=Table().with_column(\"v\", valor_esperado)\n"
   ]
  },
  {
   "cell_type": "code",
   "execution_count": 73,
   "id": "1eb36528-d8ad-4fb2-a7c3-c5d53787fa0b",
   "metadata": {},
   "outputs": [
    {
     "data": {
      "text/plain": [
       "(0.74, 0.76)"
      ]
     },
     "execution_count": 73,
     "metadata": {},
     "output_type": "execute_result"
    },
    {
     "data": {
      "image/png": "[encoded data removed]",
      "text/plain": [
       "<Figure size 600x400 with 1 Axes>"
      ]
     },
     "metadata": {},
     "output_type": "display_data"
    }
   ],
   "source": [
    "v.hist()\n",
    "plots.xlim(0.74, 0.76)"
   ]
  },
  {
   "cell_type": "code",
   "execution_count": 2,
   "id": "b51217b6-591e-476b-83cc-49a338ef1136",
   "metadata": {},
   "outputs": [],
   "source": [
    "def lanzamiento():\n",
    "    S=make_array(\"H\", \"T\")\n",
    "    experimento=np.random.choice(S, 100)\n",
    "    return experimento\n",
    "resultados=make_array()\n",
    "for i in range(0, 1000):\n",
    "    a = lanzamiento()\n",
    "    resultados=np.append(resultados, a)\n",
    "    "
   ]
  },
  {
   "cell_type": "code",
   "execution_count": 51,
   "id": "6afa5ccf-7836-43db-8ff4-29312a251195",
   "metadata": {
    "scrolled": true
   },
   "outputs": [
    {
     "data": {
      "image/png": "[encoded data removed]",
      "text/plain": [
       "<Figure size 600x400 with 1 Axes>"
      ]
     },
     "metadata": {},
     "output_type": "display_data"
    }
   ],
   "source": [
    "resultado = Table().with_columns(\"Resultados\",resultados)\n",
    "resultado.group(\"Resultados\").barh(0)"
   ]
  },
  {
   "cell_type": "markdown",
   "id": "0befeeaf-b294-4b00-bb77-aa447ab9f48c",
   "metadata": {},
   "source": [
    "# Lancemos la moneda dos veces"
   ]
  },
  {
   "cell_type": "code",
   "execution_count": 52,
   "id": "50fff633-9f79-4e2b-adb2-9dcc0aa53892",
   "metadata": {},
   "outputs": [
    {
     "data": {
      "text/html": [
       "<table border=\"1\" class=\"dataframe\">\n",
       "    <thead>\n",
       "        <tr>\n",
       "            <th>Resultados</th> <th>count</th>\n",
       "        </tr>\n",
       "    </thead>\n",
       "    <tbody>\n",
       "        <tr>\n",
       "            <td>HH        </td> <td>27   </td>\n",
       "        </tr>\n",
       "        <tr>\n",
       "            <td>HT        </td> <td>26   </td>\n",
       "        </tr>\n",
       "        <tr>\n",
       "            <td>TH        </td> <td>18   </td>\n",
       "        </tr>\n",
       "        <tr>\n",
       "            <td>TT        </td> <td>29   </td>\n",
       "        </tr>\n",
       "    </tbody>\n",
       "</table>"
      ],
      "text/plain": [
       "Resultados | count\n",
       "HH         | 27\n",
       "HT         | 26\n",
       "TH         | 18\n",
       "TT         | 29"
      ]
     },
     "execution_count": 52,
     "metadata": {},
     "output_type": "execute_result"
    }
   ],
   "source": [
    "S = make_array(\"HH\", \"HT\", \"TH\", \"TT\")\n",
    "experimento = np.random.choice(S, 100)\n",
    "resul = Table().with_columns(\"Resultados\",experimento)\n",
    "resul.group(\"Resultados\")"
   ]
  },
  {
   "cell_type": "code",
   "execution_count": 53,
   "id": "6d53a461-794e-4e3c-a8e3-3b0535c28f3d",
   "metadata": {},
   "outputs": [
    {
     "data": {
      "text/html": [
       "<table border=\"1\" class=\"dataframe\">\n",
       "    <thead>\n",
       "        <tr>\n",
       "            <th>resultados</th> <th>count</th>\n",
       "        </tr>\n",
       "    </thead>\n",
       "    <tbody>\n",
       "        <tr>\n",
       "            <td>HH        </td> <td>2570 </td>\n",
       "        </tr>\n",
       "        <tr>\n",
       "            <td>HT        </td> <td>2496 </td>\n",
       "        </tr>\n",
       "        <tr>\n",
       "            <td>TH        </td> <td>2491 </td>\n",
       "        </tr>\n",
       "        <tr>\n",
       "            <td>TT        </td> <td>2443 </td>\n",
       "        </tr>\n",
       "    </tbody>\n",
       "</table>"
      ],
      "text/plain": [
       "resultados | count\n",
       "HH         | 2570\n",
       "HT         | 2496\n",
       "TH         | 2491\n",
       "TT         | 2443"
      ]
     },
     "execution_count": 53,
     "metadata": {},
     "output_type": "execute_result"
    }
   ],
   "source": [
    "# Volvamos lo anterior una funcion \n",
    "def doble_lanzamiento():\n",
    "    S = make_array(\"HH\", \"HT\", \"TH\", \"TT\")\n",
    "    experimento = np.random.choice(S, 100)\n",
    "    return experimento\n",
    "\n",
    "\n",
    "resultados = make_array()\n",
    "for i in range(0, 100):\n",
    "    resultados = np.append(resultados, doble_lanzamiento())\n",
    "\n",
    "resultados = Table().with_column(\"resultados\", resultados)\n",
    "resultados.group(\"resultados\")"
   ]
  },
  {
   "cell_type": "code",
   "execution_count": 54,
   "id": "89f8727e-2657-4c87-bc9a-7bea238ceccd",
   "metadata": {},
   "outputs": [
    {
     "data": {
      "image/png": "[encoded data removed]",
      "text/plain": [
       "<Figure size 600x400 with 1 Axes>"
      ]
     },
     "metadata": {},
     "output_type": "display_data"
    }
   ],
   "source": [
    "resultados.group(\"resultados\").bar(0)"
   ]
  },
  {
   "cell_type": "code",
   "execution_count": 173,
   "id": "92b82e38-8331-456a-9093-f8bb8b96ca86",
   "metadata": {},
   "outputs": [],
   "source": []
  },
  {
   "cell_type": "code",
   "execution_count": null,
   "id": "274ae50e-5cdc-4844-8299-a640a690e57b",
   "metadata": {},
   "outputs": [],
   "source": []
  },
  {
   "cell_type": "markdown",
   "id": "a8fba817-cbf0-4f33-9e43-dd7fb9225239",
   "metadata": {},
   "source": [
    "¿Cuál es la probablidad de que en la segunda tirada obtenga un cara?\n",
    "\n",
    "# Problema. \n",
    "\n",
    "Supongamos que tenemos una bolsa con tres bolas: rojas, verde y azul, y realizas el siguiente experimento: Mezclas las bolas y sacas una. Después, vuelves a mezclar las bolas y sacas la segunda, y finalmente sacas la bola que queda. \n",
    "\n",
    "- ¿Cual es la probabilidad de sacar una bola verde primero seguida de una roja?\n",
    "\n",
    "- ¿Cual es la probabilidad de que uno de las dos bolas sea verde y la otra roja?\n",
    "\n",
    "Realiza el cálculo de forma teórica y comprueba tu solución con un experimento computacional.\n",
    "\n",
    "\n"
   ]
  },
  {
   "cell_type": "code",
   "execution_count": 75,
   "id": "a3e0fd2b-a43a-4e99-a388-a35b649068a8",
   "metadata": {},
   "outputs": [
    {
     "data": {
      "text/plain": [
       "array(['RGB', 'RBG', 'BRG', 'BGR', 'GRB', 'GBR'],\n",
       "      dtype='<U3')"
      ]
     },
     "execution_count": 75,
     "metadata": {},
     "output_type": "execute_result"
    }
   ],
   "source": [
    "S=make_array('RGB','RBG','BRG','BGR','GRB','GBR')\n",
    "S"
   ]
  },
  {
   "cell_type": "code",
   "execution_count": 87,
   "id": "dc8368fb-0092-4a24-afe2-9b89891ef1b9",
   "metadata": {},
   "outputs": [],
   "source": [
    "def experimento_colores():\n",
    "    return np.random.choice(S,100)"
   ]
  },
  {
   "cell_type": "code",
   "execution_count": 93,
   "id": "c117a0ec-668e-436f-8362-6ac8b4fb0186",
   "metadata": {},
   "outputs": [],
   "source": [
    "def Nexperimentos():\n",
    "    resultado = make_array()\n",
    "    for i in range(100):\n",
    "        resultado = np.append(resultado,experimento_colores())\n",
    "    \n",
    "    experimento = Table().with_column('simulacion',resultado)\n",
    "    favorable = experimento.where('simulacion',are.containing('GR'))\n",
    "    return favorable.num_rows/experimento.num_rows"
   ]
  },
  {
   "cell_type": "code",
   "execution_count": 96,
   "id": "2c054192-f297-4391-b7ff-e7bf147e1a85",
   "metadata": {},
   "outputs": [
    {
     "data": {
      "image/png": "[encoded data removed]",
      "text/plain": [
       "<Figure size 600x400 with 1 Axes>"
      ]
     },
     "metadata": {},
     "output_type": "display_data"
    }
   ],
   "source": [
    "varios = make_array()\n",
    "for j in range(100):\n",
    "    varios = np.append(varios, Nexperimentos())\n",
    "\n",
    "Table().with_column('Nsimulacion',varios).hist(0)"
   ]
  },
  {
   "cell_type": "code",
   "execution_count": 85,
   "id": "eb21f519-9610-4d04-b549-4f2fd8966834",
   "metadata": {},
   "outputs": [
    {
     "data": {
      "text/html": [
       "<table border=\"1\" class=\"dataframe\">\n",
       "    <thead>\n",
       "        <tr>\n",
       "            <th>simulacion</th>\n",
       "        </tr>\n",
       "    </thead>\n",
       "    <tbody>\n",
       "        <tr>\n",
       "            <td>GRB       </td>\n",
       "        </tr>\n",
       "        <tr>\n",
       "            <td>GRB       </td>\n",
       "        </tr>\n",
       "        <tr>\n",
       "            <td>GRB       </td>\n",
       "        </tr>\n",
       "        <tr>\n",
       "            <td>BGR       </td>\n",
       "        </tr>\n",
       "        <tr>\n",
       "            <td>GRB       </td>\n",
       "        </tr>\n",
       "        <tr>\n",
       "            <td>BGR       </td>\n",
       "        </tr>\n",
       "        <tr>\n",
       "            <td>GRB       </td>\n",
       "        </tr>\n",
       "        <tr>\n",
       "            <td>GRB       </td>\n",
       "        </tr>\n",
       "        <tr>\n",
       "            <td>GRB       </td>\n",
       "        </tr>\n",
       "        <tr>\n",
       "            <td>GRB       </td>\n",
       "        </tr>\n",
       "    </tbody>\n",
       "</table>\n",
       "<p>... (3334 rows omitted)</p>"
      ],
      "text/plain": [
       "simulacion\n",
       "GRB\n",
       "GRB\n",
       "GRB\n",
       "BGR\n",
       "GRB\n",
       "BGR\n",
       "GRB\n",
       "GRB\n",
       "GRB\n",
       "GRB\n",
       "... (3334 rows omitted)"
      ]
     },
     "execution_count": 85,
     "metadata": {},
     "output_type": "execute_result"
    }
   ],
   "source": [
    "\n"
   ]
  },
  {
   "cell_type": "code",
   "execution_count": 86,
   "id": "26d630f2-4add-45cf-9528-c420d96f81cb",
   "metadata": {},
   "outputs": [
    {
     "data": {
      "text/plain": [
       "0.3344"
      ]
     },
     "execution_count": 86,
     "metadata": {},
     "output_type": "execute_result"
    }
   ],
   "source": []
  },
  {
   "cell_type": "markdown",
   "id": "31eb94f4-9b9c-496c-b8b4-300f712a38c7",
   "metadata": {},
   "source": [
    "1/(6)**5"
   ]
  },
  {
   "cell_type": "code",
   "execution_count": 97,
   "id": "2b2f1594-b6df-4cc4-91b9-3d4764600625",
   "metadata": {},
   "outputs": [],
   "source": [
    "S=make_array(\"R\", \"G\", \"B\")"
   ]
  },
  {
   "cell_type": "code",
   "execution_count": 98,
   "id": "bde4a05d-9298-4321-a544-9ada0812a3b9",
   "metadata": {},
   "outputs": [],
   "source": [
    "Posibilidades = Table().with_column(\"S\", S)"
   ]
  },
  {
   "cell_type": "code",
   "execution_count": 99,
   "id": "ec630bee-1c35-4d23-bb12-56ae36695301",
   "metadata": {},
   "outputs": [
    {
     "data": {
      "text/html": [
       "<table border=\"1\" class=\"dataframe\">\n",
       "    <thead>\n",
       "        <tr>\n",
       "            <th>S</th>\n",
       "        </tr>\n",
       "    </thead>\n",
       "    <tbody>\n",
       "        <tr>\n",
       "            <td>R   </td>\n",
       "        </tr>\n",
       "        <tr>\n",
       "            <td>G   </td>\n",
       "        </tr>\n",
       "        <tr>\n",
       "            <td>B   </td>\n",
       "        </tr>\n",
       "    </tbody>\n",
       "</table>"
      ],
      "text/plain": [
       "S\n",
       "R\n",
       "G\n",
       "B"
      ]
     },
     "execution_count": 99,
     "metadata": {},
     "output_type": "execute_result"
    }
   ],
   "source": [
    "Posibilidades"
   ]
  },
  {
   "cell_type": "code",
   "execution_count": 103,
   "id": "ce27bcce-4ebb-4e96-bcd1-2da7e0609d69",
   "metadata": {},
   "outputs": [
    {
     "data": {
      "text/html": [
       "<table border=\"1\" class=\"dataframe\">\n",
       "    <thead>\n",
       "        <tr>\n",
       "            <th>S</th>\n",
       "        </tr>\n",
       "    </thead>\n",
       "    <tbody>\n",
       "        <tr>\n",
       "            <td>B   </td>\n",
       "        </tr>\n",
       "        <tr>\n",
       "            <td>R   </td>\n",
       "        </tr>\n",
       "        <tr>\n",
       "            <td>B   </td>\n",
       "        </tr>\n",
       "        <tr>\n",
       "            <td>B   </td>\n",
       "        </tr>\n",
       "        <tr>\n",
       "            <td>R   </td>\n",
       "        </tr>\n",
       "        <tr>\n",
       "            <td>B   </td>\n",
       "        </tr>\n",
       "        <tr>\n",
       "            <td>B   </td>\n",
       "        </tr>\n",
       "        <tr>\n",
       "            <td>G   </td>\n",
       "        </tr>\n",
       "        <tr>\n",
       "            <td>R   </td>\n",
       "        </tr>\n",
       "        <tr>\n",
       "            <td>B   </td>\n",
       "        </tr>\n",
       "    </tbody>\n",
       "</table>"
      ],
      "text/plain": [
       "S\n",
       "B\n",
       "R\n",
       "B\n",
       "B\n",
       "R\n",
       "B\n",
       "B\n",
       "G\n",
       "R\n",
       "B"
      ]
     },
     "execution_count": 103,
     "metadata": {},
     "output_type": "execute_result"
    }
   ],
   "source": [
    "Posibilidades.sample(10, with_replacement=True)"
   ]
  },
  {
   "cell_type": "code",
   "execution_count": 113,
   "id": "b7014f96-123d-4398-b6cd-1f9ce65fa9c3",
   "metadata": {},
   "outputs": [
    {
     "data": {
      "text/html": [
       "<table border=\"1\" class=\"dataframe\">\n",
       "    <thead>\n",
       "        <tr>\n",
       "            <th>S</th>\n",
       "        </tr>\n",
       "    </thead>\n",
       "    <tbody>\n",
       "        <tr>\n",
       "            <td>R   </td>\n",
       "        </tr>\n",
       "        <tr>\n",
       "            <td>G   </td>\n",
       "        </tr>\n",
       "        <tr>\n",
       "            <td>B   </td>\n",
       "        </tr>\n",
       "    </tbody>\n",
       "</table>"
      ],
      "text/plain": [
       "S\n",
       "R\n",
       "G\n",
       "B"
      ]
     },
     "execution_count": 113,
     "metadata": {},
     "output_type": "execute_result"
    }
   ],
   "source": [
    "Posibilidades.sample(3, with_replacement=False)"
   ]
  },
  {
   "cell_type": "code",
   "execution_count": null,
   "id": "4a913f3a-b8c0-4e63-a73f-9bc47b1554f2",
   "metadata": {},
   "outputs": [],
   "source": []
  }
 ],
 "metadata": {
  "kernelspec": {
   "display_name": "Python 3 (ipykernel)",
   "language": "python",
   "name": "python3"
  },
  "language_info": {
   "codemirror_mode": {
    "name": "ipython",
    "version": 3
   },
   "file_extension": ".py",
   "mimetype": "text/x-python",
   "name": "python",
   "nbconvert_exporter": "python",
   "pygments_lexer": "ipython3",
   "version": "3.11.6"
  }
 },
 "nbformat": 4,
 "nbformat_minor": 5
}
