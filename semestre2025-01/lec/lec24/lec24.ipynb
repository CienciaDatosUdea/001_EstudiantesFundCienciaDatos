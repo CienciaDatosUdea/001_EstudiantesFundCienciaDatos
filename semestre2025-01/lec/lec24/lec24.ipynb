{
 "cells": [
  {
   "cell_type": "code",
   "execution_count": 61,
   "id": "68508d0b-4c28-4019-ba85-1d6c264db030",
   "metadata": {},
   "outputs": [],
   "source": [
    "import numpy as np\n",
    "from datascience import *\n",
    "import matplotlib.pylab as plots\n",
    "plots.style.use('fivethirtyeight')\n",
    "%matplotlib inline"
   ]
  },
  {
   "cell_type": "markdown",
   "id": "a3732b85-a781-424c-bce4-7d9268f119be",
   "metadata": {},
   "source": [
    "# Media"
   ]
  },
  {
   "cell_type": "markdown",
   "id": "12cdd313-a973-4f8f-8130-c2cbb1ba3c72",
   "metadata": {},
   "source": [
    "# **Media (Promedio)**\n",
    "\n",
    "La **media aritmética** de un conjunto de datos es una medida de tendencia central que representa el valor promedio de los datos. Se calcula sumando todos los valores y dividiendo por la cantidad total de elementos.\n",
    "\n",
    "## **Fórmula de la Media**\n",
    "Si tenemos un conjunto de $ n $ valores $ x_1, x_2, \\dots, x_n $, la media se define como:\n",
    "\n",
    "\n",
    "\\begin{equation}\n",
    "\\mu = \\frac{1}{n} \\sum_{i=1}^{n} x_i\n",
    "\\end{equation}\n",
    "\n",
    "\n",
    "Donde:\n",
    "- $ \\mu $ es la media.\n",
    "- $ x_i $ son los valores del conjunto de datos.\n",
    "- $ n $ es el número total de valores.\n",
    "\n",
    "Para una ecuación más corta, usamos la notación en línea:  \n",
    "$$ \\mu = \\frac{1}{n} \\sum x_i $$\n",
    "\n",
    "## **Cálculo en Python con la libreria datascience**\n",
    "Podemos calcular la media de una lista de valores usando Python:\n",
    "\n",
    "```python\n",
    "import datascience\n",
    "\n",
    "# Datos de ejemplo\n",
    "datos = make_array(10, 20, 30, 40, 50)\n",
    "\n",
    "# Calcular la media\n",
    "media = np.mean(datos)\n",
    "\n",
    "print(f\"La media es: {media}\")\n"
   ]
  },
  {
   "cell_type": "code",
   "execution_count": 62,
   "id": "1babd00d-1252-43c0-bd06-77d5e9313c90",
   "metadata": {},
   "outputs": [
    {
     "data": {
      "text/plain": [
       "4.25"
      ]
     },
     "execution_count": 62,
     "metadata": {},
     "output_type": "execute_result"
    }
   ],
   "source": [
    "values = make_array(2, 3, 3, 9)\n",
    "values.mean()"
   ]
  },
  {
   "cell_type": "code",
   "execution_count": 63,
   "id": "80843d6f-32d4-4aad-bf79-018a47d4eb49",
   "metadata": {},
   "outputs": [],
   "source": [
    "values = make_array(1, 0, 0, 1,0,1)"
   ]
  },
  {
   "cell_type": "code",
   "execution_count": 64,
   "id": "5692b667-e1e4-4792-836d-26e60a8bbea5",
   "metadata": {},
   "outputs": [
    {
     "data": {
      "text/plain": [
       "0.5"
      ]
     },
     "execution_count": 64,
     "metadata": {},
     "output_type": "execute_result"
    }
   ],
   "source": [
    "values.mean()"
   ]
  },
  {
   "cell_type": "code",
   "execution_count": 65,
   "id": "8df3b325-8176-4358-a71c-957d11036829",
   "metadata": {},
   "outputs": [
    {
     "data": {
      "text/plain": [
       "3"
      ]
     },
     "execution_count": 65,
     "metadata": {},
     "output_type": "execute_result"
    }
   ],
   "source": [
    "values.sum()"
   ]
  },
  {
   "cell_type": "markdown",
   "id": "54051c46-8e24-4225-a8a8-d8c7f570c251",
   "metadata": {},
   "source": [
    "La media no es el punto medio de los datos\n"
   ]
  },
  {
   "cell_type": "code",
   "execution_count": 66,
   "id": "745827c3-3686-43cd-a172-2f8f982f2647",
   "metadata": {},
   "outputs": [
    {
     "data": {
      "text/plain": [
       "array([2, 3, 3, 9])"
      ]
     },
     "execution_count": 66,
     "metadata": {},
     "output_type": "execute_result"
    }
   ],
   "source": [
    "make_array(2, 3, 3, 9)"
   ]
  },
  {
   "cell_type": "markdown",
   "id": "f634c3d2-edca-4ce3-802e-11b496a3f6ff",
   "metadata": {},
   "source": [
    "\\begin{equation}\n",
    "\\frac{2+3+3+9}{4}\n",
    "\\end{equation}"
   ]
  },
  {
   "cell_type": "code",
   "execution_count": 67,
   "id": "50d7b19e-eeca-4b8c-919d-70182acb8c86",
   "metadata": {},
   "outputs": [],
   "source": [
    "values1 = make_array(2, 3, 3, 9)\n",
    "values2 = make_array(2, 2, 3, 3, 3 ,3, 9, 9)\n",
    "values3 = make_array(2, 2, 2,3, 3, 3 ,3,3,3 ,9, 9,9)"
   ]
  },
  {
   "cell_type": "code",
   "execution_count": 70,
   "id": "6bb1222a-be87-43a8-a236-15a4a3cb3f98",
   "metadata": {},
   "outputs": [
    {
     "name": "stdout",
     "output_type": "stream",
     "text": [
      "Media 1 4.25\n",
      "Media 2 4.25\n",
      "Media 3 4.25\n"
     ]
    }
   ],
   "source": [
    "print(\"Media 1\", np.mean(values1))\n",
    "print(\"Media 2\",np.mean(values2))\n",
    "print(\"Media 3\",np.mean(values3))"
   ]
  },
  {
   "cell_type": "markdown",
   "id": "ad0f9346-6fe6-473e-b8eb-7b7067165ee6",
   "metadata": {},
   "source": [
    "En el anterior caso en cada uno de los arreglos  se mantiene la proporción de números diferentes, y la media toma el mismo valor, es decir, cuando la proporción de números es la misma en diferentes arreglos, la media toma el mismo valor, es independiente de la cantidad de números"
   ]
  },
  {
   "cell_type": "code",
   "execution_count": 71,
   "id": "2c59e561-d111-4ad7-a7df-433c6ba19a77",
   "metadata": {},
   "outputs": [
    {
     "data": {
      "text/plain": [
       "Text(0, 0.5, '% por unidad')"
      ]
     },
     "execution_count": 71,
     "metadata": {},
     "output_type": "execute_result"
    },
    {
     "data": {
      "image/png": "[encoded data removed]",
      "text/plain": [
       "<Figure size 640x480 with 2 Axes>"
      ]
     },
     "metadata": {},
     "output_type": "display_data"
    }
   ],
   "source": [
    "plots.subplot(211)\n",
    "plots.hist(values1)\n",
    "plots.xlabel(\"Números\")\n",
    "plots.ylabel(\"% por unidad\")\n",
    "plots.subplot(212)\n",
    "plots.hist(values2)\n",
    "plots.xlabel(\"Números\")\n",
    "plots.ylabel(\"% por unidad\")\n"
   ]
  },
  {
   "cell_type": "markdown",
   "id": "be7550f4-b9f4-4973-a3a5-6d2c8e8578b0",
   "metadata": {},
   "source": [
    "Debido a que la media es un punto de equilibrio, se puede entender como el centro de gravedad del conjunto de datos,  a veces se muestra como un  triángulo en la base del histograma."
   ]
  },
  {
   "cell_type": "code",
   "execution_count": 73,
   "id": "041e2fb0-9f60-4ded-9c82-3bf03f024d39",
   "metadata": {},
   "outputs": [
    {
     "data": {
      "text/plain": [
       "[<matplotlib.lines.Line2D at 0x176fba410>]"
      ]
     },
     "execution_count": 73,
     "metadata": {},
     "output_type": "execute_result"
    },
    {
     "data": {
      "image/png": "[encoded data removed]",
      "text/plain": [
       "<Figure size 600x400 with 1 Axes>"
      ]
     },
     "metadata": {},
     "output_type": "display_data"
    }
   ],
   "source": [
    "dt = Table().with_column(\"Numeros\", values1)\n",
    "dt.hist()\n",
    "\n",
    "plots.ylim(-0.1,1)\n",
    "plots.xlim(2,9)\n",
    "plots.axhline(0,color=\"gray\",lw=10,)\n",
    "plots.plot(dt[\"Numeros\"].mean(),0, \"^\", ms=10)"
   ]
  },
  {
   "cell_type": "markdown",
   "id": "f1204815-9e80-438d-bb18-689b9a56f347",
   "metadata": {},
   "source": [
    "\n",
    "# **Mediana: Punto de Equilibrio sobre los Datos**\n",
    "\n",
    "La **mediana**  es el valor que divide la distribución en dos partes **iguales**, de modo que el **50% de los datos están por debajo** y el **50% están por encima**.\n",
    "\n",
    "## **Cálculo de la Mediana**\n",
    "Dado un conjunto de $ n $ valores $ x_1, x_2, \\dots, x_n $ ordenados de menor a mayor:\n",
    "\n",
    "- **Si $ n $ es impar**, la mediana es el valor central:\n",
    "  \n",
    "  \\begin{equation}\n",
    "  \\tilde{x} = x_{\\frac{n+1}{2}}\n",
    "  \\end{equation}\n",
    "  \n",
    "\n",
    "- **Si $ n $ es par**, la mediana es el promedio de los dos valores centrales:\n",
    "  \n",
    "  \\begin{equation}\n",
    "  \\tilde{x} = \\frac{x_{\\frac{n}{2}} + x_{\\frac{n}{2} + 1}}{2}\n",
    "  \\end{equation}\n",
    "  \n",
    "\n",
    "## **Cálculo en Python**\n",
    "Podemos calcular la mediana de un conjunto de datos usando `numpy`:\n",
    "\n",
    "```python\n",
    "import numpy as np\n",
    "\n",
    "# Datos de ejemplo\n",
    "y = make_array(10, 20, 30, 40, 50)\n",
    "\n",
    "# Calcular la mediana\n",
    "mediana = percentile(50, y)\n",
    "\n",
    "print(f\"La mediana es: {mediana}\")\n"
   ]
  },
  {
   "cell_type": "markdown",
   "id": "e06e0d06-7ebd-48ae-b723-79727d866c38",
   "metadata": {},
   "source": [
    "# La media y la mediana\n",
    "\n",
    "La media o promedio,  es el punto de equilibrio de un  histograma, y la mediana,  es el \"punto medio\" de los datos.\n",
    "\n",
    "Cuando la distribucion de datos es simetrica, la media y la mediana toman el mismo valor.\n"
   ]
  },
  {
   "cell_type": "code",
   "execution_count": 75,
   "id": "c70ab12b-d8f3-4fc9-b00a-fd729827a102",
   "metadata": {},
   "outputs": [
    {
     "name": "stdout",
     "output_type": "stream",
     "text": [
      "4.25\n",
      "3\n"
     ]
    }
   ],
   "source": [
    "no_symmetric1 = make_array(2, 3, 3, 9)\n",
    "print(np.mean(no_symmetric1))\n",
    "print(percentile(50,no_symmetric1))"
   ]
  },
  {
   "cell_type": "code",
   "execution_count": 76,
   "id": "64d16f3b-638b-4b8d-8e2a-26a2edfcacfd",
   "metadata": {},
   "outputs": [
    {
     "name": "stdout",
     "output_type": "stream",
     "text": [
      "4.25\n",
      "3\n"
     ]
    }
   ],
   "source": [
    "no_symmetric2 = make_array(2, 2, 2,3, 3, 3 ,3,3,3 ,9, 9,9)\n",
    "print(np.mean(no_symmetric2))\n",
    "print(percentile(50,no_symmetric2))"
   ]
  },
  {
   "cell_type": "code",
   "execution_count": 77,
   "id": "5439d9cd-9ab0-42f1-b27c-38ed877ef294",
   "metadata": {},
   "outputs": [],
   "source": [
    "symmetric1 = make_array(2, 3, 3, 4)"
   ]
  },
  {
   "cell_type": "code",
   "execution_count": 78,
   "id": "7cac3634-7f3c-40d5-95d1-21e93ec5c3c7",
   "metadata": {},
   "outputs": [
    {
     "name": "stdout",
     "output_type": "stream",
     "text": [
      "3.0\n",
      "3\n"
     ]
    }
   ],
   "source": [
    "print(np.mean(symmetric1))\n",
    "print(percentile(50,symmetric1))"
   ]
  },
  {
   "cell_type": "markdown",
   "id": "cd33906a-40f5-487f-a439-182b313bbf50",
   "metadata": {},
   "source": [
    "\n",
    "Si la puntuación de un estudiante en un examen está por debajo de la media, ¿eso implica que el estudiante está en la mitad inferior de la clase en esa prueba?"
   ]
  },
  {
   "cell_type": "code",
   "execution_count": 79,
   "id": "003a1805-b1b0-4f70-832f-ee5b7fd97d98",
   "metadata": {},
   "outputs": [],
   "source": [
    "symmetric1 = make_array(2, 3, 3, 4)\n",
    "tb = Table().with_columns(\"S\",symmetric1 ,\"NS\", no_symmetric1 )"
   ]
  },
  {
   "cell_type": "code",
   "execution_count": 80,
   "id": "b21e2c77-05b7-486e-b7ea-e8671418e5c3",
   "metadata": {},
   "outputs": [
    {
     "data": {
      "text/plain": [
       "(-0.1, 0.5)"
      ]
     },
     "execution_count": 80,
     "metadata": {},
     "output_type": "execute_result"
    },
    {
     "data": {
      "image/png": "[encoded data removed]",
      "text/plain": [
       "<Figure size 600x400 with 1 Axes>"
      ]
     },
     "metadata": {},
     "output_type": "display_data"
    }
   ],
   "source": [
    "tb.hist()\n",
    "plots.plot(tb[\"S\"].mean(),0, \"^b\", ms=10)\n",
    "plots.plot(tb[\"NS\"].mean(),0, \"^y\", ms=10)\n",
    "plots.ylim(-0.1,0.5)"
   ]
  },
  {
   "cell_type": "code",
   "execution_count": 81,
   "id": "f95c5a82-21b8-40b9-a74d-7ca141607d09",
   "metadata": {},
   "outputs": [
    {
     "name": "stdout",
     "output_type": "stream",
     "text": [
      "3\n",
      "3\n"
     ]
    }
   ],
   "source": [
    "print(percentile(50,symmetric1))\n",
    "print(percentile(50,no_symmetric1))"
   ]
  },
  {
   "cell_type": "markdown",
   "id": "5b29e039-7ba3-43b7-9f9a-251cbc7cd332",
   "metadata": {},
   "source": [
    "# Ejemplo \n"
   ]
  },
  {
   "cell_type": "code",
   "execution_count": 82,
   "id": "3a43324e-a1f4-4cad-b7d3-3f2790ebb413",
   "metadata": {},
   "outputs": [],
   "source": [
    "path_data=\"\"\n",
    "sf2015 = Table.read_table(path_data + 'san_francisco_2015.csv').where('Salaries', are.above(10000))\n",
    "sf_2015 = sf2015.where('Salaries', are.above(10000))\n",
    "compensation = sf2015.column('Total Compensation')\n",
    "mediana = percentile(50, compensation)\n",
    "media = np.mean(compensation)"
   ]
  },
  {
   "cell_type": "code",
   "execution_count": 83,
   "id": "5d81127c-56f8-40c4-9aff-de171eb6cd5d",
   "metadata": {},
   "outputs": [
    {
     "data": {
      "text/plain": [
       "<matplotlib.legend.Legend at 0x177091e40>"
      ]
     },
     "execution_count": 83,
     "metadata": {},
     "output_type": "execute_result"
    },
    {
     "data": {
      "image/png": "[encoded data removed]",
      "text/plain": [
       "<Figure size 600x400 with 1 Axes>"
      ]
     },
     "metadata": {},
     "output_type": "display_data"
    }
   ],
   "source": [
    "sf2015.select('Total Compensation').hist(bins = np.arange(10000, 700000, 25000))\n",
    "plots.vlines(media,ymin=0, ymax=0.000009, lw=3.0,label=\"Media\")\n",
    "plots.vlines(mediana,ymin=0, ymax=0.000009,color=\"r\",lw=2.0,label=\"Mediana\")\n",
    "plots.xlim(0, 300000)\n",
    "plots.legend()"
   ]
  },
  {
   "cell_type": "markdown",
   "id": "8c7f6761-e84c-4331-82b5-baaf33c4aeba",
   "metadata": {},
   "source": [
    "Las distribuciones de ingresos de grandes poblaciones tienden a estar sesgadas. Cuando la mayor parte de una población tiene ingresos medios a bajos, pero una proporción muy pequeña tiene ingresos muy altos, el histograma tiene una cola larga y delgada a la derecha."
   ]
  },
  {
   "cell_type": "markdown",
   "id": "664ef6e5-d71f-43bc-b19a-5608a946403b",
   "metadata": {},
   "source": [
    "# El tamaño aproximado de las desviaciones del promedio\n",
    "\n",
    "El objetivo es medir aproximadamente qué tan lejos están los números de su promedio. Para hacer esto, primero necesitamos el promedio\n",
    "\n"
   ]
  },
  {
   "cell_type": "code",
   "execution_count": 116,
   "id": "074edbe7-d3ea-4367-97f1-dfd6f7ad820f",
   "metadata": {},
   "outputs": [],
   "source": [
    "any_numbers = make_array(1, 2, 2, 10)\n",
    "mean = np.mean(any_numbers)\n",
    "deviations = any_numbers - mean\n"
   ]
  },
  {
   "cell_type": "code",
   "execution_count": 117,
   "id": "2164ebd9-e7d4-43db-9e68-a50c4b39e6e0",
   "metadata": {},
   "outputs": [
    {
     "data": {
      "text/html": [
       "<table border=\"1\" class=\"dataframe\">\n",
       "    <thead>\n",
       "        <tr>\n",
       "            <th>Value</th> <th>Deviation from Average</th>\n",
       "        </tr>\n",
       "    </thead>\n",
       "    <tbody>\n",
       "        <tr>\n",
       "            <td>1    </td> <td>-2.75                 </td>\n",
       "        </tr>\n",
       "        <tr>\n",
       "            <td>2    </td> <td>-1.75                 </td>\n",
       "        </tr>\n",
       "        <tr>\n",
       "            <td>2    </td> <td>-1.75                 </td>\n",
       "        </tr>\n",
       "        <tr>\n",
       "            <td>10   </td> <td>6.25                  </td>\n",
       "        </tr>\n",
       "    </tbody>\n",
       "</table>"
      ],
      "text/plain": [
       "Value | Deviation from Average\n",
       "1     | -2.75\n",
       "2     | -1.75\n",
       "2     | -1.75\n",
       "10    | 6.25"
      ]
     },
     "execution_count": 117,
     "metadata": {},
     "output_type": "execute_result"
    }
   ],
   "source": [
    "calculation_steps = Table().with_columns(\n",
    "        'Value', any_numbers,\n",
    "        'Deviation from Average', deviations\n",
    "        )\n",
    "calculation_steps"
   ]
  },
  {
   "cell_type": "code",
   "execution_count": 118,
   "id": "6fb31e8f-2fb5-4f3f-a3c2-6eabd5d6716d",
   "metadata": {},
   "outputs": [
    {
     "data": {
      "text/plain": [
       "3.75"
      ]
     },
     "execution_count": 118,
     "metadata": {},
     "output_type": "execute_result"
    }
   ],
   "source": [
    "mean"
   ]
  },
  {
   "cell_type": "code",
   "execution_count": 119,
   "id": "6d3a9399-310b-4685-a4b7-c07d51433c0c",
   "metadata": {},
   "outputs": [
    {
     "data": {
      "text/plain": [
       "0.0"
      ]
     },
     "execution_count": 119,
     "metadata": {},
     "output_type": "execute_result"
    }
   ],
   "source": [
    "sum(deviations)"
   ]
  },
  {
   "cell_type": "code",
   "execution_count": 120,
   "id": "90f11daf-56b3-4886-bf41-61835926eb29",
   "metadata": {},
   "outputs": [
    {
     "data": {
      "text/plain": [
       "0.0"
      ]
     },
     "execution_count": 120,
     "metadata": {},
     "output_type": "execute_result"
    }
   ],
   "source": [
    "np.mean(deviations)"
   ]
  },
  {
   "cell_type": "markdown",
   "id": "403408bf-5eeb-4f2b-81b8-45708ce10936",
   "metadata": {},
   "source": [
    "Debido a esto, la media de las desviaciones no es una medida útil del tamaño de las desviaciones."
   ]
  },
  {
   "cell_type": "code",
   "execution_count": 121,
   "id": "3f2b05fd-263c-45f0-8905-a46388f2cc1a",
   "metadata": {},
   "outputs": [
    {
     "data": {
      "text/html": [
       "<table border=\"1\" class=\"dataframe\">\n",
       "    <thead>\n",
       "        <tr>\n",
       "            <th>Value</th> <th>Deviation from Average</th> <th>Squared Deviations from Average</th>\n",
       "        </tr>\n",
       "    </thead>\n",
       "    <tbody>\n",
       "        <tr>\n",
       "            <td>1    </td> <td>-2.75                 </td> <td>7.5625                         </td>\n",
       "        </tr>\n",
       "        <tr>\n",
       "            <td>2    </td> <td>-1.75                 </td> <td>3.0625                         </td>\n",
       "        </tr>\n",
       "        <tr>\n",
       "            <td>2    </td> <td>-1.75                 </td> <td>3.0625                         </td>\n",
       "        </tr>\n",
       "        <tr>\n",
       "            <td>10   </td> <td>6.25                  </td> <td>39.0625                        </td>\n",
       "        </tr>\n",
       "    </tbody>\n",
       "</table>"
      ],
      "text/plain": [
       "Value | Deviation from Average | Squared Deviations from Average\n",
       "1     | -2.75                  | 7.5625\n",
       "2     | -1.75                  | 3.0625\n",
       "2     | -1.75                  | 3.0625\n",
       "10    | 6.25                   | 39.0625"
      ]
     },
     "execution_count": 121,
     "metadata": {},
     "output_type": "execute_result"
    }
   ],
   "source": [
    "squared_deviations = deviations ** 2\n",
    "calculation_steps = calculation_steps.with_column(\n",
    "   'Squared Deviations from Average', squared_deviations\n",
    "    )\n",
    "calculation_steps"
   ]
  },
  {
   "cell_type": "code",
   "execution_count": 122,
   "id": "9fed8115-7c8b-4403-bfe9-47e9f2729cfe",
   "metadata": {},
   "outputs": [
    {
     "data": {
      "text/plain": [
       "13.1875"
      ]
     },
     "execution_count": 122,
     "metadata": {},
     "output_type": "execute_result"
    }
   ],
   "source": [
    "variance = np.mean(squared_deviations)\n",
    "variance"
   ]
  },
  {
   "cell_type": "markdown",
   "id": "2da224dd-7537-4823-be6c-776fe1690b15",
   "metadata": {},
   "source": [
    "Varianza: La desviación media al cuadrado calculada anteriormente se llama varianza de los valores.\n",
    "\n"
   ]
  },
  {
   "cell_type": "code",
   "execution_count": 123,
   "id": "55dc9af5-febe-473a-8656-6229f95c8e79",
   "metadata": {},
   "outputs": [
    {
     "data": {
      "text/plain": [
       "3.6314597615834874"
      ]
     },
     "execution_count": 123,
     "metadata": {},
     "output_type": "execute_result"
    }
   ],
   "source": [
    "# Step 5.\n",
    "# Standard Deviation:    root mean squared deviation from average\n",
    "# Steps of calculation:   5    4      3       2             1\n",
    "sd = variance ** 0.5\n",
    "sd"
   ]
  },
  {
   "cell_type": "markdown",
   "id": "b7741bda-59bb-4446-ab44-1d766d85b9ab",
   "metadata": {},
   "source": [
    "# Pasos para determinar la desviaciones del promedio\n",
    "\n",
    "1. Calcular el promedio \n",
    "2. Computar las desviaciones de los datos respecto al  promedio\n",
    "3. Calcular las desviaciones cuadradas\n",
    "4. Calcular la varianza\n",
    "5. Calcular la raiz cuadrada\n",
    "\n",
    "- En python solo basta con \n",
    "```python\n",
    "x=make_array(...)\n",
    "np.std(x)\n",
    "```"
   ]
  },
  {
   "cell_type": "markdown",
   "id": "690d4877-eb40-4c31-8255-e199cbcc9573",
   "metadata": {},
   "source": [
    "# Desviación estándar"
   ]
  },
  {
   "cell_type": "markdown",
   "id": "cfc9f648-c359-4354-8871-196440b1bb0d",
   "metadata": {},
   "source": [
    "Definición. El SD de una lista se define como el cuadrado medio de raíz de las desviaciones del promedio."
   ]
  },
  {
   "cell_type": "code",
   "execution_count": 124,
   "id": "26028ffb-e8e7-497d-87f4-fec0925ae0d1",
   "metadata": {},
   "outputs": [
    {
     "data": {
      "text/plain": [
       "3.6314597615834874"
      ]
     },
     "execution_count": 124,
     "metadata": {},
     "output_type": "execute_result"
    }
   ],
   "source": [
    "np.std(any_numbers)"
   ]
  },
  {
   "cell_type": "code",
   "execution_count": 125,
   "id": "66a49f7c-f4be-4d40-9e3f-b071cb5b0b3d",
   "metadata": {},
   "outputs": [],
   "source": [
    "path = \"nba2013.csv\""
   ]
  },
  {
   "cell_type": "code",
   "execution_count": 126,
   "id": "42b620a6-ff29-4dc2-bbc5-306e60583c13",
   "metadata": {},
   "outputs": [],
   "source": [
    "nba13 = Table.read_table(path)"
   ]
  },
  {
   "cell_type": "code",
   "execution_count": 127,
   "id": "bf4e1c83-b928-48cc-90f8-29ed80e26503",
   "metadata": {},
   "outputs": [],
   "source": [
    "nba13[\"Height\"]= nba13.apply(lambda x: x*0.0254,\"Height\")"
   ]
  },
  {
   "cell_type": "code",
   "execution_count": 128,
   "id": "2a1a77f4-15dd-4bd2-b833-60bee05fd8ae",
   "metadata": {},
   "outputs": [
    {
     "data": {
      "text/html": [
       "<table border=\"1\" class=\"dataframe\">\n",
       "    <thead>\n",
       "        <tr>\n",
       "            <th>Name</th> <th>Position</th> <th>Height</th> <th>Weight</th> <th>Age in 2013</th>\n",
       "        </tr>\n",
       "    </thead>\n",
       "    <tbody>\n",
       "        <tr>\n",
       "            <td>DeQuan Jones   </td> <td>Guard   </td> <td>2.032 </td> <td>221   </td> <td>23         </td>\n",
       "        </tr>\n",
       "        <tr>\n",
       "            <td>Darius Miller  </td> <td>Guard   </td> <td>2.032 </td> <td>235   </td> <td>23         </td>\n",
       "        </tr>\n",
       "        <tr>\n",
       "            <td>Trevor Ariza   </td> <td>Guard   </td> <td>2.032 </td> <td>210   </td> <td>28         </td>\n",
       "        </tr>\n",
       "        <tr>\n",
       "            <td>James Jones    </td> <td>Guard   </td> <td>2.032 </td> <td>215   </td> <td>32         </td>\n",
       "        </tr>\n",
       "        <tr>\n",
       "            <td>Wesley Johnson </td> <td>Guard   </td> <td>2.0066</td> <td>215   </td> <td>26         </td>\n",
       "        </tr>\n",
       "        <tr>\n",
       "            <td>Klay Thompson  </td> <td>Guard   </td> <td>2.0066</td> <td>205   </td> <td>23         </td>\n",
       "        </tr>\n",
       "        <tr>\n",
       "            <td>Thabo Sefolosha</td> <td>Guard   </td> <td>2.0066</td> <td>215   </td> <td>29         </td>\n",
       "        </tr>\n",
       "        <tr>\n",
       "            <td>Chase Budinger </td> <td>Guard   </td> <td>2.0066</td> <td>218   </td> <td>25         </td>\n",
       "        </tr>\n",
       "        <tr>\n",
       "            <td>Kevin Martin   </td> <td>Guard   </td> <td>2.0066</td> <td>185   </td> <td>30         </td>\n",
       "        </tr>\n",
       "        <tr>\n",
       "            <td>Evan Fournier  </td> <td>Guard   </td> <td>2.0066</td> <td>206   </td> <td>20         </td>\n",
       "        </tr>\n",
       "    </tbody>\n",
       "</table>\n",
       "<p>... (495 rows omitted)</p>"
      ],
      "text/plain": [
       "Name            | Position | Height | Weight | Age in 2013\n",
       "DeQuan Jones    | Guard    | 2.032  | 221    | 23\n",
       "Darius Miller   | Guard    | 2.032  | 235    | 23\n",
       "Trevor Ariza    | Guard    | 2.032  | 210    | 28\n",
       "James Jones     | Guard    | 2.032  | 215    | 32\n",
       "Wesley Johnson  | Guard    | 2.0066 | 215    | 26\n",
       "Klay Thompson   | Guard    | 2.0066 | 205    | 23\n",
       "Thabo Sefolosha | Guard    | 2.0066 | 215    | 29\n",
       "Chase Budinger  | Guard    | 2.0066 | 218    | 25\n",
       "Kevin Martin    | Guard    | 2.0066 | 185    | 30\n",
       "Evan Fournier   | Guard    | 2.0066 | 206    | 20\n",
       "... (495 rows omitted)"
      ]
     },
     "execution_count": 128,
     "metadata": {},
     "output_type": "execute_result"
    }
   ],
   "source": [
    "nba13"
   ]
  },
  {
   "cell_type": "code",
   "execution_count": 129,
   "id": "b693687f-897c-40c6-bfb2-988a5a8ce083",
   "metadata": {},
   "outputs": [
    {
     "data": {
      "image/png": "[encoded data removed]",
      "text/plain": [
       "<Figure size 600x400 with 1 Axes>"
      ]
     },
     "metadata": {},
     "output_type": "display_data"
    }
   ],
   "source": [
    "nba13.select('Height').hist(bins=np.linspace(1.5, 2.50, 30))"
   ]
  },
  {
   "cell_type": "code",
   "execution_count": 130,
   "id": "d31cdf69-4214-4657-a873-031d123db5c7",
   "metadata": {},
   "outputs": [
    {
     "data": {
      "text/plain": [
       "2.0082598019801976"
      ]
     },
     "execution_count": 130,
     "metadata": {},
     "output_type": "execute_result"
    }
   ],
   "source": [
    "mean_height = np.mean(nba13.column('Height'))\n",
    "mean_height"
   ]
  },
  {
   "cell_type": "markdown",
   "id": "0c40fa3d-6d1f-4c45-8b87-b197eb9ebf30",
   "metadata": {},
   "source": [
    "¿A que altura estan los jugadores del promedio?"
   ]
  },
  {
   "cell_type": "code",
   "execution_count": 131,
   "id": "1ef266c7-aa38-4420-894d-0917a4e3415f",
   "metadata": {},
   "outputs": [
    {
     "data": {
      "text/plain": [
       "0.087645168448899871"
      ]
     },
     "execution_count": 131,
     "metadata": {},
     "output_type": "execute_result"
    }
   ],
   "source": [
    "sd_height = np.std(nba13.column('Height'))\n",
    "sd_height"
   ]
  },
  {
   "cell_type": "code",
   "execution_count": 132,
   "id": "fbe94377-1e3d-46b2-9e59-dc1506541189",
   "metadata": {},
   "outputs": [
    {
     "data": {
      "text/html": [
       "<table border=\"1\" class=\"dataframe\">\n",
       "    <thead>\n",
       "        <tr>\n",
       "            <th>Name</th> <th>Position</th> <th>Height</th> <th>Weight</th> <th>Age in 2013</th>\n",
       "        </tr>\n",
       "    </thead>\n",
       "    <tbody>\n",
       "        <tr>\n",
       "            <td>Hasheem Thabeet</td> <td>Center  </td> <td>2.2098</td> <td>263   </td> <td>26         </td>\n",
       "        </tr>\n",
       "        <tr>\n",
       "            <td>Roy Hibbert    </td> <td>Center  </td> <td>2.1844</td> <td>278   </td> <td>26         </td>\n",
       "        </tr>\n",
       "        <tr>\n",
       "            <td>Alex Len       </td> <td>Center  </td> <td>2.159 </td> <td>255   </td> <td>20         </td>\n",
       "        </tr>\n",
       "    </tbody>\n",
       "</table>\n",
       "<p>... (502 rows omitted)</p>"
      ],
      "text/plain": [
       "<IPython.core.display.HTML object>"
      ]
     },
     "metadata": {},
     "output_type": "display_data"
    }
   ],
   "source": [
    "nba13.sort('Height', descending=True).show(3)"
   ]
  },
  {
   "cell_type": "code",
   "execution_count": 133,
   "id": "174af695-c085-49d6-8449-2b86112387d4",
   "metadata": {},
   "outputs": [
    {
     "data": {
      "text/plain": [
       "0.20154019801980239"
      ]
     },
     "execution_count": 133,
     "metadata": {},
     "output_type": "execute_result"
    }
   ],
   "source": [
    "2.2098 - mean_height"
   ]
  },
  {
   "cell_type": "code",
   "execution_count": 134,
   "id": "5c239bb1-285d-4017-9bce-3b3c5767ef44",
   "metadata": {},
   "outputs": [
    {
     "data": {
      "text/plain": [
       "2.299501519439799"
      ]
     },
     "execution_count": 134,
     "metadata": {},
     "output_type": "execute_result"
    }
   ],
   "source": [
    "(2.2098 - mean_height)/sd_height"
   ]
  },
  {
   "cell_type": "markdown",
   "id": "df2734ea-3e4e-4864-94b0-2ed672a7a94e",
   "metadata": {},
   "source": [
    "En otras palabras, la altura del jugador más alto estaba a unos 2,3 SD por encima de la media."
   ]
  },
  {
   "cell_type": "markdown",
   "id": "3ea639e4-ed47-4d86-a6dc-1ae7ae9e3576",
   "metadata": {},
   "source": [
    "Jugador mas bajo"
   ]
  },
  {
   "cell_type": "code",
   "execution_count": 135,
   "id": "99b3202c-8e52-4145-8324-92e9e07c6787",
   "metadata": {},
   "outputs": [
    {
     "data": {
      "text/html": [
       "<table border=\"1\" class=\"dataframe\">\n",
       "    <thead>\n",
       "        <tr>\n",
       "            <th>Name</th> <th>Position</th> <th>Height</th> <th>Weight</th> <th>Age in 2013</th>\n",
       "        </tr>\n",
       "    </thead>\n",
       "    <tbody>\n",
       "        <tr>\n",
       "            <td>Isaiah Thomas </td> <td>Guard   </td> <td>1.7526</td> <td>185   </td> <td>24         </td>\n",
       "        </tr>\n",
       "        <tr>\n",
       "            <td>Nate Robinson </td> <td>Guard   </td> <td>1.7526</td> <td>180   </td> <td>29         </td>\n",
       "        </tr>\n",
       "        <tr>\n",
       "            <td>John Lucas III</td> <td>Guard   </td> <td>1.8034</td> <td>157   </td> <td>30         </td>\n",
       "        </tr>\n",
       "    </tbody>\n",
       "</table>\n",
       "<p>... (502 rows omitted)</p>"
      ],
      "text/plain": [
       "<IPython.core.display.HTML object>"
      ]
     },
     "metadata": {},
     "output_type": "display_data"
    }
   ],
   "source": [
    "nba13.sort('Height').show(3)"
   ]
  },
  {
   "cell_type": "code",
   "execution_count": 136,
   "id": "199b3dee-7291-4bbe-b06a-f29e0f8bee61",
   "metadata": {},
   "outputs": [
    {
     "data": {
      "text/plain": [
       "-2.8866371810067899"
      ]
     },
     "execution_count": 136,
     "metadata": {},
     "output_type": "execute_result"
    }
   ],
   "source": [
    "(1.75526 - mean_height)/sd_height"
   ]
  },
  {
   "cell_type": "code",
   "execution_count": null,
   "id": "01991423-ee0b-4d20-81b6-941842479c32",
   "metadata": {},
   "outputs": [],
   "source": []
  },
  {
   "cell_type": "code",
   "execution_count": null,
   "id": "5a80fb63-a140-4366-91d9-6bc0967d969e",
   "metadata": {},
   "outputs": [],
   "source": []
  },
  {
   "cell_type": "markdown",
   "id": "8fd3495c-b860-4cdf-96c9-9fd83838491e",
   "metadata": {},
   "source": [
    "# Primera razón principal para medir  la SD"
   ]
  },
  {
   "cell_type": "code",
   "execution_count": 137,
   "id": "cb664345-1cfa-4a58-91e3-ef634af3b21d",
   "metadata": {},
   "outputs": [
    {
     "data": {
      "image/png": "[encoded data removed]",
      "text/plain": [
       "<Figure size 600x400 with 1 Axes>"
      ]
     },
     "metadata": {},
     "output_type": "display_data"
    }
   ],
   "source": [
    "nba13.select('Age in 2013').hist(bins=np.arange(15, 45, 1))"
   ]
  },
  {
   "cell_type": "code",
   "execution_count": 138,
   "id": "15637c4e-0ab0-40e8-a389-7b5d55c2e4ed",
   "metadata": {},
   "outputs": [
    {
     "data": {
      "text/plain": [
       "(26.19009900990099, 4.3212004417203067)"
      ]
     },
     "execution_count": 138,
     "metadata": {},
     "output_type": "execute_result"
    }
   ],
   "source": [
    "ages = nba13.column('Age in 2013')\n",
    "mean_age = np.mean(ages)\n",
    "sd_age = np.std(ages)\n",
    "mean_age, sd_age"
   ]
  },
  {
   "cell_type": "code",
   "execution_count": 139,
   "id": "0cdc5afd-600d-4b9c-b56a-d9bee4eec09b",
   "metadata": {},
   "outputs": [
    {
     "data": {
      "text/html": [
       "<table border=\"1\" class=\"dataframe\">\n",
       "    <thead>\n",
       "        <tr>\n",
       "            <th>Name</th> <th>Position</th> <th>Height</th> <th>Weight</th> <th>Age in 2013</th>\n",
       "        </tr>\n",
       "    </thead>\n",
       "    <tbody>\n",
       "        <tr>\n",
       "            <td>Juwan Howard</td> <td>Forward </td> <td>2.0574</td> <td>250   </td> <td>40         </td>\n",
       "        </tr>\n",
       "        <tr>\n",
       "            <td>Steve Nash  </td> <td>Guard   </td> <td>1.905 </td> <td>178   </td> <td>39         </td>\n",
       "        </tr>\n",
       "        <tr>\n",
       "            <td>Derek Fisher</td> <td>Guard   </td> <td>1.8542</td> <td>210   </td> <td>39         </td>\n",
       "        </tr>\n",
       "    </tbody>\n",
       "</table>\n",
       "<p>... (502 rows omitted)</p>"
      ],
      "text/plain": [
       "<IPython.core.display.HTML object>"
      ]
     },
     "metadata": {},
     "output_type": "display_data"
    }
   ],
   "source": [
    "nba13.sort('Age in 2013', descending=True).show(3)"
   ]
  },
  {
   "cell_type": "code",
   "execution_count": 140,
   "id": "ad4f8ae7-baea-414c-b783-cb77a4d9cc99",
   "metadata": {},
   "outputs": [
    {
     "data": {
      "text/plain": [
       "3.1958482778922357"
      ]
     },
     "execution_count": 140,
     "metadata": {},
     "output_type": "execute_result"
    }
   ],
   "source": [
    "(40 - mean_age)/sd_age"
   ]
  },
  {
   "cell_type": "markdown",
   "id": "307dd3c1-b08f-4974-a451-209c295a8834",
   "metadata": {},
   "source": [
    "# **Límite de Chebychev (Desigualdad de Chebychev)**\n",
    "\n",
    "El **Límite de Chebychev** o **Desigualdad de Chebychev** es un resultado estadístico que nos dice qué proporción de los datos en cualquier distribución (sin importar su forma) caerá dentro de un cierto número de desviaciones estándar de la media.\n",
    "\n",
    "## **Fórmula de la Desigualdad de Chebychev**\n",
    "Para cualquier conjunto de datos con media $\\mu$ y desviación estándar $\\sigma$, la proporción de valores que están dentro de $k$ desviaciones estándar de la media $\\mu \\pm k\\sigma$ es al menos:\n",
    "\n",
    "\\begin{equation}\n",
    "1 - \\frac{1}{k^2}\n",
    "\\end{equation}\n",
    "\n",
    "para cualquier \\( k > 1 \\).\n",
    "\n",
    "## **Interpretación**\n",
    "Esto significa que, independientemente de la forma de la distribución (ya sea simétrica, sesgada o con colas largas), podemos hacer las siguientes afirmaciones:\n",
    "\n",
    "- **Al menos el 75%** de los datos están dentro de **2 desviaciones estándar** de la media $(\\mu \\pm 2\\sigma)$.\n",
    "  \n",
    "\\begin{equation}\n",
    "1 - \\frac{1}{2^2} = 1 - \\frac{1}{4} = 0.75 \\text{ (o 75\\%)}\n",
    "\\end{equation}\n",
    "\n",
    "- **Al menos el 89%** de los datos están dentro de **3 desviaciones estándar** de la media $(\\mu \\pm 3\\sigma$.\n",
    "\n",
    "\\begin{equation}\n",
    "1 - \\frac{1}{3^2} = 1 - \\frac{1}{9} = 0.89 \\text{ (o 89\\%)}\n",
    "\\end{equation}\n",
    "\n",
    "- **Al menos el 93.75%** de los datos están dentro de **4 desviaciones estándar** de la media $\\mu \\pm 4\\sigma$.\n",
    "\n",
    "\\begin{equation}\n",
    "1 - \\frac{1}{4^2} = 1 - \\frac{1}{16} = 0.9375 \\text{ (o 93.75\\%)}\n",
    "\\end{equation}\n",
    "\n",
    "## **Ejemplo**\n",
    "Supongamos que los ingresos en una ciudad tienen una media de **40,000** y una desviación estándar de **10,000**. Si usamos la desigualdad de Chebychev:\n",
    "\n",
    "- Al menos el **75%** de las personas tienen ingresos entre **20,000 y 60,000** $(\\mu \\pm 2\\sigma )$.\n",
    "- Al menos el **89%** tienen ingresos entre **10,000 y 70,000** $(\\mu \\pm 3\\sigma)$.\n",
    "\n",
    "Esto es útil cuando no sabemos si los datos siguen una distribución normal, ya que nos da una forma de estimar cuántos datos estarán dentro de ciertos rangos.\n"
   ]
  },
  {
   "cell_type": "markdown",
   "id": "b6ae99be-8682-4978-9d28-1fbda74da111",
   "metadata": {},
   "source": [
    "# Unidades estandar"
   ]
  },
  {
   "cell_type": "markdown",
   "id": "ba43eca8-3cd5-40fb-adcf-78ff1e91370e",
   "metadata": {},
   "source": [
    "\\begin{equation}\n",
    "z=\\frac{\\mathrm{value}-\\mathrm{average}}{SD}\n",
    "\\end{equation}"
   ]
  },
  {
   "cell_type": "code",
   "execution_count": 141,
   "id": "e291c14f-733a-4a0e-bded-dd8e20fceba5",
   "metadata": {},
   "outputs": [],
   "source": [
    "def standard_units(numbers_array):\n",
    "    \"Convert any array of numbers to standard units.\"\n",
    "    return (numbers_array - np.mean(numbers_array))/np.std(numbers_array)    "
   ]
  },
  {
   "cell_type": "markdown",
   "id": "7430eb04-1dc1-450f-8383-54698287f7fb",
   "metadata": {},
   "source": [
    "# Ejemplo "
   ]
  },
  {
   "cell_type": "code",
   "execution_count": 142,
   "id": "c2828065-00a6-424f-b020-2bbbaf87d758",
   "metadata": {},
   "outputs": [
    {
     "data": {
      "text/html": [
       "<table border=\"1\" class=\"dataframe\">\n",
       "    <thead>\n",
       "        <tr>\n",
       "            <th>Date</th> <th>Flight Number</th> <th>Destination</th> <th>Delay</th> <th>Delay (Standard Units)</th>\n",
       "        </tr>\n",
       "    </thead>\n",
       "    <tbody>\n",
       "        <tr>\n",
       "            <td>6/1/15</td> <td>73           </td> <td>HNL        </td> <td>257  </td> <td>6.08766               </td>\n",
       "        </tr>\n",
       "        <tr>\n",
       "            <td>6/1/15</td> <td>217          </td> <td>EWR        </td> <td>28   </td> <td>0.287279              </td>\n",
       "        </tr>\n",
       "        <tr>\n",
       "            <td>6/1/15</td> <td>237          </td> <td>STL        </td> <td>-3   </td> <td>-0.497924             </td>\n",
       "        </tr>\n",
       "        <tr>\n",
       "            <td>6/1/15</td> <td>250          </td> <td>SAN        </td> <td>0    </td> <td>-0.421937             </td>\n",
       "        </tr>\n",
       "        <tr>\n",
       "            <td>6/1/15</td> <td>267          </td> <td>PHL        </td> <td>64   </td> <td>1.19913               </td>\n",
       "        </tr>\n",
       "        <tr>\n",
       "            <td>6/1/15</td> <td>273          </td> <td>SEA        </td> <td>-6   </td> <td>-0.573912             </td>\n",
       "        </tr>\n",
       "        <tr>\n",
       "            <td>6/1/15</td> <td>278          </td> <td>SEA        </td> <td>-8   </td> <td>-0.62457              </td>\n",
       "        </tr>\n",
       "        <tr>\n",
       "            <td>6/1/15</td> <td>292          </td> <td>EWR        </td> <td>12   </td> <td>-0.117987             </td>\n",
       "        </tr>\n",
       "        <tr>\n",
       "            <td>6/1/15</td> <td>300          </td> <td>HNL        </td> <td>20   </td> <td>0.0846461             </td>\n",
       "        </tr>\n",
       "        <tr>\n",
       "            <td>6/1/15</td> <td>317          </td> <td>IND        </td> <td>-10  </td> <td>-0.675228             </td>\n",
       "        </tr>\n",
       "    </tbody>\n",
       "</table>\n",
       "<p>... (13815 rows omitted)</p>"
      ],
      "text/plain": [
       "Date   | Flight Number | Destination | Delay | Delay (Standard Units)\n",
       "6/1/15 | 73            | HNL         | 257   | 6.08766\n",
       "6/1/15 | 217           | EWR         | 28    | 0.287279\n",
       "6/1/15 | 237           | STL         | -3    | -0.497924\n",
       "6/1/15 | 250           | SAN         | 0     | -0.421937\n",
       "6/1/15 | 267           | PHL         | 64    | 1.19913\n",
       "6/1/15 | 273           | SEA         | -6    | -0.573912\n",
       "6/1/15 | 278           | SEA         | -8    | -0.62457\n",
       "6/1/15 | 292           | EWR         | 12    | -0.117987\n",
       "6/1/15 | 300           | HNL         | 20    | 0.0846461\n",
       "6/1/15 | 317           | IND         | -10   | -0.675228\n",
       "... (13815 rows omitted)"
      ]
     },
     "execution_count": 142,
     "metadata": {},
     "output_type": "execute_result"
    }
   ],
   "source": [
    "united = Table.read_table(path_data + 'united_summer2015.csv')\n",
    "united = united.with_column(\n",
    "    'Delay (Standard Units)', standard_units(united.column('Delay'))\n",
    ")\n",
    "united"
   ]
  },
  {
   "cell_type": "code",
   "execution_count": 143,
   "id": "ad625519-efee-4925-8d6e-8f52beb78784",
   "metadata": {},
   "outputs": [
    {
     "data": {
      "text/html": [
       "<table border=\"1\" class=\"dataframe\">\n",
       "    <thead>\n",
       "        <tr>\n",
       "            <th>Date</th> <th>Flight Number</th> <th>Destination</th> <th>Delay</th> <th>Delay (Standard Units)</th>\n",
       "        </tr>\n",
       "    </thead>\n",
       "    <tbody>\n",
       "        <tr>\n",
       "            <td>6/21/15</td> <td>1964         </td> <td>SEA        </td> <td>580  </td> <td>14.269                </td>\n",
       "        </tr>\n",
       "        <tr>\n",
       "            <td>6/22/15</td> <td>300          </td> <td>HNL        </td> <td>537  </td> <td>13.1798               </td>\n",
       "        </tr>\n",
       "        <tr>\n",
       "            <td>6/21/15</td> <td>1149         </td> <td>IAD        </td> <td>508  </td> <td>12.4453               </td>\n",
       "        </tr>\n",
       "        <tr>\n",
       "            <td>6/20/15</td> <td>353          </td> <td>ORD        </td> <td>505  </td> <td>12.3693               </td>\n",
       "        </tr>\n",
       "        <tr>\n",
       "            <td>8/23/15</td> <td>1589         </td> <td>ORD        </td> <td>458  </td> <td>11.1788               </td>\n",
       "        </tr>\n",
       "        <tr>\n",
       "            <td>7/23/15</td> <td>1960         </td> <td>LAX        </td> <td>438  </td> <td>10.6722               </td>\n",
       "        </tr>\n",
       "        <tr>\n",
       "            <td>6/23/15</td> <td>1606         </td> <td>ORD        </td> <td>430  </td> <td>10.4696               </td>\n",
       "        </tr>\n",
       "        <tr>\n",
       "            <td>6/4/15 </td> <td>1743         </td> <td>LAX        </td> <td>408  </td> <td>9.91236               </td>\n",
       "        </tr>\n",
       "        <tr>\n",
       "            <td>6/17/15</td> <td>1122         </td> <td>HNL        </td> <td>405  </td> <td>9.83637               </td>\n",
       "        </tr>\n",
       "        <tr>\n",
       "            <td>7/27/15</td> <td>572          </td> <td>ORD        </td> <td>385  </td> <td>9.32979               </td>\n",
       "        </tr>\n",
       "    </tbody>\n",
       "</table>\n",
       "<p>... (13815 rows omitted)</p>"
      ],
      "text/plain": [
       "Date    | Flight Number | Destination | Delay | Delay (Standard Units)\n",
       "6/21/15 | 1964          | SEA         | 580   | 14.269\n",
       "6/22/15 | 300           | HNL         | 537   | 13.1798\n",
       "6/21/15 | 1149          | IAD         | 508   | 12.4453\n",
       "6/20/15 | 353           | ORD         | 505   | 12.3693\n",
       "8/23/15 | 1589          | ORD         | 458   | 11.1788\n",
       "7/23/15 | 1960          | LAX         | 438   | 10.6722\n",
       "6/23/15 | 1606          | ORD         | 430   | 10.4696\n",
       "6/4/15  | 1743          | LAX         | 408   | 9.91236\n",
       "6/17/15 | 1122          | HNL         | 405   | 9.83637\n",
       "7/27/15 | 572           | ORD         | 385   | 9.32979\n",
       "... (13815 rows omitted)"
      ]
     },
     "execution_count": 143,
     "metadata": {},
     "output_type": "execute_result"
    }
   ],
   "source": [
    "united.sort('Delay', descending=True)"
   ]
  },
  {
   "cell_type": "markdown",
   "id": "85fa3491-9efe-445a-9333-a6591c8d8e2d",
   "metadata": {},
   "source": [
    "\n",
    "\n",
    "la proporción de estos valores extremos es pequeña, y los límites de Chebychev siguen siendo ciertos. Por ejemplo, calculemos el porcentaje de tiempos de retraso que están en el rango \"promedio\n",
    "±\n",
    "3 SD\". Esto es el mismo que el porcentaje de veces para las que las unidades estándar están en el rango (-3, 3). Eso es alrededor del 98 %, como se calcula a continuación, consistente con el límite de Chebychev de \"al menos el 89 %"
   ]
  },
  {
   "cell_type": "code",
   "execution_count": 144,
   "id": "24183429-e2a7-4cf9-ab63-166d76312544",
   "metadata": {},
   "outputs": [
    {
     "data": {
      "text/plain": [
       "0.9790235081374322"
      ]
     },
     "execution_count": 144,
     "metadata": {},
     "output_type": "execute_result"
    }
   ],
   "source": [
    "within_3_sd = united.where('Delay (Standard Units)', are.between(-3, 3))\n",
    "within_3_sd.num_rows/united.num_rows"
   ]
  },
  {
   "cell_type": "code",
   "execution_count": 145,
   "id": "b1c1eda8-1c1e-4080-a5e9-76d09639b994",
   "metadata": {},
   "outputs": [
    {
     "data": {
      "image/png": "[encoded data removed]",
      "text/plain": [
       "<Figure size 600x400 with 1 Axes>"
      ]
     },
     "metadata": {},
     "output_type": "display_data"
    }
   ],
   "source": [
    "united.hist('Delay (Standard Units)', bins=np.arange(-5, 15.5, 0.5))\n",
    "plots.xticks(np.arange(-6, 17, 3));"
   ]
  },
  {
   "cell_type": "markdown",
   "id": "9e88c67d-f190-4758-96a5-44066fe32fea",
   "metadata": {},
   "source": [
    "# La desviacion estandar y la curva normal"
   ]
  },
  {
   "cell_type": "markdown",
   "id": "320f0b09-125d-4f09-9726-c68ee3aecd76",
   "metadata": {},
   "source": [
    "Sabemos que la media es el punto de equilibrio del histograma. A diferencia de la media, la SD generalmente no es fácil de identificar mirando el histograma."
   ]
  },
  {
   "cell_type": "code",
   "execution_count": 146,
   "id": "34209468-c453-420b-a11a-997d00a70094",
   "metadata": {},
   "outputs": [],
   "source": [
    "baby = Table.read_table('baby.csv')\n",
    "baby[\"Maternal Height\"] = baby.apply(lambda x:x*0.0254,\"Maternal Height\")"
   ]
  },
  {
   "cell_type": "code",
   "execution_count": 147,
   "id": "1313e62b-c867-44d6-a9fb-a2e48181ebe8",
   "metadata": {},
   "outputs": [
    {
     "data": {
      "text/plain": [
       "1.6000000000000001"
      ]
     },
     "execution_count": 147,
     "metadata": {},
     "output_type": "execute_result"
    }
   ],
   "source": [
    "heights = baby.column('Maternal Height')\n",
    "mean_height = np.round(np.mean(heights), 1)\n",
    "mean_height"
   ]
  },
  {
   "cell_type": "code",
   "execution_count": 148,
   "id": "bf3d9374-b2bb-4079-a64c-f9d3fe64ff47",
   "metadata": {},
   "outputs": [
    {
     "data": {
      "text/plain": [
       "0.10000000000000001"
      ]
     },
     "execution_count": 148,
     "metadata": {},
     "output_type": "execute_result"
    }
   ],
   "source": [
    "sd_height = np.round(np.std(heights), 1)\n",
    "sd_height"
   ]
  },
  {
   "cell_type": "code",
   "execution_count": 149,
   "id": "10c3dd41-74a3-4bc9-b4f2-ebb8c0ba5f84",
   "metadata": {},
   "outputs": [
    {
     "data": {
      "image/png": "[encoded data removed]",
      "text/plain": [
       "<Figure size 600x400 with 1 Axes>"
      ]
     },
     "metadata": {},
     "output_type": "display_data"
    }
   ],
   "source": [
    "baby.hist('Maternal Height', bins=0.0254*np.arange(55.5, 72.5, 1), unit='inch')\n",
    "#positions = 0.0254*np.arange(-3, 3.1, 1)*sd_height + mean_height\n",
    "#plots.xticks(positions);"
   ]
  },
  {
   "cell_type": "code",
   "execution_count": null,
   "id": "b5ba01f5-b139-4448-9662-c4fb51ba9cfc",
   "metadata": {},
   "outputs": [],
   "source": []
  },
  {
   "cell_type": "code",
   "execution_count": null,
   "id": "54fafe48-7c77-4c91-b8db-74f45e06f92e",
   "metadata": {},
   "outputs": [],
   "source": []
  },
  {
   "cell_type": "markdown",
   "id": "8922a4cd-4868-4468-b07f-c5e0abe9385a",
   "metadata": {},
   "source": [
    "# La curva normal estandar"
   ]
  },
  {
   "cell_type": "markdown",
   "id": "7d2d479a-5ca1-4d00-a00e-6e324ae38f03",
   "metadata": {},
   "source": [
    "# **Características de una Función Normal**\n",
    "\n",
    "Una **distribución normal** (o distribución de Gauss) es una función de densidad de probabilidad que sigue la forma de una **campana simétrica** y está definida por dos parámetros:\n",
    "\n",
    "- **Media (\\(\\mu\\))**: Representa el centro de la distribución.\n",
    "- **Desviación estándar (\\(\\sigma\\))**: Controla el ancho de la curva, es decir, qué tan dispersos están los datos alrededor de la media.\n",
    "\n",
    "## **Ecuación de la Distribución Normal**\n",
    "La función de densidad de probabilidad (PDF) de una distribución normal está dada por la ecuación:\n",
    "\n",
    "\\begin{equation}\n",
    "f(x) = \\frac{1}{\\sigma \\sqrt{2\\pi}} e^{-\\frac{(x - \\mu)^2}{2\\sigma^2}}\n",
    "\\end{equation}\n",
    "\n",
    "donde:\n",
    "- $ x $ es el valor de la variable aleatoria.\n",
    "- $ \\mu $ es la media de la distribución.\n",
    "- $ \\sigma $ es la desviación estándar.\n",
    "- $ e $ es la base de los logaritmos naturales $\\approx 2.718$\n",
    "- $ \\pi $ es la constante matemática $\\approx 3.1416$\n",
    "\n",
    "## **Propiedades de la Distribución Normal**\n",
    "1. **Simetría**: La curva es simétrica respecto a la media $\\mu$.\n",
    "2. **Campana**: La forma de la curva sigue una campana con colas que se extienden indefinidamente sin tocar el eje \\(x\\).\n",
    "3. **Área total bajo la curva**: Siempre es **1** (100% de probabilidad).\n",
    "4. **Regla Empírica (68-95-99.7)**:\n",
    "   - **68%** de los valores están dentro de **1 desviación estándar** $\\mu \\pm \\sigma$\n",
    "   - **95%** de los valores están dentro de **2 desviaciones estándar** $\\mu \\pm 2\\sigma$\n",
    "   - **99.7%** de los valores están dentro de **3 desviaciones estándar** $\\mu \\pm 3\\sigma$\n",
    "\n",
    "## **Ejemplo en Python**\n",
    "El siguiente código genera la gráfica de una **distribución normal** y resalta el área bajo la curva para un rango específico utilizando la función de distribución acumulativa (**CDF**).\n"
   ]
  },
  {
   "cell_type": "markdown",
   "id": "57ab8ff5-6446-41af-8267-adea704c9413",
   "metadata": {},
   "source": [
    "función de distribución acumulativa"
   ]
  },
  {
   "cell_type": "code",
   "execution_count": 150,
   "id": "4a87af4b-c0b5-421a-a799-894577604b8a",
   "metadata": {},
   "outputs": [
    {
     "data": {
      "text/plain": [
       "<scipy.stats._continuous_distns.norm_gen at 0x152cb2350>"
      ]
     },
     "execution_count": 150,
     "metadata": {},
     "output_type": "execute_result"
    }
   ],
   "source": [
    "from scipy import stats\n",
    "stats.norm"
   ]
  },
  {
   "cell_type": "code",
   "execution_count": 151,
   "id": "f8ce5e7c-0249-4ea4-a6e6-3318e761bfb2",
   "metadata": {},
   "outputs": [
    {
     "data": {
      "text/plain": [
       "0.84134474606854293"
      ]
     },
     "execution_count": 151,
     "metadata": {},
     "output_type": "execute_result"
    }
   ],
   "source": [
    "from scipy import stats\n",
    "stats.norm.cdf(1)"
   ]
  },
  {
   "cell_type": "code",
   "execution_count": 152,
   "id": "ef9a3e35-2ced-470b-9fa9-6c04bb1a3188",
   "metadata": {},
   "outputs": [
    {
     "data": {
      "text/plain": [
       "0.15865525393145707"
      ]
     },
     "execution_count": 152,
     "metadata": {},
     "output_type": "execute_result"
    }
   ],
   "source": [
    "1- stats.norm.cdf(1)"
   ]
  },
  {
   "cell_type": "code",
   "execution_count": 153,
   "id": "cd67fa54-f0a7-4081-8301-5823ea19eb5c",
   "metadata": {},
   "outputs": [
    {
     "ename": "NameError",
     "evalue": "name 'norm' is not defined",
     "output_type": "error",
     "traceback": [
      "\u001b[0;31m---------------------------------------------------------------------------\u001b[0m",
      "\u001b[0;31mNameError\u001b[0m                                 Traceback (most recent call last)",
      "Cell \u001b[0;32mIn[153], line 9\u001b[0m\n\u001b[1;32m      6\u001b[0m x \u001b[38;5;241m=\u001b[39m np\u001b[38;5;241m.\u001b[39mlinspace(mu \u001b[38;5;241m-\u001b[39m \u001b[38;5;241m4\u001b[39m\u001b[38;5;241m*\u001b[39msigma, mu \u001b[38;5;241m+\u001b[39m \u001b[38;5;241m4\u001b[39m\u001b[38;5;241m*\u001b[39msigma, \u001b[38;5;241m1000\u001b[39m)\n\u001b[1;32m      8\u001b[0m \u001b[38;5;66;03m# Función de densidad de probabilidad (PDF)\u001b[39;00m\n\u001b[0;32m----> 9\u001b[0m pdf \u001b[38;5;241m=\u001b[39m \u001b[43mnorm\u001b[49m\u001b[38;5;241m.\u001b[39mpdf(x, mu, sigma)\n\u001b[1;32m     10\u001b[0m plots\u001b[38;5;241m.\u001b[39mplot(x, pdf, \u001b[38;5;124m'\u001b[39m\u001b[38;5;124mb\u001b[39m\u001b[38;5;124m'\u001b[39m, linewidth\u001b[38;5;241m=\u001b[39m\u001b[38;5;241m2\u001b[39m, label\u001b[38;5;241m=\u001b[39m\u001b[38;5;124m\"\u001b[39m\u001b[38;5;124mDistribución Normal\u001b[39m\u001b[38;5;124m\"\u001b[39m)\n",
      "\u001b[0;31mNameError\u001b[0m: name 'norm' is not defined"
     ]
    }
   ],
   "source": [
    "# Parámetros de la distribución normal\n",
    "mu = 0      # Media\n",
    "sigma = 1   # Desviación estándar\n",
    "\n",
    "# Rango de valores para X\n",
    "x = np.linspace(mu - 4*sigma, mu + 4*sigma, 1000)\n",
    "\n",
    "# Función de densidad de probabilidad (PDF)\n",
    "pdf = norm.pdf(x, mu, sigma)\n",
    "plots.plot(x, pdf, 'b', linewidth=2, label=\"Distribución Normal\")"
   ]
  },
  {
   "cell_type": "code",
   "execution_count": 154,
   "id": "8c980e34-934b-40e2-afc2-c0e7ad12a18a",
   "metadata": {},
   "outputs": [
    {
     "ename": "NameError",
     "evalue": "name 'pdf' is not defined",
     "output_type": "error",
     "traceback": [
      "\u001b[0;31m---------------------------------------------------------------------------\u001b[0m",
      "\u001b[0;31mNameError\u001b[0m                                 Traceback (most recent call last)",
      "Cell \u001b[0;32mIn[154], line 3\u001b[0m\n\u001b[1;32m      1\u001b[0m \u001b[38;5;66;03m# Crear la gráfica\u001b[39;00m\n\u001b[1;32m      2\u001b[0m plots\u001b[38;5;241m.\u001b[39mfigure(figsize\u001b[38;5;241m=\u001b[39m(\u001b[38;5;241m10\u001b[39m, \u001b[38;5;241m6\u001b[39m))\n\u001b[0;32m----> 3\u001b[0m plots\u001b[38;5;241m.\u001b[39mplot(x, \u001b[43mpdf\u001b[49m, \u001b[38;5;124m'\u001b[39m\u001b[38;5;124mb\u001b[39m\u001b[38;5;124m'\u001b[39m, linewidth\u001b[38;5;241m=\u001b[39m\u001b[38;5;241m2\u001b[39m, label\u001b[38;5;241m=\u001b[39m\u001b[38;5;124m\"\u001b[39m\u001b[38;5;124mDistribución Normal\u001b[39m\u001b[38;5;124m\"\u001b[39m)\n\u001b[1;32m      5\u001b[0m \u001b[38;5;66;03m# Rango para sombrear (por ejemplo, entre -1 y 1)\u001b[39;00m\n\u001b[1;32m      6\u001b[0m x_fill \u001b[38;5;241m=\u001b[39m np\u001b[38;5;241m.\u001b[39mlinspace(\u001b[38;5;241m-\u001b[39m\u001b[38;5;241m4\u001b[39m\u001b[38;5;241m*\u001b[39msigma, \u001b[38;5;241m1\u001b[39m, \u001b[38;5;241m100\u001b[39m)\n",
      "\u001b[0;31mNameError\u001b[0m: name 'pdf' is not defined"
     ]
    },
    {
     "data": {
      "text/plain": [
       "<Figure size 1000x600 with 0 Axes>"
      ]
     },
     "metadata": {},
     "output_type": "display_data"
    }
   ],
   "source": [
    "# Crear la gráfica\n",
    "plots.figure(figsize=(10, 6))\n",
    "plots.plot(x, pdf, 'b', linewidth=2, label=\"Distribución Normal\")\n",
    "\n",
    "# Rango para sombrear (por ejemplo, entre -1 y 1)\n",
    "x_fill = np.linspace(-4*sigma, 1, 100)\n",
    "x_fill2 = np.linspace(1, 4*sigma, 100)\n",
    "y_fill = norm.pdf(x_fill, mu, sigma)\n",
    "y_fill2 = norm.pdf(x_fill2, mu, sigma)\n",
    "\n",
    "plots.fill_between(x_fill, y_fill, color='blue', alpha=0.3, label=\"Área bajo la curva (CDF)\")\n",
    "plots.fill_between(x_fill2, y_fill2, color='yellow', alpha=0.3, label=\"Área bajo la curva (CDF)\")\n",
    "\n",
    "\n",
    "# Etiquetas y título\n",
    "plots.xlabel(\"X\")\n",
    "plots.ylabel(\"Densidad de Probabilidad\")\n",
    "plots.title(f\"Distribución Normal y su Área Bajo la Curva {stats.norm.cdf(1)}\")\n",
    "plots.legend()\n",
    "plots.grid(True)\n",
    "\n",
    "# Mostrar la gráfica\n",
    "plots.show()\n"
   ]
  },
  {
   "cell_type": "code",
   "execution_count": null,
   "id": "164b7fe0-f06f-4933-88c9-2b830a824553",
   "metadata": {},
   "outputs": [],
   "source": []
  },
  {
   "cell_type": "markdown",
   "id": "afebb683-6f09-442c-9ff1-3b0ba8932d5d",
   "metadata": {},
   "source": [
    "# **Problema: Análisis de Calificaciones de Estudiantes**\n",
    "\n",
    "Un profesor analiza las calificaciones de sus estudiantes en un examen y descubre que siguen una **distribución normal** con:  \n",
    "- **Media $\\mu$ = 70 puntos**  \n",
    "- **Desviación estándar $\\sigma$ = 10 puntos**  \n",
    "\n",
    "El profesor quiere visualizar cuántos estudiantes caen dentro de **1, 2 y 3 desviaciones estándar** de la media. Basándose en la teoría de la distribución normal:  \n",
    "\n",
    "- **Entre $ \\mu \\pm 1\\sigma $ (60-80 puntos)** → Aproximadamente **68%** de los estudiantes.  \n",
    "- **Entre $ \\mu \\pm 2\\sigma $ (50-90 puntos)** → Aproximadamente **95%** de los estudiantes.  \n",
    "- **Entre $ \\mu \\pm 3\\sigma $ (40-100 puntos)** → Aproximadamente **99.73%** de los estudiantes.  \n",
    "\n",
    "Según la **Desigualdad de Chebychev**:  \n",
    "- Al menos el **75%** de los datos están en $ \\mu \\pm 2\\sigma $.  \n",
    "- Al menos el **88.89%** de los datos están en $ \\mu \\pm 3\\sigma $.  \n",
    "\n",
    "Realozar un programa en python que permita realizar el  grafico de la **distribución normal** de las calificaciones y sombrear las regiones correspondientes a **1, 2 y 3 desviaciones estándar**.\n",
    "\n",
    "\n",
    "\n"
   ]
  },
  {
   "cell_type": "code",
   "execution_count": 155,
   "id": "7c560809-a04e-4dec-91c9-0f15b07c9cb2",
   "metadata": {},
   "outputs": [
    {
     "ename": "NameError",
     "evalue": "name 'norm' is not defined",
     "output_type": "error",
     "traceback": [
      "\u001b[0;31m---------------------------------------------------------------------------\u001b[0m",
      "\u001b[0;31mNameError\u001b[0m                                 Traceback (most recent call last)",
      "Cell \u001b[0;32mIn[155], line 4\u001b[0m\n\u001b[1;32m      2\u001b[0m sigma\u001b[38;5;241m=\u001b[39m\u001b[38;5;241m10\u001b[39m\n\u001b[1;32m      3\u001b[0m x \u001b[38;5;241m=\u001b[39m np\u001b[38;5;241m.\u001b[39mlinspace(mu\u001b[38;5;241m-\u001b[39m\u001b[38;5;241m4\u001b[39m\u001b[38;5;241m*\u001b[39msigma, mu\u001b[38;5;241m+\u001b[39m\u001b[38;5;241m4\u001b[39m\u001b[38;5;241m*\u001b[39msigma,\u001b[38;5;241m1000\u001b[39m)\n\u001b[0;32m----> 4\u001b[0m pdf \u001b[38;5;241m=\u001b[39m \u001b[43mnorm\u001b[49m\u001b[38;5;241m.\u001b[39mpdf(x, mu, sigma)\n\u001b[1;32m      5\u001b[0m plots\u001b[38;5;241m.\u001b[39mplot(x, pdf)\n\u001b[1;32m      6\u001b[0m plots\u001b[38;5;241m.\u001b[39mxlabel(\u001b[38;5;124m\"\u001b[39m\u001b[38;5;124mx\u001b[39m\u001b[38;5;124m\"\u001b[39m)\n",
      "\u001b[0;31mNameError\u001b[0m: name 'norm' is not defined"
     ]
    }
   ],
   "source": [
    "mu=70\n",
    "sigma=10\n",
    "x = np.linspace(mu-4*sigma, mu+4*sigma,1000)\n",
    "pdf = norm.pdf(x, mu, sigma)\n",
    "plots.plot(x, pdf)\n",
    "plots.xlabel(\"x\")\n",
    "plots.ylabel(\"f(x)\")"
   ]
  },
  {
   "cell_type": "code",
   "execution_count": 156,
   "id": "ead7b70f-3d92-4e38-a6e8-ef372180f264",
   "metadata": {},
   "outputs": [
    {
     "ename": "NameError",
     "evalue": "name 'pdf' is not defined",
     "output_type": "error",
     "traceback": [
      "\u001b[0;31m---------------------------------------------------------------------------\u001b[0m",
      "\u001b[0;31mNameError\u001b[0m                                 Traceback (most recent call last)",
      "Cell \u001b[0;32mIn[156], line 1\u001b[0m\n\u001b[0;32m----> 1\u001b[0m plots\u001b[38;5;241m.\u001b[39mplot(x, \u001b[43mpdf\u001b[49m)\n\u001b[1;32m      2\u001b[0m k \u001b[38;5;241m=\u001b[39m \u001b[38;5;241m1\u001b[39m\n\u001b[1;32m      3\u001b[0m x_fill \u001b[38;5;241m=\u001b[39m np\u001b[38;5;241m.\u001b[39mlinspace(mu\u001b[38;5;241m-\u001b[39m k\u001b[38;5;241m*\u001b[39msigma, mu\u001b[38;5;241m+\u001b[39m k\u001b[38;5;241m*\u001b[39msigma, \u001b[38;5;241m100\u001b[39m)\n",
      "\u001b[0;31mNameError\u001b[0m: name 'pdf' is not defined"
     ]
    }
   ],
   "source": [
    "plots.plot(x, pdf)\n",
    "k = 1\n",
    "x_fill = np.linspace(mu- k*sigma, mu+ k*sigma, 100)\n",
    "y_fill = norm.pdf(x_fill, mu, sigma)\n",
    "plots.fill_between(x_fill, y_fill, color=color, alpha=0.3, label=label)\n",
    "plots.xlabel(\"x\")\n",
    "plots.ylabel(\"f(x)\")"
   ]
  },
  {
   "cell_type": "code",
   "execution_count": 157,
   "id": "81e31510-9447-4cc6-9eb6-f252c27022df",
   "metadata": {},
   "outputs": [
    {
     "data": {
      "text/plain": [
       "0.84134474606854293"
      ]
     },
     "execution_count": 157,
     "metadata": {},
     "output_type": "execute_result"
    }
   ],
   "source": [
    "stats.norm.cdf(1)"
   ]
  },
  {
   "cell_type": "code",
   "execution_count": 158,
   "id": "311bf026-511c-4b4e-ab83-eb591e72d63f",
   "metadata": {},
   "outputs": [
    {
     "ename": "NameError",
     "evalue": "name 'norm' is not defined",
     "output_type": "error",
     "traceback": [
      "\u001b[0;31m---------------------------------------------------------------------------\u001b[0m",
      "\u001b[0;31mNameError\u001b[0m                                 Traceback (most recent call last)",
      "Cell \u001b[0;32mIn[158], line 1\u001b[0m\n\u001b[0;32m----> 1\u001b[0m p_izquierda \u001b[38;5;241m=\u001b[39m \u001b[43mnorm\u001b[49m\u001b[38;5;241m.\u001b[39mcdf(mu \u001b[38;5;241m-\u001b[39m \u001b[38;5;241m1\u001b[39m\u001b[38;5;241m*\u001b[39msigma, mu, sigma)  \n\u001b[1;32m      2\u001b[0m p_derecha \u001b[38;5;241m=\u001b[39m norm\u001b[38;5;241m.\u001b[39mcdf(mu \u001b[38;5;241m+\u001b[39m \u001b[38;5;241m1\u001b[39m\u001b[38;5;241m*\u001b[39msigma, mu, sigma)  \n\u001b[1;32m      3\u001b[0m Area\u001b[38;5;241m=\u001b[39mp_derecha\u001b[38;5;241m-\u001b[39mp_izquierda\n",
      "\u001b[0;31mNameError\u001b[0m: name 'norm' is not defined"
     ]
    }
   ],
   "source": [
    "p_izquierda = norm.cdf(mu - 1*sigma, mu, sigma)  \n",
    "p_derecha = norm.cdf(mu + 1*sigma, mu, sigma)  \n",
    "Area=p_derecha-p_izquierda"
   ]
  },
  {
   "cell_type": "code",
   "execution_count": 159,
   "id": "c1265297-780d-4cc5-97c8-a66e5d44456f",
   "metadata": {},
   "outputs": [
    {
     "ename": "NameError",
     "evalue": "name 'Area' is not defined",
     "output_type": "error",
     "traceback": [
      "\u001b[0;31m---------------------------------------------------------------------------\u001b[0m",
      "\u001b[0;31mNameError\u001b[0m                                 Traceback (most recent call last)",
      "Cell \u001b[0;32mIn[159], line 1\u001b[0m\n\u001b[0;32m----> 1\u001b[0m \u001b[43mArea\u001b[49m\u001b[38;5;241m*\u001b[39m\u001b[38;5;241m100\u001b[39m\n",
      "\u001b[0;31mNameError\u001b[0m: name 'Area' is not defined"
     ]
    }
   ],
   "source": [
    "Area*100"
   ]
  },
  {
   "cell_type": "code",
   "execution_count": null,
   "id": "2eef5486-0f4b-4ca9-be71-ca4bb1ab44de",
   "metadata": {},
   "outputs": [],
   "source": []
  },
  {
   "cell_type": "code",
   "execution_count": null,
   "id": "c0c66e65-53f5-4124-b9ba-df4231566afa",
   "metadata": {},
   "outputs": [],
   "source": []
  },
  {
   "cell_type": "code",
   "execution_count": null,
   "id": "ae7ee531-9c0c-4288-aa5e-ad3c7c97b1fb",
   "metadata": {},
   "outputs": [],
   "source": []
  },
  {
   "cell_type": "code",
   "execution_count": null,
   "id": "0e37748f-8402-45a4-8dca-029a2ff9f944",
   "metadata": {},
   "outputs": [],
   "source": []
  },
  {
   "cell_type": "code",
   "execution_count": null,
   "id": "e6a97513-8fe9-4deb-bd1a-be4cac93b1cc",
   "metadata": {},
   "outputs": [],
   "source": []
  }
 ],
 "metadata": {
  "kernelspec": {
   "display_name": "Python 3 (ipykernel)",
   "language": "python",
   "name": "python3"
  },
  "language_info": {
   "codemirror_mode": {
    "name": "ipython",
    "version": 3
   },
   "file_extension": ".py",
   "mimetype": "text/x-python",
   "name": "python",
   "nbconvert_exporter": "python",
   "pygments_lexer": "ipython3",
   "version": "3.10.14"
  }
 },
 "nbformat": 4,
 "nbformat_minor": 5
}
