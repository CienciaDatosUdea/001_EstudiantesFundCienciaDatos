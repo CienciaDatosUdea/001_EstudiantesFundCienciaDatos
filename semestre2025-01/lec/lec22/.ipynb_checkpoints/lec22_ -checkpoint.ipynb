{
 "cells": [
  {
   "cell_type": "code",
   "execution_count": 1,
   "id": "c5e689f9-b65f-4e4c-81c3-8e31ae239114",
   "metadata": {},
   "outputs": [],
   "source": [
    "import numpy as np\n",
    "from datascience import *\n",
    "import matplotlib.pylab as plots\n",
    "plots.style.use('fivethirtyeight')\n",
    "%matplotlib inline"
   ]
  },
  {
   "cell_type": "code",
   "execution_count": 2,
   "id": "357b6390-c636-434a-8e54-145407f4aba1",
   "metadata": {},
   "outputs": [],
   "source": [
    "tamanos_continentes = make_array(12, 17, 6, 9, 7)"
   ]
  },
  {
   "cell_type": "code",
   "execution_count": 3,
   "id": "949fd011-2d72-474e-a59c-82a34ac61fab",
   "metadata": {},
   "outputs": [
    {
     "data": {
      "text/plain": [
       "array([ 6,  7,  9, 12, 17])"
      ]
     },
     "execution_count": 3,
     "metadata": {},
     "output_type": "execute_result"
    }
   ],
   "source": [
    "np.sort(tamanos_continentes)"
   ]
  },
  {
   "cell_type": "markdown",
   "id": "05d71a56-47c4-4b5d-bdba-581e545b3535",
   "metadata": {},
   "source": [
    "- El  percentil 80 es un valor de la lista 12. El 80% de los valores son menores o iguales a él, y es valor mas pequeño para el cual es cierto.\n",
    "\n",
    "- El percentil 70 es el valor mas pequeno de la coleccion que es al menos tan grande como el 70% de los elementos. El 70 porciento de los 5 elementos es 3.5 elementos, por lo que el percentil 70, es el cuarto elemento de la lista. Es decir 12\n",
    "\n"
   ]
  },
  {
   "cell_type": "markdown",
   "id": "c7126954-8bb6-4976-bca4-ca4fa0775a8c",
   "metadata": {},
   "source": [
    "# Función percentil \n",
    "\n",
    "```python\n",
    "percentil(percentil_numero, coleeccion de elementos)\n",
    "```"
   ]
  },
  {
   "cell_type": "code",
   "execution_count": 4,
   "id": "7f2d6b8f-a512-41d7-99c5-2b175a05f38f",
   "metadata": {},
   "outputs": [
    {
     "data": {
      "text/plain": [
       "12"
      ]
     },
     "execution_count": 4,
     "metadata": {},
     "output_type": "execute_result"
    }
   ],
   "source": [
    "percentile(70, tamanos_continentes)"
   ]
  },
  {
   "cell_type": "code",
   "execution_count": 5,
   "id": "3d271f4c-3319-4007-80b1-2dec6cc54c92",
   "metadata": {},
   "outputs": [
    {
     "data": {
      "text/plain": [
       "12"
      ]
     },
     "execution_count": 5,
     "metadata": {},
     "output_type": "execute_result"
    }
   ],
   "source": [
    "percentile(80, tamanos_continentes)"
   ]
  },
  {
   "cell_type": "markdown",
   "id": "8c5a6309-c8de-4ef4-a67d-b60b83b68e2d",
   "metadata": {},
   "source": [
    "# **Percentil**\n",
    "\n",
    "El **percentil** es una medida estadística que indica la posición de un valor dentro de un conjunto de datos ordenados. Formalmente, el percentil $ P_k $ de orden $ k $ (donde $ k $ es un número entre 0 y 100) se define como el valor $ x_k $ que cumple con las siguientes condiciones:\n",
    "\n",
    "1. **Porcentaje de datos menores o iguales**: Al menos el $k\\%$ de los datos son menores o iguales a $x_k$.\n",
    "2. **Porcentaje de datos mayores o iguales**: Al menos el $(100 - k)\\%$ de los datos son mayores o iguales a $x_k$.\n",
    "\n",
    "## **Fórmula General para Calcular un Percentil**\n",
    "Si tenemos un conjunto de datos ordenados de tamaño $n$, el índice $i$ correspondiente al percentil $k$ se calcula como:\n",
    "\n",
    "\\begin{equation}\n",
    "i = \\frac{k}{100} \\times n\n",
    "\\end{equation}\n",
    "\n",
    "### **Reglas para determinar el percentil \\( P_k \\):**\n",
    "- Si $i$ es un número entero, el percentil es el promedio entre el valor en la posición $i$ y el valor en la posición $i+1$.\n",
    "- Si $i$ no es un número entero, se redondea hacia arriba y se toma el valor en la posición resultante.\n",
    "\n",
    "## **Ejemplo Práctico**\n",
    "Supongamos que tenemos los siguientes datos ordenados:  \n",
    "\\[ 2, 5, 7, 10, 15, 18, 21, 25, 30, 35 \\] (10 datos, $n = 10$)\n",
    "\n",
    "Queremos encontrar el **percentil 40** ($P_{40}$):\n",
    "\n",
    "\\begin{equation}\n",
    "i = \\frac{40}{100} \\times 10 = 4\n",
    "\\end{equation}\n",
    "\n",
    "Es decir, 10 es el numero 4 de la lista que representa que el 40%  de los datos son menores o iguales a el. Mientras el 60% son mayores o iguales que él."
   ]
  },
  {
   "cell_type": "code",
   "execution_count": 6,
   "id": "7e627455-feba-4b19-a592-773aa816ea1c",
   "metadata": {},
   "outputs": [],
   "source": [
    "numbers=make_array(2, 5, 7, 10, 15, 18, 21, 25, 30, 35 )"
   ]
  },
  {
   "cell_type": "code",
   "execution_count": 7,
   "id": "55c65bd8-1151-479d-beac-5213746a37df",
   "metadata": {},
   "outputs": [
    {
     "data": {
      "text/plain": [
       "10"
      ]
     },
     "execution_count": 7,
     "metadata": {},
     "output_type": "execute_result"
    }
   ],
   "source": [
    "percentile(40, numbers)"
   ]
  },
  {
   "cell_type": "code",
   "execution_count": 8,
   "id": "85c9cfb8-3d4f-4e78-b865-0faa7ebba37b",
   "metadata": {},
   "outputs": [],
   "source": [
    "score = Table.read_table(\"scores_by_section.csv\")"
   ]
  },
  {
   "cell_type": "code",
   "execution_count": 9,
   "id": "6e2d2c58-8c78-495e-9532-298ebd88c887",
   "metadata": {},
   "outputs": [
    {
     "data": {
      "text/html": [
       "<table border=\"1\" class=\"dataframe\">\n",
       "    <thead>\n",
       "        <tr>\n",
       "            <th>Section</th> <th>Midterm</th>\n",
       "        </tr>\n",
       "    </thead>\n",
       "    <tbody>\n",
       "        <tr>\n",
       "            <td>1      </td> <td>22     </td>\n",
       "        </tr>\n",
       "        <tr>\n",
       "            <td>2      </td> <td>12     </td>\n",
       "        </tr>\n",
       "        <tr>\n",
       "            <td>2      </td> <td>23     </td>\n",
       "        </tr>\n",
       "        <tr>\n",
       "            <td>2      </td> <td>14     </td>\n",
       "        </tr>\n",
       "        <tr>\n",
       "            <td>1      </td> <td>20     </td>\n",
       "        </tr>\n",
       "        <tr>\n",
       "            <td>3      </td> <td>25     </td>\n",
       "        </tr>\n",
       "        <tr>\n",
       "            <td>4      </td> <td>19     </td>\n",
       "        </tr>\n",
       "        <tr>\n",
       "            <td>1      </td> <td>24     </td>\n",
       "        </tr>\n",
       "        <tr>\n",
       "            <td>5      </td> <td>8      </td>\n",
       "        </tr>\n",
       "        <tr>\n",
       "            <td>6      </td> <td>14     </td>\n",
       "        </tr>\n",
       "    </tbody>\n",
       "</table>\n",
       "<p>... (349 rows omitted)</p>"
      ],
      "text/plain": [
       "Section | Midterm\n",
       "1       | 22\n",
       "2       | 12\n",
       "2       | 23\n",
       "2       | 14\n",
       "1       | 20\n",
       "3       | 25\n",
       "4       | 19\n",
       "1       | 24\n",
       "5       | 8\n",
       "6       | 14\n",
       "... (349 rows omitted)"
      ]
     },
     "execution_count": 9,
     "metadata": {},
     "output_type": "execute_result"
    }
   ],
   "source": [
    "score"
   ]
  },
  {
   "cell_type": "code",
   "execution_count": 10,
   "id": "35e210c0-b911-423c-b494-719f74fca998",
   "metadata": {},
   "outputs": [
    {
     "data": {
      "image/png": "[encoded data removed]",
      "text/plain": [
       "<Figure size 600x400 with 1 Axes>"
      ]
     },
     "metadata": {},
     "output_type": "display_data"
    }
   ],
   "source": [
    "score.select(\"Midterm\").hist(bins=np.arange(-5, 30, 1))"
   ]
  },
  {
   "cell_type": "code",
   "execution_count": 11,
   "id": "2393ae48-8311-44b7-9200-ff9939a5b0f0",
   "metadata": {},
   "outputs": [
    {
     "data": {
      "text/html": [
       "<table border=\"1\" class=\"dataframe\">\n",
       "    <thead>\n",
       "        <tr>\n",
       "            <th>Midterm</th>\n",
       "        </tr>\n",
       "    </thead>\n",
       "    <tbody>\n",
       "        <tr>\n",
       "            <td>22     </td>\n",
       "        </tr>\n",
       "        <tr>\n",
       "            <td>12     </td>\n",
       "        </tr>\n",
       "        <tr>\n",
       "            <td>23     </td>\n",
       "        </tr>\n",
       "        <tr>\n",
       "            <td>14     </td>\n",
       "        </tr>\n",
       "        <tr>\n",
       "            <td>20     </td>\n",
       "        </tr>\n",
       "        <tr>\n",
       "            <td>25     </td>\n",
       "        </tr>\n",
       "        <tr>\n",
       "            <td>19     </td>\n",
       "        </tr>\n",
       "        <tr>\n",
       "            <td>24     </td>\n",
       "        </tr>\n",
       "        <tr>\n",
       "            <td>8      </td>\n",
       "        </tr>\n",
       "        <tr>\n",
       "            <td>14     </td>\n",
       "        </tr>\n",
       "    </tbody>\n",
       "</table>\n",
       "<p>... (349 rows omitted)</p>"
      ],
      "text/plain": [
       "Midterm\n",
       "22\n",
       "12\n",
       "23\n",
       "14\n",
       "20\n",
       "25\n",
       "19\n",
       "24\n",
       "8\n",
       "14\n",
       "... (349 rows omitted)"
      ]
     },
     "execution_count": 11,
     "metadata": {},
     "output_type": "execute_result"
    }
   ],
   "source": [
    "score.select(\"Midterm\")"
   ]
  },
  {
   "cell_type": "code",
   "execution_count": 12,
   "id": "6e06b183-2ed1-4b33-bef2-a01afdc3d81b",
   "metadata": {},
   "outputs": [
    {
     "data": {
      "text/plain": [
       "22"
      ]
     },
     "execution_count": 12,
     "metadata": {},
     "output_type": "execute_result"
    }
   ],
   "source": [
    "percentile(85,score.column(\"Midterm\"))"
   ]
  },
  {
   "cell_type": "markdown",
   "id": "0c8fc28c-692b-4858-8d18-dc052dcbac37",
   "metadata": {},
   "source": [
    "El percentil 85 fue 22. "
   ]
  },
  {
   "cell_type": "code",
   "execution_count": 13,
   "id": "bf24ede8-488b-403e-9c9b-7399d38f6c93",
   "metadata": {},
   "outputs": [
    {
     "data": {
      "text/plain": [
       "array([ 0,  0,  0,  0,  0,  0,  0,  0,  0,  0,  0,  0,  0,  0,  0,  0,  0,\n",
       "        1,  4,  4,  4,  5,  6,  7,  7,  7,  7,  7,  8,  8,  8,  8,  8,  8,\n",
       "        8,  8,  9,  9,  9,  9,  9,  9,  9,  9,  9,  9,  9,  9,  9,  9, 10,\n",
       "       10, 10, 10, 10, 10, 10, 10, 10, 10, 10, 10, 10, 10, 10, 10, 10, 10,\n",
       "       10, 11, 11, 11, 11, 11, 11, 11, 11, 11, 11, 11, 11, 11, 11, 11, 11,\n",
       "       11, 11, 11, 11, 11, 11, 11, 11, 12, 12, 12, 12, 12, 12, 12, 12, 12,\n",
       "       12, 12, 12, 12, 12, 13, 13, 13, 13, 13, 13, 13, 13, 13, 13, 13, 13,\n",
       "       13, 13, 13, 13, 13, 13, 13, 13, 13, 13, 14, 14, 14, 14, 14, 14, 14,\n",
       "       14, 14, 14, 14, 14, 14, 14, 14, 14, 14, 14, 14, 14, 15, 15, 15, 15,\n",
       "       15, 15, 15, 15, 15, 15, 15, 15, 15, 15, 15, 15, 15, 16, 16, 16, 16,\n",
       "       16, 16, 16, 16, 16, 16, 16, 16, 16, 16, 16, 16, 16, 16, 16, 16, 16,\n",
       "       16, 17, 17, 17, 17, 17, 17, 17, 17, 17, 17, 17, 17, 17, 17, 17, 17,\n",
       "       17, 17, 17, 17, 17, 17, 17, 17, 17, 18, 18, 18, 18, 18, 18, 18, 18,\n",
       "       18, 18, 18, 18, 18, 18, 18, 18, 18, 18, 18, 18, 18, 18, 18, 18, 18,\n",
       "       19, 19, 19, 19, 19, 19, 19, 19, 19, 19, 19, 19, 19, 19, 19, 19, 20,\n",
       "       20, 20, 20, 20, 20, 20, 20, 20, 20, 20, 20, 20, 20, 20, 20, 20, 21,\n",
       "       21, 21, 21, 21, 21, 21, 21, 21, 21, 21, 21, 21, 21, 21, 21, 21, 21,\n",
       "       21, 21, 21, 21, 21, 21, 21, 21, 22, 22, 22, 22, 22, 22, 22, 22, 22,\n",
       "       22, 22, 22, 22, 22, 22, 22, 22, 23, 23, 23, 23, 23, 23, 23, 23, 23,\n",
       "       23, 23, 23, 23, 23, 23, 24, 24, 24, 24, 24, 24, 24, 24, 24, 24, 24,\n",
       "       24, 24, 24, 24, 24, 25, 25, 25, 25, 25, 25, 25, 25, 25, 25, 25, 25,\n",
       "       25, 25])"
      ]
     },
     "execution_count": 13,
     "metadata": {},
     "output_type": "execute_result"
    }
   ],
   "source": [
    "np.sort(score.column(\"Midterm\"))"
   ]
  },
  {
   "cell_type": "code",
   "execution_count": 14,
   "id": "79d9cc87-68a3-44f7-af76-5f116c6fd0b3",
   "metadata": {},
   "outputs": [
    {
     "data": {
      "text/plain": [
       "359"
      ]
     },
     "execution_count": 14,
     "metadata": {},
     "output_type": "execute_result"
    }
   ],
   "source": [
    "len(np.sort(score.column(\"Midterm\")))"
   ]
  },
  {
   "cell_type": "code",
   "execution_count": 15,
   "id": "46ccc182-9dcb-4cd5-a84e-e442aeb03c6d",
   "metadata": {},
   "outputs": [
    {
     "data": {
      "text/plain": [
       "305.15"
      ]
     },
     "execution_count": 15,
     "metadata": {},
     "output_type": "execute_result"
    }
   ],
   "source": [
    "x = 85*359./100\n",
    "x"
   ]
  },
  {
   "cell_type": "code",
   "execution_count": 16,
   "id": "9c38f8ff-c19e-463d-9d0d-5e692172963e",
   "metadata": {},
   "outputs": [
    {
     "data": {
      "text/plain": [
       "22"
      ]
     },
     "execution_count": 16,
     "metadata": {},
     "output_type": "execute_result"
    }
   ],
   "source": [
    "np.sort(score.column(\"Midterm\"))[306]"
   ]
  },
  {
   "cell_type": "markdown",
   "id": "273f4876-13bc-448d-93da-03486e1df001",
   "metadata": {},
   "source": [
    "# Cuartil"
   ]
  },
  {
   "cell_type": "markdown",
   "id": "fc9ba870-8332-4ef5-9eee-69d36fc5d463",
   "metadata": {},
   "source": [
    "Los **cuartiles** son valores que dividen un conjunto de datos ordenados en **cuatro partes iguales**, cada una representando el **25%** de los datos. Son un caso especial de los **percentiles**, donde los valores clave corresponden a los percentiles **25, 50 y 75**.\n",
    "\n",
    "Los cuartiles principales son:\n",
    "\n",
    "1. **Primer cuartil (Q₁ o P₂₅):** Es el valor que separa el **25%** de los datos inferiores del resto. Es equivalente al **percentil 25**.\n",
    "2. **Segundo cuartil (Q₂ o P₅₀):** Es el valor que separa el **50%** de los datos inferiores del resto. Es igual a la **mediana** o **percentil 50**.\n",
    "3. **Tercer cuartil (Q₃ o P₇₅):** Es el valor que separa el **75%** de los datos inferiores del resto. Es equivalente al **percentil 75**.\n"
   ]
  },
  {
   "cell_type": "code",
   "execution_count": 17,
   "id": "212bca9e-431b-49e8-acae-29877893dd15",
   "metadata": {},
   "outputs": [
    {
     "name": "stdout",
     "output_type": "stream",
     "text": [
      "Primer cuartil: 11\n",
      "Segundo cuartil: 16\n",
      "Tercero cuartil: 20\n",
      "cuarto cuartil: 25\n"
     ]
    }
   ],
   "source": [
    "scores=score.column(1)\n",
    "print(f\"Primer cuartil: {percentile(25, scores)}\")\n",
    "print(f\"Segundo cuartil: {percentile(50, scores)}\")\n",
    "print(f\"Tercero cuartil: {percentile(75, scores)}\")\n",
    "print(f\"cuarto cuartil: {percentile(100, scores)}\")"
   ]
  },
  {
   "cell_type": "code",
   "execution_count": 18,
   "id": "7f837794-a887-4a5b-96f0-d2a892bf0455",
   "metadata": {},
   "outputs": [],
   "source": [
    "def percentil_(number, array):\n",
    "    nn = len(array)\n",
    "    n = nn*number/100\n",
    "    array = np.sort(array)\n",
    "    \n",
    "    if(n%2==0):\n",
    "        return array[int(n)]\n",
    "    else:\n",
    "        return array[int(np.ceil(n))]"
   ]
  },
  {
   "cell_type": "code",
   "execution_count": 19,
   "id": "98079f6a-ea8a-4d87-8d8f-e575a76eb380",
   "metadata": {},
   "outputs": [
    {
     "data": {
      "text/plain": [
       "11"
      ]
     },
     "execution_count": 19,
     "metadata": {},
     "output_type": "execute_result"
    }
   ],
   "source": [
    "np.sort(scores)[90]"
   ]
  },
  {
   "cell_type": "code",
   "execution_count": 20,
   "id": "a99f4c87-e7d2-4d24-a702-b0682628a82e",
   "metadata": {},
   "outputs": [
    {
     "data": {
      "text/plain": [
       "11"
      ]
     },
     "execution_count": 20,
     "metadata": {},
     "output_type": "execute_result"
    }
   ],
   "source": [
    "np.sort(scores)[90]"
   ]
  },
  {
   "cell_type": "code",
   "execution_count": 21,
   "id": "2b749c11-7aa5-4ebc-9577-bae6b853545e",
   "metadata": {},
   "outputs": [
    {
     "data": {
      "text/plain": [
       "16"
      ]
     },
     "execution_count": 21,
     "metadata": {},
     "output_type": "execute_result"
    }
   ],
   "source": [
    "percentil_(50, scores)"
   ]
  },
  {
   "cell_type": "markdown",
   "id": "8a3e216b-cadf-4295-9cc7-75cd083ad791",
   "metadata": {},
   "source": [
    "# Bootstrap"
   ]
  },
  {
   "cell_type": "code",
   "execution_count": 26,
   "id": "cdd1ece5-6b19-454f-bf95-df6f2d14f1d9",
   "metadata": {},
   "outputs": [],
   "source": [
    "sf2019 = Table.read_table(\"san_francisco_2019.csv\")"
   ]
  },
  {
   "cell_type": "code",
   "execution_count": 27,
   "id": "64877dfa-3800-4fa9-b50f-32e724b0bab6",
   "metadata": {},
   "outputs": [
    {
     "data": {
      "text/html": [
       "<table border=\"1\" class=\"dataframe\">\n",
       "    <thead>\n",
       "        <tr>\n",
       "            <th>Organization Group</th> <th>Department</th> <th>Job Family</th> <th>Job</th> <th>Salary</th> <th>Overtime</th> <th>Benefits</th> <th>Total Compensation</th>\n",
       "        </tr>\n",
       "    </thead>\n",
       "    <tbody>\n",
       "        <tr>\n",
       "            <td>Public Protection </td> <td>Adult Probation</td> <td>Information Systems          </td> <td>IS Trainer-Journey            </td> <td>91332 </td> <td>0       </td> <td>40059   </td> <td>131391            </td>\n",
       "        </tr>\n",
       "        <tr>\n",
       "            <td>Public Protection </td> <td>Adult Probation</td> <td>Information Systems          </td> <td>IS Engineer-Assistant         </td> <td>123241</td> <td>0       </td> <td>49279   </td> <td>172520            </td>\n",
       "        </tr>\n",
       "        <tr>\n",
       "            <td>Public Protection </td> <td>Adult Probation</td> <td>Information Systems          </td> <td>IS Business Analyst-Senior    </td> <td>115715</td> <td>0       </td> <td>46752   </td> <td>162468            </td>\n",
       "        </tr>\n",
       "        <tr>\n",
       "            <td>Public Protection </td> <td>Adult Probation</td> <td>Information Systems          </td> <td>IS Business Analyst-Principal </td> <td>159394</td> <td>0       </td> <td>57312   </td> <td>216706            </td>\n",
       "        </tr>\n",
       "        <tr>\n",
       "            <td>Public Protection </td> <td>Adult Probation</td> <td>Information Systems          </td> <td>IS Programmer Analyst         </td> <td>70035 </td> <td>0       </td> <td>28671   </td> <td>98706             </td>\n",
       "        </tr>\n",
       "        <tr>\n",
       "            <td>Public Protection </td> <td>Adult Probation</td> <td>Information Systems          </td> <td>IS Project Director           </td> <td>175742</td> <td>0       </td> <td>60830   </td> <td>236572            </td>\n",
       "        </tr>\n",
       "        <tr>\n",
       "            <td>Public Protection </td> <td>Adult Probation</td> <td>Information Systems          </td> <td>IT Operations Support Admin IV</td> <td>123840</td> <td>0       </td> <td>49429   </td> <td>173269            </td>\n",
       "        </tr>\n",
       "        <tr>\n",
       "            <td>Public Protection </td> <td>Adult Probation</td> <td>Payroll, Billing & Accounting</td> <td>Accountant III                </td> <td>111816</td> <td>0       </td> <td>46319   </td> <td>158135            </td>\n",
       "        </tr>\n",
       "        <tr>\n",
       "            <td>Public Protection </td> <td>Adult Probation</td> <td>Budget, Admn & Stats Analysis</td> <td>Statistician                  </td> <td>87725 </td> <td>0       </td> <td>38899   </td> <td>126624            </td>\n",
       "        </tr>\n",
       "        <tr>\n",
       "            <td>Public Protection </td> <td>Adult Probation</td> <td>Budget, Admn & Stats Analysis</td> <td>Senior Administrative Analyst </td> <td>116192</td> <td>0       </td> <td>47651   </td> <td>163843            </td>\n",
       "        </tr>\n",
       "    </tbody>\n",
       "</table>\n",
       "<p>... (44515 rows omitted)</p>"
      ],
      "text/plain": [
       "Organization Group | Department      | Job Family                    | Job                            | Salary | Overtime | Benefits | Total Compensation\n",
       "Public Protection  | Adult Probation | Information Systems           | IS Trainer-Journey             | 91332  | 0        | 40059    | 131391\n",
       "Public Protection  | Adult Probation | Information Systems           | IS Engineer-Assistant          | 123241 | 0        | 49279    | 172520\n",
       "Public Protection  | Adult Probation | Information Systems           | IS Business Analyst-Senior     | 115715 | 0        | 46752    | 162468\n",
       "Public Protection  | Adult Probation | Information Systems           | IS Business Analyst-Principal  | 159394 | 0        | 57312    | 216706\n",
       "Public Protection  | Adult Probation | Information Systems           | IS Programmer Analyst          | 70035  | 0        | 28671    | 98706\n",
       "Public Protection  | Adult Probation | Information Systems           | IS Project Director            | 175742 | 0        | 60830    | 236572\n",
       "Public Protection  | Adult Probation | Information Systems           | IT Operations Support Admin IV | 123840 | 0        | 49429    | 173269\n",
       "Public Protection  | Adult Probation | Payroll, Billing & Accounting | Accountant III                 | 111816 | 0        | 46319    | 158135\n",
       "Public Protection  | Adult Probation | Budget, Admn & Stats Analysis | Statistician                   | 87725  | 0        | 38899    | 126624\n",
       "Public Protection  | Adult Probation | Budget, Admn & Stats Analysis | Senior Administrative Analyst  | 116192 | 0        | 47651    | 163843\n",
       "... (44515 rows omitted)"
      ]
     },
     "execution_count": 27,
     "metadata": {},
     "output_type": "execute_result"
    }
   ],
   "source": [
    "sf2019"
   ]
  },
  {
   "cell_type": "code",
   "execution_count": 28,
   "id": "107a3d09-5eda-41d6-b4ac-63193e05563b",
   "metadata": {},
   "outputs": [
    {
     "data": {
      "text/html": [
       "<table border=\"1\" class=\"dataframe\">\n",
       "    <thead>\n",
       "        <tr>\n",
       "            <th>Organization Group</th> <th>Department</th> <th>Job Family</th> <th>Job</th> <th>Salary</th> <th>Overtime</th> <th>Benefits</th> <th>Total Compensation</th>\n",
       "        </tr>\n",
       "    </thead>\n",
       "    <tbody>\n",
       "        <tr>\n",
       "            <td>General Administration & Finance</td> <td>Mayor     </td> <td>Administrative & Mgmt (Unrep)</td> <td>Mayor</td> <td>342974</td> <td>0       </td> <td>98012   </td> <td>440987            </td>\n",
       "        </tr>\n",
       "    </tbody>\n",
       "</table>"
      ],
      "text/plain": [
       "Organization Group               | Department | Job Family                    | Job   | Salary | Overtime | Benefits | Total Compensation\n",
       "General Administration & Finance | Mayor      | Administrative & Mgmt (Unrep) | Mayor | 342974 | 0        | 98012    | 440987"
      ]
     },
     "execution_count": 28,
     "metadata": {},
     "output_type": "execute_result"
    }
   ],
   "source": [
    "sf2019.where('Job', 'Mayor')\n"
   ]
  },
  {
   "cell_type": "code",
   "execution_count": 29,
   "id": "00a80fa1-8c3f-4bc5-985c-1a18aad7d0d4",
   "metadata": {},
   "outputs": [
    {
     "data": {
      "text/html": [
       "<table border=\"1\" class=\"dataframe\">\n",
       "    <thead>\n",
       "        <tr>\n",
       "            <th>Organization Group</th> <th>Department</th> <th>Job Family</th> <th>Job</th> <th>Salary</th> <th>Overtime</th> <th>Benefits</th> <th>Total Compensation</th>\n",
       "        </tr>\n",
       "    </thead>\n",
       "    <tbody>\n",
       "        <tr>\n",
       "            <td>Public Protection                      </td> <td>Adult Probation   </td> <td>Probation & Parole           </td> <td>Deputy Probation Officer      </td> <td>0     </td> <td>0       </td> <td>0       </td> <td>0                 </td>\n",
       "        </tr>\n",
       "        <tr>\n",
       "            <td>Public Protection                      </td> <td>Fire Department   </td> <td>Clerical, Secretarial & Steno</td> <td>Senior Clerk Typist           </td> <td>0     </td> <td>0       </td> <td>0       </td> <td>0                 </td>\n",
       "        </tr>\n",
       "        <tr>\n",
       "            <td>Public Protection                      </td> <td>Juvenile Court    </td> <td>Correction & Detention       </td> <td>Counselor, Juvenile Hall PERS </td> <td>0     </td> <td>0       </td> <td>0       </td> <td>0                 </td>\n",
       "        </tr>\n",
       "        <tr>\n",
       "            <td>Public Protection                      </td> <td>Police            </td> <td>Clerical, Secretarial & Steno</td> <td>Clerk Typist                  </td> <td>0     </td> <td>0       </td> <td>0       </td> <td>0                 </td>\n",
       "        </tr>\n",
       "        <tr>\n",
       "            <td>Public Protection                      </td> <td>Sheriff           </td> <td>Correction & Detention       </td> <td>Deputy Sheriff                </td> <td>0     </td> <td>0       </td> <td>0       </td> <td>0                 </td>\n",
       "        </tr>\n",
       "        <tr>\n",
       "            <td>Public Works, Transportation & Commerce</td> <td>Airport Commission</td> <td>Sub-Professional Engineering </td> <td>StdntDsgn Train2/Arch/Eng/Plng</td> <td>0     </td> <td>0       </td> <td>0       </td> <td>0                 </td>\n",
       "        </tr>\n",
       "        <tr>\n",
       "            <td>Public Works, Transportation & Commerce</td> <td>Airport Commission</td> <td>Clerical, Secretarial & Steno</td> <td>Executive Secretary 1         </td> <td>0     </td> <td>0       </td> <td>0       </td> <td>0                 </td>\n",
       "        </tr>\n",
       "        <tr>\n",
       "            <td>Public Works, Transportation & Commerce</td> <td>Airport Commission</td> <td>Payroll, Billing & Accounting</td> <td>Senior Account Clerk          </td> <td>0     </td> <td>0       </td> <td>0       </td> <td>0                 </td>\n",
       "        </tr>\n",
       "        <tr>\n",
       "            <td>Public Works, Transportation & Commerce</td> <td>Airport Commission</td> <td>Housekeeping & Laundry       </td> <td>Custodian                     </td> <td>0     </td> <td>0       </td> <td>0       </td> <td>0                 </td>\n",
       "        </tr>\n",
       "        <tr>\n",
       "            <td>Public Works, Transportation & Commerce</td> <td>Airport Commission</td> <td>Housekeeping & Laundry       </td> <td>Custodian                     </td> <td>0     </td> <td>0       </td> <td>0       </td> <td>0                 </td>\n",
       "        </tr>\n",
       "    </tbody>\n",
       "</table>\n",
       "<p>... (44515 rows omitted)</p>"
      ],
      "text/plain": [
       "Organization Group                      | Department         | Job Family                    | Job                            | Salary | Overtime | Benefits | Total Compensation\n",
       "Public Protection                       | Adult Probation    | Probation & Parole            | Deputy Probation Officer       | 0      | 0        | 0        | 0\n",
       "Public Protection                       | Fire Department    | Clerical, Secretarial & Steno | Senior Clerk Typist            | 0      | 0        | 0        | 0\n",
       "Public Protection                       | Juvenile Court     | Correction & Detention        | Counselor, Juvenile Hall PERS  | 0      | 0        | 0        | 0\n",
       "Public Protection                       | Police             | Clerical, Secretarial & Steno | Clerk Typist                   | 0      | 0        | 0        | 0\n",
       "Public Protection                       | Sheriff            | Correction & Detention        | Deputy Sheriff                 | 0      | 0        | 0        | 0\n",
       "Public Works, Transportation & Commerce | Airport Commission | Sub-Professional Engineering  | StdntDsgn Train2/Arch/Eng/Plng | 0      | 0        | 0        | 0\n",
       "Public Works, Transportation & Commerce | Airport Commission | Clerical, Secretarial & Steno | Executive Secretary 1          | 0      | 0        | 0        | 0\n",
       "Public Works, Transportation & Commerce | Airport Commission | Payroll, Billing & Accounting | Senior Account Clerk           | 0      | 0        | 0        | 0\n",
       "Public Works, Transportation & Commerce | Airport Commission | Housekeeping & Laundry        | Custodian                      | 0      | 0        | 0        | 0\n",
       "Public Works, Transportation & Commerce | Airport Commission | Housekeeping & Laundry        | Custodian                      | 0      | 0        | 0        | 0\n",
       "... (44515 rows omitted)"
      ]
     },
     "execution_count": 29,
     "metadata": {},
     "output_type": "execute_result"
    }
   ],
   "source": [
    "sf2019.sort('Total Compensation')"
   ]
  },
  {
   "cell_type": "code",
   "execution_count": 30,
   "id": "87b5810e-fc73-4619-9af6-c8db57179d6a",
   "metadata": {},
   "outputs": [],
   "source": [
    "sf2019 = sf2019.where('Salary', are.above(15000))\n",
    "\n"
   ]
  },
  {
   "cell_type": "code",
   "execution_count": 31,
   "id": "4e4422f8-7f48-4b5b-968e-7828376ac556",
   "metadata": {},
   "outputs": [
    {
     "data": {
      "text/html": [
       "<table border=\"1\" class=\"dataframe\">\n",
       "    <thead>\n",
       "        <tr>\n",
       "            <th>Organization Group</th> <th>Department</th> <th>Job Family</th> <th>Job</th> <th>Salary</th> <th>Overtime</th> <th>Benefits</th> <th>Total Compensation</th>\n",
       "        </tr>\n",
       "    </thead>\n",
       "    <tbody>\n",
       "        <tr>\n",
       "            <td>Public Protection </td> <td>Adult Probation</td> <td>Information Systems          </td> <td>IS Trainer-Journey            </td> <td>91332 </td> <td>0       </td> <td>40059   </td> <td>131391            </td>\n",
       "        </tr>\n",
       "        <tr>\n",
       "            <td>Public Protection </td> <td>Adult Probation</td> <td>Information Systems          </td> <td>IS Engineer-Assistant         </td> <td>123241</td> <td>0       </td> <td>49279   </td> <td>172520            </td>\n",
       "        </tr>\n",
       "        <tr>\n",
       "            <td>Public Protection </td> <td>Adult Probation</td> <td>Information Systems          </td> <td>IS Business Analyst-Senior    </td> <td>115715</td> <td>0       </td> <td>46752   </td> <td>162468            </td>\n",
       "        </tr>\n",
       "        <tr>\n",
       "            <td>Public Protection </td> <td>Adult Probation</td> <td>Information Systems          </td> <td>IS Business Analyst-Principal </td> <td>159394</td> <td>0       </td> <td>57312   </td> <td>216706            </td>\n",
       "        </tr>\n",
       "        <tr>\n",
       "            <td>Public Protection </td> <td>Adult Probation</td> <td>Information Systems          </td> <td>IS Programmer Analyst         </td> <td>70035 </td> <td>0       </td> <td>28671   </td> <td>98706             </td>\n",
       "        </tr>\n",
       "        <tr>\n",
       "            <td>Public Protection </td> <td>Adult Probation</td> <td>Information Systems          </td> <td>IS Project Director           </td> <td>175742</td> <td>0       </td> <td>60830   </td> <td>236572            </td>\n",
       "        </tr>\n",
       "        <tr>\n",
       "            <td>Public Protection </td> <td>Adult Probation</td> <td>Information Systems          </td> <td>IT Operations Support Admin IV</td> <td>123840</td> <td>0       </td> <td>49429   </td> <td>173269            </td>\n",
       "        </tr>\n",
       "        <tr>\n",
       "            <td>Public Protection </td> <td>Adult Probation</td> <td>Payroll, Billing & Accounting</td> <td>Accountant III                </td> <td>111816</td> <td>0       </td> <td>46319   </td> <td>158135            </td>\n",
       "        </tr>\n",
       "        <tr>\n",
       "            <td>Public Protection </td> <td>Adult Probation</td> <td>Budget, Admn & Stats Analysis</td> <td>Statistician                  </td> <td>87725 </td> <td>0       </td> <td>38899   </td> <td>126624            </td>\n",
       "        </tr>\n",
       "        <tr>\n",
       "            <td>Public Protection </td> <td>Adult Probation</td> <td>Budget, Admn & Stats Analysis</td> <td>Senior Administrative Analyst </td> <td>116192</td> <td>0       </td> <td>47651   </td> <td>163843            </td>\n",
       "        </tr>\n",
       "    </tbody>\n",
       "</table>\n",
       "<p>... (37093 rows omitted)</p>"
      ],
      "text/plain": [
       "Organization Group | Department      | Job Family                    | Job                            | Salary | Overtime | Benefits | Total Compensation\n",
       "Public Protection  | Adult Probation | Information Systems           | IS Trainer-Journey             | 91332  | 0        | 40059    | 131391\n",
       "Public Protection  | Adult Probation | Information Systems           | IS Engineer-Assistant          | 123241 | 0        | 49279    | 172520\n",
       "Public Protection  | Adult Probation | Information Systems           | IS Business Analyst-Senior     | 115715 | 0        | 46752    | 162468\n",
       "Public Protection  | Adult Probation | Information Systems           | IS Business Analyst-Principal  | 159394 | 0        | 57312    | 216706\n",
       "Public Protection  | Adult Probation | Information Systems           | IS Programmer Analyst          | 70035  | 0        | 28671    | 98706\n",
       "Public Protection  | Adult Probation | Information Systems           | IS Project Director            | 175742 | 0        | 60830    | 236572\n",
       "Public Protection  | Adult Probation | Information Systems           | IT Operations Support Admin IV | 123840 | 0        | 49429    | 173269\n",
       "Public Protection  | Adult Probation | Payroll, Billing & Accounting | Accountant III                 | 111816 | 0        | 46319    | 158135\n",
       "Public Protection  | Adult Probation | Budget, Admn & Stats Analysis | Statistician                   | 87725  | 0        | 38899    | 126624\n",
       "Public Protection  | Adult Probation | Budget, Admn & Stats Analysis | Senior Administrative Analyst  | 116192 | 0        | 47651    | 163843\n",
       "... (37093 rows omitted)"
      ]
     },
     "execution_count": 31,
     "metadata": {},
     "output_type": "execute_result"
    }
   ],
   "source": [
    "sf2019"
   ]
  },
  {
   "cell_type": "code",
   "execution_count": 32,
   "id": "7b304b14-bfe5-44fc-81e2-fa09c58a714a",
   "metadata": {},
   "outputs": [
    {
     "data": {
      "image/png": "[encoded data removed]",
      "text/plain": [
       "<Figure size 600x400 with 1 Axes>"
      ]
     },
     "metadata": {},
     "output_type": "display_data"
    }
   ],
   "source": [
    "sf_bins = np.arange(0, 726000, 25000)\n",
    "sf2019.select('Total Compensation').hist(bins=sf_bins)"
   ]
  },
  {
   "cell_type": "code",
   "execution_count": 35,
   "id": "829f3bb7-a1c1-4040-a5d4-9d6d253820fa",
   "metadata": {},
   "outputs": [
    {
     "data": {
      "text/html": [
       "<table border=\"1\" class=\"dataframe\">\n",
       "    <thead>\n",
       "        <tr>\n",
       "            <th>Organization Group</th> <th>Department</th> <th>Job Family</th> <th>Job</th> <th>Salary</th> <th>Overtime</th> <th>Benefits</th> <th>Total Compensation</th>\n",
       "        </tr>\n",
       "    </thead>\n",
       "    <tbody>\n",
       "        <tr>\n",
       "            <td>General Administration & Finance</td> <td>Retirement Services</td> <td>Administrative & Mgmt (Unrep)</td> <td>Chief Investment Officer</td> <td>577633</td> <td>0       </td> <td>146398  </td> <td>724031            </td>\n",
       "        </tr>\n",
       "        <tr>\n",
       "            <td>General Administration & Finance</td> <td>Retirement Services</td> <td>Unassigned                   </td> <td>Managing Director       </td> <td>483072</td> <td>0       </td> <td>134879  </td> <td>617951            </td>\n",
       "        </tr>\n",
       "    </tbody>\n",
       "</table>\n",
       "<p>... (37101 rows omitted)</p>"
      ],
      "text/plain": [
       "<IPython.core.display.HTML object>"
      ]
     },
     "metadata": {},
     "output_type": "display_data"
    }
   ],
   "source": [
    "sf2019.sort('Total Compensation', descending=True).show(2)"
   ]
  },
  {
   "cell_type": "code",
   "execution_count": 36,
   "id": "59d795a6-8381-49c3-84a6-7248a2ed2f4e",
   "metadata": {},
   "outputs": [
    {
     "data": {
      "text/plain": [
       "135747.0"
      ]
     },
     "execution_count": 36,
     "metadata": {},
     "output_type": "execute_result"
    }
   ],
   "source": [
    "pop_median = percentile(50, sf2019.column('Total Compensation'))\n",
    "pop_median"
   ]
  },
  {
   "cell_type": "markdown",
   "id": "61462f9f-1f24-47c5-afe8-0f16ff72aec3",
   "metadata": {},
   "source": [
    "# Una muetra aleatoria y una estimación"
   ]
  },
  {
   "cell_type": "code",
   "execution_count": 45,
   "id": "65845d69-fff9-467e-93e2-53ab5db43fad",
   "metadata": {},
   "outputs": [
    {
     "data": {
      "image/png": "[encoded data removed]",
      "text/plain": [
       "<Figure size 600x400 with 1 Axes>"
      ]
     },
     "metadata": {},
     "output_type": "display_data"
    }
   ],
   "source": [
    "our_sample = sf2019.sample(1000, with_replacement=False)\n",
    "our_sample.select('Total Compensation').hist(bins=sf_bins)"
   ]
  },
  {
   "cell_type": "code",
   "execution_count": 46,
   "id": "3b35763d-db73-4a76-be17-ea9d88a631e0",
   "metadata": {},
   "outputs": [
    {
     "data": {
      "text/plain": [
       "135965.0"
      ]
     },
     "execution_count": 46,
     "metadata": {},
     "output_type": "execute_result"
    }
   ],
   "source": [
    "est_median = percentile(50, our_sample.column('Total Compensation'))\n",
    "est_median"
   ]
  },
  {
   "cell_type": "markdown",
   "id": "a6ad3b0a-422c-48fe-9f51-9c01eb3a1930",
   "metadata": {},
   "source": [
    "# El Bootstrap: Remuestreo del número de muestra\n",
    "\n"
   ]
  },
  {
   "cell_type": "markdown",
   "id": "40243ed0-d53c-4fd1-84bd-d929a1fff706",
   "metadata": {},
   "source": [
    "- Trate la muestra original como si fuera la población.\n",
    "- Extraiga de la muestra, al azar con reemplazo, el mismo número de veces que el tamaño original de la muestra.\n",
    "![img](https://inferentialthinking.com/_images/582b7f0ad963cb57dec2cf5cf68937059bd2b3150ba74bc041a85a4ed2ff6aaf.png)"
   ]
  },
  {
   "cell_type": "code",
   "execution_count": 68,
   "id": "afa8e178-2c7c-4d38-8f18-18d07f1a5716",
   "metadata": {},
   "outputs": [],
   "source": [
    "bstrap_medians = make_array()\n",
    "for i in range(0, 500):\n",
    "    our_sample = sf2019.sample(500, with_replacement=False)\n",
    "    #our_sample.select('Total Compensation').hist(bins=sf_bins)\n",
    "    est_median = percentile(50, our_sample.column('Total Compensation'))\n",
    "    bstrap_medians=np.append(mediana, est_median)"
   ]
  },
  {
   "cell_type": "code",
   "execution_count": 69,
   "id": "690b2a91-66fc-4715-820e-22360629c5a4",
   "metadata": {},
   "outputs": [
    {
     "data": {
      "image/png": "[encoded data removed]",
      "text/plain": [
       "<Figure size 600x400 with 1 Axes>"
      ]
     },
     "metadata": {},
     "output_type": "display_data"
    }
   ],
   "source": [
    "resampled_medians = Table().with_column('Bootstrap Sample Median', bstrap_medians)\n",
    "median_bins=np.arange(120000, 160000, 2000)\n",
    "resampled_medians.hist(bins = median_bins)\n",
    "\n",
    "# Plotting parameters; you can ignore this code\n",
    "parameter_green = '#32CD32'\n",
    "plots.ylim(-0.000005, 0.00014)\n",
    "plots.scatter(pop_median, 0, color=parameter_green, s=40, zorder=2);"
   ]
  },
  {
   "cell_type": "code",
   "execution_count": 70,
   "id": "49a071fb-fe0e-4530-b6f7-18838732947e",
   "metadata": {},
   "outputs": [
    {
     "data": {
      "text/plain": [
       "135702.5944"
      ]
     },
     "execution_count": 70,
     "metadata": {},
     "output_type": "execute_result"
    }
   ],
   "source": [
    "np.mean(mediana)"
   ]
  },
  {
   "cell_type": "markdown",
   "id": "236b569a-be99-4642-8ac9-b8b17e1bcc4f",
   "metadata": {},
   "source": [
    "# ¿Las estimaciones capturan el parametro?"
   ]
  },
  {
   "cell_type": "markdown",
   "id": "07802ab1-cf51-4cca-b951-396a2b6a1608",
   "metadata": {},
   "source": [
    "Calculemos El intervalo \"medio del 95 %\" de las estimaciones"
   ]
  },
  {
   "cell_type": "code",
   "execution_count": 71,
   "id": "198cefbd-179e-43e0-8afa-ece88bdb78c1",
   "metadata": {},
   "outputs": [],
   "source": [
    "left = percentile(2.5, bstrap_medians)\n",
    "right = percentile(97.5, bstrap_medians)"
   ]
  },
  {
   "cell_type": "code",
   "execution_count": 72,
   "id": "8b1589c4-7fb4-4d35-80a5-1494886170c7",
   "metadata": {},
   "outputs": [
    {
     "data": {
      "image/png": "[encoded data removed]",
      "text/plain": [
       "<Figure size 600x400 with 1 Axes>"
      ]
     },
     "metadata": {},
     "output_type": "display_data"
    }
   ],
   "source": [
    "resampled_medians.hist(bins = median_bins)\n",
    "# Plotting parameters; you can ignore this code\n",
    "plots.ylim(-0.000005, 0.00014)\n",
    "plots.plot([left, right], [0, 0], color='yellow', lw=3, zorder=1)\n",
    "plots.scatter(pop_median, 0, color=parameter_green, s=40, zorder=2);"
   ]
  },
  {
   "cell_type": "markdown",
   "id": "e5ad27b9-94fb-47ce-be11-48723570d001",
   "metadata": {},
   "source": [
    "Calculemos El intervalo \"medio del 95 %\" de las estimaciones capturó el parámetro en nuestro ejemplo."
   ]
  },
  {
   "cell_type": "code",
   "execution_count": null,
   "id": "2db21b3f-d550-468b-9f44-5c8c15c25638",
   "metadata": {},
   "outputs": [],
   "source": []
  },
  {
   "cell_type": "code",
   "execution_count": 73,
   "id": "5e256857-f4b2-427b-8acd-b199acf5bada",
   "metadata": {},
   "outputs": [],
   "source": [
    "def bootstrap_median(original_sample, num_repetitions):\n",
    "    medians = make_array()\n",
    "    for i in np.arange(num_repetitions):\n",
    "        new_bstrap_sample = original_sample.sample()\n",
    "        new_bstrap_median = percentile(50, new_bstrap_sample.column('Total Compensation'))\n",
    "        medians = np.append(medians, new_bstrap_median)\n",
    "    return medians"
   ]
  },
  {
   "cell_type": "code",
   "execution_count": 74,
   "id": "7bbb4d25-8ef0-48d1-8728-3c0b496fc895",
   "metadata": {},
   "outputs": [
    {
     "name": "stdout",
     "output_type": "stream",
     "text": [
      "0\n",
      "1\n",
      "2\n",
      "3\n",
      "4\n",
      "5\n",
      "6\n",
      "7\n",
      "8\n",
      "9\n",
      "10\n",
      "11\n",
      "12\n",
      "13\n",
      "14\n",
      "15\n",
      "16\n",
      "17\n",
      "18\n",
      "19\n",
      "20\n",
      "21\n",
      "22\n",
      "23\n",
      "24\n",
      "25\n",
      "26\n",
      "27\n",
      "28\n",
      "29\n",
      "30\n",
      "31\n",
      "32\n",
      "33\n",
      "34\n",
      "35\n",
      "36\n",
      "37\n",
      "38\n",
      "39\n",
      "40\n",
      "41\n",
      "42\n",
      "43\n",
      "44\n",
      "45\n",
      "46\n",
      "47\n",
      "48\n",
      "49\n",
      "50\n",
      "51\n",
      "52\n",
      "53\n",
      "54\n",
      "55\n",
      "56\n",
      "57\n",
      "58\n",
      "59\n",
      "60\n",
      "61\n",
      "62\n",
      "63\n",
      "64\n",
      "65\n",
      "66\n",
      "67\n",
      "68\n",
      "69\n",
      "70\n",
      "71\n",
      "72\n",
      "73\n",
      "74\n",
      "75\n",
      "76\n",
      "77\n",
      "78\n",
      "79\n",
      "80\n",
      "81\n",
      "82\n",
      "83\n",
      "84\n",
      "85\n",
      "86\n",
      "87\n",
      "88\n",
      "89\n",
      "90\n",
      "91\n",
      "92\n",
      "93\n",
      "94\n",
      "95\n",
      "96\n",
      "97\n",
      "98\n",
      "99\n"
     ]
    }
   ],
   "source": [
    "# THE BIG SIMULATION: This one takes several minutes.\n",
    "\n",
    "# Generate 100 intervals and put the endpoints in the table intervals\n",
    "\n",
    "left_ends = make_array()\n",
    "right_ends = make_array()\n",
    "\n",
    "for i in np.arange(100):\n",
    "   # print(i)\n",
    "    original_sample = sf2019.sample(500, with_replacement=False)\n",
    "    medians = bootstrap_median(original_sample, 100)#\n",
    "    left_ends = np.append(left_ends, percentile(2.5, medians))\n",
    "    right_ends = np.append(right_ends, percentile(97.5, medians))\n",
    "\n",
    "intervals = Table().with_columns(\n",
    "    'Left', left_ends,\n",
    "    'Right', right_ends\n",
    ")    "
   ]
  },
  {
   "cell_type": "code",
   "execution_count": 75,
   "id": "24cad2d4-afcb-45aa-aa25-12f5e0540892",
   "metadata": {},
   "outputs": [
    {
     "data": {
      "text/html": [
       "<table border=\"1\" class=\"dataframe\">\n",
       "    <thead>\n",
       "        <tr>\n",
       "            <th>Left</th> <th>Right</th>\n",
       "        </tr>\n",
       "    </thead>\n",
       "    <tbody>\n",
       "        <tr>\n",
       "            <td>132739</td> <td>147357</td>\n",
       "        </tr>\n",
       "        <tr>\n",
       "            <td>127341</td> <td>141082</td>\n",
       "        </tr>\n",
       "        <tr>\n",
       "            <td>123495</td> <td>137440</td>\n",
       "        </tr>\n",
       "        <tr>\n",
       "            <td>126833</td> <td>138587</td>\n",
       "        </tr>\n",
       "        <tr>\n",
       "            <td>130108</td> <td>140475</td>\n",
       "        </tr>\n",
       "        <tr>\n",
       "            <td>135512</td> <td>146316</td>\n",
       "        </tr>\n",
       "        <tr>\n",
       "            <td>130178</td> <td>143849</td>\n",
       "        </tr>\n",
       "        <tr>\n",
       "            <td>129701</td> <td>139691</td>\n",
       "        </tr>\n",
       "        <tr>\n",
       "            <td>123430</td> <td>135962</td>\n",
       "        </tr>\n",
       "        <tr>\n",
       "            <td>132358</td> <td>142867</td>\n",
       "        </tr>\n",
       "    </tbody>\n",
       "</table>\n",
       "<p>... (90 rows omitted)</p>"
      ],
      "text/plain": [
       "Left   | Right\n",
       "132739 | 147357\n",
       "127341 | 141082\n",
       "123495 | 137440\n",
       "126833 | 138587\n",
       "130108 | 140475\n",
       "135512 | 146316\n",
       "130178 | 143849\n",
       "129701 | 139691\n",
       "123430 | 135962\n",
       "132358 | 142867\n",
       "... (90 rows omitted)"
      ]
     },
     "execution_count": 75,
     "metadata": {},
     "output_type": "execute_result"
    }
   ],
   "source": [
    "intervals"
   ]
  },
  {
   "cell_type": "code",
   "execution_count": 76,
   "id": "15fd0479-b7ab-4355-950e-b08b17c72bb2",
   "metadata": {},
   "outputs": [
    {
     "data": {
      "text/plain": [
       "135747.0"
      ]
     },
     "execution_count": 76,
     "metadata": {},
     "output_type": "execute_result"
    }
   ],
   "source": [
    "pop_median"
   ]
  },
  {
   "cell_type": "code",
   "execution_count": 77,
   "id": "11b4ec1a-dc87-469a-8f47-e907705b34a0",
   "metadata": {},
   "outputs": [
    {
     "data": {
      "text/plain": [
       "95"
      ]
     },
     "execution_count": 77,
     "metadata": {},
     "output_type": "execute_result"
    }
   ],
   "source": [
    "intervals.where(\n",
    "    'Left', are.below(pop_median)).where(\n",
    "    'Right', are.above(pop_median)).num_rows"
   ]
  },
  {
   "cell_type": "code",
   "execution_count": 86,
   "id": "ada77fe9-74ca-4028-83df-7fc5e0f11ec0",
   "metadata": {},
   "outputs": [],
   "source": [
    "left_values=intervals.column(0)\n",
    "right_values=intervals.column(1)\n",
    "interleaved_values = [val for pair in zip(left_values, right_values) for val in pair]\n",
    "pop_median_interleaved = list(range(1, len(interleaved_values) + 1))  # Ajustar posiciones\n"
   ]
  },
  {
   "cell_type": "code",
   "execution_count": 96,
   "id": "57ac49a8-3dac-4d73-ace7-03f34edf0dec",
   "metadata": {},
   "outputs": [
    {
     "data": {
      "text/plain": [
       "<matplotlib.lines.Line2D at 0x29775f670>"
      ]
     },
     "execution_count": 96,
     "metadata": {},
     "output_type": "execute_result"
    },
    {
     "data": {
      "image/png": "[encoded data removed]",
      "text/plain": [
       "<Figure size 640x480 with 1 Axes>"
      ]
     },
     "metadata": {},
     "output_type": "display_data"
    }
   ],
   "source": [
    "plots.plot(interleaved_values)\n",
    "plots.axhline(y=pop_median, color='red', linestyle='--', alpha=0.5)\n"
   ]
  },
  {
   "cell_type": "markdown",
   "id": "7fadfde8-6283-4518-b44e-3a19c53108ee",
   "metadata": {},
   "source": [
    "# Estimaciones de los parametros\n",
    "\n",
    "- Dibuja una gran muestra aleatoria de la población.\n",
    "- Arranca tu muestra aleatoria y obtén una estimación de la nueva muestra aleatoria.\n",
    "- Repita el paso de arranque anterior miles de veces y obtenga miles de estimaciones.\n",
    "- Elija el intervalo \"95 % medio\" de todas las estimaciones.\n"
   ]
  },
  {
   "cell_type": "code",
   "execution_count": null,
   "id": "3779ea41-1e72-408f-acd0-221b12086a10",
   "metadata": {},
   "outputs": [],
   "source": []
  },
  {
   "cell_type": "code",
   "execution_count": 185,
   "id": "36f7efad-ea2e-47dd-b954-d069b94ef283",
   "metadata": {},
   "outputs": [
    {
     "data": {
      "text/plain": [
       "array([ 0.43,  0.57])"
      ]
     },
     "execution_count": 185,
     "metadata": {},
     "output_type": "execute_result"
    }
   ],
   "source": [
    "sample_proportions(100, make_array(0.4, 0.5))"
   ]
  },
  {
   "cell_type": "code",
   "execution_count": 186,
   "id": "8b03a6c8-02bd-4244-8313-e13052548a7e",
   "metadata": {},
   "outputs": [
    {
     "data": {
      "text/plain": [
       "\u001b[0;31mSignature:\u001b[0m \u001b[0msample_proportions\u001b[0m\u001b[0;34m(\u001b[0m\u001b[0msample_size\u001b[0m\u001b[0;34m,\u001b[0m \u001b[0mprobabilities\u001b[0m\u001b[0;34m)\u001b[0m\u001b[0;34m\u001b[0m\u001b[0;34m\u001b[0m\u001b[0m\n",
       "\u001b[0;31mDocstring:\u001b[0m\n",
       "Return the proportion of random draws for each outcome in a distribution.\n",
       "\n",
       "This function is similar to np.random.multinomial, but returns proportions\n",
       "instead of counts.\n",
       "\n",
       "Args:\n",
       "    ``sample_size``: The size of the sample to draw from the distribution.\n",
       "\n",
       "    ``probabilities``: An array of probabilities that forms a distribution.\n",
       "\n",
       "Returns:\n",
       "    An array with the same length as ``probability`` that sums to 1.\n",
       "\u001b[0;31mFile:\u001b[0m      ~/anaconda3/envs/data8/lib/python3.10/site-packages/datascience/util.py\n",
       "\u001b[0;31mType:\u001b[0m      function"
      ]
     },
     "metadata": {},
     "output_type": "display_data"
    }
   ],
   "source": [
    "sample_proportions?"
   ]
  },
  {
   "cell_type": "code",
   "execution_count": null,
   "id": "6884100a-90ab-4b0a-8408-89bf7f112dd2",
   "metadata": {},
   "outputs": [],
   "source": []
  }
 ],
 "metadata": {
  "kernelspec": {
   "display_name": "Python 3 (ipykernel)",
   "language": "python",
   "name": "python3"
  },
  "language_info": {
   "codemirror_mode": {
    "name": "ipython",
    "version": 3
   },
   "file_extension": ".py",
   "mimetype": "text/x-python",
   "name": "python",
   "nbconvert_exporter": "python",
   "pygments_lexer": "ipython3",
   "version": "3.10.14"
  }
 },
 "nbformat": 4,
 "nbformat_minor": 5
}
