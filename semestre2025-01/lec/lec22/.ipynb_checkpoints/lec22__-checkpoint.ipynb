{
 "cells": [
  {
   "cell_type": "code",
   "execution_count": 122,
   "id": "c5e689f9-b65f-4e4c-81c3-8e31ae239114",
   "metadata": {},
   "outputs": [],
   "source": [
    "import numpy as np\n",
    "from datascience import *\n",
    "import matplotlib.pylab as plots\n",
    "plots.style.use('fivethirtyeight')\n",
    "%matplotlib inline"
   ]
  },
  {
   "cell_type": "code",
   "execution_count": 123,
   "id": "357b6390-c636-434a-8e54-145407f4aba1",
   "metadata": {},
   "outputs": [],
   "source": [
    "tamanos_continentes = make_array(12, 17, 6, 9, 7)"
   ]
  },
  {
   "cell_type": "code",
   "execution_count": 124,
   "id": "949fd011-2d72-474e-a59c-82a34ac61fab",
   "metadata": {},
   "outputs": [
    {
     "data": {
      "text/plain": [
       "array([ 6,  7,  9, 12, 17])"
      ]
     },
     "execution_count": 124,
     "metadata": {},
     "output_type": "execute_result"
    }
   ],
   "source": [
    "np.sort(tamanos_continentes)"
   ]
  },
  {
   "cell_type": "markdown",
   "id": "05d71a56-47c4-4b5d-bdba-581e545b3535",
   "metadata": {},
   "source": [
    "- El  percentil 80 es un valor de la lista. El 80% de los valores son menores o iguales a él, y es valor mas pequeño para el cual es cierto.\n",
    "\n",
    "- El percentil 70 es el valor mas pequeno de la coleccion que es al menos tan grande como el 70% de los elementos. El 70 porciento de los 5 elementos es 3.5 elementos, por lo que el percentil 70, es el cuarto elemento de la lista. Es decir 12\n",
    "\n"
   ]
  },
  {
   "cell_type": "markdown",
   "id": "c7126954-8bb6-4976-bca4-ca4fa0775a8c",
   "metadata": {},
   "source": [
    "# Función percentil \n",
    "\n",
    "```python\n",
    "percentil(percentil_numero, coleeccion de elementos)\n",
    "```"
   ]
  },
  {
   "cell_type": "code",
   "execution_count": 125,
   "id": "7f2d6b8f-a512-41d7-99c5-2b175a05f38f",
   "metadata": {},
   "outputs": [
    {
     "data": {
      "text/plain": [
       "12"
      ]
     },
     "execution_count": 125,
     "metadata": {},
     "output_type": "execute_result"
    }
   ],
   "source": [
    "percentile(70, tamanos_continentes)"
   ]
  },
  {
   "cell_type": "code",
   "execution_count": 126,
   "id": "3d271f4c-3319-4007-80b1-2dec6cc54c92",
   "metadata": {},
   "outputs": [
    {
     "data": {
      "text/plain": [
       "12"
      ]
     },
     "execution_count": 126,
     "metadata": {},
     "output_type": "execute_result"
    }
   ],
   "source": [
    "percentile(80, tamanos_continentes)"
   ]
  },
  {
   "cell_type": "code",
   "execution_count": 127,
   "id": "dc7133f4-b42d-4be7-88b6-3ed3f2f96f85",
   "metadata": {},
   "outputs": [
    {
     "data": {
      "text/plain": [
       "227"
      ]
     },
     "execution_count": 127,
     "metadata": {},
     "output_type": "execute_result"
    }
   ],
   "source": [
    "tbl = Table.read_table(\"CountriesWorld.csv\")\n",
    "tbl = tbl.select(\"Country\",\"Population\", \"Area (sq. mi.)\")\n",
    "tbl.num_rows"
   ]
  },
  {
   "cell_type": "code",
   "execution_count": 128,
   "id": "ef525210-ab4c-42fc-bad9-2c95348e4673",
   "metadata": {},
   "outputs": [
    {
     "data": {
      "text/plain": [
       "4786994"
      ]
     },
     "execution_count": 128,
     "metadata": {},
     "output_type": "execute_result"
    }
   ],
   "source": [
    "percentile(50, tbl.column(\"Population\"))"
   ]
  },
  {
   "cell_type": "code",
   "execution_count": 129,
   "id": "7fa39b0e-8c40-4393-b1dc-c31618f58b70",
   "metadata": {},
   "outputs": [
    {
     "data": {
      "text/plain": [
       "114"
      ]
     },
     "execution_count": 129,
     "metadata": {},
     "output_type": "execute_result"
    }
   ],
   "source": [
    "tbl.where(\"Population\", are.below_or_equal_to(4786994)).num_rows"
   ]
  },
  {
   "cell_type": "code",
   "execution_count": 130,
   "id": "49edd3fe-6da1-48af-9edb-a20272197cf0",
   "metadata": {},
   "outputs": [
    {
     "data": {
      "text/html": [
       "<table border=\"1\" class=\"dataframe\">\n",
       "    <thead>\n",
       "        <tr>\n",
       "            <th>Country</th> <th>Population</th> <th>Area (sq. mi.)</th>\n",
       "        </tr>\n",
       "    </thead>\n",
       "    <tbody>\n",
       "        <tr>\n",
       "            <td>Afghanistan       </td> <td>31056997  </td> <td>647500        </td>\n",
       "        </tr>\n",
       "        <tr>\n",
       "            <td>Albania           </td> <td>3581655   </td> <td>28748         </td>\n",
       "        </tr>\n",
       "        <tr>\n",
       "            <td>Algeria           </td> <td>32930091  </td> <td>2381740       </td>\n",
       "        </tr>\n",
       "        <tr>\n",
       "            <td>American Samoa    </td> <td>57794     </td> <td>199           </td>\n",
       "        </tr>\n",
       "        <tr>\n",
       "            <td>Andorra           </td> <td>71201     </td> <td>468           </td>\n",
       "        </tr>\n",
       "        <tr>\n",
       "            <td>Angola            </td> <td>12127071  </td> <td>1246700       </td>\n",
       "        </tr>\n",
       "        <tr>\n",
       "            <td>Anguilla          </td> <td>13477     </td> <td>102           </td>\n",
       "        </tr>\n",
       "        <tr>\n",
       "            <td>Antigua & Barbuda </td> <td>69108     </td> <td>443           </td>\n",
       "        </tr>\n",
       "        <tr>\n",
       "            <td>Argentina         </td> <td>39921833  </td> <td>2766890       </td>\n",
       "        </tr>\n",
       "        <tr>\n",
       "            <td>Armenia           </td> <td>2976372   </td> <td>29800         </td>\n",
       "        </tr>\n",
       "    </tbody>\n",
       "</table>\n",
       "<p>... (217 rows omitted)</p>"
      ],
      "text/plain": [
       "Country            | Population | Area (sq. mi.)\n",
       "Afghanistan        | 31056997   | 647500\n",
       "Albania            | 3581655    | 28748\n",
       "Algeria            | 32930091   | 2381740\n",
       "American Samoa     | 57794      | 199\n",
       "Andorra            | 71201      | 468\n",
       "Angola             | 12127071   | 1246700\n",
       "Anguilla           | 13477      | 102\n",
       "Antigua & Barbuda  | 69108      | 443\n",
       "Argentina          | 39921833   | 2766890\n",
       "Armenia            | 2976372    | 29800\n",
       "... (217 rows omitted)"
      ]
     },
     "execution_count": 130,
     "metadata": {},
     "output_type": "execute_result"
    }
   ],
   "source": [
    "tbl"
   ]
  },
  {
   "cell_type": "markdown",
   "id": "8c5a6309-c8de-4ef4-a67d-b60b83b68e2d",
   "metadata": {},
   "source": [
    "# **Percentil**\n",
    "\n",
    "El **percentil** es una medida estadística que indica la posición de un valor dentro de un conjunto de datos ordenados. Formalmente, el percentil $ P_k $ de orden $ k $ (donde $ k $ es un número entre 0 y 100) se define como el valor $ x_k $ que cumple con las siguientes condiciones:\n",
    "\n",
    "1. **Porcentaje de datos menores o iguales**: Al menos el $k\\%$ de los datos son menores o iguales a $x_k$.\n",
    "2. **Porcentaje de datos mayores o iguales**: Al menos el $(100 - k)\\%$ de los datos son mayores o iguales a $x_k$.\n",
    "\n",
    "## **Fórmula General para Calcular un Percentil**\n",
    "Si tenemos un conjunto de datos ordenados de tamaño $n$, el índice $i$ correspondiente al percentil $k$ se calcula como:\n",
    "\n",
    "\\begin{equation}\n",
    "i = \\frac{k}{100} \\times n\n",
    "\\end{equation}\n",
    "\n",
    "### **Reglas para determinar el percentil \\( P_k \\):**\n",
    "- Si $i$ es un número entero y n es impar,  el percentil es el promedio entre el valor en la posición $i$ y el valor en la posición $i+1$ redondea hacia arriba.\n",
    "- Si $i$ no es un número entero, se redondea hacia arriba y se toma el valor en la posición resultante.\n",
    "\n",
    "## **Ejemplo Práctico**\n",
    "Supongamos que tenemos los siguientes datos ordenados:  \n",
    "\\[ 2, 5, 7, 10, 15, 18, 21, 25, 30, 35 \\] (10 datos, $n = 10$)\n",
    "\n",
    "Queremos encontrar el **percentil 40** ($P_{40}$):\n",
    "\n",
    "\\begin{equation}\n",
    "i = \\frac{40}{100} \\times 10 = 4\n",
    "\\end{equation}\n",
    "\n",
    "Es decir, 10 es el numero 4 de la lista que representa que el 40%  de los datos son menores o iguales a el. Mientras el 60% son mayores o iguales que él."
   ]
  },
  {
   "cell_type": "code",
   "execution_count": 131,
   "id": "7e627455-feba-4b19-a592-773aa816ea1c",
   "metadata": {},
   "outputs": [],
   "source": [
    "numbers=make_array(2, 5, 7, 10, 15, 18, 21, 25, 30, 35 )"
   ]
  },
  {
   "cell_type": "code",
   "execution_count": 132,
   "id": "55c65bd8-1151-479d-beac-5213746a37df",
   "metadata": {},
   "outputs": [
    {
     "data": {
      "text/plain": [
       "10"
      ]
     },
     "execution_count": 132,
     "metadata": {},
     "output_type": "execute_result"
    }
   ],
   "source": [
    "percentile(40, numbers)\n"
   ]
  },
  {
   "cell_type": "code",
   "execution_count": 133,
   "id": "2b7a3f6f-e7e2-44c4-bb4d-a80322d06d1f",
   "metadata": {},
   "outputs": [
    {
     "data": {
      "text/plain": [
       "18"
      ]
     },
     "execution_count": 133,
     "metadata": {},
     "output_type": "execute_result"
    }
   ],
   "source": [
    "percentile(55, numbers)"
   ]
  },
  {
   "cell_type": "code",
   "execution_count": 134,
   "id": "484ed057-9a8f-45af-842a-0a397671270a",
   "metadata": {},
   "outputs": [
    {
     "data": {
      "text/plain": [
       "9.9"
      ]
     },
     "execution_count": 134,
     "metadata": {},
     "output_type": "execute_result"
    }
   ],
   "source": [
    "numbers=make_array(2, 5, 7, 10, 15, 18, 21, 25, 30, 35,50 )\n",
    "90*11/100"
   ]
  },
  {
   "cell_type": "code",
   "execution_count": 135,
   "id": "6f69c939-89dd-4e6b-975d-eb2109f6daec",
   "metadata": {},
   "outputs": [
    {
     "data": {
      "text/plain": [
       "35"
      ]
     },
     "execution_count": 135,
     "metadata": {},
     "output_type": "execute_result"
    }
   ],
   "source": [
    "percentile(90, numbers)"
   ]
  },
  {
   "cell_type": "code",
   "execution_count": 137,
   "id": "1916ebf3-1634-4ba5-8628-cf4d318f7b1d",
   "metadata": {},
   "outputs": [
    {
     "data": {
      "text/html": [
       "<table border=\"1\" class=\"dataframe\">\n",
       "    <thead>\n",
       "        <tr>\n",
       "            <th>País</th> <th>Altura_cm</th>\n",
       "        </tr>\n",
       "    </thead>\n",
       "    <tbody>\n",
       "        <tr>\n",
       "            <td>Países Bajos</td> <td>183      </td>\n",
       "        </tr>\n",
       "        <tr>\n",
       "            <td>México      </td> <td>170      </td>\n",
       "        </tr>\n",
       "        <tr>\n",
       "            <td>Japón       </td> <td>171      </td>\n",
       "        </tr>\n",
       "        <tr>\n",
       "            <td>India       </td> <td>167      </td>\n",
       "        </tr>\n",
       "        <tr>\n",
       "            <td>Perú        </td> <td>165      </td>\n",
       "        </tr>\n",
       "        <tr>\n",
       "            <td>Sudán       </td> <td>177      </td>\n",
       "        </tr>\n",
       "        <tr>\n",
       "            <td>Brasil      </td> <td>173      </td>\n",
       "        </tr>\n",
       "    </tbody>\n",
       "</table>"
      ],
      "text/plain": [
       "País         | Altura_cm\n",
       "Países Bajos | 183\n",
       "México       | 170\n",
       "Japón        | 171\n",
       "India        | 167\n",
       "Perú         | 165\n",
       "Sudán        | 177\n",
       "Brasil       | 173"
      ]
     },
     "execution_count": 137,
     "metadata": {},
     "output_type": "execute_result"
    }
   ],
   "source": [
    "# Tabla con alturas promedio masculinas por país (en cm)\n",
    "tbl = Table().with_columns(\n",
    "    \"País\",       [\"Países Bajos\", \"México\", \"Japón\", \"India\", \"Perú\", \"Sudán\", \"Brasil\"],\n",
    "    \"Altura_cm\",  [183,             170,      171,     167,     165,    177,     173]\n",
    ")\n",
    "\n",
    "tbl"
   ]
  },
  {
   "cell_type": "code",
   "execution_count": 139,
   "id": "aba94667-9681-49b9-a0d3-0c1f3263787e",
   "metadata": {},
   "outputs": [
    {
     "data": {
      "text/plain": [
       "171"
      ]
     },
     "execution_count": 139,
     "metadata": {},
     "output_type": "execute_result"
    }
   ],
   "source": [
    "percentile(50,tbl.column(\"Altura_cm\"))"
   ]
  },
  {
   "cell_type": "code",
   "execution_count": 141,
   "id": "ef15b64f-5a88-48b6-8d4f-9ee72b6f8c6b",
   "metadata": {},
   "outputs": [
    {
     "data": {
      "text/html": [
       "<table border=\"1\" class=\"dataframe\">\n",
       "    <thead>\n",
       "        <tr>\n",
       "            <th>País</th> <th>Altura_cm</th>\n",
       "        </tr>\n",
       "    </thead>\n",
       "    <tbody>\n",
       "        <tr>\n",
       "            <td>Perú        </td> <td>165      </td>\n",
       "        </tr>\n",
       "        <tr>\n",
       "            <td>India       </td> <td>167      </td>\n",
       "        </tr>\n",
       "        <tr>\n",
       "            <td>México      </td> <td>170      </td>\n",
       "        </tr>\n",
       "        <tr>\n",
       "            <td>Japón       </td> <td>171      </td>\n",
       "        </tr>\n",
       "        <tr>\n",
       "            <td>Brasil      </td> <td>173      </td>\n",
       "        </tr>\n",
       "        <tr>\n",
       "            <td>Sudán       </td> <td>177      </td>\n",
       "        </tr>\n",
       "        <tr>\n",
       "            <td>Países Bajos</td> <td>183      </td>\n",
       "        </tr>\n",
       "    </tbody>\n",
       "</table>"
      ],
      "text/plain": [
       "País         | Altura_cm\n",
       "Perú         | 165\n",
       "India        | 167\n",
       "México       | 170\n",
       "Japón        | 171\n",
       "Brasil       | 173\n",
       "Sudán        | 177\n",
       "Países Bajos | 183"
      ]
     },
     "execution_count": 141,
     "metadata": {},
     "output_type": "execute_result"
    }
   ],
   "source": [
    "tbl.sort(\"Altura_cm\")"
   ]
  },
  {
   "cell_type": "code",
   "execution_count": null,
   "id": "d583238d-a209-410f-bc11-2b9bebf87a9e",
   "metadata": {},
   "outputs": [],
   "source": []
  },
  {
   "cell_type": "code",
   "execution_count": 142,
   "id": "85c9cfb8-3d4f-4e78-b865-0faa7ebba37b",
   "metadata": {},
   "outputs": [],
   "source": [
    "score = Table.read_table(\"scores_by_section.csv\")"
   ]
  },
  {
   "cell_type": "code",
   "execution_count": 143,
   "id": "6e2d2c58-8c78-495e-9532-298ebd88c887",
   "metadata": {},
   "outputs": [
    {
     "data": {
      "text/html": [
       "<table border=\"1\" class=\"dataframe\">\n",
       "    <thead>\n",
       "        <tr>\n",
       "            <th>Section</th> <th>Midterm</th>\n",
       "        </tr>\n",
       "    </thead>\n",
       "    <tbody>\n",
       "        <tr>\n",
       "            <td>1      </td> <td>22     </td>\n",
       "        </tr>\n",
       "        <tr>\n",
       "            <td>2      </td> <td>12     </td>\n",
       "        </tr>\n",
       "        <tr>\n",
       "            <td>2      </td> <td>23     </td>\n",
       "        </tr>\n",
       "        <tr>\n",
       "            <td>2      </td> <td>14     </td>\n",
       "        </tr>\n",
       "        <tr>\n",
       "            <td>1      </td> <td>20     </td>\n",
       "        </tr>\n",
       "        <tr>\n",
       "            <td>3      </td> <td>25     </td>\n",
       "        </tr>\n",
       "        <tr>\n",
       "            <td>4      </td> <td>19     </td>\n",
       "        </tr>\n",
       "        <tr>\n",
       "            <td>1      </td> <td>24     </td>\n",
       "        </tr>\n",
       "        <tr>\n",
       "            <td>5      </td> <td>8      </td>\n",
       "        </tr>\n",
       "        <tr>\n",
       "            <td>6      </td> <td>14     </td>\n",
       "        </tr>\n",
       "    </tbody>\n",
       "</table>\n",
       "<p>... (349 rows omitted)</p>"
      ],
      "text/plain": [
       "Section | Midterm\n",
       "1       | 22\n",
       "2       | 12\n",
       "2       | 23\n",
       "2       | 14\n",
       "1       | 20\n",
       "3       | 25\n",
       "4       | 19\n",
       "1       | 24\n",
       "5       | 8\n",
       "6       | 14\n",
       "... (349 rows omitted)"
      ]
     },
     "execution_count": 143,
     "metadata": {},
     "output_type": "execute_result"
    }
   ],
   "source": [
    "score"
   ]
  },
  {
   "cell_type": "code",
   "execution_count": 144,
   "id": "35e210c0-b911-423c-b494-719f74fca998",
   "metadata": {},
   "outputs": [
    {
     "data": {
      "image/png": "[encoded data removed]",
      "text/plain": [
       "<Figure size 600x400 with 1 Axes>"
      ]
     },
     "metadata": {},
     "output_type": "display_data"
    }
   ],
   "source": [
    "score.select(\"Midterm\").hist(bins=np.arange(-5, 30, 1))"
   ]
  },
  {
   "cell_type": "code",
   "execution_count": 145,
   "id": "2393ae48-8311-44b7-9200-ff9939a5b0f0",
   "metadata": {},
   "outputs": [
    {
     "data": {
      "text/html": [
       "<table border=\"1\" class=\"dataframe\">\n",
       "    <thead>\n",
       "        <tr>\n",
       "            <th>Midterm</th>\n",
       "        </tr>\n",
       "    </thead>\n",
       "    <tbody>\n",
       "        <tr>\n",
       "            <td>22     </td>\n",
       "        </tr>\n",
       "        <tr>\n",
       "            <td>12     </td>\n",
       "        </tr>\n",
       "        <tr>\n",
       "            <td>23     </td>\n",
       "        </tr>\n",
       "        <tr>\n",
       "            <td>14     </td>\n",
       "        </tr>\n",
       "        <tr>\n",
       "            <td>20     </td>\n",
       "        </tr>\n",
       "        <tr>\n",
       "            <td>25     </td>\n",
       "        </tr>\n",
       "        <tr>\n",
       "            <td>19     </td>\n",
       "        </tr>\n",
       "        <tr>\n",
       "            <td>24     </td>\n",
       "        </tr>\n",
       "        <tr>\n",
       "            <td>8      </td>\n",
       "        </tr>\n",
       "        <tr>\n",
       "            <td>14     </td>\n",
       "        </tr>\n",
       "    </tbody>\n",
       "</table>\n",
       "<p>... (349 rows omitted)</p>"
      ],
      "text/plain": [
       "Midterm\n",
       "22\n",
       "12\n",
       "23\n",
       "14\n",
       "20\n",
       "25\n",
       "19\n",
       "24\n",
       "8\n",
       "14\n",
       "... (349 rows omitted)"
      ]
     },
     "execution_count": 145,
     "metadata": {},
     "output_type": "execute_result"
    }
   ],
   "source": [
    "score.select(\"Midterm\")"
   ]
  },
  {
   "cell_type": "code",
   "execution_count": 151,
   "id": "6e06b183-2ed1-4b33-bef2-a01afdc3d81b",
   "metadata": {},
   "outputs": [
    {
     "data": {
      "text/plain": [
       "23"
      ]
     },
     "execution_count": 151,
     "metadata": {},
     "output_type": "execute_result"
    }
   ],
   "source": [
    "percentile(90,score.column(\"Midterm\"))"
   ]
  },
  {
   "cell_type": "markdown",
   "id": "0c8fc28c-692b-4858-8d18-dc052dcbac37",
   "metadata": {},
   "source": [
    "El percentil 85 fue 22. "
   ]
  },
  {
   "cell_type": "code",
   "execution_count": 152,
   "id": "bf24ede8-488b-403e-9c9b-7399d38f6c93",
   "metadata": {},
   "outputs": [
    {
     "data": {
      "text/plain": [
       "array([ 0,  0,  0,  0,  0,  0,  0,  0,  0,  0,  0,  0,  0,  0,  0,  0,  0,\n",
       "        1,  4,  4,  4,  5,  6,  7,  7,  7,  7,  7,  8,  8,  8,  8,  8,  8,\n",
       "        8,  8,  9,  9,  9,  9,  9,  9,  9,  9,  9,  9,  9,  9,  9,  9, 10,\n",
       "       10, 10, 10, 10, 10, 10, 10, 10, 10, 10, 10, 10, 10, 10, 10, 10, 10,\n",
       "       10, 11, 11, 11, 11, 11, 11, 11, 11, 11, 11, 11, 11, 11, 11, 11, 11,\n",
       "       11, 11, 11, 11, 11, 11, 11, 11, 12, 12, 12, 12, 12, 12, 12, 12, 12,\n",
       "       12, 12, 12, 12, 12, 13, 13, 13, 13, 13, 13, 13, 13, 13, 13, 13, 13,\n",
       "       13, 13, 13, 13, 13, 13, 13, 13, 13, 13, 14, 14, 14, 14, 14, 14, 14,\n",
       "       14, 14, 14, 14, 14, 14, 14, 14, 14, 14, 14, 14, 14, 15, 15, 15, 15,\n",
       "       15, 15, 15, 15, 15, 15, 15, 15, 15, 15, 15, 15, 15, 16, 16, 16, 16,\n",
       "       16, 16, 16, 16, 16, 16, 16, 16, 16, 16, 16, 16, 16, 16, 16, 16, 16,\n",
       "       16, 17, 17, 17, 17, 17, 17, 17, 17, 17, 17, 17, 17, 17, 17, 17, 17,\n",
       "       17, 17, 17, 17, 17, 17, 17, 17, 17, 18, 18, 18, 18, 18, 18, 18, 18,\n",
       "       18, 18, 18, 18, 18, 18, 18, 18, 18, 18, 18, 18, 18, 18, 18, 18, 18,\n",
       "       19, 19, 19, 19, 19, 19, 19, 19, 19, 19, 19, 19, 19, 19, 19, 19, 20,\n",
       "       20, 20, 20, 20, 20, 20, 20, 20, 20, 20, 20, 20, 20, 20, 20, 20, 21,\n",
       "       21, 21, 21, 21, 21, 21, 21, 21, 21, 21, 21, 21, 21, 21, 21, 21, 21,\n",
       "       21, 21, 21, 21, 21, 21, 21, 21, 22, 22, 22, 22, 22, 22, 22, 22, 22,\n",
       "       22, 22, 22, 22, 22, 22, 22, 22, 23, 23, 23, 23, 23, 23, 23, 23, 23,\n",
       "       23, 23, 23, 23, 23, 23, 24, 24, 24, 24, 24, 24, 24, 24, 24, 24, 24,\n",
       "       24, 24, 24, 24, 24, 25, 25, 25, 25, 25, 25, 25, 25, 25, 25, 25, 25,\n",
       "       25, 25])"
      ]
     },
     "execution_count": 152,
     "metadata": {},
     "output_type": "execute_result"
    }
   ],
   "source": [
    "np.sort(score.column(\"Midterm\"))"
   ]
  },
  {
   "cell_type": "code",
   "execution_count": 153,
   "id": "79d9cc87-68a3-44f7-af76-5f116c6fd0b3",
   "metadata": {},
   "outputs": [
    {
     "data": {
      "text/plain": [
       "359"
      ]
     },
     "execution_count": 153,
     "metadata": {},
     "output_type": "execute_result"
    }
   ],
   "source": [
    "len(np.sort(score.column(\"Midterm\")))"
   ]
  },
  {
   "cell_type": "code",
   "execution_count": 154,
   "id": "46ccc182-9dcb-4cd5-a84e-e442aeb03c6d",
   "metadata": {},
   "outputs": [
    {
     "data": {
      "text/plain": [
       "305.15"
      ]
     },
     "execution_count": 154,
     "metadata": {},
     "output_type": "execute_result"
    }
   ],
   "source": [
    "x = 85*359./100\n",
    "x"
   ]
  },
  {
   "cell_type": "code",
   "execution_count": 155,
   "id": "9c38f8ff-c19e-463d-9d0d-5e692172963e",
   "metadata": {},
   "outputs": [
    {
     "data": {
      "text/plain": [
       "22"
      ]
     },
     "execution_count": 155,
     "metadata": {},
     "output_type": "execute_result"
    }
   ],
   "source": [
    "np.sort(score.column(\"Midterm\"))[306]"
   ]
  },
  {
   "cell_type": "markdown",
   "id": "273f4876-13bc-448d-93da-03486e1df001",
   "metadata": {},
   "source": [
    "# Cuartil"
   ]
  },
  {
   "cell_type": "markdown",
   "id": "fc9ba870-8332-4ef5-9eee-69d36fc5d463",
   "metadata": {},
   "source": [
    "Los **cuartiles** son valores que dividen un conjunto de datos ordenados en **cuatro partes iguales**, cada una representando el **25%** de los datos. Son un caso especial de los **percentiles**, donde los valores clave corresponden a los percentiles **25, 50 y 75**.\n",
    "\n",
    "Los cuartiles principales son:\n",
    "\n",
    "1. **Primer cuartil (Q₁ o P₂₅):** Es el valor que separa el **25%** de los datos inferiores del resto. Es equivalente al **percentil 25**.\n",
    "2. **Segundo cuartil (Q₂ o P₅₀):** Es el valor que separa el **50%** de los datos inferiores del resto. Es igual a la **mediana** o **percentil 50**.\n",
    "3. **Tercer cuartil (Q₃ o P₇₅):** Es el valor que separa el **75%** de los datos inferiores del resto. Es equivalente al **percentil 75**.\n"
   ]
  },
  {
   "cell_type": "code",
   "execution_count": 157,
   "id": "212bca9e-431b-49e8-acae-29877893dd15",
   "metadata": {},
   "outputs": [
    {
     "name": "stdout",
     "output_type": "stream",
     "text": [
      "Primer cuartil: 11\n",
      "Segundo cuartil: 16\n",
      "Tercero cuartil: 20\n",
      "cuarto cuartil: 25\n"
     ]
    }
   ],
   "source": [
    "scores=score.column(1)\n",
    "print(f\"Primer cuartil: {percentile(25, scores)}\")\n",
    "print(f\"Segundo cuartil: {percentile(50, scores)}\")\n",
    "print(f\"Tercero cuartil: {percentile(75, scores)}\")\n",
    "print(f\"cuarto cuartil: {percentile(100, scores)}\")"
   ]
  },
  {
   "cell_type": "code",
   "execution_count": 159,
   "id": "7f837794-a887-4a5b-96f0-d2a892bf0455",
   "metadata": {},
   "outputs": [],
   "source": [
    "def percentil_(number, array):\n",
    "    nn = len(array)\n",
    "    n = nn*number/100\n",
    "    array = np.sort(array)\n",
    "    \n",
    "    if(n%2==0):\n",
    "        return array[int(n)]\n",
    "    else:\n",
    "        return array[int(np.ceil(n))]"
   ]
  },
  {
   "cell_type": "code",
   "execution_count": 160,
   "id": "98079f6a-ea8a-4d87-8d8f-e575a76eb380",
   "metadata": {},
   "outputs": [
    {
     "data": {
      "text/plain": [
       "11"
      ]
     },
     "execution_count": 160,
     "metadata": {},
     "output_type": "execute_result"
    }
   ],
   "source": [
    "np.sort(scores)[90]"
   ]
  },
  {
   "cell_type": "code",
   "execution_count": 161,
   "id": "a99f4c87-e7d2-4d24-a702-b0682628a82e",
   "metadata": {},
   "outputs": [
    {
     "data": {
      "text/plain": [
       "11"
      ]
     },
     "execution_count": 161,
     "metadata": {},
     "output_type": "execute_result"
    }
   ],
   "source": [
    "np.sort(scores)[90]"
   ]
  },
  {
   "cell_type": "code",
   "execution_count": 162,
   "id": "2b749c11-7aa5-4ebc-9577-bae6b853545e",
   "metadata": {},
   "outputs": [
    {
     "data": {
      "text/plain": [
       "16"
      ]
     },
     "execution_count": 162,
     "metadata": {},
     "output_type": "execute_result"
    }
   ],
   "source": [
    "percentil_(50, scores)"
   ]
  },
  {
   "cell_type": "markdown",
   "id": "8a3e216b-cadf-4295-9cc7-75cd083ad791",
   "metadata": {},
   "source": [
    "# Bootstrap"
   ]
  },
  {
   "cell_type": "code",
   "execution_count": 195,
   "id": "c2fb7a56-0994-4ce0-88db-aaef4e0aee2c",
   "metadata": {},
   "outputs": [
    {
     "data": {
      "text/html": [
       "<table border=\"1\" class=\"dataframe\">\n",
       "    <thead>\n",
       "        <tr>\n",
       "            <th>Unnamed: 0</th> <th>species</th> <th>island</th> <th>bill_length_mm</th> <th>bill_depth_mm</th> <th>flipper_length_mm</th> <th>body_mass_g</th> <th>sex</th>\n",
       "        </tr>\n",
       "    </thead>\n",
       "    <tbody>\n",
       "        <tr>\n",
       "            <td>0         </td> <td>Adelie </td> <td>Torgersen</td> <td>39.1          </td> <td>18.7         </td> <td>181              </td> <td>3750       </td> <td>Male  </td>\n",
       "        </tr>\n",
       "        <tr>\n",
       "            <td>1         </td> <td>Adelie </td> <td>Torgersen</td> <td>39.5          </td> <td>17.4         </td> <td>186              </td> <td>3800       </td> <td>Female</td>\n",
       "        </tr>\n",
       "        <tr>\n",
       "            <td>2         </td> <td>Adelie </td> <td>Torgersen</td> <td>40.3          </td> <td>18           </td> <td>195              </td> <td>3250       </td> <td>Female</td>\n",
       "        </tr>\n",
       "        <tr>\n",
       "            <td>4         </td> <td>Adelie </td> <td>Torgersen</td> <td>36.7          </td> <td>19.3         </td> <td>193              </td> <td>3450       </td> <td>Female</td>\n",
       "        </tr>\n",
       "        <tr>\n",
       "            <td>5         </td> <td>Adelie </td> <td>Torgersen</td> <td>39.3          </td> <td>20.6         </td> <td>190              </td> <td>3650       </td> <td>Male  </td>\n",
       "        </tr>\n",
       "        <tr>\n",
       "            <td>6         </td> <td>Adelie </td> <td>Torgersen</td> <td>38.9          </td> <td>17.8         </td> <td>181              </td> <td>3625       </td> <td>Female</td>\n",
       "        </tr>\n",
       "        <tr>\n",
       "            <td>7         </td> <td>Adelie </td> <td>Torgersen</td> <td>39.2          </td> <td>19.6         </td> <td>195              </td> <td>4675       </td> <td>Male  </td>\n",
       "        </tr>\n",
       "        <tr>\n",
       "            <td>12        </td> <td>Adelie </td> <td>Torgersen</td> <td>41.1          </td> <td>17.6         </td> <td>182              </td> <td>3200       </td> <td>Female</td>\n",
       "        </tr>\n",
       "        <tr>\n",
       "            <td>13        </td> <td>Adelie </td> <td>Torgersen</td> <td>38.6          </td> <td>21.2         </td> <td>191              </td> <td>3800       </td> <td>Male  </td>\n",
       "        </tr>\n",
       "        <tr>\n",
       "            <td>14        </td> <td>Adelie </td> <td>Torgersen</td> <td>34.6          </td> <td>21.1         </td> <td>198              </td> <td>4400       </td> <td>Male  </td>\n",
       "        </tr>\n",
       "    </tbody>\n",
       "</table>\n",
       "<p>... (323 rows omitted)</p>"
      ],
      "text/plain": [
       "Unnamed: 0 | species | island    | bill_length_mm | bill_depth_mm | flipper_length_mm | body_mass_g | sex\n",
       "0          | Adelie  | Torgersen | 39.1           | 18.7          | 181               | 3750        | Male\n",
       "1          | Adelie  | Torgersen | 39.5           | 17.4          | 186               | 3800        | Female\n",
       "2          | Adelie  | Torgersen | 40.3           | 18            | 195               | 3250        | Female\n",
       "4          | Adelie  | Torgersen | 36.7           | 19.3          | 193               | 3450        | Female\n",
       "5          | Adelie  | Torgersen | 39.3           | 20.6          | 190               | 3650        | Male\n",
       "6          | Adelie  | Torgersen | 38.9           | 17.8          | 181               | 3625        | Female\n",
       "7          | Adelie  | Torgersen | 39.2           | 19.6          | 195               | 4675        | Male\n",
       "12         | Adelie  | Torgersen | 41.1           | 17.6          | 182               | 3200        | Female\n",
       "13         | Adelie  | Torgersen | 38.6           | 21.2          | 191               | 3800        | Male\n",
       "14         | Adelie  | Torgersen | 34.6           | 21.1          | 198               | 4400        | Male\n",
       "... (323 rows omitted)"
      ]
     },
     "execution_count": 195,
     "metadata": {},
     "output_type": "execute_result"
    }
   ],
   "source": [
    "penguins=tbl = Table.read_table(\"pinguinos.csv\")\n",
    "penguins"
   ]
  },
  {
   "cell_type": "code",
   "execution_count": 196,
   "id": "d1ac985a-d435-48e1-bef3-027e3b3e6756",
   "metadata": {},
   "outputs": [
    {
     "data": {
      "image/png": "[encoded data removed]",
      "text/plain": [
       "<Figure size 600x400 with 1 Axes>"
      ]
     },
     "metadata": {},
     "output_type": "display_data"
    }
   ],
   "source": [
    "penguins.select(\"bill_length_mm\").hist()"
   ]
  },
  {
   "cell_type": "code",
   "execution_count": 198,
   "id": "ac895433-b810-4546-8d80-fc4589329611",
   "metadata": {},
   "outputs": [
    {
     "data": {
      "image/png": "[encoded data removed]",
      "text/plain": [
       "<Figure size 600x400 with 1 Axes>"
      ]
     },
     "metadata": {},
     "output_type": "display_data"
    }
   ],
   "source": [
    "penguins.select(\"bill_depth_mm\").hist()"
   ]
  },
  {
   "cell_type": "code",
   "execution_count": 200,
   "id": "9b099ba3-4bb4-45bd-b840-da0197509a1e",
   "metadata": {},
   "outputs": [
    {
     "data": {
      "image/png": "[encoded data removed]",
      "text/plain": [
       "<Figure size 600x400 with 1 Axes>"
      ]
     },
     "metadata": {},
     "output_type": "display_data"
    }
   ],
   "source": [
    "penguins.select(\"body_mass_g\").hist()"
   ]
  },
  {
   "cell_type": "code",
   "execution_count": 223,
   "id": "173428a6-6ef4-467c-9d46-f30f4998cc53",
   "metadata": {},
   "outputs": [
    {
     "data": {
      "text/plain": [
       "4050.0"
      ]
     },
     "execution_count": 223,
     "metadata": {},
     "output_type": "execute_result"
    }
   ],
   "source": [
    "est_median = percentile(50, penguins.column(\"body_mass_g\"))\n",
    "mediana =  est_median\n",
    "mediana"
   ]
  },
  {
   "cell_type": "code",
   "execution_count": 224,
   "id": "828f89b1-a7d4-4d4e-9575-b7d174b238d6",
   "metadata": {},
   "outputs": [
    {
     "data": {
      "text/html": [
       "<table border=\"1\" class=\"dataframe\">\n",
       "    <thead>\n",
       "        <tr>\n",
       "            <th>Unnamed: 0</th> <th>species</th> <th>island</th> <th>bill_length_mm</th> <th>bill_depth_mm</th> <th>flipper_length_mm</th> <th>body_mass_g</th> <th>sex</th>\n",
       "        </tr>\n",
       "    </thead>\n",
       "    <tbody>\n",
       "        <tr>\n",
       "            <td>172       </td> <td>Chinstrap</td> <td>Dream </td> <td>44.5          </td> <td>17.3         </td> <td>197              </td> <td>4050       </td> <td>Male</td>\n",
       "        </tr>\n",
       "    </tbody>\n",
       "</table>"
      ],
      "text/plain": [
       "Unnamed: 0 | species   | island | bill_length_mm | bill_depth_mm | flipper_length_mm | body_mass_g | sex\n",
       "172        | Chinstrap | Dream  | 44.5           | 17.3          | 197               | 4050        | Male"
      ]
     },
     "execution_count": 224,
     "metadata": {},
     "output_type": "execute_result"
    }
   ],
   "source": [
    "penguins.percentile(50)"
   ]
  },
  {
   "cell_type": "code",
   "execution_count": 225,
   "id": "609b1ff2-df1a-4afa-9db2-81a357bc0915",
   "metadata": {},
   "outputs": [
    {
     "data": {
      "text/html": [
       "<table border=\"1\" class=\"dataframe\">\n",
       "    <thead>\n",
       "        <tr>\n",
       "            <th>Unnamed: 0</th> <th>species</th> <th>island</th> <th>bill_length_mm</th> <th>bill_depth_mm</th> <th>flipper_length_mm</th> <th>body_mass_g</th> <th>sex</th>\n",
       "        </tr>\n",
       "    </thead>\n",
       "    <tbody>\n",
       "        <tr>\n",
       "            <td>0         </td> <td>Adelie </td> <td>Torgersen</td> <td>39.1          </td> <td>18.7         </td> <td>181              </td> <td>3750       </td> <td>Male  </td>\n",
       "        </tr>\n",
       "        <tr>\n",
       "            <td>1         </td> <td>Adelie </td> <td>Torgersen</td> <td>39.5          </td> <td>17.4         </td> <td>186              </td> <td>3800       </td> <td>Female</td>\n",
       "        </tr>\n",
       "        <tr>\n",
       "            <td>2         </td> <td>Adelie </td> <td>Torgersen</td> <td>40.3          </td> <td>18           </td> <td>195              </td> <td>3250       </td> <td>Female</td>\n",
       "        </tr>\n",
       "        <tr>\n",
       "            <td>4         </td> <td>Adelie </td> <td>Torgersen</td> <td>36.7          </td> <td>19.3         </td> <td>193              </td> <td>3450       </td> <td>Female</td>\n",
       "        </tr>\n",
       "        <tr>\n",
       "            <td>5         </td> <td>Adelie </td> <td>Torgersen</td> <td>39.3          </td> <td>20.6         </td> <td>190              </td> <td>3650       </td> <td>Male  </td>\n",
       "        </tr>\n",
       "        <tr>\n",
       "            <td>6         </td> <td>Adelie </td> <td>Torgersen</td> <td>38.9          </td> <td>17.8         </td> <td>181              </td> <td>3625       </td> <td>Female</td>\n",
       "        </tr>\n",
       "        <tr>\n",
       "            <td>7         </td> <td>Adelie </td> <td>Torgersen</td> <td>39.2          </td> <td>19.6         </td> <td>195              </td> <td>4675       </td> <td>Male  </td>\n",
       "        </tr>\n",
       "        <tr>\n",
       "            <td>12        </td> <td>Adelie </td> <td>Torgersen</td> <td>41.1          </td> <td>17.6         </td> <td>182              </td> <td>3200       </td> <td>Female</td>\n",
       "        </tr>\n",
       "        <tr>\n",
       "            <td>13        </td> <td>Adelie </td> <td>Torgersen</td> <td>38.6          </td> <td>21.2         </td> <td>191              </td> <td>3800       </td> <td>Male  </td>\n",
       "        </tr>\n",
       "        <tr>\n",
       "            <td>14        </td> <td>Adelie </td> <td>Torgersen</td> <td>34.6          </td> <td>21.1         </td> <td>198              </td> <td>4400       </td> <td>Male  </td>\n",
       "        </tr>\n",
       "    </tbody>\n",
       "</table>\n",
       "<p>... (323 rows omitted)</p>"
      ],
      "text/plain": [
       "Unnamed: 0 | species | island    | bill_length_mm | bill_depth_mm | flipper_length_mm | body_mass_g | sex\n",
       "0          | Adelie  | Torgersen | 39.1           | 18.7          | 181               | 3750        | Male\n",
       "1          | Adelie  | Torgersen | 39.5           | 17.4          | 186               | 3800        | Female\n",
       "2          | Adelie  | Torgersen | 40.3           | 18            | 195               | 3250        | Female\n",
       "4          | Adelie  | Torgersen | 36.7           | 19.3          | 193               | 3450        | Female\n",
       "5          | Adelie  | Torgersen | 39.3           | 20.6          | 190               | 3650        | Male\n",
       "6          | Adelie  | Torgersen | 38.9           | 17.8          | 181               | 3625        | Female\n",
       "7          | Adelie  | Torgersen | 39.2           | 19.6          | 195               | 4675        | Male\n",
       "12         | Adelie  | Torgersen | 41.1           | 17.6          | 182               | 3200        | Female\n",
       "13         | Adelie  | Torgersen | 38.6           | 21.2          | 191               | 3800        | Male\n",
       "14         | Adelie  | Torgersen | 34.6           | 21.1          | 198               | 4400        | Male\n",
       "... (323 rows omitted)"
      ]
     },
     "execution_count": 225,
     "metadata": {},
     "output_type": "execute_result"
    }
   ],
   "source": [
    "penguins"
   ]
  },
  {
   "cell_type": "markdown",
   "id": "61462f9f-1f24-47c5-afe8-0f16ff72aec3",
   "metadata": {},
   "source": [
    "# Una muetra aleatoria y una estimación"
   ]
  },
  {
   "cell_type": "code",
   "execution_count": 230,
   "id": "65845d69-fff9-467e-93e2-53ab5db43fad",
   "metadata": {},
   "outputs": [
    {
     "data": {
      "image/png": "[encoded data removed]",
      "text/plain": [
       "<Figure size 600x400 with 1 Axes>"
      ]
     },
     "metadata": {},
     "output_type": "display_data"
    }
   ],
   "source": [
    "our_sample = penguins.select(\"body_mass_g\").sample(50, with_replacement=False)\n",
    "our_sample.select('body_mass_g').hist()"
   ]
  },
  {
   "cell_type": "code",
   "execution_count": 231,
   "id": "3b35763d-db73-4a76-be17-ea9d88a631e0",
   "metadata": {},
   "outputs": [
    {
     "data": {
      "text/plain": [
       "4400.0"
      ]
     },
     "execution_count": 231,
     "metadata": {},
     "output_type": "execute_result"
    }
   ],
   "source": [
    "est_median = percentile(50, our_sample.column('body_mass_g'))\n",
    "est_median"
   ]
  },
  {
   "cell_type": "markdown",
   "id": "a6ad3b0a-422c-48fe-9f51-9c01eb3a1930",
   "metadata": {},
   "source": [
    "# El Bootstrap: Remuestreo del número de muestra\n",
    "\n"
   ]
  },
  {
   "cell_type": "markdown",
   "id": "40243ed0-d53c-4fd1-84bd-d929a1fff706",
   "metadata": {},
   "source": [
    "- Trate la muestra original como si fuera la población.\n",
    "- Extraiga de la muestra, al azar con reemplazo, el mismo número de veces que el tamaño original de la muestra.\n",
    "![img](https://inferentialthinking.com/_images/582b7f0ad963cb57dec2cf5cf68937059bd2b3150ba74bc041a85a4ed2ff6aaf.png)"
   ]
  },
  {
   "cell_type": "code",
   "execution_count": 289,
   "id": "afa8e178-2c7c-4d38-8f18-18d07f1a5716",
   "metadata": {},
   "outputs": [],
   "source": [
    "bstrap_medians = make_array()\n",
    "for i in range(0, 1000):\n",
    "    our_sample = penguins.select(\"body_mass_g\").sample(100, with_replacement=False)\n",
    "    #our_sample.select('Total Compensation').hist(bins=sf_bins)\n",
    "    est_median = percentile(50, our_sample.column('body_mass_g'))\n",
    "    bstrap_medians=np.append(bstrap_medians , est_median)"
   ]
  },
  {
   "cell_type": "code",
   "execution_count": 290,
   "id": "000a7a35-34bd-41c8-8572-1a6a98eb5f00",
   "metadata": {},
   "outputs": [
    {
     "data": {
      "text/plain": [
       "array([ 3900.,  4000.,  4050.,  4050.,  3975.,  4100.,  3950.,  3900.,\n",
       "        4100.,  4150.,  3950.,  4050.,  4000.,  4050.,  4000.,  4050.,\n",
       "        4000.,  4200.,  4150.,  4075.,  4150.,  4100.,  3900.,  3900.,\n",
       "        4075.,  3950.,  4150.,  3800.,  3975.,  4100.,  3950.,  3900.,\n",
       "        3950.,  4075.,  4050.,  4000.,  4050.,  4050.,  4150.,  4250.,\n",
       "        4050.,  4050.,  4150.,  4150.,  4075.,  4150.,  3800.,  4150.,\n",
       "        4000.,  4100.,  4050.,  4000.,  4200.,  4000.,  4150.,  3900.,\n",
       "        4100.,  4100.,  4000.,  4000.,  3900.,  4000.,  4100.,  4150.,\n",
       "        4150.,  4000.,  3950.,  3950.,  4100.,  4000.,  3975.,  4200.,\n",
       "        4050.,  4000.,  4000.,  4250.,  4050.,  3900.,  4000.,  3950.,\n",
       "        4100.,  4000.,  4000.,  4100.,  4100.,  4100.,  3950.,  4150.,\n",
       "        4000.,  4000.,  4100.,  4050.,  3950.,  4050.,  4200.,  3950.,\n",
       "        3950.,  3900.,  3950.,  4150.,  4100.,  4100.,  3800.,  4075.,\n",
       "        4100.,  3950.,  3975.,  3950.,  4000.,  4000.,  4150.,  4000.,\n",
       "        4150.,  4050.,  4200.,  3900.,  4075.,  4100.,  4050.,  4100.,\n",
       "        4100.,  4100.,  3950.,  4150.,  3950.,  4000.,  4050.,  4050.,\n",
       "        3975.,  4200.,  3950.,  4250.,  4200.,  3950.,  4100.,  3900.,\n",
       "        3900.,  4100.,  4050.,  4150.,  4100.,  4150.,  4150.,  4150.,\n",
       "        3950.,  4100.,  4150.,  4000.,  3975.,  3950.,  4100.,  3950.,\n",
       "        3950.,  3900.,  4050.,  4100.,  4075.,  4050.,  4150.,  4100.,\n",
       "        4150.,  4050.,  3950.,  4350.,  4400.,  4050.,  3850.,  4000.,\n",
       "        4000.,  4250.,  3950.,  4075.,  4050.,  4100.,  4100.,  4150.,\n",
       "        4200.,  4000.,  4300.,  4000.,  4100.,  4000.,  4200.,  4000.,\n",
       "        3950.,  3975.,  3975.,  4200.,  3950.,  4150.,  4200.,  4000.,\n",
       "        3800.,  3975.,  4050.,  4050.,  3950.,  4100.,  4000.,  3900.,\n",
       "        3900.,  4250.,  3900.,  4000.,  4000.,  4100.,  4000.,  4050.,\n",
       "        4050.,  3950.,  3950.,  4100.,  4000.,  3950.,  4000.,  4000.,\n",
       "        4100.,  3900.,  4050.,  4100.,  3950.,  3900.,  3875.,  4050.,\n",
       "        3950.,  3950.,  3950.,  4000.,  3950.,  3950.,  3900.,  3950.,\n",
       "        3950.,  4150.,  4250.,  4050.,  3900.,  4000.,  3975.,  4000.,\n",
       "        4050.,  3950.,  4200.,  4100.,  4000.,  3950.,  3950.,  4250.,\n",
       "        4150.,  3950.,  3950.,  3900.,  4000.,  3950.,  3950.,  3900.,\n",
       "        4075.,  4250.,  4050.,  4150.,  3900.,  4250.,  4150.,  4050.,\n",
       "        3950.,  4000.,  4050.,  4000.,  4050.,  3950.,  4150.,  3950.,\n",
       "        3850.,  3900.,  3900.,  4000.,  3950.,  4075.,  4000.,  4150.,\n",
       "        3950.,  4050.,  3950.,  3950.,  4000.,  4100.,  4150.,  4000.,\n",
       "        3950.,  4050.,  4200.,  4000.,  4200.,  3950.,  3800.,  4100.,\n",
       "        4050.,  4000.,  3950.,  4000.,  4000.,  4100.,  4150.,  4050.,\n",
       "        4050.,  3950.,  4000.,  4050.,  4150.,  4100.,  4050.,  3950.,\n",
       "        4000.,  3950.,  4100.,  4100.,  4100.,  4100.,  3800.,  4050.,\n",
       "        3950.,  4050.,  4000.,  3950.,  3950.,  3800.,  3900.,  3950.,\n",
       "        4275.,  3800.,  3950.,  3950.,  4050.,  3900.,  3900.,  4050.,\n",
       "        3950.,  3950.,  4050.,  3950.,  3900.,  4000.,  4050.,  3950.,\n",
       "        4000.,  4050.,  4100.,  4150.,  3900.,  3900.,  4200.,  4050.,\n",
       "        3825.,  4050.,  4050.,  4000.,  3975.,  3975.,  3900.,  3950.,\n",
       "        4150.,  4075.,  3950.,  4000.,  4100.,  3950.,  3950.,  3825.,\n",
       "        3900.,  3950.,  4150.,  4250.,  3950.,  3900.,  4050.,  4150.,\n",
       "        4000.,  3950.,  4300.,  3950.,  4150.,  4050.,  3950.,  4200.,\n",
       "        4050.,  3950.,  4150.,  4000.,  3975.,  4150.,  4000.,  3800.,\n",
       "        4050.,  4100.,  3900.,  4000.,  4000.,  4100.,  3950.,  4000.,\n",
       "        4000.,  4000.,  4050.,  4050.,  4200.,  3900.,  4050.,  3950.,\n",
       "        4000.,  4300.,  3950.,  3950.,  3800.,  4200.,  3900.,  3900.,\n",
       "        4200.,  4000.,  4050.,  3950.,  4250.,  4075.,  3950.,  3900.,\n",
       "        4150.,  3800.,  4200.,  3975.,  3950.,  3950.,  3825.,  4100.,\n",
       "        4050.,  3950.,  3900.,  4150.,  4000.,  3800.,  3800.,  4150.,\n",
       "        3825.,  4075.,  4000.,  4150.,  3950.,  4000.,  4200.,  3950.,\n",
       "        3800.,  4300.,  4050.,  3950.,  4100.,  4050.,  4100.,  3950.,\n",
       "        3950.,  4300.,  4000.,  3950.,  3950.,  3975.,  3975.,  3900.,\n",
       "        4100.,  3900.,  4250.,  4075.,  4000.,  4100.,  4200.,  3950.,\n",
       "        4075.,  4000.,  3950.,  4200.,  4050.,  3850.,  3950.,  4000.,\n",
       "        4100.,  3950.,  3950.,  4075.,  3950.,  4000.,  4050.,  4000.,\n",
       "        3975.,  3975.,  4050.,  4350.,  4150.,  4250.,  3800.,  4300.,\n",
       "        4200.,  3900.,  4000.,  3950.,  4200.,  4100.,  4000.,  4075.,\n",
       "        3800.,  3950.,  4075.,  4150.,  4050.,  4050.,  4000.,  4050.,\n",
       "        3950.,  3975.,  3950.,  4100.,  4250.,  3950.,  4200.,  4050.,\n",
       "        4100.,  3950.,  4150.,  4100.,  4000.,  3800.,  3950.,  3950.,\n",
       "        4100.,  4300.,  4000.,  4050.,  3950.,  3900.,  4050.,  4150.,\n",
       "        4000.,  4000.,  3950.,  4100.,  3950.,  4050.,  3950.,  4300.,\n",
       "        4100.,  4050.,  4000.,  4000.,  4000.,  4050.,  4050.,  3950.,\n",
       "        4050.,  4000.,  4100.,  3950.,  3950.,  4100.,  4150.,  4075.,\n",
       "        4000.,  3950.,  4150.,  4150.,  4200.,  4100.,  4200.,  4100.,\n",
       "        3900.,  4000.,  4000.,  3950.,  4300.,  4000.,  4000.,  3950.,\n",
       "        3900.,  4150.,  3900.,  4200.,  3825.,  3950.,  4050.,  4150.,\n",
       "        4050.,  3950.,  4150.,  3950.,  3950.,  3975.,  4250.,  4050.,\n",
       "        3950.,  4000.,  4000.,  3950.,  4150.,  4050.,  3950.,  3950.,\n",
       "        3950.,  3950.,  3950.,  4000.,  4000.,  3950.,  3950.,  4000.,\n",
       "        4000.,  4050.,  4150.,  4050.,  4100.,  4050.,  4000.,  4200.,\n",
       "        3950.,  4150.,  4100.,  3950.,  4150.,  3950.,  4200.,  3900.,\n",
       "        3950.,  3950.,  3975.,  4000.,  4000.,  3950.,  4250.,  4150.,\n",
       "        4000.,  4050.,  4000.,  3950.,  4050.,  3950.,  3950.,  4050.,\n",
       "        4100.,  4050.,  4150.,  3900.,  3950.,  4000.,  3950.,  3850.,\n",
       "        3900.,  4000.,  4000.,  4050.,  4075.,  3950.,  4100.,  4050.,\n",
       "        4000.,  4100.,  4100.,  4050.,  4050.,  3950.,  3900.,  4000.,\n",
       "        4100.,  3950.,  3950.,  4050.,  4000.,  3900.,  3900.,  4000.,\n",
       "        4050.,  4000.,  4200.,  4050.,  4350.,  4200.,  4050.,  4050.,\n",
       "        3950.,  3975.,  4050.,  4300.,  3975.,  3975.,  3950.,  3950.,\n",
       "        3950.,  4075.,  4100.,  4000.,  4200.,  3900.,  4000.,  3950.,\n",
       "        3975.,  4050.,  3900.,  3800.,  4050.,  4050.,  3950.,  4050.,\n",
       "        4150.,  3900.,  4200.,  3900.,  3950.,  3950.,  4200.,  3950.,\n",
       "        4100.,  3950.,  4050.,  4050.,  3950.,  4075.,  4000.,  4150.,\n",
       "        4000.,  4300.,  4100.,  4250.,  4250.,  4200.,  4150.,  4250.,\n",
       "        4050.,  4200.,  4000.,  4200.,  3950.,  3950.,  3950.,  3850.,\n",
       "        3950.,  3950.,  3950.,  3950.,  4050.,  4100.,  4150.,  4075.,\n",
       "        3950.,  3950.,  3950.,  4000.,  4200.,  4250.,  3950.,  4100.,\n",
       "        4075.,  3975.,  4200.,  4200.,  3900.,  3975.,  3950.,  4100.,\n",
       "        4100.,  3950.,  3800.,  4200.,  4000.,  4050.,  4050.,  3900.,\n",
       "        3950.,  3950.,  4050.,  4250.,  4000.,  4050.,  3950.,  3950.,\n",
       "        3950.,  4050.,  4050.,  4200.,  3900.,  4100.,  4300.,  4100.,\n",
       "        4100.,  4000.,  3900.,  4200.,  4100.,  4050.,  4150.,  4000.,\n",
       "        4100.,  4250.,  4100.,  4050.,  4000.,  4050.,  4200.,  4050.,\n",
       "        4050.,  4150.,  4075.,  4050.,  3950.,  3950.,  4050.,  4050.,\n",
       "        4000.,  4050.,  4300.,  4150.,  4050.,  4050.,  4050.,  4050.,\n",
       "        4050.,  3950.,  4050.,  3950.,  4000.,  4000.,  4000.,  4300.,\n",
       "        3900.,  3950.,  4050.,  4050.,  3950.,  4100.,  4100.,  4050.,\n",
       "        3950.,  4150.,  4200.,  4000.,  4100.,  4075.,  4075.,  4150.,\n",
       "        4150.,  4050.,  4050.,  3900.,  3950.,  3950.,  4000.,  4200.,\n",
       "        4150.,  4275.,  4150.,  4050.,  4050.,  4100.,  4075.,  4050.,\n",
       "        4100.,  4050.,  4000.,  4150.,  3900.,  4050.,  4050.,  4000.,\n",
       "        4100.,  3800.,  3900.,  3950.,  4000.,  4050.,  4050.,  4150.,\n",
       "        4200.,  4250.,  4200.,  4200.,  4100.,  3950.,  3950.,  4200.,\n",
       "        4150.,  4000.,  4000.,  4150.,  4050.,  4000.,  4050.,  4000.,\n",
       "        4375.,  3950.,  4150.,  4050.,  4050.,  4050.,  4300.,  3950.,\n",
       "        3825.,  4100.,  3900.,  3950.,  4000.,  3950.,  4200.,  3900.,\n",
       "        4050.,  4200.,  3950.,  4050.,  4050.,  3950.,  3975.,  3950.,\n",
       "        4150.,  3900.,  4000.,  3950.,  3950.,  4050.,  3975.,  3975.,\n",
       "        3850.,  3900.,  3950.,  3850.,  4000.,  3900.,  3950.,  4050.,\n",
       "        3850.,  4200.,  4100.,  4050.,  4050.,  4050.,  4000.,  4150.,\n",
       "        3900.,  4200.,  4050.,  4050.,  4100.,  4250.,  4075.,  4050.,\n",
       "        3900.,  3950.,  3950.,  4150.,  4050.,  4200.,  3900.,  4000.,\n",
       "        4275.,  4000.,  3800.,  3900.,  3975.,  3950.,  4000.,  3950.,\n",
       "        3950.,  4050.,  4200.,  4000.,  4000.,  3950.,  3950.,  4100.,\n",
       "        4250.,  4200.,  3800.,  4050.,  4100.,  4200.,  4200.,  4000.,\n",
       "        3950.,  4150.,  3900.,  3900.,  3950.,  3975.,  4050.,  4200.,\n",
       "        4150.,  4050.,  4100.,  3950.,  4050.,  3900.,  4050.,  3875.,\n",
       "        3900.,  4150.,  4200.,  3900.,  4200.,  4150.,  4100.,  3950.])"
      ]
     },
     "execution_count": 290,
     "metadata": {},
     "output_type": "execute_result"
    }
   ],
   "source": [
    "bstrap_medians"
   ]
  },
  {
   "cell_type": "code",
   "execution_count": 296,
   "id": "690b2a91-66fc-4715-820e-22360629c5a4",
   "metadata": {},
   "outputs": [
    {
     "data": {
      "image/png": "[encoded data removed]",
      "text/plain": [
       "<Figure size 600x400 with 1 Axes>"
      ]
     },
     "metadata": {},
     "output_type": "display_data"
    }
   ],
   "source": [
    "resampled_medians = Table().with_column('Bootstrap Sample Median', bstrap_medians)\n",
    "#median_bins=np.arange(120000, 160000, 2000)\n",
    "resampled_medians.hist()\n",
    "plots.plot(mediana, 0, \"ro\",ms=10);"
   ]
  },
  {
   "cell_type": "code",
   "execution_count": 292,
   "id": "49a071fb-fe0e-4530-b6f7-18838732947e",
   "metadata": {},
   "outputs": [
    {
     "data": {
      "text/plain": [
       "4033.4250000000002"
      ]
     },
     "execution_count": 292,
     "metadata": {},
     "output_type": "execute_result"
    }
   ],
   "source": [
    "np.mean(bstrap_medians)"
   ]
  },
  {
   "cell_type": "code",
   "execution_count": 293,
   "id": "f988470c-0a46-49eb-9e15-e4ece7f457b6",
   "metadata": {},
   "outputs": [
    {
     "data": {
      "text/plain": [
       "4050.0"
      ]
     },
     "execution_count": 293,
     "metadata": {},
     "output_type": "execute_result"
    }
   ],
   "source": [
    "mediana"
   ]
  },
  {
   "cell_type": "markdown",
   "id": "236b569a-be99-4642-8ac9-b8b17e1bcc4f",
   "metadata": {},
   "source": [
    "# ¿Las estimaciones capturan el parametro?"
   ]
  },
  {
   "cell_type": "markdown",
   "id": "07802ab1-cf51-4cca-b951-396a2b6a1608",
   "metadata": {},
   "source": [
    "Calculemos El intervalo \"medio del 95 %\" de las estimaciones"
   ]
  },
  {
   "cell_type": "code",
   "execution_count": 294,
   "id": "198cefbd-179e-43e0-8afa-ece88bdb78c1",
   "metadata": {},
   "outputs": [
    {
     "data": {
      "text/plain": [
       "4250.0"
      ]
     },
     "execution_count": 294,
     "metadata": {},
     "output_type": "execute_result"
    }
   ],
   "source": [
    "left = percentile(2.5, bstrap_medians)\n",
    "right = percentile(97.5, bstrap_medians)\n",
    "right"
   ]
  },
  {
   "cell_type": "code",
   "execution_count": 297,
   "id": "8b1589c4-7fb4-4d35-80a5-1494886170c7",
   "metadata": {},
   "outputs": [
    {
     "data": {
      "image/png": "[encoded data removed]",
      "text/plain": [
       "<Figure size 600x400 with 1 Axes>"
      ]
     },
     "metadata": {},
     "output_type": "display_data"
    }
   ],
   "source": [
    "resampled_medians.hist()\n",
    "# Plotting parameters; you can ignore this code\n",
    "plots.plot([left, right], [0, 0], color='yellow', lw=10)\n",
    "#plots.scatter(pop_median, 0, color=parameter_green, s=40, zorder=2);\n",
    "plots.plot(mediana, 0, \"ro\",ms=10);"
   ]
  },
  {
   "cell_type": "markdown",
   "id": "e5ad27b9-94fb-47ce-be11-48723570d001",
   "metadata": {},
   "source": [
    "Calculemos El intervalo \"medio del 95 %\" de las estimaciones capturó el parámetro en nuestro ejemplo."
   ]
  },
  {
   "cell_type": "code",
   "execution_count": 299,
   "id": "5e256857-f4b2-427b-8acd-b199acf5bada",
   "metadata": {},
   "outputs": [],
   "source": [
    "def bootstrap_median(original_sample, num_repetitions):\n",
    "    medians = make_array()\n",
    "    for i in np.arange(num_repetitions):\n",
    "        new_bstrap_sample = original_sample.sample()\n",
    "        new_bstrap_median = percentile(50, new_bstrap_sample.column('body_mass_g'))\n",
    "        medians = np.append(medians, new_bstrap_median)\n",
    "    return medians"
   ]
  },
  {
   "cell_type": "code",
   "execution_count": 302,
   "id": "7bbb4d25-8ef0-48d1-8728-3c0b496fc895",
   "metadata": {},
   "outputs": [],
   "source": [
    "# THE BIG SIMULATION: This one takes several minutes.\n",
    "\n",
    "# Generate 100 intervals and put the endpoints in the table intervals\n",
    "left_ends = make_array()\n",
    "right_ends = make_array()\n",
    "\n",
    "for i in np.arange(100):\n",
    "   # print(i)\n",
    "    original_sample = penguins.select(\"body_mass_g\").sample(100, with_replacement=False)\n",
    "   # original_sample = sf2019.sample(500, with_replacement=False)\n",
    "    medians = bootstrap_median(original_sample, 100)#\n",
    "    left_ends = np.append(left_ends, percentile(2.5, medians))\n",
    "    right_ends = np.append(right_ends, percentile(97.5, medians))\n",
    "\n",
    "intervals = Table().with_columns(\n",
    "    'Left', left_ends,\n",
    "    'Right', right_ends\n",
    ")    "
   ]
  },
  {
   "cell_type": "code",
   "execution_count": 303,
   "id": "24cad2d4-afcb-45aa-aa25-12f5e0540892",
   "metadata": {},
   "outputs": [
    {
     "data": {
      "text/html": [
       "<table border=\"1\" class=\"dataframe\">\n",
       "    <thead>\n",
       "        <tr>\n",
       "            <th>Left</th> <th>Right</th>\n",
       "        </tr>\n",
       "    </thead>\n",
       "    <tbody>\n",
       "        <tr>\n",
       "            <td>3900</td> <td>4350 </td>\n",
       "        </tr>\n",
       "        <tr>\n",
       "            <td>3850</td> <td>4350 </td>\n",
       "        </tr>\n",
       "        <tr>\n",
       "            <td>3800</td> <td>4300 </td>\n",
       "        </tr>\n",
       "        <tr>\n",
       "            <td>3775</td> <td>4550 </td>\n",
       "        </tr>\n",
       "        <tr>\n",
       "            <td>3900</td> <td>4250 </td>\n",
       "        </tr>\n",
       "        <tr>\n",
       "            <td>3775</td> <td>4100 </td>\n",
       "        </tr>\n",
       "        <tr>\n",
       "            <td>3800</td> <td>4300 </td>\n",
       "        </tr>\n",
       "        <tr>\n",
       "            <td>3800</td> <td>4400 </td>\n",
       "        </tr>\n",
       "        <tr>\n",
       "            <td>3950</td> <td>4375 </td>\n",
       "        </tr>\n",
       "        <tr>\n",
       "            <td>3900</td> <td>4275 </td>\n",
       "        </tr>\n",
       "    </tbody>\n",
       "</table>\n",
       "<p>... (90 rows omitted)</p>"
      ],
      "text/plain": [
       "Left | Right\n",
       "3900 | 4350\n",
       "3850 | 4350\n",
       "3800 | 4300\n",
       "3775 | 4550\n",
       "3900 | 4250\n",
       "3775 | 4100\n",
       "3800 | 4300\n",
       "3800 | 4400\n",
       "3950 | 4375\n",
       "3900 | 4275\n",
       "... (90 rows omitted)"
      ]
     },
     "execution_count": 303,
     "metadata": {},
     "output_type": "execute_result"
    }
   ],
   "source": [
    "intervals"
   ]
  },
  {
   "cell_type": "code",
   "execution_count": 304,
   "id": "15fd0479-b7ab-4355-950e-b08b17c72bb2",
   "metadata": {},
   "outputs": [
    {
     "data": {
      "text/plain": [
       "135747.0"
      ]
     },
     "execution_count": 304,
     "metadata": {},
     "output_type": "execute_result"
    }
   ],
   "source": [
    "pop_median"
   ]
  },
  {
   "cell_type": "code",
   "execution_count": 305,
   "id": "11b4ec1a-dc87-469a-8f47-e907705b34a0",
   "metadata": {},
   "outputs": [
    {
     "data": {
      "text/plain": [
       "0"
      ]
     },
     "execution_count": 305,
     "metadata": {},
     "output_type": "execute_result"
    }
   ],
   "source": [
    "intervals.where(\n",
    "    'Left', are.below(pop_median)).where(\n",
    "    'Right', are.above(pop_median)).num_rows"
   ]
  },
  {
   "cell_type": "code",
   "execution_count": 313,
   "id": "ada77fe9-74ca-4028-83df-7fc5e0f11ec0",
   "metadata": {},
   "outputs": [],
   "source": [
    "left_values=intervals.column(0)\n",
    "right_values=intervals.column(1)\n",
    "interleaved_values = [val for pair in zip(left_values, right_values) for val in pair]\n",
    "pop_median_interleaved = list(range(1, len(interleaved_values) + 1))  # Ajustar posiciones"
   ]
  },
  {
   "cell_type": "code",
   "execution_count": 314,
   "id": "57ac49a8-3dac-4d73-ace7-03f34edf0dec",
   "metadata": {},
   "outputs": [
    {
     "data": {
      "text/plain": [
       "<matplotlib.lines.Line2D at 0x28e853cd0>"
      ]
     },
     "execution_count": 314,
     "metadata": {},
     "output_type": "execute_result"
    },
    {
     "data": {
      "image/png": "[encoded data removed]",
      "text/plain": [
       "<Figure size 640x480 with 1 Axes>"
      ]
     },
     "metadata": {},
     "output_type": "display_data"
    }
   ],
   "source": [
    "plots.plot(interleaved_values)\n",
    "plots.axhline(y=mediana, color='red', linestyle='--', alpha=0.5)"
   ]
  },
  {
   "cell_type": "markdown",
   "id": "7fadfde8-6283-4518-b44e-3a19c53108ee",
   "metadata": {},
   "source": [
    "# Estimaciones de los parametros\n",
    "\n",
    "- Dibuja una gran muestra aleatoria de la población.\n",
    "- Arranca tu muestra aleatoria y obtén una estimación de la nueva muestra aleatoria.\n",
    "- Repita el paso de arranque anterior miles de veces y obtenga miles de estimaciones.\n",
    "- Elija el intervalo \"95 % medio\" de todas las estimaciones.\n"
   ]
  },
  {
   "cell_type": "code",
   "execution_count": null,
   "id": "3779ea41-1e72-408f-acd0-221b12086a10",
   "metadata": {},
   "outputs": [],
   "source": []
  },
  {
   "cell_type": "code",
   "execution_count": 311,
   "id": "36f7efad-ea2e-47dd-b954-d069b94ef283",
   "metadata": {},
   "outputs": [
    {
     "data": {
      "text/plain": [
       "array([ 0.36,  0.64])"
      ]
     },
     "execution_count": 311,
     "metadata": {},
     "output_type": "execute_result"
    }
   ],
   "source": [
    "sample_proportions(100, make_array(0.4, 0.5))"
   ]
  },
  {
   "cell_type": "code",
   "execution_count": 312,
   "id": "8b03a6c8-02bd-4244-8313-e13052548a7e",
   "metadata": {},
   "outputs": [
    {
     "data": {
      "text/plain": [
       "\u001b[0;31mSignature:\u001b[0m \u001b[0msample_proportions\u001b[0m\u001b[0;34m(\u001b[0m\u001b[0msample_size\u001b[0m\u001b[0;34m,\u001b[0m \u001b[0mprobabilities\u001b[0m\u001b[0;34m)\u001b[0m\u001b[0;34m\u001b[0m\u001b[0;34m\u001b[0m\u001b[0m\n",
       "\u001b[0;31mDocstring:\u001b[0m\n",
       "Return the proportion of random draws for each outcome in a distribution.\n",
       "\n",
       "This function is similar to np.random.multinomial, but returns proportions\n",
       "instead of counts.\n",
       "\n",
       "Args:\n",
       "    ``sample_size``: The size of the sample to draw from the distribution.\n",
       "\n",
       "    ``probabilities``: An array of probabilities that forms a distribution.\n",
       "\n",
       "Returns:\n",
       "    An array with the same length as ``probability`` that sums to 1.\n",
       "\u001b[0;31mFile:\u001b[0m      ~/anaconda3/envs/data8/lib/python3.10/site-packages/datascience/util.py\n",
       "\u001b[0;31mType:\u001b[0m      function"
      ]
     },
     "metadata": {},
     "output_type": "display_data"
    }
   ],
   "source": [
    "sample_proportions?"
   ]
  },
  {
   "cell_type": "code",
   "execution_count": null,
   "id": "6884100a-90ab-4b0a-8408-89bf7f112dd2",
   "metadata": {},
   "outputs": [],
   "source": []
  }
 ],
 "metadata": {
  "kernelspec": {
   "display_name": "Python 3 (ipykernel)",
   "language": "python",
   "name": "python3"
  },
  "language_info": {
   "codemirror_mode": {
    "name": "ipython",
    "version": 3
   },
   "file_extension": ".py",
   "mimetype": "text/x-python",
   "name": "python",
   "nbconvert_exporter": "python",
   "pygments_lexer": "ipython3",
   "version": "3.10.14"
  }
 },
 "nbformat": 4,
 "nbformat_minor": 5
}
