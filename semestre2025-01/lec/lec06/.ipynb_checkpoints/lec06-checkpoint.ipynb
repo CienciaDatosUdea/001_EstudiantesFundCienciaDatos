{
 "cells": [
  {
   "cell_type": "code",
   "execution_count": 125,
   "id": "0f47e79d-b4ae-4bf0-9055-e45dbcea9667",
   "metadata": {},
   "outputs": [],
   "source": [
    "import numpy as np\n",
    "from  datascience import *\n",
    "import matplotlib.pylab as plt\n",
    "plt.style.use('fivethirtyeight')\n",
    "%matplotlib inline"
   ]
  },
  {
   "cell_type": "markdown",
   "id": "78f5de1e-8ccb-4482-893a-24c4e3fc3628",
   "metadata": {},
   "source": [
    "# Gráfico de cajas\n",
    "\n",
    "## Elementos químicos \n"
   ]
  },
  {
   "cell_type": "markdown",
   "id": "446429e6-f596-4817-a5eb-f137bbdf9cf9",
   "metadata": {},
   "source": [
    "# Gráficas"
   ]
  },
  {
   "cell_type": "markdown",
   "id": "49fe1032-d5fe-4536-a370-6ef34696ca16",
   "metadata": {},
   "source": [
    "# Gráficos de dispersión"
   ]
  },
  {
   "cell_type": "code",
   "execution_count": 126,
   "id": "87921de0-4289-41a8-8029-c3db1753347e",
   "metadata": {},
   "outputs": [
    {
     "data": {
      "text/html": [
       "<table border=\"1\" class=\"dataframe\">\n",
       "    <thead>\n",
       "        <tr>\n",
       "            <th>Ano</th> <th>Emisiones</th>\n",
       "        </tr>\n",
       "    </thead>\n",
       "    <tbody>\n",
       "        <tr>\n",
       "            <td>1940</td> <td>4.86     </td>\n",
       "        </tr>\n",
       "        <tr>\n",
       "            <td>1941</td> <td>4.97     </td>\n",
       "        </tr>\n",
       "        <tr>\n",
       "            <td>1942</td> <td>4.96     </td>\n",
       "        </tr>\n",
       "        <tr>\n",
       "            <td>1943</td> <td>5.04     </td>\n",
       "        </tr>\n",
       "        <tr>\n",
       "            <td>1944</td> <td>5.12     </td>\n",
       "        </tr>\n",
       "        <tr>\n",
       "            <td>1945</td> <td>4.26     </td>\n",
       "        </tr>\n",
       "        <tr>\n",
       "            <td>1946</td> <td>4.65     </td>\n",
       "        </tr>\n",
       "        <tr>\n",
       "            <td>1947</td> <td>5.15     </td>\n",
       "        </tr>\n",
       "        <tr>\n",
       "            <td>1948</td> <td>5.42     </td>\n",
       "        </tr>\n",
       "        <tr>\n",
       "            <td>1949</td> <td>5.18     </td>\n",
       "        </tr>\n",
       "    </tbody>\n",
       "</table>\n",
       "<p>... (74 rows omitted)</p>"
      ],
      "text/plain": [
       "Ano  | Emisiones\n",
       "1940 | 4.86\n",
       "1941 | 4.97\n",
       "1942 | 4.96\n",
       "1943 | 5.04\n",
       "1944 | 5.12\n",
       "1945 | 4.26\n",
       "1946 | 4.65\n",
       "1947 | 5.15\n",
       "1948 | 5.42\n",
       "1949 | 5.18\n",
       "... (74 rows omitted)"
      ]
     },
     "execution_count": 126,
     "metadata": {},
     "output_type": "execute_result"
    }
   ],
   "source": [
    "emisiones = Table().read_table(\"EmisionesCO2.csv\", sep=\";\")\n",
    "emisiones"
   ]
  },
  {
   "cell_type": "code",
   "execution_count": 127,
   "id": "17048a45-0279-40d7-927d-70d874bd9578",
   "metadata": {},
   "outputs": [
    {
     "data": {
      "text/plain": [
       "Text(0.5, 0, 'Año')"
      ]
     },
     "execution_count": 127,
     "metadata": {},
     "output_type": "execute_result"
    },
    {
     "data": {
      "image/png": "[encoded data removed]",
      "text/plain": [
       "<Figure size 500x500 with 1 Axes>"
      ]
     },
     "metadata": {},
     "output_type": "display_data"
    }
   ],
   "source": [
    "emisiones.scatter('Ano', 'Emisiones')\n",
    "plt.xlabel(\"Año\")"
   ]
  },
  {
   "cell_type": "markdown",
   "id": "38069581-5a62-40ad-a8a1-f52cffc479ab",
   "metadata": {},
   "source": [
    "# Actividad de clase\n",
    "\n",
    "### Emisiones de CO₂\n",
    "\n",
    "Las [**emisiones de CO₂**](https://es.wikipedia.org/wiki/Emisiones_de_di%C3%B3xido_de_carbono) se refieren a la liberación de dióxido de carbono (CO₂) a la atmósfera como resultado de diversas actividades humanas, principalmente la quema de combustibles fósiles (como carbón, petróleo y gas natural) para generar energía. Estas emisiones son una de las principales causas del **cambio climático**, ya que el CO₂ es un gas de efecto invernadero que atrapa el calor en la atmósfera, contribuyendo al calentamiento global.\n",
    "\n",
    "#### Principales fuentes de emisiones de CO₂:\n",
    "1. **Generación de energía**: La quema de combustibles fósiles para producir electricidad es una de las mayores fuentes de emisiones.\n",
    "2. **Transporte**: Los vehículos que funcionan con gasolina o diésel liberan CO₂ durante el proceso de combustión.\n",
    "3. **Industria**: Procesos industriales, como la fabricación de cemento, acero y productos químicos, también liberan grandes cantidades de CO₂.\n",
    "4. **Deforestación**: La tala de árboles y la quema de vegetación reducen la capacidad de los bosques para absorber CO₂.\n",
    "5. **Agricultura**: Aunque en menor medida, la agricultura también contribuye a las emisiones de CO₂, especialmente por el uso de maquinaria y la deforestación para la expansión agrícola.\n",
    "\n",
    "#### Impacto de las emisiones de CO₂:\n",
    "El aumento en las concentraciones de CO₂ en la atmósfera es un factor clave del cambio climático. Este gas intensifica el **efecto invernadero**, atrapando el calor en la superficie terrestre y provocando fenómenos como:\n",
    "- Calentamiento global.\n",
    "- Fenómenos climáticos extremos.\n",
    "- Derretimiento de glaciares.\n",
    "- Aumento del nivel del mar.\n",
    "- Cambios en los ecosistemas.\n",
    "\n",
    "### Ejemplo de aumento en las emisiones:\n",
    "Cuando hablamos de **emisiones de CO₂** con valores como **4.86** en 1940 y **8.19** en 1957, nos referimos a la cantidad de dióxido de carbono emitido, generalmente medido en gigatoneladas (Gt) o toneladas métricas per cápita. \n",
    "\n",
    "\n",
    "Estos números reflejan un aumento en las emisiones debido al crecimiento de actividades industriales y energéticas, lo que contribuyó significativamente a la liberación de más CO₂ en la atmósfera.\n",
    "\n",
    "\n",
    "- Revisa la tabla \"EmisionesCO2.csv\" y analiza el histórico de emisiones, datos tomados de este [sitio web](https://es.statista.com/estadisticas/635894/emisiones-mundiales-de-dioxido-de-carbono/) \n",
    "\n",
    "- Realiza una comparación del cambio de emisiones respecto al tiempo ¿Qué puede conclurir? \n"
   ]
  },
  {
   "cell_type": "markdown",
   "id": "376e9a8e-5dce-44e2-9a98-516b64b3c853",
   "metadata": {},
   "source": [
    "# Gráficos de lineas"
   ]
  },
  {
   "cell_type": "code",
   "execution_count": null,
   "id": "b6df324d-50bc-4bc2-9343-ebb1d2a5968d",
   "metadata": {},
   "outputs": [],
   "source": []
  },
  {
   "cell_type": "code",
   "execution_count": null,
   "id": "4be845ed-91c3-42ed-9a5b-1913d334844c",
   "metadata": {},
   "outputs": [],
   "source": []
  },
  {
   "cell_type": "code",
   "execution_count": null,
   "id": "3ea8499f-fc1a-4245-8913-495be5ec05af",
   "metadata": {},
   "outputs": [],
   "source": []
  },
  {
   "cell_type": "markdown",
   "id": "561165f2-39d3-4057-8811-80f79e66f60b",
   "metadata": {},
   "source": [
    "# Variables categóricas\n",
    "\n",
    "Una variable categórica es un tipo de variable que toma un conjunto limitado de valores posibles y cada uno de esos valores representa una categoría o un grupo. Estas variables no tienen un orden inherente, lo que significa que no se puede hacer una comparación natural entre sus valores (por ejemplo, no se puede decir que una categoría es \"mayor\" o \"menor\" que otra).\n",
    "\n",
    "**Nominales:** Las categorías no tienen un orden específico. Ejemplos incluyen el color de un automóvil (rojo, azul, verde) o el tipo de comida (italiana, mexicana, china).\n",
    "\n",
    "**Ordinales:** Las categorías tienen un orden lógico, pero la diferencia entre ellas no es medible o significativa. Ejemplo: nivel educativo (primaria, secundaria, universidad).\n",
    "\n",
    "\n",
    "Ejemplo: \n",
    "\n",
    "    - Nominales:\n",
    "    \n",
    "        - Color de ojos \n",
    "        \n",
    "        - Tipo de vehiculo\n",
    "        \n",
    "        - Estado civil \n",
    "\n",
    "    - Ordinales:\n",
    "    \n",
    "        - Talla de ropa: S, M, L XL\n",
    "        \n",
    "        - Grado escolar: primaria, secundaria, universitarios, posgrado\n",
    "        \n"
   ]
  },
  {
   "cell_type": "code",
   "execution_count": 128,
   "id": "977a4563-2ac4-41af-b646-c42dc55341db",
   "metadata": {},
   "outputs": [],
   "source": [
    "# Gráficas\n",
    "import matplotlib.pylab as plt\n",
    "%matplotlib inline"
   ]
  },
  {
   "cell_type": "code",
   "execution_count": 129,
   "id": "a629360d-8cbd-488b-90a9-a60c093bf9d8",
   "metadata": {},
   "outputs": [],
   "source": [
    "frutas = Table().with_columns(\"Fruta\", [\"Manzana\", \"Mangostino\",\"Mandrono\", \"Uva\", \"Pera\"], \\\n",
    "    \"Color\", [\"Rojo\", \"Cafe Oscuro\",\"Amarillo\",  \"Morado\", \"Verde\"], \\\n",
    "    \"Cantidad\", make_array(10, 20, 10, 100,20)  )"
   ]
  },
  {
   "cell_type": "code",
   "execution_count": 130,
   "id": "2b4db3d1-b80d-4676-94d7-6224e7ac7254",
   "metadata": {},
   "outputs": [
    {
     "data": {
      "text/html": [
       "<table border=\"1\" class=\"dataframe\">\n",
       "    <thead>\n",
       "        <tr>\n",
       "            <th>Fruta</th> <th>Color</th> <th>Cantidad</th>\n",
       "        </tr>\n",
       "    </thead>\n",
       "    <tbody>\n",
       "        <tr>\n",
       "            <td>Manzana   </td> <td>Rojo       </td> <td>10      </td>\n",
       "        </tr>\n",
       "        <tr>\n",
       "            <td>Mangostino</td> <td>Cafe Oscuro</td> <td>20      </td>\n",
       "        </tr>\n",
       "        <tr>\n",
       "            <td>Mandrono  </td> <td>Amarillo   </td> <td>10      </td>\n",
       "        </tr>\n",
       "        <tr>\n",
       "            <td>Uva       </td> <td>Morado     </td> <td>100     </td>\n",
       "        </tr>\n",
       "        <tr>\n",
       "            <td>Pera      </td> <td>Verde      </td> <td>20      </td>\n",
       "        </tr>\n",
       "    </tbody>\n",
       "</table>"
      ],
      "text/plain": [
       "Fruta      | Color       | Cantidad\n",
       "Manzana    | Rojo        | 10\n",
       "Mangostino | Cafe Oscuro | 20\n",
       "Mandrono   | Amarillo    | 10\n",
       "Uva        | Morado      | 100\n",
       "Pera       | Verde       | 20"
      ]
     },
     "execution_count": 130,
     "metadata": {},
     "output_type": "execute_result"
    }
   ],
   "source": [
    "frutas"
   ]
  },
  {
   "cell_type": "code",
   "execution_count": 131,
   "id": "73199e18-d5a2-4653-a54c-21b2664a65bc",
   "metadata": {},
   "outputs": [
    {
     "data": {
      "image/png": "[encoded data removed]",
      "text/plain": [
       "<Figure size 600x400 with 1 Axes>"
      ]
     },
     "metadata": {},
     "output_type": "display_data"
    }
   ],
   "source": [
    "frutas.barh(\"Fruta\", \"Cantidad\")"
   ]
  },
  {
   "cell_type": "code",
   "execution_count": 132,
   "id": "d2ff268a-920b-4eb0-a1c0-6caaa565bda5",
   "metadata": {},
   "outputs": [
    {
     "data": {
      "image/png": "[encoded data removed]",
      "text/plain": [
       "<Figure size 600x400 with 1 Axes>"
      ]
     },
     "metadata": {},
     "output_type": "display_data"
    }
   ],
   "source": [
    "frutas.sort(\"Cantidad\", descending = True).barh(\"Fruta\", \"Cantidad\")"
   ]
  },
  {
   "cell_type": "code",
   "execution_count": 133,
   "id": "56c56065-cf6e-4f9c-b018-e42e40ef8d8e",
   "metadata": {},
   "outputs": [],
   "source": [
    "# Operacion group by: "
   ]
  },
  {
   "cell_type": "code",
   "execution_count": 134,
   "id": "97612e9d-18a7-46ff-9df7-ce69aafa852e",
   "metadata": {},
   "outputs": [
    {
     "data": {
      "text/html": [
       "<table border=\"1\" class=\"dataframe\">\n",
       "    <thead>\n",
       "        <tr>\n",
       "            <th>Unnamed: 0</th> <th>Rank</th> <th>CCA3</th> <th>Country/Territory</th> <th>Capital</th> <th>Continent</th> <th>2022 Population</th> <th>2020 Population</th> <th>2015 Population</th> <th>2010 Population</th> <th>2000 Population</th> <th>1990 Population</th> <th>1980 Population</th> <th>1970 Population</th> <th>Area (km²)</th> <th>Density (per km²)</th> <th>Growth Rate</th> <th>World Population Percentage</th>\n",
       "        </tr>\n",
       "    </thead>\n",
       "    <tbody>\n",
       "        <tr>\n",
       "            <td>0         </td> <td>36  </td> <td>AFG </td> <td>Afghanistan        </td> <td>Kabul           </td> <td>Asia         </td> <td>41128771       </td> <td>38972230       </td> <td>33753499       </td> <td>28189672       </td> <td>19542982       </td> <td>10694796       </td> <td>12486631       </td> <td>10752971       </td> <td>652230    </td> <td>63.0587          </td> <td>1.0257     </td> <td>0.52                       </td>\n",
       "        </tr>\n",
       "        <tr>\n",
       "            <td>1         </td> <td>138 </td> <td>ALB </td> <td>Albania            </td> <td>Tirana          </td> <td>Europe       </td> <td>2842321        </td> <td>2866849        </td> <td>2882481        </td> <td>2913399        </td> <td>3182021        </td> <td>3295066        </td> <td>2941651        </td> <td>2324731        </td> <td>28748     </td> <td>98.8702          </td> <td>0.9957     </td> <td>0.04                       </td>\n",
       "        </tr>\n",
       "        <tr>\n",
       "            <td>2         </td> <td>34  </td> <td>DZA </td> <td>Algeria            </td> <td>Algiers         </td> <td>Africa       </td> <td>44903225       </td> <td>43451666       </td> <td>39543154       </td> <td>35856344       </td> <td>30774621       </td> <td>25518074       </td> <td>18739378       </td> <td>13795915       </td> <td>2381741   </td> <td>18.8531          </td> <td>1.0164     </td> <td>0.56                       </td>\n",
       "        </tr>\n",
       "        <tr>\n",
       "            <td>3         </td> <td>213 </td> <td>ASM </td> <td>American Samoa     </td> <td>Pago Pago       </td> <td>Oceania      </td> <td>44273          </td> <td>46189          </td> <td>51368          </td> <td>54849          </td> <td>58230          </td> <td>47818          </td> <td>32886          </td> <td>27075          </td> <td>199       </td> <td>222.477          </td> <td>0.9831     </td> <td>0                          </td>\n",
       "        </tr>\n",
       "        <tr>\n",
       "            <td>4         </td> <td>203 </td> <td>AND </td> <td>Andorra            </td> <td>Andorra la Vella</td> <td>Europe       </td> <td>79824          </td> <td>77700          </td> <td>71746          </td> <td>71519          </td> <td>66097          </td> <td>53569          </td> <td>35611          </td> <td>19860          </td> <td>468       </td> <td>170.564          </td> <td>1.01       </td> <td>0                          </td>\n",
       "        </tr>\n",
       "        <tr>\n",
       "            <td>5         </td> <td>42  </td> <td>AGO </td> <td>Angola             </td> <td>Luanda          </td> <td>Africa       </td> <td>35588987       </td> <td>33428485       </td> <td>28127721       </td> <td>23364185       </td> <td>16394062       </td> <td>11828638       </td> <td>8330047        </td> <td>6029700        </td> <td>1246700   </td> <td>28.5466          </td> <td>1.0315     </td> <td>0.45                       </td>\n",
       "        </tr>\n",
       "        <tr>\n",
       "            <td>6         </td> <td>224 </td> <td>AIA </td> <td>Anguilla           </td> <td>The Valley      </td> <td>North America</td> <td>15857          </td> <td>15585          </td> <td>14525          </td> <td>13172          </td> <td>11047          </td> <td>8316           </td> <td>6560           </td> <td>6283           </td> <td>91        </td> <td>174.253          </td> <td>1.0066     </td> <td>0                          </td>\n",
       "        </tr>\n",
       "        <tr>\n",
       "            <td>7         </td> <td>201 </td> <td>ATG </td> <td>Antigua and Barbuda</td> <td>Saint John’s    </td> <td>North America</td> <td>93763          </td> <td>92664          </td> <td>89941          </td> <td>85695          </td> <td>75055          </td> <td>63328          </td> <td>64888          </td> <td>64516          </td> <td>442       </td> <td>212.133          </td> <td>1.0058     </td> <td>0                          </td>\n",
       "        </tr>\n",
       "        <tr>\n",
       "            <td>8         </td> <td>33  </td> <td>ARG </td> <td>Argentina          </td> <td>Buenos Aires    </td> <td>South America</td> <td>45510318       </td> <td>45036032       </td> <td>43257065       </td> <td>41100123       </td> <td>37070774       </td> <td>32637657       </td> <td>28024803       </td> <td>23842803       </td> <td>2780400   </td> <td>16.3683          </td> <td>1.0052     </td> <td>0.57                       </td>\n",
       "        </tr>\n",
       "        <tr>\n",
       "            <td>9         </td> <td>140 </td> <td>ARM </td> <td>Armenia            </td> <td>Yerevan         </td> <td>Asia         </td> <td>2780469        </td> <td>2805608        </td> <td>2878595        </td> <td>2946293        </td> <td>3168523        </td> <td>3556539        </td> <td>3135123        </td> <td>2534377        </td> <td>29743     </td> <td>93.4831          </td> <td>0.9962     </td> <td>0.03                       </td>\n",
       "        </tr>\n",
       "    </tbody>\n",
       "</table>\n",
       "<p>... (224 rows omitted)</p>"
      ],
      "text/plain": [
       "Unnamed: 0 | Rank | CCA3 | Country/Territory   | Capital          | Continent     | 2022 Population | 2020 Population | 2015 Population | 2010 Population | 2000 Population | 1990 Population | 1980 Population | 1970 Population | Area (km²) | Density (per km²) | Growth Rate | World Population Percentage\n",
       "0          | 36   | AFG  | Afghanistan         | Kabul            | Asia          | 41128771        | 38972230        | 33753499        | 28189672        | 19542982        | 10694796        | 12486631        | 10752971        | 652230     | 63.0587           | 1.0257      | 0.52\n",
       "1          | 138  | ALB  | Albania             | Tirana           | Europe        | 2842321         | 2866849         | 2882481         | 2913399         | 3182021         | 3295066         | 2941651         | 2324731         | 28748      | 98.8702           | 0.9957      | 0.04\n",
       "2          | 34   | DZA  | Algeria             | Algiers          | Africa        | 44903225        | 43451666        | 39543154        | 35856344        | 30774621        | 25518074        | 18739378        | 13795915        | 2381741    | 18.8531           | 1.0164      | 0.56\n",
       "3          | 213  | ASM  | American Samoa      | Pago Pago        | Oceania       | 44273           | 46189           | 51368           | 54849           | 58230           | 47818           | 32886           | 27075           | 199        | 222.477           | 0.9831      | 0\n",
       "4          | 203  | AND  | Andorra             | Andorra la Vella | Europe        | 79824           | 77700           | 71746           | 71519           | 66097           | 53569           | 35611           | 19860           | 468        | 170.564           | 1.01        | 0\n",
       "5          | 42   | AGO  | Angola              | Luanda           | Africa        | 35588987        | 33428485        | 28127721        | 23364185        | 16394062        | 11828638        | 8330047         | 6029700         | 1246700    | 28.5466           | 1.0315      | 0.45\n",
       "6          | 224  | AIA  | Anguilla            | The Valley       | North America | 15857           | 15585           | 14525           | 13172           | 11047           | 8316            | 6560            | 6283            | 91         | 174.253           | 1.0066      | 0\n",
       "7          | 201  | ATG  | Antigua and Barbuda | Saint John’s     | North America | 93763           | 92664           | 89941           | 85695           | 75055           | 63328           | 64888           | 64516           | 442        | 212.133           | 1.0058      | 0\n",
       "8          | 33   | ARG  | Argentina           | Buenos Aires     | South America | 45510318        | 45036032        | 43257065        | 41100123        | 37070774        | 32637657        | 28024803        | 23842803        | 2780400    | 16.3683           | 1.0052      | 0.57\n",
       "9          | 140  | ARM  | Armenia             | Yerevan          | Asia          | 2780469         | 2805608         | 2878595         | 2946293         | 3168523         | 3556539         | 3135123         | 2534377         | 29743      | 93.4831           | 0.9962      | 0.03\n",
       "... (224 rows omitted)"
      ]
     },
     "execution_count": 134,
     "metadata": {},
     "output_type": "execute_result"
    }
   ],
   "source": [
    "poblacion = Table().read_table(\"poblacion_mundial.csv\")\n",
    "poblacion"
   ]
  },
  {
   "cell_type": "code",
   "execution_count": 135,
   "id": "f559f90c-5372-466c-8ac7-62acacc8c451",
   "metadata": {},
   "outputs": [
    {
     "data": {
      "text/plain": [
       "Text(0, 0.5, 'Continente')"
      ]
     },
     "execution_count": 135,
     "metadata": {},
     "output_type": "execute_result"
    },
    {
     "data": {
      "image/png": "[encoded data removed]",
      "text/plain": [
       "<Figure size 600x400 with 1 Axes>"
      ]
     },
     "metadata": {},
     "output_type": "display_data"
    }
   ],
   "source": [
    "poblacion.group(\"Continent\", sum).barh(\"Continent\", \"2022 Population sum\")\n",
    "plt.xlabel(\"Poblacion mundial 2n 2022\")\n",
    "plt.ylabel(\"Continente\")"
   ]
  },
  {
   "cell_type": "code",
   "execution_count": 136,
   "id": "17ea616e-adc1-4124-bcc0-bf5f02e4f4d2",
   "metadata": {},
   "outputs": [],
   "source": [
    "poblacion_continente = poblacion.group(\"Continent\", sum)"
   ]
  },
  {
   "cell_type": "code",
   "execution_count": 137,
   "id": "69946324-e7b5-43be-848a-cce5625c53d0",
   "metadata": {},
   "outputs": [],
   "source": [
    "pob_mundial = np.sum(poblacion_continente.column(\"2022 Population sum\"))"
   ]
  },
  {
   "cell_type": "code",
   "execution_count": 138,
   "id": "09128e93-9419-47e8-ab2e-e09ba80fda9b",
   "metadata": {},
   "outputs": [
    {
     "name": "stdout",
     "output_type": "stream",
     "text": [
      "Numero en notación científica 7.973413e+09\n",
      "Numero mostrado separado por comas 7,973,413,042\n"
     ]
    }
   ],
   "source": [
    "print(f\"Numero en notación científica {pob_mundial:.6e}\")\n",
    "print(f\"Numero mostrado separado por comas {pob_mundial:,}\")"
   ]
  },
  {
   "cell_type": "markdown",
   "id": "b93d0d5a-f214-469c-9b65-ce33c699ca9f",
   "metadata": {},
   "source": [
    "## Ejercicio de práctica\n",
    "\n",
    " Consideremos el siguiente ejemplo. El archivo `uso_intagram.csv` contiene información sobre el uso de Instagram a nivel mundial. Específicamente, incluye los datos de los principales países según el tamaño de su audiencia en Instagram hasta enero de 2024 (en millones), datos obtenidos del sitio web *Statistical*. Además, este dataset proporciona información sobre las poblaciones de cada país.\n",
    "\n",
    "Con base en esta información, realiza los siguientes gráficos tipo box plot:\n",
    "\n",
    "1. Un primer gráfico que muestre la distribución de la población.\n",
    "2. Un segundo gráfico que muestre el uso de redes sociales.\n",
    "3. Finalmente, grafica la densidad de uso de Instagram, calculada como la relación entre el uso de redes sociales y la población de cada país.\n"
   ]
  },
  {
   "cell_type": "code",
   "execution_count": null,
   "id": "9e9002b8-7d8b-4b66-a89e-84c4fdc4f7e0",
   "metadata": {},
   "outputs": [],
   "source": []
  },
  {
   "cell_type": "markdown",
   "id": "b8778fdc-a391-4251-b7bf-9dd68140198d",
   "metadata": {},
   "source": [
    "# Datos sobre cajas\n",
    "Analicemos los siguientes datos, generados de forma sintentica. Los siguientes datos, son datos de alturas de personas, generados de  forma aleatoria"
   ]
  },
  {
   "cell_type": "code",
   "execution_count": 139,
   "id": "8fcd2069-fde9-449d-a4ab-73798defd209",
   "metadata": {},
   "outputs": [
    {
     "data": {
      "text/html": [
       "<table border=\"1\" class=\"dataframe\">\n",
       "    <thead>\n",
       "        <tr>\n",
       "            <th>altura</th>\n",
       "        </tr>\n",
       "    </thead>\n",
       "    <tbody>\n",
       "        <tr>\n",
       "            <td>180.368</td>\n",
       "        </tr>\n",
       "        <tr>\n",
       "            <td>194.649</td>\n",
       "        </tr>\n",
       "        <tr>\n",
       "            <td>179.913</td>\n",
       "        </tr>\n",
       "        <tr>\n",
       "            <td>130.905</td>\n",
       "        </tr>\n",
       "        <tr>\n",
       "            <td>197.161</td>\n",
       "        </tr>\n",
       "        <tr>\n",
       "            <td>183.391</td>\n",
       "        </tr>\n",
       "        <tr>\n",
       "            <td>153.891</td>\n",
       "        </tr>\n",
       "        <tr>\n",
       "            <td>187.434</td>\n",
       "        </tr>\n",
       "        <tr>\n",
       "            <td>180.937</td>\n",
       "        </tr>\n",
       "        <tr>\n",
       "            <td>178.824</td>\n",
       "        </tr>\n",
       "    </tbody>\n",
       "</table>\n",
       "<p>... (50 rows omitted)</p>"
      ],
      "text/plain": [
       "altura\n",
       "180.368\n",
       "194.649\n",
       "179.913\n",
       "130.905\n",
       "197.161\n",
       "183.391\n",
       "153.891\n",
       "187.434\n",
       "180.937\n",
       "178.824\n",
       "... (50 rows omitted)"
      ]
     },
     "execution_count": 139,
     "metadata": {},
     "output_type": "execute_result"
    }
   ],
   "source": [
    "# Parámetros de la distribución\n",
    "media = 1.70  # Media de la distribución\n",
    "desviacion_estandar = 0.3  # Desviación estándar\n",
    "n_datos = 60  # Número de datos a generar\n",
    "rng = np.random.default_rng(seed=1)  # Establecer el random state\n",
    "datos = rng.normal(loc=media, scale=desviacion_estandar, size=n_datos)*100\n",
    "alturas = Table().with_columns(\"altura\", datos)\n",
    "alturas"
   ]
  },
  {
   "cell_type": "code",
   "execution_count": 140,
   "id": "5db85c90-e828-4e02-a184-fbe96e6026f6",
   "metadata": {},
   "outputs": [
    {
     "data": {
      "text/html": [
       "<table border=\"1\" class=\"dataframe\">\n",
       "    <thead>\n",
       "        <tr>\n",
       "            <th>bin</th> <th>altura count</th>\n",
       "        </tr>\n",
       "    </thead>\n",
       "    <tbody>\n",
       "        <tr>\n",
       "            <td>88.6651</td> <td>1           </td>\n",
       "        </tr>\n",
       "        <tr>\n",
       "            <td>104.762</td> <td>2           </td>\n",
       "        </tr>\n",
       "        <tr>\n",
       "            <td>120.858</td> <td>4           </td>\n",
       "        </tr>\n",
       "        <tr>\n",
       "            <td>136.955</td> <td>6           </td>\n",
       "        </tr>\n",
       "        <tr>\n",
       "            <td>153.052</td> <td>15          </td>\n",
       "        </tr>\n",
       "        <tr>\n",
       "            <td>169.148</td> <td>16          </td>\n",
       "        </tr>\n",
       "        <tr>\n",
       "            <td>185.245</td> <td>13          </td>\n",
       "        </tr>\n",
       "        <tr>\n",
       "            <td>201.342</td> <td>1           </td>\n",
       "        </tr>\n",
       "        <tr>\n",
       "            <td>217.438</td> <td>2           </td>\n",
       "        </tr>\n",
       "        <tr>\n",
       "            <td>233.535</td> <td>0           </td>\n",
       "        </tr>\n",
       "    </tbody>\n",
       "</table>"
      ],
      "text/plain": [
       "bin     | altura count\n",
       "88.6651 | 1\n",
       "104.762 | 2\n",
       "120.858 | 4\n",
       "136.955 | 6\n",
       "153.052 | 15\n",
       "169.148 | 16\n",
       "185.245 | 13\n",
       "201.342 | 1\n",
       "217.438 | 2\n",
       "233.535 | 0"
      ]
     },
     "execution_count": 140,
     "metadata": {},
     "output_type": "execute_result"
    }
   ],
   "source": [
    "alturas.bin(\"altura\", bins = 9)"
   ]
  },
  {
   "cell_type": "code",
   "execution_count": 141,
   "id": "39cd3031-da5c-44ce-aac3-1e3c89312bc9",
   "metadata": {},
   "outputs": [
    {
     "data": {
      "text/html": [
       "<table border=\"1\" class=\"dataframe\">\n",
       "    <thead>\n",
       "        <tr>\n",
       "            <th>bin</th> <th>altura count</th>\n",
       "        </tr>\n",
       "    </thead>\n",
       "    <tbody>\n",
       "        <tr>\n",
       "            <td>88.6651</td> <td>1           </td>\n",
       "        </tr>\n",
       "        <tr>\n",
       "            <td>104.762</td> <td>2           </td>\n",
       "        </tr>\n",
       "        <tr>\n",
       "            <td>120.858</td> <td>4           </td>\n",
       "        </tr>\n",
       "        <tr>\n",
       "            <td>136.955</td> <td>6           </td>\n",
       "        </tr>\n",
       "        <tr>\n",
       "            <td>153.052</td> <td>15          </td>\n",
       "        </tr>\n",
       "        <tr>\n",
       "            <td>169.148</td> <td>16          </td>\n",
       "        </tr>\n",
       "        <tr>\n",
       "            <td>185.245</td> <td>13          </td>\n",
       "        </tr>\n",
       "        <tr>\n",
       "            <td>201.342</td> <td>1           </td>\n",
       "        </tr>\n",
       "        <tr>\n",
       "            <td>217.438</td> <td>2           </td>\n",
       "        </tr>\n",
       "        <tr>\n",
       "            <td>233.535</td> <td>0           </td>\n",
       "        </tr>\n",
       "    </tbody>\n",
       "</table>"
      ],
      "text/plain": [
       "bin     | altura count\n",
       "88.6651 | 1\n",
       "104.762 | 2\n",
       "120.858 | 4\n",
       "136.955 | 6\n",
       "153.052 | 15\n",
       "169.148 | 16\n",
       "185.245 | 13\n",
       "201.342 | 1\n",
       "217.438 | 2\n",
       "233.535 | 0"
      ]
     },
     "execution_count": 141,
     "metadata": {},
     "output_type": "execute_result"
    }
   ],
   "source": [
    "alturas.bin(\"altura\", bins = np.linspace(min(datos), max(datos), 10))"
   ]
  },
  {
   "cell_type": "markdown",
   "id": "dcadc7bf-e372-4304-9981-ebc2666b1626",
   "metadata": {},
   "source": [
    "La anterior tabla muestra el conteo de alturas, con los siguiente detalles \n",
    "\n",
    "- Entre [88.6651, 104.762) hay 1 conteos\n",
    "\n",
    "- Entre [104.762, 120.858) hay 2 conteos y asi sucecivamente\n",
    "...\n",
    "\n"
   ]
  },
  {
   "cell_type": "markdown",
   "id": "c9607981-a741-4fef-9cdc-2ac9054d5320",
   "metadata": {},
   "source": [
    "Ahora leeamos los datos de estudiante y construyamos un gráfico de cajas ....(dem de clase)"
   ]
  },
  {
   "cell_type": "markdown",
   "id": "bd10dde2-7bf7-4a17-b152-af2b28babfcd",
   "metadata": {},
   "source": []
  },
  {
   "cell_type": "code",
   "execution_count": null,
   "id": "b16aa705-8e04-4f7b-8d28-df61cac12bd5",
   "metadata": {},
   "outputs": [],
   "source": []
  },
  {
   "cell_type": "markdown",
   "id": "71a91c0f-b335-43b5-a33a-1d5b333e9c9a",
   "metadata": {},
   "source": [
    "# Histograma\n",
    "\n",
    "Un histograma es una representación gráfica que muestra la distribución de un conjunto de datos numéricos. Se utiliza para visualizar cómo se distribuyen los valores de una variable en diferentes rangos (llamados bins o intervalos). A diferencia de un gráfico de barras tradicional, donde las barras representan categorías, en un histograma las barras representan frecuencias de datos que caen dentro de cada bin.\n",
    "\n",
    "## Características clave de un histograma:\n",
    "\n",
    "- **Eje horizontal (x):** Representa los intervalos o bins, que agrupan los datos en rangos. Cada bin cubre un rango específico de valores numéricos.\n",
    "\n",
    "- **Eje vertical (y):** Representa la frecuencia o el número de veces que los datos caen dentro de cada bin.\n",
    "\n",
    "Barras: La altura de cada barra refleja la cantidad de observaciones que caen dentro del bin correspondiente."
   ]
  },
  {
   "cell_type": "code",
   "execution_count": 144,
   "id": "aa3b0619-78ec-4fb1-9c0e-29eab7b0af63",
   "metadata": {},
   "outputs": [
    {
     "data": {
      "text/html": [
       "<table border=\"1\" class=\"dataframe\">\n",
       "    <thead>\n",
       "        <tr>\n",
       "            <th>altura</th>\n",
       "        </tr>\n",
       "    </thead>\n",
       "    <tbody>\n",
       "        <tr>\n",
       "            <td>180.368</td>\n",
       "        </tr>\n",
       "        <tr>\n",
       "            <td>194.649</td>\n",
       "        </tr>\n",
       "        <tr>\n",
       "            <td>179.913</td>\n",
       "        </tr>\n",
       "        <tr>\n",
       "            <td>130.905</td>\n",
       "        </tr>\n",
       "        <tr>\n",
       "            <td>197.161</td>\n",
       "        </tr>\n",
       "        <tr>\n",
       "            <td>183.391</td>\n",
       "        </tr>\n",
       "        <tr>\n",
       "            <td>153.891</td>\n",
       "        </tr>\n",
       "        <tr>\n",
       "            <td>187.434</td>\n",
       "        </tr>\n",
       "        <tr>\n",
       "            <td>180.937</td>\n",
       "        </tr>\n",
       "        <tr>\n",
       "            <td>178.824</td>\n",
       "        </tr>\n",
       "    </tbody>\n",
       "</table>\n",
       "<p>... (50 rows omitted)</p>"
      ],
      "text/plain": [
       "altura\n",
       "180.368\n",
       "194.649\n",
       "179.913\n",
       "130.905\n",
       "197.161\n",
       "183.391\n",
       "153.891\n",
       "187.434\n",
       "180.937\n",
       "178.824\n",
       "... (50 rows omitted)"
      ]
     },
     "execution_count": 144,
     "metadata": {},
     "output_type": "execute_result"
    }
   ],
   "source": [
    "alturas"
   ]
  },
  {
   "cell_type": "code",
   "execution_count": 145,
   "id": "a07a5d1d-c2e9-40ba-8eba-b707b4b9c93f",
   "metadata": {},
   "outputs": [
    {
     "data": {
      "text/plain": [
       "array([  88.66512563,  104.76179641,  120.85846719,  136.95513797,\n",
       "        153.05180875,  169.14847953,  185.24515031,  201.34182109,\n",
       "        217.43849187,  233.53516265])"
      ]
     },
     "execution_count": 145,
     "metadata": {},
     "output_type": "execute_result"
    }
   ],
   "source": [
    "bins = np.linspace(min(datos), max(datos), 10)\n",
    "bins"
   ]
  },
  {
   "cell_type": "code",
   "execution_count": 150,
   "id": "322d767e-3471-43ee-8786-60d11c173bf2",
   "metadata": {},
   "outputs": [
    {
     "data": {
      "text/plain": [
       "Text(0, 0.5, 'Porcentaje por cm')"
      ]
     },
     "execution_count": 150,
     "metadata": {},
     "output_type": "execute_result"
    },
    {
     "data": {
      "image/png": "[encoded data removed]",
      "text/plain": [
       "<Figure size 600x400 with 1 Axes>"
      ]
     },
     "metadata": {},
     "output_type": "display_data"
    }
   ],
   "source": [
    "alturas.hist(\"altura\", bins=bins, unit=\"cm\")\n",
    "plt.ylabel(\"Porcentaje por cm\")"
   ]
  },
  {
   "cell_type": "markdown",
   "id": "a05ed722-11cc-4fe1-a57e-36f2ed196b01",
   "metadata": {},
   "source": [
    "Entendamos este gráfico:\n",
    "\n",
    "Tomemos el bins comprendido entre 169.13 y 185.24. La separación entre datos es de 16.09, además de los datos anteriores, sabemos que hay 16 datos\n",
    "en ese bins,  entonces:\n",
    "\n",
    "El porcentaje de altura en ese bins es: \n",
    "\n",
    "$\\mathrm{PorcentajeAlturas} = (16/60)*100 = 26.6 % $\n",
    "\n",
    "\n",
    "Luego: \n",
    "\n",
    "$ \\frac{\\mathrm{PorcentajeAlturas}}{\\mathrm{Delta Altura}} = \\frac{26.6}{16.09} = 1.65 $\n",
    "\n",
    "En otras paralabras. el área de la barra representa A = 1.65x16.09 = 26.6 %,  porcentaje de datos sobre 60  que están en esa caja. \n"
   ]
  },
  {
   "cell_type": "markdown",
   "id": "b9178983-0730-43cd-acc3-95c2547818ba",
   "metadata": {},
   "source": [
    "# Principio del área.\n",
    "\n",
    "El principio del área es una regla fundamental en la visualización de datos que establece que el tamaño de los elementos visuales en un gráfico debe ser proporcional a la cantidad de datos que representan. En otras palabras, el área de cualquier elemento gráfico, como barras, puntos o segmentos, debe reflejar con precisión el valor o la frecuencia de los datos que está representando.\n",
    "\n",
    "## Aplicación en gráficos:\n",
    "\n",
    "En un histograma, el área de cada barra es proporcional a la frecuencia o cantidad de datos en ese intervalo (bin).\n",
    "En un gráfico de barras, la longitud de cada barra es proporcional al valor de la variable que representa.\n",
    "En gráficos más complejos, como los diagramas de sectores o gráficos de burbujas, el área de los sectores o burbujas debe ser proporcional a los valores de los datos.\n"
   ]
  },
  {
   "cell_type": "markdown",
   "id": "f009920b-3c9f-4dc4-b2b9-cceabe5d961f",
   "metadata": {},
   "source": [
    "Los [histogramas](\"https://inferentialthinking.com/chapters/07/2/Visualizing_Numerical_Distributions.html\") siguen el principio del área y tienen dos propiedades:\n",
    "\n",
    "- Las cajas se dibujan a escala y son contiguos (aunque algunos podrían estar vacíos), porque los valores en el eje horizontal son numéricos y, por lo tanto, tienen posiciones fijas en la línea numérica.\n",
    "\n",
    "- El área de cada barra es proporcional al número de entradas en el contenedor.\n",
    "\n",
    "\n",
    "`Area de la barra = Porcentaje de datos en el bin`\n",
    "\n",
    "`Altura de la barra =  Area de la barra/Ancho del bin`\n",
    "\n",
    "Las unidades del eje dependiente son : porcentaje por undidad en el eje horizontal, análogo a una densidad\n"
   ]
  },
  {
   "cell_type": "markdown",
   "id": "62de3e8a-b827-41ca-ac32-4afa4433855b",
   "metadata": {},
   "source": [
    "# Ejercicios\n",
    "\n",
    "Para analizar los datos sobre cajas miraremos la altura de diferentes estudiantes, para ello por favor ingresar su altura aproximada, en m en \n",
    "el siguiente [google form](https://forms.gle/9iB32Ro3vH3bHC8R8)\n",
    "\n",
    "\n",
    "1. Construir un histograma para los datos de altura construidos desde el formulario ...\n",
    "\n",
    "2 Con base al histograma cual es el porcentaje de estudiantes que tiene una altura máxima"
   ]
  },
  {
   "cell_type": "markdown",
   "id": "55443ddf-81a1-4ffe-a8ef-4cc68b52ba73",
   "metadata": {},
   "source": [
    "# Nota rapida para el laboratorio. (Funciones)\n",
    "\n",
    "```python\n",
    "def nombre_funcion(a, b):\n",
    "    \"\"\"\n",
    "    Esto realiza la suma de enteros\n",
    "    \"\"\"\n",
    "    return a + b\n",
    "```\n",
    "\n",
    "\n",
    "\n"
   ]
  },
  {
   "cell_type": "code",
   "execution_count": 158,
   "id": "ceae83ae-8766-42fd-b6aa-2ba73f4ddeaf",
   "metadata": {},
   "outputs": [
    {
     "data": {
      "text/html": [
       "<table border=\"1\" class=\"dataframe\">\n",
       "    <thead>\n",
       "        <tr>\n",
       "            <th>Pesona</th> <th>Edad</th>\n",
       "        </tr>\n",
       "    </thead>\n",
       "    <tbody>\n",
       "        <tr>\n",
       "            <td>A     </td> <td>17  </td>\n",
       "        </tr>\n",
       "        <tr>\n",
       "            <td>B     </td> <td>117 </td>\n",
       "        </tr>\n",
       "        <tr>\n",
       "            <td>C     </td> <td>52  </td>\n",
       "        </tr>\n",
       "        <tr>\n",
       "            <td>D     </td> <td>100 </td>\n",
       "        </tr>\n",
       "        <tr>\n",
       "            <td>E     </td> <td>6   </td>\n",
       "        </tr>\n",
       "        <tr>\n",
       "            <td>F     </td> <td>101 </td>\n",
       "        </tr>\n",
       "    </tbody>\n",
       "</table>"
      ],
      "text/plain": [
       "Pesona | Edad\n",
       "A      | 17\n",
       "B      | 117\n",
       "C      | 52\n",
       "D      | 100\n",
       "E      | 6\n",
       "F      | 101"
      ]
     },
     "execution_count": 158,
     "metadata": {},
     "output_type": "execute_result"
    }
   ],
   "source": [
    "def minimo_(x):\n",
    "    return min(x, 40)\n",
    "\n",
    "edades = Table().with_columns(\n",
    "    'Pesona', make_array('A', 'B', 'C', 'D', 'E', 'F'),\n",
    "    'Edad', make_array(17, 117, 52, 100, 6, 101)\n",
    ")\n",
    "edades\n"
   ]
  },
  {
   "cell_type": "code",
   "execution_count": 159,
   "id": "c005afcf-314f-45c6-8f97-e93feb610bea",
   "metadata": {},
   "outputs": [
    {
     "data": {
      "text/plain": [
       "array([17, 40, 40, 40,  6, 40])"
      ]
     },
     "execution_count": 159,
     "metadata": {},
     "output_type": "execute_result"
    }
   ],
   "source": [
    "edades.apply(minimo_, \"Edad\")"
   ]
  },
  {
   "cell_type": "code",
   "execution_count": 167,
   "id": "5d2c3802-c55b-4371-96fc-2c09a3a77e6d",
   "metadata": {},
   "outputs": [],
   "source": [
    "# Crear la tabla\n",
    "celulas = Table().with_columns(\n",
    "    'Tiempo', ['0s', '1s', '2s', '3s', '4s'],\n",
    "    'Concentracion_Celulas', ['1.0 %', ' 1.8%', ' 3.0%', '5.5 %', '10.0%' ]\n",
    ")\n"
   ]
  },
  {
   "cell_type": "code",
   "execution_count": 168,
   "id": "a9d26c44-de23-4ae5-950f-35813183da05",
   "metadata": {},
   "outputs": [
    {
     "ename": "SyntaxError",
     "evalue": "invalid syntax (31626416.py, line 2)",
     "output_type": "error",
     "traceback": [
      "\u001b[0;36m  Cell \u001b[0;32mIn[168], line 2\u001b[0;36m\u001b[0m\n\u001b[0;31m    Transformar.\u001b[0m\n\u001b[0m                ^\u001b[0m\n\u001b[0;31mSyntaxError\u001b[0m\u001b[0;31m:\u001b[0m invalid syntax\n"
     ]
    }
   ],
   "source": [
    "...\n",
    "Transformar."
   ]
  },
  {
   "cell_type": "markdown",
   "id": "1a1c3e7e-5ae6-4448-9e64-66afd3a9f873",
   "metadata": {},
   "source": [
    "# Superponiendo gráficos \n",
    "https://inferentialthinking.com/chapters/07/3/Overlaid_Graphs.html\n"
   ]
  }
 ],
 "metadata": {
  "kernelspec": {
   "display_name": "Python 3 (ipykernel)",
   "language": "python",
   "name": "python3"
  },
  "language_info": {
   "codemirror_mode": {
    "name": "ipython",
    "version": 3
   },
   "file_extension": ".py",
   "mimetype": "text/x-python",
   "name": "python",
   "nbconvert_exporter": "python",
   "pygments_lexer": "ipython3",
   "version": "3.10.14"
  }
 },
 "nbformat": 4,
 "nbformat_minor": 5
}
