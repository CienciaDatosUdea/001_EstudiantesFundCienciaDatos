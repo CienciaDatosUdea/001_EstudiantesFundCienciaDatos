{
 "cells": [
  {
   "cell_type": "code",
   "execution_count": 90,
   "id": "7e6577b8-ec69-4b4a-b1f0-aa7e27e4977c",
   "metadata": {},
   "outputs": [],
   "source": [
    "import numpy as np\n",
    "from  datascience import *\n",
    "import matplotlib.pylab as plt\n",
    "plt.style.use('fivethirtyeight')\n",
    "%matplotlib inline"
   ]
  },
  {
   "cell_type": "markdown",
   "id": "bb397b89-0759-410a-892a-19d82d3ff039",
   "metadata": {},
   "source": [
    "# Funciones"
   ]
  },
  {
   "cell_type": "code",
   "execution_count": 128,
   "id": "39e8f697-c91c-4001-b2e4-b47220375912",
   "metadata": {},
   "outputs": [],
   "source": [
    "def nombre_funcion(a, b):\n",
    "    \"\"\"\n",
    "    Esto realiza la suma de enteros\n",
    "    \"\"\"\n",
    "    return a + b"
   ]
  },
  {
   "cell_type": "code",
   "execution_count": 129,
   "id": "644eea68-cb4e-49e8-8c9c-73046af3accd",
   "metadata": {},
   "outputs": [
    {
     "data": {
      "text/plain": [
       "'hola mundo'"
      ]
     },
     "execution_count": 129,
     "metadata": {},
     "output_type": "execute_result"
    }
   ],
   "source": [
    "nombre_funcion(\"hola\", \" mundo\")"
   ]
  },
  {
   "cell_type": "code",
   "execution_count": 130,
   "id": "fc98dddd-d42c-4454-a9a6-a7b1388173ba",
   "metadata": {},
   "outputs": [
    {
     "data": {
      "text/plain": [
       "'Clase de Fundamentos de computación'"
      ]
     },
     "execution_count": 130,
     "metadata": {},
     "output_type": "execute_result"
    }
   ],
   "source": [
    "nombre_funcion(\"Clase de\", \" Fundamentos de computación\")"
   ]
  },
  {
   "cell_type": "code",
   "execution_count": 131,
   "id": "742a596e-ff0e-43d8-af6d-e359b70aef3c",
   "metadata": {},
   "outputs": [],
   "source": [
    "def suma_de_valores(a, b):\n",
    "    return a+b"
   ]
  },
  {
   "cell_type": "code",
   "execution_count": 132,
   "id": "1bc1e39d-b84b-4eb0-8639-a6943978b8eb",
   "metadata": {},
   "outputs": [
    {
     "data": {
      "text/plain": [
       "20"
      ]
     },
     "execution_count": 132,
     "metadata": {},
     "output_type": "execute_result"
    }
   ],
   "source": [
    "suma_de_valores(10, 10)"
   ]
  },
  {
   "cell_type": "code",
   "execution_count": 133,
   "id": "40790e60-14fa-4297-8c54-98edc876e9a3",
   "metadata": {},
   "outputs": [],
   "source": [
    "def es_par(n):\n",
    "    return n%2==0"
   ]
  },
  {
   "cell_type": "code",
   "execution_count": 134,
   "id": "392cc308-266b-41d4-8b6e-28dca7a330c1",
   "metadata": {},
   "outputs": [
    {
     "data": {
      "text/plain": [
       "False"
      ]
     },
     "execution_count": 134,
     "metadata": {},
     "output_type": "execute_result"
    }
   ],
   "source": [
    "es_par(3)"
   ]
  },
  {
   "cell_type": "code",
   "execution_count": null,
   "id": "71ff93fc-8618-4329-892f-589d585f8ce2",
   "metadata": {},
   "outputs": [],
   "source": []
  },
  {
   "cell_type": "code",
   "execution_count": 194,
   "id": "dda8eb60-6f9b-472f-893c-a65357a725ff",
   "metadata": {},
   "outputs": [
    {
     "ename": "SyntaxError",
     "evalue": "invalid syntax (1185261076.py, line 4)",
     "output_type": "error",
     "traceback": [
      "\u001b[0;36m  Cell \u001b[0;32mIn[194], line 4\u001b[0;36m\u001b[0m\n\u001b[0;31m    Crear una funcion que permita contar vocales dentro de un texto\u001b[0m\n\u001b[0m          ^\u001b[0m\n\u001b[0;31mSyntaxError\u001b[0m\u001b[0;31m:\u001b[0m invalid syntax\n"
     ]
    }
   ],
   "source": [
    "def contar_vocales(palabra):\n",
    "    ...\n",
    "    ...\n",
    "    Crear una funcion que permita contar vocales dentro de un texto\n"
   ]
  },
  {
   "cell_type": "markdown",
   "id": "03e46c27-1668-4395-bda9-7db3eb6c5038",
   "metadata": {},
   "source": [
    "# Repaso función apply \n",
    "\n",
    "Aplica una función a toda una columna,\n",
    "esta función puede ser una transformación de los datos, desde pasar de string \n",
    "a float o hacer operaciones con la columna.\n",
    "\n",
    "Sintaxis:\n",
    "```python \n",
    "table().apply(funcion, nombre_columna)\n",
    "```\n",
    "\n",
    "Veamos un ejemplo: \n",
    "\n",
    "\n",
    "Supongamos que tenemos una tabla con las columnas: `Tiempo` y `concentracion_celulas`, asociadas a un modelo \n",
    "de crecimiento de celulas, en las cuales, cada uno de los valores son variables tipo string\n"
   ]
  },
  {
   "cell_type": "code",
   "execution_count": 195,
   "id": "daa1b272-0b9b-403b-bd1d-6285cf458de8",
   "metadata": {},
   "outputs": [
    {
     "data": {
      "text/html": [
       "<table border=\"1\" class=\"dataframe\">\n",
       "    <thead>\n",
       "        <tr>\n",
       "            <th>Pesona</th> <th>Edad</th>\n",
       "        </tr>\n",
       "    </thead>\n",
       "    <tbody>\n",
       "        <tr>\n",
       "            <td>A     </td> <td>17  </td>\n",
       "        </tr>\n",
       "        <tr>\n",
       "            <td>B     </td> <td>117 </td>\n",
       "        </tr>\n",
       "        <tr>\n",
       "            <td>C     </td> <td>52  </td>\n",
       "        </tr>\n",
       "        <tr>\n",
       "            <td>D     </td> <td>100 </td>\n",
       "        </tr>\n",
       "        <tr>\n",
       "            <td>E     </td> <td>6   </td>\n",
       "        </tr>\n",
       "        <tr>\n",
       "            <td>F     </td> <td>101 </td>\n",
       "        </tr>\n",
       "    </tbody>\n",
       "</table>"
      ],
      "text/plain": [
       "Pesona | Edad\n",
       "A      | 17\n",
       "B      | 117\n",
       "C      | 52\n",
       "D      | 100\n",
       "E      | 6\n",
       "F      | 101"
      ]
     },
     "execution_count": 195,
     "metadata": {},
     "output_type": "execute_result"
    }
   ],
   "source": [
    "edades = Table().with_columns(\n",
    "    'Pesona', make_array('A', 'B', 'C', 'D', 'E', 'F'),\n",
    "    'Edad', make_array(17, 117, 52, 100, 6, 101)\n",
    ")\n",
    "edades"
   ]
  },
  {
   "cell_type": "code",
   "execution_count": 196,
   "id": "8aa199ad-6f1c-448b-9213-ed98ac209619",
   "metadata": {},
   "outputs": [],
   "source": [
    "def minimo_(x):\n",
    "    return min(x, 40)"
   ]
  },
  {
   "cell_type": "code",
   "execution_count": 197,
   "id": "979dfead-0878-47d2-8b5f-370f7dca2b87",
   "metadata": {},
   "outputs": [
    {
     "data": {
      "text/plain": [
       "array([17, 40, 40, 40,  6, 40])"
      ]
     },
     "execution_count": 197,
     "metadata": {},
     "output_type": "execute_result"
    }
   ],
   "source": [
    "edades.apply(minimo_, \"Edad\")"
   ]
  },
  {
   "cell_type": "code",
   "execution_count": 198,
   "id": "15318e47-6086-476a-a93d-9b3f496c833b",
   "metadata": {},
   "outputs": [
    {
     "data": {
      "text/html": [
       "<table border=\"1\" class=\"dataframe\">\n",
       "    <thead>\n",
       "        <tr>\n",
       "            <th>Pesona</th> <th>Edad</th>\n",
       "        </tr>\n",
       "    </thead>\n",
       "    <tbody>\n",
       "        <tr>\n",
       "            <td>A     </td> <td>17  </td>\n",
       "        </tr>\n",
       "        <tr>\n",
       "            <td>B     </td> <td>117 </td>\n",
       "        </tr>\n",
       "        <tr>\n",
       "            <td>C     </td> <td>52  </td>\n",
       "        </tr>\n",
       "        <tr>\n",
       "            <td>D     </td> <td>100 </td>\n",
       "        </tr>\n",
       "        <tr>\n",
       "            <td>E     </td> <td>6   </td>\n",
       "        </tr>\n",
       "        <tr>\n",
       "            <td>F     </td> <td>101 </td>\n",
       "        </tr>\n",
       "    </tbody>\n",
       "</table>"
      ],
      "text/plain": [
       "Pesona | Edad\n",
       "A      | 17\n",
       "B      | 117\n",
       "C      | 52\n",
       "D      | 100\n",
       "E      | 6\n",
       "F      | 101"
      ]
     },
     "execution_count": 198,
     "metadata": {},
     "output_type": "execute_result"
    }
   ],
   "source": [
    "edades = Table().with_columns(\n",
    "    'Pesona', make_array('A', 'B', 'C', 'D', 'E', 'F'),\n",
    "    'Edad', make_array(17, 117, 52, 100, 6, 101)\n",
    ")\n",
    "edades"
   ]
  },
  {
   "cell_type": "code",
   "execution_count": 199,
   "id": "e33c43bb-bce3-487a-a9d4-55f67e25a4d4",
   "metadata": {},
   "outputs": [
    {
     "data": {
      "text/plain": [
       "function"
      ]
     },
     "execution_count": 199,
     "metadata": {},
     "output_type": "execute_result"
    }
   ],
   "source": [
    "type(minimo_)"
   ]
  },
  {
   "cell_type": "code",
   "execution_count": 200,
   "id": "aa3b165a-7970-4d5d-b895-90870e52b053",
   "metadata": {},
   "outputs": [],
   "source": [
    "# Crear la tabla\n",
    "celulas = Table().with_columns(\n",
    "    'Tiempo', ['0s', '1s', '2s', '3s', '4s'],\n",
    "    'Concentracion_Celulas', ['1.0 %', ' 1.8%', ' 3.0%', '5.5 %', '10.0%' ]\n",
    ")"
   ]
  },
  {
   "cell_type": "code",
   "execution_count": 201,
   "id": "ab3e8c96-ef50-4183-980d-f8c6c916ec25",
   "metadata": {},
   "outputs": [
    {
     "data": {
      "text/html": [
       "<table border=\"1\" class=\"dataframe\">\n",
       "    <thead>\n",
       "        <tr>\n",
       "            <th>Tiempo</th> <th>Concentracion_Celulas</th>\n",
       "        </tr>\n",
       "    </thead>\n",
       "    <tbody>\n",
       "        <tr>\n",
       "            <td>0s    </td> <td>1.0 %                </td>\n",
       "        </tr>\n",
       "        <tr>\n",
       "            <td>1s    </td> <td> 1.8%                </td>\n",
       "        </tr>\n",
       "        <tr>\n",
       "            <td>2s    </td> <td> 3.0%                </td>\n",
       "        </tr>\n",
       "        <tr>\n",
       "            <td>3s    </td> <td>5.5 %                </td>\n",
       "        </tr>\n",
       "        <tr>\n",
       "            <td>4s    </td> <td>10.0%                </td>\n",
       "        </tr>\n",
       "    </tbody>\n",
       "</table>"
      ],
      "text/plain": [
       "Tiempo | Concentracion_Celulas\n",
       "0s     | 1.0 %\n",
       "1s     |  1.8%\n",
       "2s     |  3.0%\n",
       "3s     | 5.5 %\n",
       "4s     | 10.0%"
      ]
     },
     "execution_count": 201,
     "metadata": {},
     "output_type": "execute_result"
    }
   ],
   "source": [
    "celulas"
   ]
  },
  {
   "cell_type": "code",
   "execution_count": 202,
   "id": "f70fdb28-9053-4340-a788-43978110c27c",
   "metadata": {},
   "outputs": [
    {
     "data": {
      "text/plain": [
       "Ellipsis"
      ]
     },
     "execution_count": 202,
     "metadata": {},
     "output_type": "execute_result"
    }
   ],
   "source": [
    "..."
   ]
  },
  {
   "cell_type": "markdown",
   "id": "203b76f1-df11-451b-80dc-1d029676e6ca",
   "metadata": {},
   "source": []
  },
  {
   "cell_type": "code",
   "execution_count": 203,
   "id": "b9caff69-651b-467d-b517-7c51bc9216ca",
   "metadata": {},
   "outputs": [
    {
     "data": {
      "text/plain": [
       "Ellipsis"
      ]
     },
     "execution_count": 203,
     "metadata": {},
     "output_type": "execute_result"
    }
   ],
   "source": [
    "..."
   ]
  },
  {
   "cell_type": "code",
   "execution_count": 204,
   "id": "49fdf888-18cf-411e-8e83-da7c81505f81",
   "metadata": {},
   "outputs": [
    {
     "data": {
      "text/plain": [
       "Ellipsis"
      ]
     },
     "execution_count": 204,
     "metadata": {},
     "output_type": "execute_result"
    }
   ],
   "source": [
    "..."
   ]
  },
  {
   "cell_type": "code",
   "execution_count": 205,
   "id": "0cb7cc36-2216-437d-bc3a-37d12bd9b9a9",
   "metadata": {},
   "outputs": [
    {
     "ename": "SyntaxError",
     "evalue": "invalid syntax (1805539695.py, line 1)",
     "output_type": "error",
     "traceback": [
      "\u001b[0;36m  Cell \u001b[0;32mIn[205], line 1\u001b[0;36m\u001b[0m\n\u001b[0;31m    ....\u001b[0m\n\u001b[0m        ^\u001b[0m\n\u001b[0;31mSyntaxError\u001b[0m\u001b[0;31m:\u001b[0m invalid syntax\n"
     ]
    }
   ],
   "source": [
    "...."
   ]
  },
  {
   "cell_type": "code",
   "execution_count": null,
   "id": "c045c41e-d2c1-48a1-9882-f8b0fa9899be",
   "metadata": {},
   "outputs": [],
   "source": []
  },
  {
   "cell_type": "code",
   "execution_count": 206,
   "id": "f02ef1b8-ee32-43ca-b731-ecfeeb8d8086",
   "metadata": {},
   "outputs": [],
   "source": [
    "# Crear la tabla\n",
    "celulas = Table().with_columns(\n",
    "    'Tiempo', ['0s', '1s', '2s', '3s', '4s'],\n",
    "    'Concentracion_Celulas', ['1.0 %', ' 1.8%', ' 3.0%', '5.5 %', '10.0%' ]\n",
    ")"
   ]
  },
  {
   "cell_type": "markdown",
   "id": "1b0b7fe5-a6cb-462b-88fb-1c19ccad6ccc",
   "metadata": {},
   "source": [
    "Realicemos un cambio con la función apply, pero primero realicemos la operacion sobre un string, para poder construir la función general "
   ]
  },
  {
   "cell_type": "code",
   "execution_count": 207,
   "id": "4543cf18-af7b-4211-ae8d-1257e2013730",
   "metadata": {},
   "outputs": [],
   "source": [
    "a=\" 1.0% $\""
   ]
  },
  {
   "cell_type": "code",
   "execution_count": 208,
   "id": "8de973fa-a00a-4857-9ae5-68153f2dfbb6",
   "metadata": {},
   "outputs": [
    {
     "data": {
      "text/plain": [
       "' 1.0 $'"
      ]
     },
     "execution_count": 208,
     "metadata": {},
     "output_type": "execute_result"
    }
   ],
   "source": [
    "a.replace(\"%\", \"\")"
   ]
  },
  {
   "cell_type": "code",
   "execution_count": 209,
   "id": "322f66e6-6daa-4f61-8c60-adccf5e34ec0",
   "metadata": {},
   "outputs": [
    {
     "data": {
      "text/plain": [
       "' 1.0 $'"
      ]
     },
     "execution_count": 209,
     "metadata": {},
     "output_type": "execute_result"
    }
   ],
   "source": [
    "a.replace(\"%\", \"\")"
   ]
  },
  {
   "cell_type": "code",
   "execution_count": 210,
   "id": "7aa9ee52-85ea-4e89-90f3-a478604f68cb",
   "metadata": {},
   "outputs": [
    {
     "data": {
      "text/plain": [
       "' 1.0 '"
      ]
     },
     "execution_count": 210,
     "metadata": {},
     "output_type": "execute_result"
    }
   ],
   "source": [
    "a.replace(\"%\", \"\").replace(\"$\",\"\")"
   ]
  },
  {
   "cell_type": "code",
   "execution_count": 211,
   "id": "b3da9d8d-cfef-4245-8a7a-e37778d5941b",
   "metadata": {},
   "outputs": [
    {
     "data": {
      "text/plain": [
       "'1.0'"
      ]
     },
     "execution_count": 211,
     "metadata": {},
     "output_type": "execute_result"
    }
   ],
   "source": [
    "a.replace(\"%\", \"\").replace(\"$\",\"\").strip()"
   ]
  },
  {
   "cell_type": "markdown",
   "id": "1bb111e2-b19a-48ff-82b5-885d22f4a041",
   "metadata": {},
   "source": [
    "Construyendo la función..."
   ]
  },
  {
   "cell_type": "code",
   "execution_count": 212,
   "id": "99780b07-c13e-4922-b602-5c5dfa5f866a",
   "metadata": {},
   "outputs": [],
   "source": [
    "def to_float(x):\n",
    "    \"\"\" convert a variable with % or $ and space to float \"\"\"    \n",
    "    return float(x.replace(\"%\", \"\").replace(\"s\",\"\").strip())"
   ]
  },
  {
   "cell_type": "code",
   "execution_count": 213,
   "id": "1bae3d59-0861-45fb-9bc5-c92f4d4ad00a",
   "metadata": {},
   "outputs": [
    {
     "data": {
      "text/plain": [
       "array(['0s', '1s', '2s', '3s', '4s'],\n",
       "      dtype='<U2')"
      ]
     },
     "execution_count": 213,
     "metadata": {},
     "output_type": "execute_result"
    }
   ],
   "source": [
    "celulas.column(\"Tiempo\")"
   ]
  },
  {
   "cell_type": "code",
   "execution_count": 214,
   "id": "3206b12a-929f-4bd3-aef2-8eeeacdb4145",
   "metadata": {},
   "outputs": [
    {
     "data": {
      "text/plain": [
       "array([  1. ,   1.8,   3. ,   5.5,  10. ])"
      ]
     },
     "execution_count": 214,
     "metadata": {},
     "output_type": "execute_result"
    }
   ],
   "source": [
    "celulas.apply(to_float, \"Concentracion_Celulas\")"
   ]
  },
  {
   "cell_type": "code",
   "execution_count": 215,
   "id": "063fe21d-ecf7-4ee8-9a1a-a4aca9caa69b",
   "metadata": {},
   "outputs": [
    {
     "data": {
      "text/plain": [
       "array([ 0.,  1.,  2.,  3.,  4.])"
      ]
     },
     "execution_count": 215,
     "metadata": {},
     "output_type": "execute_result"
    }
   ],
   "source": [
    "celulas.apply(to_float, \"Tiempo\")"
   ]
  },
  {
   "cell_type": "markdown",
   "id": "d491f760-681a-44b8-ae9e-12bfed8ee659",
   "metadata": {},
   "source": [
    "ya que sabemos como funciona y que opera bien, agreguemos las nuevas columnas en el conjunto de datos."
   ]
  },
  {
   "cell_type": "code",
   "execution_count": 216,
   "id": "edddbfc3-874e-4022-9781-a8e1d71b5e0f",
   "metadata": {},
   "outputs": [],
   "source": [
    "celulas = celulas.with_column(\"Tiempo_h\", celulas.apply(to_float, \"Tiempo\"))\n",
    "celulas = celulas.with_column(\"Concentracion_Celulas_\", celulas.apply(to_float, \"Concentracion_Celulas\"))"
   ]
  },
  {
   "cell_type": "code",
   "execution_count": 217,
   "id": "a6bbc604-aac5-45b9-b0ec-61af07181a90",
   "metadata": {},
   "outputs": [
    {
     "data": {
      "image/png": "[encoded data removed]",
      "text/plain": [
       "<Figure size 600x600 with 1 Axes>"
      ]
     },
     "metadata": {},
     "output_type": "display_data"
    }
   ],
   "source": [
    "celulas.plot(\"Tiempo_h\", \"Concentracion_Celulas_\")"
   ]
  },
  {
   "cell_type": "markdown",
   "id": "dc26e742-2c59-4dc3-8ae3-df9d636a4ad5",
   "metadata": {},
   "source": [
    "# Operación `Group`"
   ]
  },
  {
   "cell_type": "code",
   "execution_count": 218,
   "id": "57c75de4-d0f1-4c11-9621-58c1fbb55f42",
   "metadata": {},
   "outputs": [
    {
     "data": {
      "text/html": [
       "<table border=\"1\" class=\"dataframe\">\n",
       "    <thead>\n",
       "        <tr>\n",
       "            <th>Individuo</th> <th>Practica Ejercicio</th> <th>Satisfacción con la Vida (1-10)</th> <th>Horas de Ejercicio por Semana</th>\n",
       "        </tr>\n",
       "    </thead>\n",
       "    <tbody>\n",
       "        <tr>\n",
       "            <td>Persona 1</td> <td>Sí                </td> <td>8                              </td> <td>5                            </td>\n",
       "        </tr>\n",
       "        <tr>\n",
       "            <td>Persona 2</td> <td>No                </td> <td>5                              </td> <td>0                            </td>\n",
       "        </tr>\n",
       "        <tr>\n",
       "            <td>Persona 3</td> <td>Sí                </td> <td>7                              </td> <td>6                            </td>\n",
       "        </tr>\n",
       "        <tr>\n",
       "            <td>Persona 4</td> <td>No                </td> <td>4                              </td> <td>0                            </td>\n",
       "        </tr>\n",
       "        <tr>\n",
       "            <td>Persona 5</td> <td>Sí                </td> <td>9                              </td> <td>4                            </td>\n",
       "        </tr>\n",
       "        <tr>\n",
       "            <td>Persona 6</td> <td>No                </td> <td>6                              </td> <td>0                            </td>\n",
       "        </tr>\n",
       "        <tr>\n",
       "            <td>Persona 7</td> <td>Sí                </td> <td>7                              </td> <td>7                            </td>\n",
       "        </tr>\n",
       "        <tr>\n",
       "            <td>Persona 8</td> <td>No                </td> <td>3                              </td> <td>0                            </td>\n",
       "        </tr>\n",
       "    </tbody>\n",
       "</table>"
      ],
      "text/plain": [
       "<IPython.core.display.HTML object>"
      ]
     },
     "metadata": {},
     "output_type": "display_data"
    }
   ],
   "source": [
    "# Crear la tabla\n",
    "satisfaccion = Table().with_columns(\n",
    "    'Individuo', make_array('Persona 1', 'Persona 2', 'Persona 3', 'Persona 4', 'Persona 5', 'Persona 6', 'Persona 7', 'Persona 8'),\n",
    "    'Practica Ejercicio', make_array('Sí', 'No', 'Sí', 'No', 'Sí', 'No', 'Sí', 'No'),\n",
    "    'Satisfacción con la Vida (1-10)', make_array(8, 5, 7, 4, 9, 6, 7, 3),\n",
    "    'Horas de Ejercicio por Semana', make_array(5, 0, 6, 0, 4, 0, 7, 0)\n",
    ")\n",
    "\n",
    "satisfaccion.show()\n"
   ]
  },
  {
   "cell_type": "code",
   "execution_count": 219,
   "id": "3e66e57e-7f2b-4461-93f1-af4f9ff6fa81",
   "metadata": {},
   "outputs": [
    {
     "data": {
      "text/html": [
       "<table border=\"1\" class=\"dataframe\">\n",
       "    <thead>\n",
       "        <tr>\n",
       "            <th>Practica Ejercicio</th> <th>count</th>\n",
       "        </tr>\n",
       "    </thead>\n",
       "    <tbody>\n",
       "        <tr>\n",
       "            <td>No                </td> <td>4    </td>\n",
       "        </tr>\n",
       "        <tr>\n",
       "            <td>Sí                </td> <td>4    </td>\n",
       "        </tr>\n",
       "    </tbody>\n",
       "</table>"
      ],
      "text/plain": [
       "Practica Ejercicio | count\n",
       "No                 | 4\n",
       "Sí                 | 4"
      ]
     },
     "execution_count": 219,
     "metadata": {},
     "output_type": "execute_result"
    }
   ],
   "source": [
    "satisfaccion.group(\"Practica Ejercicio\")"
   ]
  },
  {
   "cell_type": "markdown",
   "id": "bee82dde-52e6-46ea-a7bf-5e22912040c7",
   "metadata": {},
   "source": [
    "Otro ejemplo:\n",
    "\n",
    "Supongamos que tenemos la siguiente tabla de libros clasicos: "
   ]
  },
  {
   "cell_type": "code",
   "execution_count": 220,
   "id": "faf0d26c-6c15-4a14-8f37-1fd35799725b",
   "metadata": {},
   "outputs": [],
   "source": [
    "from datascience import *\n",
    "\n",
    "# Crear la tabla con 20 libros\n",
    "libros = Table().with_columns(\n",
    "    'Titulo', make_array(\n",
    "        'Cien Años de Soledad', 'El Quijote', '1984', 'Orgullo y Prejuicio', 'Crimen y Castigo', \n",
    "        'El Principito', 'Don Juan Tenorio', 'Matar a un Ruiseñor', 'La Odisea', 'El Gran Gatsby',\n",
    "        'Fahrenheit 451', 'La Metamorfosis', 'El Retrato de Dorian Gray', 'Hamlet', 'Macbeth',\n",
    "        'La Ilíada', 'El Señor de los Anillos', 'Drácula', 'Los Miserables', 'La Divina Comedia'),\n",
    "    \n",
    "    'Autor', make_array(\n",
    "        'Gabriel García Márquez', 'Miguel de Cervantes', 'George Orwell', 'Jane Austen', 'Fiódor Dostoyevski', \n",
    "        'Antoine de Saint-Exupéry', 'José Zorrilla', 'Harper Lee', 'Homero', 'F. Scott Fitzgerald', \n",
    "        'Ray Bradbury', 'Franz Kafka', 'Oscar Wilde', 'William Shakespeare', 'William Shakespeare',\n",
    "        'Homero', 'J. R. R. Tolkien', 'Bram Stoker', 'Victor Hugo', 'Dante Alighieri'),\n",
    "    \n",
    "    'Genero', make_array(\n",
    "        'Ficción', 'Clásico', 'Ciencia Ficción', 'Romance', 'Clásico', \n",
    "        'Ficción', 'Clásico', 'Ficción', 'Clásico', 'Ficción',\n",
    "        'Ciencia Ficción', 'Ficción', 'Clásico', 'Clásico', 'Clásico',\n",
    "        'Clásico', 'Fantasía', 'Terror', 'Clásico', 'Clásico'),\n",
    "    \n",
    "    'Precio (COP)', make_array(\n",
    "        45000, 60000, 40000, 38000, 52000, \n",
    "        35000, 30000, 45000, 32000, 42000,\n",
    "        37000, 25000, 48000, 51000, 50000,\n",
    "        30000, 70000, 35000, 68000, 63000),\n",
    "    \n",
    "    'Anio de Publicacion', make_array(\n",
    "        1967, 1605, 1949, 1813, 1866,\n",
    "        1943, 1844, 1960, 'Siglo VIII a.C.', 1925,\n",
    "        1953, 1915, 1890, 1603, 1606,\n",
    "        'Siglo VIII a.C.', 1954, 1897, 1862, 1320),\n",
    "    \n",
    "    'Calificacion (1-5)', make_array(\n",
    "        4.8, 4.9, 4.7, 4.6, 4.8, \n",
    "        4.7, 4.4, 4.9, 4.6, 4.8,\n",
    "        4.6, 4.5, 4.7, 4.9, 4.8,\n",
    "        4.6, 4.9, 4.7, 4.9, 4.9)\n",
    ")"
   ]
  },
  {
   "cell_type": "code",
   "execution_count": 221,
   "id": "073bce50-f4e5-45ce-933f-427fa1485cc5",
   "metadata": {},
   "outputs": [
    {
     "data": {
      "text/html": [
       "<table border=\"1\" class=\"dataframe\">\n",
       "    <thead>\n",
       "        <tr>\n",
       "            <th>Titulo</th> <th>Autor</th> <th>Genero</th> <th>Precio (COP)</th> <th>Anio de Publicacion</th> <th>Calificacion (1-5)</th>\n",
       "        </tr>\n",
       "    </thead>\n",
       "    <tbody>\n",
       "        <tr>\n",
       "            <td>Cien Años de Soledad</td> <td>Gabriel García Márquez  </td> <td>Ficción        </td> <td>45000       </td> <td>1967               </td> <td>4.8               </td>\n",
       "        </tr>\n",
       "        <tr>\n",
       "            <td>El Quijote          </td> <td>Miguel de Cervantes     </td> <td>Clásico        </td> <td>60000       </td> <td>1605               </td> <td>4.9               </td>\n",
       "        </tr>\n",
       "        <tr>\n",
       "            <td>1984                </td> <td>George Orwell           </td> <td>Ciencia Ficción</td> <td>40000       </td> <td>1949               </td> <td>4.7               </td>\n",
       "        </tr>\n",
       "        <tr>\n",
       "            <td>Orgullo y Prejuicio </td> <td>Jane Austen             </td> <td>Romance        </td> <td>38000       </td> <td>1813               </td> <td>4.6               </td>\n",
       "        </tr>\n",
       "        <tr>\n",
       "            <td>Crimen y Castigo    </td> <td>Fiódor Dostoyevski      </td> <td>Clásico        </td> <td>52000       </td> <td>1866               </td> <td>4.8               </td>\n",
       "        </tr>\n",
       "        <tr>\n",
       "            <td>El Principito       </td> <td>Antoine de Saint-Exupéry</td> <td>Ficción        </td> <td>35000       </td> <td>1943               </td> <td>4.7               </td>\n",
       "        </tr>\n",
       "        <tr>\n",
       "            <td>Don Juan Tenorio    </td> <td>José Zorrilla           </td> <td>Clásico        </td> <td>30000       </td> <td>1844               </td> <td>4.4               </td>\n",
       "        </tr>\n",
       "        <tr>\n",
       "            <td>Matar a un Ruiseñor </td> <td>Harper Lee              </td> <td>Ficción        </td> <td>45000       </td> <td>1960               </td> <td>4.9               </td>\n",
       "        </tr>\n",
       "        <tr>\n",
       "            <td>La Odisea           </td> <td>Homero                  </td> <td>Clásico        </td> <td>32000       </td> <td>Siglo VIII a.C.    </td> <td>4.6               </td>\n",
       "        </tr>\n",
       "        <tr>\n",
       "            <td>El Gran Gatsby      </td> <td>F. Scott Fitzgerald     </td> <td>Ficción        </td> <td>42000       </td> <td>1925               </td> <td>4.8               </td>\n",
       "        </tr>\n",
       "    </tbody>\n",
       "</table>\n",
       "<p>... (10 rows omitted)</p>"
      ],
      "text/plain": [
       "Titulo               | Autor                    | Genero          | Precio (COP) | Anio de Publicacion | Calificacion (1-5)\n",
       "Cien Años de Soledad | Gabriel García Márquez   | Ficción         | 45000        | 1967                | 4.8\n",
       "El Quijote           | Miguel de Cervantes      | Clásico         | 60000        | 1605                | 4.9\n",
       "1984                 | George Orwell            | Ciencia Ficción | 40000        | 1949                | 4.7\n",
       "Orgullo y Prejuicio  | Jane Austen              | Romance         | 38000        | 1813                | 4.6\n",
       "Crimen y Castigo     | Fiódor Dostoyevski       | Clásico         | 52000        | 1866                | 4.8\n",
       "El Principito        | Antoine de Saint-Exupéry | Ficción         | 35000        | 1943                | 4.7\n",
       "Don Juan Tenorio     | José Zorrilla            | Clásico         | 30000        | 1844                | 4.4\n",
       "Matar a un Ruiseñor  | Harper Lee               | Ficción         | 45000        | 1960                | 4.9\n",
       "La Odisea            | Homero                   | Clásico         | 32000        | Siglo VIII a.C.     | 4.6\n",
       "El Gran Gatsby       | F. Scott Fitzgerald      | Ficción         | 42000        | 1925                | 4.8\n",
       "... (10 rows omitted)"
      ]
     },
     "execution_count": 221,
     "metadata": {},
     "output_type": "execute_result"
    }
   ],
   "source": [
    "libros"
   ]
  },
  {
   "cell_type": "code",
   "execution_count": 222,
   "id": "5d057e07-714d-48ca-b554-541f4968afe1",
   "metadata": {},
   "outputs": [
    {
     "data": {
      "text/html": [
       "<table border=\"1\" class=\"dataframe\">\n",
       "    <thead>\n",
       "        <tr>\n",
       "            <th>Genero</th> <th>Titulo mean</th> <th>Autor mean</th> <th>Precio (COP) mean</th> <th>Anio de Publicacion mean</th> <th>Calificacion (1-5) mean</th>\n",
       "        </tr>\n",
       "    </thead>\n",
       "    <tbody>\n",
       "        <tr>\n",
       "            <td>Ciencia Ficción</td> <td>           </td> <td>          </td> <td>38500            </td> <td>                        </td> <td>4.65                   </td>\n",
       "        </tr>\n",
       "        <tr>\n",
       "            <td>Clásico        </td> <td>           </td> <td>          </td> <td>48400            </td> <td>                        </td> <td>4.75                   </td>\n",
       "        </tr>\n",
       "        <tr>\n",
       "            <td>Fantasía       </td> <td>           </td> <td>          </td> <td>70000            </td> <td>                        </td> <td>4.9                    </td>\n",
       "        </tr>\n",
       "        <tr>\n",
       "            <td>Ficción        </td> <td>           </td> <td>          </td> <td>38400            </td> <td>                        </td> <td>4.74                   </td>\n",
       "        </tr>\n",
       "        <tr>\n",
       "            <td>Romance        </td> <td>           </td> <td>          </td> <td>38000            </td> <td>                        </td> <td>4.6                    </td>\n",
       "        </tr>\n",
       "        <tr>\n",
       "            <td>Terror         </td> <td>           </td> <td>          </td> <td>35000            </td> <td>                        </td> <td>4.7                    </td>\n",
       "        </tr>\n",
       "    </tbody>\n",
       "</table>"
      ],
      "text/plain": [
       "Genero          | Titulo mean | Autor mean | Precio (COP) mean | Anio de Publicacion mean | Calificacion (1-5) mean\n",
       "Ciencia Ficción |             |            | 38500             |                          | 4.65\n",
       "Clásico         |             |            | 48400             |                          | 4.75\n",
       "Fantasía        |             |            | 70000             |                          | 4.9\n",
       "Ficción         |             |            | 38400             |                          | 4.74\n",
       "Romance         |             |            | 38000             |                          | 4.6\n",
       "Terror          |             |            | 35000             |                          | 4.7"
      ]
     },
     "execution_count": 222,
     "metadata": {},
     "output_type": "execute_result"
    }
   ],
   "source": [
    "libros.group(\"Genero\", np.mean)"
   ]
  },
  {
   "cell_type": "markdown",
   "id": "a7eec56d-3deb-4547-896d-973d180482b1",
   "metadata": {},
   "source": [
    " Veamos que tendriamos que hacer para hacer esa operacion"
   ]
  },
  {
   "cell_type": "code",
   "execution_count": 223,
   "id": "f0c04606-436e-459c-97ea-d3f1bb40213f",
   "metadata": {},
   "outputs": [
    {
     "data": {
      "text/plain": [
       "484000"
      ]
     },
     "execution_count": 223,
     "metadata": {},
     "output_type": "execute_result"
    }
   ],
   "source": [
    "libros.where(\"Genero\", are.equal_to(\"Clásico\")).column(\"Precio (COP)\").sum()"
   ]
  },
  {
   "cell_type": "code",
   "execution_count": null,
   "id": "22001ef5-3b8d-4940-84ba-7419e6559114",
   "metadata": {},
   "outputs": [],
   "source": []
  },
  {
   "cell_type": "code",
   "execution_count": 224,
   "id": "9f1c6409-e567-4f50-9fa2-b210187dbff2",
   "metadata": {},
   "outputs": [],
   "source": [
    "\n",
    "# Crear la tabla con más filas\n",
    "tabla_frutas = Table().with_columns(\n",
    "    'Fruta', np.array(['manzana', 'pera', 'manzana', 'fresa', 'pera', 'fresa', \n",
    "                       'banano', 'mango', 'kiwi', 'banano', 'mango', 'fresa', \n",
    "                       'kiwi', 'pera', 'banano', 'manzana', 'pera', 'fresa', \n",
    "                       'mango', 'manzana']),\n",
    "    'Color', np.array(['rojo', 'verde', 'verde', 'rojo', 'verde', 'rojo', \n",
    "                       'verde', 'naranja', 'verde', 'amarillo', 'naranja', 'rojo', \n",
    "                       'verde', 'verde', 'amarillo', 'rojo', 'verde', 'rojo', \n",
    "                       'naranja', 'rojo']),\n",
    "    'Precio', np.array([2500, 3500, 2500, 4000, 3500, 4000, \n",
    "                              1500, 3000, 4500, 1500, 3000, 4000, \n",
    "                              4500, 3500, 1500, 2500, 3500, 4000, \n",
    "                              3000, 2500])\n",
    ")"
   ]
  },
  {
   "cell_type": "code",
   "execution_count": 225,
   "id": "cca8d787-e092-4b6a-badc-5be31279f08f",
   "metadata": {},
   "outputs": [
    {
     "data": {
      "text/html": [
       "<table border=\"1\" class=\"dataframe\">\n",
       "    <thead>\n",
       "        <tr>\n",
       "            <th>Fruta</th> <th>Color</th> <th>Precio sum</th>\n",
       "        </tr>\n",
       "    </thead>\n",
       "    <tbody>\n",
       "        <tr>\n",
       "            <td>banano </td> <td>amarillo</td> <td>3000      </td>\n",
       "        </tr>\n",
       "        <tr>\n",
       "            <td>banano </td> <td>verde   </td> <td>1500      </td>\n",
       "        </tr>\n",
       "        <tr>\n",
       "            <td>fresa  </td> <td>rojo    </td> <td>16000     </td>\n",
       "        </tr>\n",
       "        <tr>\n",
       "            <td>kiwi   </td> <td>verde   </td> <td>9000      </td>\n",
       "        </tr>\n",
       "        <tr>\n",
       "            <td>mango  </td> <td>naranja </td> <td>9000      </td>\n",
       "        </tr>\n",
       "        <tr>\n",
       "            <td>manzana</td> <td>rojo    </td> <td>7500      </td>\n",
       "        </tr>\n",
       "        <tr>\n",
       "            <td>manzana</td> <td>verde   </td> <td>2500      </td>\n",
       "        </tr>\n",
       "        <tr>\n",
       "            <td>pera   </td> <td>verde   </td> <td>14000     </td>\n",
       "        </tr>\n",
       "    </tbody>\n",
       "</table>"
      ],
      "text/plain": [
       "Fruta   | Color    | Precio sum\n",
       "banano  | amarillo | 3000\n",
       "banano  | verde    | 1500\n",
       "fresa   | rojo     | 16000\n",
       "kiwi    | verde    | 9000\n",
       "mango   | naranja  | 9000\n",
       "manzana | rojo     | 7500\n",
       "manzana | verde    | 2500\n",
       "pera    | verde    | 14000"
      ]
     },
     "execution_count": 225,
     "metadata": {},
     "output_type": "execute_result"
    }
   ],
   "source": [
    "tabla_frutas.group([\"Fruta\", \"Color\"], np.sum)"
   ]
  },
  {
   "cell_type": "code",
   "execution_count": 226,
   "id": "6a4ac6c8-04e8-4ffa-8e65-79ab0c7223ff",
   "metadata": {},
   "outputs": [
    {
     "data": {
      "text/html": [
       "<table border=\"1\" class=\"dataframe\">\n",
       "    <thead>\n",
       "        <tr>\n",
       "            <th>Color</th> <th>banano</th> <th>fresa</th> <th>kiwi</th> <th>mango</th> <th>manzana</th> <th>pera</th>\n",
       "        </tr>\n",
       "    </thead>\n",
       "    <tbody>\n",
       "        <tr>\n",
       "            <td>amarillo</td> <td>2     </td> <td>0    </td> <td>0   </td> <td>0    </td> <td>0      </td> <td>0   </td>\n",
       "        </tr>\n",
       "        <tr>\n",
       "            <td>naranja </td> <td>0     </td> <td>0    </td> <td>0   </td> <td>3    </td> <td>0      </td> <td>0   </td>\n",
       "        </tr>\n",
       "        <tr>\n",
       "            <td>rojo    </td> <td>0     </td> <td>4    </td> <td>0   </td> <td>0    </td> <td>3      </td> <td>0   </td>\n",
       "        </tr>\n",
       "        <tr>\n",
       "            <td>verde   </td> <td>1     </td> <td>0    </td> <td>2   </td> <td>0    </td> <td>1      </td> <td>4   </td>\n",
       "        </tr>\n",
       "    </tbody>\n",
       "</table>"
      ],
      "text/plain": [
       "Color    | banano | fresa | kiwi | mango | manzana | pera\n",
       "amarillo | 2      | 0     | 0    | 0     | 0       | 0\n",
       "naranja  | 0      | 0     | 0    | 3     | 0       | 0\n",
       "rojo     | 0      | 4     | 0    | 0     | 3       | 0\n",
       "verde    | 1      | 0     | 2    | 0     | 1       | 4"
      ]
     },
     "execution_count": 226,
     "metadata": {},
     "output_type": "execute_result"
    }
   ],
   "source": [
    "tabla_frutas.pivot(\"Fruta\", \"Color\")"
   ]
  },
  {
   "cell_type": "code",
   "execution_count": 227,
   "id": "0c7519e0-3abd-4606-961c-d57890f091fa",
   "metadata": {},
   "outputs": [
    {
     "name": "stdout",
     "output_type": "stream",
     "text": [
      "lec08.ipynb           notable_ai_models.csv\n"
     ]
    }
   ],
   "source": [
    "!ls"
   ]
  },
  {
   "cell_type": "code",
   "execution_count": 228,
   "id": "2ef565af-fa0a-4f14-8cc9-60c2c9f6df14",
   "metadata": {},
   "outputs": [],
   "source": [
    "#ia_table = Table().read_table(\"notable_ai_models.csv\")"
   ]
  },
  {
   "cell_type": "code",
   "execution_count": 229,
   "id": "b7e96dc1-99f3-4c39-a9b6-920fdd4bbc77",
   "metadata": {},
   "outputs": [],
   "source": [
    "#ia_table.group(\"Domain\")"
   ]
  },
  {
   "cell_type": "code",
   "execution_count": 188,
   "id": "bf3807fe-dd72-4084-aeda-24c98b177866",
   "metadata": {},
   "outputs": [],
   "source": [
    "#ia_table"
   ]
  },
  {
   "cell_type": "code",
   "execution_count": null,
   "id": "f0aba365-e8bd-4618-a22b-885b7bb829a1",
   "metadata": {},
   "outputs": [],
   "source": []
  },
  {
   "cell_type": "code",
   "execution_count": null,
   "id": "56d09f3b-07ea-4629-b7de-20cd16af20f8",
   "metadata": {},
   "outputs": [],
   "source": []
  }
 ],
 "metadata": {
  "kernelspec": {
   "display_name": "Python 3 (ipykernel)",
   "language": "python",
   "name": "python3"
  },
  "language_info": {
   "codemirror_mode": {
    "name": "ipython",
    "version": 3
   },
   "file_extension": ".py",
   "mimetype": "text/x-python",
   "name": "python",
   "nbconvert_exporter": "python",
   "pygments_lexer": "ipython3",
   "version": "3.10.14"
  }
 },
 "nbformat": 4,
 "nbformat_minor": 5
}
